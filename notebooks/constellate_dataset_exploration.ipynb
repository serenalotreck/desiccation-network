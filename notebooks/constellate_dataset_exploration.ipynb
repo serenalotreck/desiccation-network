{
 "cells": [
  {
   "cell_type": "markdown",
   "metadata": {},
   "source": [
    "# Constellate Dataset Exploration\n",
    "Constellate, a project from JSTOR, alows you to create datasets based on searched of the JSTOR database, and save the metadata of thee datasets. Here, we'll explore the output of two datasets, for the search terms \"desiccation tolerance\" and \"anhydrobiosis\", to see if the metadata is suitable for generating citation networks."
   ]
  },
  {
   "cell_type": "code",
   "execution_count": 1,
   "metadata": {},
   "outputs": [],
   "source": [
    "import pandas as pd"
   ]
  },
  {
   "cell_type": "code",
   "execution_count": 2,
   "metadata": {},
   "outputs": [],
   "source": [
    "desiccation = pd.read_csv('../data/constellate/desiccation-tolerance_5fde26c1-bdd1-e1df-49fb-af597eef33ed-metadata.csv')\n",
    "anhydro = pd.read_csv('../data/constellate/anhydrobiosis_e3bf7af6-9228-a7f9-5867-a5fe741b06dd-metadata.csv')"
   ]
  },
  {
   "cell_type": "code",
   "execution_count": 4,
   "metadata": {},
   "outputs": [
    {
     "data": {
      "text/plain": [
       "Index(['id', 'title', 'isPartOf', 'publicationYear', 'doi', 'docType',\n",
       "       'docSubType', 'provider', 'collection', 'datePublished', 'issueNumber',\n",
       "       'volumeNumber', 'url', 'creator', 'publisher', 'language', 'pageStart',\n",
       "       'pageEnd', 'placeOfPublication', 'keyphrase', 'wordCount', 'pageCount',\n",
       "       'outputFormat'],\n",
       "      dtype='object')"
      ]
     },
     "execution_count": 4,
     "metadata": {},
     "output_type": "execute_result"
    }
   ],
   "source": [
    "desiccation.columns"
   ]
  },
  {
   "cell_type": "code",
   "execution_count": 6,
   "metadata": {},
   "outputs": [
    {
     "data": {
      "text/plain": [
       "0        NaN\n",
       "1        NaN\n",
       "2        NaN\n",
       "3        NaN\n",
       "4        NaN\n",
       "        ... \n",
       "24995    NaN\n",
       "24996    NaN\n",
       "24997    NaN\n",
       "24998    NaN\n",
       "24999    NaN\n",
       "Name: collection, Length: 25000, dtype: object"
      ]
     },
     "execution_count": 6,
     "metadata": {},
     "output_type": "execute_result"
    }
   ],
   "source": [
    "desiccation.collection"
   ]
  },
  {
   "cell_type": "code",
   "execution_count": null,
   "metadata": {},
   "outputs": [],
   "source": []
  }
 ],
 "metadata": {
  "kernelspec": {
   "display_name": "graphs",
   "language": "python",
   "name": "graphs"
  },
  "language_info": {
   "codemirror_mode": {
    "name": "ipython",
    "version": 3
   },
   "file_extension": ".py",
   "mimetype": "text/x-python",
   "name": "python",
   "nbconvert_exporter": "python",
   "pygments_lexer": "ipython3",
   "version": "3.10.12"
  }
 },
 "nbformat": 4,
 "nbformat_minor": 2
}
