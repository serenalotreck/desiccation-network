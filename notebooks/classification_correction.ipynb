{
 "cells": [
  {
   "cell_type": "markdown",
   "metadata": {},
   "source": [
    "# Classification correction\n",
    "Our classification algorithm isn't perfect, so we manually corrected the classifications. Here, we'll merge the corrections with the graph, and quantify the mistakes."
   ]
  },
  {
   "cell_type": "code",
   "execution_count": 13,
   "metadata": {},
   "outputs": [],
   "source": [
    "import pandas as pd\n",
    "import networkx as nx\n",
    "from sklearn.metrics import f1_score\n",
    "from collections import defaultdict\n",
    "import jsonlines"
   ]
  },
  {
   "cell_type": "markdown",
   "metadata": {},
   "source": [
    "## Read in the data"
   ]
  },
  {
   "cell_type": "code",
   "execution_count": 49,
   "metadata": {},
   "outputs": [],
   "source": [
    "debugged_graph = nx.read_graphml('../data/citation_network/core_collection_destol_or_anhydro_FILTERED_MAIN_ONLY_classified_network_isolates_cleaned_11Mar2023.graphml')"
   ]
  },
  {
   "cell_type": "code",
   "execution_count": 15,
   "metadata": {},
   "outputs": [
    {
     "data": {
      "text/html": [
       "<div>\n",
       "<style scoped>\n",
       "    .dataframe tbody tr th:only-of-type {\n",
       "        vertical-align: middle;\n",
       "    }\n",
       "\n",
       "    .dataframe tbody tr th {\n",
       "        vertical-align: top;\n",
       "    }\n",
       "\n",
       "    .dataframe thead th {\n",
       "        text-align: right;\n",
       "    }\n",
       "</style>\n",
       "<table border=\"1\" class=\"dataframe\">\n",
       "  <thead>\n",
       "    <tr style=\"text-align: right;\">\n",
       "      <th></th>\n",
       "      <th>UID</th>\n",
       "      <th>title</th>\n",
       "      <th>abstract</th>\n",
       "      <th>study_system</th>\n",
       "    </tr>\n",
       "  </thead>\n",
       "  <tbody>\n",
       "    <tr>\n",
       "      <th>0</th>\n",
       "      <td>WOS:A1990ET59600010</td>\n",
       "      <td>RESPONSE OF 4 SORGHUM LINES TO MID-SEASON DROU...</td>\n",
       "      <td>Four sorghum (Sorghum bicolor L. Moench) lines...</td>\n",
       "      <td>Plant</td>\n",
       "    </tr>\n",
       "    <tr>\n",
       "      <th>1</th>\n",
       "      <td>WOS:000244317000009</td>\n",
       "      <td>Effects of abscisic acid on growth and dehydra...</td>\n",
       "      <td>Cynanchum komarovii is well adapted to hot and...</td>\n",
       "      <td>Plant</td>\n",
       "    </tr>\n",
       "    <tr>\n",
       "      <th>2</th>\n",
       "      <td>WOS:000186691200001</td>\n",
       "      <td>LEAping to conclusions: A computational reanal...</td>\n",
       "      <td>Background: The late embryogenesis abundant (L...</td>\n",
       "      <td>Plant</td>\n",
       "    </tr>\n",
       "    <tr>\n",
       "      <th>3</th>\n",
       "      <td>WOS:000178654700046</td>\n",
       "      <td>Early salt stress effects on the changes in ch...</td>\n",
       "      <td>A technique based on Fourier transform infrare...</td>\n",
       "      <td>Plant</td>\n",
       "    </tr>\n",
       "    <tr>\n",
       "      <th>4</th>\n",
       "      <td>WOS:A1997XH01700004</td>\n",
       "      <td>Approaches to elucidate the basis of desiccati...</td>\n",
       "      <td>Plants undergo a series of physiological, bioc...</td>\n",
       "      <td>Plant</td>\n",
       "    </tr>\n",
       "  </tbody>\n",
       "</table>\n",
       "</div>"
      ],
      "text/plain": [
       "                   UID                                              title  \\\n",
       "0  WOS:A1990ET59600010  RESPONSE OF 4 SORGHUM LINES TO MID-SEASON DROU...   \n",
       "1  WOS:000244317000009  Effects of abscisic acid on growth and dehydra...   \n",
       "2  WOS:000186691200001  LEAping to conclusions: A computational reanal...   \n",
       "3  WOS:000178654700046  Early salt stress effects on the changes in ch...   \n",
       "4  WOS:A1997XH01700004  Approaches to elucidate the basis of desiccati...   \n",
       "\n",
       "                                            abstract study_system  \n",
       "0  Four sorghum (Sorghum bicolor L. Moench) lines...        Plant  \n",
       "1  Cynanchum komarovii is well adapted to hot and...        Plant  \n",
       "2  Background: The late embryogenesis abundant (L...        Plant  \n",
       "3  A technique based on Fourier transform infrare...        Plant  \n",
       "4  Plants undergo a series of physiological, bioc...        Plant  "
      ]
     },
     "execution_count": 15,
     "metadata": {},
     "output_type": "execute_result"
    }
   ],
   "source": [
    "original = pd.read_csv('../data/citation_network/DEBUGGED_automatic_classifications_core_collection_destol_or_anhydro.csv')\n",
    "original.head()"
   ]
  },
  {
   "cell_type": "markdown",
   "metadata": {},
   "source": [
    "Note that we adjusted the classification code to remove isolate nodes when generating the graph and re-ran the algorithm to get the graph displayed in `original`. We did this after passing the classifications from the previous iteration to the first annotator; so there are ~400 rows missing in `original` that had their classifications corrected by the annotators. Let's do a quick common-sense check to make sure nothing about the `original` annotations is meaningfully different from those provided to the annotators beyond the missing rows:"
   ]
  },
  {
   "cell_type": "code",
   "execution_count": 51,
   "metadata": {},
   "outputs": [
    {
     "data": {
      "text/plain": [
       "(5626, 4)"
      ]
     },
     "execution_count": 51,
     "metadata": {},
     "output_type": "execute_result"
    }
   ],
   "source": [
    "provided_csv = pd.read_csv('../data/citation_network/DEBUGGED_automatic_classifications_core_collection_destol_or_anhydro.csv')\n",
    "provided_csv.shape"
   ]
  },
  {
   "cell_type": "code",
   "execution_count": 53,
   "metadata": {},
   "outputs": [
    {
     "data": {
      "text/html": [
       "<div>\n",
       "<style scoped>\n",
       "    .dataframe tbody tr th:only-of-type {\n",
       "        vertical-align: middle;\n",
       "    }\n",
       "\n",
       "    .dataframe tbody tr th {\n",
       "        vertical-align: top;\n",
       "    }\n",
       "\n",
       "    .dataframe thead th {\n",
       "        text-align: right;\n",
       "    }\n",
       "</style>\n",
       "<table border=\"1\" class=\"dataframe\">\n",
       "  <thead>\n",
       "    <tr style=\"text-align: right;\">\n",
       "      <th></th>\n",
       "      <th>UID</th>\n",
       "      <th>title</th>\n",
       "      <th>abstract</th>\n",
       "      <th>study_system_provided</th>\n",
       "      <th>study_system_original</th>\n",
       "    </tr>\n",
       "  </thead>\n",
       "  <tbody>\n",
       "  </tbody>\n",
       "</table>\n",
       "</div>"
      ],
      "text/plain": [
       "Empty DataFrame\n",
       "Columns: [UID, title, abstract, study_system_provided, study_system_original]\n",
       "Index: []"
      ]
     },
     "execution_count": 53,
     "metadata": {},
     "output_type": "execute_result"
    }
   ],
   "source": [
    "orig_compare = provided_csv.merge(original, on=['UID', 'title', 'abstract'], suffixes=('_provided', '_original'))\n",
    "orig_compare[orig_compare['study_system_provided'] != orig_compare['study_system_original']]"
   ]
  },
  {
   "cell_type": "markdown",
   "metadata": {},
   "source": [
    "Perfect, nothing changed except for dropping those rows. We can now move forward, and the extra rows from the manual dataframes will be dropped when the information is merged onto the graph."
   ]
  },
  {
   "cell_type": "code",
   "execution_count": 54,
   "metadata": {},
   "outputs": [
    {
     "data": {
      "text/html": [
       "<div>\n",
       "<style scoped>\n",
       "    .dataframe tbody tr th:only-of-type {\n",
       "        vertical-align: middle;\n",
       "    }\n",
       "\n",
       "    .dataframe tbody tr th {\n",
       "        vertical-align: top;\n",
       "    }\n",
       "\n",
       "    .dataframe thead th {\n",
       "        text-align: right;\n",
       "    }\n",
       "</style>\n",
       "<table border=\"1\" class=\"dataframe\">\n",
       "  <thead>\n",
       "    <tr style=\"text-align: right;\">\n",
       "      <th></th>\n",
       "      <th>UID</th>\n",
       "      <th>title</th>\n",
       "      <th>abstract</th>\n",
       "      <th>study_system</th>\n",
       "    </tr>\n",
       "  </thead>\n",
       "  <tbody>\n",
       "    <tr>\n",
       "      <th>0</th>\n",
       "      <td>WOS:000249421700004</td>\n",
       "      <td>Phenotypic plasticity mediates climate change ...</td>\n",
       "      <td>Synergies between global change and biological...</td>\n",
       "      <td>Animal</td>\n",
       "    </tr>\n",
       "    <tr>\n",
       "      <th>1</th>\n",
       "      <td>WOS:000189080600003</td>\n",
       "      <td>The importance of cuticular permeability, osmo...</td>\n",
       "      <td>Euedaphic collembolans have recently been show...</td>\n",
       "      <td>Animal</td>\n",
       "    </tr>\n",
       "    <tr>\n",
       "      <th>2</th>\n",
       "      <td>WOS:A1993LX94500007</td>\n",
       "      <td>GEOGRAPHICAL VARIATION IN THE ACCLIMATION RESP...</td>\n",
       "      <td>Populations may adapt to climatic stresses by ...</td>\n",
       "      <td>Animal</td>\n",
       "    </tr>\n",
       "    <tr>\n",
       "      <th>3</th>\n",
       "      <td>WOS:000182189500050</td>\n",
       "      <td>Transition from natively unfolded to folded st...</td>\n",
       "      <td>Late embryogenesis abundant (LEA) proteins are...</td>\n",
       "      <td>Animal</td>\n",
       "    </tr>\n",
       "    <tr>\n",
       "      <th>4</th>\n",
       "      <td>WOS:000170973900012</td>\n",
       "      <td>Mechanisms of plant desiccation tolerance</td>\n",
       "      <td>Anhydrobiosis ('life without water') is the re...</td>\n",
       "      <td>Animal</td>\n",
       "    </tr>\n",
       "  </tbody>\n",
       "</table>\n",
       "</div>"
      ],
      "text/plain": [
       "                   UID                                              title  \\\n",
       "0  WOS:000249421700004  Phenotypic plasticity mediates climate change ...   \n",
       "1  WOS:000189080600003  The importance of cuticular permeability, osmo...   \n",
       "2  WOS:A1993LX94500007  GEOGRAPHICAL VARIATION IN THE ACCLIMATION RESP...   \n",
       "3  WOS:000182189500050  Transition from natively unfolded to folded st...   \n",
       "4  WOS:000170973900012          Mechanisms of plant desiccation tolerance   \n",
       "\n",
       "                                            abstract study_system  \n",
       "0  Synergies between global change and biological...       Animal  \n",
       "1  Euedaphic collembolans have recently been show...       Animal  \n",
       "2  Populations may adapt to climatic stresses by ...       Animal  \n",
       "3  Late embryogenesis abundant (LEA) proteins are...       Animal  \n",
       "4  Anhydrobiosis ('life without water') is the re...       Animal  "
      ]
     },
     "execution_count": 54,
     "metadata": {},
     "output_type": "execute_result"
    }
   ],
   "source": [
    "manual_RV = pd.read_csv('../data/citation_network/DEBUGGED_automatic_classifications_core_collection_destol_or_anhydro_RV_manually_corrected.csv')\n",
    "manual_RV.head()"
   ]
  },
  {
   "cell_type": "code",
   "execution_count": 55,
   "metadata": {},
   "outputs": [
    {
     "data": {
      "text/html": [
       "<div>\n",
       "<style scoped>\n",
       "    .dataframe tbody tr th:only-of-type {\n",
       "        vertical-align: middle;\n",
       "    }\n",
       "\n",
       "    .dataframe tbody tr th {\n",
       "        vertical-align: top;\n",
       "    }\n",
       "\n",
       "    .dataframe thead th {\n",
       "        text-align: right;\n",
       "    }\n",
       "</style>\n",
       "<table border=\"1\" class=\"dataframe\">\n",
       "  <thead>\n",
       "    <tr style=\"text-align: right;\">\n",
       "      <th></th>\n",
       "      <th>UID</th>\n",
       "      <th>title</th>\n",
       "      <th>abstract</th>\n",
       "      <th>study_system</th>\n",
       "    </tr>\n",
       "  </thead>\n",
       "  <tbody>\n",
       "    <tr>\n",
       "      <th>0</th>\n",
       "      <td>WOS:000249421700004</td>\n",
       "      <td>Phenotypic plasticity mediates climate change ...</td>\n",
       "      <td>Synergies between global change and biological...</td>\n",
       "      <td>Animal</td>\n",
       "    </tr>\n",
       "    <tr>\n",
       "      <th>1</th>\n",
       "      <td>WOS:000189080600003</td>\n",
       "      <td>The importance of cuticular permeability, osmo...</td>\n",
       "      <td>Euedaphic collembolans have recently been show...</td>\n",
       "      <td>Animal</td>\n",
       "    </tr>\n",
       "    <tr>\n",
       "      <th>2</th>\n",
       "      <td>WOS:A1993LX94500007</td>\n",
       "      <td>GEOGRAPHICAL VARIATION IN THE ACCLIMATION RESP...</td>\n",
       "      <td>Populations may adapt to climatic stresses by ...</td>\n",
       "      <td>Animal</td>\n",
       "    </tr>\n",
       "    <tr>\n",
       "      <th>3</th>\n",
       "      <td>WOS:000182189500050</td>\n",
       "      <td>Transition from natively unfolded to folded st...</td>\n",
       "      <td>Late embryogenesis abundant (LEA) proteins are...</td>\n",
       "      <td>Animal</td>\n",
       "    </tr>\n",
       "    <tr>\n",
       "      <th>4</th>\n",
       "      <td>WOS:000170973900012</td>\n",
       "      <td>Mechanisms of plant desiccation tolerance</td>\n",
       "      <td>Anhydrobiosis ('life without water') is the re...</td>\n",
       "      <td>Plant</td>\n",
       "    </tr>\n",
       "  </tbody>\n",
       "</table>\n",
       "</div>"
      ],
      "text/plain": [
       "                   UID                                              title  \\\n",
       "0  WOS:000249421700004  Phenotypic plasticity mediates climate change ...   \n",
       "1  WOS:000189080600003  The importance of cuticular permeability, osmo...   \n",
       "2  WOS:A1993LX94500007  GEOGRAPHICAL VARIATION IN THE ACCLIMATION RESP...   \n",
       "3  WOS:000182189500050  Transition from natively unfolded to folded st...   \n",
       "4  WOS:000170973900012          Mechanisms of plant desiccation tolerance   \n",
       "\n",
       "                                            abstract study_system  \n",
       "0  Synergies between global change and biological...       Animal  \n",
       "1  Euedaphic collembolans have recently been show...       Animal  \n",
       "2  Populations may adapt to climatic stresses by ...       Animal  \n",
       "3  Late embryogenesis abundant (LEA) proteins are...       Animal  \n",
       "4  Anhydrobiosis ('life without water') is the re...        Plant  "
      ]
     },
     "execution_count": 55,
     "metadata": {},
     "output_type": "execute_result"
    }
   ],
   "source": [
    "manual_SL = pd.read_csv('../data/citation_network/DEBUGGED_automatic_classifications_core_collection_destol_or_anhydro_SL_manually_corrected_29Mar2024.csv')\n",
    "manual_SL.head()"
   ]
  },
  {
   "cell_type": "markdown",
   "metadata": {},
   "source": [
    "I went back over the first set of manual corrections to make further adjustments, so let's do a quick common-sense check on the second set of manual corrections:"
   ]
  },
  {
   "cell_type": "code",
   "execution_count": 56,
   "metadata": {},
   "outputs": [
    {
     "data": {
      "text/html": [
       "<div>\n",
       "<style scoped>\n",
       "    .dataframe tbody tr th:only-of-type {\n",
       "        vertical-align: middle;\n",
       "    }\n",
       "\n",
       "    .dataframe tbody tr th {\n",
       "        vertical-align: top;\n",
       "    }\n",
       "\n",
       "    .dataframe thead th {\n",
       "        text-align: right;\n",
       "    }\n",
       "</style>\n",
       "<table border=\"1\" class=\"dataframe\">\n",
       "  <thead>\n",
       "    <tr style=\"text-align: right;\">\n",
       "      <th></th>\n",
       "      <th>UID</th>\n",
       "      <th>study_system_RV</th>\n",
       "      <th>title</th>\n",
       "      <th>abstract</th>\n",
       "      <th>study_system_SL</th>\n",
       "    </tr>\n",
       "  </thead>\n",
       "  <tbody>\n",
       "    <tr>\n",
       "      <th>4</th>\n",
       "      <td>WOS:000170973900012</td>\n",
       "      <td>Animal</td>\n",
       "      <td>Mechanisms of plant desiccation tolerance</td>\n",
       "      <td>Anhydrobiosis ('life without water') is the re...</td>\n",
       "      <td>Plant</td>\n",
       "    </tr>\n",
       "    <tr>\n",
       "      <th>5</th>\n",
       "      <td>WOS:000244031100003</td>\n",
       "      <td>Animal</td>\n",
       "      <td>Modelling the effects of microclimate on bean ...</td>\n",
       "      <td>Bean seed storage ability is of major interest...</td>\n",
       "      <td>Plant</td>\n",
       "    </tr>\n",
       "    <tr>\n",
       "      <th>23</th>\n",
       "      <td>WOS:000075551200015</td>\n",
       "      <td>Animal</td>\n",
       "      <td>Methods for dehydration-tolerance: Depression ...</td>\n",
       "      <td>Anhydrobiosis, or life without water, is the r...</td>\n",
       "      <td>NOCLASS</td>\n",
       "    </tr>\n",
       "    <tr>\n",
       "      <th>38</th>\n",
       "      <td>WOS:000276030700002</td>\n",
       "      <td>Animal</td>\n",
       "      <td>Effect of storage temperature on spore viabili...</td>\n",
       "      <td>To effectively preserve the vulnerable species...</td>\n",
       "      <td>Plant</td>\n",
       "    </tr>\n",
       "    <tr>\n",
       "      <th>63</th>\n",
       "      <td>WOS:000288553000008</td>\n",
       "      <td>Animal</td>\n",
       "      <td>Tolerance to oxidative stress induced by desic...</td>\n",
       "      <td>Unravelling the mechanisms underlying desiccat...</td>\n",
       "      <td>Plant</td>\n",
       "    </tr>\n",
       "    <tr>\n",
       "      <th>...</th>\n",
       "      <td>...</td>\n",
       "      <td>...</td>\n",
       "      <td>...</td>\n",
       "      <td>...</td>\n",
       "      <td>...</td>\n",
       "    </tr>\n",
       "    <tr>\n",
       "      <th>5563</th>\n",
       "      <td>WOS:000446307800006</td>\n",
       "      <td>Plant</td>\n",
       "      <td>Life in Suspended Animation: Role of Chaperone...</td>\n",
       "      <td>When confronted by environmental stress, organ...</td>\n",
       "      <td>Animal</td>\n",
       "    </tr>\n",
       "    <tr>\n",
       "      <th>5572</th>\n",
       "      <td>WOS:000399420300015</td>\n",
       "      <td>Plant</td>\n",
       "      <td>Dry Preservation of Spermatozoa: Consideration...</td>\n",
       "      <td>The current gold standard for sperm preservati...</td>\n",
       "      <td>Animal</td>\n",
       "    </tr>\n",
       "    <tr>\n",
       "      <th>5589</th>\n",
       "      <td>WOS:000525751200012</td>\n",
       "      <td>Plant</td>\n",
       "      <td>Survivorship of geographic Pomacea canaliculat...</td>\n",
       "      <td>Pomacea canaliculata, a freshwater snail from ...</td>\n",
       "      <td>Animal</td>\n",
       "    </tr>\n",
       "    <tr>\n",
       "      <th>5619</th>\n",
       "      <td>WOS:000341348500013</td>\n",
       "      <td>Plant</td>\n",
       "      <td>Combination of synchrotron radiation-based Fou...</td>\n",
       "      <td>Understanding the spatial heterogeneity within...</td>\n",
       "      <td>Microbe</td>\n",
       "    </tr>\n",
       "    <tr>\n",
       "      <th>5620</th>\n",
       "      <td>WOS:000457618800009</td>\n",
       "      <td>Plant</td>\n",
       "      <td>Temporal clustering of extreme climate events ...</td>\n",
       "      <td>Research on regime shifts has focused primaril...</td>\n",
       "      <td>Microbe</td>\n",
       "    </tr>\n",
       "  </tbody>\n",
       "</table>\n",
       "<p>334 rows × 5 columns</p>\n",
       "</div>"
      ],
      "text/plain": [
       "                      UID study_system_RV  \\\n",
       "4     WOS:000170973900012          Animal   \n",
       "5     WOS:000244031100003          Animal   \n",
       "23    WOS:000075551200015          Animal   \n",
       "38    WOS:000276030700002          Animal   \n",
       "63    WOS:000288553000008          Animal   \n",
       "...                   ...             ...   \n",
       "5563  WOS:000446307800006           Plant   \n",
       "5572  WOS:000399420300015           Plant   \n",
       "5589  WOS:000525751200012           Plant   \n",
       "5619  WOS:000341348500013           Plant   \n",
       "5620  WOS:000457618800009           Plant   \n",
       "\n",
       "                                                  title  \\\n",
       "4             Mechanisms of plant desiccation tolerance   \n",
       "5     Modelling the effects of microclimate on bean ...   \n",
       "23    Methods for dehydration-tolerance: Depression ...   \n",
       "38    Effect of storage temperature on spore viabili...   \n",
       "63    Tolerance to oxidative stress induced by desic...   \n",
       "...                                                 ...   \n",
       "5563  Life in Suspended Animation: Role of Chaperone...   \n",
       "5572  Dry Preservation of Spermatozoa: Consideration...   \n",
       "5589  Survivorship of geographic Pomacea canaliculat...   \n",
       "5619  Combination of synchrotron radiation-based Fou...   \n",
       "5620  Temporal clustering of extreme climate events ...   \n",
       "\n",
       "                                               abstract study_system_SL  \n",
       "4     Anhydrobiosis ('life without water') is the re...           Plant  \n",
       "5     Bean seed storage ability is of major interest...           Plant  \n",
       "23    Anhydrobiosis, or life without water, is the r...         NOCLASS  \n",
       "38    To effectively preserve the vulnerable species...           Plant  \n",
       "63    Unravelling the mechanisms underlying desiccat...           Plant  \n",
       "...                                                 ...             ...  \n",
       "5563  When confronted by environmental stress, organ...          Animal  \n",
       "5572  The current gold standard for sperm preservati...          Animal  \n",
       "5589  Pomacea canaliculata, a freshwater snail from ...          Animal  \n",
       "5619  Understanding the spatial heterogeneity within...         Microbe  \n",
       "5620  Research on regime shifts has focused primaril...         Microbe  \n",
       "\n",
       "[334 rows x 5 columns]"
      ]
     },
     "execution_count": 56,
     "metadata": {},
     "output_type": "execute_result"
    }
   ],
   "source": [
    "manual_v_manual = manual_RV[['UID', 'study_system', 'title', 'abstract']].merge(manual_SL[['UID', 'study_system']], on='UID', suffixes=('_RV', '_SL'))\n",
    "manual_v_manual[manual_v_manual['study_system_RV'] != manual_v_manual['study_system_SL']]"
   ]
  },
  {
   "cell_type": "markdown",
   "metadata": {},
   "source": [
    "Looks good! We'll move forward using the secondarily reviewed corrections (SL)."
   ]
  },
  {
   "cell_type": "code",
   "execution_count": 57,
   "metadata": {},
   "outputs": [],
   "source": [
    "comparison = original[['UID', 'study_system', 'title', 'abstract']].merge(manual_SL[['UID', 'study_system']], on='UID', suffixes=('_original', '_manual'))"
   ]
  },
  {
   "cell_type": "code",
   "execution_count": 58,
   "metadata": {},
   "outputs": [
    {
     "data": {
      "text/html": [
       "<div>\n",
       "<style scoped>\n",
       "    .dataframe tbody tr th:only-of-type {\n",
       "        vertical-align: middle;\n",
       "    }\n",
       "\n",
       "    .dataframe tbody tr th {\n",
       "        vertical-align: top;\n",
       "    }\n",
       "\n",
       "    .dataframe thead th {\n",
       "        text-align: right;\n",
       "    }\n",
       "</style>\n",
       "<table border=\"1\" class=\"dataframe\">\n",
       "  <thead>\n",
       "    <tr style=\"text-align: right;\">\n",
       "      <th></th>\n",
       "      <th>UID</th>\n",
       "      <th>study_system_original</th>\n",
       "      <th>title</th>\n",
       "      <th>abstract</th>\n",
       "      <th>study_system_manual</th>\n",
       "    </tr>\n",
       "  </thead>\n",
       "  <tbody>\n",
       "    <tr>\n",
       "      <th>0</th>\n",
       "      <td>WOS:A1990ET59600010</td>\n",
       "      <td>Plant</td>\n",
       "      <td>RESPONSE OF 4 SORGHUM LINES TO MID-SEASON DROU...</td>\n",
       "      <td>Four sorghum (Sorghum bicolor L. Moench) lines...</td>\n",
       "      <td>Plant</td>\n",
       "    </tr>\n",
       "    <tr>\n",
       "      <th>1</th>\n",
       "      <td>WOS:000244317000009</td>\n",
       "      <td>Plant</td>\n",
       "      <td>Effects of abscisic acid on growth and dehydra...</td>\n",
       "      <td>Cynanchum komarovii is well adapted to hot and...</td>\n",
       "      <td>Plant</td>\n",
       "    </tr>\n",
       "    <tr>\n",
       "      <th>2</th>\n",
       "      <td>WOS:000186691200001</td>\n",
       "      <td>Plant</td>\n",
       "      <td>LEAping to conclusions: A computational reanal...</td>\n",
       "      <td>Background: The late embryogenesis abundant (L...</td>\n",
       "      <td>NOCLASS</td>\n",
       "    </tr>\n",
       "    <tr>\n",
       "      <th>3</th>\n",
       "      <td>WOS:000178654700046</td>\n",
       "      <td>Plant</td>\n",
       "      <td>Early salt stress effects on the changes in ch...</td>\n",
       "      <td>A technique based on Fourier transform infrare...</td>\n",
       "      <td>Plant</td>\n",
       "    </tr>\n",
       "    <tr>\n",
       "      <th>4</th>\n",
       "      <td>WOS:A1997XH01700004</td>\n",
       "      <td>Plant</td>\n",
       "      <td>Approaches to elucidate the basis of desiccati...</td>\n",
       "      <td>Plants undergo a series of physiological, bioc...</td>\n",
       "      <td>Plant</td>\n",
       "    </tr>\n",
       "  </tbody>\n",
       "</table>\n",
       "</div>"
      ],
      "text/plain": [
       "                   UID study_system_original  \\\n",
       "0  WOS:A1990ET59600010                 Plant   \n",
       "1  WOS:000244317000009                 Plant   \n",
       "2  WOS:000186691200001                 Plant   \n",
       "3  WOS:000178654700046                 Plant   \n",
       "4  WOS:A1997XH01700004                 Plant   \n",
       "\n",
       "                                               title  \\\n",
       "0  RESPONSE OF 4 SORGHUM LINES TO MID-SEASON DROU...   \n",
       "1  Effects of abscisic acid on growth and dehydra...   \n",
       "2  LEAping to conclusions: A computational reanal...   \n",
       "3  Early salt stress effects on the changes in ch...   \n",
       "4  Approaches to elucidate the basis of desiccati...   \n",
       "\n",
       "                                            abstract study_system_manual  \n",
       "0  Four sorghum (Sorghum bicolor L. Moench) lines...               Plant  \n",
       "1  Cynanchum komarovii is well adapted to hot and...               Plant  \n",
       "2  Background: The late embryogenesis abundant (L...             NOCLASS  \n",
       "3  A technique based on Fourier transform infrare...               Plant  \n",
       "4  Plants undergo a series of physiological, bioc...               Plant  "
      ]
     },
     "execution_count": 58,
     "metadata": {},
     "output_type": "execute_result"
    }
   ],
   "source": [
    "comparison.head()"
   ]
  },
  {
   "cell_type": "code",
   "execution_count": 59,
   "metadata": {},
   "outputs": [
    {
     "data": {
      "text/html": [
       "<div>\n",
       "<style scoped>\n",
       "    .dataframe tbody tr th:only-of-type {\n",
       "        vertical-align: middle;\n",
       "    }\n",
       "\n",
       "    .dataframe tbody tr th {\n",
       "        vertical-align: top;\n",
       "    }\n",
       "\n",
       "    .dataframe thead th {\n",
       "        text-align: right;\n",
       "    }\n",
       "</style>\n",
       "<table border=\"1\" class=\"dataframe\">\n",
       "  <thead>\n",
       "    <tr style=\"text-align: right;\">\n",
       "      <th></th>\n",
       "      <th>UID</th>\n",
       "      <th>study_system_original</th>\n",
       "      <th>title</th>\n",
       "      <th>abstract</th>\n",
       "      <th>study_system_manual</th>\n",
       "    </tr>\n",
       "  </thead>\n",
       "  <tbody>\n",
       "    <tr>\n",
       "      <th>2</th>\n",
       "      <td>WOS:000186691200001</td>\n",
       "      <td>Plant</td>\n",
       "      <td>LEAping to conclusions: A computational reanal...</td>\n",
       "      <td>Background: The late embryogenesis abundant (L...</td>\n",
       "      <td>NOCLASS</td>\n",
       "    </tr>\n",
       "    <tr>\n",
       "      <th>28</th>\n",
       "      <td>WOS:000170973900012</td>\n",
       "      <td>Animal</td>\n",
       "      <td>Mechanisms of plant desiccation tolerance</td>\n",
       "      <td>Anhydrobiosis ('life without water') is the re...</td>\n",
       "      <td>Plant</td>\n",
       "    </tr>\n",
       "    <tr>\n",
       "      <th>33</th>\n",
       "      <td>WOS:000244031100003</td>\n",
       "      <td>Animal</td>\n",
       "      <td>Modelling the effects of microclimate on bean ...</td>\n",
       "      <td>Bean seed storage ability is of major interest...</td>\n",
       "      <td>Plant</td>\n",
       "    </tr>\n",
       "    <tr>\n",
       "      <th>34</th>\n",
       "      <td>WOS:000169703200006</td>\n",
       "      <td>Animal</td>\n",
       "      <td>Changes in oligosaccharide content and antioxi...</td>\n",
       "      <td>Seeds of bean (Phaseolos vulgaris cv. Vernel) ...</td>\n",
       "      <td>Plant</td>\n",
       "    </tr>\n",
       "    <tr>\n",
       "      <th>39</th>\n",
       "      <td>WOS:000087110100001</td>\n",
       "      <td>NOCLASS</td>\n",
       "      <td>Dehydration in dormant insects</td>\n",
       "      <td>Many of the mechanisms used by active insects ...</td>\n",
       "      <td>Animal</td>\n",
       "    </tr>\n",
       "    <tr>\n",
       "      <th>...</th>\n",
       "      <td>...</td>\n",
       "      <td>...</td>\n",
       "      <td>...</td>\n",
       "      <td>...</td>\n",
       "      <td>...</td>\n",
       "    </tr>\n",
       "    <tr>\n",
       "      <th>5598</th>\n",
       "      <td>WOS:000296681200006</td>\n",
       "      <td>NOCLASS</td>\n",
       "      <td>MEDIATED TREHALOSE UN-LOADING FOR REDUCED ERYT...</td>\n",
       "      <td>Recently, high concentrations of intracellular...</td>\n",
       "      <td>Animal</td>\n",
       "    </tr>\n",
       "    <tr>\n",
       "      <th>5612</th>\n",
       "      <td>WOS:000341348500013</td>\n",
       "      <td>Plant</td>\n",
       "      <td>Combination of synchrotron radiation-based Fou...</td>\n",
       "      <td>Understanding the spatial heterogeneity within...</td>\n",
       "      <td>Microbe</td>\n",
       "    </tr>\n",
       "    <tr>\n",
       "      <th>5615</th>\n",
       "      <td>WOS:000455747900024</td>\n",
       "      <td>Fungi</td>\n",
       "      <td>Plasticity of a holobiont: desiccation induces...</td>\n",
       "      <td>The role of host-associated microbiota in endu...</td>\n",
       "      <td>Microbe</td>\n",
       "    </tr>\n",
       "    <tr>\n",
       "      <th>5618</th>\n",
       "      <td>WOS:000457618800009</td>\n",
       "      <td>Plant</td>\n",
       "      <td>Temporal clustering of extreme climate events ...</td>\n",
       "      <td>Research on regime shifts has focused primaril...</td>\n",
       "      <td>Microbe</td>\n",
       "    </tr>\n",
       "    <tr>\n",
       "      <th>5624</th>\n",
       "      <td>WOS:000318169900013</td>\n",
       "      <td>NOCLASS</td>\n",
       "      <td>Effects of intracellular Mn on the radiation r...</td>\n",
       "      <td>Ionizing radiation (IR) is of particular inter...</td>\n",
       "      <td>Microbe</td>\n",
       "    </tr>\n",
       "  </tbody>\n",
       "</table>\n",
       "<p>598 rows × 5 columns</p>\n",
       "</div>"
      ],
      "text/plain": [
       "                      UID study_system_original  \\\n",
       "2     WOS:000186691200001                 Plant   \n",
       "28    WOS:000170973900012                Animal   \n",
       "33    WOS:000244031100003                Animal   \n",
       "34    WOS:000169703200006                Animal   \n",
       "39    WOS:000087110100001               NOCLASS   \n",
       "...                   ...                   ...   \n",
       "5598  WOS:000296681200006               NOCLASS   \n",
       "5612  WOS:000341348500013                 Plant   \n",
       "5615  WOS:000455747900024                 Fungi   \n",
       "5618  WOS:000457618800009                 Plant   \n",
       "5624  WOS:000318169900013               NOCLASS   \n",
       "\n",
       "                                                  title  \\\n",
       "2     LEAping to conclusions: A computational reanal...   \n",
       "28            Mechanisms of plant desiccation tolerance   \n",
       "33    Modelling the effects of microclimate on bean ...   \n",
       "34    Changes in oligosaccharide content and antioxi...   \n",
       "39                       Dehydration in dormant insects   \n",
       "...                                                 ...   \n",
       "5598  MEDIATED TREHALOSE UN-LOADING FOR REDUCED ERYT...   \n",
       "5612  Combination of synchrotron radiation-based Fou...   \n",
       "5615  Plasticity of a holobiont: desiccation induces...   \n",
       "5618  Temporal clustering of extreme climate events ...   \n",
       "5624  Effects of intracellular Mn on the radiation r...   \n",
       "\n",
       "                                               abstract study_system_manual  \n",
       "2     Background: The late embryogenesis abundant (L...             NOCLASS  \n",
       "28    Anhydrobiosis ('life without water') is the re...               Plant  \n",
       "33    Bean seed storage ability is of major interest...               Plant  \n",
       "34    Seeds of bean (Phaseolos vulgaris cv. Vernel) ...               Plant  \n",
       "39    Many of the mechanisms used by active insects ...              Animal  \n",
       "...                                                 ...                 ...  \n",
       "5598  Recently, high concentrations of intracellular...              Animal  \n",
       "5612  Understanding the spatial heterogeneity within...             Microbe  \n",
       "5615  The role of host-associated microbiota in endu...             Microbe  \n",
       "5618  Research on regime shifts has focused primaril...             Microbe  \n",
       "5624  Ionizing radiation (IR) is of particular inter...             Microbe  \n",
       "\n",
       "[598 rows x 5 columns]"
      ]
     },
     "execution_count": 59,
     "metadata": {},
     "output_type": "execute_result"
    }
   ],
   "source": [
    "comparison[comparison['study_system_manual'] != comparison['study_system_original']]"
   ]
  },
  {
   "cell_type": "markdown",
   "metadata": {},
   "source": [
    "## Quantify misclassifications\n",
    "### Amount of each class\n",
    "How many belong to each class in the automatic versus manually verified annotations?"
   ]
  },
  {
   "cell_type": "code",
   "execution_count": 60,
   "metadata": {},
   "outputs": [
    {
     "data": {
      "text/plain": [
       "study_system_original\n",
       "Plant      3380\n",
       "Animal     1273\n",
       "Microbe     570\n",
       "Fungi       237\n",
       "NOCLASS     166\n",
       "Name: count, dtype: int64"
      ]
     },
     "execution_count": 60,
     "metadata": {},
     "output_type": "execute_result"
    }
   ],
   "source": [
    "comparison.study_system_original.value_counts()"
   ]
  },
  {
   "cell_type": "code",
   "execution_count": 61,
   "metadata": {
    "scrolled": true
   },
   "outputs": [
    {
     "data": {
      "text/plain": [
       "study_system_manual\n",
       "Plant      3403\n",
       "Animal     1336\n",
       "Microbe     562\n",
       "Fungi       214\n",
       "NOCLASS     111\n",
       "Name: count, dtype: int64"
      ]
     },
     "execution_count": 61,
     "metadata": {},
     "output_type": "execute_result"
    }
   ],
   "source": [
    "comparison.study_system_manual.value_counts()"
   ]
  },
  {
   "cell_type": "markdown",
   "metadata": {},
   "source": [
    "### Calculating performance\n",
    "To get a general idea of how we performed, we'll ignore specific classes and just check correct versus incorrect."
   ]
  },
  {
   "cell_type": "code",
   "execution_count": 62,
   "metadata": {},
   "outputs": [],
   "source": [
    "comparison['correct'] = comparison['study_system_original'] == comparison['study_system_manual']"
   ]
  },
  {
   "cell_type": "code",
   "execution_count": 63,
   "metadata": {},
   "outputs": [
    {
     "name": "stdout",
     "output_type": "stream",
     "text": [
      "Overall classification accuracy was 89.37%\n"
     ]
    }
   ],
   "source": [
    "accuracy = comparison['correct'].value_counts()[True]/(comparison['correct'].value_counts()[True] + comparison['correct'].value_counts()[False])\n",
    "print(f'Overall classification accuracy was {accuracy*100:.2f}%')"
   ]
  },
  {
   "cell_type": "markdown",
   "metadata": {},
   "source": [
    "We can look at an overall F1 score:"
   ]
  },
  {
   "cell_type": "code",
   "execution_count": 64,
   "metadata": {},
   "outputs": [
    {
     "name": "stdout",
     "output_type": "stream",
     "text": [
      "Overall F1 score is 0.90\n"
     ]
    }
   ],
   "source": [
    "f1_overall = f1_score(comparison['study_system_manual'], comparison['study_system_original'], average='weighted') # weighted accounts for class imbalance\n",
    "print(f'Overall F1 score is {f1_overall:.2f}')"
   ]
  },
  {
   "cell_type": "markdown",
   "metadata": {},
   "source": [
    "As well as F1 for each class:"
   ]
  },
  {
   "cell_type": "code",
   "execution_count": 65,
   "metadata": {},
   "outputs": [
    {
     "name": "stdout",
     "output_type": "stream",
     "text": [
      "F1 score for class Animal is 0.87\n",
      "F1 score for class Fungi is 0.75\n",
      "F1 score for class Microbe is 0.89\n",
      "F1 score for class NOCLASS is 0.30\n",
      "F1 score for class Plant is 0.94\n"
     ]
    }
   ],
   "source": [
    "f1_by_class = f1_score(comparison['study_system_manual'], comparison['study_system_original'], average=None)\n",
    "f1_by_class = {n: f for n, f in zip(sorted(comparison['study_system_manual'].unique()), f1_by_class)}\n",
    "for n, f in f1_by_class.items():\n",
    "    print(f'F1 score for class {n} is {f:.2f}')"
   ]
  },
  {
   "cell_type": "markdown",
   "metadata": {},
   "source": [
    "## Updating graph\n",
    "We want to both update the classifications, as well as remove nodes that are true NOCLASS."
   ]
  },
  {
   "cell_type": "code",
   "execution_count": 66,
   "metadata": {},
   "outputs": [],
   "source": [
    "to_update = comparison.set_index('UID')['study_system_manual'].to_dict()"
   ]
  },
  {
   "cell_type": "code",
   "execution_count": 67,
   "metadata": {},
   "outputs": [],
   "source": [
    "nx.set_node_attributes(debugged_graph, to_update, name='study_system')"
   ]
  },
  {
   "cell_type": "code",
   "execution_count": 70,
   "metadata": {},
   "outputs": [
    {
     "data": {
      "text/plain": [
       "111"
      ]
     },
     "execution_count": 70,
     "metadata": {},
     "output_type": "execute_result"
    }
   ],
   "source": [
    "to_drop = [n for n, c in to_update.items() if c == 'NOCLASS']\n",
    "len(to_drop)"
   ]
  },
  {
   "cell_type": "code",
   "execution_count": 71,
   "metadata": {},
   "outputs": [],
   "source": [
    "debugged_graph.remove_nodes_from(to_drop)"
   ]
  },
  {
   "cell_type": "markdown",
   "metadata": {},
   "source": [
    "Double check that we updated and dropped correctly by verifying numbers:"
   ]
  },
  {
   "cell_type": "code",
   "execution_count": 72,
   "metadata": {},
   "outputs": [
    {
     "data": {
      "text/plain": [
       "defaultdict(int, {'Plant': 3181, 'Animal': 1221, 'Microbe': 519, 'Fungi': 198})"
      ]
     },
     "execution_count": 72,
     "metadata": {},
     "output_type": "execute_result"
    }
   ],
   "source": [
    "verification = defaultdict(int)\n",
    "for node, attrs in debugged_graph.nodes(data=True):\n",
    "    verification[attrs['study_system']] += 1\n",
    "verification"
   ]
  },
  {
   "cell_type": "markdown",
   "metadata": {},
   "source": [
    "Looks good! Now write out:"
   ]
  },
  {
   "cell_type": "code",
   "execution_count": 74,
   "metadata": {},
   "outputs": [],
   "source": [
    "nx.write_graphml(debugged_graph, '../data/citation_network/FINAL_FINAL_DEBUGGED_MANUALLY_VERIFIED_core_collection_destol_or_anhydro_classified_network_29Mar2024.graphml')"
   ]
  }
 ],
 "metadata": {
  "kernelspec": {
   "display_name": "graphs",
   "language": "python",
   "name": "graphs"
  },
  "language_info": {
   "codemirror_mode": {
    "name": "ipython",
    "version": 3
   },
   "file_extension": ".py",
   "mimetype": "text/x-python",
   "name": "python",
   "nbconvert_exporter": "python",
   "pygments_lexer": "ipython3",
   "version": "3.10.13"
  }
 },
 "nbformat": 4,
 "nbformat_minor": 2
}
