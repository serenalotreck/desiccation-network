{
 "cells": [
  {
   "cell_type": "markdown",
   "metadata": {},
   "source": [
    "# Classification correction\n",
    "Our classification algorithm isn't perfect, so we manually corrected the classifications. Here, we'll merge the corrections with the graph, and quantify the mistakes."
   ]
  },
  {
   "cell_type": "code",
   "execution_count": 3,
   "metadata": {},
   "outputs": [],
   "source": [
    "import pandas as pd\n",
    "import networkx as nx\n",
    "from sklearn.metrics import f1_score\n",
    "from collections import defaultdict\n",
    "import jsonlines"
   ]
  },
  {
   "cell_type": "markdown",
   "metadata": {},
   "source": [
    "## Read in the data"
   ]
  },
  {
   "cell_type": "code",
   "execution_count": 4,
   "metadata": {},
   "outputs": [],
   "source": [
    "debugged_graph = nx.read_graphml('../data/citation_network/core_collection_destol_or_anhydro_FINAL_CLASSIFIED_GRAPH_AUTOMATED_RESULT_mains_only_debugged_kings_no_isolates_NO_CLASSIFICATION_11Mar2024.graphml')"
   ]
  },
  {
   "cell_type": "code",
   "execution_count": 5,
   "metadata": {},
   "outputs": [
    {
     "data": {
      "text/html": [
       "<div>\n",
       "<style scoped>\n",
       "    .dataframe tbody tr th:only-of-type {\n",
       "        vertical-align: middle;\n",
       "    }\n",
       "\n",
       "    .dataframe tbody tr th {\n",
       "        vertical-align: top;\n",
       "    }\n",
       "\n",
       "    .dataframe thead th {\n",
       "        text-align: right;\n",
       "    }\n",
       "</style>\n",
       "<table border=\"1\" class=\"dataframe\">\n",
       "  <thead>\n",
       "    <tr style=\"text-align: right;\">\n",
       "      <th></th>\n",
       "      <th>UID</th>\n",
       "      <th>title</th>\n",
       "      <th>abstract</th>\n",
       "      <th>study_system</th>\n",
       "    </tr>\n",
       "  </thead>\n",
       "  <tbody>\n",
       "    <tr>\n",
       "      <th>0</th>\n",
       "      <td>WOS:A1990ET59600010</td>\n",
       "      <td>RESPONSE OF 4 SORGHUM LINES TO MID-SEASON DROU...</td>\n",
       "      <td>Four sorghum (Sorghum bicolor L. Moench) lines...</td>\n",
       "      <td>Plant</td>\n",
       "    </tr>\n",
       "    <tr>\n",
       "      <th>1</th>\n",
       "      <td>WOS:000244317000009</td>\n",
       "      <td>Effects of abscisic acid on growth and dehydra...</td>\n",
       "      <td>Cynanchum komarovii is well adapted to hot and...</td>\n",
       "      <td>Plant</td>\n",
       "    </tr>\n",
       "    <tr>\n",
       "      <th>2</th>\n",
       "      <td>WOS:000186691200001</td>\n",
       "      <td>LEAping to conclusions: A computational reanal...</td>\n",
       "      <td>Background: The late embryogenesis abundant (L...</td>\n",
       "      <td>Plant</td>\n",
       "    </tr>\n",
       "    <tr>\n",
       "      <th>3</th>\n",
       "      <td>WOS:000178654700046</td>\n",
       "      <td>Early salt stress effects on the changes in ch...</td>\n",
       "      <td>A technique based on Fourier transform infrare...</td>\n",
       "      <td>Plant</td>\n",
       "    </tr>\n",
       "    <tr>\n",
       "      <th>4</th>\n",
       "      <td>WOS:A1997XH01700004</td>\n",
       "      <td>Approaches to elucidate the basis of desiccati...</td>\n",
       "      <td>Plants undergo a series of physiological, bioc...</td>\n",
       "      <td>Plant</td>\n",
       "    </tr>\n",
       "  </tbody>\n",
       "</table>\n",
       "</div>"
      ],
      "text/plain": [
       "                   UID                                              title  \\\n",
       "0  WOS:A1990ET59600010  RESPONSE OF 4 SORGHUM LINES TO MID-SEASON DROU...   \n",
       "1  WOS:000244317000009  Effects of abscisic acid on growth and dehydra...   \n",
       "2  WOS:000186691200001  LEAping to conclusions: A computational reanal...   \n",
       "3  WOS:000178654700046  Early salt stress effects on the changes in ch...   \n",
       "4  WOS:A1997XH01700004  Approaches to elucidate the basis of desiccati...   \n",
       "\n",
       "                                            abstract study_system  \n",
       "0  Four sorghum (Sorghum bicolor L. Moench) lines...        Plant  \n",
       "1  Cynanchum komarovii is well adapted to hot and...        Plant  \n",
       "2  Background: The late embryogenesis abundant (L...        Plant  \n",
       "3  A technique based on Fourier transform infrare...        Plant  \n",
       "4  Plants undergo a series of physiological, bioc...        Plant  "
      ]
     },
     "execution_count": 5,
     "metadata": {},
     "output_type": "execute_result"
    }
   ],
   "source": [
    "original = pd.read_csv('../data/citation_network/DEBUGGED_automatic_classifications_core_collection_destol_or_anhydro.csv')\n",
    "original.head()"
   ]
  },
  {
   "cell_type": "code",
   "execution_count": 6,
   "metadata": {},
   "outputs": [
    {
     "data": {
      "text/html": [
       "<div>\n",
       "<style scoped>\n",
       "    .dataframe tbody tr th:only-of-type {\n",
       "        vertical-align: middle;\n",
       "    }\n",
       "\n",
       "    .dataframe tbody tr th {\n",
       "        vertical-align: top;\n",
       "    }\n",
       "\n",
       "    .dataframe thead th {\n",
       "        text-align: right;\n",
       "    }\n",
       "</style>\n",
       "<table border=\"1\" class=\"dataframe\">\n",
       "  <thead>\n",
       "    <tr style=\"text-align: right;\">\n",
       "      <th></th>\n",
       "      <th>UID</th>\n",
       "      <th>title</th>\n",
       "      <th>abstract</th>\n",
       "      <th>study_system</th>\n",
       "    </tr>\n",
       "  </thead>\n",
       "  <tbody>\n",
       "    <tr>\n",
       "      <th>0</th>\n",
       "      <td>WOS:000249421700004</td>\n",
       "      <td>Phenotypic plasticity mediates climate change ...</td>\n",
       "      <td>Synergies between global change and biological...</td>\n",
       "      <td>Animal</td>\n",
       "    </tr>\n",
       "    <tr>\n",
       "      <th>1</th>\n",
       "      <td>WOS:000189080600003</td>\n",
       "      <td>The importance of cuticular permeability, osmo...</td>\n",
       "      <td>Euedaphic collembolans have recently been show...</td>\n",
       "      <td>Animal</td>\n",
       "    </tr>\n",
       "    <tr>\n",
       "      <th>2</th>\n",
       "      <td>WOS:A1993LX94500007</td>\n",
       "      <td>GEOGRAPHICAL VARIATION IN THE ACCLIMATION RESP...</td>\n",
       "      <td>Populations may adapt to climatic stresses by ...</td>\n",
       "      <td>Animal</td>\n",
       "    </tr>\n",
       "    <tr>\n",
       "      <th>3</th>\n",
       "      <td>WOS:000182189500050</td>\n",
       "      <td>Transition from natively unfolded to folded st...</td>\n",
       "      <td>Late embryogenesis abundant (LEA) proteins are...</td>\n",
       "      <td>Animal</td>\n",
       "    </tr>\n",
       "    <tr>\n",
       "      <th>4</th>\n",
       "      <td>WOS:000170973900012</td>\n",
       "      <td>Mechanisms of plant desiccation tolerance</td>\n",
       "      <td>Anhydrobiosis ('life without water') is the re...</td>\n",
       "      <td>Animal</td>\n",
       "    </tr>\n",
       "  </tbody>\n",
       "</table>\n",
       "</div>"
      ],
      "text/plain": [
       "                   UID                                              title  \\\n",
       "0  WOS:000249421700004  Phenotypic plasticity mediates climate change ...   \n",
       "1  WOS:000189080600003  The importance of cuticular permeability, osmo...   \n",
       "2  WOS:A1993LX94500007  GEOGRAPHICAL VARIATION IN THE ACCLIMATION RESP...   \n",
       "3  WOS:000182189500050  Transition from natively unfolded to folded st...   \n",
       "4  WOS:000170973900012          Mechanisms of plant desiccation tolerance   \n",
       "\n",
       "                                            abstract study_system  \n",
       "0  Synergies between global change and biological...       Animal  \n",
       "1  Euedaphic collembolans have recently been show...       Animal  \n",
       "2  Populations may adapt to climatic stresses by ...       Animal  \n",
       "3  Late embryogenesis abundant (LEA) proteins are...       Animal  \n",
       "4  Anhydrobiosis ('life without water') is the re...       Animal  "
      ]
     },
     "execution_count": 6,
     "metadata": {},
     "output_type": "execute_result"
    }
   ],
   "source": [
    "manual = pd.read_csv('../data/citation_network/DEBUGGED_automatic_classifications_core_collection_destol_or_anhydro_RV_manually_corrected.csv')\n",
    "manual.head()"
   ]
  },
  {
   "cell_type": "code",
   "execution_count": 7,
   "metadata": {},
   "outputs": [],
   "source": [
    "comparison = original[['UID', 'study_system', 'title', 'abstract']].merge(manual[['UID', 'study_system']], on='UID', suffixes=('_original', '_manual'))"
   ]
  },
  {
   "cell_type": "code",
   "execution_count": 8,
   "metadata": {},
   "outputs": [
    {
     "data": {
      "text/html": [
       "<div>\n",
       "<style scoped>\n",
       "    .dataframe tbody tr th:only-of-type {\n",
       "        vertical-align: middle;\n",
       "    }\n",
       "\n",
       "    .dataframe tbody tr th {\n",
       "        vertical-align: top;\n",
       "    }\n",
       "\n",
       "    .dataframe thead th {\n",
       "        text-align: right;\n",
       "    }\n",
       "</style>\n",
       "<table border=\"1\" class=\"dataframe\">\n",
       "  <thead>\n",
       "    <tr style=\"text-align: right;\">\n",
       "      <th></th>\n",
       "      <th>UID</th>\n",
       "      <th>study_system_original</th>\n",
       "      <th>title</th>\n",
       "      <th>abstract</th>\n",
       "      <th>study_system_manual</th>\n",
       "    </tr>\n",
       "  </thead>\n",
       "  <tbody>\n",
       "    <tr>\n",
       "      <th>0</th>\n",
       "      <td>WOS:A1990ET59600010</td>\n",
       "      <td>Plant</td>\n",
       "      <td>RESPONSE OF 4 SORGHUM LINES TO MID-SEASON DROU...</td>\n",
       "      <td>Four sorghum (Sorghum bicolor L. Moench) lines...</td>\n",
       "      <td>Plant</td>\n",
       "    </tr>\n",
       "    <tr>\n",
       "      <th>1</th>\n",
       "      <td>WOS:000244317000009</td>\n",
       "      <td>Plant</td>\n",
       "      <td>Effects of abscisic acid on growth and dehydra...</td>\n",
       "      <td>Cynanchum komarovii is well adapted to hot and...</td>\n",
       "      <td>Plant</td>\n",
       "    </tr>\n",
       "    <tr>\n",
       "      <th>2</th>\n",
       "      <td>WOS:000186691200001</td>\n",
       "      <td>Plant</td>\n",
       "      <td>LEAping to conclusions: A computational reanal...</td>\n",
       "      <td>Background: The late embryogenesis abundant (L...</td>\n",
       "      <td>Plant</td>\n",
       "    </tr>\n",
       "    <tr>\n",
       "      <th>3</th>\n",
       "      <td>WOS:000178654700046</td>\n",
       "      <td>Plant</td>\n",
       "      <td>Early salt stress effects on the changes in ch...</td>\n",
       "      <td>A technique based on Fourier transform infrare...</td>\n",
       "      <td>Plant</td>\n",
       "    </tr>\n",
       "    <tr>\n",
       "      <th>4</th>\n",
       "      <td>WOS:A1997XH01700004</td>\n",
       "      <td>Plant</td>\n",
       "      <td>Approaches to elucidate the basis of desiccati...</td>\n",
       "      <td>Plants undergo a series of physiological, bioc...</td>\n",
       "      <td>Plant</td>\n",
       "    </tr>\n",
       "  </tbody>\n",
       "</table>\n",
       "</div>"
      ],
      "text/plain": [
       "                   UID study_system_original  \\\n",
       "0  WOS:A1990ET59600010                 Plant   \n",
       "1  WOS:000244317000009                 Plant   \n",
       "2  WOS:000186691200001                 Plant   \n",
       "3  WOS:000178654700046                 Plant   \n",
       "4  WOS:A1997XH01700004                 Plant   \n",
       "\n",
       "                                               title  \\\n",
       "0  RESPONSE OF 4 SORGHUM LINES TO MID-SEASON DROU...   \n",
       "1  Effects of abscisic acid on growth and dehydra...   \n",
       "2  LEAping to conclusions: A computational reanal...   \n",
       "3  Early salt stress effects on the changes in ch...   \n",
       "4  Approaches to elucidate the basis of desiccati...   \n",
       "\n",
       "                                            abstract study_system_manual  \n",
       "0  Four sorghum (Sorghum bicolor L. Moench) lines...               Plant  \n",
       "1  Cynanchum komarovii is well adapted to hot and...               Plant  \n",
       "2  Background: The late embryogenesis abundant (L...               Plant  \n",
       "3  A technique based on Fourier transform infrare...               Plant  \n",
       "4  Plants undergo a series of physiological, bioc...               Plant  "
      ]
     },
     "execution_count": 8,
     "metadata": {},
     "output_type": "execute_result"
    }
   ],
   "source": [
    "comparison.head()"
   ]
  },
  {
   "cell_type": "code",
   "execution_count": 10,
   "metadata": {},
   "outputs": [
    {
     "data": {
      "text/html": [
       "<div>\n",
       "<style scoped>\n",
       "    .dataframe tbody tr th:only-of-type {\n",
       "        vertical-align: middle;\n",
       "    }\n",
       "\n",
       "    .dataframe tbody tr th {\n",
       "        vertical-align: top;\n",
       "    }\n",
       "\n",
       "    .dataframe thead th {\n",
       "        text-align: right;\n",
       "    }\n",
       "</style>\n",
       "<table border=\"1\" class=\"dataframe\">\n",
       "  <thead>\n",
       "    <tr style=\"text-align: right;\">\n",
       "      <th></th>\n",
       "      <th>UID</th>\n",
       "      <th>study_system_original</th>\n",
       "      <th>title</th>\n",
       "      <th>abstract</th>\n",
       "      <th>study_system_manual</th>\n",
       "    </tr>\n",
       "  </thead>\n",
       "  <tbody>\n",
       "    <tr>\n",
       "      <th>34</th>\n",
       "      <td>WOS:000169703200006</td>\n",
       "      <td>Animal</td>\n",
       "      <td>Changes in oligosaccharide content and antioxi...</td>\n",
       "      <td>Seeds of bean (Phaseolos vulgaris cv. Vernel) ...</td>\n",
       "      <td>Plant</td>\n",
       "    </tr>\n",
       "    <tr>\n",
       "      <th>39</th>\n",
       "      <td>WOS:000087110100001</td>\n",
       "      <td>NOCLASS</td>\n",
       "      <td>Dehydration in dormant insects</td>\n",
       "      <td>Many of the mechanisms used by active insects ...</td>\n",
       "      <td>Animal</td>\n",
       "    </tr>\n",
       "    <tr>\n",
       "      <th>46</th>\n",
       "      <td>WOS:000171149800011</td>\n",
       "      <td>Fungi</td>\n",
       "      <td>Levels of variation in stress resistance in Dr...</td>\n",
       "      <td>Stress resistance traits in Drosophila often s...</td>\n",
       "      <td>Animal</td>\n",
       "    </tr>\n",
       "    <tr>\n",
       "      <th>63</th>\n",
       "      <td>WOS:000226518000010</td>\n",
       "      <td>Animal</td>\n",
       "      <td>Emergence stress and morphological constraints...</td>\n",
       "      <td>The effects of emergence stress and morphologi...</td>\n",
       "      <td>Plant</td>\n",
       "    </tr>\n",
       "    <tr>\n",
       "      <th>65</th>\n",
       "      <td>WOS:A1996VM10600001</td>\n",
       "      <td>NOCLASS</td>\n",
       "      <td>Stress tolerance in intertidal seaweeds</td>\n",
       "      <td>Intertidal seaweeds are periodically exposed t...</td>\n",
       "      <td>Plant</td>\n",
       "    </tr>\n",
       "    <tr>\n",
       "      <th>...</th>\n",
       "      <td>...</td>\n",
       "      <td>...</td>\n",
       "      <td>...</td>\n",
       "      <td>...</td>\n",
       "      <td>...</td>\n",
       "    </tr>\n",
       "    <tr>\n",
       "      <th>5513</th>\n",
       "      <td>WOS:000425958000005</td>\n",
       "      <td>Microbe</td>\n",
       "      <td>A Grapevine-Inducible Gene Vv-alpha-gal/SIP Co...</td>\n",
       "      <td>Grapevine is an important fruit crop cultivate...</td>\n",
       "      <td>Plant</td>\n",
       "    </tr>\n",
       "    <tr>\n",
       "      <th>5516</th>\n",
       "      <td>WOS:000427208800001</td>\n",
       "      <td>NOCLASS</td>\n",
       "      <td>Desiccation resistance determines distribution...</td>\n",
       "      <td>Forest edges show strong abiotic and biotic gr...</td>\n",
       "      <td>Plant</td>\n",
       "    </tr>\n",
       "    <tr>\n",
       "      <th>5588</th>\n",
       "      <td>WOS:000373125900005</td>\n",
       "      <td>Animal</td>\n",
       "      <td>Biofilm assembly becomes crystal clear - filam...</td>\n",
       "      <td>Pseudomonas aeruginosa is an opportunistic bac...</td>\n",
       "      <td>Microbe</td>\n",
       "    </tr>\n",
       "    <tr>\n",
       "      <th>5615</th>\n",
       "      <td>WOS:000455747900024</td>\n",
       "      <td>Fungi</td>\n",
       "      <td>Plasticity of a holobiont: desiccation induces...</td>\n",
       "      <td>The role of host-associated microbiota in endu...</td>\n",
       "      <td>Plant</td>\n",
       "    </tr>\n",
       "    <tr>\n",
       "      <th>5624</th>\n",
       "      <td>WOS:000318169900013</td>\n",
       "      <td>NOCLASS</td>\n",
       "      <td>Effects of intracellular Mn on the radiation r...</td>\n",
       "      <td>Ionizing radiation (IR) is of particular inter...</td>\n",
       "      <td>Microbe</td>\n",
       "    </tr>\n",
       "  </tbody>\n",
       "</table>\n",
       "<p>381 rows × 5 columns</p>\n",
       "</div>"
      ],
      "text/plain": [
       "                      UID study_system_original  \\\n",
       "34    WOS:000169703200006                Animal   \n",
       "39    WOS:000087110100001               NOCLASS   \n",
       "46    WOS:000171149800011                 Fungi   \n",
       "63    WOS:000226518000010                Animal   \n",
       "65    WOS:A1996VM10600001               NOCLASS   \n",
       "...                   ...                   ...   \n",
       "5513  WOS:000425958000005               Microbe   \n",
       "5516  WOS:000427208800001               NOCLASS   \n",
       "5588  WOS:000373125900005                Animal   \n",
       "5615  WOS:000455747900024                 Fungi   \n",
       "5624  WOS:000318169900013               NOCLASS   \n",
       "\n",
       "                                                  title  \\\n",
       "34    Changes in oligosaccharide content and antioxi...   \n",
       "39                       Dehydration in dormant insects   \n",
       "46    Levels of variation in stress resistance in Dr...   \n",
       "63    Emergence stress and morphological constraints...   \n",
       "65              Stress tolerance in intertidal seaweeds   \n",
       "...                                                 ...   \n",
       "5513  A Grapevine-Inducible Gene Vv-alpha-gal/SIP Co...   \n",
       "5516  Desiccation resistance determines distribution...   \n",
       "5588  Biofilm assembly becomes crystal clear - filam...   \n",
       "5615  Plasticity of a holobiont: desiccation induces...   \n",
       "5624  Effects of intracellular Mn on the radiation r...   \n",
       "\n",
       "                                               abstract study_system_manual  \n",
       "34    Seeds of bean (Phaseolos vulgaris cv. Vernel) ...               Plant  \n",
       "39    Many of the mechanisms used by active insects ...              Animal  \n",
       "46    Stress resistance traits in Drosophila often s...              Animal  \n",
       "63    The effects of emergence stress and morphologi...               Plant  \n",
       "65    Intertidal seaweeds are periodically exposed t...               Plant  \n",
       "...                                                 ...                 ...  \n",
       "5513  Grapevine is an important fruit crop cultivate...               Plant  \n",
       "5516  Forest edges show strong abiotic and biotic gr...               Plant  \n",
       "5588  Pseudomonas aeruginosa is an opportunistic bac...             Microbe  \n",
       "5615  The role of host-associated microbiota in endu...               Plant  \n",
       "5624  Ionizing radiation (IR) is of particular inter...             Microbe  \n",
       "\n",
       "[381 rows x 5 columns]"
      ]
     },
     "execution_count": 10,
     "metadata": {},
     "output_type": "execute_result"
    }
   ],
   "source": [
    "comparison[comparison['study_system_manual'] != comparison['study_system_original']]"
   ]
  },
  {
   "cell_type": "code",
   "execution_count": 41,
   "metadata": {
    "scrolled": true
   },
   "outputs": [
    {
     "data": {
      "text/html": [
       "<div>\n",
       "<style scoped>\n",
       "    .dataframe tbody tr th:only-of-type {\n",
       "        vertical-align: middle;\n",
       "    }\n",
       "\n",
       "    .dataframe tbody tr th {\n",
       "        vertical-align: top;\n",
       "    }\n",
       "\n",
       "    .dataframe thead th {\n",
       "        text-align: right;\n",
       "    }\n",
       "</style>\n",
       "<table border=\"1\" class=\"dataframe\">\n",
       "  <thead>\n",
       "    <tr style=\"text-align: right;\">\n",
       "      <th></th>\n",
       "      <th>UID</th>\n",
       "      <th>study_system_original</th>\n",
       "      <th>title</th>\n",
       "      <th>abstract</th>\n",
       "      <th>study_system_manual</th>\n",
       "      <th>correct</th>\n",
       "    </tr>\n",
       "  </thead>\n",
       "  <tbody>\n",
       "    <tr>\n",
       "      <th>33</th>\n",
       "      <td>WOS:000244031100003</td>\n",
       "      <td>Animal</td>\n",
       "      <td>Modelling the effects of microclimate on bean ...</td>\n",
       "      <td>Bean seed storage ability is of major interest...</td>\n",
       "      <td>Animal</td>\n",
       "      <td>True</td>\n",
       "    </tr>\n",
       "  </tbody>\n",
       "</table>\n",
       "</div>"
      ],
      "text/plain": [
       "                    UID study_system_original  \\\n",
       "33  WOS:000244031100003                Animal   \n",
       "\n",
       "                                                title  \\\n",
       "33  Modelling the effects of microclimate on bean ...   \n",
       "\n",
       "                                             abstract study_system_manual  \\\n",
       "33  Bean seed storage ability is of major interest...              Animal   \n",
       "\n",
       "    correct  \n",
       "33     True  "
      ]
     },
     "execution_count": 41,
     "metadata": {},
     "output_type": "execute_result"
    }
   ],
   "source": [
    "comparison[comparison['UID'] == 'WOS:000244031100003']"
   ]
  },
  {
   "cell_type": "markdown",
   "metadata": {},
   "source": [
    "## Quantify misclassifications\n",
    "### Amount of each class\n",
    "How many belong to each class in the automatic versus manually verified annotations?"
   ]
  },
  {
   "cell_type": "code",
   "execution_count": 27,
   "metadata": {},
   "outputs": [
    {
     "data": {
      "text/plain": [
       "study_system_original\n",
       "Plant      3380\n",
       "Animal     1273\n",
       "Microbe     570\n",
       "Fungi       237\n",
       "NOCLASS     166\n",
       "Name: count, dtype: int64"
      ]
     },
     "execution_count": 27,
     "metadata": {},
     "output_type": "execute_result"
    }
   ],
   "source": [
    "comparison.study_system_original.value_counts()"
   ]
  },
  {
   "cell_type": "code",
   "execution_count": 28,
   "metadata": {
    "scrolled": true
   },
   "outputs": [
    {
     "data": {
      "text/plain": [
       "study_system_manual\n",
       "Plant      3548\n",
       "Animal     1335\n",
       "Microbe     556\n",
       "Fungi       143\n",
       "NOCLASS      44\n",
       "Name: count, dtype: int64"
      ]
     },
     "execution_count": 28,
     "metadata": {},
     "output_type": "execute_result"
    }
   ],
   "source": [
    "comparison.study_system_manual.value_counts()"
   ]
  },
  {
   "cell_type": "markdown",
   "metadata": {},
   "source": [
    "### Calculating performance\n",
    "To get a general idea of how we performed, we'll ignore specific classes and just check correct versus incorrect."
   ]
  },
  {
   "cell_type": "code",
   "execution_count": 29,
   "metadata": {},
   "outputs": [],
   "source": [
    "comparison['correct'] = comparison['study_system_original'] == comparison['study_system_manual']"
   ]
  },
  {
   "cell_type": "code",
   "execution_count": 30,
   "metadata": {},
   "outputs": [
    {
     "name": "stdout",
     "output_type": "stream",
     "text": [
      "Overall classification accuracy was 93.23%\n"
     ]
    }
   ],
   "source": [
    "accuracy = comparison['correct'].value_counts()[True]/(comparison['correct'].value_counts()[True] + comparison['correct'].value_counts()[False])\n",
    "print(f'Overall classification accuracy was {accuracy*100:.2f}%')"
   ]
  },
  {
   "cell_type": "markdown",
   "metadata": {},
   "source": [
    "We can look at an overall F1 score:"
   ]
  },
  {
   "cell_type": "code",
   "execution_count": 31,
   "metadata": {},
   "outputs": [
    {
     "name": "stdout",
     "output_type": "stream",
     "text": [
      "Overall F1 score is 0.94\n"
     ]
    }
   ],
   "source": [
    "f1_overall = f1_score(comparison['study_system_manual'], comparison['study_system_original'], average='weighted') # weighted accounts for class imbalance\n",
    "print(f'Overall F1 score is {f1_overall:.2f}')"
   ]
  },
  {
   "cell_type": "markdown",
   "metadata": {},
   "source": [
    "As well as F1 for each class:"
   ]
  },
  {
   "cell_type": "code",
   "execution_count": 32,
   "metadata": {},
   "outputs": [
    {
     "name": "stdout",
     "output_type": "stream",
     "text": [
      "F1 score for class Animal is 0.92\n",
      "F1 score for class Fungi is 0.70\n",
      "F1 score for class Microbe is 0.95\n",
      "F1 score for class NOCLASS is 0.42\n",
      "F1 score for class Plant is 0.96\n"
     ]
    }
   ],
   "source": [
    "f1_by_class = f1_score(comparison['study_system_manual'], comparison['study_system_original'], average=None)\n",
    "f1_by_class = {n: f for n, f in zip(sorted(comparison['study_system_manual'].unique()), f1_by_class)}\n",
    "for n, f in f1_by_class.items():\n",
    "    print(f'F1 score for class {n} is {f:.2f}')"
   ]
  },
  {
   "cell_type": "markdown",
   "metadata": {},
   "source": [
    "## Updating graph\n",
    "We want to both update the classifications, as well as remove nodes that are true NOCLASS."
   ]
  },
  {
   "cell_type": "code",
   "execution_count": 33,
   "metadata": {},
   "outputs": [],
   "source": [
    "to_update = comparison.set_index('UID')['study_system_manual'].to_dict()"
   ]
  },
  {
   "cell_type": "code",
   "execution_count": 34,
   "metadata": {},
   "outputs": [],
   "source": [
    "nx.set_node_attributes(debugged_graph, to_update, name='study_system')"
   ]
  },
  {
   "cell_type": "code",
   "execution_count": 35,
   "metadata": {},
   "outputs": [
    {
     "data": {
      "text/plain": [
       "44"
      ]
     },
     "execution_count": 35,
     "metadata": {},
     "output_type": "execute_result"
    }
   ],
   "source": [
    "to_drop = [n for n, c in to_update.items() if c == 'NOCLASS']\n",
    "len(to_drop)"
   ]
  },
  {
   "cell_type": "code",
   "execution_count": 36,
   "metadata": {},
   "outputs": [],
   "source": [
    "debugged_graph.remove_nodes_from(to_drop)"
   ]
  },
  {
   "cell_type": "markdown",
   "metadata": {},
   "source": [
    "Double check that we updated and dropped correctly by verifying numbers:"
   ]
  },
  {
   "cell_type": "code",
   "execution_count": 37,
   "metadata": {},
   "outputs": [
    {
     "data": {
      "text/plain": [
       "defaultdict(int, {'Plant': 3318, 'Animal': 1222, 'Microbe': 514, 'Fungi': 130})"
      ]
     },
     "execution_count": 37,
     "metadata": {},
     "output_type": "execute_result"
    }
   ],
   "source": [
    "verification = defaultdict(int)\n",
    "for node, attrs in debugged_graph.nodes(data=True):\n",
    "    verification[attrs['study_system']] += 1\n",
    "verification"
   ]
  },
  {
   "cell_type": "markdown",
   "metadata": {},
   "source": [
    "Looks good! Now write out:"
   ]
  },
  {
   "cell_type": "code",
   "execution_count": 38,
   "metadata": {},
   "outputs": [],
   "source": [
    "nx.write_graphml(debugged_graph, '../data/citation_network/FINAL_DEBUGGED_MANUALLY_VERIFIED_core_collection_destol_or_anhydro_classified_network_25Mar2024.graphml')"
   ]
  }
 ],
 "metadata": {
  "kernelspec": {
   "display_name": "graphs",
   "language": "python",
   "name": "graphs"
  },
  "language_info": {
   "codemirror_mode": {
    "name": "ipython",
    "version": 3
   },
   "file_extension": ".py",
   "mimetype": "text/x-python",
   "name": "python",
   "nbconvert_exporter": "python",
   "pygments_lexer": "ipython3",
   "version": "3.10.13"
  }
 },
 "nbformat": 4,
 "nbformat_minor": 2
}
