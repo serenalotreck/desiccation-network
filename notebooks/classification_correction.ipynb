{
 "cells": [
  {
   "cell_type": "markdown",
   "metadata": {},
   "source": [
    "# Classification correction\n",
    "Our classification algorithm has a high degree of incorrect predictions (about ~15% of Plant and Fungi classifications were incorrect, and 15% overall are missing classifications), but there's a small enough number of papers that we could manually verify and adjust classifications. Here, we'll quantify the discrepancies and merge the correct annotations back into the final graphml file."
   ]
  },
  {
   "cell_type": "code",
   "execution_count": 4,
   "metadata": {},
   "outputs": [],
   "source": [
    "import pandas as pd\n",
    "import networkx as nx\n",
    "from sklearn.metrics import f1_score\n",
    "from collections import defaultdict\n",
    "import jsonlines"
   ]
  },
  {
   "cell_type": "markdown",
   "metadata": {},
   "source": [
    "## Read in the data"
   ]
  },
  {
   "cell_type": "code",
   "execution_count": 3,
   "metadata": {},
   "outputs": [],
   "source": [
    "debugged_graph = nx.read_graphml('../data/citation_network/core_collection_destol_or_anhydro_FILTERED_classified_network_DEBUGGED_KINGS_30Jan2023.graphml')"
   ]
  },
  {
   "cell_type": "code",
   "execution_count": 6,
   "metadata": {},
   "outputs": [],
   "source": [
    "with jsonlines.open('../data/wos_files/core_collection_destol_or_anhydro_FILTERED_MAIN_ONLY_with_ref_abstracts_05Jan2023.jsonl') as reader:\n",
    "    papers = [obj for obj in reader]\n",
    "papers_by_uid = {paper['UID']: paper for paper in papers}"
   ]
  },
  {
   "cell_type": "code",
   "execution_count": 7,
   "metadata": {},
   "outputs": [
    {
     "data": {
      "text/html": [
       "<div>\n",
       "<style scoped>\n",
       "    .dataframe tbody tr th:only-of-type {\n",
       "        vertical-align: middle;\n",
       "    }\n",
       "\n",
       "    .dataframe tbody tr th {\n",
       "        vertical-align: top;\n",
       "    }\n",
       "\n",
       "    .dataframe thead th {\n",
       "        text-align: right;\n",
       "    }\n",
       "</style>\n",
       "<table border=\"1\" class=\"dataframe\">\n",
       "  <thead>\n",
       "    <tr style=\"text-align: right;\">\n",
       "      <th></th>\n",
       "      <th>UID</th>\n",
       "      <th>title</th>\n",
       "      <th>abstract</th>\n",
       "      <th>study_system</th>\n",
       "    </tr>\n",
       "  </thead>\n",
       "  <tbody>\n",
       "    <tr>\n",
       "      <th>0</th>\n",
       "      <td>WOS:A1990ET59600010</td>\n",
       "      <td>RESPONSE OF 4 SORGHUM LINES TO MID-SEASON DROU...</td>\n",
       "      <td>Four sorghum (Sorghum bicolor L. Moench) lines...</td>\n",
       "      <td>Plant</td>\n",
       "    </tr>\n",
       "    <tr>\n",
       "      <th>1</th>\n",
       "      <td>WOS:000244317000009</td>\n",
       "      <td>Effects of abscisic acid on growth and dehydra...</td>\n",
       "      <td>Cynanchum komarovii is well adapted to hot and...</td>\n",
       "      <td>Plant</td>\n",
       "    </tr>\n",
       "    <tr>\n",
       "      <th>2</th>\n",
       "      <td>WOS:000186691200001</td>\n",
       "      <td>LEAping to conclusions: A computational reanal...</td>\n",
       "      <td>Background: The late embryogenesis abundant (L...</td>\n",
       "      <td>Plant</td>\n",
       "    </tr>\n",
       "    <tr>\n",
       "      <th>3</th>\n",
       "      <td>WOS:000178654700046</td>\n",
       "      <td>Early salt stress effects on the changes in ch...</td>\n",
       "      <td>A technique based on Fourier transform infrare...</td>\n",
       "      <td>Plant</td>\n",
       "    </tr>\n",
       "    <tr>\n",
       "      <th>4</th>\n",
       "      <td>WOS:A1997XH01700004</td>\n",
       "      <td>Approaches to elucidate the basis of desiccati...</td>\n",
       "      <td>Plants undergo a series of physiological, bioc...</td>\n",
       "      <td>Plant</td>\n",
       "    </tr>\n",
       "  </tbody>\n",
       "</table>\n",
       "</div>"
      ],
      "text/plain": [
       "                   UID                                              title  \\\n",
       "0  WOS:A1990ET59600010  RESPONSE OF 4 SORGHUM LINES TO MID-SEASON DROU...   \n",
       "1  WOS:000244317000009  Effects of abscisic acid on growth and dehydra...   \n",
       "2  WOS:000186691200001  LEAping to conclusions: A computational reanal...   \n",
       "3  WOS:000178654700046  Early salt stress effects on the changes in ch...   \n",
       "4  WOS:A1997XH01700004  Approaches to elucidate the basis of desiccati...   \n",
       "\n",
       "                                            abstract study_system  \n",
       "0  Four sorghum (Sorghum bicolor L. Moench) lines...        Plant  \n",
       "1  Cynanchum komarovii is well adapted to hot and...        Plant  \n",
       "2  Background: The late embryogenesis abundant (L...        Plant  \n",
       "3  A technique based on Fourier transform infrare...        Plant  \n",
       "4  Plants undergo a series of physiological, bioc...        Plant  "
      ]
     },
     "execution_count": 7,
     "metadata": {},
     "output_type": "execute_result"
    }
   ],
   "source": [
    "# Generate csv for manual classification\n",
    "to_check = defaultdict(list)\n",
    "for node, attrs in debugged_graph.nodes(data=True):\n",
    "    to_check['UID'].append(node)\n",
    "    to_check['title'].append(papers_by_uid[node]['title'])\n",
    "    to_check['abstract'].append(papers_by_uid[node]['abstract'])\n",
    "    to_check['study_system'].append(attrs['study_system'])\n",
    "to_check_df = pd.DataFrame(to_check)\n",
    "to_check_df.head()"
   ]
  },
  {
   "cell_type": "code",
   "execution_count": 8,
   "metadata": {},
   "outputs": [],
   "source": [
    "to_check_df.to_csv('../data/citation_network/DEBUGGED_automatic_classifications_core_collection_destol_or_anhydro.csv', index=False)"
   ]
  },
  {
   "cell_type": "code",
   "execution_count": 58,
   "metadata": {},
   "outputs": [],
   "source": [
    "graph = nx.read_graphml('../data/citation_network/core_collection_destol_or_anhydro_FILTERED_classified_network_06Jan2023.graphml')"
   ]
  },
  {
   "cell_type": "code",
   "execution_count": 40,
   "metadata": {},
   "outputs": [
    {
     "data": {
      "text/html": [
       "<div>\n",
       "<style scoped>\n",
       "    .dataframe tbody tr th:only-of-type {\n",
       "        vertical-align: middle;\n",
       "    }\n",
       "\n",
       "    .dataframe tbody tr th {\n",
       "        vertical-align: top;\n",
       "    }\n",
       "\n",
       "    .dataframe thead th {\n",
       "        text-align: right;\n",
       "    }\n",
       "</style>\n",
       "<table border=\"1\" class=\"dataframe\">\n",
       "  <thead>\n",
       "    <tr style=\"text-align: right;\">\n",
       "      <th></th>\n",
       "      <th>UID</th>\n",
       "      <th>Id</th>\n",
       "      <th>study_system</th>\n",
       "      <th>title</th>\n",
       "      <th>abstract</th>\n",
       "    </tr>\n",
       "  </thead>\n",
       "  <tbody>\n",
       "    <tr>\n",
       "      <th>0</th>\n",
       "      <td>WOS:000071070200022</td>\n",
       "      <td>WOS:000071070200022</td>\n",
       "      <td>Plant</td>\n",
       "      <td>Endophyte effect on drought tolerance in diver...</td>\n",
       "      <td>Tall fescue (Festuca arundinacea Schreb.) drou...</td>\n",
       "    </tr>\n",
       "    <tr>\n",
       "      <th>1</th>\n",
       "      <td>WOS:000071120900007</td>\n",
       "      <td>WOS:000071120900007</td>\n",
       "      <td>Plant</td>\n",
       "      <td>Seasonal variations in tolerance to ion leakag...</td>\n",
       "      <td>A simple ion leakage assay was used to test if...</td>\n",
       "    </tr>\n",
       "    <tr>\n",
       "      <th>2</th>\n",
       "      <td>WOS:000071209300053</td>\n",
       "      <td>WOS:000071209300053</td>\n",
       "      <td>NOCLASS</td>\n",
       "      <td>Regulation of body water balance in reedfrogs ...</td>\n",
       "      <td>The regulation of body water balance was exami...</td>\n",
       "    </tr>\n",
       "    <tr>\n",
       "      <th>3</th>\n",
       "      <td>WOS:000071582300006</td>\n",
       "      <td>WOS:000071582300006</td>\n",
       "      <td>NOCLASS</td>\n",
       "      <td>Community structure and environmental stress: ...</td>\n",
       "      <td>In a previous field experiment, communities of...</td>\n",
       "    </tr>\n",
       "    <tr>\n",
       "      <th>4</th>\n",
       "      <td>WOS:000071672300004</td>\n",
       "      <td>WOS:000071672300004</td>\n",
       "      <td>Plant</td>\n",
       "      <td>Evaluation of field and laboratory predictors ...</td>\n",
       "      <td>In Mediterranean regions, plant breeding progr...</td>\n",
       "    </tr>\n",
       "  </tbody>\n",
       "</table>\n",
       "</div>"
      ],
      "text/plain": [
       "                   UID                   Id study_system  \\\n",
       "0  WOS:000071070200022  WOS:000071070200022        Plant   \n",
       "1  WOS:000071120900007  WOS:000071120900007        Plant   \n",
       "2  WOS:000071209300053  WOS:000071209300053      NOCLASS   \n",
       "3  WOS:000071582300006  WOS:000071582300006      NOCLASS   \n",
       "4  WOS:000071672300004  WOS:000071672300004        Plant   \n",
       "\n",
       "                                               title  \\\n",
       "0  Endophyte effect on drought tolerance in diver...   \n",
       "1  Seasonal variations in tolerance to ion leakag...   \n",
       "2  Regulation of body water balance in reedfrogs ...   \n",
       "3  Community structure and environmental stress: ...   \n",
       "4  Evaluation of field and laboratory predictors ...   \n",
       "\n",
       "                                            abstract  \n",
       "0  Tall fescue (Festuca arundinacea Schreb.) drou...  \n",
       "1  A simple ion leakage assay was used to test if...  \n",
       "2  The regulation of body water balance was exami...  \n",
       "3  In a previous field experiment, communities of...  \n",
       "4  In Mediterranean regions, plant breeding progr...  "
      ]
     },
     "execution_count": 40,
     "metadata": {},
     "output_type": "execute_result"
    }
   ],
   "source": [
    "original = pd.read_csv('../data/citation_network/core_collection_classified_mains_only_with_abstracts.csv')\n",
    "original.head()"
   ]
  },
  {
   "cell_type": "code",
   "execution_count": 41,
   "metadata": {},
   "outputs": [
    {
     "data": {
      "text/html": [
       "<div>\n",
       "<style scoped>\n",
       "    .dataframe tbody tr th:only-of-type {\n",
       "        vertical-align: middle;\n",
       "    }\n",
       "\n",
       "    .dataframe tbody tr th {\n",
       "        vertical-align: top;\n",
       "    }\n",
       "\n",
       "    .dataframe thead th {\n",
       "        text-align: right;\n",
       "    }\n",
       "</style>\n",
       "<table border=\"1\" class=\"dataframe\">\n",
       "  <thead>\n",
       "    <tr style=\"text-align: right;\">\n",
       "      <th></th>\n",
       "      <th>UID</th>\n",
       "      <th>Id</th>\n",
       "      <th>study_system</th>\n",
       "      <th>title</th>\n",
       "      <th>abstract</th>\n",
       "    </tr>\n",
       "  </thead>\n",
       "  <tbody>\n",
       "    <tr>\n",
       "      <th>0</th>\n",
       "      <td>WOS:000074822300003</td>\n",
       "      <td>WOS:000074822300003</td>\n",
       "      <td>Animal</td>\n",
       "      <td>Ultrastructural changes during desiccation of ...</td>\n",
       "      <td>Ultrastructural changes during desiccation of ...</td>\n",
       "    </tr>\n",
       "    <tr>\n",
       "      <th>1</th>\n",
       "      <td>WOS:000077146200008</td>\n",
       "      <td>WOS:000077146200008</td>\n",
       "      <td>Animal</td>\n",
       "      <td>Entomopathogenic nematodes for control of codl...</td>\n",
       "      <td>The susceptibility of codling moth diapausing ...</td>\n",
       "    </tr>\n",
       "    <tr>\n",
       "      <th>2</th>\n",
       "      <td>WOS:000078065800003</td>\n",
       "      <td>WOS:000078065800003</td>\n",
       "      <td>Animal</td>\n",
       "      <td>Nematodes and other aquatic invertebrates in E...</td>\n",
       "      <td>Bryophytes provide microhabitats for aquatic i...</td>\n",
       "    </tr>\n",
       "    <tr>\n",
       "      <th>3</th>\n",
       "      <td>WOS:000080234300045</td>\n",
       "      <td>WOS:000080234300045</td>\n",
       "      <td>Animal</td>\n",
       "      <td>Factors affecting long-term survival of dry bd...</td>\n",
       "      <td>Naturally dried lichens and mushrooms were col...</td>\n",
       "    </tr>\n",
       "    <tr>\n",
       "      <th>4</th>\n",
       "      <td>WOS:000081030800008</td>\n",
       "      <td>WOS:000081030800008</td>\n",
       "      <td>Animal</td>\n",
       "      <td>Desiccation survival of the entomopathogenic n...</td>\n",
       "      <td>The present study describes different desiccat...</td>\n",
       "    </tr>\n",
       "  </tbody>\n",
       "</table>\n",
       "</div>"
      ],
      "text/plain": [
       "                   UID                   Id study_system  \\\n",
       "0  WOS:000074822300003  WOS:000074822300003       Animal   \n",
       "1  WOS:000077146200008  WOS:000077146200008       Animal   \n",
       "2  WOS:000078065800003  WOS:000078065800003       Animal   \n",
       "3  WOS:000080234300045  WOS:000080234300045       Animal   \n",
       "4  WOS:000081030800008  WOS:000081030800008       Animal   \n",
       "\n",
       "                                               title  \\\n",
       "0  Ultrastructural changes during desiccation of ...   \n",
       "1  Entomopathogenic nematodes for control of codl...   \n",
       "2  Nematodes and other aquatic invertebrates in E...   \n",
       "3  Factors affecting long-term survival of dry bd...   \n",
       "4  Desiccation survival of the entomopathogenic n...   \n",
       "\n",
       "                                            abstract  \n",
       "0  Ultrastructural changes during desiccation of ...  \n",
       "1  The susceptibility of codling moth diapausing ...  \n",
       "2  Bryophytes provide microhabitats for aquatic i...  \n",
       "3  Naturally dried lichens and mushrooms were col...  \n",
       "4  The present study describes different desiccat...  "
      ]
     },
     "execution_count": 41,
     "metadata": {},
     "output_type": "execute_result"
    }
   ],
   "source": [
    "manual = pd.read_csv('../data/citation_network/core_collection_classified_mains_only_with_abstracts_RV.csv')\n",
    "manual.head()"
   ]
  },
  {
   "cell_type": "code",
   "execution_count": 42,
   "metadata": {},
   "outputs": [],
   "source": [
    "comparison = original[['UID', 'study_system', 'title', 'abstract']].merge(manual[['UID', 'study_system']], on='UID', suffixes=('_original', '_manual'))"
   ]
  },
  {
   "cell_type": "code",
   "execution_count": 43,
   "metadata": {},
   "outputs": [
    {
     "data": {
      "text/html": [
       "<div>\n",
       "<style scoped>\n",
       "    .dataframe tbody tr th:only-of-type {\n",
       "        vertical-align: middle;\n",
       "    }\n",
       "\n",
       "    .dataframe tbody tr th {\n",
       "        vertical-align: top;\n",
       "    }\n",
       "\n",
       "    .dataframe thead th {\n",
       "        text-align: right;\n",
       "    }\n",
       "</style>\n",
       "<table border=\"1\" class=\"dataframe\">\n",
       "  <thead>\n",
       "    <tr style=\"text-align: right;\">\n",
       "      <th></th>\n",
       "      <th>UID</th>\n",
       "      <th>study_system_original</th>\n",
       "      <th>title</th>\n",
       "      <th>abstract</th>\n",
       "      <th>study_system_manual</th>\n",
       "    </tr>\n",
       "  </thead>\n",
       "  <tbody>\n",
       "    <tr>\n",
       "      <th>0</th>\n",
       "      <td>WOS:000071070200022</td>\n",
       "      <td>Plant</td>\n",
       "      <td>Endophyte effect on drought tolerance in diver...</td>\n",
       "      <td>Tall fescue (Festuca arundinacea Schreb.) drou...</td>\n",
       "      <td>Plant</td>\n",
       "    </tr>\n",
       "    <tr>\n",
       "      <th>1</th>\n",
       "      <td>WOS:000071120900007</td>\n",
       "      <td>Plant</td>\n",
       "      <td>Seasonal variations in tolerance to ion leakag...</td>\n",
       "      <td>A simple ion leakage assay was used to test if...</td>\n",
       "      <td>Plant</td>\n",
       "    </tr>\n",
       "    <tr>\n",
       "      <th>2</th>\n",
       "      <td>WOS:000071209300053</td>\n",
       "      <td>NOCLASS</td>\n",
       "      <td>Regulation of body water balance in reedfrogs ...</td>\n",
       "      <td>The regulation of body water balance was exami...</td>\n",
       "      <td>Animal</td>\n",
       "    </tr>\n",
       "    <tr>\n",
       "      <th>3</th>\n",
       "      <td>WOS:000071582300006</td>\n",
       "      <td>NOCLASS</td>\n",
       "      <td>Community structure and environmental stress: ...</td>\n",
       "      <td>In a previous field experiment, communities of...</td>\n",
       "      <td>Animal</td>\n",
       "    </tr>\n",
       "    <tr>\n",
       "      <th>4</th>\n",
       "      <td>WOS:000071672300004</td>\n",
       "      <td>Plant</td>\n",
       "      <td>Evaluation of field and laboratory predictors ...</td>\n",
       "      <td>In Mediterranean regions, plant breeding progr...</td>\n",
       "      <td>Plant</td>\n",
       "    </tr>\n",
       "  </tbody>\n",
       "</table>\n",
       "</div>"
      ],
      "text/plain": [
       "                   UID study_system_original  \\\n",
       "0  WOS:000071070200022                 Plant   \n",
       "1  WOS:000071120900007                 Plant   \n",
       "2  WOS:000071209300053               NOCLASS   \n",
       "3  WOS:000071582300006               NOCLASS   \n",
       "4  WOS:000071672300004                 Plant   \n",
       "\n",
       "                                               title  \\\n",
       "0  Endophyte effect on drought tolerance in diver...   \n",
       "1  Seasonal variations in tolerance to ion leakag...   \n",
       "2  Regulation of body water balance in reedfrogs ...   \n",
       "3  Community structure and environmental stress: ...   \n",
       "4  Evaluation of field and laboratory predictors ...   \n",
       "\n",
       "                                            abstract study_system_manual  \n",
       "0  Tall fescue (Festuca arundinacea Schreb.) drou...               Plant  \n",
       "1  A simple ion leakage assay was used to test if...               Plant  \n",
       "2  The regulation of body water balance was exami...              Animal  \n",
       "3  In a previous field experiment, communities of...              Animal  \n",
       "4  In Mediterranean regions, plant breeding progr...               Plant  "
      ]
     },
     "execution_count": 43,
     "metadata": {},
     "output_type": "execute_result"
    }
   ],
   "source": [
    "comparison.head()"
   ]
  },
  {
   "cell_type": "markdown",
   "metadata": {},
   "source": [
    "## Quantify misclassifications\n",
    "### Amount of each class\n",
    "How many belong to each class in the automatic versus manually verified annotations?"
   ]
  },
  {
   "cell_type": "code",
   "execution_count": 44,
   "metadata": {},
   "outputs": [
    {
     "data": {
      "text/plain": [
       "study_system_original\n",
       "Plant      3630\n",
       "Microbe     830\n",
       "NOCLASS     788\n",
       "Animal      245\n",
       "Fungi       133\n",
       "Name: count, dtype: int64"
      ]
     },
     "execution_count": 44,
     "metadata": {},
     "output_type": "execute_result"
    }
   ],
   "source": [
    "comparison.study_system_original.value_counts()"
   ]
  },
  {
   "cell_type": "code",
   "execution_count": 45,
   "metadata": {},
   "outputs": [
    {
     "data": {
      "text/plain": [
       "study_system_manual\n",
       "Plant      3627\n",
       "Animal     1176\n",
       "Microbe     620\n",
       "Fungi       134\n",
       "NOCLASS      62\n",
       "fungi         7\n",
       "Name: count, dtype: int64"
      ]
     },
     "execution_count": 45,
     "metadata": {},
     "output_type": "execute_result"
    }
   ],
   "source": [
    "comparison.study_system_manual.value_counts()"
   ]
  },
  {
   "cell_type": "markdown",
   "metadata": {},
   "source": [
    "Some of the fungi labels are lowercased but shouldn't be, let's fix that quickly:"
   ]
  },
  {
   "cell_type": "code",
   "execution_count": 52,
   "metadata": {},
   "outputs": [],
   "source": [
    "comparison.loc[comparison['study_system_manual'] == 'fungi', 'study_system_manual'] = 'Fungi'"
   ]
  },
  {
   "cell_type": "code",
   "execution_count": 53,
   "metadata": {},
   "outputs": [
    {
     "data": {
      "text/plain": [
       "study_system_manual\n",
       "Plant      3627\n",
       "Animal     1176\n",
       "Microbe     620\n",
       "Fungi       141\n",
       "NOCLASS      62\n",
       "Name: count, dtype: int64"
      ]
     },
     "execution_count": 53,
     "metadata": {},
     "output_type": "execute_result"
    }
   ],
   "source": [
    "comparison.study_system_manual.value_counts()"
   ]
  },
  {
   "cell_type": "markdown",
   "metadata": {},
   "source": [
    "### Calculating performance\n",
    "To get a general idea of how we performed, we'll ignore specific classes and just check correct versus incorrect."
   ]
  },
  {
   "cell_type": "code",
   "execution_count": 54,
   "metadata": {},
   "outputs": [],
   "source": [
    "comparison['correct'] = comparison['study_system_original'] == comparison['study_system_manual']"
   ]
  },
  {
   "cell_type": "code",
   "execution_count": 55,
   "metadata": {},
   "outputs": [
    {
     "name": "stdout",
     "output_type": "stream",
     "text": [
      "Overall classification accuracy was 71.31%\n"
     ]
    }
   ],
   "source": [
    "accuracy = comparison['correct'].value_counts()[True]/(comparison['correct'].value_counts()[True] + comparison['correct'].value_counts()[False])\n",
    "print(f'Overall classification accuracy was {accuracy*100:.2f}%')"
   ]
  },
  {
   "cell_type": "markdown",
   "metadata": {},
   "source": [
    "We can look at an overall F1 score:"
   ]
  },
  {
   "cell_type": "code",
   "execution_count": 56,
   "metadata": {},
   "outputs": [
    {
     "name": "stdout",
     "output_type": "stream",
     "text": [
      "Overall F1 score is 0.72\n"
     ]
    }
   ],
   "source": [
    "f1_overall = f1_score(comparison['study_system_manual'], comparison['study_system_original'], average='weighted') # weighted accounts for class imbalance\n",
    "print(f'Overall F1 score is {f1_overall:.2f}')"
   ]
  },
  {
   "cell_type": "markdown",
   "metadata": {},
   "source": [
    "As well as F1 for each class:"
   ]
  },
  {
   "cell_type": "code",
   "execution_count": 57,
   "metadata": {},
   "outputs": [
    {
     "name": "stdout",
     "output_type": "stream",
     "text": [
      "F1 score for class Animal is 0.34\n",
      "F1 score for class Fungi is 0.31\n",
      "F1 score for class Microbe is 0.83\n",
      "F1 score for class NOCLASS is 0.12\n",
      "F1 score for class Plant is 0.85\n"
     ]
    }
   ],
   "source": [
    "f1_by_class = f1_score(comparison['study_system_manual'], comparison['study_system_original'], average=None)\n",
    "f1_by_class = {n: f for n, f in zip(sorted(comparison['study_system_manual'].unique()), f1_by_class)}\n",
    "for n, f in f1_by_class.items():\n",
    "    print(f'F1 score for class {n} is {f:.2f}')"
   ]
  },
  {
   "cell_type": "markdown",
   "metadata": {},
   "source": [
    "## Updating graph\n",
    "We want to both update the classifications, as well as remove nodes that are true NOCLASS."
   ]
  },
  {
   "cell_type": "code",
   "execution_count": 60,
   "metadata": {},
   "outputs": [],
   "source": [
    "to_update = comparison.set_index('UID')['study_system_manual'].to_dict()"
   ]
  },
  {
   "cell_type": "code",
   "execution_count": 63,
   "metadata": {},
   "outputs": [],
   "source": [
    "nx.set_node_attributes(graph, to_update, name='study_system')"
   ]
  },
  {
   "cell_type": "code",
   "execution_count": 64,
   "metadata": {},
   "outputs": [
    {
     "data": {
      "text/plain": [
       "62"
      ]
     },
     "execution_count": 64,
     "metadata": {},
     "output_type": "execute_result"
    }
   ],
   "source": [
    "to_drop = [n for n, c in to_update.items() if c == 'NOCLASS']\n",
    "len(to_drop)"
   ]
  },
  {
   "cell_type": "code",
   "execution_count": 65,
   "metadata": {},
   "outputs": [],
   "source": [
    "graph.remove_nodes_from(to_drop)"
   ]
  },
  {
   "cell_type": "markdown",
   "metadata": {},
   "source": [
    "Double check that we updated and dropped correctly by verifying numbers:"
   ]
  },
  {
   "cell_type": "code",
   "execution_count": 69,
   "metadata": {},
   "outputs": [
    {
     "data": {
      "text/plain": [
       "defaultdict(int, {'Plant': 3627, 'Animal': 1176, 'Microbe': 620, 'Fungi': 141})"
      ]
     },
     "execution_count": 69,
     "metadata": {},
     "output_type": "execute_result"
    }
   ],
   "source": [
    "verification = defaultdict(int)\n",
    "for node, attrs in graph.nodes(data=True):\n",
    "    verification[attrs['study_system']] += 1\n",
    "verification"
   ]
  },
  {
   "cell_type": "markdown",
   "metadata": {},
   "source": [
    "Looks good! Now write out:"
   ]
  },
  {
   "cell_type": "code",
   "execution_count": 70,
   "metadata": {},
   "outputs": [],
   "source": [
    "nx.write_graphml(graph, '../data/citation_network/core_collection_destol_or_anhydro_FILTERED_classified_network_06Jan2023_MANUALLY_VERIFIED.graphml')"
   ]
  }
 ],
 "metadata": {
  "kernelspec": {
   "display_name": "graphs",
   "language": "python",
   "name": "graphs"
  },
  "language_info": {
   "codemirror_mode": {
    "name": "ipython",
    "version": 3
   },
   "file_extension": ".py",
   "mimetype": "text/x-python",
   "name": "python",
   "nbconvert_exporter": "python",
   "pygments_lexer": "ipython3",
   "version": "3.10.13"
  }
 },
 "nbformat": 4,
 "nbformat_minor": 2
}
