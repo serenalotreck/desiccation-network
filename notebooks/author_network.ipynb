{
 "cells": [
  {
   "cell_type": "markdown",
   "metadata": {},
   "source": [
    "# Author network\n",
    "This notebook explores building a network with authors as nodes instead of papers, using both co-authorships and citations as edges/weights."
   ]
  },
  {
   "cell_type": "code",
   "execution_count": 2,
   "metadata": {},
   "outputs": [],
   "source": [
    "import networkx as nx\n",
    "import jsonlines\n",
    "from collections import defaultdict, Counter\n",
    "import matplotlib.pyplot as plt\n",
    "%matplotlib inline\n",
    "from itertools import combinations, permutations"
   ]
  },
  {
   "cell_type": "markdown",
   "metadata": {},
   "source": [
    "## Read & pre-process data"
   ]
  },
  {
   "cell_type": "code",
   "execution_count": 3,
   "metadata": {},
   "outputs": [],
   "source": [
    "graph = nx.read_graphml('../data/citation_network/core_collection_destol_or_anhydro_FILTERED_classified_network_06Jan2023_MANUALLY_VERIFIED.graphml')"
   ]
  },
  {
   "cell_type": "code",
   "execution_count": 4,
   "metadata": {},
   "outputs": [],
   "source": [
    "with jsonlines.open('../data/wos_files/core_collection_destol_or_anhydro_ALL_with_authors_18Jan2024_parallel.jsonl') as reader:\n",
    "    papers = [obj for obj in reader]"
   ]
  },
  {
   "cell_type": "code",
   "execution_count": 5,
   "metadata": {},
   "outputs": [],
   "source": [
    "# Index by paper\n",
    "paper_authors = defaultdict(list)\n",
    "for paper in papers:\n",
    "    uid = paper['UID']\n",
    "    for author in paper['authors']:\n",
    "        try:\n",
    "            paper_authors[uid].append(author['wos_standard'])\n",
    "        except KeyError:\n",
    "            continue"
   ]
  },
  {
   "cell_type": "code",
   "execution_count": 6,
   "metadata": {},
   "outputs": [],
   "source": [
    "# Index by author\n",
    "author_papers = defaultdict(list)\n",
    "for paper in papers:\n",
    "    uid = paper['UID']\n",
    "    for author in paper['authors']:\n",
    "        try:\n",
    "            author_papers[author['wos_standard']].append(uid)\n",
    "        except KeyError:\n",
    "            continue"
   ]
  },
  {
   "cell_type": "code",
   "execution_count": 7,
   "metadata": {},
   "outputs": [
    {
     "name": "stdout",
     "output_type": "stream",
     "text": [
      "There are 18036 unique author names in the dataset.\n"
     ]
    }
   ],
   "source": [
    "print(f'There are {len(author_papers)} unique author names in the dataset.')"
   ]
  },
  {
   "cell_type": "code",
   "execution_count": 8,
   "metadata": {},
   "outputs": [
    {
     "data": {
      "text/plain": [
       "Text(0, 0.5, 'Frequency')"
      ]
     },
     "execution_count": 8,
     "metadata": {},
     "output_type": "execute_result"
    },
    {
     "data": {
      "image/png": "[encoded data removed]",
      "text/plain": [
       "<Figure size 640x480 with 1 Axes>"
      ]
     },
     "metadata": {},
     "output_type": "display_data"
    }
   ],
   "source": [
    "paper_nums = [len(v) for k,v in author_papers.items()]\n",
    "_ = plt.hist(paper_nums, bins=100)\n",
    "plt.xlabel('Number of papers by author')\n",
    "plt.ylabel('Frequency')"
   ]
  },
  {
   "cell_type": "code",
   "execution_count": 9,
   "metadata": {},
   "outputs": [
    {
     "name": "stdout",
     "output_type": "stream",
     "text": [
      "6.75 percent of authors have more than 3 papers.\n"
     ]
    }
   ],
   "source": [
    "cutoff = 3\n",
    "print(f'{100*(len([i for i in paper_nums if i > cutoff])/len(paper_nums)):.2f} percent of authors have more than {cutoff} papers.')"
   ]
  },
  {
   "cell_type": "markdown",
   "metadata": {},
   "source": [
    "We'll remove authors with fewer than 3 papers from the dataset for the sake of building the people network, as it'll greatly simplify the resulting visuals and will make them more meaningful."
   ]
  },
  {
   "cell_type": "code",
   "execution_count": 10,
   "metadata": {},
   "outputs": [
    {
     "name": "stdout",
     "output_type": "stream",
     "text": [
      "There are 1218 authors remaining in the dataset.\n"
     ]
    }
   ],
   "source": [
    "thresholded = {k:v for k,v in author_papers.items() if len(v) > cutoff}\n",
    "print(f'There are {len(thresholded)} authors remaining in the dataset.')"
   ]
  },
  {
   "cell_type": "markdown",
   "metadata": {},
   "source": [
    "## Building people network\n",
    "There are two kinds of links we'll consider in our network building; co-authorships, and citations. ."
   ]
  },
  {
   "cell_type": "markdown",
   "metadata": {},
   "source": [
    "### Co-author network"
   ]
  },
  {
   "cell_type": "code",
   "execution_count": 11,
   "metadata": {},
   "outputs": [],
   "source": [
    "co_authorship_weights = defaultdict(int)\n",
    "for paper in papers:\n",
    "    authors = []\n",
    "    for author in paper['authors']:\n",
    "        try:\n",
    "            if author['wos_standard'] in thresholded.keys():\n",
    "                authors.append(author['wos_standard'])\n",
    "        except KeyError:\n",
    "            continue\n",
    "    all_author_pairs = combinations(authors, 2)\n",
    "    for author_pair in all_author_pairs:\n",
    "        if author_pair[0] != author_pair[1]:\n",
    "            co_authorship_weights[author_pair] += 1\n",
    "# Combine reverse-ordered pair counts for edges\n",
    "co_author_joined_weights = defaultdict(int)\n",
    "for pair, val in co_authorship_weights.items():\n",
    "    co_author_joined_weights[tuple(set(pair))] += val\n",
    "edges = [(c[0], c[1], {'weight': w}) for c, w in co_author_joined_weights.items()]"
   ]
  },
  {
   "cell_type": "code",
   "execution_count": 12,
   "metadata": {},
   "outputs": [],
   "source": [
    "co_author_graph = nx.Graph()\n",
    "_ = co_author_graph.add_edges_from(edges)"
   ]
  },
  {
   "cell_type": "code",
   "execution_count": 13,
   "metadata": {},
   "outputs": [],
   "source": [
    "nx.write_graphml(co_author_graph, '../data/citation_network/co_author_graph_thresh_3_26Jan2023.graphml')"
   ]
  },
  {
   "cell_type": "markdown",
   "metadata": {},
   "source": [
    "### Citation network"
   ]
  },
  {
   "cell_type": "code",
   "execution_count": 21,
   "metadata": {},
   "outputs": [],
   "source": [
    "co_citation_weights = defaultdict(int)\n",
    "for edge in graph.edges:\n",
    "    for author1 in paper_authors[edge[0]]:\n",
    "        for author2 in paper_authors[edge[1]]:\n",
    "            if author1 != author2:\n",
    "                if (author1 in thresholded.keys()) and (author2 in thresholded.keys()):\n",
    "                    author_pair = tuple(set([author1, author2]))\n",
    "                    co_citation_weights[author_pair] += 1\n",
    "edges = [(e[0], e[1], {'weight': w}) for e, w in co_citation_weights.items()]"
   ]
  },
  {
   "cell_type": "code",
   "execution_count": 22,
   "metadata": {},
   "outputs": [],
   "source": [
    "co_citation_graph = nx.Graph()\n",
    "_ = co_citation_graph.add_edges_from(edges)"
   ]
  },
  {
   "cell_type": "code",
   "execution_count": 23,
   "metadata": {},
   "outputs": [],
   "source": [
    "nx.write_graphml(co_citation_graph, '../data/citation_network/co_citation_graph_thresh_3_26Jan2023.graphml')"
   ]
  }
 ],
 "metadata": {
  "kernelspec": {
   "display_name": "graphs",
   "language": "python",
   "name": "graphs"
  },
  "language_info": {
   "codemirror_mode": {
    "name": "ipython",
    "version": 3
   },
   "file_extension": ".py",
   "mimetype": "text/x-python",
   "name": "python",
   "nbconvert_exporter": "python",
   "pygments_lexer": "ipython3",
   "version": "3.10.13"
  }
 },
 "nbformat": 4,
 "nbformat_minor": 2
}
