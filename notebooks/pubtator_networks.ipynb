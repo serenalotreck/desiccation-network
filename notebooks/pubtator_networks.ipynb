{
 "cells": [
  {
   "cell_type": "markdown",
   "metadata": {},
   "source": [
    "# PubTator Networks\n",
    "In this notebook we'll explore the creation of networks using grounded PubTator entity annotations."
   ]
  },
  {
   "cell_type": "code",
   "execution_count": 54,
   "metadata": {},
   "outputs": [],
   "source": [
    "import pandas as pd\n",
    "import networkx as nx\n",
    "from itertools import combinations\n",
    "from collections import defaultdict\n",
    "import numpy as np"
   ]
  },
  {
   "cell_type": "markdown",
   "metadata": {},
   "source": [
    "## Gene-only co-occurrence network"
   ]
  },
  {
   "cell_type": "code",
   "execution_count": 4,
   "metadata": {},
   "outputs": [
    {
     "data": {
      "text/html": [
       "<div>\n",
       "<style scoped>\n",
       "    .dataframe tbody tr th:only-of-type {\n",
       "        vertical-align: middle;\n",
       "    }\n",
       "\n",
       "    .dataframe tbody tr th {\n",
       "        vertical-align: top;\n",
       "    }\n",
       "\n",
       "    .dataframe thead th {\n",
       "        text-align: right;\n",
       "    }\n",
       "</style>\n",
       "<table border=\"1\" class=\"dataframe\">\n",
       "  <thead>\n",
       "    <tr style=\"text-align: right;\">\n",
       "      <th></th>\n",
       "      <th>paperId</th>\n",
       "      <th>ann_text</th>\n",
       "      <th>ann_type</th>\n",
       "      <th>db_grounding</th>\n",
       "    </tr>\n",
       "  </thead>\n",
       "  <tbody>\n",
       "    <tr>\n",
       "      <th>0</th>\n",
       "      <td>7bff04897ec52618c4adacb0122cddc455b255e3</td>\n",
       "      <td>Aphelenchus avenae</td>\n",
       "      <td>Species</td>\n",
       "      <td>70226</td>\n",
       "    </tr>\n",
       "    <tr>\n",
       "      <th>1</th>\n",
       "      <td>a8713d21e63e63ae733f656067032413b39d41e3</td>\n",
       "      <td>Artemia franciscana</td>\n",
       "      <td>Species</td>\n",
       "      <td>6661</td>\n",
       "    </tr>\n",
       "    <tr>\n",
       "      <th>2</th>\n",
       "      <td>a8713d21e63e63ae733f656067032413b39d41e3</td>\n",
       "      <td>Artemia franciscana</td>\n",
       "      <td>Species</td>\n",
       "      <td>6661</td>\n",
       "    </tr>\n",
       "    <tr>\n",
       "      <th>3</th>\n",
       "      <td>c2a1a6318d1902752bd59724cb3b6d55eaa842bb</td>\n",
       "      <td>mammalian</td>\n",
       "      <td>Species</td>\n",
       "      <td>9606</td>\n",
       "    </tr>\n",
       "    <tr>\n",
       "      <th>4</th>\n",
       "      <td>415502b49e3e0e412408fdf9a4653754ffb68ece</td>\n",
       "      <td>Escherichia coli</td>\n",
       "      <td>Species</td>\n",
       "      <td>562</td>\n",
       "    </tr>\n",
       "  </tbody>\n",
       "</table>\n",
       "</div>"
      ],
      "text/plain": [
       "                                    paperId             ann_text ann_type  \\\n",
       "0  7bff04897ec52618c4adacb0122cddc455b255e3   Aphelenchus avenae  Species   \n",
       "1  a8713d21e63e63ae733f656067032413b39d41e3  Artemia franciscana  Species   \n",
       "2  a8713d21e63e63ae733f656067032413b39d41e3  Artemia franciscana  Species   \n",
       "3  c2a1a6318d1902752bd59724cb3b6d55eaa842bb            mammalian  Species   \n",
       "4  415502b49e3e0e412408fdf9a4653754ffb68ece     Escherichia coli  Species   \n",
       "\n",
       "   db_grounding  \n",
       "0         70226  \n",
       "1          6661  \n",
       "2          6661  \n",
       "3          9606  \n",
       "4           562  "
      ]
     },
     "execution_count": 4,
     "metadata": {},
     "output_type": "execute_result"
    }
   ],
   "source": [
    "genes = pd.read_csv('../data/pubtator/gene_only_partial_20Nov2023.csv')\n",
    "genes.head()"
   ]
  },
  {
   "cell_type": "code",
   "execution_count": 8,
   "metadata": {},
   "outputs": [
    {
     "data": {
      "text/plain": [
       "(1284, 189)"
      ]
     },
     "execution_count": 8,
     "metadata": {},
     "output_type": "execute_result"
    }
   ],
   "source": [
    "genes.shape[0], len(genes.db_grounding.unique())"
   ]
  },
  {
   "cell_type": "code",
   "execution_count": 5,
   "metadata": {},
   "outputs": [
    {
     "data": {
      "text/plain": [
       "array(['Species', 'Genus', 'Strain', 'CellLine'], dtype=object)"
      ]
     },
     "execution_count": 5,
     "metadata": {},
     "output_type": "execute_result"
    }
   ],
   "source": [
    "genes.ann_type.unique()"
   ]
  },
  {
   "cell_type": "markdown",
   "metadata": {},
   "source": [
    "We requested Gene and only got these types, so something is definitely wrong; but I'm going to continue on with network building using these types."
   ]
  },
  {
   "cell_type": "code",
   "execution_count": 12,
   "metadata": {},
   "outputs": [
    {
     "data": {
      "text/plain": [
       "[(70226, 6661), (70226, 9606), (70226, 562), (70226, 947166), (70226, 470)]"
      ]
     },
     "execution_count": 12,
     "metadata": {},
     "output_type": "execute_result"
    }
   ],
   "source": [
    "list(combinations(genes.db_grounding.unique(), 2))[:5]"
   ]
  },
  {
   "cell_type": "code",
   "execution_count": 66,
   "metadata": {},
   "outputs": [],
   "source": [
    "genes_graph = nx.MultiGraph()\n",
    "nodes = {db_ground: defaultdict(list) for db_ground in genes.db_grounding.unique()}\n",
    "for i, row in genes.iterrows():\n",
    "    nodes[row['db_grounding']]['ann_text'].append(row.ann_text)\n",
    "    nodes[row['db_grounding']]['ann_type'].append(row.ann_type)\n",
    "    nodes[row['db_grounding']]['paperId'].append(row.paperId)\n",
    "for node, attrs in nodes.items():\n",
    "    for name, attr in attrs.items():\n",
    "        try:\n",
    "            nodes[node][name] = ' | '.join(list(set(attr)))\n",
    "        except TypeError:\n",
    "            changed = [i if isinstance(i, str) else 'None' for i in list(set(attr))]\n",
    "            nodes[node][name] = ' |'.join(changed)\n",
    "nodes_to_add = [(n, attrs) for n, attrs in nodes.items()]\n",
    "genes_graph.add_nodes_from(nodes_to_add)\n",
    "edge_id = 0\n",
    "for paper in genes.paperId.unique():\n",
    "    to_join = genes[genes['paperId'] == paper]\n",
    "    edges_to_add = combinations(to_join.db_grounding.unique(), 2)\n",
    "    edges_with_ids = []\n",
    "    for e in edges_to_add:\n",
    "        edge = (e[0], e[1], edge_id)\n",
    "        edge_id += 1\n",
    "        edges_with_ids.append(edge)\n",
    "    genes_graph.add_edges_from(edges_with_ids, label=paper)"
   ]
  },
  {
   "cell_type": "code",
   "execution_count": 67,
   "metadata": {},
   "outputs": [],
   "source": [
    "nx.write_graphml(genes_graph, '../data/kg/genes_but_species_750_co_occurrence_20Nov2023.graphml')"
   ]
  }
 ],
 "metadata": {
  "kernelspec": {
   "display_name": "graphs",
   "language": "python",
   "name": "graphs"
  },
  "language_info": {
   "codemirror_mode": {
    "name": "ipython",
    "version": 3
   },
   "file_extension": ".py",
   "mimetype": "text/x-python",
   "name": "python",
   "nbconvert_exporter": "python",
   "pygments_lexer": "ipython3",
   "version": "3.10.13"
  }
 },
 "nbformat": 4,
 "nbformat_minor": 2
}
