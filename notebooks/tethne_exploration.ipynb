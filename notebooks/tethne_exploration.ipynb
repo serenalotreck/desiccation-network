{
 "cells": [
  {
   "cell_type": "markdown",
   "metadata": {},
   "source": [
    "# Tethne citation network building exploration\n",
    "Exploration of using tethne and TaxoNERD to builda  citation network and classify the nodes by study system."
   ]
  },
  {
   "cell_type": "code",
   "execution_count": null,
   "metadata": {},
   "outputs": [],
   "source": [
    "from tethne.readers import wos\n",
    "import tethne.networks as nt\n",
    "import pkgutil\n",
    "import tethne"
   ]
  },
  {
   "cell_type": "code",
   "execution_count": null,
   "metadata": {},
   "outputs": [],
   "source": [
    "wos_file = '../data/wos_files/31Mar2023_partial_download_SEARCH_desiccation_tolerance/savedrecs_ALL.txt'"
   ]
  },
  {
   "cell_type": "code",
   "execution_count": null,
   "metadata": {},
   "outputs": [],
   "source": [
    "papers = rd.wos.read(wos_file)\n",
    "gDC, iDC = nt.papers.direct_citation(papers)"
   ]
  },
  {
   "cell_type": "code",
   "execution_count": null,
   "metadata": {},
   "outputs": [],
   "source": []
  }
 ],
 "metadata": {
  "kernelspec": {
   "display_name": "desiccation",
   "language": "python",
   "name": "desiccation"
  },
  "language_info": {
   "codemirror_mode": {
    "name": "ipython",
    "version": 3
   },
   "file_extension": ".py",
   "mimetype": "text/x-python",
   "name": "python",
   "nbconvert_exporter": "python",
   "pygments_lexer": "ipython3",
   "version": "3.6.4"
  }
 },
 "nbformat": 4,
 "nbformat_minor": 2
}
