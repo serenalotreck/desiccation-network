{
 "cells": [
  {
   "cell_type": "markdown",
   "metadata": {},
   "source": [
    "# Unique species\n",
    "Visualize the numbers of unique species within and across kingdoms."
   ]
  },
  {
   "cell_type": "code",
   "execution_count": 25,
   "metadata": {},
   "outputs": [],
   "source": [
    "import json\n",
    "from collections import defaultdict\n",
    "import sys\n",
    "sys.path.append('../desiccation_network/build_citation_network/')\n",
    "from classify_papers import map_specs_to_kings\n",
    "import taxoniq\n",
    "import pandas as pd\n",
    "from itertools import combinations\n",
    "import numpy as np\n",
    "import matplotlib.pyplot as plt\n",
    "%matplotlib inline\n",
    "import networkx as nx"
   ]
  },
  {
   "cell_type": "markdown",
   "metadata": {},
   "source": [
    "## Read in & preprocess data"
   ]
  },
  {
   "cell_type": "code",
   "execution_count": 26,
   "metadata": {},
   "outputs": [],
   "source": [
    "graph = nx.read_graphml('../data/citation_network/FINAL_DEBUGGED_MANUALLY_VERIFIED_core_collection_destol_or_anhydro_classified_network_25Mar2024.graphml')"
   ]
  },
  {
   "cell_type": "code",
   "execution_count": 27,
   "metadata": {},
   "outputs": [],
   "source": [
    "with open('../data/citation_network/intermediate_saves/classmains_debug_30Jan2024/species_ids.json') as myf:\n",
    "    species_ids = json.load(myf)"
   ]
  },
  {
   "cell_type": "code",
   "execution_count": 28,
   "metadata": {},
   "outputs": [],
   "source": [
    "# Cast all NCBI Taxonomy IDs to integers\n",
    "species_ids = {k: int(v) for k, v in species_ids.items()}"
   ]
  },
  {
   "cell_type": "markdown",
   "metadata": {},
   "source": [
    "## Numbers of unique species\n",
    "### Entire dataset"
   ]
  },
  {
   "cell_type": "code",
   "execution_count": 29,
   "metadata": {},
   "outputs": [
    {
     "name": "stdout",
     "output_type": "stream",
     "text": [
      "There are 4229 unique species mentions in the overall dataset before processing to kingdoms.\n"
     ]
    }
   ],
   "source": [
    "total_uniq = set(species_ids.values())\n",
    "print(f'There are {len(total_uniq)} unique species mentions in the overall dataset before processing to kingdoms.')"
   ]
  },
  {
   "cell_type": "markdown",
   "metadata": {},
   "source": [
    "### Per class"
   ]
  },
  {
   "cell_type": "code",
   "execution_count": 30,
   "metadata": {},
   "outputs": [
    {
     "name": "stderr",
     "output_type": "stream",
     "text": [
      "100%|██████████| 6458/6458 [00:01<00:00, 3607.04it/s]"
     ]
    },
    {
     "name": "stdout",
     "output_type": "stream",
     "text": [
      "When building the species --> kingdom dict, 179 species were dropped because their kingdom wasn't in our list of interest, 3 were dropped because they were only identifyable as Eukaryota, and 15 because they did not appear in taxoniq's local version of NCBI Taxonomy. This could mean they are not in the actual taxonomy, or that they were added after taxoniq last updated its database version. Finally, 1 species were dropped because their lineage in the taxonomy entry was empty.\n"
     ]
    },
    {
     "name": "stderr",
     "output_type": "stream",
     "text": [
      "\n"
     ]
    }
   ],
   "source": [
    "full_species_dict = map_specs_to_kings(species_ids)"
   ]
  },
  {
   "cell_type": "markdown",
   "metadata": {},
   "source": [
    "We want to disambiguate repeated species, we can do that by using their IDs:"
   ]
  },
  {
   "cell_type": "code",
   "execution_count": 31,
   "metadata": {},
   "outputs": [],
   "source": [
    "unique_spec_kings = defaultdict(list)\n",
    "for spec, king in full_species_dict.items():\n",
    "    taxon_id = species_ids[spec]\n",
    "    unique_spec_kings[king].append(taxon_id)\n",
    "unique_spec_kings = {k: list(set(v)) for k, v in unique_spec_kings.items()}"
   ]
  },
  {
   "cell_type": "code",
   "execution_count": 32,
   "metadata": {},
   "outputs": [
    {
     "name": "stdout",
     "output_type": "stream",
     "text": [
      "There are 1393 unique database-normalized species in kingdom Animal.\n",
      "There are 1916 unique database-normalized species in kingdom Plant.\n",
      "There are 493 unique database-normalized species in kingdom Microbe.\n",
      "There are 233 unique database-normalized species in kingdom Fungi.\n"
     ]
    }
   ],
   "source": [
    "for king, specs in unique_spec_kings.items():\n",
    "    print(f'There are {len(specs)} unique database-normalized species in kingdom {king}.')"
   ]
  },
  {
   "cell_type": "code",
   "execution_count": 33,
   "metadata": {},
   "outputs": [
    {
     "name": "stdout",
     "output_type": "stream",
     "text": [
      "There are 4035 total unique species across our kingdoms of interest.\n"
     ]
    }
   ],
   "source": [
    "print(f'There are {sum([len(v) for v in unique_spec_kings.values()])} total unique species across our kingdoms of interest.')"
   ]
  },
  {
   "cell_type": "code",
   "execution_count": 34,
   "metadata": {
    "scrolled": false
   },
   "outputs": [
    {
     "data": {
      "image/png": "[encoded data removed]",
      "text/plain": [
       "<Figure size 200x600 with 1 Axes>"
      ]
     },
     "metadata": {},
     "output_type": "display_data"
    }
   ],
   "source": [
    "colors = {'Plant': '#228833', 'Animal':'#EE6677', 'Microbe': '#4477AA', 'Fungi':'#CCBB44'}\n",
    "bottom = np.zeros(1)\n",
    "fig, ax = plt.subplots(figsize=(2,6))\n",
    "for king, specs in unique_spec_kings.items():\n",
    "    count = len(specs)\n",
    "    ax.bar('Dataset', count, color=colors[king], label=king, bottom=bottom)\n",
    "    bottom += count\n",
    "    \n",
    "for bar in ax.patches:\n",
    "    ax.text(\n",
    "        bar.get_x() + bar.get_width() / 2,\n",
    "        0.5*bar.get_height() + bar.get_y(),\n",
    "        int(bar.get_height()),\n",
    "        ha='center',\n",
    "        va='center',\n",
    "        color='w',\n",
    "        weight='bold',\n",
    "        size=12\n",
    "    )\n",
    "    \n",
    "    centered_x = bar.get_x() + bar.get_width() / 2\n",
    "    top_y = bar.get_height() + bar.get_y()\n",
    "\n",
    "ax.text(centered_x, top_y + 100, sum([len(v) for v in unique_spec_kings.values()]), bbox={'boxstyle':'round', 'facecolor':'w'}, ha='center', va='bottom', fontsize=12)\n",
    "ax.set_ylabel('Unique species count')\n",
    "ax.spines[['right', 'top']].set_visible(False)\n",
    "ax.get_xaxis().set_visible(False)\n",
    "plt.legend(loc=(1.05,0))\n",
    "plt.savefig('../data/citation_network/figures/unique_species_per_kingdom_bar.pdf', format='pdf', dpi=600, bbox_inches='tight')"
   ]
  },
  {
   "cell_type": "markdown",
   "metadata": {},
   "source": [
    "## Papers per kingdom\n",
    "We want a similar plot, but for papers instead of species."
   ]
  },
  {
   "cell_type": "code",
   "execution_count": 35,
   "metadata": {},
   "outputs": [],
   "source": [
    "papers_per_king = defaultdict(int)\n",
    "for node, attrs in graph.nodes(data=True):\n",
    "    papers_per_king[attrs['study_system']] += 1"
   ]
  },
  {
   "cell_type": "code",
   "execution_count": 36,
   "metadata": {},
   "outputs": [
    {
     "data": {
      "text/plain": [
       "defaultdict(int, {'Plant': 3318, 'Animal': 1222, 'Microbe': 514, 'Fungi': 130})"
      ]
     },
     "execution_count": 36,
     "metadata": {},
     "output_type": "execute_result"
    }
   ],
   "source": [
    "papers_per_king"
   ]
  },
  {
   "cell_type": "code",
   "execution_count": 46,
   "metadata": {},
   "outputs": [
    {
     "data": {
      "image/png": "[encoded data removed]",
      "text/plain": [
       "<Figure size 200x600 with 1 Axes>"
      ]
     },
     "metadata": {},
     "output_type": "display_data"
    }
   ],
   "source": [
    "colors = {'Plant': '#228833', 'Animal':'#EE6677', 'Microbe': '#4477AA', 'Fungi':'#CCBB44'}\n",
    "bottom = np.zeros(1)\n",
    "fig, ax = plt.subplots(figsize=(2,6))\n",
    "for king, pprs in papers_per_king.items():\n",
    "    ax.bar('Dataset', pprs, color=colors[king], label=king, bottom=bottom)\n",
    "    bottom += pprs\n",
    "    \n",
    "for bar in ax.patches:\n",
    "    if int(bar.get_height()) == 130:\n",
    "        fung_y =  bar.get_y()\n",
    "        top_y = bar.get_height() + fung_y\n",
    "        continue\n",
    "    else:\n",
    "        ax.text(\n",
    "            bar.get_x() + bar.get_width() / 2,\n",
    "            0.5*bar.get_height() + bar.get_y(),\n",
    "            int(bar.get_height()),\n",
    "            ha='center',\n",
    "            va='center',\n",
    "            color='w',\n",
    "            weight='bold',\n",
    "            size=12\n",
    "        )\n",
    "    \n",
    "    centered_x = bar.get_x() + bar.get_width() / 2\n",
    "\n",
    "obj = ax.text(0.75, fung_y, papers_per_king['Fungi'], bbox={'boxstyle':'round', 'facecolor':colors['Fungi'], 'edgecolor':'w'}, ha='center', va='bottom', fontsize=12, color='w', weight='bold')\n",
    "# box = obj.get_bbox_patch()\n",
    "# fig.canvas.draw()\n",
    "# coords = ax.transData.inverted().transform(box.get_window_extent())\n",
    "# x = coords[0][0]\n",
    "# y = coords[1][1] - coords[0][1]\n",
    "# ax.arrow(x, y, -0.25, 0)\n",
    "ax.text(centered_x, top_y + 200, sum(papers_per_king.values()), bbox={'boxstyle':'round', 'facecolor':'w'}, ha='center', va='bottom', fontsize=12)\n",
    "ax.set_ylabel('Paper count')\n",
    "ax.spines[['right', 'top']].set_visible(False)\n",
    "ax.get_xaxis().set_visible(False)\n",
    "plt.legend(loc=(1.05,0))\n",
    "plt.savefig('../data/citation_network/figures/papers_per_kingdom_bar.pdf', format='pdf', dpi=600, bbox_inches='tight')"
   ]
  },
  {
   "cell_type": "markdown",
   "metadata": {},
   "source": [
    "## Papers versus species in each category"
   ]
  },
  {
   "cell_type": "code",
   "execution_count": 47,
   "metadata": {},
   "outputs": [],
   "source": [
    "num_papers = defaultdict(int)\n",
    "for node, attrs in graph.nodes(data=True):\n",
    "    num_papers[attrs['study_system']] += 1"
   ]
  },
  {
   "cell_type": "code",
   "execution_count": 48,
   "metadata": {},
   "outputs": [],
   "source": [
    "uniq_spec_nums = {k: len(v) for k, v in unique_spec_kings.items()}"
   ]
  },
  {
   "cell_type": "code",
   "execution_count": 49,
   "metadata": {},
   "outputs": [],
   "source": [
    "uniq_spec_nums_normed = {k: v/sum(uniq_spec_nums.values()) for k, v in uniq_spec_nums.items()}\n",
    "num_papers_normed = {k: v/sum(num_papers.values()) for k, v in num_papers.items()}"
   ]
  },
  {
   "cell_type": "code",
   "execution_count": 50,
   "metadata": {},
   "outputs": [
    {
     "data": {
      "text/plain": [
       "{'Animal': 0.34522924411400246,\n",
       " 'Plant': 0.4748451053283767,\n",
       " 'Microbe': 0.12218091697645601,\n",
       " 'Fungi': 0.05774473358116481}"
      ]
     },
     "execution_count": 50,
     "metadata": {},
     "output_type": "execute_result"
    }
   ],
   "source": [
    "uniq_spec_nums_normed"
   ]
  },
  {
   "cell_type": "code",
   "execution_count": 51,
   "metadata": {},
   "outputs": [
    {
     "data": {
      "text/plain": [
       "{'Plant': 0.6400462962962963,\n",
       " 'Animal': 0.2357253086419753,\n",
       " 'Microbe': 0.09915123456790123,\n",
       " 'Fungi': 0.02507716049382716}"
      ]
     },
     "execution_count": 51,
     "metadata": {},
     "output_type": "execute_result"
    }
   ],
   "source": [
    "num_papers_normed"
   ]
  },
  {
   "cell_type": "code",
   "execution_count": 52,
   "metadata": {},
   "outputs": [],
   "source": [
    "bars_df = pd.DataFrame.from_dict(num_papers_normed, orient='index', columns=['Papers'])"
   ]
  },
  {
   "cell_type": "code",
   "execution_count": 53,
   "metadata": {},
   "outputs": [],
   "source": [
    "bars_df = bars_df.merge(pd.DataFrame.from_dict(uniq_spec_nums_normed, orient='index', columns=['Species']), right_index=True, left_index=True)"
   ]
  },
  {
   "cell_type": "code",
   "execution_count": 54,
   "metadata": {},
   "outputs": [
    {
     "data": {
      "image/png": "[encoded data removed]",
      "text/plain": [
       "<Figure size 200x600 with 1 Axes>"
      ]
     },
     "metadata": {},
     "output_type": "display_data"
    }
   ],
   "source": [
    "fig, ax = plt.subplots(figsize=(2,6))\n",
    "bottom = np.zeros(bars_df.shape[1])\n",
    "\n",
    "for system in bars_df.index:\n",
    "    p = ax.bar(bars_df.columns.astype(str), bars_df.loc[system], color=colors[system], label=system, bottom=bottom)\n",
    "    bottom += bars_df.loc[system]\n",
    "\n",
    "for bar in ax.patches:\n",
    "    ax.text(\n",
    "        bar.get_x() + bar.get_width() / 2,\n",
    "        0.5*bar.get_height() + bar.get_y(),\n",
    "        str(round(bar.get_height()*100, 1)) + '%',\n",
    "        ha='center',\n",
    "        va='center',\n",
    "        color='w',\n",
    "        weight='bold',\n",
    "        size=10\n",
    "    )\n",
    "    \n",
    "    centered_x = bar.get_x() + bar.get_width() / 2\n",
    "    top_y = bar.get_height() + bar.get_y()\n",
    "\n",
    "    \n",
    "ax.set_ylabel('Proportion')\n",
    "plt.legend(loc=(1.05,0))\n",
    "plt.savefig('../data/citation_network/figures/papers_vs_species.pdf', format='pdf', dpi=600, bbox_inches='tight')"
   ]
  }
 ],
 "metadata": {
  "kernelspec": {
   "display_name": "graphs",
   "language": "python",
   "name": "graphs"
  },
  "language_info": {
   "codemirror_mode": {
    "name": "ipython",
    "version": 3
   },
   "file_extension": ".py",
   "mimetype": "text/x-python",
   "name": "python",
   "nbconvert_exporter": "python",
   "pygments_lexer": "ipython3",
   "version": "3.10.13"
  }
 },
 "nbformat": 4,
 "nbformat_minor": 2
}
