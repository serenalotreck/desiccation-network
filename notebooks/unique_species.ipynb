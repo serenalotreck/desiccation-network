{
 "cells": [
  {
   "cell_type": "markdown",
   "metadata": {},
   "source": [
    "# Unique species\n",
    "Visualize the numbers of unique species within and across kingdoms."
   ]
  },
  {
   "cell_type": "code",
   "execution_count": 27,
   "metadata": {},
   "outputs": [],
   "source": [
    "import json\n",
    "from collections import defaultdict\n",
    "import sys\n",
    "sys.path.append('../desiccation_network/build_citation_network/')\n",
    "from classify_papers import map_specs_to_kings\n",
    "import taxoniq\n",
    "import pandas as pd\n",
    "from itertools import combinations\n",
    "import numpy as np\n",
    "import matplotlib.pyplot as plt\n",
    "%matplotlib inline\n",
    "import networkx as nx"
   ]
  },
  {
   "cell_type": "markdown",
   "metadata": {},
   "source": [
    "## Read in & preprocess data"
   ]
  },
  {
   "cell_type": "code",
   "execution_count": 3,
   "metadata": {},
   "outputs": [],
   "source": [
    "graph = nx.read_graphml('../data/citation_network/core_collection_destol_or_anhydro_FILTERED_classified_network_06Jan2023_MANUALLY_VERIFIED.graphml')"
   ]
  },
  {
   "cell_type": "code",
   "execution_count": 7,
   "metadata": {},
   "outputs": [],
   "source": [
    "with open('../data/citation_network/intermediate_saves/classmains_07Jan2024/species_ids.json') as myf:\n",
    "    species_ids = json.load(myf)"
   ]
  },
  {
   "cell_type": "code",
   "execution_count": 8,
   "metadata": {},
   "outputs": [],
   "source": [
    "# Cast all NCBI Taxonomy IDs to integers\n",
    "species_ids = {k: int(v) for k, v in species_ids.items()}"
   ]
  },
  {
   "cell_type": "markdown",
   "metadata": {},
   "source": [
    "## Numbers of unique species\n",
    "### Entire dataset"
   ]
  },
  {
   "cell_type": "code",
   "execution_count": 9,
   "metadata": {},
   "outputs": [
    {
     "name": "stdout",
     "output_type": "stream",
     "text": [
      "There are 4809 unique species mentions in the overall dataset before processing to kingdoms.\n"
     ]
    }
   ],
   "source": [
    "total_uniq = set(species_ids.values())\n",
    "print(f'There are {len(total_uniq)} unique species mentions in the overall dataset before processing to kingdoms.')"
   ]
  },
  {
   "cell_type": "markdown",
   "metadata": {},
   "source": [
    "### Per class"
   ]
  },
  {
   "cell_type": "code",
   "execution_count": 10,
   "metadata": {},
   "outputs": [
    {
     "name": "stderr",
     "output_type": "stream",
     "text": [
      "100%|██████████| 7297/7297 [00:01<00:00, 5294.19it/s]"
     ]
    },
    {
     "name": "stdout",
     "output_type": "stream",
     "text": [
      "When building the species --> kingdom dict, 201 species were dropped because their kingdom wasn't in our list of interest, 4 were dropped because they were only identifyable as Eukaryota, and 15 because they did not appear in taxoniq's local version of NCBI Taxonomy. This could mean they are not in the actual taxonomy, or that they were added after taxoniq last updated its database version. Finally, 1 species were dropped because their lineage in the taxonomy entry was empty.\n"
     ]
    },
    {
     "name": "stderr",
     "output_type": "stream",
     "text": [
      "\n"
     ]
    }
   ],
   "source": [
    "full_species_dict = map_specs_to_kings(species_ids)"
   ]
  },
  {
   "cell_type": "markdown",
   "metadata": {},
   "source": [
    "We want to disambiguate repeated species, we can do that by using their IDs:"
   ]
  },
  {
   "cell_type": "code",
   "execution_count": 11,
   "metadata": {},
   "outputs": [],
   "source": [
    "unique_spec_kings = defaultdict(list)\n",
    "for spec, king in full_species_dict.items():\n",
    "    taxon_id = species_ids[spec]\n",
    "    unique_spec_kings[king].append(taxon_id)\n",
    "unique_spec_kings = {k: list(set(v)) for k, v in unique_spec_kings.items()}"
   ]
  },
  {
   "cell_type": "code",
   "execution_count": 12,
   "metadata": {},
   "outputs": [
    {
     "name": "stdout",
     "output_type": "stream",
     "text": [
      "There are 2095 unique database-normalized species in kingdom Plant.\n",
      "There are 1652 unique database-normalized species in kingdom Animal.\n",
      "There are 542 unique database-normalized species in kingdom Microbe.\n",
      "There are 293 unique database-normalized species in kingdom Fungi.\n"
     ]
    }
   ],
   "source": [
    "for king, specs in unique_spec_kings.items():\n",
    "    print(f'There are {len(specs)} unique database-normalized species in kingdom {king}.')"
   ]
  },
  {
   "cell_type": "code",
   "execution_count": 13,
   "metadata": {},
   "outputs": [
    {
     "name": "stdout",
     "output_type": "stream",
     "text": [
      "There are 4582 total unique species across our kingdoms of interest.\n"
     ]
    }
   ],
   "source": [
    "print(f'There are {sum([len(v) for v in unique_spec_kings.values()])} total unique species across our kingdoms of interest.')"
   ]
  },
  {
   "cell_type": "code",
   "execution_count": 14,
   "metadata": {
    "scrolled": false
   },
   "outputs": [
    {
     "data": {
      "image/png": "[encoded data removed]",
      "text/plain": [
       "<Figure size 200x600 with 1 Axes>"
      ]
     },
     "metadata": {},
     "output_type": "display_data"
    }
   ],
   "source": [
    "colors = {'Plant': '#228833', 'Animal':'#EE6677', 'Microbe': '#4477AA', 'Fungi':'#CCBB44'}\n",
    "bottom = np.zeros(1)\n",
    "fig, ax = plt.subplots(figsize=(2,6))\n",
    "for king, specs in unique_spec_kings.items():\n",
    "    count = len(specs)\n",
    "    ax.bar('Dataset', count, color=colors[king], label=king, bottom=bottom)\n",
    "    bottom += count\n",
    "    \n",
    "for bar in ax.patches:\n",
    "    ax.text(\n",
    "        bar.get_x() + bar.get_width() / 2,\n",
    "        0.5*bar.get_height() + bar.get_y(),\n",
    "        int(bar.get_height()),\n",
    "        ha='center',\n",
    "        va='center',\n",
    "        color='w',\n",
    "        weight='bold',\n",
    "        size=12\n",
    "    )\n",
    "    \n",
    "    centered_x = bar.get_x() + bar.get_width() / 2\n",
    "    top_y = bar.get_height() + bar.get_y()\n",
    "\n",
    "ax.text(centered_x, top_y + 100, sum([len(v) for v in unique_spec_kings.values()]), bbox={'boxstyle':'round', 'facecolor':'w'}, ha='center', va='bottom', fontsize=12)\n",
    "ax.set_ylabel('Unique species count')\n",
    "ax.spines[['right', 'top']].set_visible(False)\n",
    "ax.get_xaxis().set_visible(False)\n",
    "plt.legend(loc=(1.05,0))\n",
    "plt.savefig('../data/citation_network/figures/unique_species_per_kingdom_bar.png', format='png', dpi=600, bbox_inches='tight')"
   ]
  },
  {
   "cell_type": "markdown",
   "metadata": {},
   "source": [
    "## Papers versus species in each category"
   ]
  },
  {
   "cell_type": "code",
   "execution_count": 41,
   "metadata": {},
   "outputs": [],
   "source": [
    "num_papers = defaultdict(int)\n",
    "for node, attrs in graph.nodes(data=True):\n",
    "    num_papers[attrs['study_system']] += 1"
   ]
  },
  {
   "cell_type": "code",
   "execution_count": 42,
   "metadata": {},
   "outputs": [],
   "source": [
    "uniq_spec_nums = {k: len(v) for k, v in unique_spec_kings.items()}"
   ]
  },
  {
   "cell_type": "code",
   "execution_count": 43,
   "metadata": {},
   "outputs": [],
   "source": [
    "uniq_spec_nums_normed = {k: v/sum(uniq_spec_nums.values()) for k, v in uniq_spec_nums.items()}\n",
    "num_papers_normed = {k: v/sum(num_papers.values()) for k, v in num_papers.items()}"
   ]
  },
  {
   "cell_type": "code",
   "execution_count": 44,
   "metadata": {},
   "outputs": [
    {
     "data": {
      "text/plain": [
       "{'Plant': 0.45722391968572673,\n",
       " 'Animal': 0.3605412483631602,\n",
       " 'Microbe': 0.11828895678742907,\n",
       " 'Fungi': 0.06394587516368398}"
      ]
     },
     "execution_count": 44,
     "metadata": {},
     "output_type": "execute_result"
    }
   ],
   "source": [
    "uniq_spec_nums_normed"
   ]
  },
  {
   "cell_type": "code",
   "execution_count": 45,
   "metadata": {},
   "outputs": [
    {
     "data": {
      "text/plain": [
       "{'Plant': 0.6518691588785047,\n",
       " 'Animal': 0.2113587347232207,\n",
       " 'Microbe': 0.11143062544931703,\n",
       " 'Fungi': 0.025341480948957586}"
      ]
     },
     "execution_count": 45,
     "metadata": {},
     "output_type": "execute_result"
    }
   ],
   "source": [
    "num_papers_normed"
   ]
  },
  {
   "cell_type": "code",
   "execution_count": 46,
   "metadata": {},
   "outputs": [],
   "source": [
    "bars_df = pd.DataFrame.from_dict(num_papers_normed, orient='index', columns=['Papers'])"
   ]
  },
  {
   "cell_type": "code",
   "execution_count": 47,
   "metadata": {},
   "outputs": [],
   "source": [
    "bars_df = bars_df.merge(pd.DataFrame.from_dict(uniq_spec_nums_normed, orient='index', columns=['Species']), right_index=True, left_index=True)"
   ]
  },
  {
   "cell_type": "code",
   "execution_count": 61,
   "metadata": {},
   "outputs": [
    {
     "data": {
      "image/png": "[encoded data removed]",
      "text/plain": [
       "<Figure size 200x600 with 1 Axes>"
      ]
     },
     "metadata": {},
     "output_type": "display_data"
    }
   ],
   "source": [
    "fig, ax = plt.subplots(figsize=(2,6))\n",
    "bottom = np.zeros(bars_df.shape[1])\n",
    "\n",
    "for system in bars_df.index:\n",
    "    p = ax.bar(bars_df.columns.astype(str), bars_df.loc[system], color=colors[system], label=system, bottom=bottom)\n",
    "    bottom += bars_df.loc[system]\n",
    "\n",
    "for bar in ax.patches:\n",
    "    ax.text(\n",
    "        bar.get_x() + bar.get_width() / 2,\n",
    "        0.5*bar.get_height() + bar.get_y(),\n",
    "        str(round(bar.get_height()*100, 1)) + '%',\n",
    "        ha='center',\n",
    "        va='center',\n",
    "        color='w',\n",
    "        weight='bold',\n",
    "        size=10\n",
    "    )\n",
    "    \n",
    "    centered_x = bar.get_x() + bar.get_width() / 2\n",
    "    top_y = bar.get_height() + bar.get_y()\n",
    "\n",
    "    \n",
    "ax.set_ylabel('Proportion')\n",
    "plt.legend(loc=(1.05,0))\n",
    "plt.savefig('../data/citation_network/figures/papers_vs_species.png', format='png', dpi=600, bbox_inches='tight')"
   ]
  }
 ],
 "metadata": {
  "kernelspec": {
   "display_name": "graphs",
   "language": "python",
   "name": "graphs"
  },
  "language_info": {
   "codemirror_mode": {
    "name": "ipython",
    "version": 3
   },
   "file_extension": ".py",
   "mimetype": "text/x-python",
   "name": "python",
   "nbconvert_exporter": "python",
   "pygments_lexer": "ipython3",
   "version": "3.10.13"
  }
 },
 "nbformat": 4,
 "nbformat_minor": 2
}
