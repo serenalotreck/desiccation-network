{
 "cells": [
  {
   "cell_type": "markdown",
   "metadata": {},
   "source": [
    "# WoS dataset characterization"
   ]
  },
  {
   "cell_type": "code",
   "execution_count": 1,
   "metadata": {
    "tags": []
   },
   "outputs": [
    {
     "name": "stderr",
     "output_type": "stream",
     "text": [
      "2024-01-02 11:08:56.463782: I tensorflow/core/platform/cpu_feature_guard.cc:193] This TensorFlow binary is optimized with oneAPI Deep Neural Network Library (oneDNN) to use the following CPU instructions in performance-critical operations:  SSE4.1 SSE4.2 AVX AVX2 AVX512F AVX512_VNNI FMA\n",
      "To enable them in other operations, rebuild TensorFlow with the appropriate compiler flags.\n",
      "2024-01-02 11:08:59.281276: I tensorflow/core/util/port.cc:104] oneDNN custom operations are on. You may see slightly different numerical results due to floating-point round-off errors from different computation orders. To turn them off, set the environment variable `TF_ENABLE_ONEDNN_OPTS=0`.\n"
     ]
    }
   ],
   "source": [
    "import jsonlines\n",
    "import numpy as np\n",
    "from collections import Counter, OrderedDict, defaultdict\n",
    "import pandas as pd\n",
    "import matplotlib.pyplot as plt\n",
    "%matplotlib inline\n",
    "from wordcloud import WordCloud, STOPWORDS\n",
    "import gensim.downloader\n",
    "import torch\n",
    "from transformers import AutoModel, AutoTokenizer\n",
    "import os, csv\n",
    "from functools import reduce\n",
    "import numpy as np\n",
    "import umap\n",
    "from sklearn.cluster import HDBSCAN"
   ]
  },
  {
   "cell_type": "markdown",
   "metadata": {},
   "source": [
    "## Read in the dataset"
   ]
  },
  {
   "cell_type": "code",
   "execution_count": 21,
   "metadata": {
    "tags": []
   },
   "outputs": [],
   "source": [
    "with jsonlines.open('../data/wos_files/core_collection_destol_or_anhydro_ALL_15Dec2023.jsonl') as reader:\n",
    "    full_main = []\n",
    "    for obj in reader:\n",
    "        full_main.append(obj)\n",
    "with jsonlines.open('../data/wos_files/core_collection_destol_or_anhydro_ALL_15Dec2023_with_reference_abstracts.jsonl') as reader:\n",
    "    full_w_refs = []\n",
    "    for obj in reader:\n",
    "        full_w_refs.append(obj)"
   ]
  },
  {
   "cell_type": "markdown",
   "metadata": {},
   "source": [
    "## Initial characterization"
   ]
  },
  {
   "cell_type": "markdown",
   "metadata": {},
   "source": [
    "### Document numbers"
   ]
  },
  {
   "cell_type": "code",
   "execution_count": 27,
   "metadata": {},
   "outputs": [
    {
     "name": "stdout",
     "output_type": "stream",
     "text": [
      "In the document set before adding reference abstracts, there are 6903 unique main documents and 193976 unique references, 9 of which don't have UIDs.\n"
     ]
    }
   ],
   "source": [
    "full_main_mains = []\n",
    "full_main_refs = []\n",
    "full_ref_no_uid = 0\n",
    "for doc in full_main:\n",
    "    full_main_mains.append(doc['UID'])\n",
    "    for ref in doc['references']:\n",
    "        try:\n",
    "            full_main_refs.append(ref['UID'])\n",
    "        except KeyError:\n",
    "            full_ref_no_uid += 1\n",
    "print(f'In the document set before adding reference abstracts, there are {len(set(full_main_mains))} unique main documents and '\n",
    "     f'{len(set(full_main_refs))} unique references, {full_ref_no_uid} of which don\\'t have UIDs.')"
   ]
  },
  {
   "cell_type": "code",
   "execution_count": 28,
   "metadata": {},
   "outputs": [
    {
     "name": "stdout",
     "output_type": "stream",
     "text": [
      "In the document set after adding reference abstracts, there are 6903 unique main documents and 193976 unique references, 9 of which don't have UIDs.\n"
     ]
    }
   ],
   "source": [
    "full_w_refs_mains = []\n",
    "full_w_refs_refs = []\n",
    "full_w_ref_no_uid = 0\n",
    "for doc in full_w_refs:\n",
    "    full_w_refs_mains.append(doc['UID'])\n",
    "    for ref in doc['references']:\n",
    "        try:\n",
    "            full_w_refs_refs.append(ref['UID'])\n",
    "        except KeyError:\n",
    "            full_w_ref_no_uid += 1\n",
    "print(f'In the document set after adding reference abstracts, there are {len(set(full_w_refs_mains))} unique main documents and '\n",
    "     f'{len(set(full_w_refs_refs))} unique references, {full_w_ref_no_uid} of which don\\'t have UIDs.')"
   ]
  },
  {
   "cell_type": "markdown",
   "metadata": {},
   "source": [
    "### Documents without abstracts\n",
    "#### Main documents"
   ]
  },
  {
   "cell_type": "code",
   "execution_count": 11,
   "metadata": {},
   "outputs": [
    {
     "name": "stdout",
     "output_type": "stream",
     "text": [
      "There are 6903 documents in the main search results, and 375 of these are missing abstracts\n"
     ]
    }
   ],
   "source": [
    "no_abstr = []\n",
    "no_abstr_years = []\n",
    "for doc in full_main:\n",
    "    try:\n",
    "        doc['abstract']\n",
    "    except KeyError:\n",
    "        no_abstr.append(doc['UID'])\n",
    "        try:\n",
    "            no_abstr_years.append(doc['year'])\n",
    "        except KeyError:\n",
    "            no_abstr_years.append(np.nan)\n",
    "print(f'There are {len(full_main)} documents in the main search results, and {len(no_abstr)} of these are missing abstracts')"
   ]
  },
  {
   "cell_type": "markdown",
   "metadata": {},
   "source": [
    "Is there a pattern to the documents missing abstracts in terms of what year they were published?"
   ]
  },
  {
   "cell_type": "code",
   "execution_count": 12,
   "metadata": {},
   "outputs": [
    {
     "data": {
      "text/plain": [
       "Text(0.5, 1.0, 'Publication years of papers without abstracts in main search results')"
      ]
     },
     "execution_count": 12,
     "metadata": {},
     "output_type": "execute_result"
    },
    {
     "data": {
      "image/png": "[encoded data removed]",
      "text/plain": [
       "<Figure size 640x480 with 1 Axes>"
      ]
     },
     "metadata": {},
     "output_type": "display_data"
    }
   ],
   "source": [
    "counted_years = OrderedDict(sorted(Counter(no_abstr_years).items()))\n",
    "plt.bar(counted_years.keys(), counted_years.values())\n",
    "_ = plt.xticks(rotation=90)\n",
    "plt.xlabel('Publication year')\n",
    "plt.ylabel('Count')\n",
    "plt.title('Publication years of papers without abstracts in main search results')"
   ]
  },
  {
   "cell_type": "markdown",
   "metadata": {},
   "source": [
    "There is no clear pattern of publication year."
   ]
  },
  {
   "cell_type": "markdown",
   "metadata": {},
   "source": [
    "#### References"
   ]
  },
  {
   "cell_type": "code",
   "execution_count": 30,
   "metadata": {},
   "outputs": [
    {
     "name": "stdout",
     "output_type": "stream",
     "text": [
      "There are 193976 references with UIDs, and 243 of these are missing abstracts. 9 references were dropped because they don't have a UID.\n"
     ]
    }
   ],
   "source": [
    "ref_no_abstr = []\n",
    "ref_no_abstr_years = []\n",
    "total_refs = []\n",
    "ref_no_uid = 0\n",
    "for doc in full_main:\n",
    "    for ref in doc['references']:\n",
    "        try:\n",
    "            total_refs.append(ref['UID'])\n",
    "        except KeyError:\n",
    "            ref_no_uid += 1\n",
    "        try:\n",
    "            doc['abstract']\n",
    "        except KeyError:\n",
    "            ref_no_abstr.append(doc['UID'])\n",
    "            try:\n",
    "                ref_no_abstr_years.append(doc['year'])\n",
    "            except KeyError:\n",
    "                ref_no_abstr_years.append(np.nan)\n",
    "print(f'There are {len(set(total_refs))} references with UIDs, and {len(set(ref_no_abstr))} of these are missing abstracts. {ref_no_uid} references were dropped because they don\\'t have a UID.')"
   ]
  },
  {
   "cell_type": "markdown",
   "metadata": {},
   "source": [
    "### Reference characterization\n",
    "#### Number of references per paper"
   ]
  },
  {
   "cell_type": "code",
   "execution_count": 5,
   "metadata": {},
   "outputs": [
    {
     "name": "stdout",
     "output_type": "stream",
     "text": [
      "The papers in the search results have a mean of 54.31 references.\n"
     ]
    }
   ],
   "source": [
    "num_refs = [len(doc['references']) for doc in full_main]\n",
    "counted_refs = OrderedDict(sorted(Counter(num_refs).items()))\n",
    "print(f'The papers in the search results have a mean of {sum(num_refs)/len(num_refs):.2f} references.')"
   ]
  },
  {
   "cell_type": "code",
   "execution_count": 6,
   "metadata": {},
   "outputs": [
    {
     "data": {
      "text/plain": [
       "Text(0.5, 1.0, 'Number of references per paper in dataset')"
      ]
     },
     "execution_count": 6,
     "metadata": {},
     "output_type": "execute_result"
    },
    {
     "data": {
      "image/png": "[encoded data removed]",
      "text/plain": [
       "<Figure size 640x480 with 1 Axes>"
      ]
     },
     "metadata": {},
     "output_type": "display_data"
    }
   ],
   "source": [
    "plt.bar(counted_refs.keys(), counted_refs.values())\n",
    "_ = plt.xticks(rotation=90)\n",
    "plt.xlabel('Number of references')\n",
    "plt.ylabel('Papers with this number of references')\n",
    "plt.title('Number of references per paper in dataset')"
   ]
  },
  {
   "cell_type": "markdown",
   "metadata": {},
   "source": [
    "There are a surprising number of papers with no references -- what's up there?"
   ]
  },
  {
   "cell_type": "code",
   "execution_count": 7,
   "metadata": {},
   "outputs": [
    {
     "name": "stdout",
     "output_type": "stream",
     "text": [
      "There are 165 papers with no references in the dataset.\n"
     ]
    }
   ],
   "source": [
    "no_refs = [doc for doc in full_main if len(doc['references']) == 0]\n",
    "print(f'There are {len(no_refs)} papers with no references in the dataset.')"
   ]
  },
  {
   "cell_type": "markdown",
   "metadata": {},
   "source": [
    "Do these overlap with the papers that have no abstract?"
   ]
  },
  {
   "cell_type": "code",
   "execution_count": 8,
   "metadata": {},
   "outputs": [
    {
     "name": "stdout",
     "output_type": "stream",
     "text": [
      "132 of the papers with no references also have no abstract.\n"
     ]
    }
   ],
   "source": [
    "no_refs_and_no_abstract = [doc for doc in no_refs if doc['UID'] in no_abstr]\n",
    "print(f'{len(no_refs_and_no_abstract)} of the papers with no references also have no abstract.')"
   ]
  },
  {
   "cell_type": "markdown",
   "metadata": {},
   "source": [
    "That is a high proportion, which makes sense and will be dropped from the dataset. What about the remaining 32 papers with no references? Let's pull a sample of their UIDs and manually check them; it's possible they actually have no references."
   ]
  },
  {
   "cell_type": "code",
   "execution_count": 9,
   "metadata": {},
   "outputs": [
    {
     "data": {
      "text/plain": [
       "['WOS:A1992JF38800001',\n",
       " 'WOS:A1995RQ10400016',\n",
       " 'WOS:A1991GG65200007',\n",
       " 'WOS:A1992KD98900008',\n",
       " 'WOS:A1992JQ67100004']"
      ]
     },
     "execution_count": 9,
     "metadata": {},
     "output_type": "execute_result"
    }
   ],
   "source": [
    "no_refs_but_abstract = [doc['UID'] for doc in no_refs if doc['UID'] not in no_abstr]\n",
    "no_refs_but_abstract[:5]"
   ]
  },
  {
   "cell_type": "markdown",
   "metadata": {},
   "source": [
    "`WOS:A1992JF38800001` has references but they only exist in the scanned PDF. `WOS:A1995RQ10400016` has no version linked on WoS. `WOS:A1991GG65200007` has a PDF with references, same with `WOS:A1992KD98900008`. These four are all from the early 90's; what does the year distribution look like for these papers?"
   ]
  },
  {
   "cell_type": "code",
   "execution_count": 10,
   "metadata": {},
   "outputs": [
    {
     "data": {
      "text/plain": [
       "Text(0.5, 1.0, 'Publication years of papers without references but that have abstracts')"
      ]
     },
     "execution_count": 10,
     "metadata": {},
     "output_type": "execute_result"
    },
    {
     "data": {
      "image/png": "[encoded data removed]",
      "text/plain": [
       "<Figure size 640x480 with 1 Axes>"
      ]
     },
     "metadata": {},
     "output_type": "display_data"
    }
   ],
   "source": [
    "years_for_no_refs = [doc['year'] for doc in no_refs if doc['UID'] not in no_abstr]\n",
    "counted_no_ref_years = OrderedDict(sorted(Counter(years_for_no_refs).items()))\n",
    "plt.bar(counted_no_ref_years.keys(), counted_no_ref_years.values())\n",
    "_ = plt.xticks(rotation=90)\n",
    "plt.xlabel('Publication year')\n",
    "plt.ylabel('Count')\n",
    "plt.title('Publication years of papers without references but that have abstracts')"
   ]
  },
  {
   "cell_type": "markdown",
   "metadata": {},
   "source": [
    "They're all from the 90s with the exception of the one paper from 2016. Not sure what's going on there; may want to reach out to figure out if there's something funky going on."
   ]
  },
  {
   "cell_type": "markdown",
   "metadata": {},
   "source": [
    "####  Proportion of references not in Core Collection for main search results\n",
    "The documentation states: \"There are two types of uid values: 1) the UID of a matching source item in Web of Science and 2) the UID of the parent (citing) document, followed by an increment. A value of the second type indicates a reference for which there is no matching source item.\" However, it is unclear to me if the references of the second type are prefixed by `WOS:` or not; it seems like they are not, and are just numbers, but also in some cases do have the `WOS` prefix. I've included both below."
   ]
  },
  {
   "cell_type": "code",
   "execution_count": 11,
   "metadata": {},
   "outputs": [
    {
     "name": "stdout",
     "output_type": "stream",
     "text": [
      "WOS:000625084200001 WOS:000625084200001\n",
      "WOS:000623923100001 WOS:000623923100001\n",
      "WOS:000615278100031 WOS:000615278100031\n",
      "WOS:000708492600002 WOS:000708492600002\n",
      "There are 374909 references in the dataset as a whole.\n"
     ]
    }
   ],
   "source": [
    "no_core_props = []\n",
    "no_uid_entries = []\n",
    "total_refs = 0\n",
    "for doc in full_main:\n",
    "    UID = doc['UID']\n",
    "    total_paper_refs = len(doc['references'])\n",
    "    not_in_core = 0\n",
    "    for ref in doc['references']:\n",
    "        try:\n",
    "            if (ref['UID'].split('.')[0] == UID) or (ref['UID'].split('.')[0] == UID.split(':')[1]):\n",
    "                try:\n",
    "                    assert len(ref['UID'].split('.')) == 2\n",
    "                    not_in_core += 1\n",
    "                except AssertionError:\n",
    "                    print(doc['UID'], ref['UID'])\n",
    "        except KeyError:\n",
    "            no_uid_entries.append(ref)\n",
    "    try:\n",
    "        no_core_props.append(not_in_core/total_paper_refs)\n",
    "    except ZeroDivisionError:\n",
    "        no_core_props.append(0)\n",
    "    total_refs += total_paper_refs\n",
    "print(f'There are {total_refs} references in the dataset as a whole.')"
   ]
  },
  {
   "cell_type": "markdown",
   "metadata": {},
   "source": [
    "Four references have an identical UID to the parent paper, without the numerical addition at the end to state the order in which the paper was referenced. However, that is actually quite spectatular given that there are 374,909 total references. Let's quickly take a look at the references for one of the papers with the UID identical to parent and see if we can figure out what's going on there."
   ]
  },
  {
   "cell_type": "code",
   "execution_count": 12,
   "metadata": {},
   "outputs": [
    {
     "data": {
      "text/plain": [
       "Text(0, 0.5, 'Count')"
      ]
     },
     "execution_count": 12,
     "metadata": {},
     "output_type": "execute_result"
    },
    {
     "data": {
      "image/png": "[encoded data removed]",
      "text/plain": [
       "<Figure size 640x480 with 1 Axes>"
      ]
     },
     "metadata": {},
     "output_type": "display_data"
    }
   ],
   "source": [
    "_ = plt.hist(no_core_props, bins=50)\n",
    "plt.xlabel('Proportion of references not in the Core Collection')\n",
    "plt.ylabel('Count')"
   ]
  },
  {
   "cell_type": "code",
   "execution_count": 13,
   "metadata": {},
   "outputs": [
    {
     "name": "stdout",
     "output_type": "stream",
     "text": [
      "632 of 6903 papers have all references included in the Core Collection, which is 9.16 percent of references.\n"
     ]
    }
   ],
   "source": [
    "print(f'{Counter(no_core_props)[0]} of {len(no_core_props)} papers have all references included in the Core Collection, which is {(Counter(no_core_props)[0]/len(no_core_props))*100:.2f} percent of references.')"
   ]
  },
  {
   "cell_type": "markdown",
   "metadata": {},
   "source": [
    "Unfortunately, very few papers have all of their references exclusively in the Core Collection. This is not necessarily surprising, as WoS Core Collection is intended to prioritize quality over coverage; but does potentially pose some issues for the assumption that anything outside the Core Collection can be dropped."
   ]
  },
  {
   "cell_type": "markdown",
   "metadata": {},
   "source": [
    "#### Number of references without a year\n",
    "This looks for references that didn't have a year recorded where they were referenced; however, it may be possible to ameliorate some of this when we go back and look for the paper abstracts."
   ]
  },
  {
   "cell_type": "code",
   "execution_count": 14,
   "metadata": {},
   "outputs": [],
   "source": [
    "refs_no_year = 0\n",
    "for doc in full_main:\n",
    "    for ref in doc['references']:\n",
    "        try:\n",
    "            ref['year']\n",
    "        except KeyError:\n",
    "            refs_no_year += 1"
   ]
  },
  {
   "cell_type": "code",
   "execution_count": 15,
   "metadata": {},
   "outputs": [
    {
     "name": "stdout",
     "output_type": "stream",
     "text": [
      "527 of 374909 total references are missing a year, which is 0.14 percent of references.\n"
     ]
    }
   ],
   "source": [
    "print(f'{refs_no_year} of {total_refs} total references are missing a year, which is {(refs_no_year/total_refs)*100:.2f} percent of references.')"
   ]
  },
  {
   "cell_type": "markdown",
   "metadata": {},
   "source": [
    "Not bad at all! I also don't really use the year for much, so I am totally comfortable with this number."
   ]
  },
  {
   "cell_type": "markdown",
   "metadata": {},
   "source": [
    "#### Number of references without a title\n",
    "It came to my attention whey trying to run `descriptive_stats.py` that not all references have a title. Which references are those?"
   ]
  },
  {
   "cell_type": "code",
   "execution_count": 16,
   "metadata": {
    "tags": []
   },
   "outputs": [],
   "source": [
    "no_title = [ref for doc in full_main for ref in doc['references'] if 'title' not in ref.keys()]"
   ]
  },
  {
   "cell_type": "code",
   "execution_count": 17,
   "metadata": {
    "tags": []
   },
   "outputs": [
    {
     "name": "stdout",
     "output_type": "stream",
     "text": [
      "29730 of 374909 have no title, which is 7.93 percent of references.\n"
     ]
    }
   ],
   "source": [
    "print(f'{len(no_title)} of {total_refs} have no title, which is {(len(no_title)/total_refs)*100:.2f} percent of references.')"
   ]
  },
  {
   "cell_type": "markdown",
   "metadata": {},
   "source": [
    "That is quite a lot of abstracts with no title. I wonder if they're mainly abstracts outside the Core Collection?"
   ]
  },
  {
   "cell_type": "code",
   "execution_count": 18,
   "metadata": {
    "tags": []
   },
   "outputs": [],
   "source": [
    "no_title_uids = []\n",
    "no_uids_no_title = []\n",
    "for ref in no_title:\n",
    "    try:\n",
    "        no_title_uids.append(ref['UID'])\n",
    "    except KeyError:\n",
    "        no_uids_no_title.append(ref)"
   ]
  },
  {
   "cell_type": "code",
   "execution_count": 19,
   "metadata": {
    "tags": []
   },
   "outputs": [
    {
     "name": "stdout",
     "output_type": "stream",
     "text": [
      "There are 29721 references that have no title but do have a UID, and there are 9 references with neither.\n"
     ]
    }
   ],
   "source": [
    "print(f'There are {len(no_title_uids)} references that have no title but do have a UID, and there are {len(no_uids_no_title)} references with neither.')"
   ]
  },
  {
   "cell_type": "code",
   "execution_count": 20,
   "metadata": {
    "tags": []
   },
   "outputs": [],
   "source": [
    "not_in_core_no_title = [UID for UID in no_title_uids if len(UID.split('.')) == 2]"
   ]
  },
  {
   "cell_type": "code",
   "execution_count": 21,
   "metadata": {
    "tags": []
   },
   "outputs": [
    {
     "name": "stdout",
     "output_type": "stream",
     "text": [
      "29714 of 29721 title-less abstracts are not in the Core Collection, which is 99.98 percent of the title-less references.\n"
     ]
    }
   ],
   "source": [
    "print(f'{len(not_in_core_no_title)} of {len(no_title_uids)} title-less abstracts are not in the Core Collection, which is {(len(not_in_core_no_title)/len(no_title_uids))*100:.2f} percent of the title-less references.')"
   ]
  },
  {
   "cell_type": "markdown",
   "metadata": {},
   "source": [
    "This is a good thing if we decide to drop these, since they'll almost all go."
   ]
  },
  {
   "cell_type": "markdown",
   "metadata": {},
   "source": [
    "### Static keyword characterization\n",
    "Before progressing to the more complex dynamic keywords, let's characterize the static keywords in this dataset to see if they may be useful for exclusion.\n",
    "#### Number of unique static keywords per paper"
   ]
  },
  {
   "cell_type": "code",
   "execution_count": 22,
   "metadata": {
    "tags": []
   },
   "outputs": [],
   "source": [
    "num_static = []\n",
    "for doc in full_main:\n",
    "    num_static.append(len(set(doc['static_keywords'])))"
   ]
  },
  {
   "cell_type": "code",
   "execution_count": 23,
   "metadata": {
    "tags": []
   },
   "outputs": [
    {
     "data": {
      "text/plain": [
       "Text(0, 0.5, 'Paper count')"
      ]
     },
     "execution_count": 23,
     "metadata": {},
     "output_type": "execute_result"
    },
    {
     "data": {
      "image/png": "[encoded data removed]",
      "text/plain": [
       "<Figure size 640x480 with 1 Axes>"
      ]
     },
     "metadata": {},
     "output_type": "display_data"
    }
   ],
   "source": [
    "counted_static = OrderedDict(sorted(Counter(num_static).items()))\n",
    "plt.bar([str(k) for k in counted_static.keys()], counted_static.values())\n",
    "plt.xlabel('Number of unique dynamic keywords')\n",
    "plt.ylabel('Paper count')"
   ]
  },
  {
   "cell_type": "markdown",
   "metadata": {},
   "source": [
    "#### Frequency of static keywords in dataset"
   ]
  },
  {
   "cell_type": "code",
   "execution_count": 24,
   "metadata": {
    "tags": []
   },
   "outputs": [],
   "source": [
    "all_static_keys = [stat for doc in full_main for stat in doc['static_keywords']]"
   ]
  },
  {
   "cell_type": "code",
   "execution_count": 25,
   "metadata": {
    "tags": []
   },
   "outputs": [
    {
     "name": "stdout",
     "output_type": "stream",
     "text": [
      "There are 148 unique static keywords in the dataset.\n"
     ]
    }
   ],
   "source": [
    "print(f'There are {len(set(all_static_keys))} unique static keywords in the dataset.')"
   ]
  },
  {
   "cell_type": "code",
   "execution_count": 26,
   "metadata": {
    "tags": []
   },
   "outputs": [],
   "source": [
    "wordcloud = WordCloud(width = 800, height = 800,\n",
    "                background_color ='white',\n",
    "                stopwords = set(STOPWORDS),\n",
    "                min_font_size = 10).generate_from_frequencies(Counter(all_static_keys))"
   ]
  },
  {
   "cell_type": "code",
   "execution_count": 27,
   "metadata": {
    "tags": []
   },
   "outputs": [
    {
     "data": {
      "image/png": "[encoded data removed]",
      "text/plain": [
       "<Figure size 640x480 with 1 Axes>"
      ]
     },
     "metadata": {},
     "output_type": "display_data"
    }
   ],
   "source": [
    "plt.imshow(wordcloud)\n",
    "plt.axis(\"off\")\n",
    "plt.tight_layout(pad = 0)"
   ]
  },
  {
   "cell_type": "markdown",
   "metadata": {},
   "source": [
    "How many times do these keywords tend to appear in the dataset, and which are the low-frequency ones?"
   ]
  },
  {
   "cell_type": "code",
   "execution_count": 28,
   "metadata": {
    "tags": []
   },
   "outputs": [
    {
     "data": {
      "text/plain": [
       "Text(0, 0.5, 'Count')"
      ]
     },
     "execution_count": 28,
     "metadata": {},
     "output_type": "execute_result"
    },
    {
     "data": {
      "image/png": "[encoded data removed]",
      "text/plain": [
       "<Figure size 640x480 with 1 Axes>"
      ]
     },
     "metadata": {},
     "output_type": "display_data"
    }
   ],
   "source": [
    "_ = plt.hist(Counter(all_static_keys).values(), bins=50)\n",
    "plt.xlabel('Number of times the keyword appears')\n",
    "plt.ylabel('Count')"
   ]
  },
  {
   "cell_type": "code",
   "execution_count": 29,
   "metadata": {
    "tags": []
   },
   "outputs": [],
   "source": [
    "low_freq_static = [k for k, v in Counter(all_static_keys).items() if v < 50]"
   ]
  },
  {
   "cell_type": "code",
   "execution_count": 30,
   "metadata": {
    "tags": []
   },
   "outputs": [
    {
     "data": {
      "text/plain": [
       "['Medicine, Research & Experimental',\n",
       " 'Research & Experimental Medicine',\n",
       " 'Fisheries',\n",
       " 'Chemistry, Organic',\n",
       " 'Polymer Science',\n",
       " 'Nutrition & Dietetics',\n",
       " 'Agricultural Engineering',\n",
       " 'Meteorology & Atmospheric Sciences',\n",
       " 'Chemistry, Medicinal',\n",
       " 'Materials Science, Ceramics',\n",
       " 'Materials Science, Multidisciplinary',\n",
       " 'Materials Science',\n",
       " 'Immunology',\n",
       " 'Geography, Physical',\n",
       " 'Physical Geography',\n",
       " 'Medical Laboratory Technology',\n",
       " 'Limnology',\n",
       " 'Nanoscience & Nanotechnology',\n",
       " 'Physics, Applied',\n",
       " 'Physics, Condensed Matter']"
      ]
     },
     "execution_count": 30,
     "metadata": {},
     "output_type": "execute_result"
    }
   ],
   "source": [
    "low_freq_static[:20]"
   ]
  },
  {
   "cell_type": "markdown",
   "metadata": {},
   "source": [
    "I think the static keywords show a lot of promise for exclusion criteria, as some of these are clearly out of scope; however, we should still explore the dynamic keywords."
   ]
  },
  {
   "cell_type": "markdown",
   "metadata": {},
   "source": [
    "## Dynamic keyword characterization\n",
    "Now let's take a look at the dynamic keywords we've retreived with our dataset to see if they show more promise for exclusion than the static ones.\n",
    "\n",
    "### Number of papers containing dynamic keywords"
   ]
  },
  {
   "cell_type": "code",
   "execution_count": 31,
   "metadata": {
    "tags": []
   },
   "outputs": [
    {
     "name": "stdout",
     "output_type": "stream",
     "text": [
      "6903 of 6903 papers have dynamic keywords.\n"
     ]
    }
   ],
   "source": [
    "papers_w_dynamics = []\n",
    "for doc in full_main:\n",
    "    try:\n",
    "        papers_w_dynamics.append(doc['dynamic_keys'])\n",
    "    except KeyError:\n",
    "        continue\n",
    "print(f'{len(papers_w_dynamics)} of {len(full_main)} papers have dynamic keywords.')"
   ]
  },
  {
   "cell_type": "markdown",
   "metadata": {},
   "source": [
    "### Number of unique dynamic keywords per paper"
   ]
  },
  {
   "cell_type": "code",
   "execution_count": 32,
   "metadata": {
    "tags": []
   },
   "outputs": [],
   "source": [
    "num_dynamos = []\n",
    "for doc in full_main:\n",
    "    num_dynamos.append(len(set(doc['dynamic_keys'])))"
   ]
  },
  {
   "cell_type": "code",
   "execution_count": 33,
   "metadata": {
    "tags": []
   },
   "outputs": [
    {
     "data": {
      "text/plain": [
       "Text(0, 0.5, 'Paper count')"
      ]
     },
     "execution_count": 33,
     "metadata": {},
     "output_type": "execute_result"
    },
    {
     "data": {
      "image/png": "[encoded data removed]",
      "text/plain": [
       "<Figure size 640x480 with 1 Axes>"
      ]
     },
     "metadata": {},
     "output_type": "display_data"
    }
   ],
   "source": [
    "counted_dynamos = OrderedDict(sorted(Counter(num_dynamos).items()))\n",
    "plt.bar([str(k) for k in counted_dynamos.keys()], counted_dynamos.values())\n",
    "plt.xlabel('Number of unique dynamic keywords')\n",
    "plt.ylabel('Paper count')"
   ]
  },
  {
   "cell_type": "markdown",
   "metadata": {},
   "source": [
    "#### Frequency of dynamic keywords in dataset\n",
    "Nearly all papers have 3 keywords, some have none. Let's take a look at what the common keywords are with a wordcloud."
   ]
  },
  {
   "cell_type": "code",
   "execution_count": 34,
   "metadata": {
    "tags": []
   },
   "outputs": [],
   "source": [
    "all_dynamo_keys = [dynamo for doc in full_main for dynamo in doc['dynamic_keys']]"
   ]
  },
  {
   "cell_type": "code",
   "execution_count": 35,
   "metadata": {
    "tags": []
   },
   "outputs": [],
   "source": [
    "wordcloud = WordCloud(width = 800, height = 800,\n",
    "                background_color ='white',\n",
    "                stopwords = set(STOPWORDS),\n",
    "                min_font_size = 10).generate_from_frequencies(Counter(all_dynamo_keys))"
   ]
  },
  {
   "cell_type": "code",
   "execution_count": 36,
   "metadata": {
    "tags": []
   },
   "outputs": [
    {
     "data": {
      "image/png": "[encoded data removed]",
      "text/plain": [
       "<Figure size 640x480 with 1 Axes>"
      ]
     },
     "metadata": {},
     "output_type": "display_data"
    }
   ],
   "source": [
    "plt.imshow(wordcloud)\n",
    "plt.axis(\"off\")\n",
    "plt.tight_layout(pad = 0)"
   ]
  },
  {
   "cell_type": "markdown",
   "metadata": {},
   "source": [
    "This wordcloud is definitely missing things; there are likely a lot of keywords that only appear once or a few times. Let's take a look by plotting the distribution of how many times a keyword appears:"
   ]
  },
  {
   "cell_type": "code",
   "execution_count": 37,
   "metadata": {
    "tags": []
   },
   "outputs": [
    {
     "data": {
      "text/plain": [
       "Text(0, 0.5, 'Count')"
      ]
     },
     "execution_count": 37,
     "metadata": {},
     "output_type": "execute_result"
    },
    {
     "data": {
      "image/png": "[encoded data removed]",
      "text/plain": [
       "<Figure size 640x480 with 1 Axes>"
      ]
     },
     "metadata": {},
     "output_type": "display_data"
    }
   ],
   "source": [
    "_ = plt.hist(Counter(all_dynamo_keys).values(), bins=50)\n",
    "plt.xlabel('Number of times the keyword appears')\n",
    "plt.ylabel('Count')"
   ]
  },
  {
   "cell_type": "code",
   "execution_count": 38,
   "metadata": {
    "tags": []
   },
   "outputs": [
    {
     "name": "stdout",
     "output_type": "stream",
     "text": [
      "There are 464 total unique dynamic keywords.\n"
     ]
    }
   ],
   "source": [
    "print(f'There are {len(set(all_dynamo_keys))} total unique dynamic keywords.')"
   ]
  },
  {
   "cell_type": "markdown",
   "metadata": {},
   "source": [
    "As with the static keywords, most keywords only appear a few times. This makes a rule-based exclusion system sort of challenging, because there are a lot of rare words. Let's try using an embedding method to get a sense of the semantic distribution of these keywords."
   ]
  },
  {
   "cell_type": "markdown",
   "metadata": {
    "tags": []
   },
   "source": [
    "### Number of tokens in dynamic keywords\n",
    "Here we'll assume that the keywords break cleanly on spaces, and remove punctuation."
   ]
  },
  {
   "cell_type": "code",
   "execution_count": 39,
   "metadata": {
    "tags": []
   },
   "outputs": [],
   "source": [
    "punc = '.!,&;:'\n",
    "num_toks = [len([tok for tok in k.split() if tok not in punc]) for k in set(all_dynamo_keys)]"
   ]
  },
  {
   "cell_type": "code",
   "execution_count": 40,
   "metadata": {
    "tags": []
   },
   "outputs": [
    {
     "data": {
      "text/plain": [
       "Text(0, 0.5, 'Count')"
      ]
     },
     "execution_count": 40,
     "metadata": {},
     "output_type": "execute_result"
    },
    {
     "data": {
      "image/png": "[encoded data removed]",
      "text/plain": [
       "<Figure size 640x480 with 1 Axes>"
      ]
     },
     "metadata": {},
     "output_type": "display_data"
    }
   ],
   "source": [
    "_ = plt.hist(num_toks, bins=50)\n",
    "plt.xlabel('Number of tokens in dynamic keyword')\n",
    "plt.ylabel('Count')"
   ]
  },
  {
   "cell_type": "markdown",
   "metadata": {},
   "source": [
    "About half of the keywords only have a single token, but they can have up to 7. What do the higher token number keywords look like?"
   ]
  },
  {
   "cell_type": "code",
   "execution_count": 41,
   "metadata": {
    "tags": []
   },
   "outputs": [],
   "source": [
    "higher_num_keys = [k for k in set(all_dynamo_keys) if len([tok for tok in k.split() if tok not in punc]) > 3]"
   ]
  },
  {
   "cell_type": "code",
   "execution_count": 42,
   "metadata": {
    "tags": []
   },
   "outputs": [
    {
     "data": {
      "text/plain": [
       "['Molecular & Cell Biology - Pharmacology',\n",
       " 'Parasitology - Malaria, Toxoplasmosis & Coccidiosis',\n",
       " 'Molecular & Cell Biology - Polyamines & Paraquat',\n",
       " 'Molecular & Cell Biology - Immunotherapy',\n",
       " 'Micro & Long Noncoding RNA',\n",
       " 'Advanced Glycation End Products',\n",
       " 'Ionic, Molecular & Complex Liquids',\n",
       " 'Electrical Engineering, Electronics & Computer Science',\n",
       " 'Oceanography, Meteorology & Atmospheric Sciences',\n",
       " 'Surfactants, Lipid Bilayers & Antimicrobial Peptides',\n",
       " 'Herbicides, Pesticides & Ground Poisoning',\n",
       " 'Inflammatory Bowel Diseases & Infections',\n",
       " 'Biophotonics & Electromagnetic Field Safety',\n",
       " 'Sleep Science & Circadian Systems',\n",
       " 'Power Systems & Electric Vehicles',\n",
       " 'Molecular & Cell Biology - Physiology',\n",
       " 'Protein Stucture, Folding & Modelling',\n",
       " 'Molecular & Cell Biology - Cancer & Development',\n",
       " 'Molecular & Cell Biology - Cancer, Autophagy & Apoptosis',\n",
       " 'Nitroxides, Antioxidants & Free Radicals',\n",
       " 'Molecular & Cell Biology - Genetics',\n",
       " 'Virology - Tropical Diseases',\n",
       " 'Extracellular Matrix & Cell Differentiation',\n",
       " 'Paper & Wood Materials Science',\n",
       " 'Molecular & Cell Biology - Mitochondria',\n",
       " 'Molecular & Cell Biology - DNA Damage']"
      ]
     },
     "execution_count": 42,
     "metadata": {},
     "output_type": "execute_result"
    }
   ],
   "source": [
    "higher_num_keys"
   ]
  },
  {
   "cell_type": "markdown",
   "metadata": {},
   "source": [
    "These look very much like journal categories, and are very broad. Could we exclude these? Let's take a look at the shorter keywords for comparison."
   ]
  },
  {
   "cell_type": "code",
   "execution_count": 43,
   "metadata": {
    "tags": []
   },
   "outputs": [],
   "source": [
    "lower_num_keys = [k for k in set(all_dynamo_keys) if len([tok for tok in k.split() if tok not in punc]) <= 3]"
   ]
  },
  {
   "cell_type": "code",
   "execution_count": 44,
   "metadata": {
    "tags": []
   },
   "outputs": [
    {
     "data": {
      "text/plain": [
       "['Aplysia',\n",
       " 'Immunology',\n",
       " 'Archaeometry',\n",
       " 'Selenium',\n",
       " 'Microalgae',\n",
       " 'Plasma Physics',\n",
       " 'Antibiotics & Antimicrobials',\n",
       " 'Melatonin',\n",
       " 'Dry Eye',\n",
       " 'Synthesis',\n",
       " 'Geochemistry, Geophysics & Geology',\n",
       " 'Micronuclei',\n",
       " 'Constructed Wetlands',\n",
       " 'Lyme Disease',\n",
       " 'Transfusion',\n",
       " 'Biochar',\n",
       " 'lncRNA',\n",
       " 'Microelectromechanical Systems',\n",
       " 'Ultrasound in Medicine',\n",
       " 'Wolbachia']"
      ]
     },
     "execution_count": 44,
     "metadata": {},
     "output_type": "execute_result"
    }
   ],
   "source": [
    "lower_num_keys[:20]"
   ]
  },
  {
   "cell_type": "markdown",
   "metadata": {},
   "source": [
    "Some of these are very specific, others are not. However, I could potentially manually classify these keywords into relevant/not relevant, and see if splitting the documents along those lines yields high performance."
   ]
  },
  {
   "cell_type": "markdown",
   "metadata": {},
   "source": [
    "## Keyword classification approaches\n",
    "We want to come up with some way to determine which keywords are relevant and which ones aren't, in order to decide what to keep. We can try a few methods to do this, the simplest of which is manually classifying keywords and using those classifications to separate the dataset.\n",
    "\n",
    "### Word embeddings for keyword characterization\n",
    "Before manually classifying the keywords, let's see if there's a more high-throughput way to determine what keywords should stay or go. To do this, we'll explore using word embeddings, and clustering them by meaning to see if we can exclude/include certain clusters.\n",
    "\n",
    "In most basic implementations, we only use unigrams, so let's see how many of the static and dynamic keywords are unigrams."
   ]
  },
  {
   "cell_type": "code",
   "execution_count": 45,
   "metadata": {
    "tags": []
   },
   "outputs": [],
   "source": [
    "num_uni_dynamo_keys = [str(len([kw for kw in doc['dynamic_keys'] if len([tok for tok in kw.split() if tok not in punc]) == 1])) for doc in full_main]\n",
    "num_uni_static_keys = [str(len([kw for kw in doc['static_keywords'] if len([tok for tok in kw.split() if tok not in punc]) == 1])) for doc in full_main]"
   ]
  },
  {
   "cell_type": "code",
   "execution_count": 46,
   "metadata": {
    "tags": []
   },
   "outputs": [
    {
     "data": {
      "text/plain": [
       "Text(0, 0.5, 'Count')"
      ]
     },
     "execution_count": 46,
     "metadata": {},
     "output_type": "execute_result"
    },
    {
     "data": {
      "image/png": "[encoded data removed]",
      "text/plain": [
       "<Figure size 640x480 with 1 Axes>"
      ]
     },
     "metadata": {},
     "output_type": "display_data"
    }
   ],
   "source": [
    "_ = plt.hist(num_uni_dynamo_keys, bins=50)\n",
    "plt.xlabel('Number of unigram dynamic keywords in paper')\n",
    "plt.ylabel('Count')"
   ]
  },
  {
   "cell_type": "code",
   "execution_count": 47,
   "metadata": {
    "tags": []
   },
   "outputs": [
    {
     "data": {
      "text/plain": [
       "Text(0, 0.5, 'Count')"
      ]
     },
     "execution_count": 47,
     "metadata": {},
     "output_type": "execute_result"
    },
    {
     "data": {
      "image/png": "[encoded data removed]",
      "text/plain": [
       "<Figure size 640x480 with 1 Axes>"
      ]
     },
     "metadata": {},
     "output_type": "display_data"
    }
   ],
   "source": [
    "_ = plt.hist(sorted(num_uni_static_keys), bins=50)\n",
    "plt.xlabel('Number of unigram static keywords in paper')\n",
    "plt.ylabel('Count')"
   ]
  },
  {
   "cell_type": "markdown",
   "metadata": {},
   "source": [
    "Almost half of papers don't have any unigram keywords of either type, so only considering those keywords will not be sufficient. However, for the sake of simplicity, we'll perform this embedding analysis on only unigram keywords; if it proves to be useful, we can expand it to include all ngrams."
   ]
  },
  {
   "cell_type": "code",
   "execution_count": 48,
   "metadata": {
    "tags": []
   },
   "outputs": [
    {
     "name": "stdout",
     "output_type": "stream",
     "text": [
      "There are 217 unique dynamic unigram keys, and 42 unique static unigram keys.\n"
     ]
    }
   ],
   "source": [
    "uni_dynamo_keys = set([kw for doc in full_main for kw in doc['dynamic_keys'] if len([tok for tok in kw.split() if tok not in punc]) == 1])\n",
    "uni_static_keys = set([kw for doc in full_main for kw in doc['static_keywords'] if len([tok for tok in kw.split() if tok not in punc]) == 1])\n",
    "print(f'There are {len(uni_dynamo_keys)} unique dynamic unigram keys, and {len(uni_static_keys)} unique static unigram keys.')"
   ]
  },
  {
   "cell_type": "markdown",
   "metadata": {},
   "source": [
    "##### Pretrained context-free embeddings\n",
    "The most straightforward approach to getting embeddings for a list of words without context is to use a pretrained word2vec or GloVe embedding model. However, a lot of our keywords are scientific words, which may mean they don't exist in a pretrained model, and it is much harder to get a meaningful embedding for out-of-vocabulary words in a word2vec or GloVe model. Let's check a GloVe model to get an idea of how bad the situation is:"
   ]
  },
  {
   "cell_type": "code",
   "execution_count": 49,
   "metadata": {
    "tags": []
   },
   "outputs": [],
   "source": [
    "pretrained_vecs = gensim.downloader.load('glove-wiki-gigaword-300')"
   ]
  },
  {
   "cell_type": "code",
   "execution_count": 50,
   "metadata": {
    "tags": []
   },
   "outputs": [
    {
     "name": "stdout",
     "output_type": "stream",
     "text": [
      "0 of 217 total dynamic keywords have glove embeddings.\n",
      "0 of 42 total static keywords have glove embeddings.\n"
     ]
    }
   ],
   "source": [
    "has_glove_dynamo = [True if kw in pretrained_vecs.index_to_key else False for kw in uni_dynamo_keys]\n",
    "has_glove_static = [True if kw in pretrained_vecs.index_to_key else False for kw in uni_static_keys]\n",
    "print(f'{Counter(has_glove_dynamo)[True]} of {len(has_glove_dynamo)} total dynamic keywords have glove embeddings.')\n",
    "print(f'{Counter(has_glove_static)[True]} of {len(has_glove_static)} total static keywords have glove embeddings.')"
   ]
  },
  {
   "cell_type": "markdown",
   "metadata": {},
   "source": [
    "Not great. One simpler option here would be to train a model using the full text of the titles and abstracts; however, it's likely that most keywords don't appear in their parent texts. Let's quantify that assumption:"
   ]
  },
  {
   "cell_type": "code",
   "execution_count": 51,
   "metadata": {
    "tags": []
   },
   "outputs": [],
   "source": [
    "keyword_in_text_dynamo = defaultdict(list)\n",
    "keyword_in_text_static = defaultdict(list)\n",
    "for doc in full_main:\n",
    "    try:\n",
    "        text = doc['title'] + doc['abstract']\n",
    "    except KeyError:\n",
    "        text = doc['title']\n",
    "    for keyword in doc['dynamic_keys']:\n",
    "        if keyword in uni_dynamo_keys:\n",
    "            if keyword in text:\n",
    "                keyword_in_text_dynamo[keyword].append(True)\n",
    "            else:\n",
    "                keyword_in_text_dynamo[keyword].append(False)\n",
    "    for keyword in doc['static_keywords']:\n",
    "        if keyword in uni_static_keys:\n",
    "            if keyword in text:\n",
    "                keyword_in_text_static[keyword].append(True)\n",
    "            else:\n",
    "                keyword_in_text_static[keyword].append(False)\n",
    "keyword_in_text_dynamo = {k: list(set(v)) for k, v in keyword_in_text_dynamo.items()}\n",
    "keyword_in_text_static = {k: list(set(v)) for k, v in keyword_in_text_static.items()}"
   ]
  },
  {
   "cell_type": "code",
   "execution_count": 52,
   "metadata": {
    "tags": []
   },
   "outputs": [
    {
     "name": "stdout",
     "output_type": "stream",
     "text": [
      "Of the total of 217 dynamic keywords, 20 are always in the text of their documents, 157 are never in the text of their documents, and 40 are sometimes in the text.\n",
      "Of the total of 42 static keywords, 0 are always in the text of their documents, 33 are never in the text of their documents, and 9 are sometimes in the text.\n"
     ]
    }
   ],
   "source": [
    "for kind, group in {'dynamic': keyword_in_text_dynamo, 'static': keyword_in_text_static}.items():\n",
    "    in_text = [k for k, v in group.items() if v == [True]]\n",
    "    not_in_text = [k for k, v in group.items() if v == [False]]\n",
    "    both = [k for k, v in group.items() if len(v) == 2]\n",
    "    print(f'Of the total of {len(group)} {kind} keywords, {len(in_text)} are always in the text of their documents, '\n",
    "         f'{len(not_in_text)} are never in the text of their documents, and {len(both)} are sometimes in the text.')"
   ]
  },
  {
   "cell_type": "markdown",
   "metadata": {},
   "source": [
    "Also not a good look for that idea! We could append the words somewhere in the text, but I don't know that that would actually give us meaningful context from which to generate embeddings for those words."
   ]
  },
  {
   "cell_type": "markdown",
   "metadata": {},
   "source": [
    "##### Contextualized embeddings with SciBERT\n",
    "Another option is to use a BERT model, which can generate embeddings based on subwords for words that are out of vocabulary. I'll follow [this tutorial](https://medium.com/mlearning-ai/getting-contextualized-word-embeddings-with-bert-20798d8b43a4) for generating word embeddings (code from notebook available [here](https://colab.research.google.com/drive/1ea3zDFrCQFQhkvinaQfdbvXlOhR7hw01?usp=sharing#scrollTo=l5GKOZx7Xo4M)). Typically, the advantage of using BERT is that it can account for varying context for words; however, here we don't have contexts for out keywords. While the lack of context could prove limiting for this analysis, I think it is still worthwhile to try it. Since these are scientific keywords, I'll use SciBERT, which is likely to have more keywords in vocabulary."
   ]
  },
  {
   "cell_type": "code",
   "execution_count": 53,
   "metadata": {
    "tags": []
   },
   "outputs": [
    {
     "name": "stderr",
     "output_type": "stream",
     "text": [
      "Some weights of the model checkpoint at allenai/scibert_scivocab_uncased were not used when initializing BertModel: ['cls.predictions.decoder.weight', 'cls.seq_relationship.bias', 'cls.predictions.transform.LayerNorm.bias', 'cls.predictions.decoder.bias', 'cls.predictions.transform.dense.weight', 'cls.predictions.transform.dense.bias', 'cls.seq_relationship.weight', 'cls.predictions.transform.LayerNorm.weight', 'cls.predictions.bias']\n",
      "- This IS expected if you are initializing BertModel from the checkpoint of a model trained on another task or with another architecture (e.g. initializing a BertForSequenceClassification model from a BertForPreTraining model).\n",
      "- This IS NOT expected if you are initializing BertModel from the checkpoint of a model that you expect to be exactly identical (initializing a BertForSequenceClassification model from a BertForSequenceClassification model).\n"
     ]
    }
   ],
   "source": [
    "tokenizer = AutoTokenizer.from_pretrained('allenai/scibert_scivocab_uncased')\n",
    "model = AutoModel.from_pretrained('allenai/scibert_scivocab_uncased', output_hidden_states=True)"
   ]
  },
  {
   "cell_type": "code",
   "execution_count": 54,
   "metadata": {
    "tags": []
   },
   "outputs": [],
   "source": [
    "def bert_text_preparation(text, tokenizer):\n",
    "    \"\"\"\n",
    "    Preprocesses text input in a way that BERT can interpret.\n",
    "    \"\"\"\n",
    "    marked_text = \"[CLS] \" + text + \" [SEP]\"\n",
    "    tokenized_text = tokenizer.tokenize(marked_text)\n",
    "    indexed_tokens = tokenizer.convert_tokens_to_ids(tokenized_text)\n",
    "    segments_ids = [1]*len(indexed_tokens)\n",
    "\n",
    "    # convert inputs to tensors\n",
    "    tokens_tensor = torch.tensor([indexed_tokens])\n",
    "    segments_tensor = torch.tensor([segments_ids])\n",
    "\n",
    "    return tokenized_text, tokens_tensor, segments_tensor"
   ]
  },
  {
   "cell_type": "code",
   "execution_count": 55,
   "metadata": {
    "tags": []
   },
   "outputs": [],
   "source": [
    "def get_bert_embeddings(tokens_tensor, segments_tensor, model):\n",
    "    \"\"\"\n",
    "    Obtains BERT embeddings for tokens, in context of the given sentence.\n",
    "    \"\"\"\n",
    "    # gradient calculation id disabled\n",
    "    with torch.no_grad():\n",
    "        # obtain hidden states\n",
    "        outputs = model(tokens_tensor, segments_tensor)\n",
    "        hidden_states = outputs[2]\n",
    "\n",
    "    # concatenate the tensors for all layers\n",
    "    # use \"stack\" to create new dimension in tensor\n",
    "    token_embeddings = torch.stack(hidden_states, dim=0)\n",
    "\n",
    "    # remove dimension 1, the \"batches\"\n",
    "    token_embeddings = torch.squeeze(token_embeddings, dim=1)\n",
    "\n",
    "    # swap dimensions 0 and 1 so we can loop over tokens\n",
    "    token_embeddings = token_embeddings.permute(1,0,2)\n",
    "\n",
    "    # intialized list to store embeddings\n",
    "    token_vecs_sum = []\n",
    "\n",
    "    # \"token_embeddings\" is a [Y x 12 x 768] tensor\n",
    "    # where Y is the number of tokens in the sentence\n",
    "\n",
    "    # loop over tokens in sentence\n",
    "    for token in token_embeddings:\n",
    "\n",
    "        # \"token\" is a [12 x 768] tensor\n",
    "\n",
    "        # sum the vectors from the last four layers\n",
    "        sum_vec = torch.sum(token[-4:], dim=0)\n",
    "        token_vecs_sum.append(sum_vec)\n",
    "\n",
    "    return token_vecs_sum"
   ]
  },
  {
   "cell_type": "markdown",
   "metadata": {},
   "source": [
    "In the below function, I am altering the code from the tutorial to simply average the embeddings for all the subwords, since these are just keywords and not sentences."
   ]
  },
  {
   "cell_type": "code",
   "execution_count": 56,
   "metadata": {
    "tags": []
   },
   "outputs": [],
   "source": [
    "def embed_keywords(key_list):\n",
    "    \"\"\"\n",
    "    Embed a list of keywords.\n",
    "    \"\"\"\n",
    "    context_embeddings = []\n",
    "    context_tokens = []\n",
    "    for keyword in key_list:\n",
    "        tokenized_text, tokens_tensor, segments_tensors = bert_text_preparation(keyword, tokenizer)\n",
    "        list_token_embeddings = get_bert_embeddings(tokens_tensor, segments_tensors, model)\n",
    "        averaged_embedding = torch.div(reduce(torch.add, list_token_embeddings), len(list_token_embeddings))\n",
    "        context_tokens.append(keyword)\n",
    "        context_embeddings.append(averaged_embedding)\n",
    "        \n",
    "    return context_tokens, context_embeddings"
   ]
  },
  {
   "cell_type": "code",
   "execution_count": 57,
   "metadata": {
    "tags": []
   },
   "outputs": [],
   "source": [
    "dynamo_context_tokens, dynamo_context_embeddings = embed_keywords(uni_dynamo_keys)"
   ]
  },
  {
   "cell_type": "code",
   "execution_count": 58,
   "metadata": {
    "tags": []
   },
   "outputs": [],
   "source": [
    "static_context_tokens, static_context_embeddings = embed_keywords(uni_static_keys)"
   ]
  },
  {
   "cell_type": "markdown",
   "metadata": {},
   "source": [
    "##### Clustering the word vectors\n",
    "While t-SNE (which we can visualize on TensorBoard) produce visualizations that show clusters, it is not actually a clustering algorithm; it's a dimension reduction algorithm like PCA. You cannot rely on the clusters of t-SNE to be real, as explained [here](https://stats.stackexchange.com/a/264647). So instead, we'll use another method for getting the clusters to which our keywords belong."
   ]
  },
  {
   "cell_type": "markdown",
   "metadata": {},
   "source": [
    "###### UMAP-HDBSCAN\n",
    "The clustering algorithm used in [BERTopic](https://arxiv.org/pdf/2203.05794.pdf) is HDBSCAN on UMAP-reduced data. I'm going to start with this approach because, while BERTopic uses full document embeddings, word embeddings are similar, and the authors of BERTopic demonstrated that UMAP-HDBSCAN was the best approach for data with that dimensionality."
   ]
  },
  {
   "cell_type": "code",
   "execution_count": 146,
   "metadata": {
    "tags": []
   },
   "outputs": [
    {
     "data": {
      "text/plain": [
       "(217, 2)"
      ]
     },
     "execution_count": 146,
     "metadata": {},
     "output_type": "execute_result"
    }
   ],
   "source": [
    "reducer = umap.UMAP()\n",
    "embedding = reducer.fit_transform(dynamo_context_embeddings)\n",
    "embedding.shape"
   ]
  },
  {
   "cell_type": "code",
   "execution_count": 147,
   "metadata": {
    "tags": []
   },
   "outputs": [
    {
     "data": {
      "text/plain": [
       "Text(0.5, 1.0, 'UMAP reduction of dynamic keyword embeddings')"
      ]
     },
     "execution_count": 147,
     "metadata": {},
     "output_type": "execute_result"
    },
    {
     "data": {
      "image/png": "[encoded data removed]",
      "text/plain": [
       "<Figure size 640x480 with 1 Axes>"
      ]
     },
     "metadata": {},
     "output_type": "display_data"
    }
   ],
   "source": [
    "plt.scatter(\n",
    "    embedding[:, 0],\n",
    "    embedding[:, 1])\n",
    "plt.title('UMAP reduction of dynamic keyword embeddings')"
   ]
  },
  {
   "cell_type": "code",
   "execution_count": 148,
   "metadata": {
    "tags": []
   },
   "outputs": [
    {
     "data": {
      "text/html": [
       "<style>#sk-container-id-12 {color: black;}#sk-container-id-12 pre{padding: 0;}#sk-container-id-12 div.sk-toggleable {background-color: white;}#sk-container-id-12 label.sk-toggleable__label {cursor: pointer;display: block;width: 100%;margin-bottom: 0;padding: 0.3em;box-sizing: border-box;text-align: center;}#sk-container-id-12 label.sk-toggleable__label-arrow:before {content: \"▸\";float: left;margin-right: 0.25em;color: #696969;}#sk-container-id-12 label.sk-toggleable__label-arrow:hover:before {color: black;}#sk-container-id-12 div.sk-estimator:hover label.sk-toggleable__label-arrow:before {color: black;}#sk-container-id-12 div.sk-toggleable__content {max-height: 0;max-width: 0;overflow: hidden;text-align: left;background-color: #f0f8ff;}#sk-container-id-12 div.sk-toggleable__content pre {margin: 0.2em;color: black;border-radius: 0.25em;background-color: #f0f8ff;}#sk-container-id-12 input.sk-toggleable__control:checked~div.sk-toggleable__content {max-height: 200px;max-width: 100%;overflow: auto;}#sk-container-id-12 input.sk-toggleable__control:checked~label.sk-toggleable__label-arrow:before {content: \"▾\";}#sk-container-id-12 div.sk-estimator input.sk-toggleable__control:checked~label.sk-toggleable__label {background-color: #d4ebff;}#sk-container-id-12 div.sk-label input.sk-toggleable__control:checked~label.sk-toggleable__label {background-color: #d4ebff;}#sk-container-id-12 input.sk-hidden--visually {border: 0;clip: rect(1px 1px 1px 1px);clip: rect(1px, 1px, 1px, 1px);height: 1px;margin: -1px;overflow: hidden;padding: 0;position: absolute;width: 1px;}#sk-container-id-12 div.sk-estimator {font-family: monospace;background-color: #f0f8ff;border: 1px dotted black;border-radius: 0.25em;box-sizing: border-box;margin-bottom: 0.5em;}#sk-container-id-12 div.sk-estimator:hover {background-color: #d4ebff;}#sk-container-id-12 div.sk-parallel-item::after {content: \"\";width: 100%;border-bottom: 1px solid gray;flex-grow: 1;}#sk-container-id-12 div.sk-label:hover label.sk-toggleable__label {background-color: #d4ebff;}#sk-container-id-12 div.sk-serial::before {content: \"\";position: absolute;border-left: 1px solid gray;box-sizing: border-box;top: 0;bottom: 0;left: 50%;z-index: 0;}#sk-container-id-12 div.sk-serial {display: flex;flex-direction: column;align-items: center;background-color: white;padding-right: 0.2em;padding-left: 0.2em;position: relative;}#sk-container-id-12 div.sk-item {position: relative;z-index: 1;}#sk-container-id-12 div.sk-parallel {display: flex;align-items: stretch;justify-content: center;background-color: white;position: relative;}#sk-container-id-12 div.sk-item::before, #sk-container-id-12 div.sk-parallel-item::before {content: \"\";position: absolute;border-left: 1px solid gray;box-sizing: border-box;top: 0;bottom: 0;left: 50%;z-index: -1;}#sk-container-id-12 div.sk-parallel-item {display: flex;flex-direction: column;z-index: 1;position: relative;background-color: white;}#sk-container-id-12 div.sk-parallel-item:first-child::after {align-self: flex-end;width: 50%;}#sk-container-id-12 div.sk-parallel-item:last-child::after {align-self: flex-start;width: 50%;}#sk-container-id-12 div.sk-parallel-item:only-child::after {width: 0;}#sk-container-id-12 div.sk-dashed-wrapped {border: 1px dashed gray;margin: 0 0.4em 0.5em 0.4em;box-sizing: border-box;padding-bottom: 0.4em;background-color: white;}#sk-container-id-12 div.sk-label label {font-family: monospace;font-weight: bold;display: inline-block;line-height: 1.2em;}#sk-container-id-12 div.sk-label-container {text-align: center;}#sk-container-id-12 div.sk-container {/* jupyter's `normalize.less` sets `[hidden] { display: none; }` but bootstrap.min.css set `[hidden] { display: none !important; }` so we also need the `!important` here to be able to override the default hidden behavior on the sphinx rendered scikit-learn.org. See: https://github.com/scikit-learn/scikit-learn/issues/21755 */display: inline-block !important;position: relative;}#sk-container-id-12 div.sk-text-repr-fallback {display: none;}</style><div id=\"sk-container-id-12\" class=\"sk-top-container\"><div class=\"sk-text-repr-fallback\"><pre>HDBSCAN()</pre><b>In a Jupyter environment, please rerun this cell to show the HTML representation or trust the notebook. <br />On GitHub, the HTML representation is unable to render, please try loading this page with nbviewer.org.</b></div><div class=\"sk-container\" hidden><div class=\"sk-item\"><div class=\"sk-estimator sk-toggleable\"><input class=\"sk-toggleable__control sk-hidden--visually\" id=\"sk-estimator-id-12\" type=\"checkbox\" checked><label for=\"sk-estimator-id-12\" class=\"sk-toggleable__label sk-toggleable__label-arrow\">HDBSCAN</label><div class=\"sk-toggleable__content\"><pre>HDBSCAN()</pre></div></div></div></div></div>"
      ],
      "text/plain": [
       "HDBSCAN()"
      ]
     },
     "execution_count": 148,
     "metadata": {},
     "output_type": "execute_result"
    }
   ],
   "source": [
    "hdb = HDBSCAN()\n",
    "hdb.fit(embedding)"
   ]
  },
  {
   "cell_type": "code",
   "execution_count": 149,
   "metadata": {
    "tags": []
   },
   "outputs": [],
   "source": [
    "colors = {\n",
    "    -1: 'tab:blue',\n",
    "    0: 'tab:orange',\n",
    "    1: 'tab:green',\n",
    "    2: 'tab:red',\n",
    "    3: 'tab:purple',\n",
    "    4: 'tab:brown',\n",
    "    5: 'tab:pink',\n",
    "    6: 'tab:gray',\n",
    "    7: 'tab:olive',\n",
    "    8: 'tab:cyan'\n",
    "}"
   ]
  },
  {
   "cell_type": "code",
   "execution_count": 150,
   "metadata": {
    "tags": []
   },
   "outputs": [
    {
     "data": {
      "text/plain": [
       "Text(0.5, 1.0, 'HDSCAN clustering on UMAP reduction of dynamic keyword embeddings')"
      ]
     },
     "execution_count": 150,
     "metadata": {},
     "output_type": "execute_result"
    },
    {
     "data": {
      "image/png": "[encoded data removed]",
      "text/plain": [
       "<Figure size 640x480 with 1 Axes>"
      ]
     },
     "metadata": {},
     "output_type": "display_data"
    }
   ],
   "source": [
    "fig, ax = plt.subplots(1, 1)\n",
    "for elt, label in zip(embedding, hdb.labels_):\n",
    "    ax.scatter(elt[0], elt[1], color=colors[label])\n",
    "plt.title('HDSCAN clustering on UMAP reduction of dynamic keyword embeddings')"
   ]
  },
  {
   "cell_type": "markdown",
   "metadata": {},
   "source": [
    "Hey that looks pretty good! The blue points are those designated as noise by the algorithm; I imagine a fair way to treat those points would be to manually classify each of them (as opposed to the entire cluster). Let's take a closer look at what words cluster together, and generalize about the groupings."
   ]
  },
  {
   "cell_type": "markdown",
   "metadata": {
    "jp-MarkdownHeadingCollapsed": true,
    "tags": []
   },
   "source": [
    "###### Cluster generalizations\n",
    "Note that these will change if the algorithms is run again, as it is stochastic."
   ]
  },
  {
   "cell_type": "code",
   "execution_count": 151,
   "metadata": {
    "tags": []
   },
   "outputs": [],
   "source": [
    "dynamo_cluster_membership = pd.DataFrame({'keyword': dynamo_context_tokens, 'cluster': hdb.labels_})"
   ]
  },
  {
   "cell_type": "code",
   "execution_count": 152,
   "metadata": {
    "tags": []
   },
   "outputs": [
    {
     "data": {
      "text/html": [
       "<div>\n",
       "<style scoped>\n",
       "    .dataframe tbody tr th:only-of-type {\n",
       "        vertical-align: middle;\n",
       "    }\n",
       "\n",
       "    .dataframe tbody tr th {\n",
       "        vertical-align: top;\n",
       "    }\n",
       "\n",
       "    .dataframe thead th {\n",
       "        text-align: right;\n",
       "    }\n",
       "</style>\n",
       "<table border=\"1\" class=\"dataframe\">\n",
       "  <thead>\n",
       "    <tr style=\"text-align: right;\">\n",
       "      <th></th>\n",
       "      <th>keyword</th>\n",
       "      <th>cluster</th>\n",
       "    </tr>\n",
       "  </thead>\n",
       "  <tbody>\n",
       "    <tr>\n",
       "      <th>4</th>\n",
       "      <td>Resveratrol</td>\n",
       "      <td>0</td>\n",
       "    </tr>\n",
       "    <tr>\n",
       "      <th>6</th>\n",
       "      <td>Immunology</td>\n",
       "      <td>0</td>\n",
       "    </tr>\n",
       "    <tr>\n",
       "      <th>10</th>\n",
       "      <td>Wine</td>\n",
       "      <td>0</td>\n",
       "    </tr>\n",
       "    <tr>\n",
       "      <th>13</th>\n",
       "      <td>Boron</td>\n",
       "      <td>0</td>\n",
       "    </tr>\n",
       "    <tr>\n",
       "      <th>14</th>\n",
       "      <td>Drosophila</td>\n",
       "      <td>0</td>\n",
       "    </tr>\n",
       "    <tr>\n",
       "      <th>...</th>\n",
       "      <td>...</td>\n",
       "      <td>...</td>\n",
       "    </tr>\n",
       "    <tr>\n",
       "      <th>198</th>\n",
       "      <td>Arabidopsis</td>\n",
       "      <td>0</td>\n",
       "    </tr>\n",
       "    <tr>\n",
       "      <th>207</th>\n",
       "      <td>Broiler</td>\n",
       "      <td>0</td>\n",
       "    </tr>\n",
       "    <tr>\n",
       "      <th>210</th>\n",
       "      <td>Myosin</td>\n",
       "      <td>0</td>\n",
       "    </tr>\n",
       "    <tr>\n",
       "      <th>211</th>\n",
       "      <td>Forestry</td>\n",
       "      <td>0</td>\n",
       "    </tr>\n",
       "    <tr>\n",
       "      <th>215</th>\n",
       "      <td>Lidar</td>\n",
       "      <td>0</td>\n",
       "    </tr>\n",
       "  </tbody>\n",
       "</table>\n",
       "<p>69 rows × 2 columns</p>\n",
       "</div>"
      ],
      "text/plain": [
       "         keyword  cluster\n",
       "4    Resveratrol        0\n",
       "6     Immunology        0\n",
       "10          Wine        0\n",
       "13         Boron        0\n",
       "14    Drosophila        0\n",
       "..           ...      ...\n",
       "198  Arabidopsis        0\n",
       "207      Broiler        0\n",
       "210       Myosin        0\n",
       "211     Forestry        0\n",
       "215        Lidar        0\n",
       "\n",
       "[69 rows x 2 columns]"
      ]
     },
     "execution_count": 152,
     "metadata": {},
     "output_type": "execute_result"
    }
   ],
   "source": [
    "dynamo_cluster_membership[dynamo_cluster_membership['cluster'] == 0]"
   ]
  },
  {
   "cell_type": "markdown",
   "metadata": {},
   "source": [
    "Looks like cluster 0 doesn't have a clear theme, and is also the largest."
   ]
  },
  {
   "cell_type": "code",
   "execution_count": 153,
   "metadata": {
    "tags": []
   },
   "outputs": [
    {
     "data": {
      "text/html": [
       "<div>\n",
       "<style scoped>\n",
       "    .dataframe tbody tr th:only-of-type {\n",
       "        vertical-align: middle;\n",
       "    }\n",
       "\n",
       "    .dataframe tbody tr th {\n",
       "        vertical-align: top;\n",
       "    }\n",
       "\n",
       "    .dataframe thead th {\n",
       "        text-align: right;\n",
       "    }\n",
       "</style>\n",
       "<table border=\"1\" class=\"dataframe\">\n",
       "  <thead>\n",
       "    <tr style=\"text-align: right;\">\n",
       "      <th></th>\n",
       "      <th>keyword</th>\n",
       "      <th>cluster</th>\n",
       "    </tr>\n",
       "  </thead>\n",
       "  <tbody>\n",
       "    <tr>\n",
       "      <th>2</th>\n",
       "      <td>Aplysia</td>\n",
       "      <td>1</td>\n",
       "    </tr>\n",
       "    <tr>\n",
       "      <th>8</th>\n",
       "      <td>Scolytidae</td>\n",
       "      <td>1</td>\n",
       "    </tr>\n",
       "    <tr>\n",
       "      <th>15</th>\n",
       "      <td>Copepods</td>\n",
       "      <td>1</td>\n",
       "    </tr>\n",
       "    <tr>\n",
       "      <th>18</th>\n",
       "      <td>Microalgae</td>\n",
       "      <td>1</td>\n",
       "    </tr>\n",
       "    <tr>\n",
       "      <th>20</th>\n",
       "      <td>Decapoda</td>\n",
       "      <td>1</td>\n",
       "    </tr>\n",
       "    <tr>\n",
       "      <th>37</th>\n",
       "      <td>Miscanthus</td>\n",
       "      <td>1</td>\n",
       "    </tr>\n",
       "    <tr>\n",
       "      <th>49</th>\n",
       "      <td>Wolbachia</td>\n",
       "      <td>1</td>\n",
       "    </tr>\n",
       "    <tr>\n",
       "      <th>75</th>\n",
       "      <td>Digenea</td>\n",
       "      <td>1</td>\n",
       "    </tr>\n",
       "    <tr>\n",
       "      <th>78</th>\n",
       "      <td>Lizards</td>\n",
       "      <td>1</td>\n",
       "    </tr>\n",
       "    <tr>\n",
       "      <th>84</th>\n",
       "      <td>Rhodophyta</td>\n",
       "      <td>1</td>\n",
       "    </tr>\n",
       "    <tr>\n",
       "      <th>89</th>\n",
       "      <td>Diplopoda</td>\n",
       "      <td>1</td>\n",
       "    </tr>\n",
       "    <tr>\n",
       "      <th>92</th>\n",
       "      <td>Conodonts</td>\n",
       "      <td>1</td>\n",
       "    </tr>\n",
       "    <tr>\n",
       "      <th>96</th>\n",
       "      <td>Acanthamoeba</td>\n",
       "      <td>1</td>\n",
       "    </tr>\n",
       "    <tr>\n",
       "      <th>108</th>\n",
       "      <td>Araneae</td>\n",
       "      <td>1</td>\n",
       "    </tr>\n",
       "    <tr>\n",
       "      <th>111</th>\n",
       "      <td>Hyphomycetes</td>\n",
       "      <td>1</td>\n",
       "    </tr>\n",
       "    <tr>\n",
       "      <th>116</th>\n",
       "      <td>Bacillariophyta</td>\n",
       "      <td>1</td>\n",
       "    </tr>\n",
       "    <tr>\n",
       "      <th>120</th>\n",
       "      <td>Melioidosis</td>\n",
       "      <td>1</td>\n",
       "    </tr>\n",
       "    <tr>\n",
       "      <th>125</th>\n",
       "      <td>Musci</td>\n",
       "      <td>1</td>\n",
       "    </tr>\n",
       "    <tr>\n",
       "      <th>129</th>\n",
       "      <td>Echinodermata</td>\n",
       "      <td>1</td>\n",
       "    </tr>\n",
       "    <tr>\n",
       "      <th>130</th>\n",
       "      <td>Pulmonata</td>\n",
       "      <td>1</td>\n",
       "    </tr>\n",
       "    <tr>\n",
       "      <th>131</th>\n",
       "      <td>Planaria</td>\n",
       "      <td>1</td>\n",
       "    </tr>\n",
       "    <tr>\n",
       "      <th>132</th>\n",
       "      <td>Macroinvertebrates</td>\n",
       "      <td>1</td>\n",
       "    </tr>\n",
       "    <tr>\n",
       "      <th>136</th>\n",
       "      <td>Foraminifera</td>\n",
       "      <td>1</td>\n",
       "    </tr>\n",
       "    <tr>\n",
       "      <th>138</th>\n",
       "      <td>Phytoseiidae</td>\n",
       "      <td>1</td>\n",
       "    </tr>\n",
       "    <tr>\n",
       "      <th>140</th>\n",
       "      <td>Scarabaeidae</td>\n",
       "      <td>1</td>\n",
       "    </tr>\n",
       "    <tr>\n",
       "      <th>148</th>\n",
       "      <td>Methanotrophs</td>\n",
       "      <td>1</td>\n",
       "    </tr>\n",
       "    <tr>\n",
       "      <th>152</th>\n",
       "      <td>Lichens</td>\n",
       "      <td>1</td>\n",
       "    </tr>\n",
       "    <tr>\n",
       "      <th>154</th>\n",
       "      <td>Polychaeta</td>\n",
       "      <td>1</td>\n",
       "    </tr>\n",
       "    <tr>\n",
       "      <th>163</th>\n",
       "      <td>Paramecium</td>\n",
       "      <td>1</td>\n",
       "    </tr>\n",
       "    <tr>\n",
       "      <th>177</th>\n",
       "      <td>Tephritidae</td>\n",
       "      <td>1</td>\n",
       "    </tr>\n",
       "    <tr>\n",
       "      <th>194</th>\n",
       "      <td>Scabies</td>\n",
       "      <td>1</td>\n",
       "    </tr>\n",
       "    <tr>\n",
       "      <th>199</th>\n",
       "      <td>Unionidae</td>\n",
       "      <td>1</td>\n",
       "    </tr>\n",
       "    <tr>\n",
       "      <th>204</th>\n",
       "      <td>Schistosomiasis</td>\n",
       "      <td>1</td>\n",
       "    </tr>\n",
       "    <tr>\n",
       "      <th>205</th>\n",
       "      <td>Formicidae</td>\n",
       "      <td>1</td>\n",
       "    </tr>\n",
       "    <tr>\n",
       "      <th>209</th>\n",
       "      <td>Earthworms</td>\n",
       "      <td>1</td>\n",
       "    </tr>\n",
       "  </tbody>\n",
       "</table>\n",
       "</div>"
      ],
      "text/plain": [
       "                keyword  cluster\n",
       "2               Aplysia        1\n",
       "8            Scolytidae        1\n",
       "15             Copepods        1\n",
       "18           Microalgae        1\n",
       "20             Decapoda        1\n",
       "37           Miscanthus        1\n",
       "49            Wolbachia        1\n",
       "75              Digenea        1\n",
       "78              Lizards        1\n",
       "84           Rhodophyta        1\n",
       "89            Diplopoda        1\n",
       "92            Conodonts        1\n",
       "96         Acanthamoeba        1\n",
       "108             Araneae        1\n",
       "111        Hyphomycetes        1\n",
       "116     Bacillariophyta        1\n",
       "120         Melioidosis        1\n",
       "125               Musci        1\n",
       "129       Echinodermata        1\n",
       "130           Pulmonata        1\n",
       "131            Planaria        1\n",
       "132  Macroinvertebrates        1\n",
       "136        Foraminifera        1\n",
       "138        Phytoseiidae        1\n",
       "140        Scarabaeidae        1\n",
       "148       Methanotrophs        1\n",
       "152             Lichens        1\n",
       "154          Polychaeta        1\n",
       "163          Paramecium        1\n",
       "177         Tephritidae        1\n",
       "194             Scabies        1\n",
       "199           Unionidae        1\n",
       "204     Schistosomiasis        1\n",
       "205          Formicidae        1\n",
       "209          Earthworms        1"
      ]
     },
     "execution_count": 153,
     "metadata": {},
     "output_type": "execute_result"
    }
   ],
   "source": [
    "dynamo_cluster_membership[dynamo_cluster_membership['cluster'] == 1]"
   ]
  },
  {
   "cell_type": "markdown",
   "metadata": {},
   "source": [
    "Cluster 1 is scientific and common organism names."
   ]
  },
  {
   "cell_type": "code",
   "execution_count": 154,
   "metadata": {
    "tags": []
   },
   "outputs": [
    {
     "data": {
      "text/html": [
       "<div>\n",
       "<style scoped>\n",
       "    .dataframe tbody tr th:only-of-type {\n",
       "        vertical-align: middle;\n",
       "    }\n",
       "\n",
       "    .dataframe tbody tr th {\n",
       "        vertical-align: top;\n",
       "    }\n",
       "\n",
       "    .dataframe thead th {\n",
       "        text-align: right;\n",
       "    }\n",
       "</style>\n",
       "<table border=\"1\" class=\"dataframe\">\n",
       "  <thead>\n",
       "    <tr style=\"text-align: right;\">\n",
       "      <th></th>\n",
       "      <th>keyword</th>\n",
       "      <th>cluster</th>\n",
       "    </tr>\n",
       "  </thead>\n",
       "  <tbody>\n",
       "    <tr>\n",
       "      <th>11</th>\n",
       "      <td>Permafrost</td>\n",
       "      <td>2</td>\n",
       "    </tr>\n",
       "    <tr>\n",
       "      <th>34</th>\n",
       "      <td>Holocene</td>\n",
       "      <td>2</td>\n",
       "    </tr>\n",
       "    <tr>\n",
       "      <th>52</th>\n",
       "      <td>Glacier</td>\n",
       "      <td>2</td>\n",
       "    </tr>\n",
       "    <tr>\n",
       "      <th>100</th>\n",
       "      <td>Seagrass</td>\n",
       "      <td>2</td>\n",
       "    </tr>\n",
       "    <tr>\n",
       "      <th>105</th>\n",
       "      <td>Rangelands</td>\n",
       "      <td>2</td>\n",
       "    </tr>\n",
       "    <tr>\n",
       "      <th>202</th>\n",
       "      <td>Porifera</td>\n",
       "      <td>2</td>\n",
       "    </tr>\n",
       "  </tbody>\n",
       "</table>\n",
       "</div>"
      ],
      "text/plain": [
       "        keyword  cluster\n",
       "11   Permafrost        2\n",
       "34     Holocene        2\n",
       "52      Glacier        2\n",
       "100    Seagrass        2\n",
       "105  Rangelands        2\n",
       "202    Porifera        2"
      ]
     },
     "execution_count": 154,
     "metadata": {},
     "output_type": "execute_result"
    }
   ],
   "source": [
    "dynamo_cluster_membership[dynamo_cluster_membership['cluster'] == 2]"
   ]
  },
  {
   "cell_type": "markdown",
   "metadata": {},
   "source": [
    "I would classify Cluster 2 as a sort of Biomes/ecology cluster."
   ]
  },
  {
   "cell_type": "code",
   "execution_count": 155,
   "metadata": {
    "tags": []
   },
   "outputs": [
    {
     "data": {
      "text/html": [
       "<div>\n",
       "<style scoped>\n",
       "    .dataframe tbody tr th:only-of-type {\n",
       "        vertical-align: middle;\n",
       "    }\n",
       "\n",
       "    .dataframe tbody tr th {\n",
       "        vertical-align: top;\n",
       "    }\n",
       "\n",
       "    .dataframe thead th {\n",
       "        text-align: right;\n",
       "    }\n",
       "</style>\n",
       "<table border=\"1\" class=\"dataframe\">\n",
       "  <thead>\n",
       "    <tr style=\"text-align: right;\">\n",
       "      <th></th>\n",
       "      <th>keyword</th>\n",
       "      <th>cluster</th>\n",
       "    </tr>\n",
       "  </thead>\n",
       "  <tbody>\n",
       "    <tr>\n",
       "      <th>9</th>\n",
       "      <td>Archaeometry</td>\n",
       "      <td>3</td>\n",
       "    </tr>\n",
       "    <tr>\n",
       "      <th>21</th>\n",
       "      <td>Dielectrophoresis</td>\n",
       "      <td>3</td>\n",
       "    </tr>\n",
       "    <tr>\n",
       "      <th>29</th>\n",
       "      <td>Neuroscanning</td>\n",
       "      <td>3</td>\n",
       "    </tr>\n",
       "    <tr>\n",
       "      <th>40</th>\n",
       "      <td>Biosensors</td>\n",
       "      <td>3</td>\n",
       "    </tr>\n",
       "    <tr>\n",
       "      <th>46</th>\n",
       "      <td>Pollination</td>\n",
       "      <td>3</td>\n",
       "    </tr>\n",
       "    <tr>\n",
       "      <th>54</th>\n",
       "      <td>Bacteriology</td>\n",
       "      <td>3</td>\n",
       "    </tr>\n",
       "    <tr>\n",
       "      <th>55</th>\n",
       "      <td>Entomology</td>\n",
       "      <td>3</td>\n",
       "    </tr>\n",
       "    <tr>\n",
       "      <th>65</th>\n",
       "      <td>Cryosurgery</td>\n",
       "      <td>3</td>\n",
       "    </tr>\n",
       "    <tr>\n",
       "      <th>66</th>\n",
       "      <td>Metabolomics</td>\n",
       "      <td>3</td>\n",
       "    </tr>\n",
       "    <tr>\n",
       "      <th>70</th>\n",
       "      <td>Nanofiltration</td>\n",
       "      <td>3</td>\n",
       "    </tr>\n",
       "    <tr>\n",
       "      <th>76</th>\n",
       "      <td>Intercropping</td>\n",
       "      <td>3</td>\n",
       "    </tr>\n",
       "    <tr>\n",
       "      <th>88</th>\n",
       "      <td>RNA-Seq</td>\n",
       "      <td>3</td>\n",
       "    </tr>\n",
       "    <tr>\n",
       "      <th>102</th>\n",
       "      <td>Biodeterioration</td>\n",
       "      <td>3</td>\n",
       "    </tr>\n",
       "    <tr>\n",
       "      <th>103</th>\n",
       "      <td>Decellularization</td>\n",
       "      <td>3</td>\n",
       "    </tr>\n",
       "    <tr>\n",
       "      <th>109</th>\n",
       "      <td>Evapotranspiration</td>\n",
       "      <td>3</td>\n",
       "    </tr>\n",
       "    <tr>\n",
       "      <th>110</th>\n",
       "      <td>Micropropagation</td>\n",
       "      <td>3</td>\n",
       "    </tr>\n",
       "    <tr>\n",
       "      <th>123</th>\n",
       "      <td>Microcalorimetry</td>\n",
       "      <td>3</td>\n",
       "    </tr>\n",
       "    <tr>\n",
       "      <th>124</th>\n",
       "      <td>Throughfall</td>\n",
       "      <td>3</td>\n",
       "    </tr>\n",
       "    <tr>\n",
       "      <th>126</th>\n",
       "      <td>Bioengineering</td>\n",
       "      <td>3</td>\n",
       "    </tr>\n",
       "    <tr>\n",
       "      <th>133</th>\n",
       "      <td>Biodegradation</td>\n",
       "      <td>3</td>\n",
       "    </tr>\n",
       "    <tr>\n",
       "      <th>145</th>\n",
       "      <td>Microbubbles</td>\n",
       "      <td>3</td>\n",
       "    </tr>\n",
       "    <tr>\n",
       "      <th>158</th>\n",
       "      <td>Ethnomusicology</td>\n",
       "      <td>3</td>\n",
       "    </tr>\n",
       "    <tr>\n",
       "      <th>161</th>\n",
       "      <td>Olfaction</td>\n",
       "      <td>3</td>\n",
       "    </tr>\n",
       "    <tr>\n",
       "      <th>166</th>\n",
       "      <td>Electroporation</td>\n",
       "      <td>3</td>\n",
       "    </tr>\n",
       "    <tr>\n",
       "      <th>168</th>\n",
       "      <td>Bioaerosols</td>\n",
       "      <td>3</td>\n",
       "    </tr>\n",
       "    <tr>\n",
       "      <th>172</th>\n",
       "      <td>Microplastics</td>\n",
       "      <td>3</td>\n",
       "    </tr>\n",
       "    <tr>\n",
       "      <th>176</th>\n",
       "      <td>Bioleaching</td>\n",
       "      <td>3</td>\n",
       "    </tr>\n",
       "    <tr>\n",
       "      <th>180</th>\n",
       "      <td>Microsatellites</td>\n",
       "      <td>3</td>\n",
       "    </tr>\n",
       "    <tr>\n",
       "      <th>181</th>\n",
       "      <td>Bioaccumulation</td>\n",
       "      <td>3</td>\n",
       "    </tr>\n",
       "    <tr>\n",
       "      <th>183</th>\n",
       "      <td>Biodiesel</td>\n",
       "      <td>3</td>\n",
       "    </tr>\n",
       "    <tr>\n",
       "      <th>189</th>\n",
       "      <td>Biofiltration</td>\n",
       "      <td>3</td>\n",
       "    </tr>\n",
       "    <tr>\n",
       "      <th>191</th>\n",
       "      <td>Archaeology</td>\n",
       "      <td>3</td>\n",
       "    </tr>\n",
       "    <tr>\n",
       "      <th>195</th>\n",
       "      <td>Hibernation</td>\n",
       "      <td>3</td>\n",
       "    </tr>\n",
       "    <tr>\n",
       "      <th>200</th>\n",
       "      <td>Flocculation</td>\n",
       "      <td>3</td>\n",
       "    </tr>\n",
       "    <tr>\n",
       "      <th>201</th>\n",
       "      <td>Peroxisomes</td>\n",
       "      <td>3</td>\n",
       "    </tr>\n",
       "    <tr>\n",
       "      <th>206</th>\n",
       "      <td>Biosimilars</td>\n",
       "      <td>3</td>\n",
       "    </tr>\n",
       "    <tr>\n",
       "      <th>208</th>\n",
       "      <td>Dendrochronology</td>\n",
       "      <td>3</td>\n",
       "    </tr>\n",
       "    <tr>\n",
       "      <th>212</th>\n",
       "      <td>Chemometrics</td>\n",
       "      <td>3</td>\n",
       "    </tr>\n",
       "  </tbody>\n",
       "</table>\n",
       "</div>"
      ],
      "text/plain": [
       "                keyword  cluster\n",
       "9          Archaeometry        3\n",
       "21    Dielectrophoresis        3\n",
       "29        Neuroscanning        3\n",
       "40           Biosensors        3\n",
       "46          Pollination        3\n",
       "54         Bacteriology        3\n",
       "55           Entomology        3\n",
       "65          Cryosurgery        3\n",
       "66         Metabolomics        3\n",
       "70       Nanofiltration        3\n",
       "76        Intercropping        3\n",
       "88              RNA-Seq        3\n",
       "102    Biodeterioration        3\n",
       "103   Decellularization        3\n",
       "109  Evapotranspiration        3\n",
       "110    Micropropagation        3\n",
       "123    Microcalorimetry        3\n",
       "124         Throughfall        3\n",
       "126      Bioengineering        3\n",
       "133      Biodegradation        3\n",
       "145        Microbubbles        3\n",
       "158     Ethnomusicology        3\n",
       "161           Olfaction        3\n",
       "166     Electroporation        3\n",
       "168         Bioaerosols        3\n",
       "172       Microplastics        3\n",
       "176         Bioleaching        3\n",
       "180     Microsatellites        3\n",
       "181     Bioaccumulation        3\n",
       "183           Biodiesel        3\n",
       "189       Biofiltration        3\n",
       "191         Archaeology        3\n",
       "195         Hibernation        3\n",
       "200        Flocculation        3\n",
       "201         Peroxisomes        3\n",
       "206         Biosimilars        3\n",
       "208    Dendrochronology        3\n",
       "212        Chemometrics        3"
      ]
     },
     "execution_count": 155,
     "metadata": {},
     "output_type": "execute_result"
    }
   ],
   "source": [
    "dynamo_cluster_membership[dynamo_cluster_membership['cluster'] == 3]"
   ]
  },
  {
   "cell_type": "markdown",
   "metadata": {},
   "source": [
    "Cluster 3 seems like it generally reflects \"processes\", which includes some disciplines, some methods, and a few biological processes."
   ]
  },
  {
   "cell_type": "code",
   "execution_count": 156,
   "metadata": {
    "tags": []
   },
   "outputs": [
    {
     "data": {
      "text/html": [
       "<div>\n",
       "<style scoped>\n",
       "    .dataframe tbody tr th:only-of-type {\n",
       "        vertical-align: middle;\n",
       "    }\n",
       "\n",
       "    .dataframe tbody tr th {\n",
       "        vertical-align: top;\n",
       "    }\n",
       "\n",
       "    .dataframe thead th {\n",
       "        text-align: right;\n",
       "    }\n",
       "</style>\n",
       "<table border=\"1\" class=\"dataframe\">\n",
       "  <thead>\n",
       "    <tr style=\"text-align: right;\">\n",
       "      <th></th>\n",
       "      <th>keyword</th>\n",
       "      <th>cluster</th>\n",
       "    </tr>\n",
       "  </thead>\n",
       "  <tbody>\n",
       "    <tr>\n",
       "      <th>1</th>\n",
       "      <td>Triterpenoids</td>\n",
       "      <td>4</td>\n",
       "    </tr>\n",
       "    <tr>\n",
       "      <th>12</th>\n",
       "      <td>Microcystins</td>\n",
       "      <td>4</td>\n",
       "    </tr>\n",
       "    <tr>\n",
       "      <th>38</th>\n",
       "      <td>Micronuclei</td>\n",
       "      <td>4</td>\n",
       "    </tr>\n",
       "    <tr>\n",
       "      <th>57</th>\n",
       "      <td>Nitroxides</td>\n",
       "      <td>4</td>\n",
       "    </tr>\n",
       "    <tr>\n",
       "      <th>69</th>\n",
       "      <td>Carotenoids</td>\n",
       "      <td>4</td>\n",
       "    </tr>\n",
       "    <tr>\n",
       "      <th>94</th>\n",
       "      <td>Gangliosides</td>\n",
       "      <td>4</td>\n",
       "    </tr>\n",
       "    <tr>\n",
       "      <th>118</th>\n",
       "      <td>Mycotoxins</td>\n",
       "      <td>4</td>\n",
       "    </tr>\n",
       "    <tr>\n",
       "      <th>134</th>\n",
       "      <td>Chalcones</td>\n",
       "      <td>4</td>\n",
       "    </tr>\n",
       "    <tr>\n",
       "      <th>155</th>\n",
       "      <td>Andrographolide</td>\n",
       "      <td>4</td>\n",
       "    </tr>\n",
       "    <tr>\n",
       "      <th>184</th>\n",
       "      <td>Metalloenzymes</td>\n",
       "      <td>4</td>\n",
       "    </tr>\n",
       "    <tr>\n",
       "      <th>186</th>\n",
       "      <td>Phytochemicals</td>\n",
       "      <td>4</td>\n",
       "    </tr>\n",
       "    <tr>\n",
       "      <th>213</th>\n",
       "      <td>Thioglycosides</td>\n",
       "      <td>4</td>\n",
       "    </tr>\n",
       "    <tr>\n",
       "      <th>214</th>\n",
       "      <td>Limonoids</td>\n",
       "      <td>4</td>\n",
       "    </tr>\n",
       "    <tr>\n",
       "      <th>216</th>\n",
       "      <td>Polyamines</td>\n",
       "      <td>4</td>\n",
       "    </tr>\n",
       "  </tbody>\n",
       "</table>\n",
       "</div>"
      ],
      "text/plain": [
       "             keyword  cluster\n",
       "1      Triterpenoids        4\n",
       "12      Microcystins        4\n",
       "38       Micronuclei        4\n",
       "57        Nitroxides        4\n",
       "69       Carotenoids        4\n",
       "94      Gangliosides        4\n",
       "118       Mycotoxins        4\n",
       "134        Chalcones        4\n",
       "155  Andrographolide        4\n",
       "184   Metalloenzymes        4\n",
       "186   Phytochemicals        4\n",
       "213   Thioglycosides        4\n",
       "214        Limonoids        4\n",
       "216       Polyamines        4"
      ]
     },
     "execution_count": 156,
     "metadata": {},
     "output_type": "execute_result"
    }
   ],
   "source": [
    "dynamo_cluster_membership[dynamo_cluster_membership['cluster'] == 4]"
   ]
  },
  {
   "cell_type": "markdown",
   "metadata": {},
   "source": [
    "These look like compound names mostly."
   ]
  },
  {
   "cell_type": "code",
   "execution_count": 157,
   "metadata": {
    "tags": []
   },
   "outputs": [
    {
     "data": {
      "text/html": [
       "<div>\n",
       "<style scoped>\n",
       "    .dataframe tbody tr th:only-of-type {\n",
       "        vertical-align: middle;\n",
       "    }\n",
       "\n",
       "    .dataframe tbody tr th {\n",
       "        vertical-align: top;\n",
       "    }\n",
       "\n",
       "    .dataframe thead th {\n",
       "        text-align: right;\n",
       "    }\n",
       "</style>\n",
       "<table border=\"1\" class=\"dataframe\">\n",
       "  <thead>\n",
       "    <tr style=\"text-align: right;\">\n",
       "      <th></th>\n",
       "      <th>keyword</th>\n",
       "      <th>cluster</th>\n",
       "    </tr>\n",
       "  </thead>\n",
       "  <tbody>\n",
       "    <tr>\n",
       "      <th>3</th>\n",
       "      <td>Photoproductivity</td>\n",
       "      <td>5</td>\n",
       "    </tr>\n",
       "    <tr>\n",
       "      <th>17</th>\n",
       "      <td>Matrine</td>\n",
       "      <td>5</td>\n",
       "    </tr>\n",
       "    <tr>\n",
       "      <th>19</th>\n",
       "      <td>Nodulation</td>\n",
       "      <td>5</td>\n",
       "    </tr>\n",
       "    <tr>\n",
       "      <th>22</th>\n",
       "      <td>Rumen</td>\n",
       "      <td>5</td>\n",
       "    </tr>\n",
       "    <tr>\n",
       "      <th>26</th>\n",
       "      <td>MaxEnt</td>\n",
       "      <td>5</td>\n",
       "    </tr>\n",
       "    <tr>\n",
       "      <th>44</th>\n",
       "      <td>Biochar</td>\n",
       "      <td>5</td>\n",
       "    </tr>\n",
       "    <tr>\n",
       "      <th>64</th>\n",
       "      <td>ENaC</td>\n",
       "      <td>5</td>\n",
       "    </tr>\n",
       "    <tr>\n",
       "      <th>80</th>\n",
       "      <td>Paraquat</td>\n",
       "      <td>5</td>\n",
       "    </tr>\n",
       "    <tr>\n",
       "      <th>81</th>\n",
       "      <td>Gossypol</td>\n",
       "      <td>5</td>\n",
       "    </tr>\n",
       "    <tr>\n",
       "      <th>106</th>\n",
       "      <td>Tardigrada</td>\n",
       "      <td>5</td>\n",
       "    </tr>\n",
       "    <tr>\n",
       "      <th>113</th>\n",
       "      <td>Terahertz</td>\n",
       "      <td>5</td>\n",
       "    </tr>\n",
       "    <tr>\n",
       "      <th>127</th>\n",
       "      <td>Ferns</td>\n",
       "      <td>5</td>\n",
       "    </tr>\n",
       "    <tr>\n",
       "      <th>137</th>\n",
       "      <td>Struvite</td>\n",
       "      <td>5</td>\n",
       "    </tr>\n",
       "    <tr>\n",
       "      <th>147</th>\n",
       "      <td>STEC</td>\n",
       "      <td>5</td>\n",
       "    </tr>\n",
       "    <tr>\n",
       "      <th>174</th>\n",
       "      <td>MICP</td>\n",
       "      <td>5</td>\n",
       "    </tr>\n",
       "    <tr>\n",
       "      <th>178</th>\n",
       "      <td>Scour</td>\n",
       "      <td>5</td>\n",
       "    </tr>\n",
       "    <tr>\n",
       "      <th>203</th>\n",
       "      <td>WSSV</td>\n",
       "      <td>5</td>\n",
       "    </tr>\n",
       "  </tbody>\n",
       "</table>\n",
       "</div>"
      ],
      "text/plain": [
       "               keyword  cluster\n",
       "3    Photoproductivity        5\n",
       "17             Matrine        5\n",
       "19          Nodulation        5\n",
       "22               Rumen        5\n",
       "26              MaxEnt        5\n",
       "44             Biochar        5\n",
       "64                ENaC        5\n",
       "80            Paraquat        5\n",
       "81            Gossypol        5\n",
       "106         Tardigrada        5\n",
       "113          Terahertz        5\n",
       "127              Ferns        5\n",
       "137           Struvite        5\n",
       "147               STEC        5\n",
       "174               MICP        5\n",
       "178              Scour        5\n",
       "203               WSSV        5"
      ]
     },
     "execution_count": 157,
     "metadata": {},
     "output_type": "execute_result"
    }
   ],
   "source": [
    "dynamo_cluster_membership[dynamo_cluster_membership['cluster'] == 5]"
   ]
  },
  {
   "cell_type": "markdown",
   "metadata": {},
   "source": [
    "Cluster 5 doesn't have a clear theme."
   ]
  },
  {
   "cell_type": "code",
   "execution_count": 158,
   "metadata": {
    "tags": []
   },
   "outputs": [
    {
     "data": {
      "text/html": [
       "<div>\n",
       "<style scoped>\n",
       "    .dataframe tbody tr th:only-of-type {\n",
       "        vertical-align: middle;\n",
       "    }\n",
       "\n",
       "    .dataframe tbody tr th {\n",
       "        vertical-align: top;\n",
       "    }\n",
       "\n",
       "    .dataframe thead th {\n",
       "        text-align: right;\n",
       "    }\n",
       "</style>\n",
       "<table border=\"1\" class=\"dataframe\">\n",
       "  <thead>\n",
       "    <tr style=\"text-align: right;\">\n",
       "      <th></th>\n",
       "      <th>keyword</th>\n",
       "      <th>cluster</th>\n",
       "    </tr>\n",
       "  </thead>\n",
       "  <tbody>\n",
       "    <tr>\n",
       "      <th>0</th>\n",
       "      <td>HMGB1</td>\n",
       "      <td>6</td>\n",
       "    </tr>\n",
       "    <tr>\n",
       "      <th>5</th>\n",
       "      <td>Hsp70</td>\n",
       "      <td>6</td>\n",
       "    </tr>\n",
       "    <tr>\n",
       "      <th>25</th>\n",
       "      <td>HIV-1</td>\n",
       "      <td>6</td>\n",
       "    </tr>\n",
       "    <tr>\n",
       "      <th>45</th>\n",
       "      <td>lncRNA</td>\n",
       "      <td>6</td>\n",
       "    </tr>\n",
       "    <tr>\n",
       "      <th>61</th>\n",
       "      <td>MnSOD</td>\n",
       "      <td>6</td>\n",
       "    </tr>\n",
       "    <tr>\n",
       "      <th>99</th>\n",
       "      <td>PGPR</td>\n",
       "      <td>6</td>\n",
       "    </tr>\n",
       "    <tr>\n",
       "      <th>115</th>\n",
       "      <td>FOXP3</td>\n",
       "      <td>6</td>\n",
       "    </tr>\n",
       "    <tr>\n",
       "      <th>196</th>\n",
       "      <td>GLUT4</td>\n",
       "      <td>6</td>\n",
       "    </tr>\n",
       "  </tbody>\n",
       "</table>\n",
       "</div>"
      ],
      "text/plain": [
       "    keyword  cluster\n",
       "0     HMGB1        6\n",
       "5     Hsp70        6\n",
       "25    HIV-1        6\n",
       "45   lncRNA        6\n",
       "61    MnSOD        6\n",
       "99     PGPR        6\n",
       "115   FOXP3        6\n",
       "196   GLUT4        6"
      ]
     },
     "execution_count": 158,
     "metadata": {},
     "output_type": "execute_result"
    }
   ],
   "source": [
    "dynamo_cluster_membership[dynamo_cluster_membership['cluster'] == 6]"
   ]
  },
  {
   "cell_type": "markdown",
   "metadata": {},
   "source": [
    "These are protein names."
   ]
  },
  {
   "cell_type": "code",
   "execution_count": 160,
   "metadata": {},
   "outputs": [
    {
     "data": {
      "text/html": [
       "<div>\n",
       "<style scoped>\n",
       "    .dataframe tbody tr th:only-of-type {\n",
       "        vertical-align: middle;\n",
       "    }\n",
       "\n",
       "    .dataframe tbody tr th {\n",
       "        vertical-align: top;\n",
       "    }\n",
       "\n",
       "    .dataframe thead th {\n",
       "        text-align: right;\n",
       "    }\n",
       "</style>\n",
       "<table border=\"1\" class=\"dataframe\">\n",
       "  <thead>\n",
       "    <tr style=\"text-align: right;\">\n",
       "      <th></th>\n",
       "      <th>keyword</th>\n",
       "      <th>cluster</th>\n",
       "    </tr>\n",
       "  </thead>\n",
       "  <tbody>\n",
       "    <tr>\n",
       "      <th>7</th>\n",
       "      <td>Hyaluronan</td>\n",
       "      <td>7</td>\n",
       "    </tr>\n",
       "    <tr>\n",
       "      <th>23</th>\n",
       "      <td>Hydrogenase</td>\n",
       "      <td>7</td>\n",
       "    </tr>\n",
       "    <tr>\n",
       "      <th>43</th>\n",
       "      <td>Hydroxyapatite</td>\n",
       "      <td>7</td>\n",
       "    </tr>\n",
       "    <tr>\n",
       "      <th>48</th>\n",
       "      <td>Laccase</td>\n",
       "      <td>7</td>\n",
       "    </tr>\n",
       "    <tr>\n",
       "      <th>59</th>\n",
       "      <td>Baculovirus</td>\n",
       "      <td>7</td>\n",
       "    </tr>\n",
       "    <tr>\n",
       "      <th>62</th>\n",
       "      <td>Inulinase</td>\n",
       "      <td>7</td>\n",
       "    </tr>\n",
       "    <tr>\n",
       "      <th>74</th>\n",
       "      <td>Phosphofructokinase</td>\n",
       "      <td>7</td>\n",
       "    </tr>\n",
       "    <tr>\n",
       "      <th>86</th>\n",
       "      <td>Cellulase</td>\n",
       "      <td>7</td>\n",
       "    </tr>\n",
       "    <tr>\n",
       "      <th>119</th>\n",
       "      <td>Alpha-Amylase</td>\n",
       "      <td>7</td>\n",
       "    </tr>\n",
       "    <tr>\n",
       "      <th>146</th>\n",
       "      <td>Thioredoxin</td>\n",
       "      <td>7</td>\n",
       "    </tr>\n",
       "    <tr>\n",
       "      <th>156</th>\n",
       "      <td>Beta-Lactoglobulin</td>\n",
       "      <td>7</td>\n",
       "    </tr>\n",
       "    <tr>\n",
       "      <th>160</th>\n",
       "      <td>Phytochrome</td>\n",
       "      <td>7</td>\n",
       "    </tr>\n",
       "  </tbody>\n",
       "</table>\n",
       "</div>"
      ],
      "text/plain": [
       "                 keyword  cluster\n",
       "7             Hyaluronan        7\n",
       "23           Hydrogenase        7\n",
       "43        Hydroxyapatite        7\n",
       "48               Laccase        7\n",
       "59           Baculovirus        7\n",
       "62             Inulinase        7\n",
       "74   Phosphofructokinase        7\n",
       "86             Cellulase        7\n",
       "119        Alpha-Amylase        7\n",
       "146          Thioredoxin        7\n",
       "156   Beta-Lactoglobulin        7\n",
       "160          Phytochrome        7"
      ]
     },
     "execution_count": 160,
     "metadata": {},
     "output_type": "execute_result"
    }
   ],
   "source": [
    "dynamo_cluster_membership[dynamo_cluster_membership['cluster'] == 7]"
   ]
  },
  {
   "cell_type": "markdown",
   "metadata": {},
   "source": [
    "Cluster 7 is an enzyme cluster"
   ]
  },
  {
   "cell_type": "code",
   "execution_count": 161,
   "metadata": {},
   "outputs": [
    {
     "data": {
      "text/html": [
       "<div>\n",
       "<style scoped>\n",
       "    .dataframe tbody tr th:only-of-type {\n",
       "        vertical-align: middle;\n",
       "    }\n",
       "\n",
       "    .dataframe tbody tr th {\n",
       "        vertical-align: top;\n",
       "    }\n",
       "\n",
       "    .dataframe thead th {\n",
       "        text-align: right;\n",
       "    }\n",
       "</style>\n",
       "<table border=\"1\" class=\"dataframe\">\n",
       "  <thead>\n",
       "    <tr style=\"text-align: right;\">\n",
       "      <th></th>\n",
       "      <th>keyword</th>\n",
       "      <th>cluster</th>\n",
       "    </tr>\n",
       "  </thead>\n",
       "  <tbody>\n",
       "    <tr>\n",
       "      <th>28</th>\n",
       "      <td>Dimethylsulfoniopropionate</td>\n",
       "      <td>8</td>\n",
       "    </tr>\n",
       "    <tr>\n",
       "      <th>53</th>\n",
       "      <td>Thiamine</td>\n",
       "      <td>8</td>\n",
       "    </tr>\n",
       "    <tr>\n",
       "      <th>153</th>\n",
       "      <td>Acrylamide</td>\n",
       "      <td>8</td>\n",
       "    </tr>\n",
       "    <tr>\n",
       "      <th>173</th>\n",
       "      <td>Trimetazidine</td>\n",
       "      <td>8</td>\n",
       "    </tr>\n",
       "    <tr>\n",
       "      <th>190</th>\n",
       "      <td>Perchlorate</td>\n",
       "      <td>8</td>\n",
       "    </tr>\n",
       "  </tbody>\n",
       "</table>\n",
       "</div>"
      ],
      "text/plain": [
       "                        keyword  cluster\n",
       "28   Dimethylsulfoniopropionate        8\n",
       "53                     Thiamine        8\n",
       "153                  Acrylamide        8\n",
       "173               Trimetazidine        8\n",
       "190                 Perchlorate        8"
      ]
     },
     "execution_count": 161,
     "metadata": {},
     "output_type": "execute_result"
    }
   ],
   "source": [
    "dynamo_cluster_membership[dynamo_cluster_membership['cluster'] == 8]"
   ]
  },
  {
   "cell_type": "markdown",
   "metadata": {},
   "source": [
    "This is another chemical compound name cluster."
   ]
  },
  {
   "cell_type": "code",
   "execution_count": 159,
   "metadata": {
    "tags": []
   },
   "outputs": [
    {
     "data": {
      "text/html": [
       "<div>\n",
       "<style scoped>\n",
       "    .dataframe tbody tr th:only-of-type {\n",
       "        vertical-align: middle;\n",
       "    }\n",
       "\n",
       "    .dataframe tbody tr th {\n",
       "        vertical-align: top;\n",
       "    }\n",
       "\n",
       "    .dataframe thead th {\n",
       "        text-align: right;\n",
       "    }\n",
       "</style>\n",
       "<table border=\"1\" class=\"dataframe\">\n",
       "  <thead>\n",
       "    <tr style=\"text-align: right;\">\n",
       "      <th></th>\n",
       "      <th>keyword</th>\n",
       "      <th>cluster</th>\n",
       "    </tr>\n",
       "  </thead>\n",
       "  <tbody>\n",
       "    <tr>\n",
       "      <th>24</th>\n",
       "      <td>Superhydrophobic</td>\n",
       "      <td>-1</td>\n",
       "    </tr>\n",
       "    <tr>\n",
       "      <th>30</th>\n",
       "      <td>Aquaporin</td>\n",
       "      <td>-1</td>\n",
       "    </tr>\n",
       "    <tr>\n",
       "      <th>41</th>\n",
       "      <td>Atrazine</td>\n",
       "      <td>-1</td>\n",
       "    </tr>\n",
       "    <tr>\n",
       "      <th>72</th>\n",
       "      <td>Aerenchyma</td>\n",
       "      <td>-1</td>\n",
       "    </tr>\n",
       "    <tr>\n",
       "      <th>79</th>\n",
       "      <td>Anura</td>\n",
       "      <td>-1</td>\n",
       "    </tr>\n",
       "    <tr>\n",
       "      <th>107</th>\n",
       "      <td>Haemoproteus</td>\n",
       "      <td>-1</td>\n",
       "    </tr>\n",
       "    <tr>\n",
       "      <th>112</th>\n",
       "      <td>Mastitis</td>\n",
       "      <td>-1</td>\n",
       "    </tr>\n",
       "    <tr>\n",
       "      <th>122</th>\n",
       "      <td>Alpha-Tocopherol</td>\n",
       "      <td>-1</td>\n",
       "    </tr>\n",
       "    <tr>\n",
       "      <th>150</th>\n",
       "      <td>Pectin</td>\n",
       "      <td>-1</td>\n",
       "    </tr>\n",
       "    <tr>\n",
       "      <th>151</th>\n",
       "      <td>Cutin</td>\n",
       "      <td>-1</td>\n",
       "    </tr>\n",
       "    <tr>\n",
       "      <th>182</th>\n",
       "      <td>MPPT</td>\n",
       "      <td>-1</td>\n",
       "    </tr>\n",
       "    <tr>\n",
       "      <th>192</th>\n",
       "      <td>Bacteriophage</td>\n",
       "      <td>-1</td>\n",
       "    </tr>\n",
       "    <tr>\n",
       "      <th>197</th>\n",
       "      <td>Bioluminescence</td>\n",
       "      <td>-1</td>\n",
       "    </tr>\n",
       "  </tbody>\n",
       "</table>\n",
       "</div>"
      ],
      "text/plain": [
       "              keyword  cluster\n",
       "24   Superhydrophobic       -1\n",
       "30          Aquaporin       -1\n",
       "41           Atrazine       -1\n",
       "72         Aerenchyma       -1\n",
       "79              Anura       -1\n",
       "107      Haemoproteus       -1\n",
       "112          Mastitis       -1\n",
       "122  Alpha-Tocopherol       -1\n",
       "150            Pectin       -1\n",
       "151             Cutin       -1\n",
       "182              MPPT       -1\n",
       "192     Bacteriophage       -1\n",
       "197   Bioluminescence       -1"
      ]
     },
     "execution_count": 159,
     "metadata": {},
     "output_type": "execute_result"
    }
   ],
   "source": [
    "dynamo_cluster_membership[dynamo_cluster_membership['cluster'] == -1]"
   ]
  },
  {
   "cell_type": "markdown",
   "metadata": {},
   "source": [
    "I can certainly see which clusters I would have assigned these to, but overall I think it's reasoable that they were excluded as noise."
   ]
  },
  {
   "cell_type": "markdown",
   "metadata": {},
   "source": [
    "######  "
   ]
  },
  {
   "cell_type": "markdown",
   "metadata": {
    "tags": []
   },
   "source": [
    "The clusters themes are:\n",
    "* 0: No clear theme, also the largest\n",
    "* 1: Organism names (both scientific and common)\n",
    "* 2: Biomes/ecology\n",
    "* 3: \"Processes\": Biological and experimental processes/methods, some disciplines\n",
    "* 4: Compounds\n",
    "* 5: No clear theme\n",
    "* 6: Protein names\n",
    "* 7: Enzyme names\n",
    "* 8: Compound names\n",
    "\n",
    "Note that the number of clusters also changes when the algorithm is re-run without a random seed; UMAP is known to be stable to stochanistity, and in general, I've seen the same general cluster themes and groupiungs across runs, but it seems like our dataset is a little too small to be stable enough for the same number of clusters each time.\n",
    "\n",
    "I have to say that this worked quite well from the viewpoint of actually clustering similar keywords; the fact that all clusters but one or two have basically spot on groupings (i.e. there is a clear theme that can be identified by looking at the member words) is impressive to me. However, it's clear that this method won't work for deciding what papers to keep or throw, because of the nature of the keywords themselves; for example, the disciplines gorup together, but we'll want to keep some disciplines and throw others. I expect the same to happen with the static keywords, but I'd like to perform the same analysis for the sake of thoroughness."
   ]
  },
  {
   "cell_type": "code",
   "execution_count": 134,
   "metadata": {
    "tags": []
   },
   "outputs": [
    {
     "data": {
      "text/plain": [
       "(42, 2)"
      ]
     },
     "execution_count": 134,
     "metadata": {},
     "output_type": "execute_result"
    }
   ],
   "source": [
    "reducer = umap.UMAP()\n",
    "embedding = reducer.fit_transform(static_context_embeddings)\n",
    "embedding.shape"
   ]
  },
  {
   "cell_type": "code",
   "execution_count": 135,
   "metadata": {
    "tags": []
   },
   "outputs": [
    {
     "data": {
      "text/plain": [
       "Text(0.5, 1.0, 'UMAP reduction of static keyword embeddings')"
      ]
     },
     "execution_count": 135,
     "metadata": {},
     "output_type": "execute_result"
    },
    {
     "data": {
      "image/png": "[encoded data removed]",
      "text/plain": [
       "<Figure size 640x480 with 1 Axes>"
      ]
     },
     "metadata": {},
     "output_type": "display_data"
    }
   ],
   "source": [
    "plt.scatter(\n",
    "    embedding[:, 0],\n",
    "    embedding[:, 1])\n",
    "plt.title('UMAP reduction of static keyword embeddings')"
   ]
  },
  {
   "cell_type": "code",
   "execution_count": 136,
   "metadata": {
    "tags": []
   },
   "outputs": [
    {
     "data": {
      "text/html": [
       "<style>#sk-container-id-10 {color: black;}#sk-container-id-10 pre{padding: 0;}#sk-container-id-10 div.sk-toggleable {background-color: white;}#sk-container-id-10 label.sk-toggleable__label {cursor: pointer;display: block;width: 100%;margin-bottom: 0;padding: 0.3em;box-sizing: border-box;text-align: center;}#sk-container-id-10 label.sk-toggleable__label-arrow:before {content: \"▸\";float: left;margin-right: 0.25em;color: #696969;}#sk-container-id-10 label.sk-toggleable__label-arrow:hover:before {color: black;}#sk-container-id-10 div.sk-estimator:hover label.sk-toggleable__label-arrow:before {color: black;}#sk-container-id-10 div.sk-toggleable__content {max-height: 0;max-width: 0;overflow: hidden;text-align: left;background-color: #f0f8ff;}#sk-container-id-10 div.sk-toggleable__content pre {margin: 0.2em;color: black;border-radius: 0.25em;background-color: #f0f8ff;}#sk-container-id-10 input.sk-toggleable__control:checked~div.sk-toggleable__content {max-height: 200px;max-width: 100%;overflow: auto;}#sk-container-id-10 input.sk-toggleable__control:checked~label.sk-toggleable__label-arrow:before {content: \"▾\";}#sk-container-id-10 div.sk-estimator input.sk-toggleable__control:checked~label.sk-toggleable__label {background-color: #d4ebff;}#sk-container-id-10 div.sk-label input.sk-toggleable__control:checked~label.sk-toggleable__label {background-color: #d4ebff;}#sk-container-id-10 input.sk-hidden--visually {border: 0;clip: rect(1px 1px 1px 1px);clip: rect(1px, 1px, 1px, 1px);height: 1px;margin: -1px;overflow: hidden;padding: 0;position: absolute;width: 1px;}#sk-container-id-10 div.sk-estimator {font-family: monospace;background-color: #f0f8ff;border: 1px dotted black;border-radius: 0.25em;box-sizing: border-box;margin-bottom: 0.5em;}#sk-container-id-10 div.sk-estimator:hover {background-color: #d4ebff;}#sk-container-id-10 div.sk-parallel-item::after {content: \"\";width: 100%;border-bottom: 1px solid gray;flex-grow: 1;}#sk-container-id-10 div.sk-label:hover label.sk-toggleable__label {background-color: #d4ebff;}#sk-container-id-10 div.sk-serial::before {content: \"\";position: absolute;border-left: 1px solid gray;box-sizing: border-box;top: 0;bottom: 0;left: 50%;z-index: 0;}#sk-container-id-10 div.sk-serial {display: flex;flex-direction: column;align-items: center;background-color: white;padding-right: 0.2em;padding-left: 0.2em;position: relative;}#sk-container-id-10 div.sk-item {position: relative;z-index: 1;}#sk-container-id-10 div.sk-parallel {display: flex;align-items: stretch;justify-content: center;background-color: white;position: relative;}#sk-container-id-10 div.sk-item::before, #sk-container-id-10 div.sk-parallel-item::before {content: \"\";position: absolute;border-left: 1px solid gray;box-sizing: border-box;top: 0;bottom: 0;left: 50%;z-index: -1;}#sk-container-id-10 div.sk-parallel-item {display: flex;flex-direction: column;z-index: 1;position: relative;background-color: white;}#sk-container-id-10 div.sk-parallel-item:first-child::after {align-self: flex-end;width: 50%;}#sk-container-id-10 div.sk-parallel-item:last-child::after {align-self: flex-start;width: 50%;}#sk-container-id-10 div.sk-parallel-item:only-child::after {width: 0;}#sk-container-id-10 div.sk-dashed-wrapped {border: 1px dashed gray;margin: 0 0.4em 0.5em 0.4em;box-sizing: border-box;padding-bottom: 0.4em;background-color: white;}#sk-container-id-10 div.sk-label label {font-family: monospace;font-weight: bold;display: inline-block;line-height: 1.2em;}#sk-container-id-10 div.sk-label-container {text-align: center;}#sk-container-id-10 div.sk-container {/* jupyter's `normalize.less` sets `[hidden] { display: none; }` but bootstrap.min.css set `[hidden] { display: none !important; }` so we also need the `!important` here to be able to override the default hidden behavior on the sphinx rendered scikit-learn.org. See: https://github.com/scikit-learn/scikit-learn/issues/21755 */display: inline-block !important;position: relative;}#sk-container-id-10 div.sk-text-repr-fallback {display: none;}</style><div id=\"sk-container-id-10\" class=\"sk-top-container\"><div class=\"sk-text-repr-fallback\"><pre>HDBSCAN()</pre><b>In a Jupyter environment, please rerun this cell to show the HTML representation or trust the notebook. <br />On GitHub, the HTML representation is unable to render, please try loading this page with nbviewer.org.</b></div><div class=\"sk-container\" hidden><div class=\"sk-item\"><div class=\"sk-estimator sk-toggleable\"><input class=\"sk-toggleable__control sk-hidden--visually\" id=\"sk-estimator-id-10\" type=\"checkbox\" checked><label for=\"sk-estimator-id-10\" class=\"sk-toggleable__label sk-toggleable__label-arrow\">HDBSCAN</label><div class=\"sk-toggleable__content\"><pre>HDBSCAN()</pre></div></div></div></div></div>"
      ],
      "text/plain": [
       "HDBSCAN()"
      ]
     },
     "execution_count": 136,
     "metadata": {},
     "output_type": "execute_result"
    }
   ],
   "source": [
    "hdb = HDBSCAN()\n",
    "hdb.fit(embedding)"
   ]
  },
  {
   "cell_type": "code",
   "execution_count": 137,
   "metadata": {
    "tags": []
   },
   "outputs": [
    {
     "data": {
      "text/plain": [
       "Text(0.5, 1.0, 'HDSCAN clustering on UMAP reduction of static keyword embeddings')"
      ]
     },
     "execution_count": 137,
     "metadata": {},
     "output_type": "execute_result"
    },
    {
     "data": {
      "image/png": "[encoded data removed]",
      "text/plain": [
       "<Figure size 640x480 with 1 Axes>"
      ]
     },
     "metadata": {},
     "output_type": "display_data"
    }
   ],
   "source": [
    "fig, ax = plt.subplots(1, 1)\n",
    "for elt, label in zip(embedding, hdb.labels_):\n",
    "    ax.scatter(elt[0], elt[1], color=colors[label])\n",
    "plt.title('HDSCAN clustering on UMAP reduction of static keyword embeddings')"
   ]
  },
  {
   "cell_type": "markdown",
   "metadata": {
    "jp-MarkdownHeadingCollapsed": true,
    "tags": []
   },
   "source": [
    "###### Cluster generalizations"
   ]
  },
  {
   "cell_type": "code",
   "execution_count": 138,
   "metadata": {
    "tags": []
   },
   "outputs": [],
   "source": [
    "static_cluster_membership = pd.DataFrame({'keyword': static_context_tokens, 'cluster': hdb.labels_})"
   ]
  },
  {
   "cell_type": "code",
   "execution_count": 139,
   "metadata": {
    "tags": []
   },
   "outputs": [
    {
     "data": {
      "text/html": [
       "<div>\n",
       "<style scoped>\n",
       "    .dataframe tbody tr th:only-of-type {\n",
       "        vertical-align: middle;\n",
       "    }\n",
       "\n",
       "    .dataframe tbody tr th {\n",
       "        vertical-align: top;\n",
       "    }\n",
       "\n",
       "    .dataframe thead th {\n",
       "        text-align: right;\n",
       "    }\n",
       "</style>\n",
       "<table border=\"1\" class=\"dataframe\">\n",
       "  <thead>\n",
       "    <tr style=\"text-align: right;\">\n",
       "      <th></th>\n",
       "      <th>keyword</th>\n",
       "      <th>cluster</th>\n",
       "    </tr>\n",
       "  </thead>\n",
       "  <tbody>\n",
       "    <tr>\n",
       "      <th>0</th>\n",
       "      <td>Virology</td>\n",
       "      <td>0</td>\n",
       "    </tr>\n",
       "    <tr>\n",
       "      <th>1</th>\n",
       "      <td>Literature</td>\n",
       "      <td>0</td>\n",
       "    </tr>\n",
       "    <tr>\n",
       "      <th>3</th>\n",
       "      <td>Immunology</td>\n",
       "      <td>0</td>\n",
       "    </tr>\n",
       "    <tr>\n",
       "      <th>4</th>\n",
       "      <td>Hematology</td>\n",
       "      <td>0</td>\n",
       "    </tr>\n",
       "    <tr>\n",
       "      <th>5</th>\n",
       "      <td>Pathology</td>\n",
       "      <td>0</td>\n",
       "    </tr>\n",
       "    <tr>\n",
       "      <th>7</th>\n",
       "      <td>Optics</td>\n",
       "      <td>0</td>\n",
       "    </tr>\n",
       "    <tr>\n",
       "      <th>8</th>\n",
       "      <td>Chemistry</td>\n",
       "      <td>0</td>\n",
       "    </tr>\n",
       "    <tr>\n",
       "      <th>9</th>\n",
       "      <td>Transportation</td>\n",
       "      <td>0</td>\n",
       "    </tr>\n",
       "    <tr>\n",
       "      <th>12</th>\n",
       "      <td>Engineering</td>\n",
       "      <td>0</td>\n",
       "    </tr>\n",
       "    <tr>\n",
       "      <th>13</th>\n",
       "      <td>Biology</td>\n",
       "      <td>0</td>\n",
       "    </tr>\n",
       "    <tr>\n",
       "      <th>15</th>\n",
       "      <td>Physics</td>\n",
       "      <td>0</td>\n",
       "    </tr>\n",
       "    <tr>\n",
       "      <th>16</th>\n",
       "      <td>Dermatology</td>\n",
       "      <td>0</td>\n",
       "    </tr>\n",
       "    <tr>\n",
       "      <th>17</th>\n",
       "      <td>Electrochemistry</td>\n",
       "      <td>0</td>\n",
       "    </tr>\n",
       "    <tr>\n",
       "      <th>18</th>\n",
       "      <td>Biophysics</td>\n",
       "      <td>0</td>\n",
       "    </tr>\n",
       "    <tr>\n",
       "      <th>19</th>\n",
       "      <td>Thermodynamics</td>\n",
       "      <td>0</td>\n",
       "    </tr>\n",
       "    <tr>\n",
       "      <th>20</th>\n",
       "      <td>Ophthalmology</td>\n",
       "      <td>0</td>\n",
       "    </tr>\n",
       "    <tr>\n",
       "      <th>22</th>\n",
       "      <td>Geography</td>\n",
       "      <td>0</td>\n",
       "    </tr>\n",
       "    <tr>\n",
       "      <th>23</th>\n",
       "      <td>Ecology</td>\n",
       "      <td>0</td>\n",
       "    </tr>\n",
       "    <tr>\n",
       "      <th>25</th>\n",
       "      <td>Physiology</td>\n",
       "      <td>0</td>\n",
       "    </tr>\n",
       "    <tr>\n",
       "      <th>26</th>\n",
       "      <td>Oncology</td>\n",
       "      <td>0</td>\n",
       "    </tr>\n",
       "    <tr>\n",
       "      <th>27</th>\n",
       "      <td>Neurosciences</td>\n",
       "      <td>0</td>\n",
       "    </tr>\n",
       "    <tr>\n",
       "      <th>29</th>\n",
       "      <td>Spectroscopy</td>\n",
       "      <td>0</td>\n",
       "    </tr>\n",
       "    <tr>\n",
       "      <th>30</th>\n",
       "      <td>Toxicology</td>\n",
       "      <td>0</td>\n",
       "    </tr>\n",
       "    <tr>\n",
       "      <th>32</th>\n",
       "      <td>Psychology</td>\n",
       "      <td>0</td>\n",
       "    </tr>\n",
       "    <tr>\n",
       "      <th>33</th>\n",
       "      <td>Surgery</td>\n",
       "      <td>0</td>\n",
       "    </tr>\n",
       "    <tr>\n",
       "      <th>34</th>\n",
       "      <td>Microbiology</td>\n",
       "      <td>0</td>\n",
       "    </tr>\n",
       "    <tr>\n",
       "      <th>37</th>\n",
       "      <td>Agriculture</td>\n",
       "      <td>0</td>\n",
       "    </tr>\n",
       "    <tr>\n",
       "      <th>39</th>\n",
       "      <td>Forestry</td>\n",
       "      <td>0</td>\n",
       "    </tr>\n",
       "    <tr>\n",
       "      <th>40</th>\n",
       "      <td>Microscopy</td>\n",
       "      <td>0</td>\n",
       "    </tr>\n",
       "    <tr>\n",
       "      <th>41</th>\n",
       "      <td>Fisheries</td>\n",
       "      <td>0</td>\n",
       "    </tr>\n",
       "  </tbody>\n",
       "</table>\n",
       "</div>"
      ],
      "text/plain": [
       "             keyword  cluster\n",
       "0           Virology        0\n",
       "1         Literature        0\n",
       "3         Immunology        0\n",
       "4         Hematology        0\n",
       "5          Pathology        0\n",
       "7             Optics        0\n",
       "8          Chemistry        0\n",
       "9     Transportation        0\n",
       "12       Engineering        0\n",
       "13           Biology        0\n",
       "15           Physics        0\n",
       "16       Dermatology        0\n",
       "17  Electrochemistry        0\n",
       "18        Biophysics        0\n",
       "19    Thermodynamics        0\n",
       "20     Ophthalmology        0\n",
       "22         Geography        0\n",
       "23           Ecology        0\n",
       "25        Physiology        0\n",
       "26          Oncology        0\n",
       "27     Neurosciences        0\n",
       "29      Spectroscopy        0\n",
       "30        Toxicology        0\n",
       "32        Psychology        0\n",
       "33           Surgery        0\n",
       "34      Microbiology        0\n",
       "37       Agriculture        0\n",
       "39          Forestry        0\n",
       "40        Microscopy        0\n",
       "41         Fisheries        0"
      ]
     },
     "execution_count": 139,
     "metadata": {},
     "output_type": "execute_result"
    }
   ],
   "source": [
    "static_cluster_membership[static_cluster_membership['cluster'] == 0]"
   ]
  },
  {
   "cell_type": "code",
   "execution_count": 140,
   "metadata": {
    "tags": []
   },
   "outputs": [
    {
     "data": {
      "text/html": [
       "<div>\n",
       "<style scoped>\n",
       "    .dataframe tbody tr th:only-of-type {\n",
       "        vertical-align: middle;\n",
       "    }\n",
       "\n",
       "    .dataframe tbody tr th {\n",
       "        vertical-align: top;\n",
       "    }\n",
       "\n",
       "    .dataframe thead th {\n",
       "        text-align: right;\n",
       "    }\n",
       "</style>\n",
       "<table border=\"1\" class=\"dataframe\">\n",
       "  <thead>\n",
       "    <tr style=\"text-align: right;\">\n",
       "      <th></th>\n",
       "      <th>keyword</th>\n",
       "      <th>cluster</th>\n",
       "    </tr>\n",
       "  </thead>\n",
       "  <tbody>\n",
       "    <tr>\n",
       "      <th>2</th>\n",
       "      <td>Mycology</td>\n",
       "      <td>1</td>\n",
       "    </tr>\n",
       "    <tr>\n",
       "      <th>6</th>\n",
       "      <td>Limnology</td>\n",
       "      <td>1</td>\n",
       "    </tr>\n",
       "    <tr>\n",
       "      <th>10</th>\n",
       "      <td>Gerontology</td>\n",
       "      <td>1</td>\n",
       "    </tr>\n",
       "    <tr>\n",
       "      <th>11</th>\n",
       "      <td>Entomology</td>\n",
       "      <td>1</td>\n",
       "    </tr>\n",
       "    <tr>\n",
       "      <th>14</th>\n",
       "      <td>Oceanography</td>\n",
       "      <td>1</td>\n",
       "    </tr>\n",
       "    <tr>\n",
       "      <th>21</th>\n",
       "      <td>Geology</td>\n",
       "      <td>1</td>\n",
       "    </tr>\n",
       "    <tr>\n",
       "      <th>24</th>\n",
       "      <td>Horticulture</td>\n",
       "      <td>1</td>\n",
       "    </tr>\n",
       "    <tr>\n",
       "      <th>28</th>\n",
       "      <td>Parasitology</td>\n",
       "      <td>1</td>\n",
       "    </tr>\n",
       "    <tr>\n",
       "      <th>31</th>\n",
       "      <td>Agronomy</td>\n",
       "      <td>1</td>\n",
       "    </tr>\n",
       "    <tr>\n",
       "      <th>35</th>\n",
       "      <td>Mineralogy</td>\n",
       "      <td>1</td>\n",
       "    </tr>\n",
       "    <tr>\n",
       "      <th>36</th>\n",
       "      <td>Zoology</td>\n",
       "      <td>1</td>\n",
       "    </tr>\n",
       "    <tr>\n",
       "      <th>38</th>\n",
       "      <td>Paleontology</td>\n",
       "      <td>1</td>\n",
       "    </tr>\n",
       "  </tbody>\n",
       "</table>\n",
       "</div>"
      ],
      "text/plain": [
       "         keyword  cluster\n",
       "2       Mycology        1\n",
       "6      Limnology        1\n",
       "10   Gerontology        1\n",
       "11    Entomology        1\n",
       "14  Oceanography        1\n",
       "21       Geology        1\n",
       "24  Horticulture        1\n",
       "28  Parasitology        1\n",
       "31      Agronomy        1\n",
       "35    Mineralogy        1\n",
       "36       Zoology        1\n",
       "38  Paleontology        1"
      ]
     },
     "execution_count": 140,
     "metadata": {},
     "output_type": "execute_result"
    }
   ],
   "source": [
    "static_cluster_membership[static_cluster_membership['cluster'] == 1]"
   ]
  },
  {
   "cell_type": "markdown",
   "metadata": {},
   "source": [
    "######  "
   ]
  },
  {
   "cell_type": "markdown",
   "metadata": {},
   "source": [
    "In contrast to the dynamic keywords, there are two clear clusters, no outliers, and both clusters are just disciplines -- because this is how the journals are classified. The clustering method once again doesn't really work; there are disciplines in both clusters I would choose to keep if I were classifying them manually. However, I think it was very worthwhile doing this analysis to get a sense of what both kinds of keywords look like, and also to justify spending the time manually classifying them.\n",
    "\n",
    "Important to remember is the fact that we only did this analysis for unigrams; however, I don't think the results justify going back to expand it to all of the keywords."
   ]
  },
  {
   "cell_type": "markdown",
   "metadata": {},
   "source": [
    "To move forward, I'm going to blindly label both the dynamic and static keywords as relevant/not relevant and use them to separate the dataset, and then evaluate on the relevance labeled test set of abstracts that I made last week. To do this, I adapted the script that I used for relevance labeling abstracts to label on the command line. The script requires the keywords in a dataframe, which we can save out here:"
   ]
  },
  {
   "cell_type": "code",
   "execution_count": 80,
   "metadata": {},
   "outputs": [],
   "source": [
    "all_dynamo = set([keyword for doc in full_main for keyword in doc['dynamic_keys']])\n",
    "all_static = set([keyword for doc in full_main for keyword in doc['static_keywords']])"
   ]
  },
  {
   "cell_type": "code",
   "execution_count": 81,
   "metadata": {},
   "outputs": [
    {
     "data": {
      "text/plain": [
       "(464, 148)"
      ]
     },
     "execution_count": 81,
     "metadata": {},
     "output_type": "execute_result"
    }
   ],
   "source": [
    "len(all_dynamo), len(all_static)"
   ]
  },
  {
   "cell_type": "code",
   "execution_count": 82,
   "metadata": {},
   "outputs": [],
   "source": [
    "dynamo_df = pd.DataFrame({'keywords': list(all_dynamo)})\n",
    "static_df = pd.DataFrame({'keywords': list(all_static)})"
   ]
  },
  {
   "cell_type": "code",
   "execution_count": 83,
   "metadata": {},
   "outputs": [],
   "source": [
    "dynamo_df.to_csv('../data/wos_files/dynamic_keys_full_main_27Dec2023.csv', index=False)\n",
    "static_df.to_csv('../data/wos_files/static_keys_full_main_27Dec2023.csv', index=False)"
   ]
  }
 ],
 "metadata": {
  "kernelspec": {
   "display_name": "graphs",
   "language": "python",
   "name": "graphs"
  },
  "language_info": {
   "codemirror_mode": {
    "name": "ipython",
    "version": 3
   },
   "file_extension": ".py",
   "mimetype": "text/x-python",
   "name": "python",
   "nbconvert_exporter": "python",
   "pygments_lexer": "ipython3",
   "version": "3.10.13"
  }
 },
 "nbformat": 4,
 "nbformat_minor": 4
}
