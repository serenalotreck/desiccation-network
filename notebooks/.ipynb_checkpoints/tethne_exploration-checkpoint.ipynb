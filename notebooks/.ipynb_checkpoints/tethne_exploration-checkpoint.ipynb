{
 "cells": [
  {
   "cell_type": "markdown",
   "metadata": {},
   "source": [
    "# Tethne citation network building exploration\n",
    "Exploration of using tethne and TaxoNERD to builda  citation network and classify the nodes by study system."
   ]
  },
  {
   "cell_type": "code",
   "execution_count": 8,
   "metadata": {},
   "outputs": [],
   "source": [
    "import tethne.readers as rd\n",
    "import tethne.networks as nt\n",
    "import pkgutil\n",
    "import tethne"
   ]
  },
  {
   "cell_type": "code",
   "execution_count": 11,
   "metadata": {},
   "outputs": [
    {
     "data": {
      "text/plain": [
       "[ModuleInfo(module_finder=FileFinder('/mnt/ufs18/home-118/lotrecks/haai_vanburen_lab/desiccation-network/dessication/lib/python3.6/site-packages/tethne/readers'), name='_rankedwords', ispkg=False),\n",
       " ModuleInfo(module_finder=FileFinder('/mnt/ufs18/home-118/lotrecks/haai_vanburen_lab/desiccation-network/dessication/lib/python3.6/site-packages/tethne/readers'), name='base', ispkg=False),\n",
       " ModuleInfo(module_finder=FileFinder('/mnt/ufs18/home-118/lotrecks/haai_vanburen_lab/desiccation-network/dessication/lib/python3.6/site-packages/tethne/readers'), name='dfr', ispkg=False),\n",
       " ModuleInfo(module_finder=FileFinder('/mnt/ufs18/home-118/lotrecks/haai_vanburen_lab/desiccation-network/dessication/lib/python3.6/site-packages/tethne/readers'), name='dspace', ispkg=False),\n",
       " ModuleInfo(module_finder=FileFinder('/mnt/ufs18/home-118/lotrecks/haai_vanburen_lab/desiccation-network/dessication/lib/python3.6/site-packages/tethne/readers'), name='scopus', ispkg=False),\n",
       " ModuleInfo(module_finder=FileFinder('/mnt/ufs18/home-118/lotrecks/haai_vanburen_lab/desiccation-network/dessication/lib/python3.6/site-packages/tethne/readers'), name='wos', ispkg=False),\n",
       " ModuleInfo(module_finder=FileFinder('/mnt/ufs18/home-118/lotrecks/haai_vanburen_lab/desiccation-network/dessication/lib/python3.6/site-packages/tethne/readers'), name='zotero', ispkg=False)]"
      ]
     },
     "execution_count": 11,
     "metadata": {},
     "output_type": "execute_result"
    }
   ],
   "source": [
    "list(pkgutil.iter_modules(rd.__path__))"
   ]
  },
  {
   "cell_type": "code",
   "execution_count": 12,
   "metadata": {},
   "outputs": [
    {
     "ename": "AttributeError",
     "evalue": "module 'tethne.readers' has no attribute 'wos'",
     "output_type": "error",
     "traceback": [
      "\u001b[0;31m---------------------------------------------------------------------------\u001b[0m",
      "\u001b[0;31mAttributeError\u001b[0m                            Traceback (most recent call last)",
      "\u001b[0;32m<ipython-input-12-72a86d84f2cd>\u001b[0m in \u001b[0;36m<module>\u001b[0;34m\u001b[0m\n\u001b[0;32m----> 1\u001b[0;31m \u001b[0mrd\u001b[0m\u001b[0;34m.\u001b[0m\u001b[0mwos\u001b[0m\u001b[0;34m\u001b[0m\u001b[0m\n\u001b[0m",
      "\u001b[0;31mAttributeError\u001b[0m: module 'tethne.readers' has no attribute 'wos'"
     ]
    }
   ],
   "source": [
    "rd.wos"
   ]
  },
  {
   "cell_type": "code",
   "execution_count": 2,
   "metadata": {},
   "outputs": [],
   "source": [
    "wos_file = '../data/wos_files/31Mar2023_partial_download_SEARCH_desiccation_tolerance/savedrecs_ALL.txt'"
   ]
  },
  {
   "cell_type": "code",
   "execution_count": 4,
   "metadata": {},
   "outputs": [
    {
     "ename": "AttributeError",
     "evalue": "module 'tethne.readers' has no attribute 'wos'",
     "output_type": "error",
     "traceback": [
      "\u001b[0;31m---------------------------------------------------------------------------\u001b[0m",
      "\u001b[0;31mAttributeError\u001b[0m                            Traceback (most recent call last)",
      "\u001b[0;32m<ipython-input-4-b7f3b48f2322>\u001b[0m in \u001b[0;36m<module>\u001b[0;34m\u001b[0m\n\u001b[0;32m----> 1\u001b[0;31m \u001b[0mpapers\u001b[0m \u001b[0;34m=\u001b[0m \u001b[0mrd\u001b[0m\u001b[0;34m.\u001b[0m\u001b[0mwos\u001b[0m\u001b[0;34m.\u001b[0m\u001b[0mread\u001b[0m\u001b[0;34m(\u001b[0m\u001b[0mwos_file\u001b[0m\u001b[0;34m)\u001b[0m\u001b[0;34m\u001b[0m\u001b[0m\n\u001b[0m\u001b[1;32m      2\u001b[0m \u001b[0mgDC\u001b[0m\u001b[0;34m,\u001b[0m \u001b[0miDC\u001b[0m \u001b[0;34m=\u001b[0m \u001b[0mnt\u001b[0m\u001b[0;34m.\u001b[0m\u001b[0mpapers\u001b[0m\u001b[0;34m.\u001b[0m\u001b[0mdirect_citation\u001b[0m\u001b[0;34m(\u001b[0m\u001b[0mpapers\u001b[0m\u001b[0;34m)\u001b[0m\u001b[0;34m\u001b[0m\u001b[0m\n",
      "\u001b[0;31mAttributeError\u001b[0m: module 'tethne.readers' has no attribute 'wos'"
     ]
    }
   ],
   "source": [
    "papers = rd.wos.read(wos_file)\n",
    "gDC, iDC = nt.papers.direct_citation(papers)"
   ]
  },
  {
   "cell_type": "code",
   "execution_count": null,
   "metadata": {},
   "outputs": [],
   "source": []
  }
 ],
 "metadata": {
  "kernelspec": {
   "display_name": "dessication",
   "language": "python",
   "name": "dessication"
  },
  "language_info": {
   "codemirror_mode": {
    "name": "ipython",
    "version": 3
   },
   "file_extension": ".py",
   "mimetype": "text/x-python",
   "name": "python",
   "nbconvert_exporter": "python",
   "pygments_lexer": "ipython3",
   "version": "3.6.4"
  }
 },
 "nbformat": 4,
 "nbformat_minor": 2
}
