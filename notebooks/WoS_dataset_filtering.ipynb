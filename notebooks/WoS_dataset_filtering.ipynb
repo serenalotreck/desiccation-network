{
 "cells": [
  {
   "cell_type": "markdown",
   "metadata": {},
   "source": [
    "# WoS dataset filtering\n",
    "In this notebok, we'll address the problem of filtering out irrelevant papers from our Web of Science-generated dataset. We'll explore a few approaches to this problem, including filtering based on static and dynamic WoS keywords. We'll then evaluate our approaches on a subset of abstracts annotated for whether or not theyshould be kept or removed from the dataset (relevance labeled)."
   ]
  },
  {
   "cell_type": "code",
   "execution_count": 113,
   "metadata": {},
   "outputs": [],
   "source": [
    "import jsonlines\n",
    "import pandas as pd\n",
    "from collections import Counter\n",
    "import matplotlib.pyplot as plt\n",
    "%matplotlib inline\n",
    "from sklearn.metrics import f1_score, confusion_matrix, ConfusionMatrixDisplay"
   ]
  },
  {
   "cell_type": "markdown",
   "metadata": {},
   "source": [
    "## Reading in the data\n",
    "\n",
    "In the `WoS_dataset_characterization.ipynb` notebook, I played around with using word embedding clustering to determine which keywords were relevant/irrelevant for our task. I found that while the clustering does an impressive job of grouping keywords semantically, the semantic axis on which they cluster tends to be things like scientific disciplines, chemical and protein names, all of which contain both relevant and irrelevant terms for our subject matter. Therefore, I decided to move ahead by manually labelling the keywords as relevant or not. Because the keywords are viewed in isolation of their context (i.e. without looking at the abstract that they describe), and because it's very possible that multiple papers with the same keyword are both relevant and irrelevant, it's not a guarantee that this method is any better, so we want to evaluate the method against a test set of manually labeled abstracts. We'll read in all three sets of labels here."
   ]
  },
  {
   "cell_type": "code",
   "execution_count": 101,
   "metadata": {},
   "outputs": [],
   "source": [
    "with jsonlines.open('../data/wos_files/core_collection_destol_or_anhydro_ALL_03Jan2024_sequential.jsonl') as reader:\n",
    "    data = []\n",
    "    for obj in reader:\n",
    "        data.append(obj)"
   ]
  },
  {
   "cell_type": "code",
   "execution_count": 102,
   "metadata": {},
   "outputs": [],
   "source": [
    "dynamos_ann1 = pd.read_csv('../data/wos_files/dynamic_keys_relevance_classified_27Dec2023.csv', index_col=0)\n",
    "dynamos_ann2 = pd.read_csv('../data/wos_files/dynamic_keys_labeled_Ian_04Jan2024.csv', index_col=0)"
   ]
  },
  {
   "cell_type": "code",
   "execution_count": 103,
   "metadata": {},
   "outputs": [],
   "source": [
    "statics_ann1 = pd.read_csv('../data/wos_files/static_keys_relevance_classified_27Dec2023.csv', index_col=0)\n",
    "statics_ann2 = pd.read_csv('../data/wos_files/static_keys_labeled_Ian_04Jan2024.csv', index_col=0)"
   ]
  },
  {
   "cell_type": "code",
   "execution_count": 107,
   "metadata": {},
   "outputs": [],
   "source": [
    "test_ann1 = pd.read_csv('../data/wos_files/core_collection_destol_or_anhydro_ALL_15Dec2023_3_percent_labels_ANNA.csv', index_col=0)\n",
    "test_ann2 = pd.read_csv('../data/wos_files/core_collection_destol_or_anhydro_ALL_15Dec2023_3_percent_labels.csv', index_col=0)\n",
    "test_ann3 = pd.read_csv('../data/wos_files/core_collection_destol_or_anhydro_ALL_15Dec2023_3_percent_labels_BOB.csv', index_col=0)"
   ]
  },
  {
   "cell_type": "markdown",
   "metadata": {},
   "source": [
    "## Calculating IAA\n",
    "We'll use [Cohen's kappa](https://surge-ai.medium.com/inter-annotator-agreement-an-introduction-to-cohens-kappa-statistic-dcc15ffa5ac4) for calculating this metric, which is defined as:\n",
    "\n",
    "$$\\frac{P_{o} - P_{e}}{1 - P_{e}}$$\n",
    "\n",
    "Where $P_{o}$ is the numebr of times both raters assigned the same label, and $P_{e}$ is the probability that btoh raters would choose the same label if they guessed randomly. We'll code up a function to calculate these values to get the overall Cohen's kappa."
   ]
  },
  {
   "cell_type": "code",
   "execution_count": 13,
   "metadata": {},
   "outputs": [],
   "source": [
    "def cohens_kappa(ann1, ann2):\n",
    "    \"\"\"\n",
    "    Compute the cohen's kappa for a set of annotations.\n",
    "    \n",
    "    parameters:\n",
    "        ann1, df: annotator1's annotations\n",
    "        ann2, df: annotator2's annotations\n",
    "    \n",
    "    returns:\n",
    "        kappa, float: cohen's kappa\n",
    "    \"\"\"\n",
    "    # Merge the two dfs\n",
    "    anns = ann1.merge(ann2, left_index=True, right_index=True, suffixes=('_ann1', '_ann2'))\n",
    "    \n",
    "    # Calculate the input values\n",
    "    total = len(anns)\n",
    "    tp = len(anns[(anns['relevant_ann1'] == anns['relevant_ann2']) & (anns['relevant_ann1'] == 'Y')])\n",
    "    tn = len(anns[(anns['relevant_ann1'] == anns['relevant_ann2']) & (anns['relevant_ann1'] == 'N')])\n",
    "    fp = len(anns[(anns['relevant_ann1'] != anns['relevant_ann2']) & (anns['relevant_ann1'] == 'Y')])\n",
    "    fn = len(anns[(anns['relevant_ann1'] != anns['relevant_ann2']) & (anns['relevant_ann1'] == 'N')])\n",
    "    Po = (tp + tn)/total\n",
    "    P1 = ((tp + fn)*(tp + fp))/total**2\n",
    "    P2 = ((tn + fn) * (tn + fp))/total**2\n",
    "    Pe = P1 + P2\n",
    "    \n",
    "    # Calculate the overall value\n",
    "    kappa = (Po - Pe)/(1 - Pe)\n",
    "    \n",
    "    return kappa"
   ]
  },
  {
   "cell_type": "markdown",
   "metadata": {},
   "source": [
    "\n",
    "### IAA on keywords\n",
    "First, we want to calculate an IAA for our labels of the keywords. "
   ]
  },
  {
   "cell_type": "code",
   "execution_count": 14,
   "metadata": {},
   "outputs": [
    {
     "name": "stdout",
     "output_type": "stream",
     "text": [
      "Agreement on the dynamic keywords was 0.10\n"
     ]
    }
   ],
   "source": [
    "dynamo_iaa = cohens_kappa(dynamos_ann1, dynamos_ann2)\n",
    "print(f'Agreement on the dynamic keywords was {dynamo_iaa:.2f}')"
   ]
  },
  {
   "cell_type": "code",
   "execution_count": 15,
   "metadata": {},
   "outputs": [
    {
     "name": "stdout",
     "output_type": "stream",
     "text": [
      "Agreement on the static keywords was 0.38\n"
     ]
    }
   ],
   "source": [
    "static_iaa = cohens_kappa(statics_ann1, statics_ann2)\n",
    "print(f'Agreement on the static keywords was {static_iaa:.2f}')"
   ]
  },
  {
   "cell_type": "markdown",
   "metadata": {},
   "source": [
    "These agreements are terrible! However, with the keywords, it's important to consider the fact that, since they're completely out of context (on purpose), this is an extremely opinionated task. Potentially, one person's opinion is more correct than another's as evaluated on the test set; so for now I'm going to keep the keyword annotaions separate and treat them as separate filtering \"methods\"."
   ]
  },
  {
   "cell_type": "markdown",
   "metadata": {},
   "source": [
    "### IAA on test set\n",
    "We will also calculate the IAA for the test set -- it's more important that this be relatively high, as we want consensus, it should be less of an outright opinion task and more self-evident."
   ]
  },
  {
   "cell_type": "code",
   "execution_count": 105,
   "metadata": {},
   "outputs": [
    {
     "name": "stdout",
     "output_type": "stream",
     "text": [
      "Agreement on the test set was 0.30 between annotators 1 and 2\n"
     ]
    }
   ],
   "source": [
    "test_set_iaa_1_2 = cohens_kappa(test_ann1, test_ann2)\n",
    "print(f'Agreement on the test set was {test_set_iaa_1_2:.2f} between annotators 1 and 2')"
   ]
  },
  {
   "cell_type": "code",
   "execution_count": 108,
   "metadata": {},
   "outputs": [
    {
     "name": "stdout",
     "output_type": "stream",
     "text": [
      "Agreement on the test set was 0.17 between annotators 1 and 3\n"
     ]
    }
   ],
   "source": [
    "test_set_iaa_1_3 = cohens_kappa(test_ann1, test_ann3)\n",
    "print(f'Agreement on the test set was {test_set_iaa_1_3:.2f} between annotators 1 and 3')"
   ]
  },
  {
   "cell_type": "code",
   "execution_count": 109,
   "metadata": {},
   "outputs": [
    {
     "name": "stdout",
     "output_type": "stream",
     "text": [
      "Agreement on the test set was 0.13 between annotators 2 and 3\n"
     ]
    }
   ],
   "source": [
    "test_set_iaa_2_3 = cohens_kappa(test_ann2, test_ann3)\n",
    "print(f'Agreement on the test set was {test_set_iaa_2_3:.2f} between annotators 2 and 3')"
   ]
  },
  {
   "cell_type": "markdown",
   "metadata": {},
   "source": [
    "Apparently it's not self-evident! I'd like to see if there's a difference in how \"exclusive\" each annotator is:"
   ]
  },
  {
   "cell_type": "code",
   "execution_count": 119,
   "metadata": {},
   "outputs": [],
   "source": [
    "exclusivity = {\n",
    "    'Annotator 1': test_ann1.value_counts()['N']/len(test_ann1),\n",
    "    'Annotator 2': test_ann2.value_counts()['N']/len(test_ann2),\n",
    "    'Annotator 3': test_ann3.value_counts()['N']/len(test_ann3)\n",
    "}"
   ]
  },
  {
   "cell_type": "code",
   "execution_count": 121,
   "metadata": {},
   "outputs": [
    {
     "data": {
      "text/plain": [
       "Text(0.5, 1.0, 'Annotator exclusivity')"
      ]
     },
     "execution_count": 121,
     "metadata": {},
     "output_type": "execute_result"
    },
    {
     "data": {
      "image/png": "[encoded data removed]",
      "text/plain": [
       "<Figure size 640x480 with 1 Axes>"
      ]
     },
     "metadata": {},
     "output_type": "display_data"
    }
   ],
   "source": [
    "plt.bar(*zip(*exclusivity.items()))\n",
    "plt.ylabel('Proportion of annotations that were negative')\n",
    "plt.title('Annotator exclusivity')"
   ]
  },
  {
   "cell_type": "markdown",
   "metadata": {},
   "source": [
    "There certainly is a marked difference! I was annotator 1, and I was the most stringent with exclusing things, versus annotator 3, who was more relaxed. Upon discussion with annotator 3, the major difference is that they included the biomedical literature on cryopreservation, only excluding paper specifically on spermatogenesis.\n",
    "\n",
    "There is a huge amount of bias that can enter the hypothesis generation process at this stage, based on which of these philosophies we choose to move ahead with. The information contained in the papers that are excluded is lost to the downstream process of hypothesis generation, so the more exclusive (which can also be considered opinionated) the annotator is at this stage, the more their personal academic bias shows in the final dataset. Therefore, rather than unifying these annotations, I'm going to move ahead with the least exclusive of the three versions, as I think it best reflects the philosophy of trying to include as much information as possible to build better hypotheses later on."
   ]
  },
  {
   "cell_type": "code",
   "execution_count": 122,
   "metadata": {},
   "outputs": [],
   "source": [
    "test_set = test_ann3"
   ]
  },
  {
   "cell_type": "markdown",
   "metadata": {},
   "source": [
    "Change Y and N to 1 and 0, respectively:"
   ]
  },
  {
   "cell_type": "code",
   "execution_count": 123,
   "metadata": {},
   "outputs": [],
   "source": [
    "test_set = test_set.replace({'Y': 1, 'N': 0})"
   ]
  },
  {
   "cell_type": "markdown",
   "metadata": {},
   "source": [
    "## Designing filtering methods\n",
    "There are multiple of both static and dynamic keywords for most papers. Therefore, there are a few ways that we can choose to filter papers based on the classified keywords. We'll implement the following:\n",
    "\n",
    "1. Most stringent: To keep a paper, all keywords must have Y relevance\n",
    "2. Middle road: To keep a paper, the majority of keywords have Y relevance\n",
    "3. Least stringent: To keep a paper, only one keyword needs a Y relevance"
   ]
  },
  {
   "cell_type": "code",
   "execution_count": 124,
   "metadata": {},
   "outputs": [],
   "source": [
    "def filter_papers(papers, key_df, kind, stringency='most'):\n",
    "    \"\"\"\n",
    "    Filter papers by keyword.\n",
    "    \n",
    "    parameters:\n",
    "        papers, list of dict: papers to filter\n",
    "        key_df, pandas df: index are keywords, column is 'relevant' containing Y or N strings\n",
    "        kind, str: either 'static_keywords' or 'dynamic_keys' ## TODO change to static_keys for udpated dataset\n",
    "        stringency, str: 'most', 'middle', or 'least', default is 'most'\n",
    "    \n",
    "    returns:\n",
    "        filtered_papers, list of dict: list of papers with irrelevant papers removed\n",
    "    \"\"\"\n",
    "    filtered_papers = []\n",
    "    for paper in papers:\n",
    "        # Get the relevances of all keywords\n",
    "        keys = paper[kind]\n",
    "        key_rels = key_df.loc[keys, :]\n",
    "        # Filter based on requested stringency\n",
    "        if stringency == 'most':\n",
    "            if (len(key_rels['relevant'].unique()) == 1) and (key_rels['relevant'].unique()[0] == 'Y'):\n",
    "                filtered_papers.append(paper)\n",
    "        elif stringency == 'middle':\n",
    "            nums = Counter(key_rels['relevant'].values.tolist())\n",
    "            if nums['Y'] > nums['N']:\n",
    "                filtered_papers.append(paper)\n",
    "        elif stringency == 'least':\n",
    "            if 'Y' in key_rels.relevant.values.tolist():\n",
    "                filtered_papers.append(paper)\n",
    "    \n",
    "    return filtered_papers        "
   ]
  },
  {
   "cell_type": "markdown",
   "metadata": {},
   "source": [
    "## Testing filtering methods\n",
    "Now, let's see how each of these filtering methods impacts the dataset. We'll evaluate performance on the test set, and then look at how the filtering methods changes the numbers of the overall dataset."
   ]
  },
  {
   "cell_type": "code",
   "execution_count": 125,
   "metadata": {},
   "outputs": [],
   "source": [
    "def subset_papers(papers, test_set):\n",
    "    \"\"\"\n",
    "    Pull out only the papers in the test set.\n",
    "    \"\"\"\n",
    "    return [p for p in papers if p['UID'] in test_set.index.values.tolist()]"
   ]
  },
  {
   "cell_type": "code",
   "execution_count": 126,
   "metadata": {},
   "outputs": [],
   "source": [
    "def get_f1(papers, filtered_papers, test_set):\n",
    "    \"\"\"\n",
    "    Calculate F1 score for paper filtering method.\n",
    "    \n",
    "    Assumes that the same UIDs are present in papers and test_set.\n",
    "    \"\"\"\n",
    "    yes = [p['UID'] for p in filtered_papers]\n",
    "    preds = {p['UID']: (0 if p['UID'] not in yes else 1) for p in papers}\n",
    "    pred_df = pd.DataFrame.from_dict(preds, orient='index', columns=['relevant'])\n",
    "    \n",
    "    together = test_set.merge(pred_df, left_index=True, right_index=True, suffixes=('_test', '_pred'))\n",
    "    \n",
    "    return f1_score(together.relevant_test, together.relevant_pred)"
   ]
  },
  {
   "cell_type": "code",
   "execution_count": 127,
   "metadata": {},
   "outputs": [],
   "source": [
    "def generate_confusion_matrix(papers, filtered_papers, test_set):\n",
    "    \"\"\"\n",
    "    Generate confusion matrix for paper relevance classification.\n",
    "    \"\"\"\n",
    "    yes = [p['UID'] for p in filtered_papers]\n",
    "    preds = {p['UID']: (0 if p['UID'] not in yes else 1) for p in papers}\n",
    "    pred_df = pd.DataFrame.from_dict(preds, orient='index', columns=['relevant'])\n",
    "    \n",
    "    together = test_set.merge(pred_df, left_index=True, right_index=True, suffixes=('_test', '_pred'))\n",
    "    \n",
    "    return confusion_matrix(together.relevant_test, together.relevant_pred)"
   ]
  },
  {
   "cell_type": "code",
   "execution_count": 128,
   "metadata": {},
   "outputs": [],
   "source": [
    "papers_for_eval = subset_papers(data, test_set)"
   ]
  },
  {
   "cell_type": "markdown",
   "metadata": {},
   "source": [
    "### Dynamic keywords"
   ]
  },
  {
   "cell_type": "code",
   "execution_count": 129,
   "metadata": {},
   "outputs": [
    {
     "name": "stdout",
     "output_type": "stream",
     "text": [
      "The F1 score for most stringency with annotator 1's dynamic key labels is 0.67\n",
      "The F1 score for most stringency with annotator 2's dynamic key labels is 0.00\n",
      "The F1 score for middle stringency with annotator 1's dynamic key labels is 0.89\n",
      "The F1 score for middle stringency with annotator 2's dynamic key labels is 0.03\n",
      "The F1 score for least stringency with annotator 1's dynamic key labels is 0.93\n",
      "The F1 score for least stringency with annotator 2's dynamic key labels is 0.66\n"
     ]
    }
   ],
   "source": [
    "for string in ['most', 'middle', 'least']:\n",
    "    for annr, anns in {'annotator 1': dynamos_ann1, 'annotator 2': dynamos_ann2}.items():\n",
    "        filtered_papers = filter_papers(papers_for_eval, anns, 'dynamic_keys', stringency=string)\n",
    "        f1 = get_f1(papers_for_eval, filtered_papers, test_set)\n",
    "        print(f'The F1 score for {string} stringency with {annr}\\'s dynamic key labels is {f1:.2f}')"
   ]
  },
  {
   "cell_type": "code",
   "execution_count": 130,
   "metadata": {},
   "outputs": [
    {
     "name": "stdout",
     "output_type": "stream",
     "text": [
      "4044 of 6903 were kept upon filtering.\n"
     ]
    }
   ],
   "source": [
    "most_dynamo = filter_papers(data, dynamos_ann1, 'dynamic_keys')\n",
    "print(f'{len(most_dynamo)} of {len(data)} were kept upon filtering.')"
   ]
  },
  {
   "cell_type": "code",
   "execution_count": 131,
   "metadata": {},
   "outputs": [
    {
     "name": "stdout",
     "output_type": "stream",
     "text": [
      "5796 of 6903 were kept upon filtering.\n"
     ]
    }
   ],
   "source": [
    "middle_dynamo = filter_papers(data, dynamos_ann1, 'dynamic_keys', stringency='middle')\n",
    "print(f'{len(middle_dynamo)} of {len(data)} were kept upon filtering.')"
   ]
  },
  {
   "cell_type": "code",
   "execution_count": 132,
   "metadata": {},
   "outputs": [
    {
     "name": "stdout",
     "output_type": "stream",
     "text": [
      "6380 of 6903 were kept upon filtering.\n"
     ]
    }
   ],
   "source": [
    "least_dynamo = filter_papers(data, dynamos_ann1, 'dynamic_keys', stringency='least')\n",
    "print(f'{len(least_dynamo)} of {len(data)} were kept upon filtering.')"
   ]
  },
  {
   "cell_type": "markdown",
   "metadata": {},
   "source": [
    "### Static keywords"
   ]
  },
  {
   "cell_type": "code",
   "execution_count": 133,
   "metadata": {},
   "outputs": [
    {
     "name": "stdout",
     "output_type": "stream",
     "text": [
      "The F1 score for most stringency with annotator 1's static key labels is 0.73\n",
      "The F1 score for most stringency with annotator 2's static key labels is 0.13\n",
      "The F1 score for middle stringency with annotator 1's static key labels is 0.81\n",
      "The F1 score for middle stringency with annotator 2's static key labels is 0.24\n",
      "The F1 score for least stringency with annotator 1's static key labels is 0.90\n",
      "The F1 score for least stringency with annotator 2's static key labels is 0.52\n"
     ]
    }
   ],
   "source": [
    "for string in ['most', 'middle', 'least']:\n",
    "    for annr, anns in {'annotator 1': statics_ann1, 'annotator 2': statics_ann2}.items():\n",
    "        filtered_papers = filter_papers(papers_for_eval, anns, 'static_keys', stringency=string)\n",
    "        f1 = get_f1(papers_for_eval, filtered_papers, test_set)\n",
    "        print(f'The F1 score for {string} stringency with {annr}\\'s static key labels is {f1:.2f}')"
   ]
  },
  {
   "cell_type": "code",
   "execution_count": 134,
   "metadata": {},
   "outputs": [
    {
     "name": "stdout",
     "output_type": "stream",
     "text": [
      "3978 of 6903 were kept upon filtering.\n"
     ]
    }
   ],
   "source": [
    "most_static = filter_papers(data, statics_ann1, 'static_keys')\n",
    "print(f'{len(most_static)} of {len(data)} were kept upon filtering.')"
   ]
  },
  {
   "cell_type": "code",
   "execution_count": 135,
   "metadata": {},
   "outputs": [
    {
     "name": "stdout",
     "output_type": "stream",
     "text": [
      "4692 of 6903 were kept upon filtering.\n"
     ]
    }
   ],
   "source": [
    "middle_static = filter_papers(data, statics_ann1, 'static_keys', stringency='middle')\n",
    "print(f'{len(middle_static)} of {len(data)} were kept upon filtering.')"
   ]
  },
  {
   "cell_type": "code",
   "execution_count": 136,
   "metadata": {
    "scrolled": true
   },
   "outputs": [
    {
     "name": "stdout",
     "output_type": "stream",
     "text": [
      "5963 of 6903 were kept upon filtering.\n"
     ]
    }
   ],
   "source": [
    "least_static = filter_papers(data, statics_ann1, 'static_keys', stringency='least')\n",
    "print(f'{len(least_static)} of {len(data)} were kept upon filtering.')"
   ]
  },
  {
   "cell_type": "markdown",
   "metadata": {},
   "source": [
    "#### Outcomes\n",
    "Ian's labels are too strict, and result in poor performance compared to mine; they also show more variation across the stringencies than mine do. The highest absolute F1 is 0.93 with dynamic keys and least stringency, but that is not necessarily meaningfully different from the 0.90 on least stringent static. It's clear from the difference in the number of papers included in the final overall dataset for each method that one or the other favors false negatives versus false positives; I'd rather have more false negatives than false positives, so I'll make some confusion matrices here to help decide."
   ]
  },
  {
   "cell_type": "code",
   "execution_count": 137,
   "metadata": {},
   "outputs": [
    {
     "data": {
      "text/plain": [
       "<sklearn.metrics._plot.confusion_matrix.ConfusionMatrixDisplay at 0x2b5961e930a0>"
      ]
     },
     "execution_count": 137,
     "metadata": {},
     "output_type": "execute_result"
    },
    {
     "data": {
      "image/png": "[encoded data removed]",
      "text/plain": [
       "<Figure size 640x480 with 2 Axes>"
      ]
     },
     "metadata": {},
     "output_type": "display_data"
    }
   ],
   "source": [
    "filtered_papers = filter_papers(papers_for_eval, dynamos_ann1, 'dynamic_keys', stringency='least')\n",
    "cm = generate_confusion_matrix(papers_for_eval, filtered_papers, test_set)\n",
    "ConfusionMatrixDisplay(confusion_matrix=cm).plot()"
   ]
  },
  {
   "cell_type": "code",
   "execution_count": 138,
   "metadata": {},
   "outputs": [
    {
     "data": {
      "text/plain": [
       "<sklearn.metrics._plot.confusion_matrix.ConfusionMatrixDisplay at 0x2b5961e27fa0>"
      ]
     },
     "execution_count": 138,
     "metadata": {},
     "output_type": "execute_result"
    },
    {
     "data": {
      "image/png": "[encoded data removed]",
      "text/plain": [
       "<Figure size 640x480 with 2 Axes>"
      ]
     },
     "metadata": {},
     "output_type": "display_data"
    }
   ],
   "source": [
    "filtered_papers = filter_papers(papers_for_eval, statics_ann1, 'static_keys', stringency='least')\n",
    "cm = generate_confusion_matrix(papers_for_eval, filtered_papers, test_set)\n",
    "ConfusionMatrixDisplay(confusion_matrix=cm).plot()"
   ]
  },
  {
   "cell_type": "markdown",
   "metadata": {},
   "source": [
    "These don't look different, which to me implies that my test set may not be representative of the overall dataset in terms of what keywords are present; it might have been prudent to select test documents stratifying on keywords rather than randomly. However, for the moment, we'll move ahead with this test set, and I'm going to select the static keyword filtering method, as it's smaller and I would imagine therefore that it's biased towards false negatives as I would prefer, rather than the opposite."
   ]
  },
  {
   "cell_type": "code",
   "execution_count": 99,
   "metadata": {},
   "outputs": [
    {
     "data": {
      "text/plain": [
       "5963"
      ]
     },
     "execution_count": 99,
     "metadata": {},
     "output_type": "execute_result"
    }
   ],
   "source": [
    "len(least_static)"
   ]
  },
  {
   "cell_type": "code",
   "execution_count": 98,
   "metadata": {},
   "outputs": [],
   "source": [
    "with jsonlines.open('../data/wos_files/core_collection_destol_or_anhydro_FILTERED_05Jan2023.jsonl', 'w') as writer:\n",
    "    writer.write_all(least_static)"
   ]
  }
 ],
 "metadata": {
  "kernelspec": {
   "display_name": "graphs",
   "language": "python",
   "name": "graphs"
  },
  "language_info": {
   "codemirror_mode": {
    "name": "ipython",
    "version": 3
   },
   "file_extension": ".py",
   "mimetype": "text/x-python",
   "name": "python",
   "nbconvert_exporter": "python",
   "pygments_lexer": "ipython3",
   "version": "3.10.13"
  }
 },
 "nbformat": 4,
 "nbformat_minor": 2
}
