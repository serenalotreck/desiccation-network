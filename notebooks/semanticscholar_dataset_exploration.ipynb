{
 "cells": [
  {
   "cell_type": "markdown",
   "metadata": {},
   "source": [
    "# Semantic Scholar Dataset Exploration\n",
    "The Semantic Scholar search engine has a dataset of academic papers, called [S2AG](https://api.semanticscholar.org/api-docs/datasets). Here, well play with the dataset to get a sense of what it contains."
   ]
  },
  {
   "cell_type": "code",
   "execution_count": 1,
   "metadata": {},
   "outputs": [],
   "source": [
    "import requests"
   ]
  },
  {
   "cell_type": "markdown",
   "metadata": {},
   "source": []
  },
  {
   "cell_type": "code",
   "execution_count": 3,
   "metadata": {},
   "outputs": [],
   "source": [
    "dset = requests.get('https://api.semanticscholar.org/datasets/v1/release/latest').json()"
   ]
  },
  {
   "cell_type": "code",
   "execution_count": 4,
   "metadata": {},
   "outputs": [
    {
     "data": {
      "text/plain": [
       "dict_keys(['release_id', 'README', 'datasets'])"
      ]
     },
     "execution_count": 4,
     "metadata": {},
     "output_type": "execute_result"
    }
   ],
   "source": [
    "dset.keys()"
   ]
  },
  {
   "cell_type": "code",
   "execution_count": 7,
   "metadata": {},
   "outputs": [
    {
     "data": {
      "text/plain": [
       "9"
      ]
     },
     "execution_count": 7,
     "metadata": {},
     "output_type": "execute_result"
    }
   ],
   "source": [
    "len(dset['datasets'])"
   ]
  },
  {
   "cell_type": "code",
   "execution_count": 9,
   "metadata": {},
   "outputs": [
    {
     "data": {
      "text/plain": [
       "['abstracts',\n",
       " 'authors',\n",
       " 'citations',\n",
       " 'embeddings',\n",
       " 'paper-ids',\n",
       " 'papers',\n",
       " 'publication-venues',\n",
       " 's2orc',\n",
       " 'tldrs']"
      ]
     },
     "execution_count": 9,
     "metadata": {},
     "output_type": "execute_result"
    }
   ],
   "source": [
    "[d['name'] for d in dset['datasets']]"
   ]
  },
  {
   "cell_type": "code",
   "execution_count": 10,
   "metadata": {},
   "outputs": [],
   "source": [
    "cites = dset['datasets'][2]"
   ]
  },
  {
   "cell_type": "code",
   "execution_count": 12,
   "metadata": {},
   "outputs": [
    {
     "data": {
      "text/plain": [
       "dict_keys(['name', 'description', 'README'])"
      ]
     },
     "execution_count": 12,
     "metadata": {},
     "output_type": "execute_result"
    }
   ],
   "source": [
    "cites.keys()"
   ]
  },
  {
   "cell_type": "code",
   "execution_count": 14,
   "metadata": {},
   "outputs": [
    {
     "name": "stdout",
     "output_type": "stream",
     "text": [
      "Semantic Scholar Academic Graph Datasets\n",
      "\n",
      "The \"citations\" dataset provides details about one paper's citation of another paper.\n",
      "\n",
      "SCHEMA\n",
      " - isinfluential: true/false if the citation is considered influential. https://www.semanticscholar.org/faq#influential-citations\n",
      " - contexts: Text surrounding the citation in the source paper's body.\n",
      " - intents: Classification of the intent behind the citations. https://www.semanticscholar.org/faq#citation-intent\n",
      "\n",
      "LICENSE\n",
      "This collection is licensed under ODC-BY. (https://opendatacommons.org/licenses/by/1.0/)\n",
      "\n",
      "By downloading this data you acknowledge that you have read and agreed to all the terms in this license.\n",
      "\n",
      "ATTRIBUTION\n",
      "When using this data in a product or service, or including data in a redistribution, please cite the following paper:\n",
      "\n",
      "BibTex format:\n",
      "@misc{https://doi.org/10.48550/arxiv.2301.10140,\n",
      "  title = {The Semantic Scholar Open Data Platform},\n",
      "  author = {Kinney, Rodney and Anastasiades, Chloe and Authur, Russell and Beltagy, Iz and Bragg, Jonathan and Buraczynski, Alexandra and Cachola, Isabel and Candra, Stefan and Chandrasekhar, Yoganand and Cohan, Arman and Crawford, Miles and Downey, Doug and Dunkelberger, Jason and Etzioni, Oren and Evans, Rob and Feldman, Sergey and Gorney, Joseph and Graham, David and Hu, Fangzhou and Huff, Regan and King, Daniel and Kohlmeier, Sebastian and Kuehl, Bailey and Langan, Michael and Lin, Daniel and Liu, Haokun and Lo, Kyle and Lochner, Jaron and MacMillan, Kelsey and Murray, Tyler and Newell, Chris and Rao, Smita and Rohatgi, Shaurya and Sayre, Paul and Shen, Zejiang and Singh, Amanpreet and Soldaini, Luca and Subramanian, Shivashankar and Tanaka, Amber and Wade, Alex D. and Wagner, Linda and Wang, Lucy Lu and Wilhelm, Chris and Wu, Caroline and Yang, Jiangjiang and Zamarron, Angele and Van Zuylen, Madeleine and Weld, Daniel S.},\n",
      "  publisher = {arXiv},\n",
      "  year = {2023},\n",
      "  doi = {10.48550/ARXIV.2301.10140},\n",
      "  url = {https://arxiv.org/abs/2301.10140},\n",
      "}\n",
      "\n",
      "@inproceedings{cohan-etal-2019-structural,\n",
      "    title = \"Structural Scaffolds for Citation Intent Classification in Scientific Publications\",\n",
      "    author = \"Cohan, Arman  and\n",
      "      Ammar, Waleed  and\n",
      "      van Zuylen, Madeleine  and\n",
      "      Cady, Field\",\n",
      "    booktitle = \"NAACL\",\n",
      "    year = \"2019\",\n",
      "    url = \"https://aclanthology.org/N19-1361\",\n",
      "    doi = \"10.18653/v1/N19-1361\"\n",
      "}\n"
     ]
    }
   ],
   "source": [
    "print(cites['README'])"
   ]
  },
  {
   "cell_type": "code",
   "execution_count": null,
   "metadata": {},
   "outputs": [],
   "source": []
  }
 ],
 "metadata": {
  "kernelspec": {
   "display_name": "graphs",
   "language": "python",
   "name": "graphs"
  },
  "language_info": {
   "codemirror_mode": {
    "name": "ipython",
    "version": 3
   },
   "file_extension": ".py",
   "mimetype": "text/x-python",
   "name": "python",
   "nbconvert_exporter": "python",
   "pygments_lexer": "ipython3",
   "version": "3.10.12"
  }
 },
 "nbformat": 4,
 "nbformat_minor": 2
}
