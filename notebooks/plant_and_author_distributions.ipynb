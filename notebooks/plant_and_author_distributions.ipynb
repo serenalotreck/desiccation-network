{
 "cells": [
  {
   "cell_type": "markdown",
   "metadata": {},
   "source": [
    "# Plant and author distributions\n",
    "Code to generate figure demonstrating the relationship between desiccation plant distribution and author locations."
   ]
  },
  {
   "cell_type": "code",
   "execution_count": 1,
   "metadata": {},
   "outputs": [],
   "source": [
    "import pandas as pd"
   ]
  },
  {
   "cell_type": "markdown",
   "metadata": {},
   "source": [
    "## Read in data"
   ]
  },
  {
   "cell_type": "code",
   "execution_count": 2,
   "metadata": {},
   "outputs": [],
   "source": [
    "attendees_2016 = pd.read_csv('../data/conference_data/attendees_2016.csv')\n",
    "attendees_2024 = pd.read_csv('../data/conference_data/attendees_2024.csv')"
   ]
  },
  {
   "cell_type": "code",
   "execution_count": 14,
   "metadata": {},
   "outputs": [
    {
     "data": {
      "text/html": [
       "<div>\n",
       "<style scoped>\n",
       "    .dataframe tbody tr th:only-of-type {\n",
       "        vertical-align: middle;\n",
       "    }\n",
       "\n",
       "    .dataframe tbody tr th {\n",
       "        vertical-align: top;\n",
       "    }\n",
       "\n",
       "    .dataframe thead th {\n",
       "        text-align: right;\n",
       "    }\n",
       "</style>\n",
       "<table border=\"1\" class=\"dataframe\">\n",
       "  <thead>\n",
       "    <tr style=\"text-align: right;\">\n",
       "      <th></th>\n",
       "      <th>sp_id</th>\n",
       "      <th>institutionCode</th>\n",
       "      <th>catalogNumber</th>\n",
       "      <th>countryCode</th>\n",
       "      <th>decimalLongitude</th>\n",
       "      <th>decimalLatitude</th>\n",
       "      <th>source</th>\n",
       "    </tr>\n",
       "  </thead>\n",
       "  <tbody>\n",
       "    <tr>\n",
       "      <th>0</th>\n",
       "      <td>aaa023</td>\n",
       "      <td>PERTH</td>\n",
       "      <td>PERTH 3249093</td>\n",
       "      <td>AUS</td>\n",
       "      <td>116.083333</td>\n",
       "      <td>-34.766667</td>\n",
       "      <td>https://www.gbif.org/</td>\n",
       "    </tr>\n",
       "    <tr>\n",
       "      <th>1</th>\n",
       "      <td>aaa023</td>\n",
       "      <td>PERTH</td>\n",
       "      <td>PERTH 5453119</td>\n",
       "      <td>AUS</td>\n",
       "      <td>117.270833</td>\n",
       "      <td>-34.851389</td>\n",
       "      <td>https://www.gbif.org/</td>\n",
       "    </tr>\n",
       "    <tr>\n",
       "      <th>2</th>\n",
       "      <td>aaa023</td>\n",
       "      <td>PERTH</td>\n",
       "      <td>PERTH 6905811</td>\n",
       "      <td>AUS</td>\n",
       "      <td>117.016667</td>\n",
       "      <td>-34.516667</td>\n",
       "      <td>https://www.gbif.org/</td>\n",
       "    </tr>\n",
       "    <tr>\n",
       "      <th>3</th>\n",
       "      <td>aaa023</td>\n",
       "      <td>PERTH</td>\n",
       "      <td>PERTH 5900085</td>\n",
       "      <td>AUS</td>\n",
       "      <td>115.083333</td>\n",
       "      <td>-33.750000</td>\n",
       "      <td>https://www.gbif.org/</td>\n",
       "    </tr>\n",
       "    <tr>\n",
       "      <th>4</th>\n",
       "      <td>aaa023</td>\n",
       "      <td>PERTH</td>\n",
       "      <td>PERTH 3248895</td>\n",
       "      <td>AUS</td>\n",
       "      <td>115.938056</td>\n",
       "      <td>-34.508056</td>\n",
       "      <td>https://www.gbif.org/</td>\n",
       "    </tr>\n",
       "  </tbody>\n",
       "</table>\n",
       "</div>"
      ],
      "text/plain": [
       "    sp_id institutionCode  catalogNumber countryCode  decimalLongitude  \\\n",
       "0  aaa023           PERTH  PERTH 3249093         AUS        116.083333   \n",
       "1  aaa023           PERTH  PERTH 5453119         AUS        117.270833   \n",
       "2  aaa023           PERTH  PERTH 6905811         AUS        117.016667   \n",
       "3  aaa023           PERTH  PERTH 5900085         AUS        115.083333   \n",
       "4  aaa023           PERTH  PERTH 3248895         AUS        115.938056   \n",
       "\n",
       "   decimalLatitude                 source  \n",
       "0       -34.766667  https://www.gbif.org/  \n",
       "1       -34.851389  https://www.gbif.org/  \n",
       "2       -34.516667  https://www.gbif.org/  \n",
       "3       -33.750000  https://www.gbif.org/  \n",
       "4       -34.508056  https://www.gbif.org/  "
      ]
     },
     "execution_count": 14,
     "metadata": {},
     "output_type": "execute_result"
    }
   ],
   "source": [
    "spec_occ = pd.read_csv('../data/conference_data/species_occ.csv', encoding_errors='replace')\n",
    "spec_occ.head()"
   ]
  },
  {
   "cell_type": "code",
   "execution_count": 16,
   "metadata": {},
   "outputs": [
    {
     "data": {
      "text/html": [
       "<div>\n",
       "<style scoped>\n",
       "    .dataframe tbody tr th:only-of-type {\n",
       "        vertical-align: middle;\n",
       "    }\n",
       "\n",
       "    .dataframe tbody tr th {\n",
       "        vertical-align: top;\n",
       "    }\n",
       "\n",
       "    .dataframe thead th {\n",
       "        text-align: right;\n",
       "    }\n",
       "</style>\n",
       "<table border=\"1\" class=\"dataframe\">\n",
       "  <thead>\n",
       "    <tr style=\"text-align: right;\">\n",
       "      <th></th>\n",
       "      <th>sp_id</th>\n",
       "      <th>Family</th>\n",
       "      <th>Species</th>\n",
       "      <th>Taxonomic authority</th>\n",
       "      <th>Taxonomic observations</th>\n",
       "      <th>Cited as DT by</th>\n",
       "    </tr>\n",
       "  </thead>\n",
       "  <tbody>\n",
       "    <tr>\n",
       "      <th>0</th>\n",
       "      <td>aaf003</td>\n",
       "      <td>Anemiaceae</td>\n",
       "      <td>Anemia ferruginea</td>\n",
       "      <td>Kunth</td>\n",
       "      <td>NaN</td>\n",
       "      <td>Ibisch et al. (1995)</td>\n",
       "    </tr>\n",
       "    <tr>\n",
       "      <th>1</th>\n",
       "      <td>aaf019</td>\n",
       "      <td>Anemiaceae</td>\n",
       "      <td>Anemia flexuosa</td>\n",
       "      <td>(Savigny) Sw.</td>\n",
       "      <td>NaN</td>\n",
       "      <td>Meirelles et al. (1997)</td>\n",
       "    </tr>\n",
       "    <tr>\n",
       "      <th>2</th>\n",
       "      <td>aax231</td>\n",
       "      <td>Anemiaceae</td>\n",
       "      <td>Anemia mexicana</td>\n",
       "      <td>Klotzsch</td>\n",
       "      <td>NaN</td>\n",
       "      <td>Kessler &amp; Siorak (2007), Mkhize (2018)</td>\n",
       "    </tr>\n",
       "    <tr>\n",
       "      <th>3</th>\n",
       "      <td>aar329</td>\n",
       "      <td>Anemiaceae</td>\n",
       "      <td>Anemia rotundifolia</td>\n",
       "      <td>Schrad.</td>\n",
       "      <td>NaN</td>\n",
       "      <td>Kessler &amp; Siorak (2007), Derzhavina (2017), Mk...</td>\n",
       "    </tr>\n",
       "    <tr>\n",
       "      <th>4</th>\n",
       "      <td>aat020</td>\n",
       "      <td>Anemiaceae</td>\n",
       "      <td>Anemia tomentosa</td>\n",
       "      <td>(Savigny) Sw.</td>\n",
       "      <td>NaN</td>\n",
       "      <td>Gaff (1987), Kessler &amp; Siorak (2007), Hietz (2...</td>\n",
       "    </tr>\n",
       "  </tbody>\n",
       "</table>\n",
       "</div>"
      ],
      "text/plain": [
       "    sp_id      Family              Species Taxonomic authority  \\\n",
       "0  aaf003  Anemiaceae    Anemia ferruginea               Kunth   \n",
       "1  aaf019  Anemiaceae      Anemia flexuosa       (Savigny) Sw.   \n",
       "2  aax231  Anemiaceae      Anemia mexicana            Klotzsch   \n",
       "3  aar329  Anemiaceae  Anemia rotundifolia             Schrad.   \n",
       "4  aat020  Anemiaceae     Anemia tomentosa       (Savigny) Sw.   \n",
       "\n",
       "  Taxonomic observations                                     Cited as DT by  \n",
       "0                    NaN                               Ibisch et al. (1995)  \n",
       "1                    NaN                            Meirelles et al. (1997)  \n",
       "2                    NaN             Kessler & Siorak (2007), Mkhize (2018)  \n",
       "3                    NaN  Kessler & Siorak (2007), Derzhavina (2017), Mk...  \n",
       "4                    NaN  Gaff (1987), Kessler & Siorak (2007), Hietz (2...  "
      ]
     },
     "execution_count": 16,
     "metadata": {},
     "output_type": "execute_result"
    }
   ],
   "source": [
    "spec_names = pd.read_csv('../data/conference_data/species_list.csv', encoding_errors='replace')\n",
    "spec_names.head()"
   ]
  },
  {
   "cell_type": "code",
   "execution_count": null,
   "metadata": {},
   "outputs": [],
   "source": []
  }
 ],
 "metadata": {
  "kernelspec": {
   "display_name": "graphs",
   "language": "python",
   "name": "graphs"
  },
  "language_info": {
   "codemirror_mode": {
    "name": "ipython",
    "version": 3
   },
   "file_extension": ".py",
   "mimetype": "text/x-python",
   "name": "python",
   "nbconvert_exporter": "python",
   "pygments_lexer": "ipython3",
   "version": "3.10.13"
  }
 },
 "nbformat": 4,
 "nbformat_minor": 2
}
