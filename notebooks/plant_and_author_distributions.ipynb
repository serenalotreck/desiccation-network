{
 "cells": [
  {
   "cell_type": "markdown",
   "metadata": {},
   "source": [
    "# Plant and author distributions\n",
    "Code to generate figure demonstrating the relationship between desiccation plant distribution and author locations."
   ]
  },
  {
   "cell_type": "code",
   "execution_count": 94,
   "metadata": {},
   "outputs": [],
   "source": [
    "import pandas as pd\n",
    "from shapely.geometry import Point\n",
    "import geopandas as gpd\n",
    "from geopandas import GeoDataFrame\n",
    "import matplotlib.pyplot as plt\n",
    "import seaborn as sns\n",
    "from geopy.geocoders import Nominatim\n",
    "from tqdm import tqdm\n",
    "from collections import defaultdict, Counter\n",
    "import plotly.express as px\n",
    "import pycountry\n",
    "import pycountry_convert as pc\n",
    "import numpy as np\n",
    "import jsonlines\n",
    "import sys\n",
    "sys.path.append('../desiccation_network/conference_recommendation/')\n",
    "import utils\n",
    "import taxoniq\n",
    "import networkx as nx\n",
    "import json\n",
    "from ast import literal_eval\n",
    "from countryinfo import CountryInfo\n",
    "from unidecode import unidecode\n",
    "import requests\n",
    "from functools import reduce\n",
    "from statsmodels.graphics.gofplots import qqplot\n",
    "from scipy.stats import mannwhitneyu, chi2, false_discovery_control\n",
    "from sklearn.preprocessing import StandardScaler"
   ]
  },
  {
   "cell_type": "markdown",
   "metadata": {},
   "source": [
    "## Read in data"
   ]
  },
  {
   "cell_type": "code",
   "execution_count": 95,
   "metadata": {},
   "outputs": [],
   "source": [
    "attendees = pd.read_csv('../data/conference_data/combined_attendees_2016_2024_with_Kingdom.csv')"
   ]
  },
  {
   "cell_type": "code",
   "execution_count": 96,
   "metadata": {},
   "outputs": [],
   "source": [
    "with jsonlines.open('../data/wos_files/core_collection_destol_or_anhydro_ALL_with_authors_and_addresses_14Feb2024.jsonl') as reader:\n",
    "    all_papers = [obj for obj in reader]"
   ]
  },
  {
   "cell_type": "code",
   "execution_count": 97,
   "metadata": {},
   "outputs": [],
   "source": [
    "classed_network = nx.read_graphml('../data/citation_network/FINAL_FINAL_DEBUGGED_MANUALLY_VERIFIED_core_collection_destol_or_anhydro_classified_network_29Mar2024.graphml')"
   ]
  },
  {
   "cell_type": "code",
   "execution_count": 98,
   "metadata": {
    "scrolled": true
   },
   "outputs": [
    {
     "data": {
      "text/html": [
       "<div>\n",
       "<style scoped>\n",
       "    .dataframe tbody tr th:only-of-type {\n",
       "        vertical-align: middle;\n",
       "    }\n",
       "\n",
       "    .dataframe tbody tr th {\n",
       "        vertical-align: top;\n",
       "    }\n",
       "\n",
       "    .dataframe thead th {\n",
       "        text-align: right;\n",
       "    }\n",
       "</style>\n",
       "<table border=\"1\" class=\"dataframe\">\n",
       "  <thead>\n",
       "    <tr style=\"text-align: right;\">\n",
       "      <th></th>\n",
       "      <th>sp_id</th>\n",
       "      <th>institutionCode</th>\n",
       "      <th>catalogNumber</th>\n",
       "      <th>countryCode</th>\n",
       "      <th>decimalLongitude</th>\n",
       "      <th>decimalLatitude</th>\n",
       "      <th>source</th>\n",
       "    </tr>\n",
       "  </thead>\n",
       "  <tbody>\n",
       "    <tr>\n",
       "      <th>0</th>\n",
       "      <td>aaa023</td>\n",
       "      <td>PERTH</td>\n",
       "      <td>PERTH 3249093</td>\n",
       "      <td>AUS</td>\n",
       "      <td>116.083333</td>\n",
       "      <td>-34.766667</td>\n",
       "      <td>https://www.gbif.org/</td>\n",
       "    </tr>\n",
       "    <tr>\n",
       "      <th>1</th>\n",
       "      <td>aaa023</td>\n",
       "      <td>PERTH</td>\n",
       "      <td>PERTH 5453119</td>\n",
       "      <td>AUS</td>\n",
       "      <td>117.270833</td>\n",
       "      <td>-34.851389</td>\n",
       "      <td>https://www.gbif.org/</td>\n",
       "    </tr>\n",
       "    <tr>\n",
       "      <th>2</th>\n",
       "      <td>aaa023</td>\n",
       "      <td>PERTH</td>\n",
       "      <td>PERTH 6905811</td>\n",
       "      <td>AUS</td>\n",
       "      <td>117.016667</td>\n",
       "      <td>-34.516667</td>\n",
       "      <td>https://www.gbif.org/</td>\n",
       "    </tr>\n",
       "    <tr>\n",
       "      <th>3</th>\n",
       "      <td>aaa023</td>\n",
       "      <td>PERTH</td>\n",
       "      <td>PERTH 5900085</td>\n",
       "      <td>AUS</td>\n",
       "      <td>115.083333</td>\n",
       "      <td>-33.750000</td>\n",
       "      <td>https://www.gbif.org/</td>\n",
       "    </tr>\n",
       "    <tr>\n",
       "      <th>4</th>\n",
       "      <td>aaa023</td>\n",
       "      <td>PERTH</td>\n",
       "      <td>PERTH 3248895</td>\n",
       "      <td>AUS</td>\n",
       "      <td>115.938056</td>\n",
       "      <td>-34.508056</td>\n",
       "      <td>https://www.gbif.org/</td>\n",
       "    </tr>\n",
       "  </tbody>\n",
       "</table>\n",
       "</div>"
      ],
      "text/plain": [
       "    sp_id institutionCode  catalogNumber countryCode  decimalLongitude  \\\n",
       "0  aaa023           PERTH  PERTH 3249093         AUS        116.083333   \n",
       "1  aaa023           PERTH  PERTH 5453119         AUS        117.270833   \n",
       "2  aaa023           PERTH  PERTH 6905811         AUS        117.016667   \n",
       "3  aaa023           PERTH  PERTH 5900085         AUS        115.083333   \n",
       "4  aaa023           PERTH  PERTH 3248895         AUS        115.938056   \n",
       "\n",
       "   decimalLatitude                 source  \n",
       "0       -34.766667  https://www.gbif.org/  \n",
       "1       -34.851389  https://www.gbif.org/  \n",
       "2       -34.516667  https://www.gbif.org/  \n",
       "3       -33.750000  https://www.gbif.org/  \n",
       "4       -34.508056  https://www.gbif.org/  "
      ]
     },
     "execution_count": 98,
     "metadata": {},
     "output_type": "execute_result"
    }
   ],
   "source": [
    "spec_occ = pd.read_csv('../data/conference_data/species_occ.csv', encoding_errors='replace')\n",
    "spec_occ.head()"
   ]
  },
  {
   "cell_type": "code",
   "execution_count": 99,
   "metadata": {},
   "outputs": [
    {
     "data": {
      "text/html": [
       "<div>\n",
       "<style scoped>\n",
       "    .dataframe tbody tr th:only-of-type {\n",
       "        vertical-align: middle;\n",
       "    }\n",
       "\n",
       "    .dataframe tbody tr th {\n",
       "        vertical-align: top;\n",
       "    }\n",
       "\n",
       "    .dataframe thead th {\n",
       "        text-align: right;\n",
       "    }\n",
       "</style>\n",
       "<table border=\"1\" class=\"dataframe\">\n",
       "  <thead>\n",
       "    <tr style=\"text-align: right;\">\n",
       "      <th></th>\n",
       "      <th>sp_id</th>\n",
       "      <th>Family</th>\n",
       "      <th>Species</th>\n",
       "      <th>Taxonomic authority</th>\n",
       "      <th>Taxonomic observations</th>\n",
       "      <th>Cited as DT by</th>\n",
       "    </tr>\n",
       "  </thead>\n",
       "  <tbody>\n",
       "    <tr>\n",
       "      <th>0</th>\n",
       "      <td>aaf003</td>\n",
       "      <td>Anemiaceae</td>\n",
       "      <td>Anemia ferruginea</td>\n",
       "      <td>Kunth</td>\n",
       "      <td>NaN</td>\n",
       "      <td>Ibisch et al. (1995)</td>\n",
       "    </tr>\n",
       "    <tr>\n",
       "      <th>1</th>\n",
       "      <td>aaf019</td>\n",
       "      <td>Anemiaceae</td>\n",
       "      <td>Anemia flexuosa</td>\n",
       "      <td>(Savigny) Sw.</td>\n",
       "      <td>NaN</td>\n",
       "      <td>Meirelles et al. (1997)</td>\n",
       "    </tr>\n",
       "    <tr>\n",
       "      <th>2</th>\n",
       "      <td>aax231</td>\n",
       "      <td>Anemiaceae</td>\n",
       "      <td>Anemia mexicana</td>\n",
       "      <td>Klotzsch</td>\n",
       "      <td>NaN</td>\n",
       "      <td>Kessler &amp; Siorak (2007), Mkhize (2018)</td>\n",
       "    </tr>\n",
       "    <tr>\n",
       "      <th>3</th>\n",
       "      <td>aar329</td>\n",
       "      <td>Anemiaceae</td>\n",
       "      <td>Anemia rotundifolia</td>\n",
       "      <td>Schrad.</td>\n",
       "      <td>NaN</td>\n",
       "      <td>Kessler &amp; Siorak (2007), Derzhavina (2017), Mk...</td>\n",
       "    </tr>\n",
       "    <tr>\n",
       "      <th>4</th>\n",
       "      <td>aat020</td>\n",
       "      <td>Anemiaceae</td>\n",
       "      <td>Anemia tomentosa</td>\n",
       "      <td>(Savigny) Sw.</td>\n",
       "      <td>NaN</td>\n",
       "      <td>Gaff (1987), Kessler &amp; Siorak (2007), Hietz (2...</td>\n",
       "    </tr>\n",
       "  </tbody>\n",
       "</table>\n",
       "</div>"
      ],
      "text/plain": [
       "    sp_id      Family              Species Taxonomic authority  \\\n",
       "0  aaf003  Anemiaceae    Anemia ferruginea               Kunth   \n",
       "1  aaf019  Anemiaceae      Anemia flexuosa       (Savigny) Sw.   \n",
       "2  aax231  Anemiaceae      Anemia mexicana            Klotzsch   \n",
       "3  aar329  Anemiaceae  Anemia rotundifolia             Schrad.   \n",
       "4  aat020  Anemiaceae     Anemia tomentosa       (Savigny) Sw.   \n",
       "\n",
       "  Taxonomic observations                                     Cited as DT by  \n",
       "0                    NaN                               Ibisch et al. (1995)  \n",
       "1                    NaN                            Meirelles et al. (1997)  \n",
       "2                    NaN             Kessler & Siorak (2007), Mkhize (2018)  \n",
       "3                    NaN  Kessler & Siorak (2007), Derzhavina (2017), Mk...  \n",
       "4                    NaN  Gaff (1987), Kessler & Siorak (2007), Hietz (2...  "
      ]
     },
     "execution_count": 99,
     "metadata": {},
     "output_type": "execute_result"
    }
   ],
   "source": [
    "spec_names = pd.read_csv('../data/conference_data/species_list.csv', encoding_errors='replace')\n",
    "spec_names.head()"
   ]
  },
  {
   "cell_type": "markdown",
   "metadata": {},
   "source": [
    "We want to filter our coordinates such that we only have angiosperms present in our dataset. To do this, we can use taxoniq again to get the classification of these species, and keep only those that are angiosperms (Magnoliopsida in NCBI Taxonomy)."
   ]
  },
  {
   "cell_type": "code",
   "execution_count": 100,
   "metadata": {},
   "outputs": [],
   "source": [
    "fams_to_keep = []\n",
    "for family in spec_names['Family'].unique():\n",
    "    t1 = taxoniq.Taxon(scientific_name=family)\n",
    "    lineage = [t.scientific_name for t in t1.ranked_lineage]\n",
    "    if 'Magnoliopsida' in lineage:\n",
    "        fams_to_keep.append(family)"
   ]
  },
  {
   "cell_type": "code",
   "execution_count": 101,
   "metadata": {},
   "outputs": [],
   "source": [
    "spec_ids_to_keep = spec_names[spec_names['Family'].isin(fams_to_keep)]['sp_id'].unique()"
   ]
  },
  {
   "cell_type": "code",
   "execution_count": 102,
   "metadata": {
    "scrolled": true
   },
   "outputs": [
    {
     "data": {
      "text/html": [
       "<div>\n",
       "<style scoped>\n",
       "    .dataframe tbody tr th:only-of-type {\n",
       "        vertical-align: middle;\n",
       "    }\n",
       "\n",
       "    .dataframe tbody tr th {\n",
       "        vertical-align: top;\n",
       "    }\n",
       "\n",
       "    .dataframe thead th {\n",
       "        text-align: right;\n",
       "    }\n",
       "</style>\n",
       "<table border=\"1\" class=\"dataframe\">\n",
       "  <thead>\n",
       "    <tr style=\"text-align: right;\">\n",
       "      <th></th>\n",
       "      <th>sp_id</th>\n",
       "      <th>institutionCode</th>\n",
       "      <th>catalogNumber</th>\n",
       "      <th>countryCode</th>\n",
       "      <th>decimalLongitude</th>\n",
       "      <th>decimalLatitude</th>\n",
       "      <th>source</th>\n",
       "    </tr>\n",
       "  </thead>\n",
       "  <tbody>\n",
       "    <tr>\n",
       "      <th>17075</th>\n",
       "      <td>bbc342</td>\n",
       "      <td>PERTH</td>\n",
       "      <td>PERTH 9296301</td>\n",
       "      <td>AUS</td>\n",
       "      <td>115.083333</td>\n",
       "      <td>-33.833333</td>\n",
       "      <td>https://www.gbif.org/</td>\n",
       "    </tr>\n",
       "    <tr>\n",
       "      <th>17076</th>\n",
       "      <td>bbc342</td>\n",
       "      <td>PERTH</td>\n",
       "      <td>PERTH 1964550</td>\n",
       "      <td>AUS</td>\n",
       "      <td>121.166667</td>\n",
       "      <td>-32.883333</td>\n",
       "      <td>https://www.gbif.org/</td>\n",
       "    </tr>\n",
       "    <tr>\n",
       "      <th>17077</th>\n",
       "      <td>bbc342</td>\n",
       "      <td>PERTH</td>\n",
       "      <td>PERTH 6190332</td>\n",
       "      <td>AUS</td>\n",
       "      <td>116.016667</td>\n",
       "      <td>-32.166667</td>\n",
       "      <td>https://www.gbif.org/</td>\n",
       "    </tr>\n",
       "    <tr>\n",
       "      <th>17078</th>\n",
       "      <td>bbc342</td>\n",
       "      <td>PERTH</td>\n",
       "      <td>PERTH 1954776</td>\n",
       "      <td>AUS</td>\n",
       "      <td>122.513056</td>\n",
       "      <td>-33.326389</td>\n",
       "      <td>https://www.gbif.org/</td>\n",
       "    </tr>\n",
       "    <tr>\n",
       "      <th>17079</th>\n",
       "      <td>bbc342</td>\n",
       "      <td>PERTH</td>\n",
       "      <td>PERTH 2465175</td>\n",
       "      <td>AUS</td>\n",
       "      <td>119.666667</td>\n",
       "      <td>-33.083333</td>\n",
       "      <td>https://www.gbif.org/</td>\n",
       "    </tr>\n",
       "  </tbody>\n",
       "</table>\n",
       "</div>"
      ],
      "text/plain": [
       "        sp_id institutionCode  catalogNumber countryCode  decimalLongitude  \\\n",
       "17075  bbc342           PERTH  PERTH 9296301         AUS        115.083333   \n",
       "17076  bbc342           PERTH  PERTH 1964550         AUS        121.166667   \n",
       "17077  bbc342           PERTH  PERTH 6190332         AUS        116.016667   \n",
       "17078  bbc342           PERTH  PERTH 1954776         AUS        122.513056   \n",
       "17079  bbc342           PERTH  PERTH 2465175         AUS        119.666667   \n",
       "\n",
       "       decimalLatitude                 source  \n",
       "17075       -33.833333  https://www.gbif.org/  \n",
       "17076       -32.883333  https://www.gbif.org/  \n",
       "17077       -32.166667  https://www.gbif.org/  \n",
       "17078       -33.326389  https://www.gbif.org/  \n",
       "17079       -33.083333  https://www.gbif.org/  "
      ]
     },
     "execution_count": 102,
     "metadata": {},
     "output_type": "execute_result"
    }
   ],
   "source": [
    "spec_occ_angio = spec_occ[spec_occ['sp_id'].isin(spec_ids_to_keep)]\n",
    "spec_occ_angio.head()"
   ]
  },
  {
   "cell_type": "code",
   "execution_count": 103,
   "metadata": {},
   "outputs": [
    {
     "name": "stdout",
     "output_type": "stream",
     "text": [
      "There are 134 unique resurrection angiosperms in our dataset\n"
     ]
    }
   ],
   "source": [
    "print(f'There are {len(spec_occ_angio.sp_id.unique())} unique resurrection angiosperms in our dataset')"
   ]
  },
  {
   "cell_type": "markdown",
   "metadata": {},
   "source": [
    "## Basic visualizations"
   ]
  },
  {
   "cell_type": "markdown",
   "metadata": {},
   "source": [
    "### Number of observations per species\n",
    "Of angiosperm resurrection plants"
   ]
  },
  {
   "cell_type": "code",
   "execution_count": 104,
   "metadata": {},
   "outputs": [
    {
     "data": {
      "text/plain": [
       "<Axes: xlabel='decimalLongitude', ylabel='Density'>"
      ]
     },
     "execution_count": 104,
     "metadata": {},
     "output_type": "execute_result"
    },
    {
     "data": {
      "image/png": "[encoded data removed]",
      "text/plain": [
       "<Figure size 640x480 with 1 Axes>"
      ]
     },
     "metadata": {},
     "output_type": "display_data"
    }
   ],
   "source": [
    "sns.kdeplot(spec_occ_angio.groupby('sp_id').count()['decimalLongitude'])"
   ]
  },
  {
   "cell_type": "markdown",
   "metadata": {},
   "source": [
    "### All individual plant observations\n",
    "Each point is one observation of an angiosperm resurrection plant."
   ]
  },
  {
   "cell_type": "code",
   "execution_count": 105,
   "metadata": {},
   "outputs": [
    {
     "name": "stderr",
     "output_type": "stream",
     "text": [
      "/tmp/local/33224491/ipykernel_249811/1985845483.py:4: FutureWarning:\n",
      "\n",
      "The geopandas.dataset module is deprecated and will be removed in GeoPandas 1.0. You can get the original 'naturalearth_lowres' data from https://www.naturalearthdata.com/downloads/110m-cultural-vectors/.\n",
      "\n"
     ]
    },
    {
     "data": {
      "image/png": "[encoded data removed]",
      "text/plain": [
       "<Figure size 1000x600 with 1 Axes>"
      ]
     },
     "metadata": {},
     "output_type": "display_data"
    }
   ],
   "source": [
    "geometry = [Point(xy) for xy in zip(spec_occ_angio['decimalLongitude'], spec_occ_angio['decimalLatitude'])]\n",
    "gdf = GeoDataFrame(spec_occ_angio[['decimalLatitude', 'decimalLongitude']], geometry=geometry)   \n",
    "\n",
    "world = gpd.read_file(gpd.datasets.get_path('naturalearth_lowres'))\n",
    "gdf.plot(ax=world.plot(figsize=(10, 6)), marker='o', color='red', markersize=15);"
   ]
  },
  {
   "cell_type": "markdown",
   "metadata": {},
   "source": [
    "## Publication representation per plant visualizations\n",
    "In this section, our goal is to answer the following questions:\n",
    "\n",
    "1. How well-represented is each country in the desiccation tolerance publication dataset as compared to the unmber of unique resurrection plant species found in that country?\n",
    "2. In the conference author dataset?\n",
    "3. Are those two sets of representations the same or different?\n",
    "\n",
    "In short, we want to justify using a geographic factor in the conference recommendation system. Anecdotally, scientists have observed that countries with high resurrection plant diversity have low representation at DesWorks. What we want to know is, can we remedy that problem by choosing authros from those countries, or is there a larger representation issue that prevents us from effectively leveraging the literature to suggest nominees based on geography? If the two distributions are not significantly different, we can't count on the literature to help us.\n",
    "\n",
    "To perform this analysis, we'll do the following:\n",
    "1. Map the number of unique resurrection plant species in each country (normalized by Area)\n",
    "2. Get the number of Plant publications from each country in the full dataset (normalized by Population)\n",
    "    1. Use chi-squared test to determine if the number is different from the expected number\n",
    "3. Get the number of Plant conference attendees (manual labeling) from each country\n",
    "    1. Use chi-squared test to determine if the number is different from the expected number\n",
    "4. For both (2) and (3), calculate representation per country using the following:\n",
    "\n",
    "$$\\frac{\\frac{\\text{# Publications}}{\\text{Population}}}{\\frac{\\text{# Resurrection plants}}{\\text{Area}}}$$\n",
    "\n",
    "5. Compare the distributions of representation values between conference authors and full-dataset authors using a t-test to determine significance."
   ]
  },
  {
   "cell_type": "markdown",
   "metadata": {},
   "source": [
    "### Pre-process list of countries to track\n",
    "Rather than only track countries that have plants or papers (which are overlapping but non-identical sets), we're going to start with a list of countries that we will get information for, including countries that have both 0 plant and 0 paper counts. We'll use the combination of the Natural Earth `lowres` and `tiny_points` datasets to get this list."
   ]
  },
  {
   "cell_type": "code",
   "execution_count": 106,
   "metadata": {},
   "outputs": [
    {
     "name": "stderr",
     "output_type": "stream",
     "text": [
      "/tmp/local/33224491/ipykernel_249811/3925716115.py:1: FutureWarning:\n",
      "\n",
      "The geopandas.dataset module is deprecated and will be removed in GeoPandas 1.0. You can get the original 'naturalearth_lowres' data from https://www.naturalearthdata.com/downloads/110m-cultural-vectors/.\n",
      "\n"
     ]
    },
    {
     "data": {
      "text/html": [
       "<div>\n",
       "<style scoped>\n",
       "    .dataframe tbody tr th:only-of-type {\n",
       "        vertical-align: middle;\n",
       "    }\n",
       "\n",
       "    .dataframe tbody tr th {\n",
       "        vertical-align: top;\n",
       "    }\n",
       "\n",
       "    .dataframe thead th {\n",
       "        text-align: right;\n",
       "    }\n",
       "</style>\n",
       "<table border=\"1\" class=\"dataframe\">\n",
       "  <thead>\n",
       "    <tr style=\"text-align: right;\">\n",
       "      <th></th>\n",
       "      <th>iso_a3</th>\n",
       "    </tr>\n",
       "  </thead>\n",
       "  <tbody>\n",
       "    <tr>\n",
       "      <th>0</th>\n",
       "      <td>FJI</td>\n",
       "    </tr>\n",
       "    <tr>\n",
       "      <th>1</th>\n",
       "      <td>TZA</td>\n",
       "    </tr>\n",
       "    <tr>\n",
       "      <th>2</th>\n",
       "      <td>ESH</td>\n",
       "    </tr>\n",
       "    <tr>\n",
       "      <th>3</th>\n",
       "      <td>CAN</td>\n",
       "    </tr>\n",
       "    <tr>\n",
       "      <th>4</th>\n",
       "      <td>USA</td>\n",
       "    </tr>\n",
       "  </tbody>\n",
       "</table>\n",
       "</div>"
      ],
      "text/plain": [
       "  iso_a3\n",
       "0    FJI\n",
       "1    TZA\n",
       "2    ESH\n",
       "3    CAN\n",
       "4    USA"
      ]
     },
     "execution_count": 106,
     "metadata": {},
     "output_type": "execute_result"
    }
   ],
   "source": [
    "world = gpd.read_file(gpd.datasets.get_path('naturalearth_lowres'))\n",
    "countries_large = world[['iso_a3']]\n",
    "countries_large.head()"
   ]
  },
  {
   "cell_type": "code",
   "execution_count": 107,
   "metadata": {},
   "outputs": [
    {
     "data": {
      "text/html": [
       "<div>\n",
       "<style scoped>\n",
       "    .dataframe tbody tr th:only-of-type {\n",
       "        vertical-align: middle;\n",
       "    }\n",
       "\n",
       "    .dataframe tbody tr th {\n",
       "        vertical-align: top;\n",
       "    }\n",
       "\n",
       "    .dataframe thead th {\n",
       "        text-align: right;\n",
       "    }\n",
       "</style>\n",
       "<table border=\"1\" class=\"dataframe\">\n",
       "  <thead>\n",
       "    <tr style=\"text-align: right;\">\n",
       "      <th></th>\n",
       "      <th>iso_a3</th>\n",
       "    </tr>\n",
       "  </thead>\n",
       "  <tbody>\n",
       "    <tr>\n",
       "      <th>0</th>\n",
       "      <td>VUT</td>\n",
       "    </tr>\n",
       "    <tr>\n",
       "      <th>1</th>\n",
       "      <td>FR1</td>\n",
       "    </tr>\n",
       "    <tr>\n",
       "      <th>2</th>\n",
       "      <td>GB1</td>\n",
       "    </tr>\n",
       "    <tr>\n",
       "      <th>3</th>\n",
       "      <td>NZ1</td>\n",
       "    </tr>\n",
       "    <tr>\n",
       "      <th>4</th>\n",
       "      <td>WSM</td>\n",
       "    </tr>\n",
       "  </tbody>\n",
       "</table>\n",
       "</div>"
      ],
      "text/plain": [
       "  iso_a3\n",
       "0    VUT\n",
       "1    FR1\n",
       "2    GB1\n",
       "3    NZ1\n",
       "4    WSM"
      ]
     },
     "execution_count": 107,
     "metadata": {},
     "output_type": "execute_result"
    }
   ],
   "source": [
    "mini_world = gpd.read_file('../data/ne_110m_admin_0_tiny_countries.zip')\n",
    "countries_mini = mini_world[['SOV_A3']]\n",
    "countries_mini = countries_mini.rename(columns={'SOV_A3': 'iso_a3'})\n",
    "countries_mini.head()"
   ]
  },
  {
   "cell_type": "code",
   "execution_count": 108,
   "metadata": {
    "scrolled": true
   },
   "outputs": [
    {
     "data": {
      "text/html": [
       "<div>\n",
       "<style scoped>\n",
       "    .dataframe tbody tr th:only-of-type {\n",
       "        vertical-align: middle;\n",
       "    }\n",
       "\n",
       "    .dataframe tbody tr th {\n",
       "        vertical-align: top;\n",
       "    }\n",
       "\n",
       "    .dataframe thead th {\n",
       "        text-align: right;\n",
       "    }\n",
       "</style>\n",
       "<table border=\"1\" class=\"dataframe\">\n",
       "  <thead>\n",
       "    <tr style=\"text-align: right;\">\n",
       "      <th></th>\n",
       "      <th>iso_alpha</th>\n",
       "    </tr>\n",
       "  </thead>\n",
       "  <tbody>\n",
       "    <tr>\n",
       "      <th>0</th>\n",
       "      <td>FJI</td>\n",
       "    </tr>\n",
       "    <tr>\n",
       "      <th>1</th>\n",
       "      <td>TZA</td>\n",
       "    </tr>\n",
       "    <tr>\n",
       "      <th>2</th>\n",
       "      <td>ESH</td>\n",
       "    </tr>\n",
       "    <tr>\n",
       "      <th>3</th>\n",
       "      <td>CAN</td>\n",
       "    </tr>\n",
       "    <tr>\n",
       "      <th>4</th>\n",
       "      <td>USA</td>\n",
       "    </tr>\n",
       "  </tbody>\n",
       "</table>\n",
       "</div>"
      ],
      "text/plain": [
       "  iso_alpha\n",
       "0       FJI\n",
       "1       TZA\n",
       "2       ESH\n",
       "3       CAN\n",
       "4       USA"
      ]
     },
     "execution_count": 108,
     "metadata": {},
     "output_type": "execute_result"
    }
   ],
   "source": [
    "all_countries = countries_large.merge(countries_mini, how='outer')\n",
    "all_countries = all_countries.rename(columns={'iso_a3': 'iso_alpha'}).drop_duplicates()\n",
    "all_countries.head()"
   ]
  },
  {
   "cell_type": "code",
   "execution_count": 109,
   "metadata": {},
   "outputs": [
    {
     "name": "stdout",
     "output_type": "stream",
     "text": [
      "There are 198 countries to track.\n"
     ]
    }
   ],
   "source": [
    "print(f'There are {len(all_countries)} countries to track.')"
   ]
  },
  {
   "cell_type": "markdown",
   "metadata": {},
   "source": [
    "### Pre-process conference authors\n",
    "Here, we'll remove any conference attendees that are not in the Plant domain and get the number of authors per country, as well as normalize for population."
   ]
  },
  {
   "cell_type": "code",
   "execution_count": 110,
   "metadata": {},
   "outputs": [
    {
     "name": "stdout",
     "output_type": "stream",
     "text": [
      "There are 113 unique attendees.\n"
     ]
    }
   ],
   "source": [
    "unique_attendees = attendees.drop_duplicates(subset=['Surname', 'First_name'], ignore_index=True).sort_values('Surname')\n",
    "print(f'There are {len(unique_attendees)} unique attendees.')"
   ]
  },
  {
   "cell_type": "markdown",
   "metadata": {},
   "source": [
    "For a few of the attendees, we couldn't identify them uniquely in online databases to find their research specialty, so we have to drop them, as well as those who don't have Plant as one of their Kingdoms."
   ]
  },
  {
   "cell_type": "code",
   "execution_count": 111,
   "metadata": {},
   "outputs": [
    {
     "name": "stdout",
     "output_type": "stream",
     "text": [
      "After dropping individuals with no Kingdom or a Kingdom not including Plant, there are 102 individuals.\n"
     ]
    }
   ],
   "source": [
    "unique_attendees = unique_attendees.dropna(subset='Kingdom')\n",
    "unique_attendees = unique_attendees[unique_attendees['Kingdom'].str.contains('Plant')]\n",
    "print(f'After dropping individuals with no Kingdom or a Kingdom not including Plant, there are {len(unique_attendees)} individuals.')"
   ]
  },
  {
   "cell_type": "code",
   "execution_count": 112,
   "metadata": {},
   "outputs": [],
   "source": [
    "# So that we can use the country conversions below\n",
    "unique_attendees = unique_attendees.replace({'The Netherlands': 'Netherlands', 'USA': 'United States'})"
   ]
  },
  {
   "cell_type": "markdown",
   "metadata": {},
   "source": [
    "Get the country codes for all countries:"
   ]
  },
  {
   "cell_type": "code",
   "execution_count": 113,
   "metadata": {},
   "outputs": [],
   "source": [
    "country_conversions = {country.name: country.alpha_3 for country in pycountry.countries}"
   ]
  },
  {
   "cell_type": "code",
   "execution_count": 114,
   "metadata": {},
   "outputs": [
    {
     "data": {
      "text/html": [
       "<div>\n",
       "<style scoped>\n",
       "    .dataframe tbody tr th:only-of-type {\n",
       "        vertical-align: middle;\n",
       "    }\n",
       "\n",
       "    .dataframe tbody tr th {\n",
       "        vertical-align: top;\n",
       "    }\n",
       "\n",
       "    .dataframe thead th {\n",
       "        text-align: right;\n",
       "    }\n",
       "</style>\n",
       "<table border=\"1\" class=\"dataframe\">\n",
       "  <thead>\n",
       "    <tr style=\"text-align: right;\">\n",
       "      <th></th>\n",
       "      <th>conf_auth_count</th>\n",
       "      <th>iso_alpha</th>\n",
       "    </tr>\n",
       "    <tr>\n",
       "      <th>Country</th>\n",
       "      <th></th>\n",
       "      <th></th>\n",
       "    </tr>\n",
       "  </thead>\n",
       "  <tbody>\n",
       "    <tr>\n",
       "      <th>South Africa</th>\n",
       "      <td>36</td>\n",
       "      <td>ZAF</td>\n",
       "    </tr>\n",
       "    <tr>\n",
       "      <th>United States</th>\n",
       "      <td>14</td>\n",
       "      <td>USA</td>\n",
       "    </tr>\n",
       "    <tr>\n",
       "      <th>Israel</th>\n",
       "      <td>8</td>\n",
       "      <td>ISR</td>\n",
       "    </tr>\n",
       "    <tr>\n",
       "      <th>Netherlands</th>\n",
       "      <td>7</td>\n",
       "      <td>NLD</td>\n",
       "    </tr>\n",
       "    <tr>\n",
       "      <th>Germany</th>\n",
       "      <td>7</td>\n",
       "      <td>DEU</td>\n",
       "    </tr>\n",
       "  </tbody>\n",
       "</table>\n",
       "</div>"
      ],
      "text/plain": [
       "               conf_auth_count iso_alpha\n",
       "Country                                 \n",
       "South Africa                36       ZAF\n",
       "United States               14       USA\n",
       "Israel                       8       ISR\n",
       "Netherlands                  7       NLD\n",
       "Germany                      7       DEU"
      ]
     },
     "execution_count": 114,
     "metadata": {},
     "output_type": "execute_result"
    }
   ],
   "source": [
    "country_counts = pd.DataFrame(unique_attendees['Country'].value_counts(), columns=['count']).rename(columns={'count': 'conf_auth_count'})\n",
    "country_counts['iso_alpha'] = country_counts.index.map(country_conversions)\n",
    "country_counts.head()"
   ]
  },
  {
   "cell_type": "markdown",
   "metadata": {},
   "source": [
    "Merge with the list of countries to track, and fill any `NaN` with 0:"
   ]
  },
  {
   "cell_type": "code",
   "execution_count": 115,
   "metadata": {
    "scrolled": true
   },
   "outputs": [
    {
     "data": {
      "text/html": [
       "<div>\n",
       "<style scoped>\n",
       "    .dataframe tbody tr th:only-of-type {\n",
       "        vertical-align: middle;\n",
       "    }\n",
       "\n",
       "    .dataframe tbody tr th {\n",
       "        vertical-align: top;\n",
       "    }\n",
       "\n",
       "    .dataframe thead th {\n",
       "        text-align: right;\n",
       "    }\n",
       "</style>\n",
       "<table border=\"1\" class=\"dataframe\">\n",
       "  <thead>\n",
       "    <tr style=\"text-align: right;\">\n",
       "      <th></th>\n",
       "      <th>conf_auth_count</th>\n",
       "      <th>iso_alpha</th>\n",
       "    </tr>\n",
       "  </thead>\n",
       "  <tbody>\n",
       "    <tr>\n",
       "      <th>0</th>\n",
       "      <td>36.0</td>\n",
       "      <td>ZAF</td>\n",
       "    </tr>\n",
       "    <tr>\n",
       "      <th>1</th>\n",
       "      <td>14.0</td>\n",
       "      <td>USA</td>\n",
       "    </tr>\n",
       "    <tr>\n",
       "      <th>2</th>\n",
       "      <td>8.0</td>\n",
       "      <td>ISR</td>\n",
       "    </tr>\n",
       "    <tr>\n",
       "      <th>3</th>\n",
       "      <td>7.0</td>\n",
       "      <td>NLD</td>\n",
       "    </tr>\n",
       "    <tr>\n",
       "      <th>4</th>\n",
       "      <td>7.0</td>\n",
       "      <td>DEU</td>\n",
       "    </tr>\n",
       "  </tbody>\n",
       "</table>\n",
       "</div>"
      ],
      "text/plain": [
       "   conf_auth_count iso_alpha\n",
       "0             36.0       ZAF\n",
       "1             14.0       USA\n",
       "2              8.0       ISR\n",
       "3              7.0       NLD\n",
       "4              7.0       DEU"
      ]
     },
     "execution_count": 115,
     "metadata": {},
     "output_type": "execute_result"
    }
   ],
   "source": [
    "country_counts = country_counts.merge(all_countries, on='iso_alpha', how='outer').fillna(0)\n",
    "country_counts.head()"
   ]
  },
  {
   "cell_type": "code",
   "execution_count": 116,
   "metadata": {},
   "outputs": [
    {
     "data": {
      "text/plain": [
       "(198, 2)"
      ]
     },
     "execution_count": 116,
     "metadata": {},
     "output_type": "execute_result"
    }
   ],
   "source": [
    "country_counts.shape"
   ]
  },
  {
   "cell_type": "markdown",
   "metadata": {},
   "source": [
    "We'll Use the World Bank API to get the population numbers, with code from [this blog](https://medium.com/@brechtcorbeel/analyzing-global-population-data-with-python-and-the-world-bank-api-1411e10c6484):"
   ]
  },
  {
   "cell_type": "code",
   "execution_count": 117,
   "metadata": {},
   "outputs": [
    {
     "data": {
      "text/html": [
       "<div>\n",
       "<style scoped>\n",
       "    .dataframe tbody tr th:only-of-type {\n",
       "        vertical-align: middle;\n",
       "    }\n",
       "\n",
       "    .dataframe tbody tr th {\n",
       "        vertical-align: top;\n",
       "    }\n",
       "\n",
       "    .dataframe thead th {\n",
       "        text-align: right;\n",
       "    }\n",
       "</style>\n",
       "<table border=\"1\" class=\"dataframe\">\n",
       "  <thead>\n",
       "    <tr style=\"text-align: right;\">\n",
       "      <th></th>\n",
       "      <th>countryiso3code</th>\n",
       "      <th>date</th>\n",
       "      <th>value</th>\n",
       "      <th>unit</th>\n",
       "      <th>obs_status</th>\n",
       "      <th>decimal</th>\n",
       "      <th>indicator.id</th>\n",
       "      <th>indicator.value</th>\n",
       "      <th>country.id</th>\n",
       "      <th>country.value</th>\n",
       "    </tr>\n",
       "  </thead>\n",
       "  <tbody>\n",
       "    <tr>\n",
       "      <th>0</th>\n",
       "      <td>AFE</td>\n",
       "      <td>2022</td>\n",
       "      <td>720859132.0</td>\n",
       "      <td></td>\n",
       "      <td></td>\n",
       "      <td>0</td>\n",
       "      <td>SP.POP.TOTL</td>\n",
       "      <td>Population, total</td>\n",
       "      <td>ZH</td>\n",
       "      <td>Africa Eastern and Southern</td>\n",
       "    </tr>\n",
       "    <tr>\n",
       "      <th>1</th>\n",
       "      <td>AFW</td>\n",
       "      <td>2022</td>\n",
       "      <td>490330870.0</td>\n",
       "      <td></td>\n",
       "      <td></td>\n",
       "      <td>0</td>\n",
       "      <td>SP.POP.TOTL</td>\n",
       "      <td>Population, total</td>\n",
       "      <td>ZI</td>\n",
       "      <td>Africa Western and Central</td>\n",
       "    </tr>\n",
       "    <tr>\n",
       "      <th>2</th>\n",
       "      <td>ARB</td>\n",
       "      <td>2022</td>\n",
       "      <td>464684914.0</td>\n",
       "      <td></td>\n",
       "      <td></td>\n",
       "      <td>0</td>\n",
       "      <td>SP.POP.TOTL</td>\n",
       "      <td>Population, total</td>\n",
       "      <td>1A</td>\n",
       "      <td>Arab World</td>\n",
       "    </tr>\n",
       "    <tr>\n",
       "      <th>3</th>\n",
       "      <td>CSS</td>\n",
       "      <td>2022</td>\n",
       "      <td>7505478.0</td>\n",
       "      <td></td>\n",
       "      <td></td>\n",
       "      <td>0</td>\n",
       "      <td>SP.POP.TOTL</td>\n",
       "      <td>Population, total</td>\n",
       "      <td>S3</td>\n",
       "      <td>Caribbean small states</td>\n",
       "    </tr>\n",
       "    <tr>\n",
       "      <th>4</th>\n",
       "      <td>CEB</td>\n",
       "      <td>2022</td>\n",
       "      <td>100108221.0</td>\n",
       "      <td></td>\n",
       "      <td></td>\n",
       "      <td>0</td>\n",
       "      <td>SP.POP.TOTL</td>\n",
       "      <td>Population, total</td>\n",
       "      <td>B8</td>\n",
       "      <td>Central Europe and the Baltics</td>\n",
       "    </tr>\n",
       "  </tbody>\n",
       "</table>\n",
       "</div>"
      ],
      "text/plain": [
       "  countryiso3code  date        value unit obs_status  decimal indicator.id  \\\n",
       "0             AFE  2022  720859132.0                        0  SP.POP.TOTL   \n",
       "1             AFW  2022  490330870.0                        0  SP.POP.TOTL   \n",
       "2             ARB  2022  464684914.0                        0  SP.POP.TOTL   \n",
       "3             CSS  2022    7505478.0                        0  SP.POP.TOTL   \n",
       "4             CEB  2022  100108221.0                        0  SP.POP.TOTL   \n",
       "\n",
       "     indicator.value country.id                   country.value  \n",
       "0  Population, total         ZH     Africa Eastern and Southern  \n",
       "1  Population, total         ZI      Africa Western and Central  \n",
       "2  Population, total         1A                      Arab World  \n",
       "3  Population, total         S3          Caribbean small states  \n",
       "4  Population, total         B8  Central Europe and the Baltics  "
      ]
     },
     "execution_count": 117,
     "metadata": {},
     "output_type": "execute_result"
    }
   ],
   "source": [
    "# Define the URL for the API request\n",
    "url = \"http://api.worldbank.org/v2/country/all/indicator/SP.POP.TOTL?date=2022&format=json&per_page=10000\"\n",
    "# Make the GET request to the World Bank API\n",
    "response = requests.get(url)\n",
    "# Convert the response to JSON\n",
    "json_data = response.json()\n",
    "# Convert the JSON data to a pandas DataFrame\n",
    "pop_2022 = pd.json_normalize(json_data[1])\n",
    "pop_2022.head()"
   ]
  },
  {
   "cell_type": "code",
   "execution_count": 118,
   "metadata": {},
   "outputs": [
    {
     "data": {
      "text/plain": [
       "(266, 10)"
      ]
     },
     "execution_count": 118,
     "metadata": {},
     "output_type": "execute_result"
    }
   ],
   "source": [
    "pop_2022.shape"
   ]
  },
  {
   "cell_type": "markdown",
   "metadata": {},
   "source": [
    "Important to note is that the World Bank neither [counts Taiwan as its own country nor inclueds it in China's statistics](https://datahelpdesk.worldbank.org/knowledgebase/articles/114933-where-are-your-data-on-taiwan), so we lose Taiwan merging with the population dataframe we just obtained. To get statistics for Taiwan to add to our population dataframe before merging, we'll use [2022 statistics from the government of Taiwan](https://www.ris.gov.tw/app/en/2121?sn=23009515#:~:text=By%20the%20end%20of%20Dec,average%20daily%20decreased%20was%20303.2.) and manually add a row into the datarame. The population of Taiwan in 2022 was 23,264,640."
   ]
  },
  {
   "cell_type": "code",
   "execution_count": 119,
   "metadata": {},
   "outputs": [
    {
     "data": {
      "text/plain": [
       "(267, 10)"
      ]
     },
     "execution_count": 119,
     "metadata": {},
     "output_type": "execute_result"
    }
   ],
   "source": [
    "twn_pop = pd.DataFrame({'countryiso3code': ['TWN'], 'date': [2022],\n",
    "           'value': [23264640.0], 'unit': [np.nan], 'obs_status': [np.nan],\n",
    "           'decimal': [0], 'indicator.id': ['SP.POP.TOTL'],\n",
    "           'indicator.value': ['Population, total'],\n",
    "           'country.id': ['TW'], 'country.value': ['East Asia & Pacific']})\n",
    "pop_2022 = pd.concat([pop_2022, twn_pop])\n",
    "pop_2022.shape"
   ]
  },
  {
   "cell_type": "markdown",
   "metadata": {},
   "source": [
    "Merge with df and normalize:"
   ]
  },
  {
   "cell_type": "code",
   "execution_count": 120,
   "metadata": {},
   "outputs": [
    {
     "data": {
      "text/html": [
       "<div>\n",
       "<style scoped>\n",
       "    .dataframe tbody tr th:only-of-type {\n",
       "        vertical-align: middle;\n",
       "    }\n",
       "\n",
       "    .dataframe tbody tr th {\n",
       "        vertical-align: top;\n",
       "    }\n",
       "\n",
       "    .dataframe thead th {\n",
       "        text-align: right;\n",
       "    }\n",
       "</style>\n",
       "<table border=\"1\" class=\"dataframe\">\n",
       "  <thead>\n",
       "    <tr style=\"text-align: right;\">\n",
       "      <th></th>\n",
       "      <th>conf_auth_count</th>\n",
       "      <th>iso_alpha</th>\n",
       "      <th>population</th>\n",
       "    </tr>\n",
       "  </thead>\n",
       "  <tbody>\n",
       "    <tr>\n",
       "      <th>0</th>\n",
       "      <td>36.0</td>\n",
       "      <td>ZAF</td>\n",
       "      <td>59893885.0</td>\n",
       "    </tr>\n",
       "    <tr>\n",
       "      <th>1</th>\n",
       "      <td>14.0</td>\n",
       "      <td>USA</td>\n",
       "      <td>333287557.0</td>\n",
       "    </tr>\n",
       "    <tr>\n",
       "      <th>2</th>\n",
       "      <td>8.0</td>\n",
       "      <td>ISR</td>\n",
       "      <td>9557500.0</td>\n",
       "    </tr>\n",
       "    <tr>\n",
       "      <th>3</th>\n",
       "      <td>7.0</td>\n",
       "      <td>NLD</td>\n",
       "      <td>17700982.0</td>\n",
       "    </tr>\n",
       "    <tr>\n",
       "      <th>4</th>\n",
       "      <td>7.0</td>\n",
       "      <td>DEU</td>\n",
       "      <td>83797985.0</td>\n",
       "    </tr>\n",
       "  </tbody>\n",
       "</table>\n",
       "</div>"
      ],
      "text/plain": [
       "   conf_auth_count iso_alpha   population\n",
       "0             36.0       ZAF   59893885.0\n",
       "1             14.0       USA  333287557.0\n",
       "2              8.0       ISR    9557500.0\n",
       "3              7.0       NLD   17700982.0\n",
       "4              7.0       DEU   83797985.0"
      ]
     },
     "execution_count": 120,
     "metadata": {},
     "output_type": "execute_result"
    }
   ],
   "source": [
    "conf_auth_w_pop = country_counts.merge(pop_2022, left_on='iso_alpha', right_on='countryiso3code', how='left')\n",
    "conf_auth_w_pop = conf_auth_w_pop.drop(columns=['countryiso3code', 'date', 'unit', 'obs_status', 'decimal', 'indicator.id', 'indicator.value', 'country.id', 'country.value']).fillna(0)\n",
    "conf_auth_w_pop = conf_auth_w_pop.rename(columns={'value': 'population'})\n",
    "conf_auth_w_pop.head()"
   ]
  },
  {
   "cell_type": "code",
   "execution_count": 121,
   "metadata": {},
   "outputs": [
    {
     "data": {
      "text/plain": [
       "(198, 3)"
      ]
     },
     "execution_count": 121,
     "metadata": {},
     "output_type": "execute_result"
    }
   ],
   "source": [
    "conf_auth_w_pop.shape"
   ]
  },
  {
   "cell_type": "markdown",
   "metadata": {},
   "source": [
    "### Pre-process all authors in dataset\n",
    "Here, we'll calculate the number of papers per country and remove any that are not Plants. We'll also normalize number of papers by each country's population."
   ]
  },
  {
   "cell_type": "markdown",
   "metadata": {},
   "source": [
    "First, we need to process the authors and addresses from all papers in the dataset. For the purposes of this exercise, we will assume anyone with the same WOS standard name is the same person. We don't want to double count papers, so we'll only look at the corresponding author to associate each paper with a country."
   ]
  },
  {
   "cell_type": "code",
   "execution_count": 122,
   "metadata": {},
   "outputs": [
    {
     "name": "stdout",
     "output_type": "stream",
     "text": [
      "There are 282 papers that don't have geographic information.\n",
      "There are 524 papers that don't have addr_no's for their authors and also have more than one country in the addresses\n"
     ]
    }
   ],
   "source": [
    "missing_addresses = []\n",
    "no_addr_no_mult_countries = []\n",
    "for paper in all_papers:\n",
    "    if len(paper['addresses']) == 0:\n",
    "        missing_addresses.append(paper['UID'])\n",
    "    try:\n",
    "        addr_nos = [author['addr_no'] for author in paper['authors']]\n",
    "        has_addr_no = True\n",
    "    except KeyError:\n",
    "        has_addr_no = False\n",
    "    all_author_countries = [addr['country'] for addr in paper['addresses']]\n",
    "    if (len(set(all_author_countries)) > 1) and not has_addr_no:\n",
    "        no_addr_no_mult_countries.append(paper['UID'])\n",
    "print(f'There are {len(missing_addresses)} papers that don\\'t have geographic information.')\n",
    "print(f'There are {len(no_addr_no_mult_countries)} papers that don\\'t have addr_no\\'s for their authors and also have more than one country in the addresses')"
   ]
  },
  {
   "cell_type": "code",
   "execution_count": 123,
   "metadata": {},
   "outputs": [
    {
     "name": "stdout",
     "output_type": "stream",
     "text": [
      "There are 2216 unique authors that may not have geographical affiliations in our dataset.\n"
     ]
    }
   ],
   "source": [
    "papers_by_uid = {p['UID']: p for p in all_papers}\n",
    "no_geo_authors = []\n",
    "for puid in missing_addresses + no_addr_no_mult_countries:\n",
    "    for author in papers_by_uid[puid]['authors']:\n",
    "        no_geo_authors.append(author['wos_standard'].lower())\n",
    "print(f'There are {len(set(no_geo_authors))} unique authors that may not have geographical affiliations in our dataset.')"
   ]
  },
  {
   "cell_type": "code",
   "execution_count": 124,
   "metadata": {},
   "outputs": [
    {
     "name": "stdout",
     "output_type": "stream",
     "text": [
      "There are 16614 author-country pairs, and 18036 total authors.\n"
     ]
    }
   ],
   "source": [
    "authors2countries = utils.get_geographic_locations(all_papers)"
   ]
  },
  {
   "cell_type": "code",
   "execution_count": 125,
   "metadata": {},
   "outputs": [],
   "source": [
    "paper_countries = defaultdict(list)\n",
    "for paper in all_papers:\n",
    "    authors_with_emails = []\n",
    "    for author in paper['authors']:\n",
    "        if 'email_addr' in author.keys():\n",
    "            authors_with_emails.append(author)\n",
    "    # If there are multiple authors with emails and their countries are different, pick the majority one\n",
    "    corr_author_countries = []\n",
    "    for author in authors_with_emails:\n",
    "        try:\n",
    "            corr_author_countries.append(authors2countries[author['wos_standard'].lower()])\n",
    "        except KeyError:\n",
    "            continue\n",
    "    if len(set(corr_author_countries)) == 1:\n",
    "        paper_countries[corr_author_countries[0]].append(paper['UID'])\n",
    "    elif len(set(corr_author_countries)) > 1:\n",
    "        max_country = Counter(corr_author_countries).most_common()[0][0]\n",
    "        paper_countries[max_country].append(paper['UID'])"
   ]
  },
  {
   "cell_type": "code",
   "execution_count": 126,
   "metadata": {
    "scrolled": true
   },
   "outputs": [
    {
     "name": "stdout",
     "output_type": "stream",
     "text": [
      "5409 of 6903 papers had a location recovered.\n"
     ]
    }
   ],
   "source": [
    "print(f'{sum([len(val) for val in paper_countries.values()])} of {len(all_papers)} papers had a location recovered.')"
   ]
  },
  {
   "cell_type": "code",
   "execution_count": 127,
   "metadata": {
    "scrolled": true
   },
   "outputs": [
    {
     "name": "stdout",
     "output_type": "stream",
     "text": [
      "There are 85 unique countries represented in the full desiccation tolerance dataset\n"
     ]
    }
   ],
   "source": [
    "print(f'There are {len(paper_countries)} unique countries represented in the full desiccation tolerance dataset')"
   ]
  },
  {
   "cell_type": "markdown",
   "metadata": {},
   "source": [
    "We also need to remove any papers that are not Plant papers:"
   ]
  },
  {
   "cell_type": "code",
   "execution_count": 128,
   "metadata": {},
   "outputs": [],
   "source": [
    "study_systems = nx.get_node_attributes(classed_network, 'study_system')\n",
    "papers_dropped = {'uid': [], 'noclass': []}\n",
    "system_paper_geos = {\n",
    "    'Plant': defaultdict(list),\n",
    "    'Animal': defaultdict(list),\n",
    "    'Microbe': defaultdict(list),\n",
    "    'Fungi': defaultdict(list)\n",
    "}\n",
    "for country, paper_uids in paper_countries.items():\n",
    "    for uid in paper_uids:\n",
    "        try:\n",
    "            system = study_systems[uid]\n",
    "            system_paper_geos[system][country].append(uid)\n",
    "        except KeyError as e:\n",
    "            if str(e)[1:-1] == 'NOCLASS':\n",
    "                papers_dropped['noclass'].append(uid)\n",
    "            elif str(e)[1:-1] == uid:\n",
    "                papers_dropped['uid'].append(uid)\n",
    "            continue"
   ]
  },
  {
   "cell_type": "code",
   "execution_count": 129,
   "metadata": {},
   "outputs": [
    {
     "name": "stdout",
     "output_type": "stream",
     "text": [
      "1267 papers were missing from the classification datatset and were dropped, while 0 papers had no Kingdom and were dropped.\n"
     ]
    }
   ],
   "source": [
    "print(f'{len(papers_dropped[\"uid\"])} papers were missing from the classification datatset and were dropped, while '\n",
    "     f'{len(papers_dropped[\"noclass\"])} papers had no Kingdom and were dropped.')"
   ]
  },
  {
   "cell_type": "code",
   "execution_count": 130,
   "metadata": {},
   "outputs": [
    {
     "data": {
      "text/html": [
       "<div>\n",
       "<style scoped>\n",
       "    .dataframe tbody tr th:only-of-type {\n",
       "        vertical-align: middle;\n",
       "    }\n",
       "\n",
       "    .dataframe tbody tr th {\n",
       "        vertical-align: top;\n",
       "    }\n",
       "\n",
       "    .dataframe thead th {\n",
       "        text-align: right;\n",
       "    }\n",
       "</style>\n",
       "<table border=\"1\" class=\"dataframe\">\n",
       "  <thead>\n",
       "    <tr style=\"text-align: right;\">\n",
       "      <th></th>\n",
       "      <th>iso_alpha</th>\n",
       "      <th>paper_count</th>\n",
       "    </tr>\n",
       "  </thead>\n",
       "  <tbody>\n",
       "    <tr>\n",
       "      <th>0</th>\n",
       "      <td>FRA</td>\n",
       "      <td>80</td>\n",
       "    </tr>\n",
       "    <tr>\n",
       "      <th>1</th>\n",
       "      <td>USA</td>\n",
       "      <td>366</td>\n",
       "    </tr>\n",
       "    <tr>\n",
       "      <th>2</th>\n",
       "      <td>ZAF</td>\n",
       "      <td>118</td>\n",
       "    </tr>\n",
       "    <tr>\n",
       "      <th>3</th>\n",
       "      <td>JPN</td>\n",
       "      <td>79</td>\n",
       "    </tr>\n",
       "    <tr>\n",
       "      <th>4</th>\n",
       "      <td>DEU</td>\n",
       "      <td>155</td>\n",
       "    </tr>\n",
       "  </tbody>\n",
       "</table>\n",
       "</div>"
      ],
      "text/plain": [
       "  iso_alpha  paper_count\n",
       "0       FRA           80\n",
       "1       USA          366\n",
       "2       ZAF          118\n",
       "3       JPN           79\n",
       "4       DEU          155"
      ]
     },
     "execution_count": 130,
     "metadata": {},
     "output_type": "execute_result"
    }
   ],
   "source": [
    "sys_dfs = {}\n",
    "for sys, locs in system_paper_geos.items():\n",
    "    counts = {key: len(val) for key, val in locs.items()}\n",
    "    counts_df = pd.DataFrame.from_dict(counts, orient='index', columns=['count']).reset_index().rename(columns={'index':'iso_alpha', 'count': 'paper_count'})\n",
    "    sys_dfs[sys] = counts_df\n",
    "plant_paper_counts = sys_dfs['Plant']\n",
    "plant_paper_counts.head()"
   ]
  },
  {
   "cell_type": "code",
   "execution_count": 131,
   "metadata": {},
   "outputs": [
    {
     "name": "stdout",
     "output_type": "stream",
     "text": [
      "There are 75 countries represented in the Plant subset of the desiccation tolerance dataset.\n"
     ]
    }
   ],
   "source": [
    "print(f'There are {len(plant_paper_counts)} countries represented in the Plant subset of the desiccation tolerance dataset.')"
   ]
  },
  {
   "cell_type": "markdown",
   "metadata": {},
   "source": [
    "We also want to add 0's for countries with no papers to maintain a complete dataset:"
   ]
  },
  {
   "cell_type": "code",
   "execution_count": 132,
   "metadata": {},
   "outputs": [
    {
     "data": {
      "text/html": [
       "<div>\n",
       "<style scoped>\n",
       "    .dataframe tbody tr th:only-of-type {\n",
       "        vertical-align: middle;\n",
       "    }\n",
       "\n",
       "    .dataframe tbody tr th {\n",
       "        vertical-align: top;\n",
       "    }\n",
       "\n",
       "    .dataframe thead th {\n",
       "        text-align: right;\n",
       "    }\n",
       "</style>\n",
       "<table border=\"1\" class=\"dataframe\">\n",
       "  <thead>\n",
       "    <tr style=\"text-align: right;\">\n",
       "      <th></th>\n",
       "      <th>iso_alpha</th>\n",
       "      <th>paper_count</th>\n",
       "    </tr>\n",
       "  </thead>\n",
       "  <tbody>\n",
       "    <tr>\n",
       "      <th>0</th>\n",
       "      <td>FJI</td>\n",
       "      <td>0.0</td>\n",
       "    </tr>\n",
       "    <tr>\n",
       "      <th>1</th>\n",
       "      <td>TZA</td>\n",
       "      <td>0.0</td>\n",
       "    </tr>\n",
       "    <tr>\n",
       "      <th>2</th>\n",
       "      <td>ESH</td>\n",
       "      <td>0.0</td>\n",
       "    </tr>\n",
       "    <tr>\n",
       "      <th>3</th>\n",
       "      <td>CAN</td>\n",
       "      <td>56.0</td>\n",
       "    </tr>\n",
       "    <tr>\n",
       "      <th>4</th>\n",
       "      <td>USA</td>\n",
       "      <td>366.0</td>\n",
       "    </tr>\n",
       "  </tbody>\n",
       "</table>\n",
       "</div>"
      ],
      "text/plain": [
       "  iso_alpha  paper_count\n",
       "0       FJI          0.0\n",
       "1       TZA          0.0\n",
       "2       ESH          0.0\n",
       "3       CAN         56.0\n",
       "4       USA        366.0"
      ]
     },
     "execution_count": 132,
     "metadata": {},
     "output_type": "execute_result"
    }
   ],
   "source": [
    "plant_paper_counts = all_countries.merge(plant_paper_counts, how='left').fillna(0)\n",
    "plant_paper_counts.head()"
   ]
  },
  {
   "cell_type": "code",
   "execution_count": 133,
   "metadata": {},
   "outputs": [
    {
     "data": {
      "text/plain": [
       "(198, 2)"
      ]
     },
     "execution_count": 133,
     "metadata": {},
     "output_type": "execute_result"
    }
   ],
   "source": [
    "plant_paper_counts.shape"
   ]
  },
  {
   "cell_type": "markdown",
   "metadata": {},
   "source": [
    "Merge population with paper counts df and normalize:"
   ]
  },
  {
   "cell_type": "code",
   "execution_count": 134,
   "metadata": {},
   "outputs": [
    {
     "data": {
      "text/html": [
       "<div>\n",
       "<style scoped>\n",
       "    .dataframe tbody tr th:only-of-type {\n",
       "        vertical-align: middle;\n",
       "    }\n",
       "\n",
       "    .dataframe tbody tr th {\n",
       "        vertical-align: top;\n",
       "    }\n",
       "\n",
       "    .dataframe thead th {\n",
       "        text-align: right;\n",
       "    }\n",
       "</style>\n",
       "<table border=\"1\" class=\"dataframe\">\n",
       "  <thead>\n",
       "    <tr style=\"text-align: right;\">\n",
       "      <th></th>\n",
       "      <th>iso_alpha</th>\n",
       "      <th>paper_count</th>\n",
       "      <th>population</th>\n",
       "    </tr>\n",
       "  </thead>\n",
       "  <tbody>\n",
       "    <tr>\n",
       "      <th>0</th>\n",
       "      <td>FJI</td>\n",
       "      <td>0.0</td>\n",
       "      <td>929766.0</td>\n",
       "    </tr>\n",
       "    <tr>\n",
       "      <th>1</th>\n",
       "      <td>TZA</td>\n",
       "      <td>0.0</td>\n",
       "      <td>65497748.0</td>\n",
       "    </tr>\n",
       "    <tr>\n",
       "      <th>2</th>\n",
       "      <td>ESH</td>\n",
       "      <td>0.0</td>\n",
       "      <td>NaN</td>\n",
       "    </tr>\n",
       "    <tr>\n",
       "      <th>3</th>\n",
       "      <td>CAN</td>\n",
       "      <td>56.0</td>\n",
       "      <td>38929902.0</td>\n",
       "    </tr>\n",
       "    <tr>\n",
       "      <th>4</th>\n",
       "      <td>USA</td>\n",
       "      <td>366.0</td>\n",
       "      <td>333287557.0</td>\n",
       "    </tr>\n",
       "  </tbody>\n",
       "</table>\n",
       "</div>"
      ],
      "text/plain": [
       "  iso_alpha  paper_count   population\n",
       "0       FJI          0.0     929766.0\n",
       "1       TZA          0.0   65497748.0\n",
       "2       ESH          0.0          NaN\n",
       "3       CAN         56.0   38929902.0\n",
       "4       USA        366.0  333287557.0"
      ]
     },
     "execution_count": 134,
     "metadata": {},
     "output_type": "execute_result"
    }
   ],
   "source": [
    "plant_paper_counts_pop = plant_paper_counts.merge(pop_2022, left_on='iso_alpha', right_on='countryiso3code', how='left')\n",
    "plant_paper_counts_pop = plant_paper_counts_pop.drop(columns=['countryiso3code', 'date', 'unit', 'obs_status', 'decimal', 'indicator.id', 'indicator.value', 'country.id', 'country.value'])\n",
    "plant_paper_counts_pop = plant_paper_counts_pop.rename(columns={'value': 'population'})\n",
    "plant_paper_counts_pop.head()"
   ]
  },
  {
   "cell_type": "code",
   "execution_count": 135,
   "metadata": {},
   "outputs": [
    {
     "data": {
      "text/plain": [
       "(198, 3)"
      ]
     },
     "execution_count": 135,
     "metadata": {},
     "output_type": "execute_result"
    }
   ],
   "source": [
    "plant_paper_counts_pop.shape"
   ]
  },
  {
   "cell_type": "markdown",
   "metadata": {},
   "source": [
    "We also want to add the country affiliation information per-paper to our classification network so that we can visualize connections across countries and continents. We'll add two parameters: `country` and `continent`."
   ]
  },
  {
   "cell_type": "code",
   "execution_count": 136,
   "metadata": {},
   "outputs": [],
   "source": [
    "def country_to_continent(country_a3):\n",
    "    \"\"\"\n",
    "    Adapted from https://stackoverflow.com/a/59166127/13340814\n",
    "    \"\"\"\n",
    "    if country_a3 == 'XKX':\n",
    "        return 'Europe'\n",
    "    else:\n",
    "        country_alpha2 = pc.country_alpha3_to_country_alpha2(country_a3)\n",
    "        country_continent_code = pc.country_alpha2_to_continent_code(country_alpha2)\n",
    "        country_continent_name = pc.convert_continent_code_to_continent_name(country_continent_code)\n",
    "        return country_continent_name"
   ]
  },
  {
   "cell_type": "code",
   "execution_count": 137,
   "metadata": {},
   "outputs": [],
   "source": [
    "country_attrs = {}\n",
    "continent_attrs = {}\n",
    "for country, paper_uids in paper_countries.items():\n",
    "    ia3 = country\n",
    "    for uid in paper_uids:\n",
    "        country_attrs[uid] = ia3\n",
    "        continent_attrs[uid] = country_to_continent(ia3)"
   ]
  },
  {
   "cell_type": "code",
   "execution_count": 138,
   "metadata": {},
   "outputs": [],
   "source": [
    "geo_network = classed_network.copy()\n",
    "nx.set_node_attributes(geo_network, country_attrs, name='country')\n",
    "nx.set_node_attributes(geo_network, continent_attrs, name='continent')\n",
    "nx.write_graphml(geo_network, '../data/citation_network/FINAL_FINAL_DEBUGGED_MANUALLY_VERIFIED_core_collection_destol_or_anhydro_classified_network_29Mar2024_with_geography.graphml')"
   ]
  },
  {
   "cell_type": "markdown",
   "metadata": {},
   "source": [
    "### Pre-process plant information\n",
    "Here we want to get the number of unique resurrection plant species in each country normalized by the area of the country."
   ]
  },
  {
   "cell_type": "markdown",
   "metadata": {},
   "source": [
    "First, we need to map each set of coordinates to a country:"
   ]
  },
  {
   "cell_type": "code",
   "execution_count": 139,
   "metadata": {},
   "outputs": [],
   "source": [
    "latlons = defaultdict(list)\n",
    "for i, row in spec_occ_angio.iterrows():\n",
    "    latlons[row['sp_id']].append((row['decimalLatitude'], row['decimalLongitude']))\n",
    "latlons = {k: list(set(v)) for k, v in latlons.items()}"
   ]
  },
  {
   "cell_type": "code",
   "execution_count": 140,
   "metadata": {},
   "outputs": [
    {
     "name": "stdout",
     "output_type": "stream",
     "text": [
      "There are 5832 total observations, 5038 of them are unique.\n"
     ]
    }
   ],
   "source": [
    "print(f'There are {sum([len(v) for v in latlons.values()])} total observations, {len(set([coords for v in latlons.values() for coords in v]))} of them are unique.')"
   ]
  },
  {
   "cell_type": "code",
   "execution_count": 141,
   "metadata": {},
   "outputs": [],
   "source": [
    "unique_coords = list(set([coords for v in latlons.values() for coords in v]))"
   ]
  },
  {
   "cell_type": "markdown",
   "metadata": {},
   "source": [
    "Given the large volume of coordinates, this mapping procedure is quite time consuming (~7h for all unique coordinates). Therefore, we'll submit the following code as a job:"
   ]
  },
  {
   "cell_type": "code",
   "execution_count": 142,
   "metadata": {},
   "outputs": [],
   "source": [
    "# geolocator = Nominatim(user_agent=\"desiccation\")"
   ]
  },
  {
   "cell_type": "code",
   "execution_count": 143,
   "metadata": {},
   "outputs": [],
   "source": [
    "# observation_countries = {}\n",
    "# for coord in tqdm(unique_coords):\n",
    "#     address = geolocator.reverse(coord)\n",
    "#     country = address.raw['address']['country']\n",
    "#     observation_countries[coord] = country"
   ]
  },
  {
   "cell_type": "code",
   "execution_count": 144,
   "metadata": {},
   "outputs": [],
   "source": [
    "# coords_country_df = pd.read_csv()"
   ]
  },
  {
   "cell_type": "markdown",
   "metadata": {},
   "source": [
    "Now we can read back in the countries we got:"
   ]
  },
  {
   "cell_type": "code",
   "execution_count": 145,
   "metadata": {},
   "outputs": [],
   "source": [
    "with open('../data/conference_data/species_countries.json') as myf:\n",
    "    coord2country = json.load(myf)"
   ]
  },
  {
   "cell_type": "code",
   "execution_count": 146,
   "metadata": {},
   "outputs": [],
   "source": [
    "coord2country = {literal_eval(k):v for k, v in coord2country.items()}"
   ]
  },
  {
   "cell_type": "code",
   "execution_count": 147,
   "metadata": {},
   "outputs": [],
   "source": [
    "plant_countries = {}\n",
    "for spec_id, coords_list in latlons.items():\n",
    "    plant_ctrs = []\n",
    "    for coords in coords_list:\n",
    "        country = coord2country[coords]\n",
    "        plant_ctrs.append(country)\n",
    "    plant_countries[spec_id] = plant_ctrs"
   ]
  },
  {
   "cell_type": "code",
   "execution_count": 148,
   "metadata": {},
   "outputs": [],
   "source": [
    "plant_countries = {k: list(set(v)) for k, v in plant_countries.items()}"
   ]
  },
  {
   "cell_type": "markdown",
   "metadata": {},
   "source": [
    "Nominatim returns the country names in their official languages, so we need a map from official language country names to ISO codes. To do this, I used Excel to [scrape the table](https://www.analytics-tuts.com/download-tables-from-any-webpage-to-excel/) from the [Nominatim country codes wiki page](https://wiki.openstreetmap.org/wiki/Nominatim/Country_Codes), which we can use to make our conversions."
   ]
  },
  {
   "cell_type": "code",
   "execution_count": 149,
   "metadata": {},
   "outputs": [
    {
     "data": {
      "text/html": [
       "<div>\n",
       "<style scoped>\n",
       "    .dataframe tbody tr th:only-of-type {\n",
       "        vertical-align: middle;\n",
       "    }\n",
       "\n",
       "    .dataframe tbody tr th {\n",
       "        vertical-align: top;\n",
       "    }\n",
       "\n",
       "    .dataframe thead th {\n",
       "        text-align: right;\n",
       "    }\n",
       "</style>\n",
       "<table border=\"1\" class=\"dataframe\">\n",
       "  <thead>\n",
       "    <tr style=\"text-align: right;\">\n",
       "      <th></th>\n",
       "      <th>iso_alpha2</th>\n",
       "      <th>english_name</th>\n",
       "      <th>local_names</th>\n",
       "      <th>languages</th>\n",
       "    </tr>\n",
       "  </thead>\n",
       "  <tbody>\n",
       "    <tr>\n",
       "      <th>0</th>\n",
       "      <td>AD</td>\n",
       "      <td>Andorra</td>\n",
       "      <td>Andorra</td>\n",
       "      <td>ca</td>\n",
       "    </tr>\n",
       "    <tr>\n",
       "      <th>1</th>\n",
       "      <td>AE</td>\n",
       "      <td>United Arab Emirates</td>\n",
       "      <td>دولة الإمارات العربيّة المتّحدة</td>\n",
       "      <td>ar</td>\n",
       "    </tr>\n",
       "    <tr>\n",
       "      <th>2</th>\n",
       "      <td>AF</td>\n",
       "      <td>Afghanistan</td>\n",
       "      <td>د افغانستان اسلامي دولتدولت اسلامی افغانستان, ...</td>\n",
       "      <td>fa, ps</td>\n",
       "    </tr>\n",
       "    <tr>\n",
       "      <th>3</th>\n",
       "      <td>AG</td>\n",
       "      <td>Antigua and Barbuda</td>\n",
       "      <td>Antigua and Barbuda</td>\n",
       "      <td>en</td>\n",
       "    </tr>\n",
       "    <tr>\n",
       "      <th>4</th>\n",
       "      <td>AI</td>\n",
       "      <td>Anguilla</td>\n",
       "      <td>Anguilla</td>\n",
       "      <td>en</td>\n",
       "    </tr>\n",
       "  </tbody>\n",
       "</table>\n",
       "</div>"
      ],
      "text/plain": [
       "  iso_alpha2          english_name  \\\n",
       "0         AD               Andorra   \n",
       "1         AE  United Arab Emirates   \n",
       "2         AF           Afghanistan   \n",
       "3         AG   Antigua and Barbuda   \n",
       "4         AI              Anguilla   \n",
       "\n",
       "                                         local_names languages  \n",
       "0                                            Andorra        ca  \n",
       "1                    دولة الإمارات العربيّة المتّحدة        ar  \n",
       "2  د افغانستان اسلامي دولتدولت اسلامی افغانستان, ...    fa, ps  \n",
       "3                                Antigua and Barbuda        en  \n",
       "4                                           Anguilla        en  "
      ]
     },
     "execution_count": 149,
     "metadata": {},
     "output_type": "execute_result"
    }
   ],
   "source": [
    "country_info = pd.read_excel('../data/conference_data/country_info.xlsx', header=1)\n",
    "country_info = country_info.rename(columns={\n",
    "    'ISO 3166-1_x000D_\\ncountry code': 'iso_alpha2',\n",
    "    'Country name_x000D_\\n(English)': 'english_name',\n",
    "    'Country name_x000D_\\n(local)': 'local_names',\n",
    "    'Default BCP 47 language codes _x000D_\\n(usually from ISO 639-1, or ISO 639-3 otherwise)': 'languages'\n",
    "})\n",
    "country_info.head()"
   ]
  },
  {
   "cell_type": "code",
   "execution_count": 150,
   "metadata": {},
   "outputs": [],
   "source": [
    "local2alpha2 = {}\n",
    "for i, country_row in country_info.iterrows():\n",
    "    for loc_name in country_row.local_names.split(', '):\n",
    "        local2alpha2[loc_name] = country_row.iso_alpha2"
   ]
  },
  {
   "cell_type": "code",
   "execution_count": 151,
   "metadata": {},
   "outputs": [],
   "source": [
    "two2three = {pc.country_alpha3_to_country_alpha2(thr): thr for thr in country_conversions.values()}"
   ]
  },
  {
   "cell_type": "markdown",
   "metadata": {},
   "source": [
    "There are 20 countries that don't get identified by their names in the `plant_countries` dict, so we'll just manually define their mappings:"
   ]
  },
  {
   "cell_type": "code",
   "execution_count": 152,
   "metadata": {},
   "outputs": [],
   "source": [
    "missing_country_map = {\n",
    " 'Congo': 'COG',\n",
    " 'Côte d’Ivoire': 'CIV',\n",
    " 'Guinea Ecuatorial': 'GNQ',\n",
    " 'Ködörösêse tî Bêafrîka / République centrafricaine': 'CAF',\n",
    " 'Madagasikara / Madagascar': 'MDG',\n",
    " 'Moçambique': 'MOZ',\n",
    " 'Namibia': 'NAM',\n",
    " 'Panamá': 'PAN',\n",
    " 'Papua Niugini': 'PNG',\n",
    " 'Paraguay / Paraguái': 'PRY',\n",
    " 'République démocratique du Congo': 'COD',\n",
    " 'Soomaaliya الصومال': 'SOM',\n",
    " 'Tchad تشاد': 'TCD',\n",
    " 'United States': 'USA',\n",
    " 'Ελλάς': 'GRC',\n",
    " 'عمان': 'OMN',\n",
    " 'नेपाल': 'NPL',\n",
    " 'ශ්\\u200dරී ලංකාව இலங்கை': 'LKA',\n",
    " 'འབྲུགཡུལ་': 'BTN', # Not sure if this is correct\n",
    " 'ኤርትራ Eritrea إرتريا': 'ERI'\n",
    "}"
   ]
  },
  {
   "cell_type": "code",
   "execution_count": 153,
   "metadata": {},
   "outputs": [],
   "source": [
    "plant_iso = {}\n",
    "for sp_id, clist in plant_countries.items():\n",
    "    sp_iso = []\n",
    "    for c in clist:\n",
    "        try:\n",
    "            sp_iso.append(two2three[local2alpha2[c]])\n",
    "        except KeyError:\n",
    "            sp_iso.append(missing_country_map[c])\n",
    "    plant_iso[sp_id] = sp_iso"
   ]
  },
  {
   "cell_type": "markdown",
   "metadata": {},
   "source": [
    "We now want to plot the number of unique species per country, so we want to flip the dictionary that we have, in addition to replacing their alphanumeric ID's with their species names."
   ]
  },
  {
   "cell_type": "code",
   "execution_count": 154,
   "metadata": {},
   "outputs": [],
   "source": [
    "iso_spec_names = defaultdict(list)\n",
    "for sp_id, clist in plant_iso.items():\n",
    "    sp_name = spec_names[spec_names['sp_id'] == sp_id]['Species'].unique()[0]\n",
    "    for c in clist:\n",
    "        iso_spec_names[c].append(sp_name)\n",
    "iso_spec_names = {k: list(set(v)) for k, v in iso_spec_names.items()}"
   ]
  },
  {
   "cell_type": "markdown",
   "metadata": {},
   "source": [
    "Format the data into a dataframe:"
   ]
  },
  {
   "cell_type": "code",
   "execution_count": 155,
   "metadata": {
    "scrolled": true
   },
   "outputs": [
    {
     "data": {
      "text/html": [
       "<div>\n",
       "<style scoped>\n",
       "    .dataframe tbody tr th:only-of-type {\n",
       "        vertical-align: middle;\n",
       "    }\n",
       "\n",
       "    .dataframe tbody tr th {\n",
       "        vertical-align: top;\n",
       "    }\n",
       "\n",
       "    .dataframe thead th {\n",
       "        text-align: right;\n",
       "    }\n",
       "</style>\n",
       "<table border=\"1\" class=\"dataframe\">\n",
       "  <thead>\n",
       "    <tr style=\"text-align: right;\">\n",
       "      <th></th>\n",
       "      <th>iso_alpha</th>\n",
       "      <th>plant_count</th>\n",
       "    </tr>\n",
       "  </thead>\n",
       "  <tbody>\n",
       "    <tr>\n",
       "      <th>0</th>\n",
       "      <td>AUS</td>\n",
       "      <td>19</td>\n",
       "    </tr>\n",
       "    <tr>\n",
       "      <th>1</th>\n",
       "      <td>BRA</td>\n",
       "      <td>49</td>\n",
       "    </tr>\n",
       "    <tr>\n",
       "      <th>2</th>\n",
       "      <td>PER</td>\n",
       "      <td>4</td>\n",
       "    </tr>\n",
       "    <tr>\n",
       "      <th>3</th>\n",
       "      <td>BOL</td>\n",
       "      <td>10</td>\n",
       "    </tr>\n",
       "    <tr>\n",
       "      <th>4</th>\n",
       "      <td>BEN</td>\n",
       "      <td>6</td>\n",
       "    </tr>\n",
       "  </tbody>\n",
       "</table>\n",
       "</div>"
      ],
      "text/plain": [
       "  iso_alpha  plant_count\n",
       "0       AUS           19\n",
       "1       BRA           49\n",
       "2       PER            4\n",
       "3       BOL           10\n",
       "4       BEN            6"
      ]
     },
     "execution_count": 155,
     "metadata": {},
     "output_type": "execute_result"
    }
   ],
   "source": [
    "spec_counts = pd.DataFrame.from_dict({k: len(v) for k, v in iso_spec_names.items()}, orient='index', columns=['plant_count'])\n",
    "spec_counts.index = spec_counts.index.rename('iso_alpha')\n",
    "spec_counts = spec_counts.reset_index()\n",
    "spec_counts.head()"
   ]
  },
  {
   "cell_type": "code",
   "execution_count": 156,
   "metadata": {
    "scrolled": true
   },
   "outputs": [
    {
     "name": "stdout",
     "output_type": "stream",
     "text": [
      "There are 72 countries with plant counts.\n"
     ]
    }
   ],
   "source": [
    "print(f'There are {spec_counts.shape[0]} countries with plant counts.')"
   ]
  },
  {
   "cell_type": "markdown",
   "metadata": {},
   "source": [
    "Important to note is that we have 72 countries with Plant papers, and 72 countries with plant counts, but that these 72 countries are not the same; we therefore need to put 0's in the `plant_count` column for all countries that don't have counts, to make sure they aren't dropped from the analysis."
   ]
  },
  {
   "cell_type": "code",
   "execution_count": 157,
   "metadata": {
    "scrolled": false
   },
   "outputs": [
    {
     "data": {
      "text/html": [
       "<div>\n",
       "<style scoped>\n",
       "    .dataframe tbody tr th:only-of-type {\n",
       "        vertical-align: middle;\n",
       "    }\n",
       "\n",
       "    .dataframe tbody tr th {\n",
       "        vertical-align: top;\n",
       "    }\n",
       "\n",
       "    .dataframe thead th {\n",
       "        text-align: right;\n",
       "    }\n",
       "</style>\n",
       "<table border=\"1\" class=\"dataframe\">\n",
       "  <thead>\n",
       "    <tr style=\"text-align: right;\">\n",
       "      <th></th>\n",
       "      <th>iso_alpha</th>\n",
       "      <th>plant_count</th>\n",
       "    </tr>\n",
       "  </thead>\n",
       "  <tbody>\n",
       "    <tr>\n",
       "      <th>0</th>\n",
       "      <td>FJI</td>\n",
       "      <td>0.0</td>\n",
       "    </tr>\n",
       "    <tr>\n",
       "      <th>1</th>\n",
       "      <td>TZA</td>\n",
       "      <td>23.0</td>\n",
       "    </tr>\n",
       "    <tr>\n",
       "      <th>2</th>\n",
       "      <td>ESH</td>\n",
       "      <td>0.0</td>\n",
       "    </tr>\n",
       "    <tr>\n",
       "      <th>3</th>\n",
       "      <td>CAN</td>\n",
       "      <td>0.0</td>\n",
       "    </tr>\n",
       "    <tr>\n",
       "      <th>4</th>\n",
       "      <td>USA</td>\n",
       "      <td>2.0</td>\n",
       "    </tr>\n",
       "  </tbody>\n",
       "</table>\n",
       "</div>"
      ],
      "text/plain": [
       "  iso_alpha  plant_count\n",
       "0       FJI          0.0\n",
       "1       TZA         23.0\n",
       "2       ESH          0.0\n",
       "3       CAN          0.0\n",
       "4       USA          2.0"
      ]
     },
     "execution_count": 157,
     "metadata": {},
     "output_type": "execute_result"
    }
   ],
   "source": [
    "all_country_plant_counts = all_countries.merge(spec_counts, how='outer').fillna(0)\n",
    "all_country_plant_counts.head()"
   ]
  },
  {
   "cell_type": "code",
   "execution_count": 158,
   "metadata": {},
   "outputs": [
    {
     "data": {
      "text/plain": [
       "(198, 2)"
      ]
     },
     "execution_count": 158,
     "metadata": {},
     "output_type": "execute_result"
    }
   ],
   "source": [
    "all_country_plant_counts.shape"
   ]
  },
  {
   "cell_type": "markdown",
   "metadata": {},
   "source": [
    "Now we need to get the area of each country and then normalize the plant counts. Unfortunately, countries that are in the `tiny_points` dataset jsut have an area of 0, so we'll fill those in with `NaN` when the time comes."
   ]
  },
  {
   "cell_type": "code",
   "execution_count": 159,
   "metadata": {
    "scrolled": true
   },
   "outputs": [
    {
     "name": "stderr",
     "output_type": "stream",
     "text": [
      "/tmp/local/33224491/ipykernel_249811/777026806.py:2: FutureWarning:\n",
      "\n",
      "The geopandas.dataset module is deprecated and will be removed in GeoPandas 1.0. You can get the original 'naturalearth_lowres' data from https://www.naturalearthdata.com/downloads/110m-cultural-vectors/.\n",
      "\n"
     ]
    },
    {
     "data": {
      "text/html": [
       "<div>\n",
       "<style scoped>\n",
       "    .dataframe tbody tr th:only-of-type {\n",
       "        vertical-align: middle;\n",
       "    }\n",
       "\n",
       "    .dataframe tbody tr th {\n",
       "        vertical-align: top;\n",
       "    }\n",
       "\n",
       "    .dataframe thead th {\n",
       "        text-align: right;\n",
       "    }\n",
       "</style>\n",
       "<table border=\"1\" class=\"dataframe\">\n",
       "  <thead>\n",
       "    <tr style=\"text-align: right;\">\n",
       "      <th></th>\n",
       "      <th>pop_est</th>\n",
       "      <th>continent</th>\n",
       "      <th>name</th>\n",
       "      <th>iso_a3</th>\n",
       "      <th>gdp_md_est</th>\n",
       "      <th>geometry</th>\n",
       "      <th>area_km2</th>\n",
       "    </tr>\n",
       "  </thead>\n",
       "  <tbody>\n",
       "    <tr>\n",
       "      <th>0</th>\n",
       "      <td>889953.0</td>\n",
       "      <td>Oceania</td>\n",
       "      <td>Fiji</td>\n",
       "      <td>FJI</td>\n",
       "      <td>5496</td>\n",
       "      <td>MULTIPOLYGON (((7696097.606 14817308.230, 7730...</td>\n",
       "      <td>1.916776e+04</td>\n",
       "    </tr>\n",
       "    <tr>\n",
       "      <th>1</th>\n",
       "      <td>58005463.0</td>\n",
       "      <td>Africa</td>\n",
       "      <td>Tanzania</td>\n",
       "      <td>TZA</td>\n",
       "      <td>63177</td>\n",
       "      <td>POLYGON ((7252992.983 -2063289.921, 7274535.37...</td>\n",
       "      <td>9.335536e+05</td>\n",
       "    </tr>\n",
       "    <tr>\n",
       "      <th>2</th>\n",
       "      <td>603253.0</td>\n",
       "      <td>Africa</td>\n",
       "      <td>W. Sahara</td>\n",
       "      <td>ESH</td>\n",
       "      <td>907</td>\n",
       "      <td>POLYGON ((2456834.289 747015.259, 2455500.781 ...</td>\n",
       "      <td>9.586239e+04</td>\n",
       "    </tr>\n",
       "    <tr>\n",
       "      <th>3</th>\n",
       "      <td>37589262.0</td>\n",
       "      <td>North America</td>\n",
       "      <td>Canada</td>\n",
       "      <td>CAN</td>\n",
       "      <td>1736425</td>\n",
       "      <td>MULTIPOLYGON (((532141.344 9621825.205, 539625...</td>\n",
       "      <td>1.003334e+07</td>\n",
       "    </tr>\n",
       "    <tr>\n",
       "      <th>4</th>\n",
       "      <td>328239523.0</td>\n",
       "      <td>North America</td>\n",
       "      <td>United States of America</td>\n",
       "      <td>USA</td>\n",
       "      <td>21433226</td>\n",
       "      <td>MULTIPOLYGON (((532141.344 9621825.205, 385209...</td>\n",
       "      <td>9.512162e+06</td>\n",
       "    </tr>\n",
       "  </tbody>\n",
       "</table>\n",
       "</div>"
      ],
      "text/plain": [
       "       pop_est      continent                      name iso_a3  gdp_md_est  \\\n",
       "0     889953.0        Oceania                      Fiji    FJI        5496   \n",
       "1   58005463.0         Africa                  Tanzania    TZA       63177   \n",
       "2     603253.0         Africa                 W. Sahara    ESH         907   \n",
       "3   37589262.0  North America                    Canada    CAN     1736425   \n",
       "4  328239523.0  North America  United States of America    USA    21433226   \n",
       "\n",
       "                                            geometry      area_km2  \n",
       "0  MULTIPOLYGON (((7696097.606 14817308.230, 7730...  1.916776e+04  \n",
       "1  POLYGON ((7252992.983 -2063289.921, 7274535.37...  9.335536e+05  \n",
       "2  POLYGON ((2456834.289 747015.259, 2455500.781 ...  9.586239e+04  \n",
       "3  MULTIPOLYGON (((532141.344 9621825.205, 539625...  1.003334e+07  \n",
       "4  MULTIPOLYGON (((532141.344 9621825.205, 385209...  9.512162e+06  "
      ]
     },
     "execution_count": 159,
     "metadata": {},
     "output_type": "execute_result"
    }
   ],
   "source": [
    "# Code from https://gis.stackexchange.com/a/218453\n",
    "world = gpd.read_file(gpd.datasets.get_path('naturalearth_lowres'))\n",
    "world = world.to_crs(epsg=3035) # This is the right CRS according to https://stackoverflow.com/a/56789781\n",
    "world['area_km2'] = world['geometry'].area/ 10**6\n",
    "world.head()"
   ]
  },
  {
   "cell_type": "markdown",
   "metadata": {},
   "source": [
    "Merge with plant counts and normalize:"
   ]
  },
  {
   "cell_type": "code",
   "execution_count": 160,
   "metadata": {},
   "outputs": [
    {
     "data": {
      "text/html": [
       "<div>\n",
       "<style scoped>\n",
       "    .dataframe tbody tr th:only-of-type {\n",
       "        vertical-align: middle;\n",
       "    }\n",
       "\n",
       "    .dataframe tbody tr th {\n",
       "        vertical-align: top;\n",
       "    }\n",
       "\n",
       "    .dataframe thead th {\n",
       "        text-align: right;\n",
       "    }\n",
       "</style>\n",
       "<table border=\"1\" class=\"dataframe\">\n",
       "  <thead>\n",
       "    <tr style=\"text-align: right;\">\n",
       "      <th></th>\n",
       "      <th>iso_alpha</th>\n",
       "      <th>plant_count</th>\n",
       "      <th>area_km2</th>\n",
       "    </tr>\n",
       "  </thead>\n",
       "  <tbody>\n",
       "    <tr>\n",
       "      <th>0</th>\n",
       "      <td>FJI</td>\n",
       "      <td>0.0</td>\n",
       "      <td>1.916776e+04</td>\n",
       "    </tr>\n",
       "    <tr>\n",
       "      <th>1</th>\n",
       "      <td>TZA</td>\n",
       "      <td>23.0</td>\n",
       "      <td>9.335536e+05</td>\n",
       "    </tr>\n",
       "    <tr>\n",
       "      <th>2</th>\n",
       "      <td>ESH</td>\n",
       "      <td>0.0</td>\n",
       "      <td>9.586239e+04</td>\n",
       "    </tr>\n",
       "    <tr>\n",
       "      <th>3</th>\n",
       "      <td>CAN</td>\n",
       "      <td>0.0</td>\n",
       "      <td>1.003334e+07</td>\n",
       "    </tr>\n",
       "    <tr>\n",
       "      <th>4</th>\n",
       "      <td>USA</td>\n",
       "      <td>2.0</td>\n",
       "      <td>9.512162e+06</td>\n",
       "    </tr>\n",
       "  </tbody>\n",
       "</table>\n",
       "</div>"
      ],
      "text/plain": [
       "  iso_alpha  plant_count      area_km2\n",
       "0       FJI          0.0  1.916776e+04\n",
       "1       TZA         23.0  9.335536e+05\n",
       "2       ESH          0.0  9.586239e+04\n",
       "3       CAN          0.0  1.003334e+07\n",
       "4       USA          2.0  9.512162e+06"
      ]
     },
     "execution_count": 160,
     "metadata": {},
     "output_type": "execute_result"
    }
   ],
   "source": [
    "spec_counts_area = all_country_plant_counts.merge(world, left_on='iso_alpha', right_on='iso_a3', how='left').drop(columns=['pop_est', 'continent', 'name', 'iso_a3', 'gdp_md_est', 'geometry']).fillna(0)\n",
    "spec_counts_area.head()"
   ]
  },
  {
   "cell_type": "code",
   "execution_count": 161,
   "metadata": {},
   "outputs": [
    {
     "data": {
      "text/plain": [
       "(198, 3)"
      ]
     },
     "execution_count": 161,
     "metadata": {},
     "output_type": "execute_result"
    }
   ],
   "source": [
    "spec_counts_area.shape"
   ]
  },
  {
   "cell_type": "code",
   "execution_count": 162,
   "metadata": {},
   "outputs": [
    {
     "data": {
      "text/html": [
       "<div>\n",
       "<style scoped>\n",
       "    .dataframe tbody tr th:only-of-type {\n",
       "        vertical-align: middle;\n",
       "    }\n",
       "\n",
       "    .dataframe tbody tr th {\n",
       "        vertical-align: top;\n",
       "    }\n",
       "\n",
       "    .dataframe thead th {\n",
       "        text-align: right;\n",
       "    }\n",
       "</style>\n",
       "<table border=\"1\" class=\"dataframe\">\n",
       "  <thead>\n",
       "    <tr style=\"text-align: right;\">\n",
       "      <th></th>\n",
       "      <th>iso_alpha</th>\n",
       "      <th>plant_count</th>\n",
       "      <th>area_km2</th>\n",
       "      <th>normalized_plant_count</th>\n",
       "    </tr>\n",
       "  </thead>\n",
       "  <tbody>\n",
       "    <tr>\n",
       "      <th>0</th>\n",
       "      <td>FJI</td>\n",
       "      <td>0.0</td>\n",
       "      <td>1.916776e+04</td>\n",
       "      <td>0.000000e+00</td>\n",
       "    </tr>\n",
       "    <tr>\n",
       "      <th>1</th>\n",
       "      <td>TZA</td>\n",
       "      <td>23.0</td>\n",
       "      <td>9.335536e+05</td>\n",
       "      <td>2.463704e-05</td>\n",
       "    </tr>\n",
       "    <tr>\n",
       "      <th>2</th>\n",
       "      <td>ESH</td>\n",
       "      <td>0.0</td>\n",
       "      <td>9.586239e+04</td>\n",
       "      <td>0.000000e+00</td>\n",
       "    </tr>\n",
       "    <tr>\n",
       "      <th>3</th>\n",
       "      <td>CAN</td>\n",
       "      <td>0.0</td>\n",
       "      <td>1.003334e+07</td>\n",
       "      <td>0.000000e+00</td>\n",
       "    </tr>\n",
       "    <tr>\n",
       "      <th>4</th>\n",
       "      <td>USA</td>\n",
       "      <td>2.0</td>\n",
       "      <td>9.512162e+06</td>\n",
       "      <td>2.102571e-07</td>\n",
       "    </tr>\n",
       "  </tbody>\n",
       "</table>\n",
       "</div>"
      ],
      "text/plain": [
       "  iso_alpha  plant_count      area_km2  normalized_plant_count\n",
       "0       FJI          0.0  1.916776e+04            0.000000e+00\n",
       "1       TZA         23.0  9.335536e+05            2.463704e-05\n",
       "2       ESH          0.0  9.586239e+04            0.000000e+00\n",
       "3       CAN          0.0  1.003334e+07            0.000000e+00\n",
       "4       USA          2.0  9.512162e+06            2.102571e-07"
      ]
     },
     "execution_count": 162,
     "metadata": {},
     "output_type": "execute_result"
    }
   ],
   "source": [
    "spec_counts_area['normalized_plant_count'] = spec_counts_area['plant_count']/spec_counts_area['area_km2']\n",
    "spec_counts_area.head()"
   ]
  },
  {
   "cell_type": "markdown",
   "metadata": {},
   "source": [
    "Let's get a quick visual of the distribution of plants. We need to replace 0's with None to make sure that they stay grey in this visualization -- the distribution of normalized counts is so skewed that 0 doesn't look different from other light colors for low numbers."
   ]
  },
  {
   "cell_type": "code",
   "execution_count": 163,
   "metadata": {},
   "outputs": [],
   "source": [
    "spec_counts_for_viz = spec_counts_area.copy()\n",
    "spec_counts_for_viz.loc[spec_counts_for_viz['normalized_plant_count'] == 0.0, 'normalized_plant_count'] = None"
   ]
  },
  {
   "cell_type": "code",
   "execution_count": 164,
   "metadata": {
    "scrolled": false
   },
   "outputs": [
    {
     "data": {
      "application/vnd.plotly.v1+json": {
       "config": {
        "plotlyServerURL": "https://plot.ly"
       },
       "data": [
        {
         "coloraxis": "coloraxis",
         "geo": "geo",
         "hovertemplate": "iso_alpha=%{location}<br>normalized_plant_count=%{z}<extra></extra>",
         "locations": [
          "FJI",
          "TZA",
          "ESH",
          "CAN",
          "USA",
          "KAZ",
          "UZB",
          "PNG",
          "IDN",
          "ARG",
          "CHL",
          "COD",
          "SOM",
          "KEN",
          "SDN",
          "TCD",
          "HTI",
          "DOM",
          "RUS",
          "BHS",
          "FLK",
          "NOR",
          "GRL",
          "ATF",
          "TLS",
          "ZAF",
          "LSO",
          "MEX",
          "URY",
          "BRA",
          "BOL",
          "PER",
          "COL",
          "PAN",
          "CRI",
          "NIC",
          "HND",
          "SLV",
          "GTM",
          "BLZ",
          "VEN",
          "GUY",
          "SUR",
          "FRA",
          "ECU",
          "PRI",
          "JAM",
          "CUB",
          "ZWE",
          "BWA",
          "NAM",
          "SEN",
          "MLI",
          "MRT",
          "BEN",
          "NER",
          "NGA",
          "CMR",
          "TGO",
          "GHA",
          "CIV",
          "GIN",
          "GNB",
          "LBR",
          "SLE",
          "BFA",
          "CAF",
          "COG",
          "GAB",
          "GNQ",
          "ZMB",
          "MWI",
          "MOZ",
          "SWZ",
          "AGO",
          "BDI",
          "ISR",
          "LBN",
          "MDG",
          "PSE",
          "GMB",
          "TUN",
          "DZA",
          "JOR",
          "ARE",
          "QAT",
          "KWT",
          "IRQ",
          "OMN",
          "VUT",
          "KHM",
          "THA",
          "LAO",
          "MMR",
          "VNM",
          "PRK",
          "KOR",
          "MNG",
          "IND",
          "BGD",
          "BTN",
          "NPL",
          "PAK",
          "AFG",
          "TJK",
          "KGZ",
          "TKM",
          "IRN",
          "SYR",
          "ARM",
          "SWE",
          "BLR",
          "UKR",
          "POL",
          "AUT",
          "HUN",
          "MDA",
          "ROU",
          "LTU",
          "LVA",
          "EST",
          "DEU",
          "BGR",
          "GRC",
          "TUR",
          "ALB",
          "HRV",
          "CHE",
          "LUX",
          "BEL",
          "NLD",
          "PRT",
          "ESP",
          "IRL",
          "NCL",
          "SLB",
          "NZL",
          "AUS",
          "LKA",
          "CHN",
          "TWN",
          "ITA",
          "DNK",
          "GBR",
          "ISL",
          "AZE",
          "GEO",
          "PHL",
          "MYS",
          "BRN",
          "SVN",
          "FIN",
          "SVK",
          "CZE",
          "ERI",
          "JPN",
          "PRY",
          "YEM",
          "SAU",
          "ATA",
          "CYN",
          "CYP",
          "MAR",
          "EGY",
          "LBY",
          "ETH",
          "DJI",
          "SOL",
          "UGA",
          "RWA",
          "BIH",
          "MKD",
          "SRB",
          "MNE",
          "-99",
          "TTO",
          "SSD",
          "FR1",
          "GB1",
          "NZ1",
          "WSM",
          "TON",
          "BRB",
          "STP",
          "MLT",
          "BHR",
          "MDV",
          "SGP",
          "PLW",
          "US1",
          "FSM",
          "MHL",
          "KIR",
          "NRU",
          "TUV",
          "MUS",
          "COM",
          "DN1"
         ],
         "name": "",
         "type": "choropleth",
         "z": [
          null,
          2.4637042809892836e-05,
          null,
          null,
          2.1025714571100184e-07,
          null,
          null,
          2.1416688548009756e-06,
          5.502423145289074e-07,
          2.1551875581764057e-06,
          3.6860156347730198e-06,
          3.013303029495482e-06,
          8.243822709586995e-06,
          2.3736843097573022e-05,
          null,
          2.357764082566246e-06,
          null,
          null,
          null,
          null,
          null,
          null,
          null,
          null,
          null,
          1.3153169969483943e-05,
          0.00014543057959238667,
          2.030937922019901e-06,
          null,
          5.758965181380249e-06,
          9.216479515457035e-06,
          3.057403490383952e-06,
          2.6043919051972394e-06,
          1.3283746295980907e-05,
          null,
          1.544250303193098e-05,
          1.7575259010903146e-05,
          null,
          1.8260604554415455e-05,
          null,
          4.40277345844794e-06,
          9.531546681831256e-06,
          null,
          1.550740046090145e-06,
          7.976241566350813e-06,
          null,
          null,
          8.707763698110366e-06,
          3.4549801819529796e-05,
          2.1956064945924775e-05,
          1.2105845838964647e-06,
          2.0583263986655265e-05,
          3.235434941765637e-06,
          null,
          5.128852750017447e-05,
          1.6910244411801798e-06,
          6.629445489615388e-06,
          1.738150300684047e-05,
          4.9197493969883305e-05,
          2.4646217336950063e-05,
          1.5160611952186169e-05,
          8.34861215157791e-06,
          5.5172619323832676e-05,
          1.0187516436980602e-05,
          5.2650565544950164e-05,
          2.20937892947433e-05,
          1.6080255578288687e-06,
          2.94373032346711e-06,
          3.7112990826653217e-06,
          3.6845327247860555e-05,
          1.72976649331861e-05,
          7.194824946988252e-05,
          1.8484015229675364e-05,
          0.00027605600289559284,
          7.234496242866263e-06,
          7.620552800249914e-05,
          null,
          null,
          1.8671201137718275e-05,
          null,
          null,
          null,
          null,
          null,
          null,
          null,
          null,
          null,
          3.228937632074645e-06,
          null,
          null,
          3.921501811916165e-06,
          null,
          null,
          8.935622967504387e-06,
          null,
          null,
          null,
          9.545355113431605e-07,
          null,
          5.0789714573205136e-05,
          6.63591938526276e-06,
          null,
          null,
          null,
          null,
          null,
          null,
          null,
          null,
          null,
          null,
          null,
          null,
          null,
          null,
          null,
          null,
          null,
          null,
          null,
          null,
          9.073176845822284e-06,
          2.273547199939064e-05,
          null,
          null,
          null,
          null,
          null,
          null,
          null,
          null,
          1.9908093538540023e-06,
          null,
          null,
          null,
          null,
          2.472734352866243e-06,
          4.584213282091341e-05,
          9.56500054014885e-07,
          null,
          null,
          null,
          null,
          null,
          null,
          null,
          null,
          null,
          null,
          null,
          null,
          null,
          null,
          1.675815272150395e-05,
          null,
          4.990216209344717e-06,
          null,
          null,
          null,
          null,
          null,
          null,
          null,
          null,
          1.1486507067828362e-05,
          null,
          null,
          2.4425984824639547e-05,
          null,
          null,
          7.980317894752487e-05,
          2.6181788421880634e-05,
          null,
          null,
          null,
          null,
          null,
          null,
          null,
          null,
          null,
          null,
          null,
          null,
          null,
          null,
          null,
          null,
          null,
          null,
          null,
          null,
          null,
          null,
          null,
          null,
          null
         ]
        }
       ],
       "layout": {
        "coloraxis": {
         "colorbar": {
          "title": {
           "text": "normalized_plant_count"
          }
         },
         "colorscale": [
          [
           0,
           "rgb(214, 249, 207)"
          ],
          [
           0.09090909090909091,
           "rgb(186, 228, 174)"
          ],
          [
           0.18181818181818182,
           "rgb(156, 209, 143)"
          ],
          [
           0.2727272727272727,
           "rgb(124, 191, 115)"
          ],
          [
           0.36363636363636365,
           "rgb(85, 174, 91)"
          ],
          [
           0.45454545454545453,
           "rgb(37, 157, 81)"
          ],
          [
           0.5454545454545454,
           "rgb(7, 138, 78)"
          ],
          [
           0.6363636363636364,
           "rgb(13, 117, 71)"
          ],
          [
           0.7272727272727273,
           "rgb(23, 95, 61)"
          ],
          [
           0.8181818181818182,
           "rgb(25, 75, 49)"
          ],
          [
           0.9090909090909091,
           "rgb(23, 55, 35)"
          ],
          [
           1,
           "rgb(17, 36, 20)"
          ]
         ]
        },
        "geo": {
         "center": {},
         "domain": {
          "x": [
           0,
           1
          ],
          "y": [
           0,
           1
          ]
         }
        },
        "legend": {
         "tracegroupgap": 0
        },
        "margin": {
         "t": 60
        },
        "template": {
         "data": {
          "bar": [
           {
            "error_x": {
             "color": "#2a3f5f"
            },
            "error_y": {
             "color": "#2a3f5f"
            },
            "marker": {
             "line": {
              "color": "#E5ECF6",
              "width": 0.5
             },
             "pattern": {
              "fillmode": "overlay",
              "size": 10,
              "solidity": 0.2
             }
            },
            "type": "bar"
           }
          ],
          "barpolar": [
           {
            "marker": {
             "line": {
              "color": "#E5ECF6",
              "width": 0.5
             },
             "pattern": {
              "fillmode": "overlay",
              "size": 10,
              "solidity": 0.2
             }
            },
            "type": "barpolar"
           }
          ],
          "carpet": [
           {
            "aaxis": {
             "endlinecolor": "#2a3f5f",
             "gridcolor": "white",
             "linecolor": "white",
             "minorgridcolor": "white",
             "startlinecolor": "#2a3f5f"
            },
            "baxis": {
             "endlinecolor": "#2a3f5f",
             "gridcolor": "white",
             "linecolor": "white",
             "minorgridcolor": "white",
             "startlinecolor": "#2a3f5f"
            },
            "type": "carpet"
           }
          ],
          "choropleth": [
           {
            "colorbar": {
             "outlinewidth": 0,
             "ticks": ""
            },
            "type": "choropleth"
           }
          ],
          "contour": [
           {
            "colorbar": {
             "outlinewidth": 0,
             "ticks": ""
            },
            "colorscale": [
             [
              0,
              "#0d0887"
             ],
             [
              0.1111111111111111,
              "#46039f"
             ],
             [
              0.2222222222222222,
              "#7201a8"
             ],
             [
              0.3333333333333333,
              "#9c179e"
             ],
             [
              0.4444444444444444,
              "#bd3786"
             ],
             [
              0.5555555555555556,
              "#d8576b"
             ],
             [
              0.6666666666666666,
              "#ed7953"
             ],
             [
              0.7777777777777778,
              "#fb9f3a"
             ],
             [
              0.8888888888888888,
              "#fdca26"
             ],
             [
              1,
              "#f0f921"
             ]
            ],
            "type": "contour"
           }
          ],
          "contourcarpet": [
           {
            "colorbar": {
             "outlinewidth": 0,
             "ticks": ""
            },
            "type": "contourcarpet"
           }
          ],
          "heatmap": [
           {
            "colorbar": {
             "outlinewidth": 0,
             "ticks": ""
            },
            "colorscale": [
             [
              0,
              "#0d0887"
             ],
             [
              0.1111111111111111,
              "#46039f"
             ],
             [
              0.2222222222222222,
              "#7201a8"
             ],
             [
              0.3333333333333333,
              "#9c179e"
             ],
             [
              0.4444444444444444,
              "#bd3786"
             ],
             [
              0.5555555555555556,
              "#d8576b"
             ],
             [
              0.6666666666666666,
              "#ed7953"
             ],
             [
              0.7777777777777778,
              "#fb9f3a"
             ],
             [
              0.8888888888888888,
              "#fdca26"
             ],
             [
              1,
              "#f0f921"
             ]
            ],
            "type": "heatmap"
           }
          ],
          "heatmapgl": [
           {
            "colorbar": {
             "outlinewidth": 0,
             "ticks": ""
            },
            "colorscale": [
             [
              0,
              "#0d0887"
             ],
             [
              0.1111111111111111,
              "#46039f"
             ],
             [
              0.2222222222222222,
              "#7201a8"
             ],
             [
              0.3333333333333333,
              "#9c179e"
             ],
             [
              0.4444444444444444,
              "#bd3786"
             ],
             [
              0.5555555555555556,
              "#d8576b"
             ],
             [
              0.6666666666666666,
              "#ed7953"
             ],
             [
              0.7777777777777778,
              "#fb9f3a"
             ],
             [
              0.8888888888888888,
              "#fdca26"
             ],
             [
              1,
              "#f0f921"
             ]
            ],
            "type": "heatmapgl"
           }
          ],
          "histogram": [
           {
            "marker": {
             "pattern": {
              "fillmode": "overlay",
              "size": 10,
              "solidity": 0.2
             }
            },
            "type": "histogram"
           }
          ],
          "histogram2d": [
           {
            "colorbar": {
             "outlinewidth": 0,
             "ticks": ""
            },
            "colorscale": [
             [
              0,
              "#0d0887"
             ],
             [
              0.1111111111111111,
              "#46039f"
             ],
             [
              0.2222222222222222,
              "#7201a8"
             ],
             [
              0.3333333333333333,
              "#9c179e"
             ],
             [
              0.4444444444444444,
              "#bd3786"
             ],
             [
              0.5555555555555556,
              "#d8576b"
             ],
             [
              0.6666666666666666,
              "#ed7953"
             ],
             [
              0.7777777777777778,
              "#fb9f3a"
             ],
             [
              0.8888888888888888,
              "#fdca26"
             ],
             [
              1,
              "#f0f921"
             ]
            ],
            "type": "histogram2d"
           }
          ],
          "histogram2dcontour": [
           {
            "colorbar": {
             "outlinewidth": 0,
             "ticks": ""
            },
            "colorscale": [
             [
              0,
              "#0d0887"
             ],
             [
              0.1111111111111111,
              "#46039f"
             ],
             [
              0.2222222222222222,
              "#7201a8"
             ],
             [
              0.3333333333333333,
              "#9c179e"
             ],
             [
              0.4444444444444444,
              "#bd3786"
             ],
             [
              0.5555555555555556,
              "#d8576b"
             ],
             [
              0.6666666666666666,
              "#ed7953"
             ],
             [
              0.7777777777777778,
              "#fb9f3a"
             ],
             [
              0.8888888888888888,
              "#fdca26"
             ],
             [
              1,
              "#f0f921"
             ]
            ],
            "type": "histogram2dcontour"
           }
          ],
          "mesh3d": [
           {
            "colorbar": {
             "outlinewidth": 0,
             "ticks": ""
            },
            "type": "mesh3d"
           }
          ],
          "parcoords": [
           {
            "line": {
             "colorbar": {
              "outlinewidth": 0,
              "ticks": ""
             }
            },
            "type": "parcoords"
           }
          ],
          "pie": [
           {
            "automargin": true,
            "type": "pie"
           }
          ],
          "scatter": [
           {
            "fillpattern": {
             "fillmode": "overlay",
             "size": 10,
             "solidity": 0.2
            },
            "type": "scatter"
           }
          ],
          "scatter3d": [
           {
            "line": {
             "colorbar": {
              "outlinewidth": 0,
              "ticks": ""
             }
            },
            "marker": {
             "colorbar": {
              "outlinewidth": 0,
              "ticks": ""
             }
            },
            "type": "scatter3d"
           }
          ],
          "scattercarpet": [
           {
            "marker": {
             "colorbar": {
              "outlinewidth": 0,
              "ticks": ""
             }
            },
            "type": "scattercarpet"
           }
          ],
          "scattergeo": [
           {
            "marker": {
             "colorbar": {
              "outlinewidth": 0,
              "ticks": ""
             }
            },
            "type": "scattergeo"
           }
          ],
          "scattergl": [
           {
            "marker": {
             "colorbar": {
              "outlinewidth": 0,
              "ticks": ""
             }
            },
            "type": "scattergl"
           }
          ],
          "scattermapbox": [
           {
            "marker": {
             "colorbar": {
              "outlinewidth": 0,
              "ticks": ""
             }
            },
            "type": "scattermapbox"
           }
          ],
          "scatterpolar": [
           {
            "marker": {
             "colorbar": {
              "outlinewidth": 0,
              "ticks": ""
             }
            },
            "type": "scatterpolar"
           }
          ],
          "scatterpolargl": [
           {
            "marker": {
             "colorbar": {
              "outlinewidth": 0,
              "ticks": ""
             }
            },
            "type": "scatterpolargl"
           }
          ],
          "scatterternary": [
           {
            "marker": {
             "colorbar": {
              "outlinewidth": 0,
              "ticks": ""
             }
            },
            "type": "scatterternary"
           }
          ],
          "surface": [
           {
            "colorbar": {
             "outlinewidth": 0,
             "ticks": ""
            },
            "colorscale": [
             [
              0,
              "#0d0887"
             ],
             [
              0.1111111111111111,
              "#46039f"
             ],
             [
              0.2222222222222222,
              "#7201a8"
             ],
             [
              0.3333333333333333,
              "#9c179e"
             ],
             [
              0.4444444444444444,
              "#bd3786"
             ],
             [
              0.5555555555555556,
              "#d8576b"
             ],
             [
              0.6666666666666666,
              "#ed7953"
             ],
             [
              0.7777777777777778,
              "#fb9f3a"
             ],
             [
              0.8888888888888888,
              "#fdca26"
             ],
             [
              1,
              "#f0f921"
             ]
            ],
            "type": "surface"
           }
          ],
          "table": [
           {
            "cells": {
             "fill": {
              "color": "#EBF0F8"
             },
             "line": {
              "color": "white"
             }
            },
            "header": {
             "fill": {
              "color": "#C8D4E3"
             },
             "line": {
              "color": "white"
             }
            },
            "type": "table"
           }
          ]
         },
         "layout": {
          "annotationdefaults": {
           "arrowcolor": "#2a3f5f",
           "arrowhead": 0,
           "arrowwidth": 1
          },
          "autotypenumbers": "strict",
          "coloraxis": {
           "colorbar": {
            "outlinewidth": 0,
            "ticks": ""
           }
          },
          "colorscale": {
           "diverging": [
            [
             0,
             "#8e0152"
            ],
            [
             0.1,
             "#c51b7d"
            ],
            [
             0.2,
             "#de77ae"
            ],
            [
             0.3,
             "#f1b6da"
            ],
            [
             0.4,
             "#fde0ef"
            ],
            [
             0.5,
             "#f7f7f7"
            ],
            [
             0.6,
             "#e6f5d0"
            ],
            [
             0.7,
             "#b8e186"
            ],
            [
             0.8,
             "#7fbc41"
            ],
            [
             0.9,
             "#4d9221"
            ],
            [
             1,
             "#276419"
            ]
           ],
           "sequential": [
            [
             0,
             "#0d0887"
            ],
            [
             0.1111111111111111,
             "#46039f"
            ],
            [
             0.2222222222222222,
             "#7201a8"
            ],
            [
             0.3333333333333333,
             "#9c179e"
            ],
            [
             0.4444444444444444,
             "#bd3786"
            ],
            [
             0.5555555555555556,
             "#d8576b"
            ],
            [
             0.6666666666666666,
             "#ed7953"
            ],
            [
             0.7777777777777778,
             "#fb9f3a"
            ],
            [
             0.8888888888888888,
             "#fdca26"
            ],
            [
             1,
             "#f0f921"
            ]
           ],
           "sequentialminus": [
            [
             0,
             "#0d0887"
            ],
            [
             0.1111111111111111,
             "#46039f"
            ],
            [
             0.2222222222222222,
             "#7201a8"
            ],
            [
             0.3333333333333333,
             "#9c179e"
            ],
            [
             0.4444444444444444,
             "#bd3786"
            ],
            [
             0.5555555555555556,
             "#d8576b"
            ],
            [
             0.6666666666666666,
             "#ed7953"
            ],
            [
             0.7777777777777778,
             "#fb9f3a"
            ],
            [
             0.8888888888888888,
             "#fdca26"
            ],
            [
             1,
             "#f0f921"
            ]
           ]
          },
          "colorway": [
           "#636efa",
           "#EF553B",
           "#00cc96",
           "#ab63fa",
           "#FFA15A",
           "#19d3f3",
           "#FF6692",
           "#B6E880",
           "#FF97FF",
           "#FECB52"
          ],
          "font": {
           "color": "#2a3f5f"
          },
          "geo": {
           "bgcolor": "white",
           "lakecolor": "white",
           "landcolor": "#E5ECF6",
           "showlakes": true,
           "showland": true,
           "subunitcolor": "white"
          },
          "hoverlabel": {
           "align": "left"
          },
          "hovermode": "closest",
          "mapbox": {
           "style": "light"
          },
          "paper_bgcolor": "white",
          "plot_bgcolor": "#E5ECF6",
          "polar": {
           "angularaxis": {
            "gridcolor": "white",
            "linecolor": "white",
            "ticks": ""
           },
           "bgcolor": "#E5ECF6",
           "radialaxis": {
            "gridcolor": "white",
            "linecolor": "white",
            "ticks": ""
           }
          },
          "scene": {
           "xaxis": {
            "backgroundcolor": "#E5ECF6",
            "gridcolor": "white",
            "gridwidth": 2,
            "linecolor": "white",
            "showbackground": true,
            "ticks": "",
            "zerolinecolor": "white"
           },
           "yaxis": {
            "backgroundcolor": "#E5ECF6",
            "gridcolor": "white",
            "gridwidth": 2,
            "linecolor": "white",
            "showbackground": true,
            "ticks": "",
            "zerolinecolor": "white"
           },
           "zaxis": {
            "backgroundcolor": "#E5ECF6",
            "gridcolor": "white",
            "gridwidth": 2,
            "linecolor": "white",
            "showbackground": true,
            "ticks": "",
            "zerolinecolor": "white"
           }
          },
          "shapedefaults": {
           "line": {
            "color": "#2a3f5f"
           }
          },
          "ternary": {
           "aaxis": {
            "gridcolor": "white",
            "linecolor": "white",
            "ticks": ""
           },
           "baxis": {
            "gridcolor": "white",
            "linecolor": "white",
            "ticks": ""
           },
           "bgcolor": "#E5ECF6",
           "caxis": {
            "gridcolor": "white",
            "linecolor": "white",
            "ticks": ""
           }
          },
          "title": {
           "x": 0.05
          },
          "xaxis": {
           "automargin": true,
           "gridcolor": "white",
           "linecolor": "white",
           "ticks": "",
           "title": {
            "standoff": 15
           },
           "zerolinecolor": "white",
           "zerolinewidth": 2
          },
          "yaxis": {
           "automargin": true,
           "gridcolor": "white",
           "linecolor": "white",
           "ticks": "",
           "title": {
            "standoff": 15
           },
           "zerolinecolor": "white",
           "zerolinewidth": 2
          }
         }
        }
       }
      },
      "text/html": [
       "<div>                            <div id=\"134812b9-93e6-4006-a4cd-9971ea86e3e9\" class=\"plotly-graph-div\" style=\"height:525px; width:100%;\"></div>            <script type=\"text/javascript\">                require([\"plotly\"], function(Plotly) {                    window.PLOTLYENV=window.PLOTLYENV || {};                                    if (document.getElementById(\"134812b9-93e6-4006-a4cd-9971ea86e3e9\")) {                    Plotly.newPlot(                        \"134812b9-93e6-4006-a4cd-9971ea86e3e9\",                        [{\"coloraxis\":\"coloraxis\",\"geo\":\"geo\",\"hovertemplate\":\"iso_alpha=%{location}\\u003cbr\\u003enormalized_plant_count=%{z}\\u003cextra\\u003e\\u003c\\u002fextra\\u003e\",\"locations\":[\"FJI\",\"TZA\",\"ESH\",\"CAN\",\"USA\",\"KAZ\",\"UZB\",\"PNG\",\"IDN\",\"ARG\",\"CHL\",\"COD\",\"SOM\",\"KEN\",\"SDN\",\"TCD\",\"HTI\",\"DOM\",\"RUS\",\"BHS\",\"FLK\",\"NOR\",\"GRL\",\"ATF\",\"TLS\",\"ZAF\",\"LSO\",\"MEX\",\"URY\",\"BRA\",\"BOL\",\"PER\",\"COL\",\"PAN\",\"CRI\",\"NIC\",\"HND\",\"SLV\",\"GTM\",\"BLZ\",\"VEN\",\"GUY\",\"SUR\",\"FRA\",\"ECU\",\"PRI\",\"JAM\",\"CUB\",\"ZWE\",\"BWA\",\"NAM\",\"SEN\",\"MLI\",\"MRT\",\"BEN\",\"NER\",\"NGA\",\"CMR\",\"TGO\",\"GHA\",\"CIV\",\"GIN\",\"GNB\",\"LBR\",\"SLE\",\"BFA\",\"CAF\",\"COG\",\"GAB\",\"GNQ\",\"ZMB\",\"MWI\",\"MOZ\",\"SWZ\",\"AGO\",\"BDI\",\"ISR\",\"LBN\",\"MDG\",\"PSE\",\"GMB\",\"TUN\",\"DZA\",\"JOR\",\"ARE\",\"QAT\",\"KWT\",\"IRQ\",\"OMN\",\"VUT\",\"KHM\",\"THA\",\"LAO\",\"MMR\",\"VNM\",\"PRK\",\"KOR\",\"MNG\",\"IND\",\"BGD\",\"BTN\",\"NPL\",\"PAK\",\"AFG\",\"TJK\",\"KGZ\",\"TKM\",\"IRN\",\"SYR\",\"ARM\",\"SWE\",\"BLR\",\"UKR\",\"POL\",\"AUT\",\"HUN\",\"MDA\",\"ROU\",\"LTU\",\"LVA\",\"EST\",\"DEU\",\"BGR\",\"GRC\",\"TUR\",\"ALB\",\"HRV\",\"CHE\",\"LUX\",\"BEL\",\"NLD\",\"PRT\",\"ESP\",\"IRL\",\"NCL\",\"SLB\",\"NZL\",\"AUS\",\"LKA\",\"CHN\",\"TWN\",\"ITA\",\"DNK\",\"GBR\",\"ISL\",\"AZE\",\"GEO\",\"PHL\",\"MYS\",\"BRN\",\"SVN\",\"FIN\",\"SVK\",\"CZE\",\"ERI\",\"JPN\",\"PRY\",\"YEM\",\"SAU\",\"ATA\",\"CYN\",\"CYP\",\"MAR\",\"EGY\",\"LBY\",\"ETH\",\"DJI\",\"SOL\",\"UGA\",\"RWA\",\"BIH\",\"MKD\",\"SRB\",\"MNE\",\"-99\",\"TTO\",\"SSD\",\"FR1\",\"GB1\",\"NZ1\",\"WSM\",\"TON\",\"BRB\",\"STP\",\"MLT\",\"BHR\",\"MDV\",\"SGP\",\"PLW\",\"US1\",\"FSM\",\"MHL\",\"KIR\",\"NRU\",\"TUV\",\"MUS\",\"COM\",\"DN1\"],\"name\":\"\",\"z\":[null,2.4637042809892836e-05,null,null,2.1025714571100184e-07,null,null,2.1416688548009756e-06,5.502423145289074e-07,2.1551875581764057e-06,3.6860156347730198e-06,3.013303029495482e-06,8.243822709586995e-06,2.3736843097573022e-05,null,2.357764082566246e-06,null,null,null,null,null,null,null,null,null,1.3153169969483943e-05,0.00014543057959238667,2.030937922019901e-06,null,5.758965181380249e-06,9.216479515457035e-06,3.057403490383952e-06,2.6043919051972394e-06,1.3283746295980907e-05,null,1.544250303193098e-05,1.7575259010903146e-05,null,1.8260604554415455e-05,null,4.40277345844794e-06,9.531546681831256e-06,null,1.550740046090145e-06,7.976241566350813e-06,null,null,8.707763698110366e-06,3.4549801819529796e-05,2.1956064945924775e-05,1.2105845838964647e-06,2.0583263986655265e-05,3.235434941765637e-06,null,5.128852750017447e-05,1.6910244411801798e-06,6.629445489615388e-06,1.738150300684047e-05,4.9197493969883305e-05,2.4646217336950063e-05,1.5160611952186169e-05,8.34861215157791e-06,5.5172619323832676e-05,1.0187516436980602e-05,5.2650565544950164e-05,2.20937892947433e-05,1.6080255578288687e-06,2.94373032346711e-06,3.7112990826653217e-06,3.6845327247860555e-05,1.72976649331861e-05,7.194824946988252e-05,1.8484015229675364e-05,0.00027605600289559284,7.234496242866263e-06,7.620552800249914e-05,null,null,1.8671201137718275e-05,null,null,null,null,null,null,null,null,null,3.228937632074645e-06,null,null,3.921501811916165e-06,null,null,8.935622967504387e-06,null,null,null,9.545355113431605e-07,null,5.0789714573205136e-05,6.63591938526276e-06,null,null,null,null,null,null,null,null,null,null,null,null,null,null,null,null,null,null,null,null,9.073176845822284e-06,2.273547199939064e-05,null,null,null,null,null,null,null,null,1.9908093538540023e-06,null,null,null,null,2.472734352866243e-06,4.584213282091341e-05,9.56500054014885e-07,null,null,null,null,null,null,null,null,null,null,null,null,null,null,1.675815272150395e-05,null,4.990216209344717e-06,null,null,null,null,null,null,null,null,1.1486507067828362e-05,null,null,2.4425984824639547e-05,null,null,7.980317894752487e-05,2.6181788421880634e-05,null,null,null,null,null,null,null,null,null,null,null,null,null,null,null,null,null,null,null,null,null,null,null,null,null],\"type\":\"choropleth\"}],                        {\"template\":{\"data\":{\"histogram2dcontour\":[{\"type\":\"histogram2dcontour\",\"colorbar\":{\"outlinewidth\":0,\"ticks\":\"\"},\"colorscale\":[[0.0,\"#0d0887\"],[0.1111111111111111,\"#46039f\"],[0.2222222222222222,\"#7201a8\"],[0.3333333333333333,\"#9c179e\"],[0.4444444444444444,\"#bd3786\"],[0.5555555555555556,\"#d8576b\"],[0.6666666666666666,\"#ed7953\"],[0.7777777777777778,\"#fb9f3a\"],[0.8888888888888888,\"#fdca26\"],[1.0,\"#f0f921\"]]}],\"choropleth\":[{\"type\":\"choropleth\",\"colorbar\":{\"outlinewidth\":0,\"ticks\":\"\"}}],\"histogram2d\":[{\"type\":\"histogram2d\",\"colorbar\":{\"outlinewidth\":0,\"ticks\":\"\"},\"colorscale\":[[0.0,\"#0d0887\"],[0.1111111111111111,\"#46039f\"],[0.2222222222222222,\"#7201a8\"],[0.3333333333333333,\"#9c179e\"],[0.4444444444444444,\"#bd3786\"],[0.5555555555555556,\"#d8576b\"],[0.6666666666666666,\"#ed7953\"],[0.7777777777777778,\"#fb9f3a\"],[0.8888888888888888,\"#fdca26\"],[1.0,\"#f0f921\"]]}],\"heatmap\":[{\"type\":\"heatmap\",\"colorbar\":{\"outlinewidth\":0,\"ticks\":\"\"},\"colorscale\":[[0.0,\"#0d0887\"],[0.1111111111111111,\"#46039f\"],[0.2222222222222222,\"#7201a8\"],[0.3333333333333333,\"#9c179e\"],[0.4444444444444444,\"#bd3786\"],[0.5555555555555556,\"#d8576b\"],[0.6666666666666666,\"#ed7953\"],[0.7777777777777778,\"#fb9f3a\"],[0.8888888888888888,\"#fdca26\"],[1.0,\"#f0f921\"]]}],\"heatmapgl\":[{\"type\":\"heatmapgl\",\"colorbar\":{\"outlinewidth\":0,\"ticks\":\"\"},\"colorscale\":[[0.0,\"#0d0887\"],[0.1111111111111111,\"#46039f\"],[0.2222222222222222,\"#7201a8\"],[0.3333333333333333,\"#9c179e\"],[0.4444444444444444,\"#bd3786\"],[0.5555555555555556,\"#d8576b\"],[0.6666666666666666,\"#ed7953\"],[0.7777777777777778,\"#fb9f3a\"],[0.8888888888888888,\"#fdca26\"],[1.0,\"#f0f921\"]]}],\"contourcarpet\":[{\"type\":\"contourcarpet\",\"colorbar\":{\"outlinewidth\":0,\"ticks\":\"\"}}],\"contour\":[{\"type\":\"contour\",\"colorbar\":{\"outlinewidth\":0,\"ticks\":\"\"},\"colorscale\":[[0.0,\"#0d0887\"],[0.1111111111111111,\"#46039f\"],[0.2222222222222222,\"#7201a8\"],[0.3333333333333333,\"#9c179e\"],[0.4444444444444444,\"#bd3786\"],[0.5555555555555556,\"#d8576b\"],[0.6666666666666666,\"#ed7953\"],[0.7777777777777778,\"#fb9f3a\"],[0.8888888888888888,\"#fdca26\"],[1.0,\"#f0f921\"]]}],\"surface\":[{\"type\":\"surface\",\"colorbar\":{\"outlinewidth\":0,\"ticks\":\"\"},\"colorscale\":[[0.0,\"#0d0887\"],[0.1111111111111111,\"#46039f\"],[0.2222222222222222,\"#7201a8\"],[0.3333333333333333,\"#9c179e\"],[0.4444444444444444,\"#bd3786\"],[0.5555555555555556,\"#d8576b\"],[0.6666666666666666,\"#ed7953\"],[0.7777777777777778,\"#fb9f3a\"],[0.8888888888888888,\"#fdca26\"],[1.0,\"#f0f921\"]]}],\"mesh3d\":[{\"type\":\"mesh3d\",\"colorbar\":{\"outlinewidth\":0,\"ticks\":\"\"}}],\"scatter\":[{\"fillpattern\":{\"fillmode\":\"overlay\",\"size\":10,\"solidity\":0.2},\"type\":\"scatter\"}],\"parcoords\":[{\"type\":\"parcoords\",\"line\":{\"colorbar\":{\"outlinewidth\":0,\"ticks\":\"\"}}}],\"scatterpolargl\":[{\"type\":\"scatterpolargl\",\"marker\":{\"colorbar\":{\"outlinewidth\":0,\"ticks\":\"\"}}}],\"bar\":[{\"error_x\":{\"color\":\"#2a3f5f\"},\"error_y\":{\"color\":\"#2a3f5f\"},\"marker\":{\"line\":{\"color\":\"#E5ECF6\",\"width\":0.5},\"pattern\":{\"fillmode\":\"overlay\",\"size\":10,\"solidity\":0.2}},\"type\":\"bar\"}],\"scattergeo\":[{\"type\":\"scattergeo\",\"marker\":{\"colorbar\":{\"outlinewidth\":0,\"ticks\":\"\"}}}],\"scatterpolar\":[{\"type\":\"scatterpolar\",\"marker\":{\"colorbar\":{\"outlinewidth\":0,\"ticks\":\"\"}}}],\"histogram\":[{\"marker\":{\"pattern\":{\"fillmode\":\"overlay\",\"size\":10,\"solidity\":0.2}},\"type\":\"histogram\"}],\"scattergl\":[{\"type\":\"scattergl\",\"marker\":{\"colorbar\":{\"outlinewidth\":0,\"ticks\":\"\"}}}],\"scatter3d\":[{\"type\":\"scatter3d\",\"line\":{\"colorbar\":{\"outlinewidth\":0,\"ticks\":\"\"}},\"marker\":{\"colorbar\":{\"outlinewidth\":0,\"ticks\":\"\"}}}],\"scattermapbox\":[{\"type\":\"scattermapbox\",\"marker\":{\"colorbar\":{\"outlinewidth\":0,\"ticks\":\"\"}}}],\"scatterternary\":[{\"type\":\"scatterternary\",\"marker\":{\"colorbar\":{\"outlinewidth\":0,\"ticks\":\"\"}}}],\"scattercarpet\":[{\"type\":\"scattercarpet\",\"marker\":{\"colorbar\":{\"outlinewidth\":0,\"ticks\":\"\"}}}],\"carpet\":[{\"aaxis\":{\"endlinecolor\":\"#2a3f5f\",\"gridcolor\":\"white\",\"linecolor\":\"white\",\"minorgridcolor\":\"white\",\"startlinecolor\":\"#2a3f5f\"},\"baxis\":{\"endlinecolor\":\"#2a3f5f\",\"gridcolor\":\"white\",\"linecolor\":\"white\",\"minorgridcolor\":\"white\",\"startlinecolor\":\"#2a3f5f\"},\"type\":\"carpet\"}],\"table\":[{\"cells\":{\"fill\":{\"color\":\"#EBF0F8\"},\"line\":{\"color\":\"white\"}},\"header\":{\"fill\":{\"color\":\"#C8D4E3\"},\"line\":{\"color\":\"white\"}},\"type\":\"table\"}],\"barpolar\":[{\"marker\":{\"line\":{\"color\":\"#E5ECF6\",\"width\":0.5},\"pattern\":{\"fillmode\":\"overlay\",\"size\":10,\"solidity\":0.2}},\"type\":\"barpolar\"}],\"pie\":[{\"automargin\":true,\"type\":\"pie\"}]},\"layout\":{\"autotypenumbers\":\"strict\",\"colorway\":[\"#636efa\",\"#EF553B\",\"#00cc96\",\"#ab63fa\",\"#FFA15A\",\"#19d3f3\",\"#FF6692\",\"#B6E880\",\"#FF97FF\",\"#FECB52\"],\"font\":{\"color\":\"#2a3f5f\"},\"hovermode\":\"closest\",\"hoverlabel\":{\"align\":\"left\"},\"paper_bgcolor\":\"white\",\"plot_bgcolor\":\"#E5ECF6\",\"polar\":{\"bgcolor\":\"#E5ECF6\",\"angularaxis\":{\"gridcolor\":\"white\",\"linecolor\":\"white\",\"ticks\":\"\"},\"radialaxis\":{\"gridcolor\":\"white\",\"linecolor\":\"white\",\"ticks\":\"\"}},\"ternary\":{\"bgcolor\":\"#E5ECF6\",\"aaxis\":{\"gridcolor\":\"white\",\"linecolor\":\"white\",\"ticks\":\"\"},\"baxis\":{\"gridcolor\":\"white\",\"linecolor\":\"white\",\"ticks\":\"\"},\"caxis\":{\"gridcolor\":\"white\",\"linecolor\":\"white\",\"ticks\":\"\"}},\"coloraxis\":{\"colorbar\":{\"outlinewidth\":0,\"ticks\":\"\"}},\"colorscale\":{\"sequential\":[[0.0,\"#0d0887\"],[0.1111111111111111,\"#46039f\"],[0.2222222222222222,\"#7201a8\"],[0.3333333333333333,\"#9c179e\"],[0.4444444444444444,\"#bd3786\"],[0.5555555555555556,\"#d8576b\"],[0.6666666666666666,\"#ed7953\"],[0.7777777777777778,\"#fb9f3a\"],[0.8888888888888888,\"#fdca26\"],[1.0,\"#f0f921\"]],\"sequentialminus\":[[0.0,\"#0d0887\"],[0.1111111111111111,\"#46039f\"],[0.2222222222222222,\"#7201a8\"],[0.3333333333333333,\"#9c179e\"],[0.4444444444444444,\"#bd3786\"],[0.5555555555555556,\"#d8576b\"],[0.6666666666666666,\"#ed7953\"],[0.7777777777777778,\"#fb9f3a\"],[0.8888888888888888,\"#fdca26\"],[1.0,\"#f0f921\"]],\"diverging\":[[0,\"#8e0152\"],[0.1,\"#c51b7d\"],[0.2,\"#de77ae\"],[0.3,\"#f1b6da\"],[0.4,\"#fde0ef\"],[0.5,\"#f7f7f7\"],[0.6,\"#e6f5d0\"],[0.7,\"#b8e186\"],[0.8,\"#7fbc41\"],[0.9,\"#4d9221\"],[1,\"#276419\"]]},\"xaxis\":{\"gridcolor\":\"white\",\"linecolor\":\"white\",\"ticks\":\"\",\"title\":{\"standoff\":15},\"zerolinecolor\":\"white\",\"automargin\":true,\"zerolinewidth\":2},\"yaxis\":{\"gridcolor\":\"white\",\"linecolor\":\"white\",\"ticks\":\"\",\"title\":{\"standoff\":15},\"zerolinecolor\":\"white\",\"automargin\":true,\"zerolinewidth\":2},\"scene\":{\"xaxis\":{\"backgroundcolor\":\"#E5ECF6\",\"gridcolor\":\"white\",\"linecolor\":\"white\",\"showbackground\":true,\"ticks\":\"\",\"zerolinecolor\":\"white\",\"gridwidth\":2},\"yaxis\":{\"backgroundcolor\":\"#E5ECF6\",\"gridcolor\":\"white\",\"linecolor\":\"white\",\"showbackground\":true,\"ticks\":\"\",\"zerolinecolor\":\"white\",\"gridwidth\":2},\"zaxis\":{\"backgroundcolor\":\"#E5ECF6\",\"gridcolor\":\"white\",\"linecolor\":\"white\",\"showbackground\":true,\"ticks\":\"\",\"zerolinecolor\":\"white\",\"gridwidth\":2}},\"shapedefaults\":{\"line\":{\"color\":\"#2a3f5f\"}},\"annotationdefaults\":{\"arrowcolor\":\"#2a3f5f\",\"arrowhead\":0,\"arrowwidth\":1},\"geo\":{\"bgcolor\":\"white\",\"landcolor\":\"#E5ECF6\",\"subunitcolor\":\"white\",\"showland\":true,\"showlakes\":true,\"lakecolor\":\"white\"},\"title\":{\"x\":0.05},\"mapbox\":{\"style\":\"light\"}}},\"geo\":{\"domain\":{\"x\":[0.0,1.0],\"y\":[0.0,1.0]},\"center\":{}},\"coloraxis\":{\"colorbar\":{\"title\":{\"text\":\"normalized_plant_count\"}},\"colorscale\":[[0.0,\"rgb(214, 249, 207)\"],[0.09090909090909091,\"rgb(186, 228, 174)\"],[0.18181818181818182,\"rgb(156, 209, 143)\"],[0.2727272727272727,\"rgb(124, 191, 115)\"],[0.36363636363636365,\"rgb(85, 174, 91)\"],[0.45454545454545453,\"rgb(37, 157, 81)\"],[0.5454545454545454,\"rgb(7, 138, 78)\"],[0.6363636363636364,\"rgb(13, 117, 71)\"],[0.7272727272727273,\"rgb(23, 95, 61)\"],[0.8181818181818182,\"rgb(25, 75, 49)\"],[0.9090909090909091,\"rgb(23, 55, 35)\"],[1.0,\"rgb(17, 36, 20)\"]]},\"legend\":{\"tracegroupgap\":0},\"margin\":{\"t\":60}},                        {\"responsive\": true}                    ).then(function(){\n",
       "                            \n",
       "var gd = document.getElementById('134812b9-93e6-4006-a4cd-9971ea86e3e9');\n",
       "var x = new MutationObserver(function (mutations, observer) {{\n",
       "        var display = window.getComputedStyle(gd).display;\n",
       "        if (!display || display === 'none') {{\n",
       "            console.log([gd, 'removed!']);\n",
       "            Plotly.purge(gd);\n",
       "            observer.disconnect();\n",
       "        }}\n",
       "}});\n",
       "\n",
       "// Listen for the removal of the full notebook cells\n",
       "var notebookContainer = gd.closest('#notebook-container');\n",
       "if (notebookContainer) {{\n",
       "    x.observe(notebookContainer, {childList: true});\n",
       "}}\n",
       "\n",
       "// Listen for the clearing of the current output cell\n",
       "var outputEl = gd.closest('.output');\n",
       "if (outputEl) {{\n",
       "    x.observe(outputEl, {childList: true});\n",
       "}}\n",
       "\n",
       "                        })                };                });            </script>        </div>"
      ]
     },
     "metadata": {},
     "output_type": "display_data"
    }
   ],
   "source": [
    "fig = px.choropleth(spec_counts_for_viz, locations='iso_alpha', color='normalized_plant_count', color_continuous_scale=px.colors.sequential.algae)\n",
    "fig.show()\n",
    "fig.write_image('../data/citation_network/figures/normalized_resurrection_plant_distribution.pdf')"
   ]
  },
  {
   "cell_type": "markdown",
   "metadata": {},
   "source": [
    "### Combine all pre-processed data into one dataframe\n",
    "This way we have all the data in one convenient place."
   ]
  },
  {
   "cell_type": "code",
   "execution_count": 165,
   "metadata": {},
   "outputs": [
    {
     "data": {
      "text/html": [
       "<div>\n",
       "<style scoped>\n",
       "    .dataframe tbody tr th:only-of-type {\n",
       "        vertical-align: middle;\n",
       "    }\n",
       "\n",
       "    .dataframe tbody tr th {\n",
       "        vertical-align: top;\n",
       "    }\n",
       "\n",
       "    .dataframe thead th {\n",
       "        text-align: right;\n",
       "    }\n",
       "</style>\n",
       "<table border=\"1\" class=\"dataframe\">\n",
       "  <thead>\n",
       "    <tr style=\"text-align: right;\">\n",
       "      <th></th>\n",
       "      <th>conf_auth_count</th>\n",
       "      <th>iso_alpha</th>\n",
       "      <th>population</th>\n",
       "      <th>paper_count</th>\n",
       "      <th>plant_count</th>\n",
       "      <th>area_km2</th>\n",
       "    </tr>\n",
       "  </thead>\n",
       "  <tbody>\n",
       "    <tr>\n",
       "      <th>0</th>\n",
       "      <td>36.0</td>\n",
       "      <td>ZAF</td>\n",
       "      <td>59893885.0</td>\n",
       "      <td>118.0</td>\n",
       "      <td>16.0</td>\n",
       "      <td>1.216437e+06</td>\n",
       "    </tr>\n",
       "    <tr>\n",
       "      <th>1</th>\n",
       "      <td>14.0</td>\n",
       "      <td>USA</td>\n",
       "      <td>333287557.0</td>\n",
       "      <td>366.0</td>\n",
       "      <td>2.0</td>\n",
       "      <td>9.512162e+06</td>\n",
       "    </tr>\n",
       "    <tr>\n",
       "      <th>2</th>\n",
       "      <td>8.0</td>\n",
       "      <td>ISR</td>\n",
       "      <td>9557500.0</td>\n",
       "      <td>28.0</td>\n",
       "      <td>0.0</td>\n",
       "      <td>2.297568e+04</td>\n",
       "    </tr>\n",
       "    <tr>\n",
       "      <th>3</th>\n",
       "      <td>7.0</td>\n",
       "      <td>NLD</td>\n",
       "      <td>17700982.0</td>\n",
       "      <td>57.0</td>\n",
       "      <td>0.0</td>\n",
       "      <td>4.002133e+04</td>\n",
       "    </tr>\n",
       "    <tr>\n",
       "      <th>4</th>\n",
       "      <td>7.0</td>\n",
       "      <td>DEU</td>\n",
       "      <td>83797985.0</td>\n",
       "      <td>155.0</td>\n",
       "      <td>0.0</td>\n",
       "      <td>3.574253e+05</td>\n",
       "    </tr>\n",
       "  </tbody>\n",
       "</table>\n",
       "</div>"
      ],
      "text/plain": [
       "   conf_auth_count iso_alpha   population  paper_count  plant_count  \\\n",
       "0             36.0       ZAF   59893885.0        118.0         16.0   \n",
       "1             14.0       USA  333287557.0        366.0          2.0   \n",
       "2              8.0       ISR    9557500.0         28.0          0.0   \n",
       "3              7.0       NLD   17700982.0         57.0          0.0   \n",
       "4              7.0       DEU   83797985.0        155.0          0.0   \n",
       "\n",
       "       area_km2  \n",
       "0  1.216437e+06  \n",
       "1  9.512162e+06  \n",
       "2  2.297568e+04  \n",
       "3  4.002133e+04  \n",
       "4  3.574253e+05  "
      ]
     },
     "execution_count": 165,
     "metadata": {},
     "output_type": "execute_result"
    }
   ],
   "source": [
    "all_counts = reduce(lambda left, right: pd.merge(left, right, how='inner', on='iso_alpha'), [conf_auth_w_pop, plant_paper_counts_pop, spec_counts_area]).drop(columns=['population_y', 'normalized_plant_count']).rename(columns={'population_x': 'population'})\n",
    "all_counts.head()"
   ]
  },
  {
   "cell_type": "code",
   "execution_count": 166,
   "metadata": {
    "scrolled": true
   },
   "outputs": [
    {
     "data": {
      "text/plain": [
       "(198, 6)"
      ]
     },
     "execution_count": 166,
     "metadata": {},
     "output_type": "execute_result"
    }
   ],
   "source": [
    "all_counts.shape"
   ]
  },
  {
   "cell_type": "markdown",
   "metadata": {},
   "source": [
    "Now that we have clean information for all countries, we want to drop any country that has 0 plants:"
   ]
  },
  {
   "cell_type": "code",
   "execution_count": 167,
   "metadata": {},
   "outputs": [],
   "source": [
    "excluded_countries = all_counts[all_counts['plant_count'] == 0]\n",
    "all_counts = all_counts[all_counts['plant_count'] > 0]"
   ]
  },
  {
   "cell_type": "code",
   "execution_count": 168,
   "metadata": {},
   "outputs": [
    {
     "data": {
      "text/html": [
       "<div>\n",
       "<style scoped>\n",
       "    .dataframe tbody tr th:only-of-type {\n",
       "        vertical-align: middle;\n",
       "    }\n",
       "\n",
       "    .dataframe tbody tr th {\n",
       "        vertical-align: top;\n",
       "    }\n",
       "\n",
       "    .dataframe thead th {\n",
       "        text-align: right;\n",
       "    }\n",
       "</style>\n",
       "<table border=\"1\" class=\"dataframe\">\n",
       "  <thead>\n",
       "    <tr style=\"text-align: right;\">\n",
       "      <th></th>\n",
       "      <th>conf_auth_count</th>\n",
       "      <th>iso_alpha</th>\n",
       "      <th>population</th>\n",
       "      <th>paper_count</th>\n",
       "      <th>plant_count</th>\n",
       "      <th>area_km2</th>\n",
       "    </tr>\n",
       "  </thead>\n",
       "  <tbody>\n",
       "    <tr>\n",
       "      <th>0</th>\n",
       "      <td>36.0</td>\n",
       "      <td>ZAF</td>\n",
       "      <td>5.989388e+07</td>\n",
       "      <td>118.0</td>\n",
       "      <td>16.0</td>\n",
       "      <td>1.216437e+06</td>\n",
       "    </tr>\n",
       "    <tr>\n",
       "      <th>1</th>\n",
       "      <td>14.0</td>\n",
       "      <td>USA</td>\n",
       "      <td>3.332876e+08</td>\n",
       "      <td>366.0</td>\n",
       "      <td>2.0</td>\n",
       "      <td>9.512162e+06</td>\n",
       "    </tr>\n",
       "    <tr>\n",
       "      <th>5</th>\n",
       "      <td>5.0</td>\n",
       "      <td>FRA</td>\n",
       "      <td>6.797131e+07</td>\n",
       "      <td>80.0</td>\n",
       "      <td>1.0</td>\n",
       "      <td>6.448534e+05</td>\n",
       "    </tr>\n",
       "    <tr>\n",
       "      <th>6</th>\n",
       "      <td>3.0</td>\n",
       "      <td>ESP</td>\n",
       "      <td>4.777834e+07</td>\n",
       "      <td>89.0</td>\n",
       "      <td>1.0</td>\n",
       "      <td>5.023083e+05</td>\n",
       "    </tr>\n",
       "    <tr>\n",
       "      <th>7</th>\n",
       "      <td>3.0</td>\n",
       "      <td>IND</td>\n",
       "      <td>1.417173e+09</td>\n",
       "      <td>110.0</td>\n",
       "      <td>3.0</td>\n",
       "      <td>3.142890e+06</td>\n",
       "    </tr>\n",
       "  </tbody>\n",
       "</table>\n",
       "</div>"
      ],
      "text/plain": [
       "   conf_auth_count iso_alpha    population  paper_count  plant_count  \\\n",
       "0             36.0       ZAF  5.989388e+07        118.0         16.0   \n",
       "1             14.0       USA  3.332876e+08        366.0          2.0   \n",
       "5              5.0       FRA  6.797131e+07         80.0          1.0   \n",
       "6              3.0       ESP  4.777834e+07         89.0          1.0   \n",
       "7              3.0       IND  1.417173e+09        110.0          3.0   \n",
       "\n",
       "       area_km2  \n",
       "0  1.216437e+06  \n",
       "1  9.512162e+06  \n",
       "5  6.448534e+05  \n",
       "6  5.023083e+05  \n",
       "7  3.142890e+06  "
      ]
     },
     "execution_count": 168,
     "metadata": {},
     "output_type": "execute_result"
    }
   ],
   "source": [
    "all_counts.head()"
   ]
  },
  {
   "cell_type": "code",
   "execution_count": 169,
   "metadata": {},
   "outputs": [
    {
     "data": {
      "text/plain": [
       "(72, 6)"
      ]
     },
     "execution_count": 169,
     "metadata": {},
     "output_type": "execute_result"
    }
   ],
   "source": [
    "all_counts.shape"
   ]
  },
  {
   "cell_type": "markdown",
   "metadata": {},
   "source": [
    "### Statistics on representation\n",
    "Before we compare the full dataset authors with the conference authors, we want to check if the number of publications/authors in each country matches what we would expect based on the number of unique resurrection plants found in that country. To do this, we want to test if the expected number of papers in each country is significantly different than what we observe. There are two factors we'll use to calculate the expected paper value: population, and resurrection plant distribution.\n",
    "\n",
    "The calculation of expected paper count per country is the following:\n",
    "\n",
    "$$\\text{Expected paper count} = \\frac{(\\text{Country population} * \\frac{\\text{Total paper count}}{\\text{Total population}})}{\\text{Normalized country plant count}}$$\n",
    "\n",
    "Differences in population are automatically accounted for in this calculation by using population to get the expected paper count. However, we also need to account for country area in the plant count, because the larger the area of a country, the more platns we expect to find. However, since the plant counts are so small, we can't directly use the normalized values, because they're too small. To get around this, we'll calculate the normalized values for all countries, and then scale them to a mean of 5 (in the same range as the actual plant counts) to be able to use them in our calculations.\n",
    "\n",
    "We then use a chi-square loop, where we compare each country against all others."
   ]
  },
  {
   "cell_type": "code",
   "execution_count": 170,
   "metadata": {},
   "outputs": [],
   "source": [
    "all_counts['exp_papers'] = (all_counts['population']*(all_counts['paper_count'].sum()/all_counts['population'].sum()))"
   ]
  },
  {
   "cell_type": "code",
   "execution_count": 171,
   "metadata": {},
   "outputs": [],
   "source": [
    "all_counts['normed_plant_count'] = all_counts['plant_count']/all_counts['area_km2']\n",
    "scaler = StandardScaler(with_mean=False)\n",
    "scaler.fit(all_counts['normed_plant_count'].to_numpy().reshape(-1, 1))\n",
    "all_counts['scaled_normed_plant_count'] = scaler.transform(all_counts['normed_plant_count'].to_numpy().reshape(-1, 1)) + 5"
   ]
  },
  {
   "cell_type": "code",
   "execution_count": 172,
   "metadata": {},
   "outputs": [
    {
     "data": {
      "text/plain": [
       "(5.005464316556861, 12.174345405204527)"
      ]
     },
     "execution_count": 172,
     "metadata": {},
     "output_type": "execute_result"
    }
   ],
   "source": [
    "all_counts['scaled_normed_plant_count'].min(), all_counts['scaled_normed_plant_count'].max()"
   ]
  },
  {
   "cell_type": "code",
   "execution_count": 173,
   "metadata": {},
   "outputs": [],
   "source": [
    "all_counts['exp_by_plant'] = all_counts['exp_papers']/all_counts['scaled_normed_plant_count']\n",
    "all_counts['obs_by_plant'] = all_counts['paper_count']/all_counts['scaled_normed_plant_count']"
   ]
  },
  {
   "cell_type": "code",
   "execution_count": 174,
   "metadata": {
    "scrolled": true
   },
   "outputs": [
    {
     "data": {
      "text/html": [
       "<div>\n",
       "<style scoped>\n",
       "    .dataframe tbody tr th:only-of-type {\n",
       "        vertical-align: middle;\n",
       "    }\n",
       "\n",
       "    .dataframe tbody tr th {\n",
       "        vertical-align: top;\n",
       "    }\n",
       "\n",
       "    .dataframe thead th {\n",
       "        text-align: right;\n",
       "    }\n",
       "</style>\n",
       "<table border=\"1\" class=\"dataframe\">\n",
       "  <thead>\n",
       "    <tr style=\"text-align: right;\">\n",
       "      <th></th>\n",
       "      <th>conf_auth_count</th>\n",
       "      <th>iso_alpha</th>\n",
       "      <th>population</th>\n",
       "      <th>paper_count</th>\n",
       "      <th>plant_count</th>\n",
       "      <th>area_km2</th>\n",
       "      <th>exp_papers</th>\n",
       "      <th>normed_plant_count</th>\n",
       "      <th>scaled_normed_plant_count</th>\n",
       "      <th>exp_by_plant</th>\n",
       "      <th>obs_by_plant</th>\n",
       "    </tr>\n",
       "  </thead>\n",
       "  <tbody>\n",
       "    <tr>\n",
       "      <th>0</th>\n",
       "      <td>36.0</td>\n",
       "      <td>ZAF</td>\n",
       "      <td>5.989388e+07</td>\n",
       "      <td>118.0</td>\n",
       "      <td>16.0</td>\n",
       "      <td>1.216437e+06</td>\n",
       "      <td>16.153849</td>\n",
       "      <td>1.315317e-05</td>\n",
       "      <td>5.341834</td>\n",
       "      <td>3.024027</td>\n",
       "      <td>22.089791</td>\n",
       "    </tr>\n",
       "    <tr>\n",
       "      <th>1</th>\n",
       "      <td>14.0</td>\n",
       "      <td>USA</td>\n",
       "      <td>3.332876e+08</td>\n",
       "      <td>366.0</td>\n",
       "      <td>2.0</td>\n",
       "      <td>9.512162e+06</td>\n",
       "      <td>89.890260</td>\n",
       "      <td>2.102571e-07</td>\n",
       "      <td>5.005464</td>\n",
       "      <td>17.958426</td>\n",
       "      <td>73.120090</td>\n",
       "    </tr>\n",
       "    <tr>\n",
       "      <th>5</th>\n",
       "      <td>5.0</td>\n",
       "      <td>FRA</td>\n",
       "      <td>6.797131e+07</td>\n",
       "      <td>80.0</td>\n",
       "      <td>1.0</td>\n",
       "      <td>6.448534e+05</td>\n",
       "      <td>18.332394</td>\n",
       "      <td>1.550740e-06</td>\n",
       "      <td>5.040302</td>\n",
       "      <td>3.637162</td>\n",
       "      <td>15.872066</td>\n",
       "    </tr>\n",
       "    <tr>\n",
       "      <th>6</th>\n",
       "      <td>3.0</td>\n",
       "      <td>ESP</td>\n",
       "      <td>4.777834e+07</td>\n",
       "      <td>89.0</td>\n",
       "      <td>1.0</td>\n",
       "      <td>5.023083e+05</td>\n",
       "      <td>12.886192</td>\n",
       "      <td>1.990809e-06</td>\n",
       "      <td>5.051739</td>\n",
       "      <td>2.550843</td>\n",
       "      <td>17.617697</td>\n",
       "    </tr>\n",
       "    <tr>\n",
       "      <th>7</th>\n",
       "      <td>3.0</td>\n",
       "      <td>IND</td>\n",
       "      <td>1.417173e+09</td>\n",
       "      <td>110.0</td>\n",
       "      <td>3.0</td>\n",
       "      <td>3.142890e+06</td>\n",
       "      <td>382.222685</td>\n",
       "      <td>9.545355e-07</td>\n",
       "      <td>5.024807</td>\n",
       "      <td>76.067135</td>\n",
       "      <td>21.891387</td>\n",
       "    </tr>\n",
       "  </tbody>\n",
       "</table>\n",
       "</div>"
      ],
      "text/plain": [
       "   conf_auth_count iso_alpha    population  paper_count  plant_count  \\\n",
       "0             36.0       ZAF  5.989388e+07        118.0         16.0   \n",
       "1             14.0       USA  3.332876e+08        366.0          2.0   \n",
       "5              5.0       FRA  6.797131e+07         80.0          1.0   \n",
       "6              3.0       ESP  4.777834e+07         89.0          1.0   \n",
       "7              3.0       IND  1.417173e+09        110.0          3.0   \n",
       "\n",
       "       area_km2  exp_papers  normed_plant_count  scaled_normed_plant_count  \\\n",
       "0  1.216437e+06   16.153849        1.315317e-05                   5.341834   \n",
       "1  9.512162e+06   89.890260        2.102571e-07                   5.005464   \n",
       "5  6.448534e+05   18.332394        1.550740e-06                   5.040302   \n",
       "6  5.023083e+05   12.886192        1.990809e-06                   5.051739   \n",
       "7  3.142890e+06  382.222685        9.545355e-07                   5.024807   \n",
       "\n",
       "   exp_by_plant  obs_by_plant  \n",
       "0      3.024027     22.089791  \n",
       "1     17.958426     73.120090  \n",
       "5      3.637162     15.872066  \n",
       "6      2.550843     17.617697  \n",
       "7     76.067135     21.891387  "
      ]
     },
     "execution_count": 174,
     "metadata": {},
     "output_type": "execute_result"
    }
   ],
   "source": [
    "all_counts.head()"
   ]
  },
  {
   "cell_type": "code",
   "execution_count": 175,
   "metadata": {},
   "outputs": [
    {
     "data": {
      "text/plain": [
       "Text(0, 0.5, 'Expected paper count/plant count')"
      ]
     },
     "execution_count": 175,
     "metadata": {},
     "output_type": "execute_result"
    },
    {
     "data": {
      "image/png": "[encoded data removed]",
      "text/plain": [
       "<Figure size 640x480 with 1 Axes>"
      ]
     },
     "metadata": {},
     "output_type": "display_data"
    }
   ],
   "source": [
    "plt.scatter(all_counts['obs_by_plant'], all_counts['exp_by_plant'])\n",
    "plt.xlabel('Observed paper count/plant count')\n",
    "plt.ylabel('Expected paper count/plant count')"
   ]
  },
  {
   "cell_type": "code",
   "execution_count": 176,
   "metadata": {},
   "outputs": [],
   "source": [
    "pvals = []\n",
    "chi_stats = []\n",
    "for i, row in all_counts.iterrows():\n",
    "    O1 = row.obs_by_plant\n",
    "    O2 = all_counts['obs_by_plant'].sum() - O1\n",
    "    E1 = row.exp_by_plant\n",
    "    E2 = all_counts['exp_by_plant'].sum() - E1\n",
    "    chi_stat = (O1-E1)**2/E1+(O2-E2)**2/E2\n",
    "    chi_stats.append(chi_stat)\n",
    "    pvals.append(chi2.sf(chi_stat, df=1)) # To the best of my knowledge, this is the python equivalent of pchisq (https://stackoverflow.com/a/20165482)"
   ]
  },
  {
   "cell_type": "markdown",
   "metadata": {},
   "source": [
    "Now we need to apply a multiple-testing p-value correction:"
   ]
  },
  {
   "cell_type": "code",
   "execution_count": 177,
   "metadata": {},
   "outputs": [],
   "source": [
    "corrected_pvals = false_discovery_control(pvals)"
   ]
  },
  {
   "cell_type": "markdown",
   "metadata": {},
   "source": [
    "Determine whether the country is over or underrepresented:"
   ]
  },
  {
   "cell_type": "code",
   "execution_count": 178,
   "metadata": {},
   "outputs": [],
   "source": [
    "all_counts['chistat'] = chi_stats\n",
    "all_counts['pvals'] = pvals\n",
    "all_counts['corrected_pvals'] = corrected_pvals\n",
    "all_counts['overrep'] = (all_counts['obs_by_plant'] > all_counts['exp_by_plant']) & (all_counts['corrected_pvals'] < 0.05)\n",
    "all_counts['underrep'] = (all_counts['obs_by_plant'] < all_counts['exp_by_plant']) & (all_counts['corrected_pvals'] < 0.05)"
   ]
  },
  {
   "cell_type": "code",
   "execution_count": 179,
   "metadata": {},
   "outputs": [
    {
     "data": {
      "text/html": [
       "<div>\n",
       "<style scoped>\n",
       "    .dataframe tbody tr th:only-of-type {\n",
       "        vertical-align: middle;\n",
       "    }\n",
       "\n",
       "    .dataframe tbody tr th {\n",
       "        vertical-align: top;\n",
       "    }\n",
       "\n",
       "    .dataframe thead th {\n",
       "        text-align: right;\n",
       "    }\n",
       "</style>\n",
       "<table border=\"1\" class=\"dataframe\">\n",
       "  <thead>\n",
       "    <tr style=\"text-align: right;\">\n",
       "      <th></th>\n",
       "      <th>conf_auth_count</th>\n",
       "      <th>iso_alpha</th>\n",
       "      <th>population</th>\n",
       "      <th>paper_count</th>\n",
       "      <th>plant_count</th>\n",
       "      <th>area_km2</th>\n",
       "      <th>exp_papers</th>\n",
       "      <th>normed_plant_count</th>\n",
       "      <th>scaled_normed_plant_count</th>\n",
       "      <th>exp_by_plant</th>\n",
       "      <th>obs_by_plant</th>\n",
       "      <th>chistat</th>\n",
       "      <th>pvals</th>\n",
       "      <th>corrected_pvals</th>\n",
       "      <th>overrep</th>\n",
       "      <th>underrep</th>\n",
       "    </tr>\n",
       "  </thead>\n",
       "  <tbody>\n",
       "    <tr>\n",
       "      <th>0</th>\n",
       "      <td>36.0</td>\n",
       "      <td>ZAF</td>\n",
       "      <td>5.989388e+07</td>\n",
       "      <td>118.0</td>\n",
       "      <td>16.0</td>\n",
       "      <td>1.216437e+06</td>\n",
       "      <td>16.153849</td>\n",
       "      <td>1.315317e-05</td>\n",
       "      <td>5.341834</td>\n",
       "      <td>3.024027</td>\n",
       "      <td>22.089791</td>\n",
       "      <td>121.202358</td>\n",
       "      <td>3.450761e-28</td>\n",
       "      <td>8.281825e-27</td>\n",
       "      <td>True</td>\n",
       "      <td>False</td>\n",
       "    </tr>\n",
       "    <tr>\n",
       "      <th>1</th>\n",
       "      <td>14.0</td>\n",
       "      <td>USA</td>\n",
       "      <td>3.332876e+08</td>\n",
       "      <td>366.0</td>\n",
       "      <td>2.0</td>\n",
       "      <td>9.512162e+06</td>\n",
       "      <td>89.890260</td>\n",
       "      <td>2.102571e-07</td>\n",
       "      <td>5.005464</td>\n",
       "      <td>17.958426</td>\n",
       "      <td>73.120090</td>\n",
       "      <td>179.656120</td>\n",
       "      <td>5.761076e-41</td>\n",
       "      <td>4.147975e-39</td>\n",
       "      <td>True</td>\n",
       "      <td>False</td>\n",
       "    </tr>\n",
       "    <tr>\n",
       "      <th>5</th>\n",
       "      <td>5.0</td>\n",
       "      <td>FRA</td>\n",
       "      <td>6.797131e+07</td>\n",
       "      <td>80.0</td>\n",
       "      <td>1.0</td>\n",
       "      <td>6.448534e+05</td>\n",
       "      <td>18.332394</td>\n",
       "      <td>1.550740e-06</td>\n",
       "      <td>5.040302</td>\n",
       "      <td>3.637162</td>\n",
       "      <td>15.872066</td>\n",
       "      <td>41.515294</td>\n",
       "      <td>1.169524e-10</td>\n",
       "      <td>1.202939e-09</td>\n",
       "      <td>True</td>\n",
       "      <td>False</td>\n",
       "    </tr>\n",
       "    <tr>\n",
       "      <th>6</th>\n",
       "      <td>3.0</td>\n",
       "      <td>ESP</td>\n",
       "      <td>4.777834e+07</td>\n",
       "      <td>89.0</td>\n",
       "      <td>1.0</td>\n",
       "      <td>5.023083e+05</td>\n",
       "      <td>12.886192</td>\n",
       "      <td>1.990809e-06</td>\n",
       "      <td>5.051739</td>\n",
       "      <td>2.550843</td>\n",
       "      <td>17.617697</td>\n",
       "      <td>89.577367</td>\n",
       "      <td>2.948784e-21</td>\n",
       "      <td>4.246249e-20</td>\n",
       "      <td>True</td>\n",
       "      <td>False</td>\n",
       "    </tr>\n",
       "    <tr>\n",
       "      <th>7</th>\n",
       "      <td>3.0</td>\n",
       "      <td>IND</td>\n",
       "      <td>1.417173e+09</td>\n",
       "      <td>110.0</td>\n",
       "      <td>3.0</td>\n",
       "      <td>3.142890e+06</td>\n",
       "      <td>382.222685</td>\n",
       "      <td>9.545355e-07</td>\n",
       "      <td>5.024807</td>\n",
       "      <td>76.067135</td>\n",
       "      <td>21.891387</td>\n",
       "      <td>53.060325</td>\n",
       "      <td>3.234602e-13</td>\n",
       "      <td>3.881523e-12</td>\n",
       "      <td>False</td>\n",
       "      <td>True</td>\n",
       "    </tr>\n",
       "  </tbody>\n",
       "</table>\n",
       "</div>"
      ],
      "text/plain": [
       "   conf_auth_count iso_alpha    population  paper_count  plant_count  \\\n",
       "0             36.0       ZAF  5.989388e+07        118.0         16.0   \n",
       "1             14.0       USA  3.332876e+08        366.0          2.0   \n",
       "5              5.0       FRA  6.797131e+07         80.0          1.0   \n",
       "6              3.0       ESP  4.777834e+07         89.0          1.0   \n",
       "7              3.0       IND  1.417173e+09        110.0          3.0   \n",
       "\n",
       "       area_km2  exp_papers  normed_plant_count  scaled_normed_plant_count  \\\n",
       "0  1.216437e+06   16.153849        1.315317e-05                   5.341834   \n",
       "1  9.512162e+06   89.890260        2.102571e-07                   5.005464   \n",
       "5  6.448534e+05   18.332394        1.550740e-06                   5.040302   \n",
       "6  5.023083e+05   12.886192        1.990809e-06                   5.051739   \n",
       "7  3.142890e+06  382.222685        9.545355e-07                   5.024807   \n",
       "\n",
       "   exp_by_plant  obs_by_plant     chistat         pvals  corrected_pvals  \\\n",
       "0      3.024027     22.089791  121.202358  3.450761e-28     8.281825e-27   \n",
       "1     17.958426     73.120090  179.656120  5.761076e-41     4.147975e-39   \n",
       "5      3.637162     15.872066   41.515294  1.169524e-10     1.202939e-09   \n",
       "6      2.550843     17.617697   89.577367  2.948784e-21     4.246249e-20   \n",
       "7     76.067135     21.891387   53.060325  3.234602e-13     3.881523e-12   \n",
       "\n",
       "   overrep  underrep  \n",
       "0     True     False  \n",
       "1     True     False  \n",
       "5     True     False  \n",
       "6     True     False  \n",
       "7    False      True  "
      ]
     },
     "execution_count": 179,
     "metadata": {},
     "output_type": "execute_result"
    }
   ],
   "source": [
    "all_counts.head()"
   ]
  },
  {
   "cell_type": "markdown",
   "metadata": {},
   "source": [
    "Add back countries we couldn't test because of a 0 plant count:"
   ]
  },
  {
   "cell_type": "code",
   "execution_count": 180,
   "metadata": {},
   "outputs": [
    {
     "data": {
      "text/html": [
       "<div>\n",
       "<style scoped>\n",
       "    .dataframe tbody tr th:only-of-type {\n",
       "        vertical-align: middle;\n",
       "    }\n",
       "\n",
       "    .dataframe tbody tr th {\n",
       "        vertical-align: top;\n",
       "    }\n",
       "\n",
       "    .dataframe thead th {\n",
       "        text-align: right;\n",
       "    }\n",
       "</style>\n",
       "<table border=\"1\" class=\"dataframe\">\n",
       "  <thead>\n",
       "    <tr style=\"text-align: right;\">\n",
       "      <th></th>\n",
       "      <th>conf_auth_count</th>\n",
       "      <th>iso_alpha</th>\n",
       "      <th>population</th>\n",
       "      <th>paper_count</th>\n",
       "      <th>plant_count</th>\n",
       "      <th>area_km2</th>\n",
       "      <th>overrep</th>\n",
       "      <th>underrep</th>\n",
       "    </tr>\n",
       "  </thead>\n",
       "  <tbody>\n",
       "    <tr>\n",
       "      <th>2</th>\n",
       "      <td>8.0</td>\n",
       "      <td>ISR</td>\n",
       "      <td>9557500.0</td>\n",
       "      <td>28.0</td>\n",
       "      <td>0.0</td>\n",
       "      <td>22975.676395</td>\n",
       "      <td>True</td>\n",
       "      <td>False</td>\n",
       "    </tr>\n",
       "    <tr>\n",
       "      <th>3</th>\n",
       "      <td>7.0</td>\n",
       "      <td>NLD</td>\n",
       "      <td>17700982.0</td>\n",
       "      <td>57.0</td>\n",
       "      <td>0.0</td>\n",
       "      <td>40021.326428</td>\n",
       "      <td>True</td>\n",
       "      <td>False</td>\n",
       "    </tr>\n",
       "    <tr>\n",
       "      <th>4</th>\n",
       "      <td>7.0</td>\n",
       "      <td>DEU</td>\n",
       "      <td>83797985.0</td>\n",
       "      <td>155.0</td>\n",
       "      <td>0.0</td>\n",
       "      <td>357425.257834</td>\n",
       "      <td>True</td>\n",
       "      <td>False</td>\n",
       "    </tr>\n",
       "    <tr>\n",
       "      <th>9</th>\n",
       "      <td>3.0</td>\n",
       "      <td>POL</td>\n",
       "      <td>36821749.0</td>\n",
       "      <td>81.0</td>\n",
       "      <td>0.0</td>\n",
       "      <td>310396.851155</td>\n",
       "      <td>True</td>\n",
       "      <td>False</td>\n",
       "    </tr>\n",
       "    <tr>\n",
       "      <th>11</th>\n",
       "      <td>2.0</td>\n",
       "      <td>AUT</td>\n",
       "      <td>9041851.0</td>\n",
       "      <td>32.0</td>\n",
       "      <td>0.0</td>\n",
       "      <td>85063.014795</td>\n",
       "      <td>True</td>\n",
       "      <td>False</td>\n",
       "    </tr>\n",
       "  </tbody>\n",
       "</table>\n",
       "</div>"
      ],
      "text/plain": [
       "    conf_auth_count iso_alpha  population  paper_count  plant_count  \\\n",
       "2               8.0       ISR   9557500.0         28.0          0.0   \n",
       "3               7.0       NLD  17700982.0         57.0          0.0   \n",
       "4               7.0       DEU  83797985.0        155.0          0.0   \n",
       "9               3.0       POL  36821749.0         81.0          0.0   \n",
       "11              2.0       AUT   9041851.0         32.0          0.0   \n",
       "\n",
       "         area_km2  overrep  underrep  \n",
       "2    22975.676395     True     False  \n",
       "3    40021.326428     True     False  \n",
       "4   357425.257834     True     False  \n",
       "9   310396.851155     True     False  \n",
       "11   85063.014795     True     False  "
      ]
     },
     "execution_count": 180,
     "metadata": {},
     "output_type": "execute_result"
    }
   ],
   "source": [
    "excluded_countries['overrep'] = excluded_countries['paper_count'] > 0\n",
    "excluded_countries['underrep'] = False\n",
    "excluded_countries.head()"
   ]
  },
  {
   "cell_type": "code",
   "execution_count": 181,
   "metadata": {},
   "outputs": [
    {
     "data": {
      "text/html": [
       "<div>\n",
       "<style scoped>\n",
       "    .dataframe tbody tr th:only-of-type {\n",
       "        vertical-align: middle;\n",
       "    }\n",
       "\n",
       "    .dataframe tbody tr th {\n",
       "        vertical-align: top;\n",
       "    }\n",
       "\n",
       "    .dataframe thead th {\n",
       "        text-align: right;\n",
       "    }\n",
       "</style>\n",
       "<table border=\"1\" class=\"dataframe\">\n",
       "  <thead>\n",
       "    <tr style=\"text-align: right;\">\n",
       "      <th></th>\n",
       "      <th>conf_auth_count</th>\n",
       "      <th>iso_alpha</th>\n",
       "      <th>population</th>\n",
       "      <th>paper_count</th>\n",
       "      <th>plant_count</th>\n",
       "      <th>area_km2</th>\n",
       "      <th>exp_papers</th>\n",
       "      <th>normed_plant_count</th>\n",
       "      <th>scaled_normed_plant_count</th>\n",
       "      <th>exp_by_plant</th>\n",
       "      <th>obs_by_plant</th>\n",
       "      <th>chistat</th>\n",
       "      <th>pvals</th>\n",
       "      <th>corrected_pvals</th>\n",
       "      <th>overrep</th>\n",
       "      <th>underrep</th>\n",
       "    </tr>\n",
       "  </thead>\n",
       "  <tbody>\n",
       "    <tr>\n",
       "      <th>193</th>\n",
       "      <td>0.0</td>\n",
       "      <td>NRU</td>\n",
       "      <td>12668.0</td>\n",
       "      <td>0.0</td>\n",
       "      <td>0.0</td>\n",
       "      <td>0.0</td>\n",
       "      <td>NaN</td>\n",
       "      <td>NaN</td>\n",
       "      <td>NaN</td>\n",
       "      <td>NaN</td>\n",
       "      <td>NaN</td>\n",
       "      <td>NaN</td>\n",
       "      <td>NaN</td>\n",
       "      <td>NaN</td>\n",
       "      <td>False</td>\n",
       "      <td>False</td>\n",
       "    </tr>\n",
       "    <tr>\n",
       "      <th>194</th>\n",
       "      <td>0.0</td>\n",
       "      <td>TUV</td>\n",
       "      <td>11312.0</td>\n",
       "      <td>0.0</td>\n",
       "      <td>0.0</td>\n",
       "      <td>0.0</td>\n",
       "      <td>NaN</td>\n",
       "      <td>NaN</td>\n",
       "      <td>NaN</td>\n",
       "      <td>NaN</td>\n",
       "      <td>NaN</td>\n",
       "      <td>NaN</td>\n",
       "      <td>NaN</td>\n",
       "      <td>NaN</td>\n",
       "      <td>False</td>\n",
       "      <td>False</td>\n",
       "    </tr>\n",
       "    <tr>\n",
       "      <th>195</th>\n",
       "      <td>0.0</td>\n",
       "      <td>MUS</td>\n",
       "      <td>1262523.0</td>\n",
       "      <td>0.0</td>\n",
       "      <td>0.0</td>\n",
       "      <td>0.0</td>\n",
       "      <td>NaN</td>\n",
       "      <td>NaN</td>\n",
       "      <td>NaN</td>\n",
       "      <td>NaN</td>\n",
       "      <td>NaN</td>\n",
       "      <td>NaN</td>\n",
       "      <td>NaN</td>\n",
       "      <td>NaN</td>\n",
       "      <td>False</td>\n",
       "      <td>False</td>\n",
       "    </tr>\n",
       "    <tr>\n",
       "      <th>196</th>\n",
       "      <td>0.0</td>\n",
       "      <td>COM</td>\n",
       "      <td>836774.0</td>\n",
       "      <td>0.0</td>\n",
       "      <td>0.0</td>\n",
       "      <td>0.0</td>\n",
       "      <td>NaN</td>\n",
       "      <td>NaN</td>\n",
       "      <td>NaN</td>\n",
       "      <td>NaN</td>\n",
       "      <td>NaN</td>\n",
       "      <td>NaN</td>\n",
       "      <td>NaN</td>\n",
       "      <td>NaN</td>\n",
       "      <td>False</td>\n",
       "      <td>False</td>\n",
       "    </tr>\n",
       "    <tr>\n",
       "      <th>197</th>\n",
       "      <td>0.0</td>\n",
       "      <td>DN1</td>\n",
       "      <td>0.0</td>\n",
       "      <td>0.0</td>\n",
       "      <td>0.0</td>\n",
       "      <td>0.0</td>\n",
       "      <td>NaN</td>\n",
       "      <td>NaN</td>\n",
       "      <td>NaN</td>\n",
       "      <td>NaN</td>\n",
       "      <td>NaN</td>\n",
       "      <td>NaN</td>\n",
       "      <td>NaN</td>\n",
       "      <td>NaN</td>\n",
       "      <td>False</td>\n",
       "      <td>False</td>\n",
       "    </tr>\n",
       "  </tbody>\n",
       "</table>\n",
       "</div>"
      ],
      "text/plain": [
       "     conf_auth_count iso_alpha  population  paper_count  plant_count  \\\n",
       "193              0.0       NRU     12668.0          0.0          0.0   \n",
       "194              0.0       TUV     11312.0          0.0          0.0   \n",
       "195              0.0       MUS   1262523.0          0.0          0.0   \n",
       "196              0.0       COM    836774.0          0.0          0.0   \n",
       "197              0.0       DN1         0.0          0.0          0.0   \n",
       "\n",
       "     area_km2  exp_papers  normed_plant_count  scaled_normed_plant_count  \\\n",
       "193       0.0         NaN                 NaN                        NaN   \n",
       "194       0.0         NaN                 NaN                        NaN   \n",
       "195       0.0         NaN                 NaN                        NaN   \n",
       "196       0.0         NaN                 NaN                        NaN   \n",
       "197       0.0         NaN                 NaN                        NaN   \n",
       "\n",
       "     exp_by_plant  obs_by_plant  chistat  pvals  corrected_pvals  overrep  \\\n",
       "193           NaN           NaN      NaN    NaN              NaN    False   \n",
       "194           NaN           NaN      NaN    NaN              NaN    False   \n",
       "195           NaN           NaN      NaN    NaN              NaN    False   \n",
       "196           NaN           NaN      NaN    NaN              NaN    False   \n",
       "197           NaN           NaN      NaN    NaN              NaN    False   \n",
       "\n",
       "     underrep  \n",
       "193     False  \n",
       "194     False  \n",
       "195     False  \n",
       "196     False  \n",
       "197     False  "
      ]
     },
     "execution_count": 181,
     "metadata": {},
     "output_type": "execute_result"
    }
   ],
   "source": [
    "all_counts_all_countries = all_counts.merge(excluded_countries, on=excluded_countries.columns.tolist(), how='outer')\n",
    "all_counts_all_countries.tail()"
   ]
  },
  {
   "cell_type": "markdown",
   "metadata": {},
   "source": [
    "Now we want to make a map, with the following colors:\n",
    "* Significantly overrepresented\n",
    "* Untested but overrepresented (0 plant count but has papers)\n",
    "* Significantly underrepresented\n",
    "* Properly represented"
   ]
  },
  {
   "cell_type": "code",
   "execution_count": 182,
   "metadata": {},
   "outputs": [],
   "source": [
    "def get_category(row):\n",
    "    if np.isnan(row.corrected_pvals) and row.overrep:\n",
    "        return 'Overrepresented (no p-value)'\n",
    "    elif not row.overrep and not row.underrep:\n",
    "        return 'Correctly represented'\n",
    "    elif (row.corrected_pvals is not None) and row.overrep and not row.underrep:\n",
    "        return 'Overrepresented (significant)'\n",
    "    elif (row.corrected_pvals is not None) and not row.overrep and row.underrep:\n",
    "        return 'Underrepresented (significant)'\n",
    "\n",
    "colors = ['#D81B60', '#FFC107', '#AFAFAF', '#AD1EE5']"
   ]
  },
  {
   "cell_type": "code",
   "execution_count": 183,
   "metadata": {},
   "outputs": [],
   "source": [
    "all_counts_all_countries['category'] = all_counts_all_countries.apply(get_category, axis=1)"
   ]
  },
  {
   "cell_type": "code",
   "execution_count": 184,
   "metadata": {},
   "outputs": [
    {
     "data": {
      "text/html": [
       "<div>\n",
       "<style scoped>\n",
       "    .dataframe tbody tr th:only-of-type {\n",
       "        vertical-align: middle;\n",
       "    }\n",
       "\n",
       "    .dataframe tbody tr th {\n",
       "        vertical-align: top;\n",
       "    }\n",
       "\n",
       "    .dataframe thead th {\n",
       "        text-align: right;\n",
       "    }\n",
       "</style>\n",
       "<table border=\"1\" class=\"dataframe\">\n",
       "  <thead>\n",
       "    <tr style=\"text-align: right;\">\n",
       "      <th></th>\n",
       "      <th>conf_auth_count</th>\n",
       "      <th>iso_alpha</th>\n",
       "      <th>population</th>\n",
       "      <th>paper_count</th>\n",
       "      <th>plant_count</th>\n",
       "      <th>area_km2</th>\n",
       "      <th>exp_papers</th>\n",
       "      <th>normed_plant_count</th>\n",
       "      <th>scaled_normed_plant_count</th>\n",
       "      <th>exp_by_plant</th>\n",
       "      <th>obs_by_plant</th>\n",
       "      <th>chistat</th>\n",
       "      <th>pvals</th>\n",
       "      <th>corrected_pvals</th>\n",
       "      <th>overrep</th>\n",
       "      <th>underrep</th>\n",
       "      <th>category</th>\n",
       "    </tr>\n",
       "  </thead>\n",
       "  <tbody>\n",
       "    <tr>\n",
       "      <th>0</th>\n",
       "      <td>36.0</td>\n",
       "      <td>ZAF</td>\n",
       "      <td>5.989388e+07</td>\n",
       "      <td>118.0</td>\n",
       "      <td>16.0</td>\n",
       "      <td>1.216437e+06</td>\n",
       "      <td>16.153849</td>\n",
       "      <td>1.315317e-05</td>\n",
       "      <td>5.341834</td>\n",
       "      <td>3.024027</td>\n",
       "      <td>22.089791</td>\n",
       "      <td>121.202358</td>\n",
       "      <td>3.450761e-28</td>\n",
       "      <td>8.281825e-27</td>\n",
       "      <td>True</td>\n",
       "      <td>False</td>\n",
       "      <td>Overrepresented (significant)</td>\n",
       "    </tr>\n",
       "    <tr>\n",
       "      <th>1</th>\n",
       "      <td>14.0</td>\n",
       "      <td>USA</td>\n",
       "      <td>3.332876e+08</td>\n",
       "      <td>366.0</td>\n",
       "      <td>2.0</td>\n",
       "      <td>9.512162e+06</td>\n",
       "      <td>89.890260</td>\n",
       "      <td>2.102571e-07</td>\n",
       "      <td>5.005464</td>\n",
       "      <td>17.958426</td>\n",
       "      <td>73.120090</td>\n",
       "      <td>179.656120</td>\n",
       "      <td>5.761076e-41</td>\n",
       "      <td>4.147975e-39</td>\n",
       "      <td>True</td>\n",
       "      <td>False</td>\n",
       "      <td>Overrepresented (significant)</td>\n",
       "    </tr>\n",
       "    <tr>\n",
       "      <th>2</th>\n",
       "      <td>5.0</td>\n",
       "      <td>FRA</td>\n",
       "      <td>6.797131e+07</td>\n",
       "      <td>80.0</td>\n",
       "      <td>1.0</td>\n",
       "      <td>6.448534e+05</td>\n",
       "      <td>18.332394</td>\n",
       "      <td>1.550740e-06</td>\n",
       "      <td>5.040302</td>\n",
       "      <td>3.637162</td>\n",
       "      <td>15.872066</td>\n",
       "      <td>41.515294</td>\n",
       "      <td>1.169524e-10</td>\n",
       "      <td>1.202939e-09</td>\n",
       "      <td>True</td>\n",
       "      <td>False</td>\n",
       "      <td>Overrepresented (significant)</td>\n",
       "    </tr>\n",
       "    <tr>\n",
       "      <th>3</th>\n",
       "      <td>3.0</td>\n",
       "      <td>ESP</td>\n",
       "      <td>4.777834e+07</td>\n",
       "      <td>89.0</td>\n",
       "      <td>1.0</td>\n",
       "      <td>5.023083e+05</td>\n",
       "      <td>12.886192</td>\n",
       "      <td>1.990809e-06</td>\n",
       "      <td>5.051739</td>\n",
       "      <td>2.550843</td>\n",
       "      <td>17.617697</td>\n",
       "      <td>89.577367</td>\n",
       "      <td>2.948784e-21</td>\n",
       "      <td>4.246249e-20</td>\n",
       "      <td>True</td>\n",
       "      <td>False</td>\n",
       "      <td>Overrepresented (significant)</td>\n",
       "    </tr>\n",
       "    <tr>\n",
       "      <th>4</th>\n",
       "      <td>3.0</td>\n",
       "      <td>IND</td>\n",
       "      <td>1.417173e+09</td>\n",
       "      <td>110.0</td>\n",
       "      <td>3.0</td>\n",
       "      <td>3.142890e+06</td>\n",
       "      <td>382.222685</td>\n",
       "      <td>9.545355e-07</td>\n",
       "      <td>5.024807</td>\n",
       "      <td>76.067135</td>\n",
       "      <td>21.891387</td>\n",
       "      <td>53.060325</td>\n",
       "      <td>3.234602e-13</td>\n",
       "      <td>3.881523e-12</td>\n",
       "      <td>False</td>\n",
       "      <td>True</td>\n",
       "      <td>Underrepresented (significant)</td>\n",
       "    </tr>\n",
       "  </tbody>\n",
       "</table>\n",
       "</div>"
      ],
      "text/plain": [
       "   conf_auth_count iso_alpha    population  paper_count  plant_count  \\\n",
       "0             36.0       ZAF  5.989388e+07        118.0         16.0   \n",
       "1             14.0       USA  3.332876e+08        366.0          2.0   \n",
       "2              5.0       FRA  6.797131e+07         80.0          1.0   \n",
       "3              3.0       ESP  4.777834e+07         89.0          1.0   \n",
       "4              3.0       IND  1.417173e+09        110.0          3.0   \n",
       "\n",
       "       area_km2  exp_papers  normed_plant_count  scaled_normed_plant_count  \\\n",
       "0  1.216437e+06   16.153849        1.315317e-05                   5.341834   \n",
       "1  9.512162e+06   89.890260        2.102571e-07                   5.005464   \n",
       "2  6.448534e+05   18.332394        1.550740e-06                   5.040302   \n",
       "3  5.023083e+05   12.886192        1.990809e-06                   5.051739   \n",
       "4  3.142890e+06  382.222685        9.545355e-07                   5.024807   \n",
       "\n",
       "   exp_by_plant  obs_by_plant     chistat         pvals  corrected_pvals  \\\n",
       "0      3.024027     22.089791  121.202358  3.450761e-28     8.281825e-27   \n",
       "1     17.958426     73.120090  179.656120  5.761076e-41     4.147975e-39   \n",
       "2      3.637162     15.872066   41.515294  1.169524e-10     1.202939e-09   \n",
       "3      2.550843     17.617697   89.577367  2.948784e-21     4.246249e-20   \n",
       "4     76.067135     21.891387   53.060325  3.234602e-13     3.881523e-12   \n",
       "\n",
       "   overrep  underrep                        category  \n",
       "0     True     False   Overrepresented (significant)  \n",
       "1     True     False   Overrepresented (significant)  \n",
       "2     True     False   Overrepresented (significant)  \n",
       "3     True     False   Overrepresented (significant)  \n",
       "4    False      True  Underrepresented (significant)  "
      ]
     },
     "execution_count": 184,
     "metadata": {},
     "output_type": "execute_result"
    }
   ],
   "source": [
    "all_counts_all_countries.head()"
   ]
  },
  {
   "cell_type": "code",
   "execution_count": 185,
   "metadata": {},
   "outputs": [
    {
     "data": {
      "application/vnd.plotly.v1+json": {
       "config": {
        "plotlyServerURL": "https://plot.ly"
       },
       "data": [
        {
         "colorscale": [
          [
           0,
           "#D81B60"
          ],
          [
           1,
           "#D81B60"
          ]
         ],
         "geo": "geo",
         "hovertemplate": "category=Overrepresented (significant)<br>iso_alpha=%{location}<extra></extra>",
         "locations": [
          "ZAF",
          "USA",
          "FRA",
          "ESP",
          "AUS",
          "BRA",
          "BGR",
          "CHL",
          "SRB"
         ],
         "name": "Overrepresented (significant)",
         "showlegend": true,
         "showscale": false,
         "type": "choropleth",
         "z": [
          1,
          1,
          1,
          1,
          1,
          1,
          1,
          1,
          1
         ]
        },
        {
         "colorscale": [
          [
           0,
           "#FFC107"
          ],
          [
           1,
           "#FFC107"
          ]
         ],
         "geo": "geo",
         "hovertemplate": "category=Underrepresented (significant)<br>iso_alpha=%{location}<extra></extra>",
         "locations": [
          "IND",
          "IDN",
          "NGA"
         ],
         "name": "Underrepresented (significant)",
         "showlegend": true,
         "showscale": false,
         "type": "choropleth",
         "z": [
          1,
          1,
          1
         ]
        },
        {
         "colorscale": [
          [
           0,
           "#AFAFAF"
          ],
          [
           1,
           "#AFAFAF"
          ]
         ],
         "geo": "geo",
         "hovertemplate": "category=Correctly represented<br>iso_alpha=%{location}<extra></extra>",
         "locations": [
          "CHN",
          "ETH",
          "UGA",
          "KEN",
          "TZA",
          "PNG",
          "ARG",
          "COD",
          "SOM",
          "TCD",
          "LSO",
          "MEX",
          "BOL",
          "PER",
          "COL",
          "PAN",
          "NIC",
          "HND",
          "GTM",
          "VEN",
          "GUY",
          "ECU",
          "CUB",
          "ZWE",
          "BWA",
          "NAM",
          "SEN",
          "MLI",
          "BEN",
          "NER",
          "CMR",
          "TGO",
          "GHA",
          "CIV",
          "GIN",
          "GNB",
          "LBR",
          "SLE",
          "BFA",
          "CAF",
          "COG",
          "GAB",
          "GNQ",
          "ZMB",
          "MWI",
          "MOZ",
          "SWZ",
          "AGO",
          "BDI",
          "MDG",
          "OMN",
          "THA",
          "VNM",
          "BTN",
          "NPL",
          "GRC",
          "LKA",
          "ERI",
          "PRY",
          "MKD",
          "FJI",
          "ESH",
          "KAZ",
          "UZB",
          "SDN",
          "HTI",
          "DOM",
          "BHS",
          "FLK",
          "GRL",
          "ATF",
          "TLS",
          "SLV",
          "BLZ",
          "SUR",
          "PRI",
          "JAM",
          "MRT",
          "LBN",
          "PSE",
          "GMB",
          "ARE",
          "QAT",
          "KWT",
          "IRQ",
          "VUT",
          "KHM",
          "LAO",
          "MMR",
          "PRK",
          "MNG",
          "AFG",
          "TJK",
          "KGZ",
          "TKM",
          "ARM",
          "BLR",
          "MDA",
          "LTU",
          "LVA",
          "ALB",
          "HRV",
          "SLB",
          "ISL",
          "AZE",
          "BRN",
          "YEM",
          "ATA",
          "CYN",
          "CYP",
          "MAR",
          "LBY",
          "DJI",
          "SOL",
          "RWA",
          "BIH",
          "MNE",
          "-99",
          "TTO",
          "SSD",
          "FR1",
          "GB1",
          "NZ1",
          "WSM",
          "TON",
          "BRB",
          "STP",
          "MLT",
          "BHR",
          "MDV",
          "PLW",
          "US1",
          "FSM",
          "MHL",
          "KIR",
          "NRU",
          "TUV",
          "MUS",
          "COM",
          "DN1"
         ],
         "name": "Correctly represented",
         "showlegend": true,
         "showscale": false,
         "type": "choropleth",
         "z": [
          1,
          1,
          1,
          1,
          1,
          1,
          1,
          1,
          1,
          1,
          1,
          1,
          1,
          1,
          1,
          1,
          1,
          1,
          1,
          1,
          1,
          1,
          1,
          1,
          1,
          1,
          1,
          1,
          1,
          1,
          1,
          1,
          1,
          1,
          1,
          1,
          1,
          1,
          1,
          1,
          1,
          1,
          1,
          1,
          1,
          1,
          1,
          1,
          1,
          1,
          1,
          1,
          1,
          1,
          1,
          1,
          1,
          1,
          1,
          1,
          1,
          1,
          1,
          1,
          1,
          1,
          1,
          1,
          1,
          1,
          1,
          1,
          1,
          1,
          1,
          1,
          1,
          1,
          1,
          1,
          1,
          1,
          1,
          1,
          1,
          1,
          1,
          1,
          1,
          1,
          1,
          1,
          1,
          1,
          1,
          1,
          1,
          1,
          1,
          1,
          1,
          1,
          1,
          1,
          1,
          1,
          1,
          1,
          1,
          1,
          1,
          1,
          1,
          1,
          1,
          1,
          1,
          1,
          1,
          1,
          1,
          1,
          1,
          1,
          1,
          1,
          1,
          1,
          1,
          1,
          1,
          1,
          1,
          1,
          1,
          1,
          1,
          1,
          1,
          1
         ]
        },
        {
         "colorscale": [
          [
           0,
           "#AD1EE5"
          ],
          [
           1,
           "#AD1EE5"
          ]
         ],
         "geo": "geo",
         "hovertemplate": "category=Overrepresented (no p-value)<br>iso_alpha=%{location}<extra></extra>",
         "locations": [
          "ISR",
          "NLD",
          "DEU",
          "POL",
          "AUT",
          "NZL",
          "CAN",
          "RUS",
          "NOR",
          "URY",
          "CRI",
          "TUN",
          "DZA",
          "JOR",
          "KOR",
          "BGD",
          "PAK",
          "IRN",
          "SYR",
          "SWE",
          "UKR",
          "HUN",
          "ROU",
          "EST",
          "TUR",
          "CHE",
          "LUX",
          "BEL",
          "PRT",
          "IRL",
          "NCL",
          "TWN",
          "ITA",
          "DNK",
          "GBR",
          "GEO",
          "PHL",
          "MYS",
          "SVN",
          "FIN",
          "SVK",
          "CZE",
          "JPN",
          "SAU",
          "EGY",
          "SGP"
         ],
         "name": "Overrepresented (no p-value)",
         "showlegend": true,
         "showscale": false,
         "type": "choropleth",
         "z": [
          1,
          1,
          1,
          1,
          1,
          1,
          1,
          1,
          1,
          1,
          1,
          1,
          1,
          1,
          1,
          1,
          1,
          1,
          1,
          1,
          1,
          1,
          1,
          1,
          1,
          1,
          1,
          1,
          1,
          1,
          1,
          1,
          1,
          1,
          1,
          1,
          1,
          1,
          1,
          1,
          1,
          1,
          1,
          1,
          1,
          1
         ]
        }
       ],
       "layout": {
        "geo": {
         "center": {},
         "domain": {
          "x": [
           0,
           1
          ],
          "y": [
           0,
           1
          ]
         }
        },
        "legend": {
         "title": {
          "text": "category"
         },
         "tracegroupgap": 0
        },
        "margin": {
         "t": 60
        },
        "template": {
         "data": {
          "bar": [
           {
            "error_x": {
             "color": "#2a3f5f"
            },
            "error_y": {
             "color": "#2a3f5f"
            },
            "marker": {
             "line": {
              "color": "#E5ECF6",
              "width": 0.5
             },
             "pattern": {
              "fillmode": "overlay",
              "size": 10,
              "solidity": 0.2
             }
            },
            "type": "bar"
           }
          ],
          "barpolar": [
           {
            "marker": {
             "line": {
              "color": "#E5ECF6",
              "width": 0.5
             },
             "pattern": {
              "fillmode": "overlay",
              "size": 10,
              "solidity": 0.2
             }
            },
            "type": "barpolar"
           }
          ],
          "carpet": [
           {
            "aaxis": {
             "endlinecolor": "#2a3f5f",
             "gridcolor": "white",
             "linecolor": "white",
             "minorgridcolor": "white",
             "startlinecolor": "#2a3f5f"
            },
            "baxis": {
             "endlinecolor": "#2a3f5f",
             "gridcolor": "white",
             "linecolor": "white",
             "minorgridcolor": "white",
             "startlinecolor": "#2a3f5f"
            },
            "type": "carpet"
           }
          ],
          "choropleth": [
           {
            "colorbar": {
             "outlinewidth": 0,
             "ticks": ""
            },
            "type": "choropleth"
           }
          ],
          "contour": [
           {
            "colorbar": {
             "outlinewidth": 0,
             "ticks": ""
            },
            "colorscale": [
             [
              0,
              "#0d0887"
             ],
             [
              0.1111111111111111,
              "#46039f"
             ],
             [
              0.2222222222222222,
              "#7201a8"
             ],
             [
              0.3333333333333333,
              "#9c179e"
             ],
             [
              0.4444444444444444,
              "#bd3786"
             ],
             [
              0.5555555555555556,
              "#d8576b"
             ],
             [
              0.6666666666666666,
              "#ed7953"
             ],
             [
              0.7777777777777778,
              "#fb9f3a"
             ],
             [
              0.8888888888888888,
              "#fdca26"
             ],
             [
              1,
              "#f0f921"
             ]
            ],
            "type": "contour"
           }
          ],
          "contourcarpet": [
           {
            "colorbar": {
             "outlinewidth": 0,
             "ticks": ""
            },
            "type": "contourcarpet"
           }
          ],
          "heatmap": [
           {
            "colorbar": {
             "outlinewidth": 0,
             "ticks": ""
            },
            "colorscale": [
             [
              0,
              "#0d0887"
             ],
             [
              0.1111111111111111,
              "#46039f"
             ],
             [
              0.2222222222222222,
              "#7201a8"
             ],
             [
              0.3333333333333333,
              "#9c179e"
             ],
             [
              0.4444444444444444,
              "#bd3786"
             ],
             [
              0.5555555555555556,
              "#d8576b"
             ],
             [
              0.6666666666666666,
              "#ed7953"
             ],
             [
              0.7777777777777778,
              "#fb9f3a"
             ],
             [
              0.8888888888888888,
              "#fdca26"
             ],
             [
              1,
              "#f0f921"
             ]
            ],
            "type": "heatmap"
           }
          ],
          "heatmapgl": [
           {
            "colorbar": {
             "outlinewidth": 0,
             "ticks": ""
            },
            "colorscale": [
             [
              0,
              "#0d0887"
             ],
             [
              0.1111111111111111,
              "#46039f"
             ],
             [
              0.2222222222222222,
              "#7201a8"
             ],
             [
              0.3333333333333333,
              "#9c179e"
             ],
             [
              0.4444444444444444,
              "#bd3786"
             ],
             [
              0.5555555555555556,
              "#d8576b"
             ],
             [
              0.6666666666666666,
              "#ed7953"
             ],
             [
              0.7777777777777778,
              "#fb9f3a"
             ],
             [
              0.8888888888888888,
              "#fdca26"
             ],
             [
              1,
              "#f0f921"
             ]
            ],
            "type": "heatmapgl"
           }
          ],
          "histogram": [
           {
            "marker": {
             "pattern": {
              "fillmode": "overlay",
              "size": 10,
              "solidity": 0.2
             }
            },
            "type": "histogram"
           }
          ],
          "histogram2d": [
           {
            "colorbar": {
             "outlinewidth": 0,
             "ticks": ""
            },
            "colorscale": [
             [
              0,
              "#0d0887"
             ],
             [
              0.1111111111111111,
              "#46039f"
             ],
             [
              0.2222222222222222,
              "#7201a8"
             ],
             [
              0.3333333333333333,
              "#9c179e"
             ],
             [
              0.4444444444444444,
              "#bd3786"
             ],
             [
              0.5555555555555556,
              "#d8576b"
             ],
             [
              0.6666666666666666,
              "#ed7953"
             ],
             [
              0.7777777777777778,
              "#fb9f3a"
             ],
             [
              0.8888888888888888,
              "#fdca26"
             ],
             [
              1,
              "#f0f921"
             ]
            ],
            "type": "histogram2d"
           }
          ],
          "histogram2dcontour": [
           {
            "colorbar": {
             "outlinewidth": 0,
             "ticks": ""
            },
            "colorscale": [
             [
              0,
              "#0d0887"
             ],
             [
              0.1111111111111111,
              "#46039f"
             ],
             [
              0.2222222222222222,
              "#7201a8"
             ],
             [
              0.3333333333333333,
              "#9c179e"
             ],
             [
              0.4444444444444444,
              "#bd3786"
             ],
             [
              0.5555555555555556,
              "#d8576b"
             ],
             [
              0.6666666666666666,
              "#ed7953"
             ],
             [
              0.7777777777777778,
              "#fb9f3a"
             ],
             [
              0.8888888888888888,
              "#fdca26"
             ],
             [
              1,
              "#f0f921"
             ]
            ],
            "type": "histogram2dcontour"
           }
          ],
          "mesh3d": [
           {
            "colorbar": {
             "outlinewidth": 0,
             "ticks": ""
            },
            "type": "mesh3d"
           }
          ],
          "parcoords": [
           {
            "line": {
             "colorbar": {
              "outlinewidth": 0,
              "ticks": ""
             }
            },
            "type": "parcoords"
           }
          ],
          "pie": [
           {
            "automargin": true,
            "type": "pie"
           }
          ],
          "scatter": [
           {
            "fillpattern": {
             "fillmode": "overlay",
             "size": 10,
             "solidity": 0.2
            },
            "type": "scatter"
           }
          ],
          "scatter3d": [
           {
            "line": {
             "colorbar": {
              "outlinewidth": 0,
              "ticks": ""
             }
            },
            "marker": {
             "colorbar": {
              "outlinewidth": 0,
              "ticks": ""
             }
            },
            "type": "scatter3d"
           }
          ],
          "scattercarpet": [
           {
            "marker": {
             "colorbar": {
              "outlinewidth": 0,
              "ticks": ""
             }
            },
            "type": "scattercarpet"
           }
          ],
          "scattergeo": [
           {
            "marker": {
             "colorbar": {
              "outlinewidth": 0,
              "ticks": ""
             }
            },
            "type": "scattergeo"
           }
          ],
          "scattergl": [
           {
            "marker": {
             "colorbar": {
              "outlinewidth": 0,
              "ticks": ""
             }
            },
            "type": "scattergl"
           }
          ],
          "scattermapbox": [
           {
            "marker": {
             "colorbar": {
              "outlinewidth": 0,
              "ticks": ""
             }
            },
            "type": "scattermapbox"
           }
          ],
          "scatterpolar": [
           {
            "marker": {
             "colorbar": {
              "outlinewidth": 0,
              "ticks": ""
             }
            },
            "type": "scatterpolar"
           }
          ],
          "scatterpolargl": [
           {
            "marker": {
             "colorbar": {
              "outlinewidth": 0,
              "ticks": ""
             }
            },
            "type": "scatterpolargl"
           }
          ],
          "scatterternary": [
           {
            "marker": {
             "colorbar": {
              "outlinewidth": 0,
              "ticks": ""
             }
            },
            "type": "scatterternary"
           }
          ],
          "surface": [
           {
            "colorbar": {
             "outlinewidth": 0,
             "ticks": ""
            },
            "colorscale": [
             [
              0,
              "#0d0887"
             ],
             [
              0.1111111111111111,
              "#46039f"
             ],
             [
              0.2222222222222222,
              "#7201a8"
             ],
             [
              0.3333333333333333,
              "#9c179e"
             ],
             [
              0.4444444444444444,
              "#bd3786"
             ],
             [
              0.5555555555555556,
              "#d8576b"
             ],
             [
              0.6666666666666666,
              "#ed7953"
             ],
             [
              0.7777777777777778,
              "#fb9f3a"
             ],
             [
              0.8888888888888888,
              "#fdca26"
             ],
             [
              1,
              "#f0f921"
             ]
            ],
            "type": "surface"
           }
          ],
          "table": [
           {
            "cells": {
             "fill": {
              "color": "#EBF0F8"
             },
             "line": {
              "color": "white"
             }
            },
            "header": {
             "fill": {
              "color": "#C8D4E3"
             },
             "line": {
              "color": "white"
             }
            },
            "type": "table"
           }
          ]
         },
         "layout": {
          "annotationdefaults": {
           "arrowcolor": "#2a3f5f",
           "arrowhead": 0,
           "arrowwidth": 1
          },
          "autotypenumbers": "strict",
          "coloraxis": {
           "colorbar": {
            "outlinewidth": 0,
            "ticks": ""
           }
          },
          "colorscale": {
           "diverging": [
            [
             0,
             "#8e0152"
            ],
            [
             0.1,
             "#c51b7d"
            ],
            [
             0.2,
             "#de77ae"
            ],
            [
             0.3,
             "#f1b6da"
            ],
            [
             0.4,
             "#fde0ef"
            ],
            [
             0.5,
             "#f7f7f7"
            ],
            [
             0.6,
             "#e6f5d0"
            ],
            [
             0.7,
             "#b8e186"
            ],
            [
             0.8,
             "#7fbc41"
            ],
            [
             0.9,
             "#4d9221"
            ],
            [
             1,
             "#276419"
            ]
           ],
           "sequential": [
            [
             0,
             "#0d0887"
            ],
            [
             0.1111111111111111,
             "#46039f"
            ],
            [
             0.2222222222222222,
             "#7201a8"
            ],
            [
             0.3333333333333333,
             "#9c179e"
            ],
            [
             0.4444444444444444,
             "#bd3786"
            ],
            [
             0.5555555555555556,
             "#d8576b"
            ],
            [
             0.6666666666666666,
             "#ed7953"
            ],
            [
             0.7777777777777778,
             "#fb9f3a"
            ],
            [
             0.8888888888888888,
             "#fdca26"
            ],
            [
             1,
             "#f0f921"
            ]
           ],
           "sequentialminus": [
            [
             0,
             "#0d0887"
            ],
            [
             0.1111111111111111,
             "#46039f"
            ],
            [
             0.2222222222222222,
             "#7201a8"
            ],
            [
             0.3333333333333333,
             "#9c179e"
            ],
            [
             0.4444444444444444,
             "#bd3786"
            ],
            [
             0.5555555555555556,
             "#d8576b"
            ],
            [
             0.6666666666666666,
             "#ed7953"
            ],
            [
             0.7777777777777778,
             "#fb9f3a"
            ],
            [
             0.8888888888888888,
             "#fdca26"
            ],
            [
             1,
             "#f0f921"
            ]
           ]
          },
          "colorway": [
           "#636efa",
           "#EF553B",
           "#00cc96",
           "#ab63fa",
           "#FFA15A",
           "#19d3f3",
           "#FF6692",
           "#B6E880",
           "#FF97FF",
           "#FECB52"
          ],
          "font": {
           "color": "#2a3f5f"
          },
          "geo": {
           "bgcolor": "white",
           "lakecolor": "white",
           "landcolor": "#E5ECF6",
           "showlakes": true,
           "showland": true,
           "subunitcolor": "white"
          },
          "hoverlabel": {
           "align": "left"
          },
          "hovermode": "closest",
          "mapbox": {
           "style": "light"
          },
          "paper_bgcolor": "white",
          "plot_bgcolor": "#E5ECF6",
          "polar": {
           "angularaxis": {
            "gridcolor": "white",
            "linecolor": "white",
            "ticks": ""
           },
           "bgcolor": "#E5ECF6",
           "radialaxis": {
            "gridcolor": "white",
            "linecolor": "white",
            "ticks": ""
           }
          },
          "scene": {
           "xaxis": {
            "backgroundcolor": "#E5ECF6",
            "gridcolor": "white",
            "gridwidth": 2,
            "linecolor": "white",
            "showbackground": true,
            "ticks": "",
            "zerolinecolor": "white"
           },
           "yaxis": {
            "backgroundcolor": "#E5ECF6",
            "gridcolor": "white",
            "gridwidth": 2,
            "linecolor": "white",
            "showbackground": true,
            "ticks": "",
            "zerolinecolor": "white"
           },
           "zaxis": {
            "backgroundcolor": "#E5ECF6",
            "gridcolor": "white",
            "gridwidth": 2,
            "linecolor": "white",
            "showbackground": true,
            "ticks": "",
            "zerolinecolor": "white"
           }
          },
          "shapedefaults": {
           "line": {
            "color": "#2a3f5f"
           }
          },
          "ternary": {
           "aaxis": {
            "gridcolor": "white",
            "linecolor": "white",
            "ticks": ""
           },
           "baxis": {
            "gridcolor": "white",
            "linecolor": "white",
            "ticks": ""
           },
           "bgcolor": "#E5ECF6",
           "caxis": {
            "gridcolor": "white",
            "linecolor": "white",
            "ticks": ""
           }
          },
          "title": {
           "x": 0.05
          },
          "xaxis": {
           "automargin": true,
           "gridcolor": "white",
           "linecolor": "white",
           "ticks": "",
           "title": {
            "standoff": 15
           },
           "zerolinecolor": "white",
           "zerolinewidth": 2
          },
          "yaxis": {
           "automargin": true,
           "gridcolor": "white",
           "linecolor": "white",
           "ticks": "",
           "title": {
            "standoff": 15
           },
           "zerolinecolor": "white",
           "zerolinewidth": 2
          }
         }
        }
       }
      },
      "text/html": [
       "<div>                            <div id=\"0583201f-0ea6-4005-ac5d-275491a436c2\" class=\"plotly-graph-div\" style=\"height:525px; width:100%;\"></div>            <script type=\"text/javascript\">                require([\"plotly\"], function(Plotly) {                    window.PLOTLYENV=window.PLOTLYENV || {};                                    if (document.getElementById(\"0583201f-0ea6-4005-ac5d-275491a436c2\")) {                    Plotly.newPlot(                        \"0583201f-0ea6-4005-ac5d-275491a436c2\",                        [{\"colorscale\":[[0.0,\"#D81B60\"],[1.0,\"#D81B60\"]],\"geo\":\"geo\",\"hovertemplate\":\"category=Overrepresented (significant)\\u003cbr\\u003eiso_alpha=%{location}\\u003cextra\\u003e\\u003c\\u002fextra\\u003e\",\"locations\":[\"ZAF\",\"USA\",\"FRA\",\"ESP\",\"AUS\",\"BRA\",\"BGR\",\"CHL\",\"SRB\"],\"name\":\"Overrepresented (significant)\",\"showlegend\":true,\"showscale\":false,\"z\":[1,1,1,1,1,1,1,1,1],\"type\":\"choropleth\"},{\"colorscale\":[[0.0,\"#FFC107\"],[1.0,\"#FFC107\"]],\"geo\":\"geo\",\"hovertemplate\":\"category=Underrepresented (significant)\\u003cbr\\u003eiso_alpha=%{location}\\u003cextra\\u003e\\u003c\\u002fextra\\u003e\",\"locations\":[\"IND\",\"IDN\",\"NGA\"],\"name\":\"Underrepresented (significant)\",\"showlegend\":true,\"showscale\":false,\"z\":[1,1,1],\"type\":\"choropleth\"},{\"colorscale\":[[0.0,\"#AFAFAF\"],[1.0,\"#AFAFAF\"]],\"geo\":\"geo\",\"hovertemplate\":\"category=Correctly represented\\u003cbr\\u003eiso_alpha=%{location}\\u003cextra\\u003e\\u003c\\u002fextra\\u003e\",\"locations\":[\"CHN\",\"ETH\",\"UGA\",\"KEN\",\"TZA\",\"PNG\",\"ARG\",\"COD\",\"SOM\",\"TCD\",\"LSO\",\"MEX\",\"BOL\",\"PER\",\"COL\",\"PAN\",\"NIC\",\"HND\",\"GTM\",\"VEN\",\"GUY\",\"ECU\",\"CUB\",\"ZWE\",\"BWA\",\"NAM\",\"SEN\",\"MLI\",\"BEN\",\"NER\",\"CMR\",\"TGO\",\"GHA\",\"CIV\",\"GIN\",\"GNB\",\"LBR\",\"SLE\",\"BFA\",\"CAF\",\"COG\",\"GAB\",\"GNQ\",\"ZMB\",\"MWI\",\"MOZ\",\"SWZ\",\"AGO\",\"BDI\",\"MDG\",\"OMN\",\"THA\",\"VNM\",\"BTN\",\"NPL\",\"GRC\",\"LKA\",\"ERI\",\"PRY\",\"MKD\",\"FJI\",\"ESH\",\"KAZ\",\"UZB\",\"SDN\",\"HTI\",\"DOM\",\"BHS\",\"FLK\",\"GRL\",\"ATF\",\"TLS\",\"SLV\",\"BLZ\",\"SUR\",\"PRI\",\"JAM\",\"MRT\",\"LBN\",\"PSE\",\"GMB\",\"ARE\",\"QAT\",\"KWT\",\"IRQ\",\"VUT\",\"KHM\",\"LAO\",\"MMR\",\"PRK\",\"MNG\",\"AFG\",\"TJK\",\"KGZ\",\"TKM\",\"ARM\",\"BLR\",\"MDA\",\"LTU\",\"LVA\",\"ALB\",\"HRV\",\"SLB\",\"ISL\",\"AZE\",\"BRN\",\"YEM\",\"ATA\",\"CYN\",\"CYP\",\"MAR\",\"LBY\",\"DJI\",\"SOL\",\"RWA\",\"BIH\",\"MNE\",\"-99\",\"TTO\",\"SSD\",\"FR1\",\"GB1\",\"NZ1\",\"WSM\",\"TON\",\"BRB\",\"STP\",\"MLT\",\"BHR\",\"MDV\",\"PLW\",\"US1\",\"FSM\",\"MHL\",\"KIR\",\"NRU\",\"TUV\",\"MUS\",\"COM\",\"DN1\"],\"name\":\"Correctly represented\",\"showlegend\":true,\"showscale\":false,\"z\":[1,1,1,1,1,1,1,1,1,1,1,1,1,1,1,1,1,1,1,1,1,1,1,1,1,1,1,1,1,1,1,1,1,1,1,1,1,1,1,1,1,1,1,1,1,1,1,1,1,1,1,1,1,1,1,1,1,1,1,1,1,1,1,1,1,1,1,1,1,1,1,1,1,1,1,1,1,1,1,1,1,1,1,1,1,1,1,1,1,1,1,1,1,1,1,1,1,1,1,1,1,1,1,1,1,1,1,1,1,1,1,1,1,1,1,1,1,1,1,1,1,1,1,1,1,1,1,1,1,1,1,1,1,1,1,1,1,1,1,1],\"type\":\"choropleth\"},{\"colorscale\":[[0.0,\"#AD1EE5\"],[1.0,\"#AD1EE5\"]],\"geo\":\"geo\",\"hovertemplate\":\"category=Overrepresented (no p-value)\\u003cbr\\u003eiso_alpha=%{location}\\u003cextra\\u003e\\u003c\\u002fextra\\u003e\",\"locations\":[\"ISR\",\"NLD\",\"DEU\",\"POL\",\"AUT\",\"NZL\",\"CAN\",\"RUS\",\"NOR\",\"URY\",\"CRI\",\"TUN\",\"DZA\",\"JOR\",\"KOR\",\"BGD\",\"PAK\",\"IRN\",\"SYR\",\"SWE\",\"UKR\",\"HUN\",\"ROU\",\"EST\",\"TUR\",\"CHE\",\"LUX\",\"BEL\",\"PRT\",\"IRL\",\"NCL\",\"TWN\",\"ITA\",\"DNK\",\"GBR\",\"GEO\",\"PHL\",\"MYS\",\"SVN\",\"FIN\",\"SVK\",\"CZE\",\"JPN\",\"SAU\",\"EGY\",\"SGP\"],\"name\":\"Overrepresented (no p-value)\",\"showlegend\":true,\"showscale\":false,\"z\":[1,1,1,1,1,1,1,1,1,1,1,1,1,1,1,1,1,1,1,1,1,1,1,1,1,1,1,1,1,1,1,1,1,1,1,1,1,1,1,1,1,1,1,1,1,1],\"type\":\"choropleth\"}],                        {\"template\":{\"data\":{\"histogram2dcontour\":[{\"type\":\"histogram2dcontour\",\"colorbar\":{\"outlinewidth\":0,\"ticks\":\"\"},\"colorscale\":[[0.0,\"#0d0887\"],[0.1111111111111111,\"#46039f\"],[0.2222222222222222,\"#7201a8\"],[0.3333333333333333,\"#9c179e\"],[0.4444444444444444,\"#bd3786\"],[0.5555555555555556,\"#d8576b\"],[0.6666666666666666,\"#ed7953\"],[0.7777777777777778,\"#fb9f3a\"],[0.8888888888888888,\"#fdca26\"],[1.0,\"#f0f921\"]]}],\"choropleth\":[{\"type\":\"choropleth\",\"colorbar\":{\"outlinewidth\":0,\"ticks\":\"\"}}],\"histogram2d\":[{\"type\":\"histogram2d\",\"colorbar\":{\"outlinewidth\":0,\"ticks\":\"\"},\"colorscale\":[[0.0,\"#0d0887\"],[0.1111111111111111,\"#46039f\"],[0.2222222222222222,\"#7201a8\"],[0.3333333333333333,\"#9c179e\"],[0.4444444444444444,\"#bd3786\"],[0.5555555555555556,\"#d8576b\"],[0.6666666666666666,\"#ed7953\"],[0.7777777777777778,\"#fb9f3a\"],[0.8888888888888888,\"#fdca26\"],[1.0,\"#f0f921\"]]}],\"heatmap\":[{\"type\":\"heatmap\",\"colorbar\":{\"outlinewidth\":0,\"ticks\":\"\"},\"colorscale\":[[0.0,\"#0d0887\"],[0.1111111111111111,\"#46039f\"],[0.2222222222222222,\"#7201a8\"],[0.3333333333333333,\"#9c179e\"],[0.4444444444444444,\"#bd3786\"],[0.5555555555555556,\"#d8576b\"],[0.6666666666666666,\"#ed7953\"],[0.7777777777777778,\"#fb9f3a\"],[0.8888888888888888,\"#fdca26\"],[1.0,\"#f0f921\"]]}],\"heatmapgl\":[{\"type\":\"heatmapgl\",\"colorbar\":{\"outlinewidth\":0,\"ticks\":\"\"},\"colorscale\":[[0.0,\"#0d0887\"],[0.1111111111111111,\"#46039f\"],[0.2222222222222222,\"#7201a8\"],[0.3333333333333333,\"#9c179e\"],[0.4444444444444444,\"#bd3786\"],[0.5555555555555556,\"#d8576b\"],[0.6666666666666666,\"#ed7953\"],[0.7777777777777778,\"#fb9f3a\"],[0.8888888888888888,\"#fdca26\"],[1.0,\"#f0f921\"]]}],\"contourcarpet\":[{\"type\":\"contourcarpet\",\"colorbar\":{\"outlinewidth\":0,\"ticks\":\"\"}}],\"contour\":[{\"type\":\"contour\",\"colorbar\":{\"outlinewidth\":0,\"ticks\":\"\"},\"colorscale\":[[0.0,\"#0d0887\"],[0.1111111111111111,\"#46039f\"],[0.2222222222222222,\"#7201a8\"],[0.3333333333333333,\"#9c179e\"],[0.4444444444444444,\"#bd3786\"],[0.5555555555555556,\"#d8576b\"],[0.6666666666666666,\"#ed7953\"],[0.7777777777777778,\"#fb9f3a\"],[0.8888888888888888,\"#fdca26\"],[1.0,\"#f0f921\"]]}],\"surface\":[{\"type\":\"surface\",\"colorbar\":{\"outlinewidth\":0,\"ticks\":\"\"},\"colorscale\":[[0.0,\"#0d0887\"],[0.1111111111111111,\"#46039f\"],[0.2222222222222222,\"#7201a8\"],[0.3333333333333333,\"#9c179e\"],[0.4444444444444444,\"#bd3786\"],[0.5555555555555556,\"#d8576b\"],[0.6666666666666666,\"#ed7953\"],[0.7777777777777778,\"#fb9f3a\"],[0.8888888888888888,\"#fdca26\"],[1.0,\"#f0f921\"]]}],\"mesh3d\":[{\"type\":\"mesh3d\",\"colorbar\":{\"outlinewidth\":0,\"ticks\":\"\"}}],\"scatter\":[{\"fillpattern\":{\"fillmode\":\"overlay\",\"size\":10,\"solidity\":0.2},\"type\":\"scatter\"}],\"parcoords\":[{\"type\":\"parcoords\",\"line\":{\"colorbar\":{\"outlinewidth\":0,\"ticks\":\"\"}}}],\"scatterpolargl\":[{\"type\":\"scatterpolargl\",\"marker\":{\"colorbar\":{\"outlinewidth\":0,\"ticks\":\"\"}}}],\"bar\":[{\"error_x\":{\"color\":\"#2a3f5f\"},\"error_y\":{\"color\":\"#2a3f5f\"},\"marker\":{\"line\":{\"color\":\"#E5ECF6\",\"width\":0.5},\"pattern\":{\"fillmode\":\"overlay\",\"size\":10,\"solidity\":0.2}},\"type\":\"bar\"}],\"scattergeo\":[{\"type\":\"scattergeo\",\"marker\":{\"colorbar\":{\"outlinewidth\":0,\"ticks\":\"\"}}}],\"scatterpolar\":[{\"type\":\"scatterpolar\",\"marker\":{\"colorbar\":{\"outlinewidth\":0,\"ticks\":\"\"}}}],\"histogram\":[{\"marker\":{\"pattern\":{\"fillmode\":\"overlay\",\"size\":10,\"solidity\":0.2}},\"type\":\"histogram\"}],\"scattergl\":[{\"type\":\"scattergl\",\"marker\":{\"colorbar\":{\"outlinewidth\":0,\"ticks\":\"\"}}}],\"scatter3d\":[{\"type\":\"scatter3d\",\"line\":{\"colorbar\":{\"outlinewidth\":0,\"ticks\":\"\"}},\"marker\":{\"colorbar\":{\"outlinewidth\":0,\"ticks\":\"\"}}}],\"scattermapbox\":[{\"type\":\"scattermapbox\",\"marker\":{\"colorbar\":{\"outlinewidth\":0,\"ticks\":\"\"}}}],\"scatterternary\":[{\"type\":\"scatterternary\",\"marker\":{\"colorbar\":{\"outlinewidth\":0,\"ticks\":\"\"}}}],\"scattercarpet\":[{\"type\":\"scattercarpet\",\"marker\":{\"colorbar\":{\"outlinewidth\":0,\"ticks\":\"\"}}}],\"carpet\":[{\"aaxis\":{\"endlinecolor\":\"#2a3f5f\",\"gridcolor\":\"white\",\"linecolor\":\"white\",\"minorgridcolor\":\"white\",\"startlinecolor\":\"#2a3f5f\"},\"baxis\":{\"endlinecolor\":\"#2a3f5f\",\"gridcolor\":\"white\",\"linecolor\":\"white\",\"minorgridcolor\":\"white\",\"startlinecolor\":\"#2a3f5f\"},\"type\":\"carpet\"}],\"table\":[{\"cells\":{\"fill\":{\"color\":\"#EBF0F8\"},\"line\":{\"color\":\"white\"}},\"header\":{\"fill\":{\"color\":\"#C8D4E3\"},\"line\":{\"color\":\"white\"}},\"type\":\"table\"}],\"barpolar\":[{\"marker\":{\"line\":{\"color\":\"#E5ECF6\",\"width\":0.5},\"pattern\":{\"fillmode\":\"overlay\",\"size\":10,\"solidity\":0.2}},\"type\":\"barpolar\"}],\"pie\":[{\"automargin\":true,\"type\":\"pie\"}]},\"layout\":{\"autotypenumbers\":\"strict\",\"colorway\":[\"#636efa\",\"#EF553B\",\"#00cc96\",\"#ab63fa\",\"#FFA15A\",\"#19d3f3\",\"#FF6692\",\"#B6E880\",\"#FF97FF\",\"#FECB52\"],\"font\":{\"color\":\"#2a3f5f\"},\"hovermode\":\"closest\",\"hoverlabel\":{\"align\":\"left\"},\"paper_bgcolor\":\"white\",\"plot_bgcolor\":\"#E5ECF6\",\"polar\":{\"bgcolor\":\"#E5ECF6\",\"angularaxis\":{\"gridcolor\":\"white\",\"linecolor\":\"white\",\"ticks\":\"\"},\"radialaxis\":{\"gridcolor\":\"white\",\"linecolor\":\"white\",\"ticks\":\"\"}},\"ternary\":{\"bgcolor\":\"#E5ECF6\",\"aaxis\":{\"gridcolor\":\"white\",\"linecolor\":\"white\",\"ticks\":\"\"},\"baxis\":{\"gridcolor\":\"white\",\"linecolor\":\"white\",\"ticks\":\"\"},\"caxis\":{\"gridcolor\":\"white\",\"linecolor\":\"white\",\"ticks\":\"\"}},\"coloraxis\":{\"colorbar\":{\"outlinewidth\":0,\"ticks\":\"\"}},\"colorscale\":{\"sequential\":[[0.0,\"#0d0887\"],[0.1111111111111111,\"#46039f\"],[0.2222222222222222,\"#7201a8\"],[0.3333333333333333,\"#9c179e\"],[0.4444444444444444,\"#bd3786\"],[0.5555555555555556,\"#d8576b\"],[0.6666666666666666,\"#ed7953\"],[0.7777777777777778,\"#fb9f3a\"],[0.8888888888888888,\"#fdca26\"],[1.0,\"#f0f921\"]],\"sequentialminus\":[[0.0,\"#0d0887\"],[0.1111111111111111,\"#46039f\"],[0.2222222222222222,\"#7201a8\"],[0.3333333333333333,\"#9c179e\"],[0.4444444444444444,\"#bd3786\"],[0.5555555555555556,\"#d8576b\"],[0.6666666666666666,\"#ed7953\"],[0.7777777777777778,\"#fb9f3a\"],[0.8888888888888888,\"#fdca26\"],[1.0,\"#f0f921\"]],\"diverging\":[[0,\"#8e0152\"],[0.1,\"#c51b7d\"],[0.2,\"#de77ae\"],[0.3,\"#f1b6da\"],[0.4,\"#fde0ef\"],[0.5,\"#f7f7f7\"],[0.6,\"#e6f5d0\"],[0.7,\"#b8e186\"],[0.8,\"#7fbc41\"],[0.9,\"#4d9221\"],[1,\"#276419\"]]},\"xaxis\":{\"gridcolor\":\"white\",\"linecolor\":\"white\",\"ticks\":\"\",\"title\":{\"standoff\":15},\"zerolinecolor\":\"white\",\"automargin\":true,\"zerolinewidth\":2},\"yaxis\":{\"gridcolor\":\"white\",\"linecolor\":\"white\",\"ticks\":\"\",\"title\":{\"standoff\":15},\"zerolinecolor\":\"white\",\"automargin\":true,\"zerolinewidth\":2},\"scene\":{\"xaxis\":{\"backgroundcolor\":\"#E5ECF6\",\"gridcolor\":\"white\",\"linecolor\":\"white\",\"showbackground\":true,\"ticks\":\"\",\"zerolinecolor\":\"white\",\"gridwidth\":2},\"yaxis\":{\"backgroundcolor\":\"#E5ECF6\",\"gridcolor\":\"white\",\"linecolor\":\"white\",\"showbackground\":true,\"ticks\":\"\",\"zerolinecolor\":\"white\",\"gridwidth\":2},\"zaxis\":{\"backgroundcolor\":\"#E5ECF6\",\"gridcolor\":\"white\",\"linecolor\":\"white\",\"showbackground\":true,\"ticks\":\"\",\"zerolinecolor\":\"white\",\"gridwidth\":2}},\"shapedefaults\":{\"line\":{\"color\":\"#2a3f5f\"}},\"annotationdefaults\":{\"arrowcolor\":\"#2a3f5f\",\"arrowhead\":0,\"arrowwidth\":1},\"geo\":{\"bgcolor\":\"white\",\"landcolor\":\"#E5ECF6\",\"subunitcolor\":\"white\",\"showland\":true,\"showlakes\":true,\"lakecolor\":\"white\"},\"title\":{\"x\":0.05},\"mapbox\":{\"style\":\"light\"}}},\"geo\":{\"domain\":{\"x\":[0.0,1.0],\"y\":[0.0,1.0]},\"center\":{}},\"legend\":{\"title\":{\"text\":\"category\"},\"tracegroupgap\":0},\"margin\":{\"t\":60}},                        {\"responsive\": true}                    ).then(function(){\n",
       "                            \n",
       "var gd = document.getElementById('0583201f-0ea6-4005-ac5d-275491a436c2');\n",
       "var x = new MutationObserver(function (mutations, observer) {{\n",
       "        var display = window.getComputedStyle(gd).display;\n",
       "        if (!display || display === 'none') {{\n",
       "            console.log([gd, 'removed!']);\n",
       "            Plotly.purge(gd);\n",
       "            observer.disconnect();\n",
       "        }}\n",
       "}});\n",
       "\n",
       "// Listen for the removal of the full notebook cells\n",
       "var notebookContainer = gd.closest('#notebook-container');\n",
       "if (notebookContainer) {{\n",
       "    x.observe(notebookContainer, {childList: true});\n",
       "}}\n",
       "\n",
       "// Listen for the clearing of the current output cell\n",
       "var outputEl = gd.closest('.output');\n",
       "if (outputEl) {{\n",
       "    x.observe(outputEl, {childList: true});\n",
       "}}\n",
       "\n",
       "                        })                };                });            </script>        </div>"
      ]
     },
     "metadata": {},
     "output_type": "display_data"
    }
   ],
   "source": [
    "fig = px.choropleth(all_counts_all_countries, locations='iso_alpha', color='category', color_discrete_sequence=colors)\n",
    "fig.show()"
   ]
  }
 ],
 "metadata": {
  "kernelspec": {
   "display_name": "graphs",
   "language": "python",
   "name": "graphs"
  },
  "language_info": {
   "codemirror_mode": {
    "name": "ipython",
    "version": 3
   },
   "file_extension": ".py",
   "mimetype": "text/x-python",
   "name": "python",
   "nbconvert_exporter": "python",
   "pygments_lexer": "ipython3",
   "version": "3.10.13"
  }
 },
 "nbformat": 4,
 "nbformat_minor": 2
}
