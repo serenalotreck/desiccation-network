{
 "cells": [
  {
   "cell_type": "markdown",
   "metadata": {},
   "source": [
    "# Co-network attribute formatting\n",
    "There is one additional attribute we want to add to edges in our co-author and co-citation network graphs once we have the additional suggested attendees that is easiest to add here as opposed to during construction or in Gephi: Whether or not the edges connect two conference attendees. "
   ]
  },
  {
   "cell_type": "code",
   "execution_count": 21,
   "metadata": {},
   "outputs": [],
   "source": [
    "import networkx as nx"
   ]
  },
  {
   "cell_type": "markdown",
   "metadata": {},
   "source": [
    "## Read in data"
   ]
  },
  {
   "cell_type": "code",
   "execution_count": 22,
   "metadata": {},
   "outputs": [],
   "source": [
    "co_author = nx.read_graphml('../data/conference_rec_output/all_alt_names_full_geo_score_22Mar2024_co_author_network.graphml')"
   ]
  },
  {
   "cell_type": "code",
   "execution_count": 23,
   "metadata": {},
   "outputs": [],
   "source": [
    "co_citation = nx.read_graphml('../data/conference_rec_output/all_alt_names_full_geo_score_22Mar2024_co_citation_network.graphml')"
   ]
  },
  {
   "cell_type": "markdown",
   "metadata": {},
   "source": [
    "## Compute and add attribute"
   ]
  },
  {
   "cell_type": "code",
   "execution_count": 24,
   "metadata": {},
   "outputs": [],
   "source": [
    "co_author_attendee = nx.get_node_attributes(co_author, 'is_conference_attendee')\n",
    "co_author_edge_attendee_and_cand = {}\n",
    "for e1, e2, attrs in co_author.edges(data=True):\n",
    "    if (co_author_attendee[e1] == 'yes') or (co_author_attendee[e1] == 'candidate'):\n",
    "        if (co_author_attendee[e2] == 'yes') or (co_author_attendee[e2] == 'candidate'):\n",
    "            co_author_edge_attendee_and_cand[(e1, e2)] = 'yes'\n",
    "        else:\n",
    "            co_author_edge_attendee_and_cand[(e1, e2)] = 'no'\n",
    "    else:\n",
    "        co_author_edge_attendee_and_cand[(e1, e2)] = 'no'\n",
    "\n",
    "co_author_edge_attendee = {}\n",
    "for e1, e2, attrs in co_author.edges(data=True):\n",
    "    if (co_author_attendee[e1] == 'yes'):\n",
    "        if (co_author_attendee[e2] == 'yes'):\n",
    "            co_author_edge_attendee[(e1, e2)] = 'yes'\n",
    "        else:\n",
    "            co_author_edge_attendee[(e1, e2)] = 'no'\n",
    "    else:\n",
    "        co_author_edge_attendee[(e1, e2)] = 'no'"
   ]
  },
  {
   "cell_type": "code",
   "execution_count": 25,
   "metadata": {},
   "outputs": [],
   "source": [
    "_ = nx.set_edge_attributes(co_author, co_author_edge_attendee, 'original_conference_connection')\n",
    "_ = nx.set_edge_attributes(co_author, co_author_edge_attendee_and_cand, 'proposed_and_original_conference_connection')"
   ]
  },
  {
   "cell_type": "code",
   "execution_count": 26,
   "metadata": {},
   "outputs": [],
   "source": [
    "nx.write_graphml(co_author, '../data/conference_rec_output/all_alt_names_full_geo_score_22Mar2024_co_author_network_with_edge_connection_attr.graphml')"
   ]
  },
  {
   "cell_type": "code",
   "execution_count": 27,
   "metadata": {},
   "outputs": [],
   "source": [
    "co_citation_attendee = nx.get_node_attributes(co_citation, 'is_conference_attendee')\n",
    "co_citation_edge_attendee_and_cand = {}\n",
    "for e1, e2, attrs in co_citation.edges(data=True):\n",
    "    if (co_citation_attendee[e1] == 'yes') or (co_citation_attendee[e1] == 'candidate'):\n",
    "        if (co_citation_attendee[e2] == 'yes') or (co_citation_attendee[e2] == 'candidate'):\n",
    "            co_citation_edge_attendee_and_cand[(e1, e2)] = 'yes'\n",
    "        else:\n",
    "            co_citation_edge_attendee_and_cand[(e1, e2)] = 'no'\n",
    "    else:\n",
    "        co_citation_edge_attendee_and_cand[(e1, e2)] = 'no'\n",
    "\n",
    "co_citation_edge_attendee = {}\n",
    "for e1, e2, attrs in co_citation.edges(data=True):\n",
    "    if (co_citation_attendee[e1] == 'yes'):\n",
    "        if (co_citation_attendee[e2] == 'yes'):\n",
    "            co_citation_edge_attendee[(e1, e2)] = 'yes'\n",
    "        else:\n",
    "            co_citation_edge_attendee[(e1, e2)] = 'no'\n",
    "    else:\n",
    "        co_citation_edge_attendee[(e1, e2)] = 'no'"
   ]
  },
  {
   "cell_type": "code",
   "execution_count": 28,
   "metadata": {},
   "outputs": [],
   "source": [
    "_ = nx.set_edge_attributes(co_citation, co_citation_edge_attendee, 'original_conference_connection')\n",
    "_ = nx.set_edge_attributes(co_citation, co_citation_edge_attendee_and_cand, 'proposed_and_original_conference_connection')"
   ]
  },
  {
   "cell_type": "code",
   "execution_count": 29,
   "metadata": {},
   "outputs": [],
   "source": [
    "nx.write_graphml(co_citation, '../data/conference_rec_output/all_alt_names_full_geo_score_22Mar2024_co_citation_network_with_connection_attribute.graphml')"
   ]
  }
 ],
 "metadata": {
  "kernelspec": {
   "display_name": "graphs",
   "language": "python",
   "name": "graphs"
  },
  "language_info": {
   "codemirror_mode": {
    "name": "ipython",
    "version": 3
   },
   "file_extension": ".py",
   "mimetype": "text/x-python",
   "name": "python",
   "nbconvert_exporter": "python",
   "pygments_lexer": "ipython3",
   "version": "3.10.13"
  }
 },
 "nbformat": 4,
 "nbformat_minor": 2
}
