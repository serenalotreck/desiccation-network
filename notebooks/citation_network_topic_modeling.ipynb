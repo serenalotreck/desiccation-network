{
 "cells": [
  {
   "cell_type": "markdown",
   "metadata": {},
   "source": [
    "# Citation network topic modeling\n",
    "In this notebook, we'll implement topic modeling on the various categories in the desiccation tolerance citation network"
   ]
  },
  {
   "cell_type": "code",
   "execution_count": 64,
   "metadata": {
    "scrolled": true
   },
   "outputs": [],
   "source": [
    "import jsonlines\n",
    "import networkx as nx\n",
    "import sys\n",
    "sys.path.append('../desiccation_network/conference_recommendation')\n",
    "sys.path.append('../data/')\n",
    "from openai_key import API_KEY\n",
    "import utils\n",
    "import pandas as pd\n",
    "from bertopic import BERTopic\n",
    "from bertopic.representation import MaximalMarginalRelevance, KeyBERTInspired, PartOfSpeech, OpenAI\n",
    "import openai\n",
    "from ast import literal_eval\n",
    "from sentence_transformers import SentenceTransformer\n",
    "from umap import UMAP\n",
    "from hdbscan import HDBSCAN\n",
    "from transformers.pipelines import pipeline\n",
    "from sklearn.feature_extraction.text import CountVectorizer\n",
    "from collections import defaultdict, Counter\n",
    "import numpy as np\n",
    "import matplotlib.pyplot as plt\n",
    "%matplotlib inline\n",
    "import umap.plot\n",
    "import sklearn\n",
    "import seaborn as sns"
   ]
  },
  {
   "cell_type": "markdown",
   "metadata": {},
   "source": [
    "## Read in data\n",
    "For now, doing this for main result network only (ignoring unclassified other references)."
   ]
  },
  {
   "cell_type": "code",
   "execution_count": 28,
   "metadata": {},
   "outputs": [],
   "source": [
    "with jsonlines.open('../data/wos_files/core_collection_destol_or_anhydro_ALL_with_authors_and_addresses_14Feb2024.jsonl') as reader:\n",
    "    data = []\n",
    "    for obj in reader:\n",
    "        data.append(obj)"
   ]
  },
  {
   "cell_type": "code",
   "execution_count": 29,
   "metadata": {},
   "outputs": [],
   "source": [
    "class_graph = nx.read_graphml('../data/citation_network/FINAL_DEBUGGED_MANUALLY_VERIFIED_core_collection_destol_or_anhydro_classified_network_25Mar2024_with_geography.graphml')"
   ]
  },
  {
   "cell_type": "markdown",
   "metadata": {},
   "source": [
    "Map classifications from the graph to the dataset with abstracts:"
   ]
  },
  {
   "cell_type": "code",
   "execution_count": 30,
   "metadata": {},
   "outputs": [],
   "source": [
    "data_with_class = utils.map_classes_to_jsonl(class_graph, data, False, 'UID')"
   ]
  },
  {
   "cell_type": "code",
   "execution_count": 31,
   "metadata": {},
   "outputs": [
    {
     "name": "stdout",
     "output_type": "stream",
     "text": [
      "There are 5184 abstracts in the dataset.\n"
     ]
    },
    {
     "data": {
      "text/html": [
       "<div>\n",
       "<style scoped>\n",
       "    .dataframe tbody tr th:only-of-type {\n",
       "        vertical-align: middle;\n",
       "    }\n",
       "\n",
       "    .dataframe tbody tr th {\n",
       "        vertical-align: top;\n",
       "    }\n",
       "\n",
       "    .dataframe thead th {\n",
       "        text-align: right;\n",
       "    }\n",
       "</style>\n",
       "<table border=\"1\" class=\"dataframe\">\n",
       "  <thead>\n",
       "    <tr style=\"text-align: right;\">\n",
       "      <th></th>\n",
       "      <th>abstract</th>\n",
       "      <th>study_system</th>\n",
       "      <th>year</th>\n",
       "    </tr>\n",
       "    <tr>\n",
       "      <th>UID</th>\n",
       "      <th></th>\n",
       "      <th></th>\n",
       "      <th></th>\n",
       "    </tr>\n",
       "  </thead>\n",
       "  <tbody>\n",
       "    <tr>\n",
       "      <th>WOS:000088764100008</th>\n",
       "      <td>An efficient procedure using: sucrose as cryop...</td>\n",
       "      <td>Plant</td>\n",
       "      <td>2000</td>\n",
       "    </tr>\n",
       "    <tr>\n",
       "      <th>WOS:000166537400002</th>\n",
       "      <td>The modern scientific study of desiccation tol...</td>\n",
       "      <td>Plant</td>\n",
       "      <td>2000</td>\n",
       "    </tr>\n",
       "    <tr>\n",
       "      <th>WOS:000088351400005</th>\n",
       "      <td>Axillary shoot tips of apple cv. Golden Delici...</td>\n",
       "      <td>Plant</td>\n",
       "      <td>2000</td>\n",
       "    </tr>\n",
       "    <tr>\n",
       "      <th>WOS:000087168200001</th>\n",
       "      <td>Seeds of Telfairia occidentalis Hoof (fam. Cuc...</td>\n",
       "      <td>Plant</td>\n",
       "      <td>2000</td>\n",
       "    </tr>\n",
       "    <tr>\n",
       "      <th>WOS:000166537400008</th>\n",
       "      <td>Pulse amplitude modulation fluorescence was us...</td>\n",
       "      <td>Plant</td>\n",
       "      <td>2000</td>\n",
       "    </tr>\n",
       "  </tbody>\n",
       "</table>\n",
       "</div>"
      ],
      "text/plain": [
       "                                                              abstract  \\\n",
       "UID                                                                      \n",
       "WOS:000088764100008  An efficient procedure using: sucrose as cryop...   \n",
       "WOS:000166537400002  The modern scientific study of desiccation tol...   \n",
       "WOS:000088351400005  Axillary shoot tips of apple cv. Golden Delici...   \n",
       "WOS:000087168200001  Seeds of Telfairia occidentalis Hoof (fam. Cuc...   \n",
       "WOS:000166537400008  Pulse amplitude modulation fluorescence was us...   \n",
       "\n",
       "                    study_system  year  \n",
       "UID                                     \n",
       "WOS:000088764100008        Plant  2000  \n",
       "WOS:000166537400002        Plant  2000  \n",
       "WOS:000088351400005        Plant  2000  \n",
       "WOS:000087168200001        Plant  2000  \n",
       "WOS:000166537400008        Plant  2000  "
      ]
     },
     "execution_count": 31,
     "metadata": {},
     "output_type": "execute_result"
    }
   ],
   "source": [
    "abstracts_and_classes = {'UID': [], 'abstract': [], 'study_system': [], 'year': []}\n",
    "for paper in data_with_class:\n",
    "    abstracts_and_classes['UID'].append(paper['UID'])\n",
    "    abstracts_and_classes['abstract'].append(paper['abstract'])\n",
    "    abstracts_and_classes['study_system'].append(paper['study_system'])\n",
    "    abstracts_and_classes['year'].append(int(paper['year']))\n",
    "abstracts = pd.DataFrame.from_dict(abstracts_and_classes, orient='columns').set_index('UID')\n",
    "print(f'There are {len(abstracts)} abstracts in the dataset.')\n",
    "abstracts.head()"
   ]
  },
  {
   "cell_type": "code",
   "execution_count": 32,
   "metadata": {},
   "outputs": [],
   "source": [
    "docs = abstracts.abstract.tolist()"
   ]
  },
  {
   "cell_type": "markdown",
   "metadata": {},
   "source": [
    "## Model fitting\n",
    "\n",
    "**Note:** The final code in this section reflects a lot of manual experimentation with different component models previously in this notebook. Here, we've simplified this to one function that we run twice, once for the MMR representation model, and once for the OpenAI representation model, which is the code for the data we've included in the paper. We'd just like to point out in case anyone would like to perform a similar analysis that there is more manual experimentation that should be done to see what component models and parameters work best for your use case; we highly recommend the tutorials embedded in the [BERTopic documentation](https://maartengr.github.io/BERTopic/index.html) for a detailed reference.\n",
    "\n",
    "There are several steps in the model fitting process:\n",
    "1. Defining component models\n",
    "    1. [SentenceTransformer](https://maartengr.github.io/BERTopic/getting_started/embeddings/embeddings.html#sentence-transformers)\n",
    "    2. [Dimensionality reduction model](https://maartengr.github.io/BERTopic/getting_started/dim_reduction/dim_reduction.html)\n",
    "    3. [Clustering model](https://maartengr.github.io/BERTopic/getting_started/clustering/clustering.html)\n",
    "    4. [Vectorizer model](https://maartengr.github.io/BERTopic/getting_started/vectorizers/vectorizers.html)\n",
    "2. Pre-calculation of embeddings\n",
    "3. Initial fitting\n",
    "4. Outlier reduction\n",
    "\n",
    "Here, we'll define a function to perform this entire process so that we can easily change representation models."
   ]
  },
  {
   "cell_type": "code",
   "execution_count": 33,
   "metadata": {},
   "outputs": [],
   "source": [
    "def fit_reduce_model(rep_model, docs):\n",
    "    \"\"\"\n",
    "    Defines all component models internally besides the representation model, which is the only one that changes.\n",
    "    Pre-calculates embeddings, fits model, and performs outlier reduction.\n",
    "\n",
    "    parameters:\n",
    "        rep_model, class instance from bertopic.representation: representation model\n",
    "        docs, list of str: documents to model\n",
    "\n",
    "    returns:\n",
    "        topic_model, BERTopic model: fitted model with outliers reduced\n",
    "    \"\"\"\n",
    "    # Define all component models\n",
    "    print('Defining component models...')\n",
    "    sentence_model = SentenceTransformer('allenai/scibert_scivocab_cased')\n",
    "    umap_model = UMAP(n_neighbors=15, n_components=5, min_dist=0.0, metric='cosine', random_state=42)\n",
    "    ## Using default HDBSCAN model, no definition needed\n",
    "    vectorizer_model = CountVectorizer(stop_words=\"english\", ngram_range=(1, 3), min_df=10)\n",
    "    representation_model=rep_model\n",
    "    \n",
    "    # Pre-calculate embeddings\n",
    "    print('Calculating embeddings...')\n",
    "    embeddings = sentence_model.encode(docs, show_progress_bar=True)\n",
    "    # We reduce our embeddings to 2D as it will allows us to quickly iterate later on\n",
    "    reduced_embeddings = umap_model.fit_transform(embeddings)\n",
    "    \n",
    "    # Fit the model\n",
    "    print('Fitting model...')\n",
    "    topic_model = BERTopic(embedding_model=sentence_model, umap_model=umap_model, representation_model=representation_model, vectorizer_model=vectorizer_model)\n",
    "    topics, probs = topic_model.fit_transform(docs, embeddings)\n",
    "    \n",
    "    # Reduce outliers\n",
    "    print('Reducing outliers...')\n",
    "    new_topics = topic_model.reduce_outliers(docs, topics, strategy='embeddings', threshold=0.1) # This method ends up reducing all outliers even with this threshold\n",
    "    topic_model.update_topics(docs, topics=new_topics, vectorizer_model=vectorizer_model, representation_model=representation_model)\n",
    "    \n",
    "    return topic_model"
   ]
  },
  {
   "cell_type": "code",
   "execution_count": 34,
   "metadata": {
    "scrolled": false
   },
   "outputs": [
    {
     "name": "stdout",
     "output_type": "stream",
     "text": [
      "Defining component models...\n"
     ]
    },
    {
     "name": "stderr",
     "output_type": "stream",
     "text": [
      "No sentence-transformers model found with name /mnt/home/lotrecks/.cache/torch/sentence_transformers/allenai_scibert_scivocab_cased. Creating a new one with MEAN pooling.\n",
      "Some weights of the model checkpoint at /mnt/home/lotrecks/.cache/torch/sentence_transformers/allenai_scibert_scivocab_cased were not used when initializing BertModel: ['cls.seq_relationship.bias', 'cls.predictions.decoder.bias', 'cls.predictions.transform.dense.weight', 'cls.seq_relationship.weight', 'cls.predictions.decoder.weight', 'cls.predictions.bias', 'cls.predictions.transform.dense.bias', 'cls.predictions.transform.LayerNorm.bias', 'cls.predictions.transform.LayerNorm.weight']\n",
      "- This IS expected if you are initializing BertModel from the checkpoint of a model trained on another task or with another architecture (e.g. initializing a BertForSequenceClassification model from a BertForPreTraining model).\n",
      "- This IS NOT expected if you are initializing BertModel from the checkpoint of a model that you expect to be exactly identical (initializing a BertForSequenceClassification model from a BertForSequenceClassification model).\n"
     ]
    },
    {
     "name": "stdout",
     "output_type": "stream",
     "text": [
      "Calculating embeddings...\n"
     ]
    },
    {
     "data": {
      "application/vnd.jupyter.widget-view+json": {
       "model_id": "3fb191e622ad4ef0b4cc2cd2d8672d85",
       "version_major": 2,
       "version_minor": 0
      },
      "text/plain": [
       "Batches:   0%|          | 0/162 [00:00<?, ?it/s]"
      ]
     },
     "metadata": {},
     "output_type": "display_data"
    },
    {
     "name": "stdout",
     "output_type": "stream",
     "text": [
      "Fitting model...\n",
      "Reducing outliers...\n"
     ]
    },
    {
     "name": "stderr",
     "output_type": "stream",
     "text": [
      "2024-03-27 16:53:55,965 - BERTopic - WARNING: Using a custom list of topic assignments may lead to errors if topic reduction techniques are used afterwards. Make sure that manually assigning topics is the last step in the pipeline.Note that topic embeddings will also be created through weightedc-TF-IDF embeddings instead of centroid embeddings.\n"
     ]
    }
   ],
   "source": [
    "# Define MMR model and get its corresponding topic model\n",
    "mmr_rep_model = MaximalMarginalRelevance(diversity=0.3)\n",
    "mmr_model = fit_reduce_model(mmr_rep_model, docs)"
   ]
  },
  {
   "cell_type": "code",
   "execution_count": 35,
   "metadata": {},
   "outputs": [
    {
     "name": "stdout",
     "output_type": "stream",
     "text": [
      "Defining component models...\n"
     ]
    },
    {
     "name": "stderr",
     "output_type": "stream",
     "text": [
      "No sentence-transformers model found with name /mnt/home/lotrecks/.cache/torch/sentence_transformers/allenai_scibert_scivocab_cased. Creating a new one with MEAN pooling.\n",
      "Some weights of the model checkpoint at /mnt/home/lotrecks/.cache/torch/sentence_transformers/allenai_scibert_scivocab_cased were not used when initializing BertModel: ['cls.seq_relationship.bias', 'cls.predictions.decoder.bias', 'cls.predictions.transform.dense.weight', 'cls.seq_relationship.weight', 'cls.predictions.decoder.weight', 'cls.predictions.bias', 'cls.predictions.transform.dense.bias', 'cls.predictions.transform.LayerNorm.bias', 'cls.predictions.transform.LayerNorm.weight']\n",
      "- This IS expected if you are initializing BertModel from the checkpoint of a model trained on another task or with another architecture (e.g. initializing a BertForSequenceClassification model from a BertForPreTraining model).\n",
      "- This IS NOT expected if you are initializing BertModel from the checkpoint of a model that you expect to be exactly identical (initializing a BertForSequenceClassification model from a BertForSequenceClassification model).\n"
     ]
    },
    {
     "name": "stdout",
     "output_type": "stream",
     "text": [
      "Calculating embeddings...\n"
     ]
    },
    {
     "data": {
      "application/vnd.jupyter.widget-view+json": {
       "model_id": "f2005c995a4e4323b11dc37991643492",
       "version_major": 2,
       "version_minor": 0
      },
      "text/plain": [
       "Batches:   0%|          | 0/162 [00:00<?, ?it/s]"
      ]
     },
     "metadata": {},
     "output_type": "display_data"
    },
    {
     "name": "stdout",
     "output_type": "stream",
     "text": [
      "Fitting model...\n",
      "Reducing outliers...\n"
     ]
    },
    {
     "name": "stderr",
     "output_type": "stream",
     "text": [
      "2024-03-27 16:56:34,063 - BERTopic - WARNING: Using a custom list of topic assignments may lead to errors if topic reduction techniques are used afterwards. Make sure that manually assigning topics is the last step in the pipeline.Note that topic embeddings will also be created through weightedc-TF-IDF embeddings instead of centroid embeddings.\n"
     ]
    }
   ],
   "source": [
    "# Define OpenAI model and get its corresponding topic model\n",
    "client = openai.OpenAI(api_key=API_KEY)\n",
    "openai_rep_model = OpenAI(client, \"gpt-3.5-turbo\", chat=True)\n",
    "openai_model = fit_reduce_model(openai_rep_model, docs)"
   ]
  },
  {
   "cell_type": "markdown",
   "metadata": {},
   "source": [
    "## Summarize topic information\n",
    "We want to see what proportion of each topic is made up of each class, to see if there are some that are more dominated by one group or another. We would expect to see the same proportions as the overall graph if there were no difference in topics in each discipline, so major departures from those splits are what we're looking for. We'll make a supplemental table as well as figures, and also compare the OpenAI representations to MMR representations. We can do this since we used all of the same other component models and random seeds, so the underlying topic clusters are the same."
   ]
  },
  {
   "cell_type": "code",
   "execution_count": 36,
   "metadata": {},
   "outputs": [],
   "source": [
    "def make_table(mmr_model, openai_model, abstracts):\n",
    "    \"\"\"\n",
    "    Make a table with both types of representations and kingdom memberships.\n",
    "    \"\"\"\n",
    "    # Get docs\n",
    "    docs = abstracts.abstract.tolist()\n",
    "    \n",
    "    # Get topic info\n",
    "    topic_dfs = {}\n",
    "    for model_name, model in {'MMR': mmr_model, 'OpenAI': openai_model}.items():\n",
    "        doc_topics = model.get_document_info(docs)\n",
    "        doc_topics['UID'] = abstracts.index\n",
    "        doc_topics['study_system'] = abstracts['study_system'].values.tolist()\n",
    "        topic_dfs[model_name] = doc_topics\n",
    "    \n",
    "    # Assert that the docs in ecah cluster are the same\n",
    "    assert (topic_dfs['MMR'][['Topic', 'UID']].to_dict() == \n",
    "            topic_dfs['OpenAI'][['Topic', 'UID']].to_dict())\n",
    "    \n",
    "    # Merge dfs \n",
    "    topic_dfs = {k: v.drop(columns=['Representative_Docs', 'Top_n_words'])\n",
    "                 for k, v in topic_dfs.items()}\n",
    "    combined_topic_df = topic_dfs['MMR'].merge(topic_dfs['OpenAI'],\n",
    "                                    on=['Document', 'Topic', 'Probability',\n",
    "                                        'Representative_document', 'UID', 'study_system'],\n",
    "                                    how='outer', suffixes=('_MMR', '_OpenAI'))\n",
    "    \n",
    "    # Make sure merge worked as expected\n",
    "    assert (combined_topic_df.shape[0] == topic_dfs['MMR'].shape[0]) and (\n",
    "        combined_topic_df.shape[0] == topic_dfs['OpenAI'].shape[0])\n",
    "    \n",
    "    # Turn into a table with UIDs in a list and kingdoms by percentages\n",
    "    table = defaultdict(list)\n",
    "    for topic in sorted(combined_topic_df.Topic.unique()):\n",
    "        topic_subset = combined_topic_df[combined_topic_df['Topic'] == topic]\n",
    "        table['topic_num'].append(topic)\n",
    "        table['num_docs'].append(len(topic_subset))\n",
    "        table['uids'].append(topic_subset.UID.tolist())\n",
    "        kings = topic_subset.study_system.tolist()\n",
    "        for king in ['Fungi', 'Animal', 'Plant', 'Microbe']:\n",
    "            table[king].append(kings.count(king)/len(topic_subset))\n",
    "        king_sum = sum([table[king][-1] for king in ['Fungi', 'Animal', 'Plant', 'Microbe']])\n",
    "        table['mmr_rep'].append(topic_subset.Representation_MMR.str.join(' | ').unique()[0])\n",
    "        table['openai_rep'].append(topic_subset.Representation_OpenAI.str.join('').unique()[0])\n",
    "    table_df = pd.DataFrame(table)\n",
    "    \n",
    "    return table_df"
   ]
  },
  {
   "cell_type": "code",
   "execution_count": 37,
   "metadata": {},
   "outputs": [
    {
     "data": {
      "text/html": [
       "<div>\n",
       "<style scoped>\n",
       "    .dataframe tbody tr th:only-of-type {\n",
       "        vertical-align: middle;\n",
       "    }\n",
       "\n",
       "    .dataframe tbody tr th {\n",
       "        vertical-align: top;\n",
       "    }\n",
       "\n",
       "    .dataframe thead th {\n",
       "        text-align: right;\n",
       "    }\n",
       "</style>\n",
       "<table border=\"1\" class=\"dataframe\">\n",
       "  <thead>\n",
       "    <tr style=\"text-align: right;\">\n",
       "      <th></th>\n",
       "      <th>topic_num</th>\n",
       "      <th>num_docs</th>\n",
       "      <th>uids</th>\n",
       "      <th>Fungi</th>\n",
       "      <th>Animal</th>\n",
       "      <th>Plant</th>\n",
       "      <th>Microbe</th>\n",
       "      <th>mmr_rep</th>\n",
       "      <th>openai_rep</th>\n",
       "    </tr>\n",
       "  </thead>\n",
       "  <tbody>\n",
       "    <tr>\n",
       "      <th>0</th>\n",
       "      <td>0</td>\n",
       "      <td>894</td>\n",
       "      <td>[WOS:000712450400001, WOS:000787837300016, WOS...</td>\n",
       "      <td>0.004474</td>\n",
       "      <td>0.624161</td>\n",
       "      <td>0.336689</td>\n",
       "      <td>0.034676</td>\n",
       "      <td>species | water | desiccation | traits | survi...</td>\n",
       "      <td>Water balance mechanisms and desiccation resis...</td>\n",
       "    </tr>\n",
       "    <tr>\n",
       "      <th>1</th>\n",
       "      <td>1</td>\n",
       "      <td>460</td>\n",
       "      <td>[WOS:000166537400002, WOS:A1996WB08200007, WOS...</td>\n",
       "      <td>0.015217</td>\n",
       "      <td>0.197826</td>\n",
       "      <td>0.667391</td>\n",
       "      <td>0.119565</td>\n",
       "      <td>review | stress | desiccation | environmental ...</td>\n",
       "      <td>Mechanisms of Desiccation Tolerance in Resurre...</td>\n",
       "    </tr>\n",
       "    <tr>\n",
       "      <th>2</th>\n",
       "      <td>2</td>\n",
       "      <td>286</td>\n",
       "      <td>[WOS:000087168200001, WOS:A1996UV79000008, WOS...</td>\n",
       "      <td>0.000000</td>\n",
       "      <td>0.034965</td>\n",
       "      <td>0.961538</td>\n",
       "      <td>0.003497</td>\n",
       "      <td>moisture | moisture content | viability | matu...</td>\n",
       "      <td>Seed Germination and Storage Strategies in Tro...</td>\n",
       "    </tr>\n",
       "    <tr>\n",
       "      <th>3</th>\n",
       "      <td>3</td>\n",
       "      <td>207</td>\n",
       "      <td>[WOS:000088764100008, WOS:000088351400005, WOS...</td>\n",
       "      <td>0.000000</td>\n",
       "      <td>0.053140</td>\n",
       "      <td>0.937198</td>\n",
       "      <td>0.009662</td>\n",
       "      <td>somatic embryos | medium | cryopreservation | ...</td>\n",
       "      <td>Effects of Abscisic Acid on Somatic Embryo Via...</td>\n",
       "    </tr>\n",
       "    <tr>\n",
       "      <th>4</th>\n",
       "      <td>4</td>\n",
       "      <td>184</td>\n",
       "      <td>[WOS:000723377700006, WOS:000336277900009, WOS...</td>\n",
       "      <td>0.081522</td>\n",
       "      <td>0.048913</td>\n",
       "      <td>0.065217</td>\n",
       "      <td>0.804348</td>\n",
       "      <td>trehalose | strain | desiccation | stress | mu...</td>\n",
       "      <td>Role of Trehalose in Bacterial Desiccation Tol...</td>\n",
       "    </tr>\n",
       "  </tbody>\n",
       "</table>\n",
       "</div>"
      ],
      "text/plain": [
       "   topic_num  num_docs                                               uids  \\\n",
       "0          0       894  [WOS:000712450400001, WOS:000787837300016, WOS...   \n",
       "1          1       460  [WOS:000166537400002, WOS:A1996WB08200007, WOS...   \n",
       "2          2       286  [WOS:000087168200001, WOS:A1996UV79000008, WOS...   \n",
       "3          3       207  [WOS:000088764100008, WOS:000088351400005, WOS...   \n",
       "4          4       184  [WOS:000723377700006, WOS:000336277900009, WOS...   \n",
       "\n",
       "      Fungi    Animal     Plant   Microbe  \\\n",
       "0  0.004474  0.624161  0.336689  0.034676   \n",
       "1  0.015217  0.197826  0.667391  0.119565   \n",
       "2  0.000000  0.034965  0.961538  0.003497   \n",
       "3  0.000000  0.053140  0.937198  0.009662   \n",
       "4  0.081522  0.048913  0.065217  0.804348   \n",
       "\n",
       "                                             mmr_rep  \\\n",
       "0  species | water | desiccation | traits | survi...   \n",
       "1  review | stress | desiccation | environmental ...   \n",
       "2  moisture | moisture content | viability | matu...   \n",
       "3  somatic embryos | medium | cryopreservation | ...   \n",
       "4  trehalose | strain | desiccation | stress | mu...   \n",
       "\n",
       "                                          openai_rep  \n",
       "0  Water balance mechanisms and desiccation resis...  \n",
       "1  Mechanisms of Desiccation Tolerance in Resurre...  \n",
       "2  Seed Germination and Storage Strategies in Tro...  \n",
       "3  Effects of Abscisic Acid on Somatic Embryo Via...  \n",
       "4  Role of Trehalose in Bacterial Desiccation Tol...  "
      ]
     },
     "execution_count": 37,
     "metadata": {},
     "output_type": "execute_result"
    }
   ],
   "source": [
    "topic_reps = make_table(mmr_model, openai_model, abstracts)\n",
    "topic_reps.head()"
   ]
  },
  {
   "cell_type": "code",
   "execution_count": 38,
   "metadata": {},
   "outputs": [],
   "source": [
    "topic_reps.to_csv('../data/citation_network/topic_modeling_output_MMR_and_OpenAI.csv', index=False)"
   ]
  },
  {
   "cell_type": "markdown",
   "metadata": {},
   "source": [
    "## Visualize class distribution in topic clusters"
   ]
  },
  {
   "cell_type": "code",
   "execution_count": 39,
   "metadata": {},
   "outputs": [],
   "source": [
    "bars_df = topic_reps[['topic_num', 'Plant', 'Animal', 'Fungi', 'Microbe']].set_index('topic_num').T\n",
    "bars_df = bars_df.sort_values(by='Plant', axis=1)"
   ]
  },
  {
   "cell_type": "code",
   "execution_count": 40,
   "metadata": {
    "scrolled": true
   },
   "outputs": [
    {
     "data": {
      "image/png": "[encoded data removed]",
      "text/plain": [
       "<Figure size 4000x1000 with 1 Axes>"
      ]
     },
     "metadata": {},
     "output_type": "display_data"
    }
   ],
   "source": [
    "colors = {'Plant': '#228833', 'Animal':'#EE6677', 'Microbe': '#4477AA', 'Fungi':'#CCBB44'}\n",
    "fig, ax = plt.subplots(figsize=(40,10))\n",
    "bottom = np.zeros(bars_df.shape[1])\n",
    "\n",
    "for system in bars_df.index:\n",
    "    p = ax.bar(bars_df.columns.astype(str), bars_df.loc[system], color=colors[system], label=system, bottom=bottom)\n",
    "    bottom += bars_df.loc[system]\n",
    "\n",
    "xloc_to_xlab = {txt.get_unitless_position()[0]: txt.get_text() for txt in plt.gca().get_xticklabels()}\n",
    "for i, p in enumerate(ax.patches):\n",
    "    width, height = p.get_width(), p.get_height()\n",
    "    x, y = p.get_xy()\n",
    "    to_label = x + 0.5*width\n",
    "    topic = xloc_to_xlab[to_label]\n",
    "    label = topic_reps.loc[topic_reps['topic_num'] == int(topic), 'num_docs'].values[0]\n",
    "    ax.text(x+width/2, \n",
    "            1.1, \n",
    "            '{}'.format(label), \n",
    "            horizontalalignment='center', \n",
    "            verticalalignment='center',\n",
    "            fontsize=30)\n",
    "#     rect = plt.Rectangle((x - width/2,1.07), width=len(str(label))*0.5, height=0.075,\n",
    "#                          transform=ax.get_xaxis_transform(), zorder=3,\n",
    "#                          fill=False, edgecolor='black', clip_on=False)\n",
    "#     ax.add_patch(rect)\n",
    "#     if i == 1:\n",
    "#         break\n",
    "plt.margins(x=0, tight=True)\n",
    "plt.xticks(fontsize=30)\n",
    "plt.yticks(fontsize=30)\n",
    "plt.xlabel('Topic ID', fontsize=36)\n",
    "plt.ylabel('Kingdom proportion', fontsize=36)\n",
    "plt.legend(fontsize=30, loc='lower right', framealpha=0.95)\n",
    "\n",
    "plt.savefig('../data/citation_network/figures/topic_admixture.pdf', format='pdf', bbox_inches='tight', dpi=600)"
   ]
  },
  {
   "cell_type": "markdown",
   "metadata": {},
   "source": [
    "## Hierarchical topic modeling\n",
    "Another way we can look at the trends in these documents is by [hierarchical topic modeling](https://maartengr.github.io/BERTopic/getting_started/hierarchicaltopics/hierarchicaltopics.html). This groups topics according to whether there is some super-topic that could consume multiple sub-topics. Let's take a look:"
   ]
  },
  {
   "cell_type": "code",
   "execution_count": 41,
   "metadata": {},
   "outputs": [
    {
     "name": "stderr",
     "output_type": "stream",
     "text": [
      "100%|██████████| 45/45 [00:01<00:00, 28.21it/s]\n"
     ]
    },
    {
     "data": {
      "text/html": [
       "<div>\n",
       "<style scoped>\n",
       "    .dataframe tbody tr th:only-of-type {\n",
       "        vertical-align: middle;\n",
       "    }\n",
       "\n",
       "    .dataframe tbody tr th {\n",
       "        vertical-align: top;\n",
       "    }\n",
       "\n",
       "    .dataframe thead th {\n",
       "        text-align: right;\n",
       "    }\n",
       "</style>\n",
       "<table border=\"1\" class=\"dataframe\">\n",
       "  <thead>\n",
       "    <tr style=\"text-align: right;\">\n",
       "      <th></th>\n",
       "      <th>Parent_ID</th>\n",
       "      <th>Parent_Name</th>\n",
       "      <th>Topics</th>\n",
       "      <th>Child_Left_ID</th>\n",
       "      <th>Child_Left_Name</th>\n",
       "      <th>Child_Right_ID</th>\n",
       "      <th>Child_Right_Name</th>\n",
       "      <th>Distance</th>\n",
       "    </tr>\n",
       "  </thead>\n",
       "  <tbody>\n",
       "    <tr>\n",
       "      <th>44</th>\n",
       "      <td>90</td>\n",
       "      <td>desiccation_species_stress_desiccation toleran...</td>\n",
       "      <td>[0, 1, 2, 3, 4, 5, 6, 7, 8, 9, 10, 11, 12, 13,...</td>\n",
       "      <td>84</td>\n",
       "      <td>genes_stress_proteins_aba_desiccation</td>\n",
       "      <td>89</td>\n",
       "      <td>desiccation_water_species_degrees_temperature</td>\n",
       "      <td>1.670360</td>\n",
       "    </tr>\n",
       "    <tr>\n",
       "      <th>43</th>\n",
       "      <td>89</td>\n",
       "      <td>desiccation_water_species_degrees_temperature</td>\n",
       "      <td>[0, 2, 3, 4, 6, 7, 8, 10, 11, 14, 15, 16, 17, ...</td>\n",
       "      <td>88</td>\n",
       "      <td>desiccation_species_stress_degrees_soil</td>\n",
       "      <td>87</td>\n",
       "      <td>desiccation_moisture_cryopreservation_moisture...</td>\n",
       "      <td>1.450293</td>\n",
       "    </tr>\n",
       "    <tr>\n",
       "      <th>42</th>\n",
       "      <td>88</td>\n",
       "      <td>desiccation_species_stress_degrees_soil</td>\n",
       "      <td>[0, 4, 7, 8, 10, 11, 15, 16, 17, 19, 20, 21, 2...</td>\n",
       "      <td>86</td>\n",
       "      <td>species_desiccation_conditions_stress_soil</td>\n",
       "      <td>82</td>\n",
       "      <td>trehalose_proteins_desiccation_lea proteins_st...</td>\n",
       "      <td>1.156103</td>\n",
       "    </tr>\n",
       "    <tr>\n",
       "      <th>41</th>\n",
       "      <td>87</td>\n",
       "      <td>desiccation_moisture_cryopreservation_moisture...</td>\n",
       "      <td>[2, 3, 6, 14, 18, 24, 26, 28, 30, 31, 32, 41]</td>\n",
       "      <td>75</td>\n",
       "      <td>moisture_desiccation_moisture content_water_sp...</td>\n",
       "      <td>83</td>\n",
       "      <td>sucrose_somatic embryos_raffinose_medium_stach...</td>\n",
       "      <td>1.154045</td>\n",
       "    </tr>\n",
       "    <tr>\n",
       "      <th>40</th>\n",
       "      <td>86</td>\n",
       "      <td>species_desiccation_conditions_stress_soil</td>\n",
       "      <td>[0, 7, 8, 10, 16, 17, 19, 22, 23, 27, 36, 37, ...</td>\n",
       "      <td>76</td>\n",
       "      <td>desiccation_water_species_photosynthesis_stress</td>\n",
       "      <td>85</td>\n",
       "      <td>species_desiccation_temperature_conditions_traits</td>\n",
       "      <td>0.994543</td>\n",
       "    </tr>\n",
       "  </tbody>\n",
       "</table>\n",
       "</div>"
      ],
      "text/plain": [
       "   Parent_ID                                        Parent_Name  \\\n",
       "44        90  desiccation_species_stress_desiccation toleran...   \n",
       "43        89      desiccation_water_species_degrees_temperature   \n",
       "42        88            desiccation_species_stress_degrees_soil   \n",
       "41        87  desiccation_moisture_cryopreservation_moisture...   \n",
       "40        86         species_desiccation_conditions_stress_soil   \n",
       "\n",
       "                                               Topics Child_Left_ID  \\\n",
       "44  [0, 1, 2, 3, 4, 5, 6, 7, 8, 9, 10, 11, 12, 13,...            84   \n",
       "43  [0, 2, 3, 4, 6, 7, 8, 10, 11, 14, 15, 16, 17, ...            88   \n",
       "42  [0, 4, 7, 8, 10, 11, 15, 16, 17, 19, 20, 21, 2...            86   \n",
       "41      [2, 3, 6, 14, 18, 24, 26, 28, 30, 31, 32, 41]            75   \n",
       "40  [0, 7, 8, 10, 16, 17, 19, 22, 23, 27, 36, 37, ...            76   \n",
       "\n",
       "                                      Child_Left_Name Child_Right_ID  \\\n",
       "44              genes_stress_proteins_aba_desiccation             89   \n",
       "43            desiccation_species_stress_degrees_soil             87   \n",
       "42         species_desiccation_conditions_stress_soil             82   \n",
       "41  moisture_desiccation_moisture content_water_sp...             83   \n",
       "40    desiccation_water_species_photosynthesis_stress             85   \n",
       "\n",
       "                                     Child_Right_Name  Distance  \n",
       "44      desiccation_water_species_degrees_temperature  1.670360  \n",
       "43  desiccation_moisture_cryopreservation_moisture...  1.450293  \n",
       "42  trehalose_proteins_desiccation_lea proteins_st...  1.156103  \n",
       "41  sucrose_somatic embryos_raffinose_medium_stach...  1.154045  \n",
       "40  species_desiccation_temperature_conditions_traits  0.994543  "
      ]
     },
     "execution_count": 41,
     "metadata": {},
     "output_type": "execute_result"
    }
   ],
   "source": [
    "hierarchical_topics = mmr_model.hierarchical_topics(docs)\n",
    "hierarchical_topics.head()"
   ]
  },
  {
   "cell_type": "code",
   "execution_count": 42,
   "metadata": {},
   "outputs": [],
   "source": [
    "# Save for labeling figure in post-processing since visualization function is inaccessible\n",
    "hierarchical_topics.to_csv('../data/topic_models/hierarchical_topics_15Mar2024.csv', index=False)"
   ]
  },
  {
   "cell_type": "code",
   "execution_count": 43,
   "metadata": {
    "scrolled": false
   },
   "outputs": [
    {
     "data": {
      "application/vnd.plotly.v1+json": {
       "config": {
        "plotlyServerURL": "https://plot.ly"
       },
       "data": [
        {
         "hoverinfo": "text",
         "marker": {
          "color": "rgb(61,153,112)"
         },
         "mode": "lines",
         "text": [
          "review_stress_desiccation_environmental_studies",
          "",
          "",
          "evolution_lineages_bdelloid_species_land plants"
         ],
         "type": "scatter",
         "x": [
          0,
          0.3683917960948886,
          0.3683917960948886,
          0
         ],
         "xaxis": "x",
         "y": [
          -5,
          -5,
          -15,
          -15
         ],
         "yaxis": "y"
        },
        {
         "hoverinfo": "text",
         "marker": {
          "color": "rgb(61,153,112)"
         },
         "mode": "lines",
         "text": [
          "mechanisms_stress_review_desiccation_evolution",
          "",
          "",
          "tardigrades_genes_proteins_desiccation_analysis"
         ],
         "type": "scatter",
         "x": [
          0.3683917960948886,
          0.3972827946702703,
          0.3972827946702703,
          0
         ],
         "xaxis": "x",
         "y": [
          -10,
          -10,
          -25,
          -25
         ],
         "yaxis": "y"
        },
        {
         "hoverinfo": "text",
         "marker": {
          "color": "rgb(61,153,112)"
         },
         "mode": "lines",
         "text": [
          "dehydrin_proteins_development_dehydrin like_accumulation",
          "",
          "",
          "protein_proteins_genes_stress_analysis"
         ],
         "type": "scatter",
         "x": [
          0,
          0.4238643511122606,
          0.4238643511122606,
          0
         ],
         "xaxis": "x",
         "y": [
          -35,
          -35,
          -45,
          -45
         ],
         "yaxis": "y"
        },
        {
         "hoverinfo": "text",
         "marker": {
          "color": "rgb(61,153,112)"
         },
         "mode": "lines",
         "text": [
          "abi3_arabidopsis_genes_type_stress",
          "",
          "",
          "mutants_desiccation tolerance_desiccation_abscisic acid_abscisic"
         ],
         "type": "scatter",
         "x": [
          0,
          0.3166459864946195,
          0.3166459864946195,
          0
         ],
         "xaxis": "x",
         "y": [
          -55,
          -55,
          -65,
          -65
         ],
         "yaxis": "y"
        },
        {
         "hoverinfo": "text",
         "marker": {
          "color": "rgb(61,153,112)"
         },
         "mode": "lines",
         "text": [
          "proteins_acid_dehydrin_desiccation_sequence",
          "",
          "",
          "arabidopsis_genes_stress_wild type_abscisic acid"
         ],
         "type": "scatter",
         "x": [
          0.4238643511122606,
          0.4981026812651659,
          0.4981026812651659,
          0.3166459864946195
         ],
         "xaxis": "x",
         "y": [
          -40,
          -40,
          -60,
          -60
         ],
         "yaxis": "y"
        },
        {
         "hoverinfo": "text",
         "marker": {
          "color": "rgb(61,153,112)"
         },
         "mode": "lines",
         "text": [
          "stress_gene_transgenic plants_protein_wild type",
          "",
          "",
          "stress_genes_gene_protein_abiotic stress"
         ],
         "type": "scatter",
         "x": [
          0,
          0.23328102740097645,
          0.23328102740097645,
          0
         ],
         "xaxis": "x",
         "y": [
          -75,
          -75,
          -85,
          -85
         ],
         "yaxis": "y"
        },
        {
         "hoverinfo": "text",
         "marker": {
          "color": "rgb(61,153,112)"
         },
         "mode": "lines",
         "text": [
          "genes_proteins_desiccation_stress_rehydration",
          "",
          "",
          "proteins_analysis_stress_differentially expressed_study"
         ],
         "type": "scatter",
         "x": [
          0,
          0.1938377170445844,
          0.1938377170445844,
          0
         ],
         "xaxis": "x",
         "y": [
          -95,
          -95,
          -105,
          -105
         ],
         "yaxis": "y"
        },
        {
         "hoverinfo": "text",
         "marker": {
          "color": "rgb(61,153,112)"
         },
         "mode": "lines",
         "text": [
          "genes_proteins_stress_analysis_desiccation",
          "",
          "",
          "genes_proteins_stress_development_metabolism"
         ],
         "type": "scatter",
         "x": [
          0.1938377170445844,
          0.22835469967131847,
          0.22835469967131847,
          0
         ],
         "xaxis": "x",
         "y": [
          -100,
          -100,
          -115,
          -115
         ],
         "yaxis": "y"
        },
        {
         "hoverinfo": "text",
         "marker": {
          "color": "rgb(61,153,112)"
         },
         "mode": "lines",
         "text": [
          "genes_proteins_stress_desiccation_metabolism",
          "",
          "",
          "genes_proteins_transcripts_seed maturation_gene"
         ],
         "type": "scatter",
         "x": [
          0.22835469967131847,
          0.3742944136875411,
          0.3742944136875411,
          0
         ],
         "xaxis": "x",
         "y": [
          -107.5,
          -107.5,
          -125,
          -125
         ],
         "yaxis": "y"
        },
        {
         "hoverinfo": "text",
         "marker": {
          "color": "rgb(61,153,112)"
         },
         "mode": "lines",
         "text": [
          "stress_gene_arabidopsis_abiotic stress_analysis",
          "",
          "",
          "genes_proteins_stress_desiccation_metabolism"
         ],
         "type": "scatter",
         "x": [
          0.23328102740097645,
          0.6283001381841201,
          0.6283001381841201,
          0.3742944136875411
         ],
         "xaxis": "x",
         "y": [
          -80,
          -80,
          -116.25,
          -116.25
         ],
         "yaxis": "y"
        },
        {
         "hoverinfo": "text",
         "marker": {
          "color": "rgb(61,153,112)"
         },
         "mode": "lines",
         "text": [
          "proteins_genes_arabidopsis_abi3_stress",
          "",
          "",
          "genes_stress_proteins_gene_analysis"
         ],
         "type": "scatter",
         "x": [
          0.4981026812651659,
          0.6998613648181519,
          0.6998613648181519,
          0.6283001381841201
         ],
         "xaxis": "x",
         "y": [
          -50,
          -50,
          -98.125,
          -98.125
         ],
         "yaxis": "y"
        },
        {
         "hoverinfo": "text",
         "marker": {
          "color": "rgb(61,153,112)"
         },
         "mode": "lines",
         "text": [
          "stress_desiccation_review_proteins_evolution",
          "",
          "",
          "genes_proteins_stress_analysis_desiccation"
         ],
         "type": "scatter",
         "x": [
          0.3972827946702703,
          0.8444875229712852,
          0.8444875229712852,
          0.6998613648181519
         ],
         "xaxis": "x",
         "y": [
          -17.5,
          -17.5,
          -74.0625,
          -74.0625
         ],
         "yaxis": "y"
        },
        {
         "hoverinfo": "text",
         "marker": {
          "color": "rgb(255,65,54)"
         },
         "mode": "lines",
         "text": [
          "water_photosynthesis_desiccation_species_moss",
          "",
          "",
          "mu mol_irradiance_light_photosynthesis_water"
         ],
         "type": "scatter",
         "x": [
          0,
          0.3344983611549802,
          0.3344983611549802,
          0
         ],
         "xaxis": "x",
         "y": [
          -145,
          -145,
          -155,
          -155
         ],
         "yaxis": "y"
        },
        {
         "hoverinfo": "text",
         "marker": {
          "color": "rgb(255,65,54)"
         },
         "mode": "lines",
         "text": [
          "desiccation_stress_rehydration_drought_species",
          "",
          "",
          "desiccation_photosystem_photosystem ii_activity_photochemical"
         ],
         "type": "scatter",
         "x": [
          0,
          0.2981107513424731,
          0.2981107513424731,
          0
         ],
         "xaxis": "x",
         "y": [
          -165,
          -165,
          -175,
          -175
         ],
         "yaxis": "y"
        },
        {
         "hoverinfo": "text",
         "marker": {
          "color": "rgb(255,65,54)"
         },
         "mode": "lines",
         "text": [
          "desiccation_rehydration_water_stress_species",
          "",
          "",
          "rehydration_desiccation_results_water_activity"
         ],
         "type": "scatter",
         "x": [
          0.2981107513424731,
          0.3427756607573764,
          0.3427756607573764,
          0
         ],
         "xaxis": "x",
         "y": [
          -170,
          -170,
          -185,
          -185
         ],
         "yaxis": "y"
        },
        {
         "hoverinfo": "text",
         "marker": {
          "color": "rgb(255,65,54)"
         },
         "mode": "lines",
         "text": [
          "water_photosynthesis_mu mol_light_desiccation",
          "",
          "",
          "desiccation_water_activity_stress_increased"
         ],
         "type": "scatter",
         "x": [
          0.3344983611549802,
          0.4844611138330226,
          0.4844611138330226,
          0.3427756607573764
         ],
         "xaxis": "x",
         "y": [
          -150,
          -150,
          -177.5,
          -177.5
         ],
         "yaxis": "y"
        },
        {
         "hoverinfo": "text",
         "marker": {
          "color": "rgb(255,65,54)"
         },
         "mode": "lines",
         "text": [
          "moss_rate drying_desiccation_damage_syntrichia",
          "",
          "",
          "desiccation_water_rehydration_photosynthesis_species"
         ],
         "type": "scatter",
         "x": [
          0,
          0.6744660358433061,
          0.6744660358433061,
          0.4844611138330226
         ],
         "xaxis": "x",
         "y": [
          -135,
          -135,
          -163.75,
          -163.75
         ],
         "yaxis": "y"
        },
        {
         "hoverinfo": "text",
         "marker": {
          "color": "rgb(255,65,54)"
         },
         "mode": "lines",
         "text": [
          "drought_growth_inoculation_plant growth_plant",
          "",
          "",
          "cultivars_stress_stomatal_soil_growth"
         ],
         "type": "scatter",
         "x": [
          0,
          0.5380894202135657,
          0.5380894202135657,
          0
         ],
         "xaxis": "x",
         "y": [
          -195,
          -195,
          -205,
          -205
         ],
         "yaxis": "y"
        },
        {
         "hoverinfo": "text",
         "marker": {
          "color": "rgb(255,65,54)"
         },
         "mode": "lines",
         "text": [
          "species_water_desiccation_traits_survival",
          "",
          "",
          "lichens_strains_species_light_conditions"
         ],
         "type": "scatter",
         "x": [
          0,
          0.37166854281574735,
          0.37166854281574735,
          0
         ],
         "xaxis": "x",
         "y": [
          -225,
          -225,
          -235,
          -235
         ],
         "yaxis": "y"
        },
        {
         "hoverinfo": "text",
         "marker": {
          "color": "rgb(255,65,54)"
         },
         "mode": "lines",
         "text": [
          "tardigrades_anhydrobiosis_anhydrobiotic_tardigrade_species",
          "",
          "",
          "species_water_desiccation_traits_environmental"
         ],
         "type": "scatter",
         "x": [
          0,
          0.4864519810323815,
          0.4864519810323815,
          0.37166854281574735
         ],
         "xaxis": "x",
         "y": [
          -215,
          -215,
          -230,
          -230
         ],
         "yaxis": "y"
        },
        {
         "hoverinfo": "text",
         "marker": {
          "color": "rgb(255,65,54)"
         },
         "mode": "lines",
         "text": [
          "medium_growth_rhizobia_strains_media",
          "",
          "",
          "nematodes_entomopathogenic_infective_isolates_indica"
         ],
         "type": "scatter",
         "x": [
          0,
          0.47616679889737434,
          0.47616679889737434,
          0
         ],
         "xaxis": "x",
         "y": [
          -255,
          -255,
          -265,
          -265
         ],
         "yaxis": "y"
        },
        {
         "hoverinfo": "text",
         "marker": {
          "color": "rgb(255,65,54)"
         },
         "mode": "lines",
         "text": [
          "bacteria_strain_isolated_cyanobacteria_desiccation",
          "",
          "",
          "nematodes_entomopathogenic_infective_isolates_juveniles"
         ],
         "type": "scatter",
         "x": [
          0,
          0.552472922339156,
          0.552472922339156,
          0.47616679889737434
         ],
         "xaxis": "x",
         "y": [
          -245,
          -245,
          -260,
          -260
         ],
         "yaxis": "y"
        },
        {
         "hoverinfo": "text",
         "marker": {
          "color": "rgb(255,65,54)"
         },
         "mode": "lines",
         "text": [
          "species_water_desiccation_traits_survival",
          "",
          "",
          "nematodes_strain_desiccation_entomopathogenic_growth"
         ],
         "type": "scatter",
         "x": [
          0.4864519810323815,
          0.6956472542495012,
          0.6956472542495012,
          0.552472922339156
         ],
         "xaxis": "x",
         "y": [
          -222.5,
          -222.5,
          -252.5,
          -252.5
         ],
         "yaxis": "y"
        },
        {
         "hoverinfo": "text",
         "marker": {
          "color": "rgb(255,65,54)"
         },
         "mode": "lines",
         "text": [
          "species_water_desiccation_temperature_survival",
          "",
          "",
          "nematodes_dry season_soil moisture_africa_peanut"
         ],
         "type": "scatter",
         "x": [
          0.6956472542495012,
          0.7466285370204785,
          0.7466285370204785,
          0
         ],
         "xaxis": "x",
         "y": [
          -237.5,
          -237.5,
          -275,
          -275
         ],
         "yaxis": "y"
        },
        {
         "hoverinfo": "text",
         "marker": {
          "color": "rgb(255,65,54)"
         },
         "mode": "lines",
         "text": [
          "water_stress_genotypes_growth_stomatal",
          "",
          "",
          "species_water_desiccation_survival_conditions"
         ],
         "type": "scatter",
         "x": [
          0.5380894202135657,
          0.878549899802655,
          0.878549899802655,
          0.7466285370204785
         ],
         "xaxis": "x",
         "y": [
          -200,
          -200,
          -256.25,
          -256.25
         ],
         "yaxis": "y"
        },
        {
         "hoverinfo": "text",
         "marker": {
          "color": "rgb(255,65,54)"
         },
         "mode": "lines",
         "text": [
          "desiccation_water_species_photosynthesis_stress",
          "",
          "",
          "species_desiccation_temperature_conditions_traits"
         ],
         "type": "scatter",
         "x": [
          0.6744660358433061,
          0.9945426785678948,
          0.9945426785678948,
          0.878549899802655
         ],
         "xaxis": "x",
         "y": [
          -149.375,
          -149.375,
          -228.125,
          -228.125
         ],
         "yaxis": "y"
        },
        {
         "hoverinfo": "text",
         "marker": {
          "color": "rgb(35,205,205)"
         },
         "mode": "lines",
         "text": [
          "trehalose_strain_desiccation_stress_mutants",
          "",
          "",
          "trehalose_rehydration_strain_saccharomyces_saccharomyces cerevisiae"
         ],
         "type": "scatter",
         "x": [
          0,
          0.36123967382568545,
          0.36123967382568545,
          0
         ],
         "xaxis": "x",
         "y": [
          -285,
          -285,
          -295,
          -295
         ],
         "yaxis": "y"
        },
        {
         "hoverinfo": "text",
         "marker": {
          "color": "rgb(35,205,205)"
         },
         "mode": "lines",
         "text": [
          "trehalose_strain_desiccation_stress_yeast",
          "",
          "",
          "trehalose_mammalian cells_membrane_viability_human"
         ],
         "type": "scatter",
         "x": [
          0.36123967382568545,
          0.4905999061729506,
          0.4905999061729506,
          0
         ],
         "xaxis": "x",
         "y": [
          -290,
          -290,
          -305,
          -305
         ],
         "yaxis": "y"
        },
        {
         "hoverinfo": "text",
         "marker": {
          "color": "rgb(35,205,205)"
         },
         "mode": "lines",
         "text": [
          "proteins_late embryogenesis abundant_late embryogenesis_lea protein_abundant lea proteins",
          "",
          "",
          "trehalose_transition temperature_state_glass transition_glassy"
         ],
         "type": "scatter",
         "x": [
          0,
          0.6001647962857289,
          0.6001647962857289,
          0
         ],
         "xaxis": "x",
         "y": [
          -315,
          -315,
          -325,
          -325
         ],
         "yaxis": "y"
        },
        {
         "hoverinfo": "text",
         "marker": {
          "color": "rgb(35,205,205)"
         },
         "mode": "lines",
         "text": [
          "lea protein_late embryogenesis abundant_embryogenesis abundant_late embryogenesis_abundant lea proteins",
          "",
          "",
          "chloroplasts_vacuoles_organelles_electron microscopy_ultrastructural"
         ],
         "type": "scatter",
         "x": [
          0.6001647962857289,
          0.6951239494928525,
          0.6951239494928525,
          0
         ],
         "xaxis": "x",
         "y": [
          -320,
          -320,
          -335,
          -335
         ],
         "yaxis": "y"
        },
        {
         "hoverinfo": "text",
         "marker": {
          "color": "rgb(35,205,205)"
         },
         "mode": "lines",
         "text": [
          "trehalose_strain_desiccation_stress_yeast",
          "",
          "",
          "proteins_lea protein_desiccation_late embryogenesis abundant_embryogenesis abundant"
         ],
         "type": "scatter",
         "x": [
          0.4905999061729506,
          0.7511444311066948,
          0.7511444311066948,
          0.6951239494928525
         ],
         "xaxis": "x",
         "y": [
          -297.5,
          -297.5,
          -327.5,
          -327.5
         ],
         "yaxis": "y"
        },
        {
         "hoverinfo": "text",
         "marker": {
          "color": "rgb(0,116,217)"
         },
         "mode": "lines",
         "text": [
          "species_desiccation_conditions_stress_soil",
          "",
          "",
          "trehalose_proteins_desiccation_lea proteins_stress"
         ],
         "type": "scatter",
         "x": [
          0.9945426785678948,
          1.1561025599952977,
          1.1561025599952977,
          0.7511444311066948
         ],
         "xaxis": "x",
         "y": [
          -188.75,
          -188.75,
          -312.5,
          -312.5
         ],
         "yaxis": "y"
        },
        {
         "hoverinfo": "text",
         "marker": {
          "color": "rgb(133,20,75)"
         },
         "mode": "lines",
         "text": [
          "dormancy_seed germination_ex situ_germinated_climate",
          "",
          "",
          "moisture_moisture content_viability_maturity_desiccation"
         ],
         "type": "scatter",
         "x": [
          0,
          0.24467539942718863,
          0.24467539942718863,
          0
         ],
         "xaxis": "x",
         "y": [
          -355,
          -355,
          -365,
          -365
         ],
         "yaxis": "y"
        },
        {
         "hoverinfo": "text",
         "marker": {
          "color": "rgb(133,20,75)"
         },
         "mode": "lines",
         "text": [
          "cryopreservation_species_ex situ_plant_germplasm",
          "",
          "",
          "moisture_moisture content_species_desiccation_temperature"
         ],
         "type": "scatter",
         "x": [
          0,
          0.5690594644897715,
          0.5690594644897715,
          0.24467539942718863
         ],
         "xaxis": "x",
         "y": [
          -345,
          -345,
          -360,
          -360
         ],
         "yaxis": "y"
        },
        {
         "hoverinfo": "text",
         "marker": {
          "color": "rgb(133,20,75)"
         },
         "mode": "lines",
         "text": [
          "cryopreservation_water_ultrastructural_recalcitrant_viability",
          "",
          "",
          "desiccation_water_desiccation tolerance_damage_development"
         ],
         "type": "scatter",
         "x": [
          0,
          0.3535642938727632,
          0.3535642938727632,
          0
         ],
         "xaxis": "x",
         "y": [
          -375,
          -375,
          -385,
          -385
         ],
         "yaxis": "y"
        },
        {
         "hoverinfo": "text",
         "marker": {
          "color": "rgb(133,20,75)"
         },
         "mode": "lines",
         "text": [
          "desiccation_water_desiccation tolerance_damage_recalcitrant",
          "",
          "",
          "recalcitrant seeds_water_desiccation_water content_water contents"
         ],
         "type": "scatter",
         "x": [
          0.3535642938727632,
          0.3991050840721104,
          0.3991050840721104,
          0
         ],
         "xaxis": "x",
         "y": [
          -380,
          -380,
          -395,
          -395
         ],
         "yaxis": "y"
        },
        {
         "hoverinfo": "text",
         "marker": {
          "color": "rgb(133,20,75)"
         },
         "mode": "lines",
         "text": [
          "moisture_moisture content_species_desiccation_temperature",
          "",
          "",
          "water_desiccation_desiccation tolerance_water contents_water content"
         ],
         "type": "scatter",
         "x": [
          0.5690594644897715,
          0.6395885177027373,
          0.6395885177027373,
          0.3991050840721104
         ],
         "xaxis": "x",
         "y": [
          -352.5,
          -352.5,
          -387.5,
          -387.5
         ],
         "yaxis": "y"
        },
        {
         "hoverinfo": "text",
         "marker": {
          "color": "rgb(255,220,0)"
         },
         "mode": "lines",
         "text": [
          "sucrose_trehalose_acid_commune_pectin",
          "",
          "",
          "glutathione_ascorbate_sod_activity_reductase"
         ],
         "type": "scatter",
         "x": [
          0,
          0.5406280768770804,
          0.5406280768770804,
          0
         ],
         "xaxis": "x",
         "y": [
          -415,
          -415,
          -425,
          -425
         ],
         "yaxis": "y"
        },
        {
         "hoverinfo": "text",
         "marker": {
          "color": "rgb(255,220,0)"
         },
         "mode": "lines",
         "text": [
          "somatic embryos_medium_cryopreservation_embryogenic_regeneration",
          "",
          "",
          "ascorbate_leaves_sod_enzymes_h2o2"
         ],
         "type": "scatter",
         "x": [
          0,
          0.692677339964493,
          0.692677339964493,
          0.5406280768770804
         ],
         "xaxis": "x",
         "y": [
          -405,
          -405,
          -420,
          -420
         ],
         "yaxis": "y"
        },
        {
         "hoverinfo": "text",
         "marker": {
          "color": "rgb(255,220,0)"
         },
         "mode": "lines",
         "text": [
          "galactinol synthase_stachyose_galactose_oligosaccharides_trehalose",
          "",
          "",
          "inositol_stachyose_galactinol_myo inositol_soybean"
         ],
         "type": "scatter",
         "x": [
          0,
          0.4081119238002687,
          0.4081119238002687,
          0
         ],
         "xaxis": "x",
         "y": [
          -435,
          -435,
          -445,
          -445
         ],
         "yaxis": "y"
        },
        {
         "hoverinfo": "text",
         "marker": {
          "color": "rgb(255,220,0)"
         },
         "mode": "lines",
         "text": [
          "myo inositol_oligosaccharides_raffinose stachyose_galactinol synthase_galactose",
          "",
          "",
          "oligosaccharides_carbohydrate_raffinose stachyose_glucose fructose_raffinose family"
         ],
         "type": "scatter",
         "x": [
          0.4081119238002687,
          0.49718739064884604,
          0.49718739064884604,
          0
         ],
         "xaxis": "x",
         "y": [
          -440,
          -440,
          -455,
          -455
         ],
         "yaxis": "y"
        },
        {
         "hoverinfo": "text",
         "marker": {
          "color": "rgb(255,220,0)"
         },
         "mode": "lines",
         "text": [
          "somatic embryos_medium_acid_cryopreservation_desiccation",
          "",
          "",
          "stachyose_inositol_oligosaccharides_raffinose stachyose_myo inositol"
         ],
         "type": "scatter",
         "x": [
          0.692677339964493,
          0.8041593289469593,
          0.8041593289469593,
          0.49718739064884604
         ],
         "xaxis": "x",
         "y": [
          -412.5,
          -412.5,
          -447.5,
          -447.5
         ],
         "yaxis": "y"
        },
        {
         "hoverinfo": "text",
         "marker": {
          "color": "rgb(0,116,217)"
         },
         "mode": "lines",
         "text": [
          "moisture_desiccation_moisture content_water_species",
          "",
          "",
          "sucrose_somatic embryos_raffinose_medium_stachyose"
         ],
         "type": "scatter",
         "x": [
          0.6395885177027373,
          1.1540449380408238,
          1.1540449380408238,
          0.8041593289469593
         ],
         "xaxis": "x",
         "y": [
          -370,
          -370,
          -430,
          -430
         ],
         "yaxis": "y"
        },
        {
         "hoverinfo": "text",
         "marker": {
          "color": "rgb(0,116,217)"
         },
         "mode": "lines",
         "text": [
          "desiccation_species_stress_degrees_soil",
          "",
          "",
          "desiccation_moisture_cryopreservation_moisture content_species"
         ],
         "type": "scatter",
         "x": [
          1.1561025599952977,
          1.450292633426258,
          1.450292633426258,
          1.1540449380408238
         ],
         "xaxis": "x",
         "y": [
          -250.625,
          -250.625,
          -400,
          -400
         ],
         "yaxis": "y"
        },
        {
         "hoverinfo": "text",
         "marker": {
          "color": "rgb(0,116,217)"
         },
         "mode": "lines",
         "text": [
          "genes_stress_proteins_aba_desiccation",
          "",
          "",
          "desiccation_water_species_degrees_temperature"
         ],
         "type": "scatter",
         "x": [
          0.8444875229712852,
          1.6703595117439023,
          1.6703595117439023,
          1.450292633426258
         ],
         "xaxis": "x",
         "y": [
          -45.78125,
          -45.78125,
          -325.3125,
          -325.3125
         ],
         "yaxis": "y"
        },
        {
         "hoverinfo": "text",
         "hovertext": [
          "mechanisms_stress_review_desiccation_evolution",
          "proteins_acid_dehydrin_desiccation_sequence",
          "genes_proteins_stress_analysis_desiccation",
          "genes_proteins_stress_desiccation_metabolism",
          "stress_gene_arabidopsis_abiotic stress_analysis",
          "proteins_genes_arabidopsis_abi3_stress",
          "stress_desiccation_review_proteins_evolution",
          "desiccation_rehydration_water_stress_species",
          "water_photosynthesis_mu mol_light_desiccation",
          "species_water_desiccation_traits_survival",
          "species_water_desiccation_temperature_survival",
          "water_stress_genotypes_growth_stomatal",
          "desiccation_water_species_photosynthesis_stress",
          "trehalose_strain_desiccation_stress_yeast",
          "lea protein_late embryogenesis abundant_embryogenesis abundant_late embryogenesis_abundant lea proteins",
          "trehalose_strain_desiccation_stress_yeast",
          "species_desiccation_conditions_stress_soil",
          "desiccation_water_desiccation tolerance_damage_recalcitrant",
          "moisture_moisture content_species_desiccation_temperature",
          "myo inositol_oligosaccharides_raffinose stachyose_galactinol synthase_galactose",
          "somatic embryos_medium_acid_cryopreservation_desiccation",
          "moisture_desiccation_moisture content_water_species",
          "desiccation_species_stress_degrees_soil",
          "genes_stress_proteins_aba_desiccation"
         ],
         "marker": {
          "color": "black"
         },
         "mode": "markers",
         "showlegend": false,
         "type": "scatter",
         "x": [
          0.3683917960948886,
          0.4238643511122606,
          0.1938377170445844,
          0.22835469967131847,
          0.23328102740097645,
          0.4981026812651659,
          0.3972827946702703,
          0.2981107513424731,
          0.3344983611549802,
          0.4864519810323815,
          0.6956472542495012,
          0.5380894202135657,
          0.6744660358433061,
          0.36123967382568545,
          0.6001647962857289,
          0.4905999061729506,
          0.9945426785678948,
          0.3535642938727632,
          0.5690594644897715,
          0.4081119238002687,
          0.692677339964493,
          0.6395885177027373,
          1.1561025599952977,
          0.8444875229712852
         ],
         "y": [
          -10,
          -40,
          -100,
          -107.5,
          -80,
          -50,
          -17.5,
          -170,
          -150,
          -222.5,
          -237.5,
          -200,
          -149.375,
          -290,
          -320,
          -297.5,
          -188.75,
          -380,
          -352.5,
          -440,
          -412.5,
          -370,
          -250.625,
          -45.78125
         ]
        },
        {
         "hoverinfo": "text",
         "hovertext": [
          "arabidopsis_genes_stress_wild type_abscisic acid",
          "genes_proteins_stress_desiccation_metabolism",
          "genes_stress_proteins_gene_analysis",
          "genes_proteins_stress_analysis_desiccation",
          "desiccation_water_activity_stress_increased",
          "desiccation_water_rehydration_photosynthesis_species",
          "species_water_desiccation_traits_environmental",
          "nematodes_entomopathogenic_infective_isolates_juveniles",
          "nematodes_strain_desiccation_entomopathogenic_growth",
          "species_water_desiccation_survival_conditions",
          "species_desiccation_temperature_conditions_traits",
          "proteins_lea protein_desiccation_late embryogenesis abundant_embryogenesis abundant",
          "trehalose_proteins_desiccation_lea proteins_stress",
          "moisture_moisture content_species_desiccation_temperature",
          "water_desiccation_desiccation tolerance_water contents_water content",
          "ascorbate_leaves_sod_enzymes_h2o2",
          "stachyose_inositol_oligosaccharides_raffinose stachyose_myo inositol",
          "sucrose_somatic embryos_raffinose_medium_stachyose",
          "desiccation_moisture_cryopreservation_moisture content_species",
          "desiccation_water_species_degrees_temperature"
         ],
         "marker": {
          "color": "black"
         },
         "mode": "markers",
         "showlegend": false,
         "type": "scatter",
         "x": [
          0.3166459864946195,
          0.3742944136875411,
          0.6283001381841201,
          0.6998613648181519,
          0.3427756607573764,
          0.4844611138330226,
          0.37166854281574735,
          0.47616679889737434,
          0.552472922339156,
          0.7466285370204785,
          0.878549899802655,
          0.6951239494928525,
          0.7511444311066948,
          0.24467539942718863,
          0.3991050840721104,
          0.5406280768770804,
          0.49718739064884604,
          0.8041593289469593,
          1.1540449380408238,
          1.450292633426258
         ],
         "y": [
          -60,
          -116.25,
          -98.125,
          -74.0625,
          -177.5,
          -163.75,
          -230,
          -260,
          -252.5,
          -256.25,
          -228.125,
          -327.5,
          -312.5,
          -360,
          -387.5,
          -420,
          -447.5,
          -430,
          -400,
          -325.3125
         ]
        }
       ],
       "layout": {
        "autosize": false,
        "height": 890,
        "hoverlabel": {
         "bgcolor": "white",
         "font": {
          "family": "Rockwell",
          "size": 16
         }
        },
        "hovermode": "closest",
        "plot_bgcolor": "#ECEFF1",
        "showlegend": false,
        "template": {
         "data": {
          "bar": [
           {
            "error_x": {
             "color": "#2a3f5f"
            },
            "error_y": {
             "color": "#2a3f5f"
            },
            "marker": {
             "line": {
              "color": "white",
              "width": 0.5
             },
             "pattern": {
              "fillmode": "overlay",
              "size": 10,
              "solidity": 0.2
             }
            },
            "type": "bar"
           }
          ],
          "barpolar": [
           {
            "marker": {
             "line": {
              "color": "white",
              "width": 0.5
             },
             "pattern": {
              "fillmode": "overlay",
              "size": 10,
              "solidity": 0.2
             }
            },
            "type": "barpolar"
           }
          ],
          "carpet": [
           {
            "aaxis": {
             "endlinecolor": "#2a3f5f",
             "gridcolor": "#C8D4E3",
             "linecolor": "#C8D4E3",
             "minorgridcolor": "#C8D4E3",
             "startlinecolor": "#2a3f5f"
            },
            "baxis": {
             "endlinecolor": "#2a3f5f",
             "gridcolor": "#C8D4E3",
             "linecolor": "#C8D4E3",
             "minorgridcolor": "#C8D4E3",
             "startlinecolor": "#2a3f5f"
            },
            "type": "carpet"
           }
          ],
          "choropleth": [
           {
            "colorbar": {
             "outlinewidth": 0,
             "ticks": ""
            },
            "type": "choropleth"
           }
          ],
          "contour": [
           {
            "colorbar": {
             "outlinewidth": 0,
             "ticks": ""
            },
            "colorscale": [
             [
              0,
              "#0d0887"
             ],
             [
              0.1111111111111111,
              "#46039f"
             ],
             [
              0.2222222222222222,
              "#7201a8"
             ],
             [
              0.3333333333333333,
              "#9c179e"
             ],
             [
              0.4444444444444444,
              "#bd3786"
             ],
             [
              0.5555555555555556,
              "#d8576b"
             ],
             [
              0.6666666666666666,
              "#ed7953"
             ],
             [
              0.7777777777777778,
              "#fb9f3a"
             ],
             [
              0.8888888888888888,
              "#fdca26"
             ],
             [
              1,
              "#f0f921"
             ]
            ],
            "type": "contour"
           }
          ],
          "contourcarpet": [
           {
            "colorbar": {
             "outlinewidth": 0,
             "ticks": ""
            },
            "type": "contourcarpet"
           }
          ],
          "heatmap": [
           {
            "colorbar": {
             "outlinewidth": 0,
             "ticks": ""
            },
            "colorscale": [
             [
              0,
              "#0d0887"
             ],
             [
              0.1111111111111111,
              "#46039f"
             ],
             [
              0.2222222222222222,
              "#7201a8"
             ],
             [
              0.3333333333333333,
              "#9c179e"
             ],
             [
              0.4444444444444444,
              "#bd3786"
             ],
             [
              0.5555555555555556,
              "#d8576b"
             ],
             [
              0.6666666666666666,
              "#ed7953"
             ],
             [
              0.7777777777777778,
              "#fb9f3a"
             ],
             [
              0.8888888888888888,
              "#fdca26"
             ],
             [
              1,
              "#f0f921"
             ]
            ],
            "type": "heatmap"
           }
          ],
          "heatmapgl": [
           {
            "colorbar": {
             "outlinewidth": 0,
             "ticks": ""
            },
            "colorscale": [
             [
              0,
              "#0d0887"
             ],
             [
              0.1111111111111111,
              "#46039f"
             ],
             [
              0.2222222222222222,
              "#7201a8"
             ],
             [
              0.3333333333333333,
              "#9c179e"
             ],
             [
              0.4444444444444444,
              "#bd3786"
             ],
             [
              0.5555555555555556,
              "#d8576b"
             ],
             [
              0.6666666666666666,
              "#ed7953"
             ],
             [
              0.7777777777777778,
              "#fb9f3a"
             ],
             [
              0.8888888888888888,
              "#fdca26"
             ],
             [
              1,
              "#f0f921"
             ]
            ],
            "type": "heatmapgl"
           }
          ],
          "histogram": [
           {
            "marker": {
             "pattern": {
              "fillmode": "overlay",
              "size": 10,
              "solidity": 0.2
             }
            },
            "type": "histogram"
           }
          ],
          "histogram2d": [
           {
            "colorbar": {
             "outlinewidth": 0,
             "ticks": ""
            },
            "colorscale": [
             [
              0,
              "#0d0887"
             ],
             [
              0.1111111111111111,
              "#46039f"
             ],
             [
              0.2222222222222222,
              "#7201a8"
             ],
             [
              0.3333333333333333,
              "#9c179e"
             ],
             [
              0.4444444444444444,
              "#bd3786"
             ],
             [
              0.5555555555555556,
              "#d8576b"
             ],
             [
              0.6666666666666666,
              "#ed7953"
             ],
             [
              0.7777777777777778,
              "#fb9f3a"
             ],
             [
              0.8888888888888888,
              "#fdca26"
             ],
             [
              1,
              "#f0f921"
             ]
            ],
            "type": "histogram2d"
           }
          ],
          "histogram2dcontour": [
           {
            "colorbar": {
             "outlinewidth": 0,
             "ticks": ""
            },
            "colorscale": [
             [
              0,
              "#0d0887"
             ],
             [
              0.1111111111111111,
              "#46039f"
             ],
             [
              0.2222222222222222,
              "#7201a8"
             ],
             [
              0.3333333333333333,
              "#9c179e"
             ],
             [
              0.4444444444444444,
              "#bd3786"
             ],
             [
              0.5555555555555556,
              "#d8576b"
             ],
             [
              0.6666666666666666,
              "#ed7953"
             ],
             [
              0.7777777777777778,
              "#fb9f3a"
             ],
             [
              0.8888888888888888,
              "#fdca26"
             ],
             [
              1,
              "#f0f921"
             ]
            ],
            "type": "histogram2dcontour"
           }
          ],
          "mesh3d": [
           {
            "colorbar": {
             "outlinewidth": 0,
             "ticks": ""
            },
            "type": "mesh3d"
           }
          ],
          "parcoords": [
           {
            "line": {
             "colorbar": {
              "outlinewidth": 0,
              "ticks": ""
             }
            },
            "type": "parcoords"
           }
          ],
          "pie": [
           {
            "automargin": true,
            "type": "pie"
           }
          ],
          "scatter": [
           {
            "fillpattern": {
             "fillmode": "overlay",
             "size": 10,
             "solidity": 0.2
            },
            "type": "scatter"
           }
          ],
          "scatter3d": [
           {
            "line": {
             "colorbar": {
              "outlinewidth": 0,
              "ticks": ""
             }
            },
            "marker": {
             "colorbar": {
              "outlinewidth": 0,
              "ticks": ""
             }
            },
            "type": "scatter3d"
           }
          ],
          "scattercarpet": [
           {
            "marker": {
             "colorbar": {
              "outlinewidth": 0,
              "ticks": ""
             }
            },
            "type": "scattercarpet"
           }
          ],
          "scattergeo": [
           {
            "marker": {
             "colorbar": {
              "outlinewidth": 0,
              "ticks": ""
             }
            },
            "type": "scattergeo"
           }
          ],
          "scattergl": [
           {
            "marker": {
             "colorbar": {
              "outlinewidth": 0,
              "ticks": ""
             }
            },
            "type": "scattergl"
           }
          ],
          "scattermapbox": [
           {
            "marker": {
             "colorbar": {
              "outlinewidth": 0,
              "ticks": ""
             }
            },
            "type": "scattermapbox"
           }
          ],
          "scatterpolar": [
           {
            "marker": {
             "colorbar": {
              "outlinewidth": 0,
              "ticks": ""
             }
            },
            "type": "scatterpolar"
           }
          ],
          "scatterpolargl": [
           {
            "marker": {
             "colorbar": {
              "outlinewidth": 0,
              "ticks": ""
             }
            },
            "type": "scatterpolargl"
           }
          ],
          "scatterternary": [
           {
            "marker": {
             "colorbar": {
              "outlinewidth": 0,
              "ticks": ""
             }
            },
            "type": "scatterternary"
           }
          ],
          "surface": [
           {
            "colorbar": {
             "outlinewidth": 0,
             "ticks": ""
            },
            "colorscale": [
             [
              0,
              "#0d0887"
             ],
             [
              0.1111111111111111,
              "#46039f"
             ],
             [
              0.2222222222222222,
              "#7201a8"
             ],
             [
              0.3333333333333333,
              "#9c179e"
             ],
             [
              0.4444444444444444,
              "#bd3786"
             ],
             [
              0.5555555555555556,
              "#d8576b"
             ],
             [
              0.6666666666666666,
              "#ed7953"
             ],
             [
              0.7777777777777778,
              "#fb9f3a"
             ],
             [
              0.8888888888888888,
              "#fdca26"
             ],
             [
              1,
              "#f0f921"
             ]
            ],
            "type": "surface"
           }
          ],
          "table": [
           {
            "cells": {
             "fill": {
              "color": "#EBF0F8"
             },
             "line": {
              "color": "white"
             }
            },
            "header": {
             "fill": {
              "color": "#C8D4E3"
             },
             "line": {
              "color": "white"
             }
            },
            "type": "table"
           }
          ]
         },
         "layout": {
          "annotationdefaults": {
           "arrowcolor": "#2a3f5f",
           "arrowhead": 0,
           "arrowwidth": 1
          },
          "autotypenumbers": "strict",
          "coloraxis": {
           "colorbar": {
            "outlinewidth": 0,
            "ticks": ""
           }
          },
          "colorscale": {
           "diverging": [
            [
             0,
             "#8e0152"
            ],
            [
             0.1,
             "#c51b7d"
            ],
            [
             0.2,
             "#de77ae"
            ],
            [
             0.3,
             "#f1b6da"
            ],
            [
             0.4,
             "#fde0ef"
            ],
            [
             0.5,
             "#f7f7f7"
            ],
            [
             0.6,
             "#e6f5d0"
            ],
            [
             0.7,
             "#b8e186"
            ],
            [
             0.8,
             "#7fbc41"
            ],
            [
             0.9,
             "#4d9221"
            ],
            [
             1,
             "#276419"
            ]
           ],
           "sequential": [
            [
             0,
             "#0d0887"
            ],
            [
             0.1111111111111111,
             "#46039f"
            ],
            [
             0.2222222222222222,
             "#7201a8"
            ],
            [
             0.3333333333333333,
             "#9c179e"
            ],
            [
             0.4444444444444444,
             "#bd3786"
            ],
            [
             0.5555555555555556,
             "#d8576b"
            ],
            [
             0.6666666666666666,
             "#ed7953"
            ],
            [
             0.7777777777777778,
             "#fb9f3a"
            ],
            [
             0.8888888888888888,
             "#fdca26"
            ],
            [
             1,
             "#f0f921"
            ]
           ],
           "sequentialminus": [
            [
             0,
             "#0d0887"
            ],
            [
             0.1111111111111111,
             "#46039f"
            ],
            [
             0.2222222222222222,
             "#7201a8"
            ],
            [
             0.3333333333333333,
             "#9c179e"
            ],
            [
             0.4444444444444444,
             "#bd3786"
            ],
            [
             0.5555555555555556,
             "#d8576b"
            ],
            [
             0.6666666666666666,
             "#ed7953"
            ],
            [
             0.7777777777777778,
             "#fb9f3a"
            ],
            [
             0.8888888888888888,
             "#fdca26"
            ],
            [
             1,
             "#f0f921"
            ]
           ]
          },
          "colorway": [
           "#636efa",
           "#EF553B",
           "#00cc96",
           "#ab63fa",
           "#FFA15A",
           "#19d3f3",
           "#FF6692",
           "#B6E880",
           "#FF97FF",
           "#FECB52"
          ],
          "font": {
           "color": "#2a3f5f"
          },
          "geo": {
           "bgcolor": "white",
           "lakecolor": "white",
           "landcolor": "white",
           "showlakes": true,
           "showland": true,
           "subunitcolor": "#C8D4E3"
          },
          "hoverlabel": {
           "align": "left"
          },
          "hovermode": "closest",
          "mapbox": {
           "style": "light"
          },
          "paper_bgcolor": "white",
          "plot_bgcolor": "white",
          "polar": {
           "angularaxis": {
            "gridcolor": "#EBF0F8",
            "linecolor": "#EBF0F8",
            "ticks": ""
           },
           "bgcolor": "white",
           "radialaxis": {
            "gridcolor": "#EBF0F8",
            "linecolor": "#EBF0F8",
            "ticks": ""
           }
          },
          "scene": {
           "xaxis": {
            "backgroundcolor": "white",
            "gridcolor": "#DFE8F3",
            "gridwidth": 2,
            "linecolor": "#EBF0F8",
            "showbackground": true,
            "ticks": "",
            "zerolinecolor": "#EBF0F8"
           },
           "yaxis": {
            "backgroundcolor": "white",
            "gridcolor": "#DFE8F3",
            "gridwidth": 2,
            "linecolor": "#EBF0F8",
            "showbackground": true,
            "ticks": "",
            "zerolinecolor": "#EBF0F8"
           },
           "zaxis": {
            "backgroundcolor": "white",
            "gridcolor": "#DFE8F3",
            "gridwidth": 2,
            "linecolor": "#EBF0F8",
            "showbackground": true,
            "ticks": "",
            "zerolinecolor": "#EBF0F8"
           }
          },
          "shapedefaults": {
           "line": {
            "color": "#2a3f5f"
           }
          },
          "ternary": {
           "aaxis": {
            "gridcolor": "#DFE8F3",
            "linecolor": "#A2B1C6",
            "ticks": ""
           },
           "baxis": {
            "gridcolor": "#DFE8F3",
            "linecolor": "#A2B1C6",
            "ticks": ""
           },
           "bgcolor": "white",
           "caxis": {
            "gridcolor": "#DFE8F3",
            "linecolor": "#A2B1C6",
            "ticks": ""
           }
          },
          "title": {
           "x": 0.05
          },
          "xaxis": {
           "automargin": true,
           "gridcolor": "#EBF0F8",
           "linecolor": "#EBF0F8",
           "ticks": "",
           "title": {
            "standoff": 15
           },
           "zerolinecolor": "#EBF0F8",
           "zerolinewidth": 2
          },
          "yaxis": {
           "automargin": true,
           "gridcolor": "#EBF0F8",
           "linecolor": "#EBF0F8",
           "ticks": "",
           "title": {
            "standoff": 15
           },
           "zerolinecolor": "#EBF0F8",
           "zerolinewidth": 2
          }
         }
        },
        "title": {
         "font": {
          "color": "Black",
          "size": 22
         },
         "text": "<b>Hierarchical Clustering</b>",
         "x": 0.5,
         "xanchor": "center",
         "yanchor": "top"
        },
        "width": 1000,
        "xaxis": {
         "mirror": "allticks",
         "rangemode": "tozero",
         "showgrid": false,
         "showline": true,
         "showticklabels": true,
         "ticks": "outside",
         "type": "linear",
         "zeroline": false
        },
        "yaxis": {
         "mirror": "allticks",
         "range": [
          -460,
          0
         ],
         "rangemode": "tozero",
         "showgrid": false,
         "showline": true,
         "showticklabels": true,
         "tickmode": "array",
         "ticks": "outside",
         "ticktext": [
          "1_review_stress_desiccation",
          "33_evolution_lineages_bdell...",
          "34_tardigrades_genes_proteins",
          "45_dehydrin_proteins_develo...",
          "5_protein_proteins_genes",
          "9_abi3_arabidopsis_genes",
          "44_mutants_desiccation tole...",
          "25_stress_gene_transgenic p...",
          "13_stress_genes_gene",
          "35_genes_proteins_desiccation",
          "12_proteins_analysis_stress",
          "29_genes_proteins_stress",
          "38_genes_proteins_transcripts",
          "40_moss_rate drying_desicca...",
          "36_water_photosynthesis_des...",
          "19_mu mol_irradiance_light",
          "22_desiccation_stress_rehyd...",
          "8_desiccation_photosystem_p...",
          "27_rehydration_desiccation_...",
          "42_drought_growth_inoculation",
          "7_cultivars_stress_stomatal",
          "17_tardigrades_anhydrobiosi...",
          "0_species_water_desiccation",
          "37_lichens_strains_species",
          "23_bacteria_strain_isolated",
          "16_medium_growth_rhizobia",
          "10_nematodes_entomopathogen...",
          "39_nematodes_dry season_soi...",
          "4_trehalose_strain_desiccat...",
          "15_trehalose_rehydration_st...",
          "21_trehalose_mammalian cell...",
          "11_proteins_late embryogene...",
          "20_trehalose_transition tem...",
          "43_chloroplasts_vacuoles_or...",
          "14_cryopreservation_species...",
          "26_dormancy_seed germinatio...",
          "2_moisture_moisture content...",
          "41_cryopreservation_water_u...",
          "6_desiccation_water_desicca...",
          "31_recalcitrant seeds_water...",
          "3_somatic embryos_medium_cr...",
          "32_sucrose_trehalose_acid",
          "18_glutathione_ascorbate_sod",
          "30_galactinol synthase_stac...",
          "24_inositol_stachyose_galac...",
          "28_oligosaccharides_carbohy..."
         ],
         "tickvals": [
          -5,
          -15,
          -25,
          -35,
          -45,
          -55,
          -65,
          -75,
          -85,
          -95,
          -105,
          -115,
          -125,
          -135,
          -145,
          -155,
          -165,
          -175,
          -185,
          -195,
          -205,
          -215,
          -225,
          -235,
          -245,
          -255,
          -265,
          -275,
          -285,
          -295,
          -305,
          -315,
          -325,
          -335,
          -345,
          -355,
          -365,
          -375,
          -385,
          -395,
          -405,
          -415,
          -425,
          -435,
          -445,
          -455
         ],
         "type": "linear",
         "zeroline": false
        }
       }
      },
      "text/html": [
       "<div>                            <div id=\"890a7972-a04c-4495-a4e9-fddf2a05c7d2\" class=\"plotly-graph-div\" style=\"height:890px; width:1000px;\"></div>            <script type=\"text/javascript\">                require([\"plotly\"], function(Plotly) {                    window.PLOTLYENV=window.PLOTLYENV || {};                                    if (document.getElementById(\"890a7972-a04c-4495-a4e9-fddf2a05c7d2\")) {                    Plotly.newPlot(                        \"890a7972-a04c-4495-a4e9-fddf2a05c7d2\",                        [{\"hoverinfo\":\"text\",\"marker\":{\"color\":\"rgb(61,153,112)\"},\"mode\":\"lines\",\"text\":[\"review_stress_desiccation_environmental_studies\",\"\",\"\",\"evolution_lineages_bdelloid_species_land plants\"],\"x\":[0.0,0.3683917960948886,0.3683917960948886,0.0],\"xaxis\":\"x\",\"y\":[-5.0,-5.0,-15.0,-15.0],\"yaxis\":\"y\",\"type\":\"scatter\"},{\"hoverinfo\":\"text\",\"marker\":{\"color\":\"rgb(61,153,112)\"},\"mode\":\"lines\",\"text\":[\"mechanisms_stress_review_desiccation_evolution\",\"\",\"\",\"tardigrades_genes_proteins_desiccation_analysis\"],\"x\":[0.3683917960948886,0.3972827946702703,0.3972827946702703,0.0],\"xaxis\":\"x\",\"y\":[-10.0,-10.0,-25.0,-25.0],\"yaxis\":\"y\",\"type\":\"scatter\"},{\"hoverinfo\":\"text\",\"marker\":{\"color\":\"rgb(61,153,112)\"},\"mode\":\"lines\",\"text\":[\"dehydrin_proteins_development_dehydrin like_accumulation\",\"\",\"\",\"protein_proteins_genes_stress_analysis\"],\"x\":[0.0,0.4238643511122606,0.4238643511122606,0.0],\"xaxis\":\"x\",\"y\":[-35.0,-35.0,-45.0,-45.0],\"yaxis\":\"y\",\"type\":\"scatter\"},{\"hoverinfo\":\"text\",\"marker\":{\"color\":\"rgb(61,153,112)\"},\"mode\":\"lines\",\"text\":[\"abi3_arabidopsis_genes_type_stress\",\"\",\"\",\"mutants_desiccation tolerance_desiccation_abscisic acid_abscisic\"],\"x\":[0.0,0.3166459864946195,0.3166459864946195,0.0],\"xaxis\":\"x\",\"y\":[-55.0,-55.0,-65.0,-65.0],\"yaxis\":\"y\",\"type\":\"scatter\"},{\"hoverinfo\":\"text\",\"marker\":{\"color\":\"rgb(61,153,112)\"},\"mode\":\"lines\",\"text\":[\"proteins_acid_dehydrin_desiccation_sequence\",\"\",\"\",\"arabidopsis_genes_stress_wild type_abscisic acid\"],\"x\":[0.4238643511122606,0.4981026812651659,0.4981026812651659,0.3166459864946195],\"xaxis\":\"x\",\"y\":[-40.0,-40.0,-60.0,-60.0],\"yaxis\":\"y\",\"type\":\"scatter\"},{\"hoverinfo\":\"text\",\"marker\":{\"color\":\"rgb(61,153,112)\"},\"mode\":\"lines\",\"text\":[\"stress_gene_transgenic plants_protein_wild type\",\"\",\"\",\"stress_genes_gene_protein_abiotic stress\"],\"x\":[0.0,0.23328102740097645,0.23328102740097645,0.0],\"xaxis\":\"x\",\"y\":[-75.0,-75.0,-85.0,-85.0],\"yaxis\":\"y\",\"type\":\"scatter\"},{\"hoverinfo\":\"text\",\"marker\":{\"color\":\"rgb(61,153,112)\"},\"mode\":\"lines\",\"text\":[\"genes_proteins_desiccation_stress_rehydration\",\"\",\"\",\"proteins_analysis_stress_differentially expressed_study\"],\"x\":[0.0,0.1938377170445844,0.1938377170445844,0.0],\"xaxis\":\"x\",\"y\":[-95.0,-95.0,-105.0,-105.0],\"yaxis\":\"y\",\"type\":\"scatter\"},{\"hoverinfo\":\"text\",\"marker\":{\"color\":\"rgb(61,153,112)\"},\"mode\":\"lines\",\"text\":[\"genes_proteins_stress_analysis_desiccation\",\"\",\"\",\"genes_proteins_stress_development_metabolism\"],\"x\":[0.1938377170445844,0.22835469967131847,0.22835469967131847,0.0],\"xaxis\":\"x\",\"y\":[-100.0,-100.0,-115.0,-115.0],\"yaxis\":\"y\",\"type\":\"scatter\"},{\"hoverinfo\":\"text\",\"marker\":{\"color\":\"rgb(61,153,112)\"},\"mode\":\"lines\",\"text\":[\"genes_proteins_stress_desiccation_metabolism\",\"\",\"\",\"genes_proteins_transcripts_seed maturation_gene\"],\"x\":[0.22835469967131847,0.3742944136875411,0.3742944136875411,0.0],\"xaxis\":\"x\",\"y\":[-107.5,-107.5,-125.0,-125.0],\"yaxis\":\"y\",\"type\":\"scatter\"},{\"hoverinfo\":\"text\",\"marker\":{\"color\":\"rgb(61,153,112)\"},\"mode\":\"lines\",\"text\":[\"stress_gene_arabidopsis_abiotic stress_analysis\",\"\",\"\",\"genes_proteins_stress_desiccation_metabolism\"],\"x\":[0.23328102740097645,0.6283001381841201,0.6283001381841201,0.3742944136875411],\"xaxis\":\"x\",\"y\":[-80.0,-80.0,-116.25,-116.25],\"yaxis\":\"y\",\"type\":\"scatter\"},{\"hoverinfo\":\"text\",\"marker\":{\"color\":\"rgb(61,153,112)\"},\"mode\":\"lines\",\"text\":[\"proteins_genes_arabidopsis_abi3_stress\",\"\",\"\",\"genes_stress_proteins_gene_analysis\"],\"x\":[0.4981026812651659,0.6998613648181519,0.6998613648181519,0.6283001381841201],\"xaxis\":\"x\",\"y\":[-50.0,-50.0,-98.125,-98.125],\"yaxis\":\"y\",\"type\":\"scatter\"},{\"hoverinfo\":\"text\",\"marker\":{\"color\":\"rgb(61,153,112)\"},\"mode\":\"lines\",\"text\":[\"stress_desiccation_review_proteins_evolution\",\"\",\"\",\"genes_proteins_stress_analysis_desiccation\"],\"x\":[0.3972827946702703,0.8444875229712852,0.8444875229712852,0.6998613648181519],\"xaxis\":\"x\",\"y\":[-17.5,-17.5,-74.0625,-74.0625],\"yaxis\":\"y\",\"type\":\"scatter\"},{\"hoverinfo\":\"text\",\"marker\":{\"color\":\"rgb(255,65,54)\"},\"mode\":\"lines\",\"text\":[\"water_photosynthesis_desiccation_species_moss\",\"\",\"\",\"mu mol_irradiance_light_photosynthesis_water\"],\"x\":[0.0,0.3344983611549802,0.3344983611549802,0.0],\"xaxis\":\"x\",\"y\":[-145.0,-145.0,-155.0,-155.0],\"yaxis\":\"y\",\"type\":\"scatter\"},{\"hoverinfo\":\"text\",\"marker\":{\"color\":\"rgb(255,65,54)\"},\"mode\":\"lines\",\"text\":[\"desiccation_stress_rehydration_drought_species\",\"\",\"\",\"desiccation_photosystem_photosystem ii_activity_photochemical\"],\"x\":[0.0,0.2981107513424731,0.2981107513424731,0.0],\"xaxis\":\"x\",\"y\":[-165.0,-165.0,-175.0,-175.0],\"yaxis\":\"y\",\"type\":\"scatter\"},{\"hoverinfo\":\"text\",\"marker\":{\"color\":\"rgb(255,65,54)\"},\"mode\":\"lines\",\"text\":[\"desiccation_rehydration_water_stress_species\",\"\",\"\",\"rehydration_desiccation_results_water_activity\"],\"x\":[0.2981107513424731,0.3427756607573764,0.3427756607573764,0.0],\"xaxis\":\"x\",\"y\":[-170.0,-170.0,-185.0,-185.0],\"yaxis\":\"y\",\"type\":\"scatter\"},{\"hoverinfo\":\"text\",\"marker\":{\"color\":\"rgb(255,65,54)\"},\"mode\":\"lines\",\"text\":[\"water_photosynthesis_mu mol_light_desiccation\",\"\",\"\",\"desiccation_water_activity_stress_increased\"],\"x\":[0.3344983611549802,0.4844611138330226,0.4844611138330226,0.3427756607573764],\"xaxis\":\"x\",\"y\":[-150.0,-150.0,-177.5,-177.5],\"yaxis\":\"y\",\"type\":\"scatter\"},{\"hoverinfo\":\"text\",\"marker\":{\"color\":\"rgb(255,65,54)\"},\"mode\":\"lines\",\"text\":[\"moss_rate drying_desiccation_damage_syntrichia\",\"\",\"\",\"desiccation_water_rehydration_photosynthesis_species\"],\"x\":[0.0,0.6744660358433061,0.6744660358433061,0.4844611138330226],\"xaxis\":\"x\",\"y\":[-135.0,-135.0,-163.75,-163.75],\"yaxis\":\"y\",\"type\":\"scatter\"},{\"hoverinfo\":\"text\",\"marker\":{\"color\":\"rgb(255,65,54)\"},\"mode\":\"lines\",\"text\":[\"drought_growth_inoculation_plant growth_plant\",\"\",\"\",\"cultivars_stress_stomatal_soil_growth\"],\"x\":[0.0,0.5380894202135657,0.5380894202135657,0.0],\"xaxis\":\"x\",\"y\":[-195.0,-195.0,-205.0,-205.0],\"yaxis\":\"y\",\"type\":\"scatter\"},{\"hoverinfo\":\"text\",\"marker\":{\"color\":\"rgb(255,65,54)\"},\"mode\":\"lines\",\"text\":[\"species_water_desiccation_traits_survival\",\"\",\"\",\"lichens_strains_species_light_conditions\"],\"x\":[0.0,0.37166854281574735,0.37166854281574735,0.0],\"xaxis\":\"x\",\"y\":[-225.0,-225.0,-235.0,-235.0],\"yaxis\":\"y\",\"type\":\"scatter\"},{\"hoverinfo\":\"text\",\"marker\":{\"color\":\"rgb(255,65,54)\"},\"mode\":\"lines\",\"text\":[\"tardigrades_anhydrobiosis_anhydrobiotic_tardigrade_species\",\"\",\"\",\"species_water_desiccation_traits_environmental\"],\"x\":[0.0,0.4864519810323815,0.4864519810323815,0.37166854281574735],\"xaxis\":\"x\",\"y\":[-215.0,-215.0,-230.0,-230.0],\"yaxis\":\"y\",\"type\":\"scatter\"},{\"hoverinfo\":\"text\",\"marker\":{\"color\":\"rgb(255,65,54)\"},\"mode\":\"lines\",\"text\":[\"medium_growth_rhizobia_strains_media\",\"\",\"\",\"nematodes_entomopathogenic_infective_isolates_indica\"],\"x\":[0.0,0.47616679889737434,0.47616679889737434,0.0],\"xaxis\":\"x\",\"y\":[-255.0,-255.0,-265.0,-265.0],\"yaxis\":\"y\",\"type\":\"scatter\"},{\"hoverinfo\":\"text\",\"marker\":{\"color\":\"rgb(255,65,54)\"},\"mode\":\"lines\",\"text\":[\"bacteria_strain_isolated_cyanobacteria_desiccation\",\"\",\"\",\"nematodes_entomopathogenic_infective_isolates_juveniles\"],\"x\":[0.0,0.552472922339156,0.552472922339156,0.47616679889737434],\"xaxis\":\"x\",\"y\":[-245.0,-245.0,-260.0,-260.0],\"yaxis\":\"y\",\"type\":\"scatter\"},{\"hoverinfo\":\"text\",\"marker\":{\"color\":\"rgb(255,65,54)\"},\"mode\":\"lines\",\"text\":[\"species_water_desiccation_traits_survival\",\"\",\"\",\"nematodes_strain_desiccation_entomopathogenic_growth\"],\"x\":[0.4864519810323815,0.6956472542495012,0.6956472542495012,0.552472922339156],\"xaxis\":\"x\",\"y\":[-222.5,-222.5,-252.5,-252.5],\"yaxis\":\"y\",\"type\":\"scatter\"},{\"hoverinfo\":\"text\",\"marker\":{\"color\":\"rgb(255,65,54)\"},\"mode\":\"lines\",\"text\":[\"species_water_desiccation_temperature_survival\",\"\",\"\",\"nematodes_dry season_soil moisture_africa_peanut\"],\"x\":[0.6956472542495012,0.7466285370204785,0.7466285370204785,0.0],\"xaxis\":\"x\",\"y\":[-237.5,-237.5,-275.0,-275.0],\"yaxis\":\"y\",\"type\":\"scatter\"},{\"hoverinfo\":\"text\",\"marker\":{\"color\":\"rgb(255,65,54)\"},\"mode\":\"lines\",\"text\":[\"water_stress_genotypes_growth_stomatal\",\"\",\"\",\"species_water_desiccation_survival_conditions\"],\"x\":[0.5380894202135657,0.878549899802655,0.878549899802655,0.7466285370204785],\"xaxis\":\"x\",\"y\":[-200.0,-200.0,-256.25,-256.25],\"yaxis\":\"y\",\"type\":\"scatter\"},{\"hoverinfo\":\"text\",\"marker\":{\"color\":\"rgb(255,65,54)\"},\"mode\":\"lines\",\"text\":[\"desiccation_water_species_photosynthesis_stress\",\"\",\"\",\"species_desiccation_temperature_conditions_traits\"],\"x\":[0.6744660358433061,0.9945426785678948,0.9945426785678948,0.878549899802655],\"xaxis\":\"x\",\"y\":[-149.375,-149.375,-228.125,-228.125],\"yaxis\":\"y\",\"type\":\"scatter\"},{\"hoverinfo\":\"text\",\"marker\":{\"color\":\"rgb(35,205,205)\"},\"mode\":\"lines\",\"text\":[\"trehalose_strain_desiccation_stress_mutants\",\"\",\"\",\"trehalose_rehydration_strain_saccharomyces_saccharomyces cerevisiae\"],\"x\":[0.0,0.36123967382568545,0.36123967382568545,0.0],\"xaxis\":\"x\",\"y\":[-285.0,-285.0,-295.0,-295.0],\"yaxis\":\"y\",\"type\":\"scatter\"},{\"hoverinfo\":\"text\",\"marker\":{\"color\":\"rgb(35,205,205)\"},\"mode\":\"lines\",\"text\":[\"trehalose_strain_desiccation_stress_yeast\",\"\",\"\",\"trehalose_mammalian cells_membrane_viability_human\"],\"x\":[0.36123967382568545,0.4905999061729506,0.4905999061729506,0.0],\"xaxis\":\"x\",\"y\":[-290.0,-290.0,-305.0,-305.0],\"yaxis\":\"y\",\"type\":\"scatter\"},{\"hoverinfo\":\"text\",\"marker\":{\"color\":\"rgb(35,205,205)\"},\"mode\":\"lines\",\"text\":[\"proteins_late embryogenesis abundant_late embryogenesis_lea protein_abundant lea proteins\",\"\",\"\",\"trehalose_transition temperature_state_glass transition_glassy\"],\"x\":[0.0,0.6001647962857289,0.6001647962857289,0.0],\"xaxis\":\"x\",\"y\":[-315.0,-315.0,-325.0,-325.0],\"yaxis\":\"y\",\"type\":\"scatter\"},{\"hoverinfo\":\"text\",\"marker\":{\"color\":\"rgb(35,205,205)\"},\"mode\":\"lines\",\"text\":[\"lea protein_late embryogenesis abundant_embryogenesis abundant_late embryogenesis_abundant lea proteins\",\"\",\"\",\"chloroplasts_vacuoles_organelles_electron microscopy_ultrastructural\"],\"x\":[0.6001647962857289,0.6951239494928525,0.6951239494928525,0.0],\"xaxis\":\"x\",\"y\":[-320.0,-320.0,-335.0,-335.0],\"yaxis\":\"y\",\"type\":\"scatter\"},{\"hoverinfo\":\"text\",\"marker\":{\"color\":\"rgb(35,205,205)\"},\"mode\":\"lines\",\"text\":[\"trehalose_strain_desiccation_stress_yeast\",\"\",\"\",\"proteins_lea protein_desiccation_late embryogenesis abundant_embryogenesis abundant\"],\"x\":[0.4905999061729506,0.7511444311066948,0.7511444311066948,0.6951239494928525],\"xaxis\":\"x\",\"y\":[-297.5,-297.5,-327.5,-327.5],\"yaxis\":\"y\",\"type\":\"scatter\"},{\"hoverinfo\":\"text\",\"marker\":{\"color\":\"rgb(0,116,217)\"},\"mode\":\"lines\",\"text\":[\"species_desiccation_conditions_stress_soil\",\"\",\"\",\"trehalose_proteins_desiccation_lea proteins_stress\"],\"x\":[0.9945426785678948,1.1561025599952977,1.1561025599952977,0.7511444311066948],\"xaxis\":\"x\",\"y\":[-188.75,-188.75,-312.5,-312.5],\"yaxis\":\"y\",\"type\":\"scatter\"},{\"hoverinfo\":\"text\",\"marker\":{\"color\":\"rgb(133,20,75)\"},\"mode\":\"lines\",\"text\":[\"dormancy_seed germination_ex situ_germinated_climate\",\"\",\"\",\"moisture_moisture content_viability_maturity_desiccation\"],\"x\":[0.0,0.24467539942718863,0.24467539942718863,0.0],\"xaxis\":\"x\",\"y\":[-355.0,-355.0,-365.0,-365.0],\"yaxis\":\"y\",\"type\":\"scatter\"},{\"hoverinfo\":\"text\",\"marker\":{\"color\":\"rgb(133,20,75)\"},\"mode\":\"lines\",\"text\":[\"cryopreservation_species_ex situ_plant_germplasm\",\"\",\"\",\"moisture_moisture content_species_desiccation_temperature\"],\"x\":[0.0,0.5690594644897715,0.5690594644897715,0.24467539942718863],\"xaxis\":\"x\",\"y\":[-345.0,-345.0,-360.0,-360.0],\"yaxis\":\"y\",\"type\":\"scatter\"},{\"hoverinfo\":\"text\",\"marker\":{\"color\":\"rgb(133,20,75)\"},\"mode\":\"lines\",\"text\":[\"cryopreservation_water_ultrastructural_recalcitrant_viability\",\"\",\"\",\"desiccation_water_desiccation tolerance_damage_development\"],\"x\":[0.0,0.3535642938727632,0.3535642938727632,0.0],\"xaxis\":\"x\",\"y\":[-375.0,-375.0,-385.0,-385.0],\"yaxis\":\"y\",\"type\":\"scatter\"},{\"hoverinfo\":\"text\",\"marker\":{\"color\":\"rgb(133,20,75)\"},\"mode\":\"lines\",\"text\":[\"desiccation_water_desiccation tolerance_damage_recalcitrant\",\"\",\"\",\"recalcitrant seeds_water_desiccation_water content_water contents\"],\"x\":[0.3535642938727632,0.3991050840721104,0.3991050840721104,0.0],\"xaxis\":\"x\",\"y\":[-380.0,-380.0,-395.0,-395.0],\"yaxis\":\"y\",\"type\":\"scatter\"},{\"hoverinfo\":\"text\",\"marker\":{\"color\":\"rgb(133,20,75)\"},\"mode\":\"lines\",\"text\":[\"moisture_moisture content_species_desiccation_temperature\",\"\",\"\",\"water_desiccation_desiccation tolerance_water contents_water content\"],\"x\":[0.5690594644897715,0.6395885177027373,0.6395885177027373,0.3991050840721104],\"xaxis\":\"x\",\"y\":[-352.5,-352.5,-387.5,-387.5],\"yaxis\":\"y\",\"type\":\"scatter\"},{\"hoverinfo\":\"text\",\"marker\":{\"color\":\"rgb(255,220,0)\"},\"mode\":\"lines\",\"text\":[\"sucrose_trehalose_acid_commune_pectin\",\"\",\"\",\"glutathione_ascorbate_sod_activity_reductase\"],\"x\":[0.0,0.5406280768770804,0.5406280768770804,0.0],\"xaxis\":\"x\",\"y\":[-415.0,-415.0,-425.0,-425.0],\"yaxis\":\"y\",\"type\":\"scatter\"},{\"hoverinfo\":\"text\",\"marker\":{\"color\":\"rgb(255,220,0)\"},\"mode\":\"lines\",\"text\":[\"somatic embryos_medium_cryopreservation_embryogenic_regeneration\",\"\",\"\",\"ascorbate_leaves_sod_enzymes_h2o2\"],\"x\":[0.0,0.692677339964493,0.692677339964493,0.5406280768770804],\"xaxis\":\"x\",\"y\":[-405.0,-405.0,-420.0,-420.0],\"yaxis\":\"y\",\"type\":\"scatter\"},{\"hoverinfo\":\"text\",\"marker\":{\"color\":\"rgb(255,220,0)\"},\"mode\":\"lines\",\"text\":[\"galactinol synthase_stachyose_galactose_oligosaccharides_trehalose\",\"\",\"\",\"inositol_stachyose_galactinol_myo inositol_soybean\"],\"x\":[0.0,0.4081119238002687,0.4081119238002687,0.0],\"xaxis\":\"x\",\"y\":[-435.0,-435.0,-445.0,-445.0],\"yaxis\":\"y\",\"type\":\"scatter\"},{\"hoverinfo\":\"text\",\"marker\":{\"color\":\"rgb(255,220,0)\"},\"mode\":\"lines\",\"text\":[\"myo inositol_oligosaccharides_raffinose stachyose_galactinol synthase_galactose\",\"\",\"\",\"oligosaccharides_carbohydrate_raffinose stachyose_glucose fructose_raffinose family\"],\"x\":[0.4081119238002687,0.49718739064884604,0.49718739064884604,0.0],\"xaxis\":\"x\",\"y\":[-440.0,-440.0,-455.0,-455.0],\"yaxis\":\"y\",\"type\":\"scatter\"},{\"hoverinfo\":\"text\",\"marker\":{\"color\":\"rgb(255,220,0)\"},\"mode\":\"lines\",\"text\":[\"somatic embryos_medium_acid_cryopreservation_desiccation\",\"\",\"\",\"stachyose_inositol_oligosaccharides_raffinose stachyose_myo inositol\"],\"x\":[0.692677339964493,0.8041593289469593,0.8041593289469593,0.49718739064884604],\"xaxis\":\"x\",\"y\":[-412.5,-412.5,-447.5,-447.5],\"yaxis\":\"y\",\"type\":\"scatter\"},{\"hoverinfo\":\"text\",\"marker\":{\"color\":\"rgb(0,116,217)\"},\"mode\":\"lines\",\"text\":[\"moisture_desiccation_moisture content_water_species\",\"\",\"\",\"sucrose_somatic embryos_raffinose_medium_stachyose\"],\"x\":[0.6395885177027373,1.1540449380408238,1.1540449380408238,0.8041593289469593],\"xaxis\":\"x\",\"y\":[-370.0,-370.0,-430.0,-430.0],\"yaxis\":\"y\",\"type\":\"scatter\"},{\"hoverinfo\":\"text\",\"marker\":{\"color\":\"rgb(0,116,217)\"},\"mode\":\"lines\",\"text\":[\"desiccation_species_stress_degrees_soil\",\"\",\"\",\"desiccation_moisture_cryopreservation_moisture content_species\"],\"x\":[1.1561025599952977,1.450292633426258,1.450292633426258,1.1540449380408238],\"xaxis\":\"x\",\"y\":[-250.625,-250.625,-400.0,-400.0],\"yaxis\":\"y\",\"type\":\"scatter\"},{\"hoverinfo\":\"text\",\"marker\":{\"color\":\"rgb(0,116,217)\"},\"mode\":\"lines\",\"text\":[\"genes_stress_proteins_aba_desiccation\",\"\",\"\",\"desiccation_water_species_degrees_temperature\"],\"x\":[0.8444875229712852,1.6703595117439023,1.6703595117439023,1.450292633426258],\"xaxis\":\"x\",\"y\":[-45.78125,-45.78125,-325.3125,-325.3125],\"yaxis\":\"y\",\"type\":\"scatter\"},{\"hoverinfo\":\"text\",\"hovertext\":[\"mechanisms_stress_review_desiccation_evolution\",\"proteins_acid_dehydrin_desiccation_sequence\",\"genes_proteins_stress_analysis_desiccation\",\"genes_proteins_stress_desiccation_metabolism\",\"stress_gene_arabidopsis_abiotic stress_analysis\",\"proteins_genes_arabidopsis_abi3_stress\",\"stress_desiccation_review_proteins_evolution\",\"desiccation_rehydration_water_stress_species\",\"water_photosynthesis_mu mol_light_desiccation\",\"species_water_desiccation_traits_survival\",\"species_water_desiccation_temperature_survival\",\"water_stress_genotypes_growth_stomatal\",\"desiccation_water_species_photosynthesis_stress\",\"trehalose_strain_desiccation_stress_yeast\",\"lea protein_late embryogenesis abundant_embryogenesis abundant_late embryogenesis_abundant lea proteins\",\"trehalose_strain_desiccation_stress_yeast\",\"species_desiccation_conditions_stress_soil\",\"desiccation_water_desiccation tolerance_damage_recalcitrant\",\"moisture_moisture content_species_desiccation_temperature\",\"myo inositol_oligosaccharides_raffinose stachyose_galactinol synthase_galactose\",\"somatic embryos_medium_acid_cryopreservation_desiccation\",\"moisture_desiccation_moisture content_water_species\",\"desiccation_species_stress_degrees_soil\",\"genes_stress_proteins_aba_desiccation\"],\"marker\":{\"color\":\"black\"},\"mode\":\"markers\",\"showlegend\":false,\"x\":[0.3683917960948886,0.4238643511122606,0.1938377170445844,0.22835469967131847,0.23328102740097645,0.4981026812651659,0.3972827946702703,0.2981107513424731,0.3344983611549802,0.4864519810323815,0.6956472542495012,0.5380894202135657,0.6744660358433061,0.36123967382568545,0.6001647962857289,0.4905999061729506,0.9945426785678948,0.3535642938727632,0.5690594644897715,0.4081119238002687,0.692677339964493,0.6395885177027373,1.1561025599952977,0.8444875229712852],\"y\":[-10.0,-40.0,-100.0,-107.5,-80.0,-50.0,-17.5,-170.0,-150.0,-222.5,-237.5,-200.0,-149.375,-290.0,-320.0,-297.5,-188.75,-380.0,-352.5,-440.0,-412.5,-370.0,-250.625,-45.78125],\"type\":\"scatter\"},{\"hoverinfo\":\"text\",\"hovertext\":[\"arabidopsis_genes_stress_wild type_abscisic acid\",\"genes_proteins_stress_desiccation_metabolism\",\"genes_stress_proteins_gene_analysis\",\"genes_proteins_stress_analysis_desiccation\",\"desiccation_water_activity_stress_increased\",\"desiccation_water_rehydration_photosynthesis_species\",\"species_water_desiccation_traits_environmental\",\"nematodes_entomopathogenic_infective_isolates_juveniles\",\"nematodes_strain_desiccation_entomopathogenic_growth\",\"species_water_desiccation_survival_conditions\",\"species_desiccation_temperature_conditions_traits\",\"proteins_lea protein_desiccation_late embryogenesis abundant_embryogenesis abundant\",\"trehalose_proteins_desiccation_lea proteins_stress\",\"moisture_moisture content_species_desiccation_temperature\",\"water_desiccation_desiccation tolerance_water contents_water content\",\"ascorbate_leaves_sod_enzymes_h2o2\",\"stachyose_inositol_oligosaccharides_raffinose stachyose_myo inositol\",\"sucrose_somatic embryos_raffinose_medium_stachyose\",\"desiccation_moisture_cryopreservation_moisture content_species\",\"desiccation_water_species_degrees_temperature\"],\"marker\":{\"color\":\"black\"},\"mode\":\"markers\",\"showlegend\":false,\"x\":[0.3166459864946195,0.3742944136875411,0.6283001381841201,0.6998613648181519,0.3427756607573764,0.4844611138330226,0.37166854281574735,0.47616679889737434,0.552472922339156,0.7466285370204785,0.878549899802655,0.6951239494928525,0.7511444311066948,0.24467539942718863,0.3991050840721104,0.5406280768770804,0.49718739064884604,0.8041593289469593,1.1540449380408238,1.450292633426258],\"y\":[-60.0,-116.25,-98.125,-74.0625,-177.5,-163.75,-230.0,-260.0,-252.5,-256.25,-228.125,-327.5,-312.5,-360.0,-387.5,-420.0,-447.5,-430.0,-400.0,-325.3125],\"type\":\"scatter\"}],                        {\"autosize\":false,\"height\":890,\"hovermode\":\"closest\",\"showlegend\":false,\"width\":1000,\"xaxis\":{\"mirror\":\"allticks\",\"rangemode\":\"tozero\",\"showgrid\":false,\"showline\":true,\"showticklabels\":true,\"ticks\":\"outside\",\"type\":\"linear\",\"zeroline\":false},\"yaxis\":{\"mirror\":\"allticks\",\"rangemode\":\"tozero\",\"showgrid\":false,\"showline\":true,\"showticklabels\":true,\"tickmode\":\"array\",\"ticks\":\"outside\",\"ticktext\":[\"1_review_stress_desiccation\",\"33_evolution_lineages_bdell...\",\"34_tardigrades_genes_proteins\",\"45_dehydrin_proteins_develo...\",\"5_protein_proteins_genes\",\"9_abi3_arabidopsis_genes\",\"44_mutants_desiccation tole...\",\"25_stress_gene_transgenic p...\",\"13_stress_genes_gene\",\"35_genes_proteins_desiccation\",\"12_proteins_analysis_stress\",\"29_genes_proteins_stress\",\"38_genes_proteins_transcripts\",\"40_moss_rate drying_desicca...\",\"36_water_photosynthesis_des...\",\"19_mu mol_irradiance_light\",\"22_desiccation_stress_rehyd...\",\"8_desiccation_photosystem_p...\",\"27_rehydration_desiccation_...\",\"42_drought_growth_inoculation\",\"7_cultivars_stress_stomatal\",\"17_tardigrades_anhydrobiosi...\",\"0_species_water_desiccation\",\"37_lichens_strains_species\",\"23_bacteria_strain_isolated\",\"16_medium_growth_rhizobia\",\"10_nematodes_entomopathogen...\",\"39_nematodes_dry season_soi...\",\"4_trehalose_strain_desiccat...\",\"15_trehalose_rehydration_st...\",\"21_trehalose_mammalian cell...\",\"11_proteins_late embryogene...\",\"20_trehalose_transition tem...\",\"43_chloroplasts_vacuoles_or...\",\"14_cryopreservation_species...\",\"26_dormancy_seed germinatio...\",\"2_moisture_moisture content...\",\"41_cryopreservation_water_u...\",\"6_desiccation_water_desicca...\",\"31_recalcitrant seeds_water...\",\"3_somatic embryos_medium_cr...\",\"32_sucrose_trehalose_acid\",\"18_glutathione_ascorbate_sod\",\"30_galactinol synthase_stac...\",\"24_inositol_stachyose_galac...\",\"28_oligosaccharides_carbohy...\"],\"tickvals\":[-5.0,-15.0,-25.0,-35.0,-45.0,-55.0,-65.0,-75.0,-85.0,-95.0,-105.0,-115.0,-125.0,-135.0,-145.0,-155.0,-165.0,-175.0,-185.0,-195.0,-205.0,-215.0,-225.0,-235.0,-245.0,-255.0,-265.0,-275.0,-285.0,-295.0,-305.0,-315.0,-325.0,-335.0,-345.0,-355.0,-365.0,-375.0,-385.0,-395.0,-405.0,-415.0,-425.0,-435.0,-445.0,-455.0],\"type\":\"linear\",\"zeroline\":false,\"range\":[-460.0,0.0]},\"template\":{\"data\":{\"barpolar\":[{\"marker\":{\"line\":{\"color\":\"white\",\"width\":0.5},\"pattern\":{\"fillmode\":\"overlay\",\"size\":10,\"solidity\":0.2}},\"type\":\"barpolar\"}],\"bar\":[{\"error_x\":{\"color\":\"#2a3f5f\"},\"error_y\":{\"color\":\"#2a3f5f\"},\"marker\":{\"line\":{\"color\":\"white\",\"width\":0.5},\"pattern\":{\"fillmode\":\"overlay\",\"size\":10,\"solidity\":0.2}},\"type\":\"bar\"}],\"carpet\":[{\"aaxis\":{\"endlinecolor\":\"#2a3f5f\",\"gridcolor\":\"#C8D4E3\",\"linecolor\":\"#C8D4E3\",\"minorgridcolor\":\"#C8D4E3\",\"startlinecolor\":\"#2a3f5f\"},\"baxis\":{\"endlinecolor\":\"#2a3f5f\",\"gridcolor\":\"#C8D4E3\",\"linecolor\":\"#C8D4E3\",\"minorgridcolor\":\"#C8D4E3\",\"startlinecolor\":\"#2a3f5f\"},\"type\":\"carpet\"}],\"choropleth\":[{\"colorbar\":{\"outlinewidth\":0,\"ticks\":\"\"},\"type\":\"choropleth\"}],\"contourcarpet\":[{\"colorbar\":{\"outlinewidth\":0,\"ticks\":\"\"},\"type\":\"contourcarpet\"}],\"contour\":[{\"colorbar\":{\"outlinewidth\":0,\"ticks\":\"\"},\"colorscale\":[[0.0,\"#0d0887\"],[0.1111111111111111,\"#46039f\"],[0.2222222222222222,\"#7201a8\"],[0.3333333333333333,\"#9c179e\"],[0.4444444444444444,\"#bd3786\"],[0.5555555555555556,\"#d8576b\"],[0.6666666666666666,\"#ed7953\"],[0.7777777777777778,\"#fb9f3a\"],[0.8888888888888888,\"#fdca26\"],[1.0,\"#f0f921\"]],\"type\":\"contour\"}],\"heatmapgl\":[{\"colorbar\":{\"outlinewidth\":0,\"ticks\":\"\"},\"colorscale\":[[0.0,\"#0d0887\"],[0.1111111111111111,\"#46039f\"],[0.2222222222222222,\"#7201a8\"],[0.3333333333333333,\"#9c179e\"],[0.4444444444444444,\"#bd3786\"],[0.5555555555555556,\"#d8576b\"],[0.6666666666666666,\"#ed7953\"],[0.7777777777777778,\"#fb9f3a\"],[0.8888888888888888,\"#fdca26\"],[1.0,\"#f0f921\"]],\"type\":\"heatmapgl\"}],\"heatmap\":[{\"colorbar\":{\"outlinewidth\":0,\"ticks\":\"\"},\"colorscale\":[[0.0,\"#0d0887\"],[0.1111111111111111,\"#46039f\"],[0.2222222222222222,\"#7201a8\"],[0.3333333333333333,\"#9c179e\"],[0.4444444444444444,\"#bd3786\"],[0.5555555555555556,\"#d8576b\"],[0.6666666666666666,\"#ed7953\"],[0.7777777777777778,\"#fb9f3a\"],[0.8888888888888888,\"#fdca26\"],[1.0,\"#f0f921\"]],\"type\":\"heatmap\"}],\"histogram2dcontour\":[{\"colorbar\":{\"outlinewidth\":0,\"ticks\":\"\"},\"colorscale\":[[0.0,\"#0d0887\"],[0.1111111111111111,\"#46039f\"],[0.2222222222222222,\"#7201a8\"],[0.3333333333333333,\"#9c179e\"],[0.4444444444444444,\"#bd3786\"],[0.5555555555555556,\"#d8576b\"],[0.6666666666666666,\"#ed7953\"],[0.7777777777777778,\"#fb9f3a\"],[0.8888888888888888,\"#fdca26\"],[1.0,\"#f0f921\"]],\"type\":\"histogram2dcontour\"}],\"histogram2d\":[{\"colorbar\":{\"outlinewidth\":0,\"ticks\":\"\"},\"colorscale\":[[0.0,\"#0d0887\"],[0.1111111111111111,\"#46039f\"],[0.2222222222222222,\"#7201a8\"],[0.3333333333333333,\"#9c179e\"],[0.4444444444444444,\"#bd3786\"],[0.5555555555555556,\"#d8576b\"],[0.6666666666666666,\"#ed7953\"],[0.7777777777777778,\"#fb9f3a\"],[0.8888888888888888,\"#fdca26\"],[1.0,\"#f0f921\"]],\"type\":\"histogram2d\"}],\"histogram\":[{\"marker\":{\"pattern\":{\"fillmode\":\"overlay\",\"size\":10,\"solidity\":0.2}},\"type\":\"histogram\"}],\"mesh3d\":[{\"colorbar\":{\"outlinewidth\":0,\"ticks\":\"\"},\"type\":\"mesh3d\"}],\"parcoords\":[{\"line\":{\"colorbar\":{\"outlinewidth\":0,\"ticks\":\"\"}},\"type\":\"parcoords\"}],\"pie\":[{\"automargin\":true,\"type\":\"pie\"}],\"scatter3d\":[{\"line\":{\"colorbar\":{\"outlinewidth\":0,\"ticks\":\"\"}},\"marker\":{\"colorbar\":{\"outlinewidth\":0,\"ticks\":\"\"}},\"type\":\"scatter3d\"}],\"scattercarpet\":[{\"marker\":{\"colorbar\":{\"outlinewidth\":0,\"ticks\":\"\"}},\"type\":\"scattercarpet\"}],\"scattergeo\":[{\"marker\":{\"colorbar\":{\"outlinewidth\":0,\"ticks\":\"\"}},\"type\":\"scattergeo\"}],\"scattergl\":[{\"marker\":{\"colorbar\":{\"outlinewidth\":0,\"ticks\":\"\"}},\"type\":\"scattergl\"}],\"scattermapbox\":[{\"marker\":{\"colorbar\":{\"outlinewidth\":0,\"ticks\":\"\"}},\"type\":\"scattermapbox\"}],\"scatterpolargl\":[{\"marker\":{\"colorbar\":{\"outlinewidth\":0,\"ticks\":\"\"}},\"type\":\"scatterpolargl\"}],\"scatterpolar\":[{\"marker\":{\"colorbar\":{\"outlinewidth\":0,\"ticks\":\"\"}},\"type\":\"scatterpolar\"}],\"scatter\":[{\"fillpattern\":{\"fillmode\":\"overlay\",\"size\":10,\"solidity\":0.2},\"type\":\"scatter\"}],\"scatterternary\":[{\"marker\":{\"colorbar\":{\"outlinewidth\":0,\"ticks\":\"\"}},\"type\":\"scatterternary\"}],\"surface\":[{\"colorbar\":{\"outlinewidth\":0,\"ticks\":\"\"},\"colorscale\":[[0.0,\"#0d0887\"],[0.1111111111111111,\"#46039f\"],[0.2222222222222222,\"#7201a8\"],[0.3333333333333333,\"#9c179e\"],[0.4444444444444444,\"#bd3786\"],[0.5555555555555556,\"#d8576b\"],[0.6666666666666666,\"#ed7953\"],[0.7777777777777778,\"#fb9f3a\"],[0.8888888888888888,\"#fdca26\"],[1.0,\"#f0f921\"]],\"type\":\"surface\"}],\"table\":[{\"cells\":{\"fill\":{\"color\":\"#EBF0F8\"},\"line\":{\"color\":\"white\"}},\"header\":{\"fill\":{\"color\":\"#C8D4E3\"},\"line\":{\"color\":\"white\"}},\"type\":\"table\"}]},\"layout\":{\"annotationdefaults\":{\"arrowcolor\":\"#2a3f5f\",\"arrowhead\":0,\"arrowwidth\":1},\"autotypenumbers\":\"strict\",\"coloraxis\":{\"colorbar\":{\"outlinewidth\":0,\"ticks\":\"\"}},\"colorscale\":{\"diverging\":[[0,\"#8e0152\"],[0.1,\"#c51b7d\"],[0.2,\"#de77ae\"],[0.3,\"#f1b6da\"],[0.4,\"#fde0ef\"],[0.5,\"#f7f7f7\"],[0.6,\"#e6f5d0\"],[0.7,\"#b8e186\"],[0.8,\"#7fbc41\"],[0.9,\"#4d9221\"],[1,\"#276419\"]],\"sequential\":[[0.0,\"#0d0887\"],[0.1111111111111111,\"#46039f\"],[0.2222222222222222,\"#7201a8\"],[0.3333333333333333,\"#9c179e\"],[0.4444444444444444,\"#bd3786\"],[0.5555555555555556,\"#d8576b\"],[0.6666666666666666,\"#ed7953\"],[0.7777777777777778,\"#fb9f3a\"],[0.8888888888888888,\"#fdca26\"],[1.0,\"#f0f921\"]],\"sequentialminus\":[[0.0,\"#0d0887\"],[0.1111111111111111,\"#46039f\"],[0.2222222222222222,\"#7201a8\"],[0.3333333333333333,\"#9c179e\"],[0.4444444444444444,\"#bd3786\"],[0.5555555555555556,\"#d8576b\"],[0.6666666666666666,\"#ed7953\"],[0.7777777777777778,\"#fb9f3a\"],[0.8888888888888888,\"#fdca26\"],[1.0,\"#f0f921\"]]},\"colorway\":[\"#636efa\",\"#EF553B\",\"#00cc96\",\"#ab63fa\",\"#FFA15A\",\"#19d3f3\",\"#FF6692\",\"#B6E880\",\"#FF97FF\",\"#FECB52\"],\"font\":{\"color\":\"#2a3f5f\"},\"geo\":{\"bgcolor\":\"white\",\"lakecolor\":\"white\",\"landcolor\":\"white\",\"showlakes\":true,\"showland\":true,\"subunitcolor\":\"#C8D4E3\"},\"hoverlabel\":{\"align\":\"left\"},\"hovermode\":\"closest\",\"mapbox\":{\"style\":\"light\"},\"paper_bgcolor\":\"white\",\"plot_bgcolor\":\"white\",\"polar\":{\"angularaxis\":{\"gridcolor\":\"#EBF0F8\",\"linecolor\":\"#EBF0F8\",\"ticks\":\"\"},\"bgcolor\":\"white\",\"radialaxis\":{\"gridcolor\":\"#EBF0F8\",\"linecolor\":\"#EBF0F8\",\"ticks\":\"\"}},\"scene\":{\"xaxis\":{\"backgroundcolor\":\"white\",\"gridcolor\":\"#DFE8F3\",\"gridwidth\":2,\"linecolor\":\"#EBF0F8\",\"showbackground\":true,\"ticks\":\"\",\"zerolinecolor\":\"#EBF0F8\"},\"yaxis\":{\"backgroundcolor\":\"white\",\"gridcolor\":\"#DFE8F3\",\"gridwidth\":2,\"linecolor\":\"#EBF0F8\",\"showbackground\":true,\"ticks\":\"\",\"zerolinecolor\":\"#EBF0F8\"},\"zaxis\":{\"backgroundcolor\":\"white\",\"gridcolor\":\"#DFE8F3\",\"gridwidth\":2,\"linecolor\":\"#EBF0F8\",\"showbackground\":true,\"ticks\":\"\",\"zerolinecolor\":\"#EBF0F8\"}},\"shapedefaults\":{\"line\":{\"color\":\"#2a3f5f\"}},\"ternary\":{\"aaxis\":{\"gridcolor\":\"#DFE8F3\",\"linecolor\":\"#A2B1C6\",\"ticks\":\"\"},\"baxis\":{\"gridcolor\":\"#DFE8F3\",\"linecolor\":\"#A2B1C6\",\"ticks\":\"\"},\"bgcolor\":\"white\",\"caxis\":{\"gridcolor\":\"#DFE8F3\",\"linecolor\":\"#A2B1C6\",\"ticks\":\"\"}},\"title\":{\"x\":0.05},\"xaxis\":{\"automargin\":true,\"gridcolor\":\"#EBF0F8\",\"linecolor\":\"#EBF0F8\",\"ticks\":\"\",\"title\":{\"standoff\":15},\"zerolinecolor\":\"#EBF0F8\",\"zerolinewidth\":2},\"yaxis\":{\"automargin\":true,\"gridcolor\":\"#EBF0F8\",\"linecolor\":\"#EBF0F8\",\"ticks\":\"\",\"title\":{\"standoff\":15},\"zerolinecolor\":\"#EBF0F8\",\"zerolinewidth\":2}}},\"title\":{\"font\":{\"size\":22,\"color\":\"Black\"},\"text\":\"\\u003cb\\u003eHierarchical Clustering\\u003c\\u002fb\\u003e\",\"x\":0.5,\"xanchor\":\"center\",\"yanchor\":\"top\"},\"hoverlabel\":{\"font\":{\"size\":16,\"family\":\"Rockwell\"},\"bgcolor\":\"white\"},\"plot_bgcolor\":\"#ECEFF1\"},                        {\"responsive\": true}                    ).then(function(){\n",
       "                            \n",
       "var gd = document.getElementById('890a7972-a04c-4495-a4e9-fddf2a05c7d2');\n",
       "var x = new MutationObserver(function (mutations, observer) {{\n",
       "        var display = window.getComputedStyle(gd).display;\n",
       "        if (!display || display === 'none') {{\n",
       "            console.log([gd, 'removed!']);\n",
       "            Plotly.purge(gd);\n",
       "            observer.disconnect();\n",
       "        }}\n",
       "}});\n",
       "\n",
       "// Listen for the removal of the full notebook cells\n",
       "var notebookContainer = gd.closest('#notebook-container');\n",
       "if (notebookContainer) {{\n",
       "    x.observe(notebookContainer, {childList: true});\n",
       "}}\n",
       "\n",
       "// Listen for the clearing of the current output cell\n",
       "var outputEl = gd.closest('.output');\n",
       "if (outputEl) {{\n",
       "    x.observe(outputEl, {childList: true});\n",
       "}}\n",
       "\n",
       "                        })                };                });            </script>        </div>"
      ]
     },
     "metadata": {},
     "output_type": "display_data"
    }
   ],
   "source": [
    "fig = mmr_model.visualize_hierarchy(hierarchical_topics=hierarchical_topics)\n",
    "fig.show()\n",
    "fig.write_image('../data/citation_network/figures/hierarchical_figure_default_aesthetics.pdf')"
   ]
  },
  {
   "cell_type": "markdown",
   "metadata": {},
   "source": [
    "We now want to look at, for each higher-order cluster (the colored groupings), for each author in the cluster, what percentage of their papers are in that cluster? We eventually want to plot a distribution for each higher-order cluster on the side of the hierarchical plot.\n",
    "\n",
    "Since this is a relatively small dataset and getting the topics that belong to clusters in the middle level of the hierarchy isn't trivial, I'm just going to manually assign them:"
   ]
  },
  {
   "cell_type": "code",
   "execution_count": 47,
   "metadata": {},
   "outputs": [],
   "source": [
    "topic_groups = {\n",
    "    'green': [1,33,34,45,5,9,44,25,13,35,12,29,38],\n",
    "    'red': [40, 36,19,22,8,27,42,7,17,0,37,23,16,10,39],\n",
    "    'cyan': [4,15,21,11,20,43],\n",
    "    'maroon': [14,26,2,41,6,31],\n",
    "    'yellow': [3,32,18,30,24,28]\n",
    "}\n",
    "\n",
    "group_labels = {\n",
    "    'green': 'genes_stress_proteins_aba_desiccation',\n",
    "    'red': 'species_desiccation_conditions_stress_soil',\n",
    "    'cyan': 'trehalose_proteins_desiccation_lea proteins_stress',\n",
    "    'maroon': 'moisture_desiccation_moisture content_water_species',\n",
    "    'yellow': 'sucrose_somatic embryos_raffinose_medium_stachyose'\n",
    "}"
   ]
  },
  {
   "cell_type": "markdown",
   "metadata": {},
   "source": [
    "Now we can subset the authors in each topic:"
   ]
  },
  {
   "cell_type": "code",
   "execution_count": 55,
   "metadata": {},
   "outputs": [],
   "source": [
    "uid2topic = {\n",
    "        uid: top for top in topic_reps.topic_num for uid in list(topic_reps.loc[top, 'uids'])\n",
    "}\n",
    "\n",
    "author2uids = defaultdict(list)\n",
    "for paper in data:\n",
    "    for author in paper['authors']:\n",
    "        try:\n",
    "            if paper['UID'] in uid2topic.keys():\n",
    "                author2uids[author['wos_standard'].lower()].append(paper['UID'])\n",
    "        except KeyError:\n",
    "            continue\n",
    "\n",
    "author2topics = {\n",
    "    author: Counter([uid2topic[uid] for uid in uids])\n",
    "    for author, uids in author2uids.items() \n",
    "}"
   ]
  },
  {
   "cell_type": "code",
   "execution_count": 57,
   "metadata": {},
   "outputs": [],
   "source": [
    "author_props = defaultdict(list)\n",
    "for topic in topic_reps.topic_num:\n",
    "    for author, topics in author2topics.items():\n",
    "        if topic in topics.keys():\n",
    "            intopic = topics[topic]\n",
    "            prop = intopic/sum(topics.values())\n",
    "            author_props[topic].append(prop)"
   ]
  },
  {
   "cell_type": "code",
   "execution_count": 61,
   "metadata": {},
   "outputs": [],
   "source": [
    "cluster_props = defaultdict(list)\n",
    "for color, topics in topic_groups.items():\n",
    "    for topic in topics:\n",
    "        cluster_props[color].extend(author_props[topic])"
   ]
  },
  {
   "cell_type": "code",
   "execution_count": 63,
   "metadata": {},
   "outputs": [
    {
     "data": {
      "text/html": [
       "<div>\n",
       "<style scoped>\n",
       "    .dataframe tbody tr th:only-of-type {\n",
       "        vertical-align: middle;\n",
       "    }\n",
       "\n",
       "    .dataframe tbody tr th {\n",
       "        vertical-align: top;\n",
       "    }\n",
       "\n",
       "    .dataframe thead th {\n",
       "        text-align: right;\n",
       "    }\n",
       "</style>\n",
       "<table border=\"1\" class=\"dataframe\">\n",
       "  <thead>\n",
       "    <tr style=\"text-align: right;\">\n",
       "      <th></th>\n",
       "      <th>cluster</th>\n",
       "      <th>propotions</th>\n",
       "    </tr>\n",
       "  </thead>\n",
       "  <tbody>\n",
       "    <tr>\n",
       "      <th>0</th>\n",
       "      <td>green</td>\n",
       "      <td>1.000000</td>\n",
       "    </tr>\n",
       "    <tr>\n",
       "      <th>1</th>\n",
       "      <td>green</td>\n",
       "      <td>0.125000</td>\n",
       "    </tr>\n",
       "    <tr>\n",
       "      <th>2</th>\n",
       "      <td>green</td>\n",
       "      <td>0.062500</td>\n",
       "    </tr>\n",
       "    <tr>\n",
       "      <th>3</th>\n",
       "      <td>green</td>\n",
       "      <td>0.083333</td>\n",
       "    </tr>\n",
       "    <tr>\n",
       "      <th>4</th>\n",
       "      <td>green</td>\n",
       "      <td>0.037037</td>\n",
       "    </tr>\n",
       "  </tbody>\n",
       "</table>\n",
       "</div>"
      ],
      "text/plain": [
       "  cluster  propotions\n",
       "0   green    1.000000\n",
       "1   green    0.125000\n",
       "2   green    0.062500\n",
       "3   green    0.083333\n",
       "4   green    0.037037"
      ]
     },
     "execution_count": 63,
     "metadata": {},
     "output_type": "execute_result"
    }
   ],
   "source": [
    "colors = []\n",
    "props = []\n",
    "for color, vals in cluster_props.items():\n",
    "    for val in vals:\n",
    "        colors.append(color)\n",
    "        props.append(val)\n",
    "\n",
    "cluster_df = pd.DataFrame({'cluster': colors, 'propotions': props})\n",
    "cluster_df.head()"
   ]
  },
  {
   "cell_type": "code",
   "execution_count": 82,
   "metadata": {
    "scrolled": true
   },
   "outputs": [
    {
     "data": {
      "image/png": "[encoded data removed]",
      "text/plain": [
       "<Figure size 500x1000 with 5 Axes>"
      ]
     },
     "metadata": {},
     "output_type": "display_data"
    }
   ],
   "source": [
    "fig, axs = plt.subplots(5, 1, figsize=(5,10), sharex=True, sharey=True)\n",
    "\n",
    "for cluster, ax in zip(cluster_props.keys(), axs):\n",
    "    sns.kdeplot(cluster_props[cluster], label=cluster, ax=ax, color=cluster)\n",
    "    ax.legend()\n",
    "\n",
    "    plt.savefig('../data/citation_network/figures/hierarchical_belonging_kde.pdf', format='pdf', dpi=600, bbox_inches='tight')"
   ]
  }
 ],
 "metadata": {
  "kernelspec": {
   "display_name": "graphs",
   "language": "python",
   "name": "graphs"
  },
  "language_info": {
   "codemirror_mode": {
    "name": "ipython",
    "version": 3
   },
   "file_extension": ".py",
   "mimetype": "text/x-python",
   "name": "python",
   "nbconvert_exporter": "python",
   "pygments_lexer": "ipython3",
   "version": "3.10.13"
  }
 },
 "nbformat": 4,
 "nbformat_minor": 2
}
