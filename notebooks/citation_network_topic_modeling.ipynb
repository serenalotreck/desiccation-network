{
 "cells": [
  {
   "cell_type": "markdown",
   "metadata": {},
   "source": [
    "# Citation network topic modeling\n",
    "In this notebook, we'll implement topic modeling on the various categories in the desiccation tolerance citation network"
   ]
  },
  {
   "cell_type": "code",
   "execution_count": 1,
   "metadata": {},
   "outputs": [
    {
     "name": "stderr",
     "output_type": "stream",
     "text": [
      "2024-03-15 09:46:18.186648: I tensorflow/core/platform/cpu_feature_guard.cc:193] This TensorFlow binary is optimized with oneAPI Deep Neural Network Library (oneDNN) to use the following CPU instructions in performance-critical operations:  SSE4.1 SSE4.2 AVX AVX2 AVX512F AVX512_VNNI FMA\n",
      "To enable them in other operations, rebuild TensorFlow with the appropriate compiler flags.\n",
      "2024-03-15 09:46:20.520338: I tensorflow/core/util/port.cc:104] oneDNN custom operations are on. You may see slightly different numerical results due to floating-point round-off errors from different computation orders. To turn them off, set the environment variable `TF_ENABLE_ONEDNN_OPTS=0`.\n",
      "/mnt/home/lotrecks/anaconda3/envs/graphs/lib/python3.10/site-packages/umap/plot.py:203: NumbaDeprecationWarning: \u001b[1mThe keyword argument 'nopython=False' was supplied. From Numba 0.59.0 the default is being changed to True and use of 'nopython=False' will raise a warning as the argument will have no effect. See https://numba.readthedocs.io/en/stable/reference/deprecation.html#deprecation-of-object-mode-fall-back-behaviour-when-using-jit for details.\u001b[0m\n",
      "  @numba.jit(nopython=False)\n"
     ]
    }
   ],
   "source": [
    "import jsonlines\n",
    "import networkx as nx\n",
    "import sys\n",
    "sys.path.append('../desiccation_network/conference_recommendation')\n",
    "sys.path.append('../data/')\n",
    "from openai_key import API_KEY\n",
    "import utils\n",
    "import pandas as pd\n",
    "from bertopic import BERTopic\n",
    "from bertopic.representation import MaximalMarginalRelevance, KeyBERTInspired, PartOfSpeech, OpenAI\n",
    "import openai\n",
    "from ast import literal_eval\n",
    "from sentence_transformers import SentenceTransformer\n",
    "from umap import UMAP\n",
    "from hdbscan import HDBSCAN\n",
    "from transformers.pipelines import pipeline\n",
    "from sklearn.feature_extraction.text import CountVectorizer\n",
    "from collections import defaultdict\n",
    "import numpy as np\n",
    "import matplotlib.pyplot as plt\n",
    "%matplotlib inline\n",
    "import umap.plot\n",
    "import sklearn"
   ]
  },
  {
   "cell_type": "markdown",
   "metadata": {},
   "source": [
    "## Read in data\n",
    "For now, doing this for main result network only (ignoring unclassified other references)."
   ]
  },
  {
   "cell_type": "code",
   "execution_count": 2,
   "metadata": {},
   "outputs": [],
   "source": [
    "with jsonlines.open('../data/wos_files/core_collection_destol_or_anhydro_FILTERED_MAIN_ONLY_with_ref_abstracts_05Jan2023.jsonl') as reader:\n",
    "    data = []\n",
    "    for obj in reader:\n",
    "        data.append(obj)"
   ]
  },
  {
   "cell_type": "code",
   "execution_count": 3,
   "metadata": {},
   "outputs": [],
   "source": [
    "class_graph = nx.read_graphml('../data/citation_network/core_collection_destol_or_anhydro_FILTERED_classified_network_06Jan2023_MANUALLY_VERIFIED.graphml')"
   ]
  },
  {
   "cell_type": "markdown",
   "metadata": {},
   "source": [
    "Map classifications from the graph to the dataset with abstracts:"
   ]
  },
  {
   "cell_type": "code",
   "execution_count": 4,
   "metadata": {},
   "outputs": [],
   "source": [
    "data_with_class = utils.map_classes_to_jsonl(class_graph, data, False, 'UID')"
   ]
  },
  {
   "cell_type": "code",
   "execution_count": 5,
   "metadata": {},
   "outputs": [
    {
     "name": "stdout",
     "output_type": "stream",
     "text": [
      "There are 5564 abstracts in the dataset.\n"
     ]
    },
    {
     "data": {
      "text/html": [
       "<div>\n",
       "<style scoped>\n",
       "    .dataframe tbody tr th:only-of-type {\n",
       "        vertical-align: middle;\n",
       "    }\n",
       "\n",
       "    .dataframe tbody tr th {\n",
       "        vertical-align: top;\n",
       "    }\n",
       "\n",
       "    .dataframe thead th {\n",
       "        text-align: right;\n",
       "    }\n",
       "</style>\n",
       "<table border=\"1\" class=\"dataframe\">\n",
       "  <thead>\n",
       "    <tr style=\"text-align: right;\">\n",
       "      <th></th>\n",
       "      <th>abstract</th>\n",
       "      <th>study_system</th>\n",
       "      <th>year</th>\n",
       "    </tr>\n",
       "    <tr>\n",
       "      <th>UID</th>\n",
       "      <th></th>\n",
       "      <th></th>\n",
       "      <th></th>\n",
       "    </tr>\n",
       "  </thead>\n",
       "  <tbody>\n",
       "    <tr>\n",
       "      <th>WOS:A1990ET59600010</th>\n",
       "      <td>Four sorghum (Sorghum bicolor L. Moench) lines...</td>\n",
       "      <td>Plant</td>\n",
       "      <td>1990</td>\n",
       "    </tr>\n",
       "    <tr>\n",
       "      <th>WOS:000244317000009</th>\n",
       "      <td>Cynanchum komarovii is well adapted to hot and...</td>\n",
       "      <td>Plant</td>\n",
       "      <td>2007</td>\n",
       "    </tr>\n",
       "    <tr>\n",
       "      <th>WOS:000249421700004</th>\n",
       "      <td>Synergies between global change and biological...</td>\n",
       "      <td>Animal</td>\n",
       "      <td>2007</td>\n",
       "    </tr>\n",
       "    <tr>\n",
       "      <th>WOS:000251161900001</th>\n",
       "      <td>Desiccation tolerance (DT), or the capacity to...</td>\n",
       "      <td>Plant</td>\n",
       "      <td>2007</td>\n",
       "    </tr>\n",
       "    <tr>\n",
       "      <th>WOS:000244031100003</th>\n",
       "      <td>Bean seed storage ability is of major interest...</td>\n",
       "      <td>Plant</td>\n",
       "      <td>2007</td>\n",
       "    </tr>\n",
       "  </tbody>\n",
       "</table>\n",
       "</div>"
      ],
      "text/plain": [
       "                                                              abstract  \\\n",
       "UID                                                                      \n",
       "WOS:A1990ET59600010  Four sorghum (Sorghum bicolor L. Moench) lines...   \n",
       "WOS:000244317000009  Cynanchum komarovii is well adapted to hot and...   \n",
       "WOS:000249421700004  Synergies between global change and biological...   \n",
       "WOS:000251161900001  Desiccation tolerance (DT), or the capacity to...   \n",
       "WOS:000244031100003  Bean seed storage ability is of major interest...   \n",
       "\n",
       "                    study_system  year  \n",
       "UID                                     \n",
       "WOS:A1990ET59600010        Plant  1990  \n",
       "WOS:000244317000009        Plant  2007  \n",
       "WOS:000249421700004       Animal  2007  \n",
       "WOS:000251161900001        Plant  2007  \n",
       "WOS:000244031100003        Plant  2007  "
      ]
     },
     "execution_count": 5,
     "metadata": {},
     "output_type": "execute_result"
    }
   ],
   "source": [
    "abstracts_and_classes = {'UID': [], 'abstract': [], 'study_system': [], 'year': []}\n",
    "for paper in data_with_class:\n",
    "    abstracts_and_classes['UID'].append(paper['UID'])\n",
    "    abstracts_and_classes['abstract'].append(paper['abstract'])\n",
    "    abstracts_and_classes['study_system'].append(paper['study_system'])\n",
    "    abstracts_and_classes['year'].append(int(paper['year']))\n",
    "abstracts = pd.DataFrame.from_dict(abstracts_and_classes, orient='columns').set_index('UID')\n",
    "print(f'There are {len(abstracts)} abstracts in the dataset.')\n",
    "abstracts.head()"
   ]
  },
  {
   "cell_type": "code",
   "execution_count": 6,
   "metadata": {},
   "outputs": [],
   "source": [
    "docs = abstracts.abstract.tolist()"
   ]
  },
  {
   "cell_type": "markdown",
   "metadata": {},
   "source": [
    "## Model fitting\n",
    "\n",
    "**Note:** The final code in this section reflects a lot of manual experimentation with different component models previously in this notebook. Here, we've simplified this to one function that we run twice, once for the MMR representation model, and once for the OpenAI representation model, which is the code for the data we've included in the paper. We'd just like to point out in case anyone would like to perform a similar analysis that there is more manual experimentation that should be done to see what component models and parameters work best for your use case; we highly recommend the tutorials embedded in the [BERTopic documentation](https://maartengr.github.io/BERTopic/index.html) for a detailed reference.\n",
    "\n",
    "There are several steps in the model fitting process:\n",
    "1. Defining component models\n",
    "    1. [SentenceTransformer](https://maartengr.github.io/BERTopic/getting_started/embeddings/embeddings.html#sentence-transformers)\n",
    "    2. [Dimensionality reduction model](https://maartengr.github.io/BERTopic/getting_started/dim_reduction/dim_reduction.html)\n",
    "    3. [Clustering model](https://maartengr.github.io/BERTopic/getting_started/clustering/clustering.html)\n",
    "    4. [Vectorizer model](https://maartengr.github.io/BERTopic/getting_started/vectorizers/vectorizers.html)\n",
    "2. Pre-calculation of embeddings\n",
    "3. Initial fitting\n",
    "4. Outlier reduction\n",
    "\n",
    "Here, we'll define a function to perform this entire process so that we can easily change representation models."
   ]
  },
  {
   "cell_type": "code",
   "execution_count": 7,
   "metadata": {},
   "outputs": [],
   "source": [
    "def fit_reduce_model(rep_model, docs):\n",
    "    \"\"\"\n",
    "    Defines all component models internally besides the representation model, which is the only one that changes.\n",
    "    Pre-calculates embeddings, fits model, and performs outlier reduction.\n",
    "\n",
    "    parameters:\n",
    "        rep_model, class instance from bertopic.representation: representation model\n",
    "        docs, list of str: documents to model\n",
    "\n",
    "    returns:\n",
    "        topic_model, BERTopic model: fitted model with outliers reduced\n",
    "    \"\"\"\n",
    "    # Define all component models\n",
    "    print('Defining component models...')\n",
    "    sentence_model = SentenceTransformer('allenai/scibert_scivocab_cased')\n",
    "    umap_model = UMAP(n_neighbors=15, n_components=5, min_dist=0.0, metric='cosine', random_state=42)\n",
    "    ## Using default HDBSCAN model, no definition needed\n",
    "    vectorizer_model = CountVectorizer(stop_words=\"english\", ngram_range=(1, 3), min_df=10)\n",
    "    representation_model=rep_model\n",
    "    \n",
    "    # Pre-calculate embeddings\n",
    "    print('Calculating embeddings...')\n",
    "    embeddings = sentence_model.encode(docs, show_progress_bar=True)\n",
    "    # We reduce our embeddings to 2D as it will allows us to quickly iterate later on\n",
    "    reduced_embeddings = umap_model.fit_transform(embeddings)\n",
    "    \n",
    "    # Fit the model\n",
    "    print('Fitting model...')\n",
    "    topic_model = BERTopic(embedding_model=sentence_model, umap_model=umap_model, representation_model=representation_model, vectorizer_model=vectorizer_model)\n",
    "    topics, probs = topic_model.fit_transform(docs, embeddings)\n",
    "    \n",
    "    # Reduce outliers\n",
    "    print('Reducing outliers...')\n",
    "    new_topics = topic_model.reduce_outliers(docs, topics, strategy='embeddings', threshold=0.1) # This method ends up reducing all outliers even with this threshold\n",
    "    topic_model.update_topics(docs, topics=new_topics, vectorizer_model=vectorizer_model, representation_model=representation_model)\n",
    "    \n",
    "    return topic_model"
   ]
  },
  {
   "cell_type": "code",
   "execution_count": 8,
   "metadata": {
    "scrolled": false
   },
   "outputs": [
    {
     "name": "stdout",
     "output_type": "stream",
     "text": [
      "Defining component models...\n"
     ]
    },
    {
     "name": "stderr",
     "output_type": "stream",
     "text": [
      "No sentence-transformers model found with name /mnt/home/lotrecks/.cache/torch/sentence_transformers/allenai_scibert_scivocab_cased. Creating a new one with MEAN pooling.\n",
      "Some weights of the model checkpoint at /mnt/home/lotrecks/.cache/torch/sentence_transformers/allenai_scibert_scivocab_cased were not used when initializing BertModel: ['cls.predictions.transform.LayerNorm.weight', 'cls.predictions.transform.dense.weight', 'cls.predictions.decoder.bias', 'cls.predictions.decoder.weight', 'cls.predictions.bias', 'cls.predictions.transform.LayerNorm.bias', 'cls.predictions.transform.dense.bias', 'cls.seq_relationship.weight', 'cls.seq_relationship.bias']\n",
      "- This IS expected if you are initializing BertModel from the checkpoint of a model trained on another task or with another architecture (e.g. initializing a BertForSequenceClassification model from a BertForPreTraining model).\n",
      "- This IS NOT expected if you are initializing BertModel from the checkpoint of a model that you expect to be exactly identical (initializing a BertForSequenceClassification model from a BertForSequenceClassification model).\n"
     ]
    },
    {
     "name": "stdout",
     "output_type": "stream",
     "text": [
      "Calculating embeddings...\n"
     ]
    },
    {
     "data": {
      "application/vnd.jupyter.widget-view+json": {
       "model_id": "e470d195faa04335b237bb648d1f57bd",
       "version_major": 2,
       "version_minor": 0
      },
      "text/plain": [
       "Batches:   0%|          | 0/174 [00:00<?, ?it/s]"
      ]
     },
     "metadata": {},
     "output_type": "display_data"
    },
    {
     "name": "stdout",
     "output_type": "stream",
     "text": [
      "Fitting model...\n",
      "Reducing outliers...\n"
     ]
    },
    {
     "name": "stderr",
     "output_type": "stream",
     "text": [
      "2024-03-15 09:50:12,262 - BERTopic - WARNING: Using a custom list of topic assignments may lead to errors if topic reduction techniques are used afterwards. Make sure that manually assigning topics is the last step in the pipeline.Note that topic embeddings will also be created through weightedc-TF-IDF embeddings instead of centroid embeddings.\n"
     ]
    }
   ],
   "source": [
    "# Define MMR model and get its corresponding topic model\n",
    "mmr_rep_model = MaximalMarginalRelevance(diversity=0.3)\n",
    "mmr_model = fit_reduce_model(mmr_rep_model, docs)"
   ]
  },
  {
   "cell_type": "code",
   "execution_count": 9,
   "metadata": {},
   "outputs": [
    {
     "name": "stdout",
     "output_type": "stream",
     "text": [
      "Defining component models...\n"
     ]
    },
    {
     "name": "stderr",
     "output_type": "stream",
     "text": [
      "No sentence-transformers model found with name /mnt/home/lotrecks/.cache/torch/sentence_transformers/allenai_scibert_scivocab_cased. Creating a new one with MEAN pooling.\n",
      "Some weights of the model checkpoint at /mnt/home/lotrecks/.cache/torch/sentence_transformers/allenai_scibert_scivocab_cased were not used when initializing BertModel: ['cls.predictions.transform.LayerNorm.weight', 'cls.predictions.transform.dense.weight', 'cls.predictions.decoder.bias', 'cls.predictions.decoder.weight', 'cls.predictions.bias', 'cls.predictions.transform.LayerNorm.bias', 'cls.predictions.transform.dense.bias', 'cls.seq_relationship.weight', 'cls.seq_relationship.bias']\n",
      "- This IS expected if you are initializing BertModel from the checkpoint of a model trained on another task or with another architecture (e.g. initializing a BertForSequenceClassification model from a BertForPreTraining model).\n",
      "- This IS NOT expected if you are initializing BertModel from the checkpoint of a model that you expect to be exactly identical (initializing a BertForSequenceClassification model from a BertForSequenceClassification model).\n"
     ]
    },
    {
     "name": "stdout",
     "output_type": "stream",
     "text": [
      "Calculating embeddings...\n"
     ]
    },
    {
     "data": {
      "application/vnd.jupyter.widget-view+json": {
       "model_id": "a028e8e7ac9f4e1bba8edf77c8b0f7ff",
       "version_major": 2,
       "version_minor": 0
      },
      "text/plain": [
       "Batches:   0%|          | 0/174 [00:00<?, ?it/s]"
      ]
     },
     "metadata": {},
     "output_type": "display_data"
    },
    {
     "name": "stdout",
     "output_type": "stream",
     "text": [
      "Fitting model...\n",
      "Reducing outliers...\n"
     ]
    },
    {
     "name": "stderr",
     "output_type": "stream",
     "text": [
      "2024-03-15 09:52:59,828 - BERTopic - WARNING: Using a custom list of topic assignments may lead to errors if topic reduction techniques are used afterwards. Make sure that manually assigning topics is the last step in the pipeline.Note that topic embeddings will also be created through weightedc-TF-IDF embeddings instead of centroid embeddings.\n"
     ]
    }
   ],
   "source": [
    "# Define OpenAI model and get its corresponding topic model\n",
    "client = openai.OpenAI(api_key=API_KEY)\n",
    "openai_rep_model = OpenAI(client, \"gpt-3.5-turbo\", chat=True)\n",
    "openai_model = fit_reduce_model(openai_rep_model, docs)"
   ]
  },
  {
   "cell_type": "markdown",
   "metadata": {},
   "source": [
    "## Summarize topic information\n",
    "We want to see what proportion of each topic is made up of each class, to see if there are some that are more dominated by one group or another. We would expect to see the same proportions as the overall graph if there were no difference in topics in each discipline, so major departures from those splits are what we're looking for. We'll make a supplemental table as well as figures, and also compare the OpenAI representations to MMR representations. We can do this since we used all of the same other component models and random seeds, so the underlying topic clusters are the same."
   ]
  },
  {
   "cell_type": "code",
   "execution_count": 127,
   "metadata": {},
   "outputs": [],
   "source": [
    "def make_table(mmr_model, openai_model, abstracts):\n",
    "    \"\"\"\n",
    "    Make a table with both types of representations and kingdom memberships.\n",
    "    \"\"\"\n",
    "    # Get docs\n",
    "    docs = abstracts.abstract.tolist()\n",
    "    \n",
    "    # Get topic info\n",
    "    topic_dfs = {}\n",
    "    for model_name, model in {'MMR': mmr_model, 'OpenAI': openai_model}.items():\n",
    "        doc_topics = model.get_document_info(docs)\n",
    "        doc_topics['UID'] = abstracts.index\n",
    "        doc_topics['study_system'] = abstracts['study_system'].values.tolist()\n",
    "        topic_dfs[model_name] = doc_topics\n",
    "    \n",
    "    # Assert that the docs in ecah cluster are the same\n",
    "    assert (topic_dfs['MMR'][['Topic', 'UID']].to_dict() == \n",
    "            topic_dfs['OpenAI'][['Topic', 'UID']].to_dict())\n",
    "    \n",
    "    # Merge dfs \n",
    "    topic_dfs = {k: v.drop(columns=['Representative_Docs', 'Top_n_words'])\n",
    "                 for k, v in topic_dfs.items()}\n",
    "    combined_topic_df = topic_dfs['MMR'].merge(topic_dfs['OpenAI'],\n",
    "                                    on=['Document', 'Topic', 'Probability',\n",
    "                                        'Representative_document', 'UID', 'study_system'],\n",
    "                                    how='outer', suffixes=('_MMR', '_OpenAI'))\n",
    "    \n",
    "    # Make sure merge worked as expected\n",
    "    assert (combined_topic_df.shape[0] == topic_dfs['MMR'].shape[0]) and (\n",
    "        combined_topic_df.shape[0] == topic_dfs['OpenAI'].shape[0])\n",
    "    \n",
    "    # Turn into a table with UIDs in a list and kingdoms by percentages\n",
    "    table = defaultdict(list)\n",
    "    for topic in sorted(combined_topic_df.Topic.unique()):\n",
    "        topic_subset = combined_topic_df[combined_topic_df['Topic'] == topic]\n",
    "        table['topic_num'].append(topic)\n",
    "        table['num_docs'].append(len(topic_subset))\n",
    "        table['uids'].append(topic_subset.UID.tolist())\n",
    "        kings = topic_subset.study_system.tolist()\n",
    "        for king in ['Fungi', 'Animal', 'Plant', 'Microbe']:\n",
    "            table[king].append(kings.count(king)/len(topic_subset))\n",
    "        king_sum = sum([table[king][-1] for king in ['Fungi', 'Animal', 'Plant', 'Microbe']])\n",
    "        table['mmr_rep'].append(topic_subset.Representation_MMR.str.join(' | ').unique()[0])\n",
    "        table['openai_rep'].append(topic_subset.Representation_OpenAI.str.join('').unique()[0])\n",
    "    table_df = pd.DataFrame(table)\n",
    "    \n",
    "    return table_df"
   ]
  },
  {
   "cell_type": "code",
   "execution_count": 128,
   "metadata": {},
   "outputs": [
    {
     "data": {
      "text/html": [
       "<div>\n",
       "<style scoped>\n",
       "    .dataframe tbody tr th:only-of-type {\n",
       "        vertical-align: middle;\n",
       "    }\n",
       "\n",
       "    .dataframe tbody tr th {\n",
       "        vertical-align: top;\n",
       "    }\n",
       "\n",
       "    .dataframe thead th {\n",
       "        text-align: right;\n",
       "    }\n",
       "</style>\n",
       "<table border=\"1\" class=\"dataframe\">\n",
       "  <thead>\n",
       "    <tr style=\"text-align: right;\">\n",
       "      <th></th>\n",
       "      <th>topic_num</th>\n",
       "      <th>num_docs</th>\n",
       "      <th>uids</th>\n",
       "      <th>Fungi</th>\n",
       "      <th>Animal</th>\n",
       "      <th>Plant</th>\n",
       "      <th>Microbe</th>\n",
       "      <th>mmr_rep</th>\n",
       "      <th>openai_rep</th>\n",
       "    </tr>\n",
       "  </thead>\n",
       "  <tbody>\n",
       "    <tr>\n",
       "      <th>0</th>\n",
       "      <td>0</td>\n",
       "      <td>589</td>\n",
       "      <td>[WOS:000244031100003, WOS:000259861800008, WOS...</td>\n",
       "      <td>0.001698</td>\n",
       "      <td>0.018676</td>\n",
       "      <td>0.974533</td>\n",
       "      <td>0.005093</td>\n",
       "      <td>moisture | moisture content | desiccation | wa...</td>\n",
       "      <td>Seed Germination and Desiccation Tolerance in ...</td>\n",
       "    </tr>\n",
       "    <tr>\n",
       "      <th>1</th>\n",
       "      <td>1</td>\n",
       "      <td>491</td>\n",
       "      <td>[WOS:000248584500010, WOS:000797063100001, WOS...</td>\n",
       "      <td>0.018330</td>\n",
       "      <td>0.189409</td>\n",
       "      <td>0.651731</td>\n",
       "      <td>0.140530</td>\n",
       "      <td>mechanisms | review | stress | desiccation | s...</td>\n",
       "      <td>Understanding Mechanisms of Desiccation Tolera...</td>\n",
       "    </tr>\n",
       "    <tr>\n",
       "      <th>2</th>\n",
       "      <td>2</td>\n",
       "      <td>227</td>\n",
       "      <td>[WOS:000252298000025, WOS:A1997BH23T00051, WOS...</td>\n",
       "      <td>0.004405</td>\n",
       "      <td>0.044053</td>\n",
       "      <td>0.929515</td>\n",
       "      <td>0.022026</td>\n",
       "      <td>somatic embryos | medium | cryopreservation | ...</td>\n",
       "      <td>Regulatory mechanisms of somatic embryo develo...</td>\n",
       "    </tr>\n",
       "    <tr>\n",
       "      <th>3</th>\n",
       "      <td>3</td>\n",
       "      <td>272</td>\n",
       "      <td>[WOS:000244317000009, WOS:000256477200013, WOS...</td>\n",
       "      <td>0.011029</td>\n",
       "      <td>0.033088</td>\n",
       "      <td>0.904412</td>\n",
       "      <td>0.051471</td>\n",
       "      <td>desiccation | water | activity | resurrection ...</td>\n",
       "      <td>Photosynthetic Adaptations to Desiccation and ...</td>\n",
       "    </tr>\n",
       "    <tr>\n",
       "      <th>4</th>\n",
       "      <td>4</td>\n",
       "      <td>221</td>\n",
       "      <td>[WOS:000243462300012, WOS:000434054800007, WOS...</td>\n",
       "      <td>0.036199</td>\n",
       "      <td>0.398190</td>\n",
       "      <td>0.208145</td>\n",
       "      <td>0.357466</td>\n",
       "      <td>tardigrades | anhydrobiosis | strains | anhydr...</td>\n",
       "      <td>Radiation Tolerance in Anhydrobiotic Species</td>\n",
       "    </tr>\n",
       "  </tbody>\n",
       "</table>\n",
       "</div>"
      ],
      "text/plain": [
       "   topic_num  num_docs                                               uids  \\\n",
       "0          0       589  [WOS:000244031100003, WOS:000259861800008, WOS...   \n",
       "1          1       491  [WOS:000248584500010, WOS:000797063100001, WOS...   \n",
       "2          2       227  [WOS:000252298000025, WOS:A1997BH23T00051, WOS...   \n",
       "3          3       272  [WOS:000244317000009, WOS:000256477200013, WOS...   \n",
       "4          4       221  [WOS:000243462300012, WOS:000434054800007, WOS...   \n",
       "\n",
       "      Fungi    Animal     Plant   Microbe  \\\n",
       "0  0.001698  0.018676  0.974533  0.005093   \n",
       "1  0.018330  0.189409  0.651731  0.140530   \n",
       "2  0.004405  0.044053  0.929515  0.022026   \n",
       "3  0.011029  0.033088  0.904412  0.051471   \n",
       "4  0.036199  0.398190  0.208145  0.357466   \n",
       "\n",
       "                                             mmr_rep  \\\n",
       "0  moisture | moisture content | desiccation | wa...   \n",
       "1  mechanisms | review | stress | desiccation | s...   \n",
       "2  somatic embryos | medium | cryopreservation | ...   \n",
       "3  desiccation | water | activity | resurrection ...   \n",
       "4  tardigrades | anhydrobiosis | strains | anhydr...   \n",
       "\n",
       "                                          openai_rep  \n",
       "0  Seed Germination and Desiccation Tolerance in ...  \n",
       "1  Understanding Mechanisms of Desiccation Tolera...  \n",
       "2  Regulatory mechanisms of somatic embryo develo...  \n",
       "3  Photosynthetic Adaptations to Desiccation and ...  \n",
       "4       Radiation Tolerance in Anhydrobiotic Species  "
      ]
     },
     "execution_count": 128,
     "metadata": {},
     "output_type": "execute_result"
    }
   ],
   "source": [
    "topic_reps = make_table(mmr_model, openai_model, abstracts)\n",
    "topic_reps.head()"
   ]
  },
  {
   "cell_type": "code",
   "execution_count": 129,
   "metadata": {},
   "outputs": [],
   "source": [
    "topic_reps.to_csv('../data/citation_network/topic_modeling_output_MMR_and_OpenAI.csv', index=False)"
   ]
  },
  {
   "cell_type": "markdown",
   "metadata": {},
   "source": [
    "## Visualize class distribution in topic clusters"
   ]
  },
  {
   "cell_type": "code",
   "execution_count": 135,
   "metadata": {},
   "outputs": [],
   "source": [
    "bars_df = topic_reps[['topic_num', 'Plant', 'Animal', 'Fungi', 'Microbe']].set_index('topic_num').T\n",
    "bars_df = bars_df.sort_values(by='Plant', axis=1)"
   ]
  },
  {
   "cell_type": "code",
   "execution_count": 200,
   "metadata": {
    "scrolled": true
   },
   "outputs": [
    {
     "data": {
      "image/png": "[encoded data removed]",
      "text/plain": [
       "<Figure size 4000x1000 with 1 Axes>"
      ]
     },
     "metadata": {},
     "output_type": "display_data"
    }
   ],
   "source": [
    "colors = {'Plant': '#228833', 'Animal':'#EE6677', 'Microbe': '#4477AA', 'Fungi':'#CCBB44'}\n",
    "fig, ax = plt.subplots(figsize=(40,10))\n",
    "bottom = np.zeros(bars_df.shape[1])\n",
    "\n",
    "for system in bars_df.index:\n",
    "    p = ax.bar(bars_df.columns.astype(str), bars_df.loc[system], color=colors[system], label=system, bottom=bottom)\n",
    "    bottom += bars_df.loc[system]\n",
    "\n",
    "xloc_to_xlab = {txt.get_unitless_position()[0]: txt.get_text() for txt in plt.gca().get_xticklabels()}\n",
    "for i, p in enumerate(ax.patches):\n",
    "    width, height = p.get_width(), p.get_height()\n",
    "    x, y = p.get_xy()\n",
    "    to_label = x + 0.5*width\n",
    "    topic = xloc_to_xlab[to_label]\n",
    "    label = topic_reps.loc[topic_reps['topic_num'] == int(topic), 'num_docs'].values[0]\n",
    "    ax.text(x+width/2, \n",
    "            1.1, \n",
    "            '{}'.format(label), \n",
    "            horizontalalignment='center', \n",
    "            verticalalignment='center',\n",
    "            fontsize=30)\n",
    "#     rect = plt.Rectangle((x - width/2,1.07), width=len(str(label))*0.5, height=0.075,\n",
    "#                          transform=ax.get_xaxis_transform(), zorder=3,\n",
    "#                          fill=False, edgecolor='black', clip_on=False)\n",
    "#     ax.add_patch(rect)\n",
    "#     if i == 1:\n",
    "#         break\n",
    "plt.margins(x=0, tight=True)\n",
    "plt.xticks(fontsize=30)\n",
    "plt.yticks(fontsize=30)\n",
    "plt.xlabel('Topic ID', fontsize=36)\n",
    "plt.ylabel('Kingdom proportion', fontsize=36)\n",
    "plt.legend(fontsize=30, loc='lower right', framealpha=0.95)\n",
    "\n",
    "plt.savefig('../data/citation_network/figures/topic_admixture.pdf', format='pdf', bbox_inches='tight', dpi=600)"
   ]
  },
  {
   "cell_type": "markdown",
   "metadata": {},
   "source": [
    "## Hierarchical topic modeling\n",
    "Another way we can look at the trends in these documents is by [hierarchical topic modeling](https://maartengr.github.io/BERTopic/getting_started/hierarchicaltopics/hierarchicaltopics.html). This groups topics according to whether there is some super-topic that could consume multiple sub-topics. Let's take a look:"
   ]
  },
  {
   "cell_type": "code",
   "execution_count": 194,
   "metadata": {},
   "outputs": [
    {
     "name": "stderr",
     "output_type": "stream",
     "text": [
      "100%|██████████| 51/51 [00:01<00:00, 28.11it/s]\n"
     ]
    }
   ],
   "source": [
    "hierarchical_topics = mmr_model.hierarchical_topics(docs)"
   ]
  },
  {
   "cell_type": "code",
   "execution_count": 197,
   "metadata": {},
   "outputs": [],
   "source": [
    "# Save for labeling figure in post-processing since visualization function is inaccessible\n",
    "hierarchical_topics.to_csv('../data/topic_models/hierarchical_topics_15Mar2024.csv', index=False)"
   ]
  },
  {
   "cell_type": "code",
   "execution_count": 199,
   "metadata": {},
   "outputs": [
    {
     "data": {
      "application/vnd.plotly.v1+json": {
       "config": {
        "plotlyServerURL": "https://plot.ly"
       },
       "data": [
        {
         "hoverinfo": "text",
         "marker": {
          "color": "rgb(61,153,112)"
         },
         "mode": "lines",
         "text": [
          "mechanisms_review_stress_desiccation_studies",
          "",
          "",
          "evolution_genomes_species_desiccation_proteins"
         ],
         "type": "scatter",
         "x": [
          0,
          0.33458521498169014,
          0.33458521498169014,
          0
         ],
         "xaxis": "x",
         "y": [
          -25,
          -25,
          -35,
          -35
         ],
         "yaxis": "y"
        },
        {
         "hoverinfo": "text",
         "marker": {
          "color": "rgb(61,153,112)"
         },
         "mode": "lines",
         "text": [
          "diapause_signaling_aquaporins_drosophila_melanogaster",
          "",
          "",
          "stress_desiccation_review_proteins_genes"
         ],
         "type": "scatter",
         "x": [
          0,
          0.5140532785846177,
          0.5140532785846177,
          0.33458521498169014
         ],
         "xaxis": "x",
         "y": [
          -15,
          -15,
          -30,
          -30
         ],
         "yaxis": "y"
        },
        {
         "hoverinfo": "text",
         "marker": {
          "color": "rgb(61,153,112)"
         },
         "mode": "lines",
         "text": [
          "proteins_stress_differentially expressed_rehydration_desiccation",
          "",
          "",
          "proteins_genes_stress_protein_desiccation"
         ],
         "type": "scatter",
         "x": [
          0,
          0.16494699622244358,
          0.16494699622244358,
          0
         ],
         "xaxis": "x",
         "y": [
          -45,
          -45,
          -55,
          -55
         ],
         "yaxis": "y"
        },
        {
         "hoverinfo": "text",
         "marker": {
          "color": "rgb(61,153,112)"
         },
         "mode": "lines",
         "text": [
          "proteins_genes_stress_analysis_metabolism",
          "",
          "",
          "genes_endosperm_proteins_seed maturation_transcripts"
         ],
         "type": "scatter",
         "x": [
          0.16494699622244358,
          0.31779280442507996,
          0.31779280442507996,
          0
         ],
         "xaxis": "x",
         "y": [
          -50,
          -50,
          -65,
          -65
         ],
         "yaxis": "y"
        },
        {
         "hoverinfo": "text",
         "marker": {
          "color": "rgb(61,153,112)"
         },
         "mode": "lines",
         "text": [
          "mechanisms_stress_desiccation_review_proteins",
          "",
          "",
          "genes_proteins_stress_analysis_desiccation"
         ],
         "type": "scatter",
         "x": [
          0.5140532785846177,
          0.5625422347707417,
          0.5625422347707417,
          0.31779280442507996
         ],
         "xaxis": "x",
         "y": [
          -22.5,
          -22.5,
          -57.5,
          -57.5
         ],
         "yaxis": "y"
        },
        {
         "hoverinfo": "text",
         "marker": {
          "color": "rgb(61,153,112)"
         },
         "mode": "lines",
         "text": [
          "cuticle_hydrocarbons_insects_stress_pisum",
          "",
          "",
          "genes_proteins_stress_desiccation_mechanisms"
         ],
         "type": "scatter",
         "x": [
          0,
          0.7449514509749573,
          0.7449514509749573,
          0.5625422347707417
         ],
         "xaxis": "x",
         "y": [
          -5,
          -5,
          -40,
          -40
         ],
         "yaxis": "y"
        },
        {
         "hoverinfo": "text",
         "marker": {
          "color": "rgb(61,153,112)"
         },
         "mode": "lines",
         "text": [
          "protein_genes_stress_desiccation_mrna",
          "",
          "",
          "protein_genes_proteins_gene_analysis"
         ],
         "type": "scatter",
         "x": [
          0,
          0.3106447180222117,
          0.3106447180222117,
          0
         ],
         "xaxis": "x",
         "y": [
          -75,
          -75,
          -85,
          -85
         ],
         "yaxis": "y"
        },
        {
         "hoverinfo": "text",
         "marker": {
          "color": "rgb(61,153,112)"
         },
         "mode": "lines",
         "text": [
          "protein_gene_proteins_genes_analysis",
          "",
          "",
          "proteins_late embryogenesis abundant_embryogenesis abundant_lea protein_late embryogenesis"
         ],
         "type": "scatter",
         "x": [
          0.3106447180222117,
          0.44570066443736917,
          0.44570066443736917,
          0
         ],
         "xaxis": "x",
         "y": [
          -80,
          -80,
          -95,
          -95
         ],
         "yaxis": "y"
        },
        {
         "hoverinfo": "text",
         "marker": {
          "color": "rgb(61,153,112)"
         },
         "mode": "lines",
         "text": [
          "genes_proteins_stress_desiccation_desiccation tolerance",
          "",
          "",
          "protein_genes_stress_embryogenesis_late embryogenesis"
         ],
         "type": "scatter",
         "x": [
          0.7449514509749573,
          0.7575147492344564,
          0.7575147492344564,
          0.44570066443736917
         ],
         "xaxis": "x",
         "y": [
          -22.5,
          -22.5,
          -87.5,
          -87.5
         ],
         "yaxis": "y"
        },
        {
         "hoverinfo": "text",
         "marker": {
          "color": "rgb(61,153,112)"
         },
         "mode": "lines",
         "text": [
          "stress_drought_arabidopsis_genes_drought stress",
          "",
          "",
          "stress_transgenic plants_wild type_abiotic stress_analysis"
         ],
         "type": "scatter",
         "x": [
          0,
          0.2634260654056382,
          0.2634260654056382,
          0
         ],
         "xaxis": "x",
         "y": [
          -115,
          -115,
          -125,
          -125
         ],
         "yaxis": "y"
        },
        {
         "hoverinfo": "text",
         "marker": {
          "color": "rgb(61,153,112)"
         },
         "mode": "lines",
         "text": [
          "stress_abiotic stress_arabidopsis_transgenic plants_wild",
          "",
          "",
          "stress_gene_proteins_arabidopsis_stress tolerance"
         ],
         "type": "scatter",
         "x": [
          0.2634260654056382,
          0.2849391328935367,
          0.2849391328935367,
          0
         ],
         "xaxis": "x",
         "y": [
          -120,
          -120,
          -135,
          -135
         ],
         "yaxis": "y"
        },
        {
         "hoverinfo": "text",
         "marker": {
          "color": "rgb(61,153,112)"
         },
         "mode": "lines",
         "text": [
          "abi3_arabidopsis_genes_stress_wild type",
          "",
          "",
          "stress_arabidopsis_abiotic stress_showed_transgenic plants"
         ],
         "type": "scatter",
         "x": [
          0,
          0.40571700712764597,
          0.40571700712764597,
          0.2849391328935367
         ],
         "xaxis": "x",
         "y": [
          -105,
          -105,
          -127.5,
          -127.5
         ],
         "yaxis": "y"
        },
        {
         "hoverinfo": "text",
         "marker": {
          "color": "rgb(61,153,112)"
         },
         "mode": "lines",
         "text": [
          "proteins_genes_stress_desiccation_plant",
          "",
          "",
          "stress_gene_arabidopsis_wild type_type"
         ],
         "type": "scatter",
         "x": [
          0.7575147492344564,
          0.8727939812732624,
          0.8727939812732624,
          0.40571700712764597
         ],
         "xaxis": "x",
         "y": [
          -55,
          -55,
          -116.25,
          -116.25
         ],
         "yaxis": "y"
        },
        {
         "hoverinfo": "text",
         "marker": {
          "color": "rgb(255,65,54)"
         },
         "mode": "lines",
         "text": [
          "trehalose_trehalose phosphate_trehalose synthesis_stress_trehalose accumulation",
          "",
          "",
          "trehalose_mammalian cells_membrane_viability_vacuum"
         ],
         "type": "scatter",
         "x": [
          0,
          0.497638540658514,
          0.497638540658514,
          0
         ],
         "xaxis": "x",
         "y": [
          -145,
          -145,
          -155,
          -155
         ],
         "yaxis": "y"
        },
        {
         "hoverinfo": "text",
         "marker": {
          "color": "rgb(255,65,54)"
         },
         "mode": "lines",
         "text": [
          "trehalose_rehydration_desiccation_anhydrobiosis_state",
          "",
          "",
          "stress_saccharomyces_saccharomyces cerevisiae_dehydration rehydration_genes"
         ],
         "type": "scatter",
         "x": [
          0,
          0.37561439696833143,
          0.37561439696833143,
          0
         ],
         "xaxis": "x",
         "y": [
          -165,
          -165,
          -175,
          -175
         ],
         "yaxis": "y"
        },
        {
         "hoverinfo": "text",
         "marker": {
          "color": "rgb(255,65,54)"
         },
         "mode": "lines",
         "text": [
          "trehalose_mammalian cells_trehalose phosphate_yeast_synthesis",
          "",
          "",
          "trehalose_rehydration_stress_saccharomyces_desiccation"
         ],
         "type": "scatter",
         "x": [
          0.497638540658514,
          0.5821537507521213,
          0.5821537507521213,
          0.37561439696833143
         ],
         "xaxis": "x",
         "y": [
          -150,
          -150,
          -170,
          -170
         ],
         "yaxis": "y"
        },
        {
         "hoverinfo": "text",
         "marker": {
          "color": "rgb(255,65,54)"
         },
         "mode": "lines",
         "text": [
          "sucrose_water_glassy_properties_temperature",
          "",
          "",
          "trehalose_solutes_transition temperature_lipids_phase transition"
         ],
         "type": "scatter",
         "x": [
          0,
          0.4483888953175653,
          0.4483888953175653,
          0
         ],
         "xaxis": "x",
         "y": [
          -195,
          -195,
          -205,
          -205
         ],
         "yaxis": "y"
        },
        {
         "hoverinfo": "text",
         "marker": {
          "color": "rgb(255,65,54)"
         },
         "mode": "lines",
         "text": [
          "cell wall_organelles_electron microscopy_vacuoles_cell walls",
          "",
          "",
          "glassy_temperature_properties_transition temperature_glass transition"
         ],
         "type": "scatter",
         "x": [
          0,
          0.7314831887222022,
          0.7314831887222022,
          0.4483888953175653
         ],
         "xaxis": "x",
         "y": [
          -185,
          -185,
          -200,
          -200
         ],
         "yaxis": "y"
        },
        {
         "hoverinfo": "text",
         "marker": {
          "color": "rgb(255,65,54)"
         },
         "mode": "lines",
         "text": [
          "trehalose_yeast_stress_rehydration_desiccation",
          "",
          "",
          "water_glassy_stability_proteins_transition temperature"
         ],
         "type": "scatter",
         "x": [
          0.5821537507521213,
          0.8492365707527777,
          0.8492365707527777,
          0.7314831887222022
         ],
         "xaxis": "x",
         "y": [
          -160,
          -160,
          -192.5,
          -192.5
         ],
         "yaxis": "y"
        },
        {
         "hoverinfo": "text",
         "marker": {
          "color": "rgb(35,205,205)"
         },
         "mode": "lines",
         "text": [
          "moisture_moisture content_desiccation_water_desiccation tolerance",
          "",
          "",
          "recalcitrant seeds_metabolic rate_water content_desiccation_processes"
         ],
         "type": "scatter",
         "x": [
          0,
          0.3905336826750744,
          0.3905336826750744,
          0
         ],
         "xaxis": "x",
         "y": [
          -225,
          -225,
          -235,
          -235
         ],
         "yaxis": "y"
        },
        {
         "hoverinfo": "text",
         "marker": {
          "color": "rgb(35,205,205)"
         },
         "mode": "lines",
         "text": [
          "cryopreservation_ex situ_species_long term_germplasm",
          "",
          "",
          "moisture_moisture content_desiccation_desiccation tolerance_recalcitrant"
         ],
         "type": "scatter",
         "x": [
          0,
          0.5539713716752935,
          0.5539713716752935,
          0.3905336826750744
         ],
         "xaxis": "x",
         "y": [
          -215,
          -215,
          -230,
          -230
         ],
         "yaxis": "y"
        },
        {
         "hoverinfo": "text",
         "marker": {
          "color": "rgb(35,205,205)"
         },
         "mode": "lines",
         "text": [
          "acid_synthesis_accumulation_rehydration_acids",
          "",
          "",
          "glutathione_ascorbate_activity_reductase_norway"
         ],
         "type": "scatter",
         "x": [
          0,
          0.4688497766133901,
          0.4688497766133901,
          0
         ],
         "xaxis": "x",
         "y": [
          -245,
          -245,
          -255,
          -255
         ],
         "yaxis": "y"
        },
        {
         "hoverinfo": "text",
         "marker": {
          "color": "rgb(35,205,205)"
         },
         "mode": "lines",
         "text": [
          "drought_water_genotypes_stress_stomatal",
          "",
          "",
          "chemical_endosperm_injury_somatic embryos_application"
         ],
         "type": "scatter",
         "x": [
          0,
          0.44209972129936526,
          0.44209972129936526,
          0
         ],
         "xaxis": "x",
         "y": [
          -265,
          -265,
          -275,
          -275
         ],
         "yaxis": "y"
        },
        {
         "hoverinfo": "text",
         "marker": {
          "color": "rgb(35,205,205)"
         },
         "mode": "lines",
         "text": [
          "cultivars_stress_soil_growth_stomatal",
          "",
          "",
          "somatic embryos_medium_cryopreservation_embryogenic_regeneration"
         ],
         "type": "scatter",
         "x": [
          0.44209972129936526,
          0.6024430247245306,
          0.6024430247245306,
          0
         ],
         "xaxis": "x",
         "y": [
          -270,
          -270,
          -285,
          -285
         ],
         "yaxis": "y"
        },
        {
         "hoverinfo": "text",
         "marker": {
          "color": "rgb(35,205,205)"
         },
         "mode": "lines",
         "text": [
          "glutathione_ascorbate_activity_leaves_sod",
          "",
          "",
          "somatic embryos_medium_drought_water_leaf"
         ],
         "type": "scatter",
         "x": [
          0.4688497766133901,
          0.7016666773038888,
          0.7016666773038888,
          0.6024430247245306
         ],
         "xaxis": "x",
         "y": [
          -250,
          -250,
          -277.5,
          -277.5
         ],
         "yaxis": "y"
        },
        {
         "hoverinfo": "text",
         "marker": {
          "color": "rgb(35,205,205)"
         },
         "mode": "lines",
         "text": [
          "moisture content_desiccation_viability_species_water",
          "",
          "",
          "aba_somatic embryos_medium_water_desiccation"
         ],
         "type": "scatter",
         "x": [
          0.5539713716752935,
          0.8898805744760917,
          0.8898805744760917,
          0.7016666773038888
         ],
         "xaxis": "x",
         "y": [
          -222.5,
          -222.5,
          -263.75,
          -263.75
         ],
         "yaxis": "y"
        },
        {
         "hoverinfo": "text",
         "marker": {
          "color": "rgb(133,20,75)"
         },
         "mode": "lines",
         "text": [
          "inositol_stachyose_galactinol_myo inositol_soybean",
          "",
          "",
          "galactinol synthase_oligosaccharides_family oligosaccharides_raffinose family oligosaccharides_galactose"
         ],
         "type": "scatter",
         "x": [
          0,
          0.38115965255013595,
          0.38115965255013595,
          0
         ],
         "xaxis": "x",
         "y": [
          -305,
          -305,
          -315,
          -315
         ],
         "yaxis": "y"
        },
        {
         "hoverinfo": "text",
         "marker": {
          "color": "rgb(133,20,75)"
         },
         "mode": "lines",
         "text": [
          "stachyose_oligosaccharides_carbohydrate_raffinose stachyose_raffinose family",
          "",
          "",
          "myo inositol_raffinose stachyose_oligosaccharides_galactinol synthase_galactose"
         ],
         "type": "scatter",
         "x": [
          0,
          0.539643813589349,
          0.539643813589349,
          0.38115965255013595
         ],
         "xaxis": "x",
         "y": [
          -295,
          -295,
          -310,
          -310
         ],
         "yaxis": "y"
        },
        {
         "hoverinfo": "text",
         "marker": {
          "color": "rgb(0,116,217)"
         },
         "mode": "lines",
         "text": [
          "desiccation_water_moisture_degrees_moisture content",
          "",
          "",
          "stachyose_inositol_oligosaccharides_raffinose stachyose_myo inositol"
         ],
         "type": "scatter",
         "x": [
          0.8898805744760917,
          1.1602508234305955,
          1.1602508234305955,
          0.539643813589349
         ],
         "xaxis": "x",
         "y": [
          -243.125,
          -243.125,
          -302.5,
          -302.5
         ],
         "yaxis": "y"
        },
        {
         "hoverinfo": "text",
         "marker": {
          "color": "rgb(0,116,217)"
         },
         "mode": "lines",
         "text": [
          "trehalose_yeast_membrane_desiccation_rehydration",
          "",
          "",
          "desiccation_water_moisture_moisture content_cryopreservation"
         ],
         "type": "scatter",
         "x": [
          0.8492365707527777,
          1.2739604406414888,
          1.2739604406414888,
          1.1602508234305955
         ],
         "xaxis": "x",
         "y": [
          -176.25,
          -176.25,
          -272.8125,
          -272.8125
         ],
         "yaxis": "y"
        },
        {
         "hoverinfo": "text",
         "marker": {
          "color": "rgb(255,220,0)"
         },
         "mode": "lines",
         "text": [
          "species_richness_bryophyte_communities_environmental",
          "",
          "",
          "climate_drought_species_climate change_events"
         ],
         "type": "scatter",
         "x": [
          0,
          0.3613453039483564,
          0.3613453039483564,
          0
         ],
         "xaxis": "x",
         "y": [
          -335,
          -335,
          -345,
          -345
         ],
         "yaxis": "y"
        },
        {
         "hoverinfo": "text",
         "marker": {
          "color": "rgb(255,220,0)"
         },
         "mode": "lines",
         "text": [
          "species_water_traits_drought_desiccation",
          "",
          "",
          "species_richness_communities_environmental_bryophyte"
         ],
         "type": "scatter",
         "x": [
          0,
          0.4510158458692098,
          0.4510158458692098,
          0.3613453039483564
         ],
         "xaxis": "x",
         "y": [
          -325,
          -325,
          -340,
          -340
         ],
         "yaxis": "y"
        },
        {
         "hoverinfo": "text",
         "marker": {
          "color": "rgb(255,220,0)"
         },
         "mode": "lines",
         "text": [
          "species_traits_climate_desiccation_physiological",
          "",
          "",
          "species_intertidal_water_snails_habitat"
         ],
         "type": "scatter",
         "x": [
          0,
          0.31750556569593835,
          0.31750556569593835,
          0
         ],
         "xaxis": "x",
         "y": [
          -355,
          -355,
          -365,
          -365
         ],
         "yaxis": "y"
        },
        {
         "hoverinfo": "text",
         "marker": {
          "color": "rgb(255,220,0)"
         },
         "mode": "lines",
         "text": [
          "climate_drought_bryophyte_richness_communities",
          "",
          "",
          "species_desiccation_climate_intertidal_habitat"
         ],
         "type": "scatter",
         "x": [
          0.4510158458692098,
          0.46861131081314333,
          0.46861131081314333,
          0.31750556569593835
         ],
         "xaxis": "x",
         "y": [
          -332.5,
          -332.5,
          -360,
          -360
         ],
         "yaxis": "y"
        },
        {
         "hoverinfo": "text",
         "marker": {
          "color": "rgb(255,220,0)"
         },
         "mode": "lines",
         "text": [
          "selection_drosophila_melanogaster_stress resistance_desiccation resistance",
          "",
          "",
          "desiccation resistance_drosophila_starvation_desiccation_melanogaster"
         ],
         "type": "scatter",
         "x": [
          0,
          0.2603986683181784,
          0.2603986683181784,
          0
         ],
         "xaxis": "x",
         "y": [
          -375,
          -375,
          -385,
          -385
         ],
         "yaxis": "y"
        },
        {
         "hoverinfo": "text",
         "marker": {
          "color": "rgb(255,220,0)"
         },
         "mode": "lines",
         "text": [
          "species_climate_traits_distribution_desiccation",
          "",
          "",
          "drosophila_desiccation resistance_selection_desiccation_cuticular"
         ],
         "type": "scatter",
         "x": [
          0.46861131081314333,
          0.8960004180607922,
          0.8960004180607922,
          0.2603986683181784
         ],
         "xaxis": "x",
         "y": [
          -346.25,
          -346.25,
          -380,
          -380
         ],
         "yaxis": "y"
        },
        {
         "hoverinfo": "text",
         "marker": {
          "color": "rgb(40,35,35)"
         },
         "mode": "lines",
         "text": [
          "water_survival_desiccation_acclimation_loss",
          "",
          "",
          "temperature_cold_species_supercooling_water loss"
         ],
         "type": "scatter",
         "x": [
          0,
          0.26781997076176056,
          0.26781997076176056,
          0
         ],
         "xaxis": "x",
         "y": [
          -395,
          -395,
          -405,
          -405
         ],
         "yaxis": "y"
        },
        {
         "hoverinfo": "text",
         "marker": {
          "color": "rgb(40,35,35)"
         },
         "mode": "lines",
         "text": [
          "desiccation_water_study_stress_epiphytic",
          "",
          "",
          "desiccation_water_activity_resurrection_stress"
         ],
         "type": "scatter",
         "x": [
          0,
          0.297680859025255,
          0.297680859025255,
          0
         ],
         "xaxis": "x",
         "y": [
          -415,
          -415,
          -425,
          -425
         ],
         "yaxis": "y"
        },
        {
         "hoverinfo": "text",
         "marker": {
          "color": "rgb(40,35,35)"
         },
         "mode": "lines",
         "text": [
          "water_species_moss_desiccation_photosynthesis",
          "",
          "",
          "mu mol_photosynthesis_water_shade_desiccation"
         ],
         "type": "scatter",
         "x": [
          0,
          0.34784105577362157,
          0.34784105577362157,
          0
         ],
         "xaxis": "x",
         "y": [
          -435,
          -435,
          -445,
          -445
         ],
         "yaxis": "y"
        },
        {
         "hoverinfo": "text",
         "marker": {
          "color": "rgb(40,35,35)"
         },
         "mode": "lines",
         "text": [
          "desiccation_water_stress_resurrection_increased",
          "",
          "",
          "water_photosynthesis_light_mu mol_desiccation"
         ],
         "type": "scatter",
         "x": [
          0.297680859025255,
          0.4260751740184457,
          0.4260751740184457,
          0.34784105577362157
         ],
         "xaxis": "x",
         "y": [
          -420,
          -420,
          -440,
          -440
         ],
         "yaxis": "y"
        },
        {
         "hoverinfo": "text",
         "marker": {
          "color": "rgb(40,35,35)"
         },
         "mode": "lines",
         "text": [
          "species_lichens_habitats_light_study",
          "",
          "",
          "tardigrades_anhydrobiosis_strains_anhydrobiotic_survival"
         ],
         "type": "scatter",
         "x": [
          0,
          0.3257752828413303,
          0.3257752828413303,
          0
         ],
         "xaxis": "x",
         "y": [
          -455,
          -455,
          -465,
          -465
         ],
         "yaxis": "y"
        },
        {
         "hoverinfo": "text",
         "marker": {
          "color": "rgb(40,35,35)"
         },
         "mode": "lines",
         "text": [
          "desiccation_water_photosynthesis_species_leaves",
          "",
          "",
          "species_tardigrades_anhydrobiosis_desiccation_habitats"
         ],
         "type": "scatter",
         "x": [
          0.4260751740184457,
          0.5816874438808429,
          0.5816874438808429,
          0.3257752828413303
         ],
         "xaxis": "x",
         "y": [
          -430,
          -430,
          -460,
          -460
         ],
         "yaxis": "y"
        },
        {
         "hoverinfo": "text",
         "marker": {
          "color": "rgb(40,35,35)"
         },
         "mode": "lines",
         "text": [
          "cold_desiccation_survival_acclimation_water loss",
          "",
          "",
          "desiccation_water_species_rehydration_light"
         ],
         "type": "scatter",
         "x": [
          0.26781997076176056,
          0.7092159932997628,
          0.7092159932997628,
          0.5816874438808429
         ],
         "xaxis": "x",
         "y": [
          -400,
          -400,
          -445,
          -445
         ],
         "yaxis": "y"
        },
        {
         "hoverinfo": "text",
         "marker": {
          "color": "rgb(40,35,35)"
         },
         "mode": "lines",
         "text": [
          "strain_desiccation_mutants_bacteria_stress",
          "",
          "",
          "strains_medium_media_biocontrol_rhizobia"
         ],
         "type": "scatter",
         "x": [
          0,
          0.45257413420500114,
          0.45257413420500114,
          0
         ],
         "xaxis": "x",
         "y": [
          -475,
          -475,
          -485,
          -485
         ],
         "yaxis": "y"
        },
        {
         "hoverinfo": "text",
         "marker": {
          "color": "rgb(40,35,35)"
         },
         "mode": "lines",
         "text": [
          "strain_desiccation_stress_trehalose_growth",
          "",
          "",
          "nematodes_heterorhabditis_entomopathogenic_steinernema_infective"
         ],
         "type": "scatter",
         "x": [
          0.45257413420500114,
          0.5151565051708303,
          0.5151565051708303,
          0
         ],
         "xaxis": "x",
         "y": [
          -480,
          -480,
          -495,
          -495
         ],
         "yaxis": "y"
        },
        {
         "hoverinfo": "text",
         "marker": {
          "color": "rgb(40,35,35)"
         },
         "mode": "lines",
         "text": [
          "water_desiccation_degrees_species_rehydration",
          "",
          "",
          "strain_desiccation_nematodes_stress_growth"
         ],
         "type": "scatter",
         "x": [
          0.7092159932997628,
          0.8451781143533452,
          0.8451781143533452,
          0.5151565051708303
         ],
         "xaxis": "x",
         "y": [
          -422.5,
          -422.5,
          -487.5,
          -487.5
         ],
         "yaxis": "y"
        },
        {
         "hoverinfo": "text",
         "marker": {
          "color": "rgb(40,35,35)"
         },
         "mode": "lines",
         "text": [
          "soil_nematodes_anhydrobiosis_dry season_soil moisture",
          "",
          "",
          "soil_communities_biocrust_valleys_cyanobacteria"
         ],
         "type": "scatter",
         "x": [
          0,
          0.5031235354535435,
          0.5031235354535435,
          0
         ],
         "xaxis": "x",
         "y": [
          -505,
          -505,
          -515,
          -515
         ],
         "yaxis": "y"
        },
        {
         "hoverinfo": "text",
         "marker": {
          "color": "rgb(40,35,35)"
         },
         "mode": "lines",
         "text": [
          "desiccation_water_degrees_species_conditions",
          "",
          "",
          "soil_nematodes_communities_anhydrobiosis_valleys"
         ],
         "type": "scatter",
         "x": [
          0.8451781143533452,
          0.9862029113063595,
          0.9862029113063595,
          0.5031235354535435
         ],
         "xaxis": "x",
         "y": [
          -455,
          -455,
          -510,
          -510
         ],
         "yaxis": "y"
        },
        {
         "hoverinfo": "text",
         "marker": {
          "color": "rgb(0,116,217)"
         },
         "mode": "lines",
         "text": [
          "species_traits_desiccation_climate_desiccation resistance",
          "",
          "",
          "desiccation_water_degrees_species_conditions"
         ],
         "type": "scatter",
         "x": [
          0.8960004180607922,
          1.0889531983890048,
          1.0889531983890048,
          0.9862029113063595
         ],
         "xaxis": "x",
         "y": [
          -363.125,
          -363.125,
          -482.5,
          -482.5
         ],
         "yaxis": "y"
        },
        {
         "hoverinfo": "text",
         "marker": {
          "color": "rgb(0,116,217)"
         },
         "mode": "lines",
         "text": [
          "desiccation_water_moisture_viability_trehalose",
          "",
          "",
          "species_desiccation_water_conditions_temperature"
         ],
         "type": "scatter",
         "x": [
          1.2739604406414888,
          1.6029708093239672,
          1.6029708093239672,
          1.0889531983890048
         ],
         "xaxis": "x",
         "y": [
          -224.53125,
          -224.53125,
          -422.8125,
          -422.8125
         ],
         "yaxis": "y"
        },
        {
         "hoverinfo": "text",
         "marker": {
          "color": "rgb(0,116,217)"
         },
         "mode": "lines",
         "text": [
          "proteins_genes_stress_desiccation_drought",
          "",
          "",
          "desiccation_species_water_degrees_conditions"
         ],
         "type": "scatter",
         "x": [
          0.8727939812732624,
          1.8374062074286661,
          1.8374062074286661,
          1.6029708093239672
         ],
         "xaxis": "x",
         "y": [
          -85.625,
          -85.625,
          -323.671875,
          -323.671875
         ],
         "yaxis": "y"
        },
        {
         "hoverinfo": "text",
         "hovertext": [
          "proteins_genes_stress_analysis_metabolism",
          "mechanisms_stress_desiccation_review_proteins",
          "protein_gene_proteins_genes_analysis",
          "genes_proteins_stress_desiccation_desiccation tolerance",
          "stress_abiotic stress_arabidopsis_transgenic plants_wild",
          "proteins_genes_stress_desiccation_plant",
          "trehalose_mammalian cells_trehalose phosphate_yeast_synthesis",
          "trehalose_yeast_stress_rehydration_desiccation",
          "cultivars_stress_soil_growth_stomatal",
          "glutathione_ascorbate_activity_leaves_sod",
          "moisture content_desiccation_viability_species_water",
          "desiccation_water_moisture_degrees_moisture content",
          "trehalose_yeast_membrane_desiccation_rehydration",
          "climate_drought_bryophyte_richness_communities",
          "species_climate_traits_distribution_desiccation",
          "desiccation_water_stress_resurrection_increased",
          "desiccation_water_photosynthesis_species_leaves",
          "cold_desiccation_survival_acclimation_water loss",
          "strain_desiccation_stress_trehalose_growth",
          "water_desiccation_degrees_species_rehydration",
          "desiccation_water_degrees_species_conditions",
          "species_traits_desiccation_climate_desiccation resistance",
          "desiccation_water_moisture_viability_trehalose",
          "proteins_genes_stress_desiccation_drought"
         ],
         "marker": {
          "color": "black"
         },
         "mode": "markers",
         "showlegend": false,
         "type": "scatter",
         "x": [
          0.16494699622244358,
          0.5140532785846177,
          0.3106447180222117,
          0.7449514509749573,
          0.2634260654056382,
          0.7575147492344564,
          0.497638540658514,
          0.5821537507521213,
          0.44209972129936526,
          0.4688497766133901,
          0.5539713716752935,
          0.8898805744760917,
          0.8492365707527777,
          0.4510158458692098,
          0.46861131081314333,
          0.297680859025255,
          0.4260751740184457,
          0.26781997076176056,
          0.45257413420500114,
          0.7092159932997628,
          0.8451781143533452,
          0.8960004180607922,
          1.2739604406414888,
          0.8727939812732624
         ],
         "y": [
          -50,
          -22.5,
          -80,
          -22.5,
          -120,
          -55,
          -150,
          -160,
          -270,
          -250,
          -222.5,
          -243.125,
          -176.25,
          -332.5,
          -346.25,
          -420,
          -430,
          -400,
          -480,
          -422.5,
          -455,
          -363.125,
          -224.53125,
          -85.625
         ]
        },
        {
         "hoverinfo": "text",
         "hovertext": [
          "stress_desiccation_review_proteins_genes",
          "genes_proteins_stress_analysis_desiccation",
          "genes_proteins_stress_desiccation_mechanisms",
          "protein_genes_stress_embryogenesis_late embryogenesis",
          "stress_arabidopsis_abiotic stress_showed_transgenic plants",
          "stress_gene_arabidopsis_wild type_type",
          "trehalose_rehydration_stress_saccharomyces_desiccation",
          "glassy_temperature_properties_transition temperature_glass transition",
          "water_glassy_stability_proteins_transition temperature",
          "moisture_moisture content_desiccation_desiccation tolerance_recalcitrant",
          "somatic embryos_medium_drought_water_leaf",
          "aba_somatic embryos_medium_water_desiccation",
          "myo inositol_raffinose stachyose_oligosaccharides_galactinol synthase_galactose",
          "stachyose_inositol_oligosaccharides_raffinose stachyose_myo inositol",
          "desiccation_water_moisture_moisture content_cryopreservation",
          "species_richness_communities_environmental_bryophyte",
          "species_desiccation_climate_intertidal_habitat",
          "drosophila_desiccation resistance_selection_desiccation_cuticular",
          "water_photosynthesis_light_mu mol_desiccation",
          "species_tardigrades_anhydrobiosis_desiccation_habitats",
          "desiccation_water_species_rehydration_light",
          "strain_desiccation_nematodes_stress_growth",
          "soil_nematodes_communities_anhydrobiosis_valleys",
          "desiccation_water_degrees_species_conditions",
          "species_desiccation_water_conditions_temperature",
          "desiccation_species_water_degrees_conditions"
         ],
         "marker": {
          "color": "black"
         },
         "mode": "markers",
         "showlegend": false,
         "type": "scatter",
         "x": [
          0.33458521498169014,
          0.31779280442507996,
          0.5625422347707417,
          0.44570066443736917,
          0.2849391328935367,
          0.40571700712764597,
          0.37561439696833143,
          0.4483888953175653,
          0.7314831887222022,
          0.3905336826750744,
          0.6024430247245306,
          0.7016666773038888,
          0.38115965255013595,
          0.539643813589349,
          1.1602508234305955,
          0.3613453039483564,
          0.31750556569593835,
          0.2603986683181784,
          0.34784105577362157,
          0.3257752828413303,
          0.5816874438808429,
          0.5151565051708303,
          0.5031235354535435,
          0.9862029113063595,
          1.0889531983890048,
          1.6029708093239672
         ],
         "y": [
          -30,
          -57.5,
          -40,
          -87.5,
          -127.5,
          -116.25,
          -170,
          -200,
          -192.5,
          -230,
          -277.5,
          -263.75,
          -310,
          -302.5,
          -272.8125,
          -340,
          -360,
          -380,
          -440,
          -460,
          -445,
          -487.5,
          -510,
          -482.5,
          -422.8125,
          -323.671875
         ]
        }
       ],
       "layout": {
        "autosize": false,
        "height": 980,
        "hoverlabel": {
         "bgcolor": "white",
         "font": {
          "family": "Rockwell",
          "size": 16
         }
        },
        "hovermode": "closest",
        "plot_bgcolor": "#ECEFF1",
        "showlegend": false,
        "template": {
         "data": {
          "bar": [
           {
            "error_x": {
             "color": "#2a3f5f"
            },
            "error_y": {
             "color": "#2a3f5f"
            },
            "marker": {
             "line": {
              "color": "white",
              "width": 0.5
             },
             "pattern": {
              "fillmode": "overlay",
              "size": 10,
              "solidity": 0.2
             }
            },
            "type": "bar"
           }
          ],
          "barpolar": [
           {
            "marker": {
             "line": {
              "color": "white",
              "width": 0.5
             },
             "pattern": {
              "fillmode": "overlay",
              "size": 10,
              "solidity": 0.2
             }
            },
            "type": "barpolar"
           }
          ],
          "carpet": [
           {
            "aaxis": {
             "endlinecolor": "#2a3f5f",
             "gridcolor": "#C8D4E3",
             "linecolor": "#C8D4E3",
             "minorgridcolor": "#C8D4E3",
             "startlinecolor": "#2a3f5f"
            },
            "baxis": {
             "endlinecolor": "#2a3f5f",
             "gridcolor": "#C8D4E3",
             "linecolor": "#C8D4E3",
             "minorgridcolor": "#C8D4E3",
             "startlinecolor": "#2a3f5f"
            },
            "type": "carpet"
           }
          ],
          "choropleth": [
           {
            "colorbar": {
             "outlinewidth": 0,
             "ticks": ""
            },
            "type": "choropleth"
           }
          ],
          "contour": [
           {
            "colorbar": {
             "outlinewidth": 0,
             "ticks": ""
            },
            "colorscale": [
             [
              0,
              "#0d0887"
             ],
             [
              0.1111111111111111,
              "#46039f"
             ],
             [
              0.2222222222222222,
              "#7201a8"
             ],
             [
              0.3333333333333333,
              "#9c179e"
             ],
             [
              0.4444444444444444,
              "#bd3786"
             ],
             [
              0.5555555555555556,
              "#d8576b"
             ],
             [
              0.6666666666666666,
              "#ed7953"
             ],
             [
              0.7777777777777778,
              "#fb9f3a"
             ],
             [
              0.8888888888888888,
              "#fdca26"
             ],
             [
              1,
              "#f0f921"
             ]
            ],
            "type": "contour"
           }
          ],
          "contourcarpet": [
           {
            "colorbar": {
             "outlinewidth": 0,
             "ticks": ""
            },
            "type": "contourcarpet"
           }
          ],
          "heatmap": [
           {
            "colorbar": {
             "outlinewidth": 0,
             "ticks": ""
            },
            "colorscale": [
             [
              0,
              "#0d0887"
             ],
             [
              0.1111111111111111,
              "#46039f"
             ],
             [
              0.2222222222222222,
              "#7201a8"
             ],
             [
              0.3333333333333333,
              "#9c179e"
             ],
             [
              0.4444444444444444,
              "#bd3786"
             ],
             [
              0.5555555555555556,
              "#d8576b"
             ],
             [
              0.6666666666666666,
              "#ed7953"
             ],
             [
              0.7777777777777778,
              "#fb9f3a"
             ],
             [
              0.8888888888888888,
              "#fdca26"
             ],
             [
              1,
              "#f0f921"
             ]
            ],
            "type": "heatmap"
           }
          ],
          "heatmapgl": [
           {
            "colorbar": {
             "outlinewidth": 0,
             "ticks": ""
            },
            "colorscale": [
             [
              0,
              "#0d0887"
             ],
             [
              0.1111111111111111,
              "#46039f"
             ],
             [
              0.2222222222222222,
              "#7201a8"
             ],
             [
              0.3333333333333333,
              "#9c179e"
             ],
             [
              0.4444444444444444,
              "#bd3786"
             ],
             [
              0.5555555555555556,
              "#d8576b"
             ],
             [
              0.6666666666666666,
              "#ed7953"
             ],
             [
              0.7777777777777778,
              "#fb9f3a"
             ],
             [
              0.8888888888888888,
              "#fdca26"
             ],
             [
              1,
              "#f0f921"
             ]
            ],
            "type": "heatmapgl"
           }
          ],
          "histogram": [
           {
            "marker": {
             "pattern": {
              "fillmode": "overlay",
              "size": 10,
              "solidity": 0.2
             }
            },
            "type": "histogram"
           }
          ],
          "histogram2d": [
           {
            "colorbar": {
             "outlinewidth": 0,
             "ticks": ""
            },
            "colorscale": [
             [
              0,
              "#0d0887"
             ],
             [
              0.1111111111111111,
              "#46039f"
             ],
             [
              0.2222222222222222,
              "#7201a8"
             ],
             [
              0.3333333333333333,
              "#9c179e"
             ],
             [
              0.4444444444444444,
              "#bd3786"
             ],
             [
              0.5555555555555556,
              "#d8576b"
             ],
             [
              0.6666666666666666,
              "#ed7953"
             ],
             [
              0.7777777777777778,
              "#fb9f3a"
             ],
             [
              0.8888888888888888,
              "#fdca26"
             ],
             [
              1,
              "#f0f921"
             ]
            ],
            "type": "histogram2d"
           }
          ],
          "histogram2dcontour": [
           {
            "colorbar": {
             "outlinewidth": 0,
             "ticks": ""
            },
            "colorscale": [
             [
              0,
              "#0d0887"
             ],
             [
              0.1111111111111111,
              "#46039f"
             ],
             [
              0.2222222222222222,
              "#7201a8"
             ],
             [
              0.3333333333333333,
              "#9c179e"
             ],
             [
              0.4444444444444444,
              "#bd3786"
             ],
             [
              0.5555555555555556,
              "#d8576b"
             ],
             [
              0.6666666666666666,
              "#ed7953"
             ],
             [
              0.7777777777777778,
              "#fb9f3a"
             ],
             [
              0.8888888888888888,
              "#fdca26"
             ],
             [
              1,
              "#f0f921"
             ]
            ],
            "type": "histogram2dcontour"
           }
          ],
          "mesh3d": [
           {
            "colorbar": {
             "outlinewidth": 0,
             "ticks": ""
            },
            "type": "mesh3d"
           }
          ],
          "parcoords": [
           {
            "line": {
             "colorbar": {
              "outlinewidth": 0,
              "ticks": ""
             }
            },
            "type": "parcoords"
           }
          ],
          "pie": [
           {
            "automargin": true,
            "type": "pie"
           }
          ],
          "scatter": [
           {
            "fillpattern": {
             "fillmode": "overlay",
             "size": 10,
             "solidity": 0.2
            },
            "type": "scatter"
           }
          ],
          "scatter3d": [
           {
            "line": {
             "colorbar": {
              "outlinewidth": 0,
              "ticks": ""
             }
            },
            "marker": {
             "colorbar": {
              "outlinewidth": 0,
              "ticks": ""
             }
            },
            "type": "scatter3d"
           }
          ],
          "scattercarpet": [
           {
            "marker": {
             "colorbar": {
              "outlinewidth": 0,
              "ticks": ""
             }
            },
            "type": "scattercarpet"
           }
          ],
          "scattergeo": [
           {
            "marker": {
             "colorbar": {
              "outlinewidth": 0,
              "ticks": ""
             }
            },
            "type": "scattergeo"
           }
          ],
          "scattergl": [
           {
            "marker": {
             "colorbar": {
              "outlinewidth": 0,
              "ticks": ""
             }
            },
            "type": "scattergl"
           }
          ],
          "scattermapbox": [
           {
            "marker": {
             "colorbar": {
              "outlinewidth": 0,
              "ticks": ""
             }
            },
            "type": "scattermapbox"
           }
          ],
          "scatterpolar": [
           {
            "marker": {
             "colorbar": {
              "outlinewidth": 0,
              "ticks": ""
             }
            },
            "type": "scatterpolar"
           }
          ],
          "scatterpolargl": [
           {
            "marker": {
             "colorbar": {
              "outlinewidth": 0,
              "ticks": ""
             }
            },
            "type": "scatterpolargl"
           }
          ],
          "scatterternary": [
           {
            "marker": {
             "colorbar": {
              "outlinewidth": 0,
              "ticks": ""
             }
            },
            "type": "scatterternary"
           }
          ],
          "surface": [
           {
            "colorbar": {
             "outlinewidth": 0,
             "ticks": ""
            },
            "colorscale": [
             [
              0,
              "#0d0887"
             ],
             [
              0.1111111111111111,
              "#46039f"
             ],
             [
              0.2222222222222222,
              "#7201a8"
             ],
             [
              0.3333333333333333,
              "#9c179e"
             ],
             [
              0.4444444444444444,
              "#bd3786"
             ],
             [
              0.5555555555555556,
              "#d8576b"
             ],
             [
              0.6666666666666666,
              "#ed7953"
             ],
             [
              0.7777777777777778,
              "#fb9f3a"
             ],
             [
              0.8888888888888888,
              "#fdca26"
             ],
             [
              1,
              "#f0f921"
             ]
            ],
            "type": "surface"
           }
          ],
          "table": [
           {
            "cells": {
             "fill": {
              "color": "#EBF0F8"
             },
             "line": {
              "color": "white"
             }
            },
            "header": {
             "fill": {
              "color": "#C8D4E3"
             },
             "line": {
              "color": "white"
             }
            },
            "type": "table"
           }
          ]
         },
         "layout": {
          "annotationdefaults": {
           "arrowcolor": "#2a3f5f",
           "arrowhead": 0,
           "arrowwidth": 1
          },
          "autotypenumbers": "strict",
          "coloraxis": {
           "colorbar": {
            "outlinewidth": 0,
            "ticks": ""
           }
          },
          "colorscale": {
           "diverging": [
            [
             0,
             "#8e0152"
            ],
            [
             0.1,
             "#c51b7d"
            ],
            [
             0.2,
             "#de77ae"
            ],
            [
             0.3,
             "#f1b6da"
            ],
            [
             0.4,
             "#fde0ef"
            ],
            [
             0.5,
             "#f7f7f7"
            ],
            [
             0.6,
             "#e6f5d0"
            ],
            [
             0.7,
             "#b8e186"
            ],
            [
             0.8,
             "#7fbc41"
            ],
            [
             0.9,
             "#4d9221"
            ],
            [
             1,
             "#276419"
            ]
           ],
           "sequential": [
            [
             0,
             "#0d0887"
            ],
            [
             0.1111111111111111,
             "#46039f"
            ],
            [
             0.2222222222222222,
             "#7201a8"
            ],
            [
             0.3333333333333333,
             "#9c179e"
            ],
            [
             0.4444444444444444,
             "#bd3786"
            ],
            [
             0.5555555555555556,
             "#d8576b"
            ],
            [
             0.6666666666666666,
             "#ed7953"
            ],
            [
             0.7777777777777778,
             "#fb9f3a"
            ],
            [
             0.8888888888888888,
             "#fdca26"
            ],
            [
             1,
             "#f0f921"
            ]
           ],
           "sequentialminus": [
            [
             0,
             "#0d0887"
            ],
            [
             0.1111111111111111,
             "#46039f"
            ],
            [
             0.2222222222222222,
             "#7201a8"
            ],
            [
             0.3333333333333333,
             "#9c179e"
            ],
            [
             0.4444444444444444,
             "#bd3786"
            ],
            [
             0.5555555555555556,
             "#d8576b"
            ],
            [
             0.6666666666666666,
             "#ed7953"
            ],
            [
             0.7777777777777778,
             "#fb9f3a"
            ],
            [
             0.8888888888888888,
             "#fdca26"
            ],
            [
             1,
             "#f0f921"
            ]
           ]
          },
          "colorway": [
           "#636efa",
           "#EF553B",
           "#00cc96",
           "#ab63fa",
           "#FFA15A",
           "#19d3f3",
           "#FF6692",
           "#B6E880",
           "#FF97FF",
           "#FECB52"
          ],
          "font": {
           "color": "#2a3f5f"
          },
          "geo": {
           "bgcolor": "white",
           "lakecolor": "white",
           "landcolor": "white",
           "showlakes": true,
           "showland": true,
           "subunitcolor": "#C8D4E3"
          },
          "hoverlabel": {
           "align": "left"
          },
          "hovermode": "closest",
          "mapbox": {
           "style": "light"
          },
          "paper_bgcolor": "white",
          "plot_bgcolor": "white",
          "polar": {
           "angularaxis": {
            "gridcolor": "#EBF0F8",
            "linecolor": "#EBF0F8",
            "ticks": ""
           },
           "bgcolor": "white",
           "radialaxis": {
            "gridcolor": "#EBF0F8",
            "linecolor": "#EBF0F8",
            "ticks": ""
           }
          },
          "scene": {
           "xaxis": {
            "backgroundcolor": "white",
            "gridcolor": "#DFE8F3",
            "gridwidth": 2,
            "linecolor": "#EBF0F8",
            "showbackground": true,
            "ticks": "",
            "zerolinecolor": "#EBF0F8"
           },
           "yaxis": {
            "backgroundcolor": "white",
            "gridcolor": "#DFE8F3",
            "gridwidth": 2,
            "linecolor": "#EBF0F8",
            "showbackground": true,
            "ticks": "",
            "zerolinecolor": "#EBF0F8"
           },
           "zaxis": {
            "backgroundcolor": "white",
            "gridcolor": "#DFE8F3",
            "gridwidth": 2,
            "linecolor": "#EBF0F8",
            "showbackground": true,
            "ticks": "",
            "zerolinecolor": "#EBF0F8"
           }
          },
          "shapedefaults": {
           "line": {
            "color": "#2a3f5f"
           }
          },
          "ternary": {
           "aaxis": {
            "gridcolor": "#DFE8F3",
            "linecolor": "#A2B1C6",
            "ticks": ""
           },
           "baxis": {
            "gridcolor": "#DFE8F3",
            "linecolor": "#A2B1C6",
            "ticks": ""
           },
           "bgcolor": "white",
           "caxis": {
            "gridcolor": "#DFE8F3",
            "linecolor": "#A2B1C6",
            "ticks": ""
           }
          },
          "title": {
           "x": 0.05
          },
          "xaxis": {
           "automargin": true,
           "gridcolor": "#EBF0F8",
           "linecolor": "#EBF0F8",
           "ticks": "",
           "title": {
            "standoff": 15
           },
           "zerolinecolor": "#EBF0F8",
           "zerolinewidth": 2
          },
          "yaxis": {
           "automargin": true,
           "gridcolor": "#EBF0F8",
           "linecolor": "#EBF0F8",
           "ticks": "",
           "title": {
            "standoff": 15
           },
           "zerolinecolor": "#EBF0F8",
           "zerolinewidth": 2
          }
         }
        },
        "title": {
         "font": {
          "color": "Black",
          "size": 22
         },
         "text": "<b>Hierarchical Clustering</b>",
         "x": 0.5,
         "xanchor": "center",
         "yanchor": "top"
        },
        "width": 1000,
        "xaxis": {
         "mirror": "allticks",
         "rangemode": "tozero",
         "showgrid": false,
         "showline": true,
         "showticklabels": true,
         "ticks": "outside",
         "type": "linear",
         "zeroline": false
        },
        "yaxis": {
         "mirror": "allticks",
         "range": [
          -520,
          0
         ],
         "rangemode": "tozero",
         "showgrid": false,
         "showline": true,
         "showticklabels": true,
         "tickmode": "array",
         "ticks": "outside",
         "ticktext": [
          "49_cuticle_hydrocarbons_ins...",
          "39_diapause_signaling_aquap...",
          "1_mechanisms_review_stress",
          "18_evolution_genomes_species",
          "10_proteins_stress_differen...",
          "32_proteins_genes_stress",
          "37_genes_endosperm_proteins",
          "8_protein_genes_stress",
          "45_protein_genes_proteins",
          "9_proteins_late embryogenes...",
          "14_abi3_arabidopsis_genes",
          "19_stress_drought_arabidopsis",
          "46_stress_transgenic plants...",
          "51_stress_gene_proteins",
          "48_trehalose_trehalose phos...",
          "24_trehalose_mammalian cell...",
          "29_trehalose_rehydration_de...",
          "35_stress_saccharomyces_sac...",
          "47_cell wall_organelles_ele...",
          "43_sucrose_water_glassy",
          "28_trehalose_solutes_transi...",
          "11_cryopreservation_ex situ...",
          "0_moisture_moisture content...",
          "36_recalcitrant seeds_metab...",
          "41_acid_synthesis_accumulat...",
          "20_glutathione_ascorbate_ac...",
          "6_drought_water_genotypes",
          "33_chemical_endosperm_injury",
          "2_somatic embryos_medium_cr...",
          "40_stachyose_oligosaccharid...",
          "27_inositol_stachyose_galac...",
          "42_galactinol synthase_olig...",
          "25_species_water_traits",
          "12_species_richness_bryophyte",
          "31_climate_drought_species",
          "13_species_traits_climate",
          "7_species_intertidal_water",
          "22_selection_drosophila_mel...",
          "16_desiccation resistance_d...",
          "34_water_survival_desiccation",
          "17_temperature_cold_species",
          "26_desiccation_water_study",
          "3_desiccation_water_activity",
          "30_water_species_moss",
          "23_mu mol_photosynthesis_wa...",
          "50_species_lichens_habitats",
          "4_tardigrades_anhydrobiosis...",
          "5_strain_desiccation_mutants",
          "21_strains_medium_media",
          "15_nematodes_heterorhabditi...",
          "38_soil_nematodes_anhydrobi...",
          "44_soil_communities_biocrust"
         ],
         "tickvals": [
          -5,
          -15,
          -25,
          -35,
          -45,
          -55,
          -65,
          -75,
          -85,
          -95,
          -105,
          -115,
          -125,
          -135,
          -145,
          -155,
          -165,
          -175,
          -185,
          -195,
          -205,
          -215,
          -225,
          -235,
          -245,
          -255,
          -265,
          -275,
          -285,
          -295,
          -305,
          -315,
          -325,
          -335,
          -345,
          -355,
          -365,
          -375,
          -385,
          -395,
          -405,
          -415,
          -425,
          -435,
          -445,
          -455,
          -465,
          -475,
          -485,
          -495,
          -505,
          -515
         ],
         "type": "linear",
         "zeroline": false
        }
       }
      },
      "text/html": [
       "<div>                            <div id=\"9498f606-7dde-4e6a-82c9-4a1a2417bca6\" class=\"plotly-graph-div\" style=\"height:980px; width:1000px;\"></div>            <script type=\"text/javascript\">                require([\"plotly\"], function(Plotly) {                    window.PLOTLYENV=window.PLOTLYENV || {};                                    if (document.getElementById(\"9498f606-7dde-4e6a-82c9-4a1a2417bca6\")) {                    Plotly.newPlot(                        \"9498f606-7dde-4e6a-82c9-4a1a2417bca6\",                        [{\"hoverinfo\":\"text\",\"marker\":{\"color\":\"rgb(61,153,112)\"},\"mode\":\"lines\",\"text\":[\"mechanisms_review_stress_desiccation_studies\",\"\",\"\",\"evolution_genomes_species_desiccation_proteins\"],\"x\":[0.0,0.33458521498169014,0.33458521498169014,0.0],\"xaxis\":\"x\",\"y\":[-25.0,-25.0,-35.0,-35.0],\"yaxis\":\"y\",\"type\":\"scatter\"},{\"hoverinfo\":\"text\",\"marker\":{\"color\":\"rgb(61,153,112)\"},\"mode\":\"lines\",\"text\":[\"diapause_signaling_aquaporins_drosophila_melanogaster\",\"\",\"\",\"stress_desiccation_review_proteins_genes\"],\"x\":[0.0,0.5140532785846177,0.5140532785846177,0.33458521498169014],\"xaxis\":\"x\",\"y\":[-15.0,-15.0,-30.0,-30.0],\"yaxis\":\"y\",\"type\":\"scatter\"},{\"hoverinfo\":\"text\",\"marker\":{\"color\":\"rgb(61,153,112)\"},\"mode\":\"lines\",\"text\":[\"proteins_stress_differentially expressed_rehydration_desiccation\",\"\",\"\",\"proteins_genes_stress_protein_desiccation\"],\"x\":[0.0,0.16494699622244358,0.16494699622244358,0.0],\"xaxis\":\"x\",\"y\":[-45.0,-45.0,-55.0,-55.0],\"yaxis\":\"y\",\"type\":\"scatter\"},{\"hoverinfo\":\"text\",\"marker\":{\"color\":\"rgb(61,153,112)\"},\"mode\":\"lines\",\"text\":[\"proteins_genes_stress_analysis_metabolism\",\"\",\"\",\"genes_endosperm_proteins_seed maturation_transcripts\"],\"x\":[0.16494699622244358,0.31779280442507996,0.31779280442507996,0.0],\"xaxis\":\"x\",\"y\":[-50.0,-50.0,-65.0,-65.0],\"yaxis\":\"y\",\"type\":\"scatter\"},{\"hoverinfo\":\"text\",\"marker\":{\"color\":\"rgb(61,153,112)\"},\"mode\":\"lines\",\"text\":[\"mechanisms_stress_desiccation_review_proteins\",\"\",\"\",\"genes_proteins_stress_analysis_desiccation\"],\"x\":[0.5140532785846177,0.5625422347707417,0.5625422347707417,0.31779280442507996],\"xaxis\":\"x\",\"y\":[-22.5,-22.5,-57.5,-57.5],\"yaxis\":\"y\",\"type\":\"scatter\"},{\"hoverinfo\":\"text\",\"marker\":{\"color\":\"rgb(61,153,112)\"},\"mode\":\"lines\",\"text\":[\"cuticle_hydrocarbons_insects_stress_pisum\",\"\",\"\",\"genes_proteins_stress_desiccation_mechanisms\"],\"x\":[0.0,0.7449514509749573,0.7449514509749573,0.5625422347707417],\"xaxis\":\"x\",\"y\":[-5.0,-5.0,-40.0,-40.0],\"yaxis\":\"y\",\"type\":\"scatter\"},{\"hoverinfo\":\"text\",\"marker\":{\"color\":\"rgb(61,153,112)\"},\"mode\":\"lines\",\"text\":[\"protein_genes_stress_desiccation_mrna\",\"\",\"\",\"protein_genes_proteins_gene_analysis\"],\"x\":[0.0,0.3106447180222117,0.3106447180222117,0.0],\"xaxis\":\"x\",\"y\":[-75.0,-75.0,-85.0,-85.0],\"yaxis\":\"y\",\"type\":\"scatter\"},{\"hoverinfo\":\"text\",\"marker\":{\"color\":\"rgb(61,153,112)\"},\"mode\":\"lines\",\"text\":[\"protein_gene_proteins_genes_analysis\",\"\",\"\",\"proteins_late embryogenesis abundant_embryogenesis abundant_lea protein_late embryogenesis\"],\"x\":[0.3106447180222117,0.44570066443736917,0.44570066443736917,0.0],\"xaxis\":\"x\",\"y\":[-80.0,-80.0,-95.0,-95.0],\"yaxis\":\"y\",\"type\":\"scatter\"},{\"hoverinfo\":\"text\",\"marker\":{\"color\":\"rgb(61,153,112)\"},\"mode\":\"lines\",\"text\":[\"genes_proteins_stress_desiccation_desiccation tolerance\",\"\",\"\",\"protein_genes_stress_embryogenesis_late embryogenesis\"],\"x\":[0.7449514509749573,0.7575147492344564,0.7575147492344564,0.44570066443736917],\"xaxis\":\"x\",\"y\":[-22.5,-22.5,-87.5,-87.5],\"yaxis\":\"y\",\"type\":\"scatter\"},{\"hoverinfo\":\"text\",\"marker\":{\"color\":\"rgb(61,153,112)\"},\"mode\":\"lines\",\"text\":[\"stress_drought_arabidopsis_genes_drought stress\",\"\",\"\",\"stress_transgenic plants_wild type_abiotic stress_analysis\"],\"x\":[0.0,0.2634260654056382,0.2634260654056382,0.0],\"xaxis\":\"x\",\"y\":[-115.0,-115.0,-125.0,-125.0],\"yaxis\":\"y\",\"type\":\"scatter\"},{\"hoverinfo\":\"text\",\"marker\":{\"color\":\"rgb(61,153,112)\"},\"mode\":\"lines\",\"text\":[\"stress_abiotic stress_arabidopsis_transgenic plants_wild\",\"\",\"\",\"stress_gene_proteins_arabidopsis_stress tolerance\"],\"x\":[0.2634260654056382,0.2849391328935367,0.2849391328935367,0.0],\"xaxis\":\"x\",\"y\":[-120.0,-120.0,-135.0,-135.0],\"yaxis\":\"y\",\"type\":\"scatter\"},{\"hoverinfo\":\"text\",\"marker\":{\"color\":\"rgb(61,153,112)\"},\"mode\":\"lines\",\"text\":[\"abi3_arabidopsis_genes_stress_wild type\",\"\",\"\",\"stress_arabidopsis_abiotic stress_showed_transgenic plants\"],\"x\":[0.0,0.40571700712764597,0.40571700712764597,0.2849391328935367],\"xaxis\":\"x\",\"y\":[-105.0,-105.0,-127.5,-127.5],\"yaxis\":\"y\",\"type\":\"scatter\"},{\"hoverinfo\":\"text\",\"marker\":{\"color\":\"rgb(61,153,112)\"},\"mode\":\"lines\",\"text\":[\"proteins_genes_stress_desiccation_plant\",\"\",\"\",\"stress_gene_arabidopsis_wild type_type\"],\"x\":[0.7575147492344564,0.8727939812732624,0.8727939812732624,0.40571700712764597],\"xaxis\":\"x\",\"y\":[-55.0,-55.0,-116.25,-116.25],\"yaxis\":\"y\",\"type\":\"scatter\"},{\"hoverinfo\":\"text\",\"marker\":{\"color\":\"rgb(255,65,54)\"},\"mode\":\"lines\",\"text\":[\"trehalose_trehalose phosphate_trehalose synthesis_stress_trehalose accumulation\",\"\",\"\",\"trehalose_mammalian cells_membrane_viability_vacuum\"],\"x\":[0.0,0.497638540658514,0.497638540658514,0.0],\"xaxis\":\"x\",\"y\":[-145.0,-145.0,-155.0,-155.0],\"yaxis\":\"y\",\"type\":\"scatter\"},{\"hoverinfo\":\"text\",\"marker\":{\"color\":\"rgb(255,65,54)\"},\"mode\":\"lines\",\"text\":[\"trehalose_rehydration_desiccation_anhydrobiosis_state\",\"\",\"\",\"stress_saccharomyces_saccharomyces cerevisiae_dehydration rehydration_genes\"],\"x\":[0.0,0.37561439696833143,0.37561439696833143,0.0],\"xaxis\":\"x\",\"y\":[-165.0,-165.0,-175.0,-175.0],\"yaxis\":\"y\",\"type\":\"scatter\"},{\"hoverinfo\":\"text\",\"marker\":{\"color\":\"rgb(255,65,54)\"},\"mode\":\"lines\",\"text\":[\"trehalose_mammalian cells_trehalose phosphate_yeast_synthesis\",\"\",\"\",\"trehalose_rehydration_stress_saccharomyces_desiccation\"],\"x\":[0.497638540658514,0.5821537507521213,0.5821537507521213,0.37561439696833143],\"xaxis\":\"x\",\"y\":[-150.0,-150.0,-170.0,-170.0],\"yaxis\":\"y\",\"type\":\"scatter\"},{\"hoverinfo\":\"text\",\"marker\":{\"color\":\"rgb(255,65,54)\"},\"mode\":\"lines\",\"text\":[\"sucrose_water_glassy_properties_temperature\",\"\",\"\",\"trehalose_solutes_transition temperature_lipids_phase transition\"],\"x\":[0.0,0.4483888953175653,0.4483888953175653,0.0],\"xaxis\":\"x\",\"y\":[-195.0,-195.0,-205.0,-205.0],\"yaxis\":\"y\",\"type\":\"scatter\"},{\"hoverinfo\":\"text\",\"marker\":{\"color\":\"rgb(255,65,54)\"},\"mode\":\"lines\",\"text\":[\"cell wall_organelles_electron microscopy_vacuoles_cell walls\",\"\",\"\",\"glassy_temperature_properties_transition temperature_glass transition\"],\"x\":[0.0,0.7314831887222022,0.7314831887222022,0.4483888953175653],\"xaxis\":\"x\",\"y\":[-185.0,-185.0,-200.0,-200.0],\"yaxis\":\"y\",\"type\":\"scatter\"},{\"hoverinfo\":\"text\",\"marker\":{\"color\":\"rgb(255,65,54)\"},\"mode\":\"lines\",\"text\":[\"trehalose_yeast_stress_rehydration_desiccation\",\"\",\"\",\"water_glassy_stability_proteins_transition temperature\"],\"x\":[0.5821537507521213,0.8492365707527777,0.8492365707527777,0.7314831887222022],\"xaxis\":\"x\",\"y\":[-160.0,-160.0,-192.5,-192.5],\"yaxis\":\"y\",\"type\":\"scatter\"},{\"hoverinfo\":\"text\",\"marker\":{\"color\":\"rgb(35,205,205)\"},\"mode\":\"lines\",\"text\":[\"moisture_moisture content_desiccation_water_desiccation tolerance\",\"\",\"\",\"recalcitrant seeds_metabolic rate_water content_desiccation_processes\"],\"x\":[0.0,0.3905336826750744,0.3905336826750744,0.0],\"xaxis\":\"x\",\"y\":[-225.0,-225.0,-235.0,-235.0],\"yaxis\":\"y\",\"type\":\"scatter\"},{\"hoverinfo\":\"text\",\"marker\":{\"color\":\"rgb(35,205,205)\"},\"mode\":\"lines\",\"text\":[\"cryopreservation_ex situ_species_long term_germplasm\",\"\",\"\",\"moisture_moisture content_desiccation_desiccation tolerance_recalcitrant\"],\"x\":[0.0,0.5539713716752935,0.5539713716752935,0.3905336826750744],\"xaxis\":\"x\",\"y\":[-215.0,-215.0,-230.0,-230.0],\"yaxis\":\"y\",\"type\":\"scatter\"},{\"hoverinfo\":\"text\",\"marker\":{\"color\":\"rgb(35,205,205)\"},\"mode\":\"lines\",\"text\":[\"acid_synthesis_accumulation_rehydration_acids\",\"\",\"\",\"glutathione_ascorbate_activity_reductase_norway\"],\"x\":[0.0,0.4688497766133901,0.4688497766133901,0.0],\"xaxis\":\"x\",\"y\":[-245.0,-245.0,-255.0,-255.0],\"yaxis\":\"y\",\"type\":\"scatter\"},{\"hoverinfo\":\"text\",\"marker\":{\"color\":\"rgb(35,205,205)\"},\"mode\":\"lines\",\"text\":[\"drought_water_genotypes_stress_stomatal\",\"\",\"\",\"chemical_endosperm_injury_somatic embryos_application\"],\"x\":[0.0,0.44209972129936526,0.44209972129936526,0.0],\"xaxis\":\"x\",\"y\":[-265.0,-265.0,-275.0,-275.0],\"yaxis\":\"y\",\"type\":\"scatter\"},{\"hoverinfo\":\"text\",\"marker\":{\"color\":\"rgb(35,205,205)\"},\"mode\":\"lines\",\"text\":[\"cultivars_stress_soil_growth_stomatal\",\"\",\"\",\"somatic embryos_medium_cryopreservation_embryogenic_regeneration\"],\"x\":[0.44209972129936526,0.6024430247245306,0.6024430247245306,0.0],\"xaxis\":\"x\",\"y\":[-270.0,-270.0,-285.0,-285.0],\"yaxis\":\"y\",\"type\":\"scatter\"},{\"hoverinfo\":\"text\",\"marker\":{\"color\":\"rgb(35,205,205)\"},\"mode\":\"lines\",\"text\":[\"glutathione_ascorbate_activity_leaves_sod\",\"\",\"\",\"somatic embryos_medium_drought_water_leaf\"],\"x\":[0.4688497766133901,0.7016666773038888,0.7016666773038888,0.6024430247245306],\"xaxis\":\"x\",\"y\":[-250.0,-250.0,-277.5,-277.5],\"yaxis\":\"y\",\"type\":\"scatter\"},{\"hoverinfo\":\"text\",\"marker\":{\"color\":\"rgb(35,205,205)\"},\"mode\":\"lines\",\"text\":[\"moisture content_desiccation_viability_species_water\",\"\",\"\",\"aba_somatic embryos_medium_water_desiccation\"],\"x\":[0.5539713716752935,0.8898805744760917,0.8898805744760917,0.7016666773038888],\"xaxis\":\"x\",\"y\":[-222.5,-222.5,-263.75,-263.75],\"yaxis\":\"y\",\"type\":\"scatter\"},{\"hoverinfo\":\"text\",\"marker\":{\"color\":\"rgb(133,20,75)\"},\"mode\":\"lines\",\"text\":[\"inositol_stachyose_galactinol_myo inositol_soybean\",\"\",\"\",\"galactinol synthase_oligosaccharides_family oligosaccharides_raffinose family oligosaccharides_galactose\"],\"x\":[0.0,0.38115965255013595,0.38115965255013595,0.0],\"xaxis\":\"x\",\"y\":[-305.0,-305.0,-315.0,-315.0],\"yaxis\":\"y\",\"type\":\"scatter\"},{\"hoverinfo\":\"text\",\"marker\":{\"color\":\"rgb(133,20,75)\"},\"mode\":\"lines\",\"text\":[\"stachyose_oligosaccharides_carbohydrate_raffinose stachyose_raffinose family\",\"\",\"\",\"myo inositol_raffinose stachyose_oligosaccharides_galactinol synthase_galactose\"],\"x\":[0.0,0.539643813589349,0.539643813589349,0.38115965255013595],\"xaxis\":\"x\",\"y\":[-295.0,-295.0,-310.0,-310.0],\"yaxis\":\"y\",\"type\":\"scatter\"},{\"hoverinfo\":\"text\",\"marker\":{\"color\":\"rgb(0,116,217)\"},\"mode\":\"lines\",\"text\":[\"desiccation_water_moisture_degrees_moisture content\",\"\",\"\",\"stachyose_inositol_oligosaccharides_raffinose stachyose_myo inositol\"],\"x\":[0.8898805744760917,1.1602508234305955,1.1602508234305955,0.539643813589349],\"xaxis\":\"x\",\"y\":[-243.125,-243.125,-302.5,-302.5],\"yaxis\":\"y\",\"type\":\"scatter\"},{\"hoverinfo\":\"text\",\"marker\":{\"color\":\"rgb(0,116,217)\"},\"mode\":\"lines\",\"text\":[\"trehalose_yeast_membrane_desiccation_rehydration\",\"\",\"\",\"desiccation_water_moisture_moisture content_cryopreservation\"],\"x\":[0.8492365707527777,1.2739604406414888,1.2739604406414888,1.1602508234305955],\"xaxis\":\"x\",\"y\":[-176.25,-176.25,-272.8125,-272.8125],\"yaxis\":\"y\",\"type\":\"scatter\"},{\"hoverinfo\":\"text\",\"marker\":{\"color\":\"rgb(255,220,0)\"},\"mode\":\"lines\",\"text\":[\"species_richness_bryophyte_communities_environmental\",\"\",\"\",\"climate_drought_species_climate change_events\"],\"x\":[0.0,0.3613453039483564,0.3613453039483564,0.0],\"xaxis\":\"x\",\"y\":[-335.0,-335.0,-345.0,-345.0],\"yaxis\":\"y\",\"type\":\"scatter\"},{\"hoverinfo\":\"text\",\"marker\":{\"color\":\"rgb(255,220,0)\"},\"mode\":\"lines\",\"text\":[\"species_water_traits_drought_desiccation\",\"\",\"\",\"species_richness_communities_environmental_bryophyte\"],\"x\":[0.0,0.4510158458692098,0.4510158458692098,0.3613453039483564],\"xaxis\":\"x\",\"y\":[-325.0,-325.0,-340.0,-340.0],\"yaxis\":\"y\",\"type\":\"scatter\"},{\"hoverinfo\":\"text\",\"marker\":{\"color\":\"rgb(255,220,0)\"},\"mode\":\"lines\",\"text\":[\"species_traits_climate_desiccation_physiological\",\"\",\"\",\"species_intertidal_water_snails_habitat\"],\"x\":[0.0,0.31750556569593835,0.31750556569593835,0.0],\"xaxis\":\"x\",\"y\":[-355.0,-355.0,-365.0,-365.0],\"yaxis\":\"y\",\"type\":\"scatter\"},{\"hoverinfo\":\"text\",\"marker\":{\"color\":\"rgb(255,220,0)\"},\"mode\":\"lines\",\"text\":[\"climate_drought_bryophyte_richness_communities\",\"\",\"\",\"species_desiccation_climate_intertidal_habitat\"],\"x\":[0.4510158458692098,0.46861131081314333,0.46861131081314333,0.31750556569593835],\"xaxis\":\"x\",\"y\":[-332.5,-332.5,-360.0,-360.0],\"yaxis\":\"y\",\"type\":\"scatter\"},{\"hoverinfo\":\"text\",\"marker\":{\"color\":\"rgb(255,220,0)\"},\"mode\":\"lines\",\"text\":[\"selection_drosophila_melanogaster_stress resistance_desiccation resistance\",\"\",\"\",\"desiccation resistance_drosophila_starvation_desiccation_melanogaster\"],\"x\":[0.0,0.2603986683181784,0.2603986683181784,0.0],\"xaxis\":\"x\",\"y\":[-375.0,-375.0,-385.0,-385.0],\"yaxis\":\"y\",\"type\":\"scatter\"},{\"hoverinfo\":\"text\",\"marker\":{\"color\":\"rgb(255,220,0)\"},\"mode\":\"lines\",\"text\":[\"species_climate_traits_distribution_desiccation\",\"\",\"\",\"drosophila_desiccation resistance_selection_desiccation_cuticular\"],\"x\":[0.46861131081314333,0.8960004180607922,0.8960004180607922,0.2603986683181784],\"xaxis\":\"x\",\"y\":[-346.25,-346.25,-380.0,-380.0],\"yaxis\":\"y\",\"type\":\"scatter\"},{\"hoverinfo\":\"text\",\"marker\":{\"color\":\"rgb(40,35,35)\"},\"mode\":\"lines\",\"text\":[\"water_survival_desiccation_acclimation_loss\",\"\",\"\",\"temperature_cold_species_supercooling_water loss\"],\"x\":[0.0,0.26781997076176056,0.26781997076176056,0.0],\"xaxis\":\"x\",\"y\":[-395.0,-395.0,-405.0,-405.0],\"yaxis\":\"y\",\"type\":\"scatter\"},{\"hoverinfo\":\"text\",\"marker\":{\"color\":\"rgb(40,35,35)\"},\"mode\":\"lines\",\"text\":[\"desiccation_water_study_stress_epiphytic\",\"\",\"\",\"desiccation_water_activity_resurrection_stress\"],\"x\":[0.0,0.297680859025255,0.297680859025255,0.0],\"xaxis\":\"x\",\"y\":[-415.0,-415.0,-425.0,-425.0],\"yaxis\":\"y\",\"type\":\"scatter\"},{\"hoverinfo\":\"text\",\"marker\":{\"color\":\"rgb(40,35,35)\"},\"mode\":\"lines\",\"text\":[\"water_species_moss_desiccation_photosynthesis\",\"\",\"\",\"mu mol_photosynthesis_water_shade_desiccation\"],\"x\":[0.0,0.34784105577362157,0.34784105577362157,0.0],\"xaxis\":\"x\",\"y\":[-435.0,-435.0,-445.0,-445.0],\"yaxis\":\"y\",\"type\":\"scatter\"},{\"hoverinfo\":\"text\",\"marker\":{\"color\":\"rgb(40,35,35)\"},\"mode\":\"lines\",\"text\":[\"desiccation_water_stress_resurrection_increased\",\"\",\"\",\"water_photosynthesis_light_mu mol_desiccation\"],\"x\":[0.297680859025255,0.4260751740184457,0.4260751740184457,0.34784105577362157],\"xaxis\":\"x\",\"y\":[-420.0,-420.0,-440.0,-440.0],\"yaxis\":\"y\",\"type\":\"scatter\"},{\"hoverinfo\":\"text\",\"marker\":{\"color\":\"rgb(40,35,35)\"},\"mode\":\"lines\",\"text\":[\"species_lichens_habitats_light_study\",\"\",\"\",\"tardigrades_anhydrobiosis_strains_anhydrobiotic_survival\"],\"x\":[0.0,0.3257752828413303,0.3257752828413303,0.0],\"xaxis\":\"x\",\"y\":[-455.0,-455.0,-465.0,-465.0],\"yaxis\":\"y\",\"type\":\"scatter\"},{\"hoverinfo\":\"text\",\"marker\":{\"color\":\"rgb(40,35,35)\"},\"mode\":\"lines\",\"text\":[\"desiccation_water_photosynthesis_species_leaves\",\"\",\"\",\"species_tardigrades_anhydrobiosis_desiccation_habitats\"],\"x\":[0.4260751740184457,0.5816874438808429,0.5816874438808429,0.3257752828413303],\"xaxis\":\"x\",\"y\":[-430.0,-430.0,-460.0,-460.0],\"yaxis\":\"y\",\"type\":\"scatter\"},{\"hoverinfo\":\"text\",\"marker\":{\"color\":\"rgb(40,35,35)\"},\"mode\":\"lines\",\"text\":[\"cold_desiccation_survival_acclimation_water loss\",\"\",\"\",\"desiccation_water_species_rehydration_light\"],\"x\":[0.26781997076176056,0.7092159932997628,0.7092159932997628,0.5816874438808429],\"xaxis\":\"x\",\"y\":[-400.0,-400.0,-445.0,-445.0],\"yaxis\":\"y\",\"type\":\"scatter\"},{\"hoverinfo\":\"text\",\"marker\":{\"color\":\"rgb(40,35,35)\"},\"mode\":\"lines\",\"text\":[\"strain_desiccation_mutants_bacteria_stress\",\"\",\"\",\"strains_medium_media_biocontrol_rhizobia\"],\"x\":[0.0,0.45257413420500114,0.45257413420500114,0.0],\"xaxis\":\"x\",\"y\":[-475.0,-475.0,-485.0,-485.0],\"yaxis\":\"y\",\"type\":\"scatter\"},{\"hoverinfo\":\"text\",\"marker\":{\"color\":\"rgb(40,35,35)\"},\"mode\":\"lines\",\"text\":[\"strain_desiccation_stress_trehalose_growth\",\"\",\"\",\"nematodes_heterorhabditis_entomopathogenic_steinernema_infective\"],\"x\":[0.45257413420500114,0.5151565051708303,0.5151565051708303,0.0],\"xaxis\":\"x\",\"y\":[-480.0,-480.0,-495.0,-495.0],\"yaxis\":\"y\",\"type\":\"scatter\"},{\"hoverinfo\":\"text\",\"marker\":{\"color\":\"rgb(40,35,35)\"},\"mode\":\"lines\",\"text\":[\"water_desiccation_degrees_species_rehydration\",\"\",\"\",\"strain_desiccation_nematodes_stress_growth\"],\"x\":[0.7092159932997628,0.8451781143533452,0.8451781143533452,0.5151565051708303],\"xaxis\":\"x\",\"y\":[-422.5,-422.5,-487.5,-487.5],\"yaxis\":\"y\",\"type\":\"scatter\"},{\"hoverinfo\":\"text\",\"marker\":{\"color\":\"rgb(40,35,35)\"},\"mode\":\"lines\",\"text\":[\"soil_nematodes_anhydrobiosis_dry season_soil moisture\",\"\",\"\",\"soil_communities_biocrust_valleys_cyanobacteria\"],\"x\":[0.0,0.5031235354535435,0.5031235354535435,0.0],\"xaxis\":\"x\",\"y\":[-505.0,-505.0,-515.0,-515.0],\"yaxis\":\"y\",\"type\":\"scatter\"},{\"hoverinfo\":\"text\",\"marker\":{\"color\":\"rgb(40,35,35)\"},\"mode\":\"lines\",\"text\":[\"desiccation_water_degrees_species_conditions\",\"\",\"\",\"soil_nematodes_communities_anhydrobiosis_valleys\"],\"x\":[0.8451781143533452,0.9862029113063595,0.9862029113063595,0.5031235354535435],\"xaxis\":\"x\",\"y\":[-455.0,-455.0,-510.0,-510.0],\"yaxis\":\"y\",\"type\":\"scatter\"},{\"hoverinfo\":\"text\",\"marker\":{\"color\":\"rgb(0,116,217)\"},\"mode\":\"lines\",\"text\":[\"species_traits_desiccation_climate_desiccation resistance\",\"\",\"\",\"desiccation_water_degrees_species_conditions\"],\"x\":[0.8960004180607922,1.0889531983890048,1.0889531983890048,0.9862029113063595],\"xaxis\":\"x\",\"y\":[-363.125,-363.125,-482.5,-482.5],\"yaxis\":\"y\",\"type\":\"scatter\"},{\"hoverinfo\":\"text\",\"marker\":{\"color\":\"rgb(0,116,217)\"},\"mode\":\"lines\",\"text\":[\"desiccation_water_moisture_viability_trehalose\",\"\",\"\",\"species_desiccation_water_conditions_temperature\"],\"x\":[1.2739604406414888,1.6029708093239672,1.6029708093239672,1.0889531983890048],\"xaxis\":\"x\",\"y\":[-224.53125,-224.53125,-422.8125,-422.8125],\"yaxis\":\"y\",\"type\":\"scatter\"},{\"hoverinfo\":\"text\",\"marker\":{\"color\":\"rgb(0,116,217)\"},\"mode\":\"lines\",\"text\":[\"proteins_genes_stress_desiccation_drought\",\"\",\"\",\"desiccation_species_water_degrees_conditions\"],\"x\":[0.8727939812732624,1.8374062074286661,1.8374062074286661,1.6029708093239672],\"xaxis\":\"x\",\"y\":[-85.625,-85.625,-323.671875,-323.671875],\"yaxis\":\"y\",\"type\":\"scatter\"},{\"hoverinfo\":\"text\",\"hovertext\":[\"proteins_genes_stress_analysis_metabolism\",\"mechanisms_stress_desiccation_review_proteins\",\"protein_gene_proteins_genes_analysis\",\"genes_proteins_stress_desiccation_desiccation tolerance\",\"stress_abiotic stress_arabidopsis_transgenic plants_wild\",\"proteins_genes_stress_desiccation_plant\",\"trehalose_mammalian cells_trehalose phosphate_yeast_synthesis\",\"trehalose_yeast_stress_rehydration_desiccation\",\"cultivars_stress_soil_growth_stomatal\",\"glutathione_ascorbate_activity_leaves_sod\",\"moisture content_desiccation_viability_species_water\",\"desiccation_water_moisture_degrees_moisture content\",\"trehalose_yeast_membrane_desiccation_rehydration\",\"climate_drought_bryophyte_richness_communities\",\"species_climate_traits_distribution_desiccation\",\"desiccation_water_stress_resurrection_increased\",\"desiccation_water_photosynthesis_species_leaves\",\"cold_desiccation_survival_acclimation_water loss\",\"strain_desiccation_stress_trehalose_growth\",\"water_desiccation_degrees_species_rehydration\",\"desiccation_water_degrees_species_conditions\",\"species_traits_desiccation_climate_desiccation resistance\",\"desiccation_water_moisture_viability_trehalose\",\"proteins_genes_stress_desiccation_drought\"],\"marker\":{\"color\":\"black\"},\"mode\":\"markers\",\"showlegend\":false,\"x\":[0.16494699622244358,0.5140532785846177,0.3106447180222117,0.7449514509749573,0.2634260654056382,0.7575147492344564,0.497638540658514,0.5821537507521213,0.44209972129936526,0.4688497766133901,0.5539713716752935,0.8898805744760917,0.8492365707527777,0.4510158458692098,0.46861131081314333,0.297680859025255,0.4260751740184457,0.26781997076176056,0.45257413420500114,0.7092159932997628,0.8451781143533452,0.8960004180607922,1.2739604406414888,0.8727939812732624],\"y\":[-50.0,-22.5,-80.0,-22.5,-120.0,-55.0,-150.0,-160.0,-270.0,-250.0,-222.5,-243.125,-176.25,-332.5,-346.25,-420.0,-430.0,-400.0,-480.0,-422.5,-455.0,-363.125,-224.53125,-85.625],\"type\":\"scatter\"},{\"hoverinfo\":\"text\",\"hovertext\":[\"stress_desiccation_review_proteins_genes\",\"genes_proteins_stress_analysis_desiccation\",\"genes_proteins_stress_desiccation_mechanisms\",\"protein_genes_stress_embryogenesis_late embryogenesis\",\"stress_arabidopsis_abiotic stress_showed_transgenic plants\",\"stress_gene_arabidopsis_wild type_type\",\"trehalose_rehydration_stress_saccharomyces_desiccation\",\"glassy_temperature_properties_transition temperature_glass transition\",\"water_glassy_stability_proteins_transition temperature\",\"moisture_moisture content_desiccation_desiccation tolerance_recalcitrant\",\"somatic embryos_medium_drought_water_leaf\",\"aba_somatic embryos_medium_water_desiccation\",\"myo inositol_raffinose stachyose_oligosaccharides_galactinol synthase_galactose\",\"stachyose_inositol_oligosaccharides_raffinose stachyose_myo inositol\",\"desiccation_water_moisture_moisture content_cryopreservation\",\"species_richness_communities_environmental_bryophyte\",\"species_desiccation_climate_intertidal_habitat\",\"drosophila_desiccation resistance_selection_desiccation_cuticular\",\"water_photosynthesis_light_mu mol_desiccation\",\"species_tardigrades_anhydrobiosis_desiccation_habitats\",\"desiccation_water_species_rehydration_light\",\"strain_desiccation_nematodes_stress_growth\",\"soil_nematodes_communities_anhydrobiosis_valleys\",\"desiccation_water_degrees_species_conditions\",\"species_desiccation_water_conditions_temperature\",\"desiccation_species_water_degrees_conditions\"],\"marker\":{\"color\":\"black\"},\"mode\":\"markers\",\"showlegend\":false,\"x\":[0.33458521498169014,0.31779280442507996,0.5625422347707417,0.44570066443736917,0.2849391328935367,0.40571700712764597,0.37561439696833143,0.4483888953175653,0.7314831887222022,0.3905336826750744,0.6024430247245306,0.7016666773038888,0.38115965255013595,0.539643813589349,1.1602508234305955,0.3613453039483564,0.31750556569593835,0.2603986683181784,0.34784105577362157,0.3257752828413303,0.5816874438808429,0.5151565051708303,0.5031235354535435,0.9862029113063595,1.0889531983890048,1.6029708093239672],\"y\":[-30.0,-57.5,-40.0,-87.5,-127.5,-116.25,-170.0,-200.0,-192.5,-230.0,-277.5,-263.75,-310.0,-302.5,-272.8125,-340.0,-360.0,-380.0,-440.0,-460.0,-445.0,-487.5,-510.0,-482.5,-422.8125,-323.671875],\"type\":\"scatter\"}],                        {\"autosize\":false,\"height\":980,\"hovermode\":\"closest\",\"showlegend\":false,\"width\":1000,\"xaxis\":{\"mirror\":\"allticks\",\"rangemode\":\"tozero\",\"showgrid\":false,\"showline\":true,\"showticklabels\":true,\"ticks\":\"outside\",\"type\":\"linear\",\"zeroline\":false},\"yaxis\":{\"mirror\":\"allticks\",\"rangemode\":\"tozero\",\"showgrid\":false,\"showline\":true,\"showticklabels\":true,\"tickmode\":\"array\",\"ticks\":\"outside\",\"ticktext\":[\"49_cuticle_hydrocarbons_ins...\",\"39_diapause_signaling_aquap...\",\"1_mechanisms_review_stress\",\"18_evolution_genomes_species\",\"10_proteins_stress_differen...\",\"32_proteins_genes_stress\",\"37_genes_endosperm_proteins\",\"8_protein_genes_stress\",\"45_protein_genes_proteins\",\"9_proteins_late embryogenes...\",\"14_abi3_arabidopsis_genes\",\"19_stress_drought_arabidopsis\",\"46_stress_transgenic plants...\",\"51_stress_gene_proteins\",\"48_trehalose_trehalose phos...\",\"24_trehalose_mammalian cell...\",\"29_trehalose_rehydration_de...\",\"35_stress_saccharomyces_sac...\",\"47_cell wall_organelles_ele...\",\"43_sucrose_water_glassy\",\"28_trehalose_solutes_transi...\",\"11_cryopreservation_ex situ...\",\"0_moisture_moisture content...\",\"36_recalcitrant seeds_metab...\",\"41_acid_synthesis_accumulat...\",\"20_glutathione_ascorbate_ac...\",\"6_drought_water_genotypes\",\"33_chemical_endosperm_injury\",\"2_somatic embryos_medium_cr...\",\"40_stachyose_oligosaccharid...\",\"27_inositol_stachyose_galac...\",\"42_galactinol synthase_olig...\",\"25_species_water_traits\",\"12_species_richness_bryophyte\",\"31_climate_drought_species\",\"13_species_traits_climate\",\"7_species_intertidal_water\",\"22_selection_drosophila_mel...\",\"16_desiccation resistance_d...\",\"34_water_survival_desiccation\",\"17_temperature_cold_species\",\"26_desiccation_water_study\",\"3_desiccation_water_activity\",\"30_water_species_moss\",\"23_mu mol_photosynthesis_wa...\",\"50_species_lichens_habitats\",\"4_tardigrades_anhydrobiosis...\",\"5_strain_desiccation_mutants\",\"21_strains_medium_media\",\"15_nematodes_heterorhabditi...\",\"38_soil_nematodes_anhydrobi...\",\"44_soil_communities_biocrust\"],\"tickvals\":[-5.0,-15.0,-25.0,-35.0,-45.0,-55.0,-65.0,-75.0,-85.0,-95.0,-105.0,-115.0,-125.0,-135.0,-145.0,-155.0,-165.0,-175.0,-185.0,-195.0,-205.0,-215.0,-225.0,-235.0,-245.0,-255.0,-265.0,-275.0,-285.0,-295.0,-305.0,-315.0,-325.0,-335.0,-345.0,-355.0,-365.0,-375.0,-385.0,-395.0,-405.0,-415.0,-425.0,-435.0,-445.0,-455.0,-465.0,-475.0,-485.0,-495.0,-505.0,-515.0],\"type\":\"linear\",\"zeroline\":false,\"range\":[-520.0,0.0]},\"template\":{\"data\":{\"barpolar\":[{\"marker\":{\"line\":{\"color\":\"white\",\"width\":0.5},\"pattern\":{\"fillmode\":\"overlay\",\"size\":10,\"solidity\":0.2}},\"type\":\"barpolar\"}],\"bar\":[{\"error_x\":{\"color\":\"#2a3f5f\"},\"error_y\":{\"color\":\"#2a3f5f\"},\"marker\":{\"line\":{\"color\":\"white\",\"width\":0.5},\"pattern\":{\"fillmode\":\"overlay\",\"size\":10,\"solidity\":0.2}},\"type\":\"bar\"}],\"carpet\":[{\"aaxis\":{\"endlinecolor\":\"#2a3f5f\",\"gridcolor\":\"#C8D4E3\",\"linecolor\":\"#C8D4E3\",\"minorgridcolor\":\"#C8D4E3\",\"startlinecolor\":\"#2a3f5f\"},\"baxis\":{\"endlinecolor\":\"#2a3f5f\",\"gridcolor\":\"#C8D4E3\",\"linecolor\":\"#C8D4E3\",\"minorgridcolor\":\"#C8D4E3\",\"startlinecolor\":\"#2a3f5f\"},\"type\":\"carpet\"}],\"choropleth\":[{\"colorbar\":{\"outlinewidth\":0,\"ticks\":\"\"},\"type\":\"choropleth\"}],\"contourcarpet\":[{\"colorbar\":{\"outlinewidth\":0,\"ticks\":\"\"},\"type\":\"contourcarpet\"}],\"contour\":[{\"colorbar\":{\"outlinewidth\":0,\"ticks\":\"\"},\"colorscale\":[[0.0,\"#0d0887\"],[0.1111111111111111,\"#46039f\"],[0.2222222222222222,\"#7201a8\"],[0.3333333333333333,\"#9c179e\"],[0.4444444444444444,\"#bd3786\"],[0.5555555555555556,\"#d8576b\"],[0.6666666666666666,\"#ed7953\"],[0.7777777777777778,\"#fb9f3a\"],[0.8888888888888888,\"#fdca26\"],[1.0,\"#f0f921\"]],\"type\":\"contour\"}],\"heatmapgl\":[{\"colorbar\":{\"outlinewidth\":0,\"ticks\":\"\"},\"colorscale\":[[0.0,\"#0d0887\"],[0.1111111111111111,\"#46039f\"],[0.2222222222222222,\"#7201a8\"],[0.3333333333333333,\"#9c179e\"],[0.4444444444444444,\"#bd3786\"],[0.5555555555555556,\"#d8576b\"],[0.6666666666666666,\"#ed7953\"],[0.7777777777777778,\"#fb9f3a\"],[0.8888888888888888,\"#fdca26\"],[1.0,\"#f0f921\"]],\"type\":\"heatmapgl\"}],\"heatmap\":[{\"colorbar\":{\"outlinewidth\":0,\"ticks\":\"\"},\"colorscale\":[[0.0,\"#0d0887\"],[0.1111111111111111,\"#46039f\"],[0.2222222222222222,\"#7201a8\"],[0.3333333333333333,\"#9c179e\"],[0.4444444444444444,\"#bd3786\"],[0.5555555555555556,\"#d8576b\"],[0.6666666666666666,\"#ed7953\"],[0.7777777777777778,\"#fb9f3a\"],[0.8888888888888888,\"#fdca26\"],[1.0,\"#f0f921\"]],\"type\":\"heatmap\"}],\"histogram2dcontour\":[{\"colorbar\":{\"outlinewidth\":0,\"ticks\":\"\"},\"colorscale\":[[0.0,\"#0d0887\"],[0.1111111111111111,\"#46039f\"],[0.2222222222222222,\"#7201a8\"],[0.3333333333333333,\"#9c179e\"],[0.4444444444444444,\"#bd3786\"],[0.5555555555555556,\"#d8576b\"],[0.6666666666666666,\"#ed7953\"],[0.7777777777777778,\"#fb9f3a\"],[0.8888888888888888,\"#fdca26\"],[1.0,\"#f0f921\"]],\"type\":\"histogram2dcontour\"}],\"histogram2d\":[{\"colorbar\":{\"outlinewidth\":0,\"ticks\":\"\"},\"colorscale\":[[0.0,\"#0d0887\"],[0.1111111111111111,\"#46039f\"],[0.2222222222222222,\"#7201a8\"],[0.3333333333333333,\"#9c179e\"],[0.4444444444444444,\"#bd3786\"],[0.5555555555555556,\"#d8576b\"],[0.6666666666666666,\"#ed7953\"],[0.7777777777777778,\"#fb9f3a\"],[0.8888888888888888,\"#fdca26\"],[1.0,\"#f0f921\"]],\"type\":\"histogram2d\"}],\"histogram\":[{\"marker\":{\"pattern\":{\"fillmode\":\"overlay\",\"size\":10,\"solidity\":0.2}},\"type\":\"histogram\"}],\"mesh3d\":[{\"colorbar\":{\"outlinewidth\":0,\"ticks\":\"\"},\"type\":\"mesh3d\"}],\"parcoords\":[{\"line\":{\"colorbar\":{\"outlinewidth\":0,\"ticks\":\"\"}},\"type\":\"parcoords\"}],\"pie\":[{\"automargin\":true,\"type\":\"pie\"}],\"scatter3d\":[{\"line\":{\"colorbar\":{\"outlinewidth\":0,\"ticks\":\"\"}},\"marker\":{\"colorbar\":{\"outlinewidth\":0,\"ticks\":\"\"}},\"type\":\"scatter3d\"}],\"scattercarpet\":[{\"marker\":{\"colorbar\":{\"outlinewidth\":0,\"ticks\":\"\"}},\"type\":\"scattercarpet\"}],\"scattergeo\":[{\"marker\":{\"colorbar\":{\"outlinewidth\":0,\"ticks\":\"\"}},\"type\":\"scattergeo\"}],\"scattergl\":[{\"marker\":{\"colorbar\":{\"outlinewidth\":0,\"ticks\":\"\"}},\"type\":\"scattergl\"}],\"scattermapbox\":[{\"marker\":{\"colorbar\":{\"outlinewidth\":0,\"ticks\":\"\"}},\"type\":\"scattermapbox\"}],\"scatterpolargl\":[{\"marker\":{\"colorbar\":{\"outlinewidth\":0,\"ticks\":\"\"}},\"type\":\"scatterpolargl\"}],\"scatterpolar\":[{\"marker\":{\"colorbar\":{\"outlinewidth\":0,\"ticks\":\"\"}},\"type\":\"scatterpolar\"}],\"scatter\":[{\"fillpattern\":{\"fillmode\":\"overlay\",\"size\":10,\"solidity\":0.2},\"type\":\"scatter\"}],\"scatterternary\":[{\"marker\":{\"colorbar\":{\"outlinewidth\":0,\"ticks\":\"\"}},\"type\":\"scatterternary\"}],\"surface\":[{\"colorbar\":{\"outlinewidth\":0,\"ticks\":\"\"},\"colorscale\":[[0.0,\"#0d0887\"],[0.1111111111111111,\"#46039f\"],[0.2222222222222222,\"#7201a8\"],[0.3333333333333333,\"#9c179e\"],[0.4444444444444444,\"#bd3786\"],[0.5555555555555556,\"#d8576b\"],[0.6666666666666666,\"#ed7953\"],[0.7777777777777778,\"#fb9f3a\"],[0.8888888888888888,\"#fdca26\"],[1.0,\"#f0f921\"]],\"type\":\"surface\"}],\"table\":[{\"cells\":{\"fill\":{\"color\":\"#EBF0F8\"},\"line\":{\"color\":\"white\"}},\"header\":{\"fill\":{\"color\":\"#C8D4E3\"},\"line\":{\"color\":\"white\"}},\"type\":\"table\"}]},\"layout\":{\"annotationdefaults\":{\"arrowcolor\":\"#2a3f5f\",\"arrowhead\":0,\"arrowwidth\":1},\"autotypenumbers\":\"strict\",\"coloraxis\":{\"colorbar\":{\"outlinewidth\":0,\"ticks\":\"\"}},\"colorscale\":{\"diverging\":[[0,\"#8e0152\"],[0.1,\"#c51b7d\"],[0.2,\"#de77ae\"],[0.3,\"#f1b6da\"],[0.4,\"#fde0ef\"],[0.5,\"#f7f7f7\"],[0.6,\"#e6f5d0\"],[0.7,\"#b8e186\"],[0.8,\"#7fbc41\"],[0.9,\"#4d9221\"],[1,\"#276419\"]],\"sequential\":[[0.0,\"#0d0887\"],[0.1111111111111111,\"#46039f\"],[0.2222222222222222,\"#7201a8\"],[0.3333333333333333,\"#9c179e\"],[0.4444444444444444,\"#bd3786\"],[0.5555555555555556,\"#d8576b\"],[0.6666666666666666,\"#ed7953\"],[0.7777777777777778,\"#fb9f3a\"],[0.8888888888888888,\"#fdca26\"],[1.0,\"#f0f921\"]],\"sequentialminus\":[[0.0,\"#0d0887\"],[0.1111111111111111,\"#46039f\"],[0.2222222222222222,\"#7201a8\"],[0.3333333333333333,\"#9c179e\"],[0.4444444444444444,\"#bd3786\"],[0.5555555555555556,\"#d8576b\"],[0.6666666666666666,\"#ed7953\"],[0.7777777777777778,\"#fb9f3a\"],[0.8888888888888888,\"#fdca26\"],[1.0,\"#f0f921\"]]},\"colorway\":[\"#636efa\",\"#EF553B\",\"#00cc96\",\"#ab63fa\",\"#FFA15A\",\"#19d3f3\",\"#FF6692\",\"#B6E880\",\"#FF97FF\",\"#FECB52\"],\"font\":{\"color\":\"#2a3f5f\"},\"geo\":{\"bgcolor\":\"white\",\"lakecolor\":\"white\",\"landcolor\":\"white\",\"showlakes\":true,\"showland\":true,\"subunitcolor\":\"#C8D4E3\"},\"hoverlabel\":{\"align\":\"left\"},\"hovermode\":\"closest\",\"mapbox\":{\"style\":\"light\"},\"paper_bgcolor\":\"white\",\"plot_bgcolor\":\"white\",\"polar\":{\"angularaxis\":{\"gridcolor\":\"#EBF0F8\",\"linecolor\":\"#EBF0F8\",\"ticks\":\"\"},\"bgcolor\":\"white\",\"radialaxis\":{\"gridcolor\":\"#EBF0F8\",\"linecolor\":\"#EBF0F8\",\"ticks\":\"\"}},\"scene\":{\"xaxis\":{\"backgroundcolor\":\"white\",\"gridcolor\":\"#DFE8F3\",\"gridwidth\":2,\"linecolor\":\"#EBF0F8\",\"showbackground\":true,\"ticks\":\"\",\"zerolinecolor\":\"#EBF0F8\"},\"yaxis\":{\"backgroundcolor\":\"white\",\"gridcolor\":\"#DFE8F3\",\"gridwidth\":2,\"linecolor\":\"#EBF0F8\",\"showbackground\":true,\"ticks\":\"\",\"zerolinecolor\":\"#EBF0F8\"},\"zaxis\":{\"backgroundcolor\":\"white\",\"gridcolor\":\"#DFE8F3\",\"gridwidth\":2,\"linecolor\":\"#EBF0F8\",\"showbackground\":true,\"ticks\":\"\",\"zerolinecolor\":\"#EBF0F8\"}},\"shapedefaults\":{\"line\":{\"color\":\"#2a3f5f\"}},\"ternary\":{\"aaxis\":{\"gridcolor\":\"#DFE8F3\",\"linecolor\":\"#A2B1C6\",\"ticks\":\"\"},\"baxis\":{\"gridcolor\":\"#DFE8F3\",\"linecolor\":\"#A2B1C6\",\"ticks\":\"\"},\"bgcolor\":\"white\",\"caxis\":{\"gridcolor\":\"#DFE8F3\",\"linecolor\":\"#A2B1C6\",\"ticks\":\"\"}},\"title\":{\"x\":0.05},\"xaxis\":{\"automargin\":true,\"gridcolor\":\"#EBF0F8\",\"linecolor\":\"#EBF0F8\",\"ticks\":\"\",\"title\":{\"standoff\":15},\"zerolinecolor\":\"#EBF0F8\",\"zerolinewidth\":2},\"yaxis\":{\"automargin\":true,\"gridcolor\":\"#EBF0F8\",\"linecolor\":\"#EBF0F8\",\"ticks\":\"\",\"title\":{\"standoff\":15},\"zerolinecolor\":\"#EBF0F8\",\"zerolinewidth\":2}}},\"title\":{\"font\":{\"size\":22,\"color\":\"Black\"},\"text\":\"\\u003cb\\u003eHierarchical Clustering\\u003c\\u002fb\\u003e\",\"x\":0.5,\"xanchor\":\"center\",\"yanchor\":\"top\"},\"hoverlabel\":{\"font\":{\"size\":16,\"family\":\"Rockwell\"},\"bgcolor\":\"white\"},\"plot_bgcolor\":\"#ECEFF1\"},                        {\"responsive\": true}                    ).then(function(){\n",
       "                            \n",
       "var gd = document.getElementById('9498f606-7dde-4e6a-82c9-4a1a2417bca6');\n",
       "var x = new MutationObserver(function (mutations, observer) {{\n",
       "        var display = window.getComputedStyle(gd).display;\n",
       "        if (!display || display === 'none') {{\n",
       "            console.log([gd, 'removed!']);\n",
       "            Plotly.purge(gd);\n",
       "            observer.disconnect();\n",
       "        }}\n",
       "}});\n",
       "\n",
       "// Listen for the removal of the full notebook cells\n",
       "var notebookContainer = gd.closest('#notebook-container');\n",
       "if (notebookContainer) {{\n",
       "    x.observe(notebookContainer, {childList: true});\n",
       "}}\n",
       "\n",
       "// Listen for the clearing of the current output cell\n",
       "var outputEl = gd.closest('.output');\n",
       "if (outputEl) {{\n",
       "    x.observe(outputEl, {childList: true});\n",
       "}}\n",
       "\n",
       "                        })                };                });            </script>        </div>"
      ]
     },
     "metadata": {},
     "output_type": "display_data"
    }
   ],
   "source": [
    "fig = mmr_model.visualize_hierarchy(hierarchical_topics=hierarchical_topics)\n",
    "fig.show()\n",
    "fig.write_image('../data/citation_network/figures/hierarchical_figure_default_aesthetics.pdf')"
   ]
  }
 ],
 "metadata": {
  "kernelspec": {
   "display_name": "graphs",
   "language": "python",
   "name": "graphs"
  },
  "language_info": {
   "codemirror_mode": {
    "name": "ipython",
    "version": 3
   },
   "file_extension": ".py",
   "mimetype": "text/x-python",
   "name": "python",
   "nbconvert_exporter": "python",
   "pygments_lexer": "ipython3",
   "version": "3.10.13"
  }
 },
 "nbformat": 4,
 "nbformat_minor": 2
}
